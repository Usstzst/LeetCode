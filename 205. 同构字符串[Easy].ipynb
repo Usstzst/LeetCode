{
 "cells": [
  {
   "cell_type": "markdown",
   "metadata": {},
   "source": [
    "# 题目原意"
   ]
  },
  {
   "cell_type": "raw",
   "metadata": {},
   "source": [
    "给定两个字符串 s 和 t，判断它们是否是同构的。\n",
    "\n",
    "如果 s 中的字符可以被替换得到 t ，那么这两个字符串是同构的。\n",
    "\n",
    "所有出现的字符都必须用另一个字符替换，同时保留字符的顺序。两个字符不能映射到同一个字符上，但字符可以映射自己本身。"
   ]
  },
  {
   "cell_type": "raw",
   "metadata": {},
   "source": [
    "Example1：\n",
    "输入: s = \"egg\", t = \"add\"\n",
    "输出: true\n",
    "\n",
    "Example2：\n",
    "输入: s = \"paper\", t = \"title\"\n",
    "输出: true"
   ]
  },
  {
   "cell_type": "markdown",
   "metadata": {},
   "source": [
    "## 思路一"
   ]
  },
  {
   "cell_type": "raw",
   "metadata": {},
   "source": [
    "先遍历一遍s和t，将s到t的字符映射存放在dict中，遍历过程中如果发现某个位置的映射与已经确定的映射冲突则可以直接返回false。但这个过程无法发现“不同的字符映射到相同的字符”这一情况，所以最后还要判断得到的映射关系是否有重复。"
   ]
  },
  {
   "cell_type": "code",
   "execution_count": 1,
   "metadata": {},
   "outputs": [],
   "source": [
    "class Solution(object):\n",
    "    def isIsomorphic(self, s, t):\n",
    "        \"\"\"\n",
    "        :type s: str\n",
    "        :type t: str\n",
    "        :rtype: bool\n",
    "        \"\"\"\n",
    "        hashmap = {}\n",
    "        for i in xrange(len(s)):\n",
    "            if s[i] not in hashmap:\n",
    "                hashmap[s[i]] = t[i]\n",
    "            elif hashmap[s[i]] != t[i]:\n",
    "                return False\n",
    "        mapval = [hashmap[k] for k in hashmap]\n",
    "        return len(mapval) == len(set(mapval))\n"
   ]
  },
  {
   "cell_type": "markdown",
   "metadata": {},
   "source": [
    "## 思路二"
   ]
  },
  {
   "cell_type": "raw",
   "metadata": {},
   "source": [
    "类似上面的思路，为了避免在最后对hashmap中的值做“是否有重复”的判断，在遍历s和t的时候将已经经过映射的值保存在mapval这个dict中，这样在中途发现重复时也可以及时返回false。"
   ]
  },
  {
   "cell_type": "code",
   "execution_count": 2,
   "metadata": {},
   "outputs": [],
   "source": [
    "class Solution(object):\n",
    "    def isIsomorphic(self, s, t):\n",
    "        \"\"\"\n",
    "        :type s: str\n",
    "        :type t: str\n",
    "        :rtype: bool\n",
    "        \"\"\"\n",
    "        hashmap = {}\n",
    "        mapval = {}\n",
    "        for i in xrange(len(s)):\n",
    "            if s[i] in hashmap:\n",
    "                if hashmap[s[i]] != t[i]:\n",
    "                    return False\n",
    "            elif t[i] in mapval:\n",
    "                return False\n",
    "            else:\n",
    "                hashmap[s[i]] = t[i]\n",
    "                mapval[t[i]] = True\n",
    "        return True\n"
   ]
  },
  {
   "cell_type": "markdown",
   "metadata": {},
   "source": [
    "## 思路三"
   ]
  },
  {
   "cell_type": "raw",
   "metadata": {},
   "source": [
    "对于s和t，分别用一个数组记录每个字符在该字符串中上一次出现的位置。当同时遍历s和t时，如果发现它们在某一位置的字符上次出现的位置不同，则返回false。"
   ]
  },
  {
   "cell_type": "code",
   "execution_count": 3,
   "metadata": {},
   "outputs": [],
   "source": [
    "class Solution(object):\n",
    "    def isIsomorphic(self, s, t):\n",
    "        \"\"\"\n",
    "        :type s: str\n",
    "        :type t: str\n",
    "        :rtype: bool\n",
    "        \"\"\"\n",
    "        pos1, pos2 = [-1]*256, [-1]*256\n",
    "        for i in xrange(len(s)):\n",
    "            if pos1[ord(s[i])] != pos2[ord(t[i])]:\n",
    "                return False\n",
    "            pos1[ord(s[i])] = pos2[ord(t[i])] = i\n",
    "        return True\n"
   ]
  },
  {
   "cell_type": "markdown",
   "metadata": {},
   "source": [
    "## 思路四"
   ]
  },
  {
   "cell_type": "raw",
   "metadata": {},
   "source": [
    "与思路三类似，相当于思路三记录上次出现位置，而现在记录第一次出现的位置。 \n",
    "对于s，遍历将其每个字符第一次出现的位置记录成一个新的数组；对t做同样的处理。如果得到的两个数组相同，则说明这是一个符合要求的映射，s和t同构；否则不同构。 \n",
    "用Python的内置函数map和字符串的find函数，可以一行实现。"
   ]
  },
  {
   "cell_type": "code",
   "execution_count": 4,
   "metadata": {},
   "outputs": [],
   "source": [
    "class Solution(object):\n",
    "    def isIsomorphic(self, s, t):\n",
    "        \"\"\"\n",
    "        :type s: str\n",
    "        :type t: str\n",
    "        :rtype: bool\n",
    "        \"\"\"\n",
    "        return map(s.find, s) == map(t.find, t)\n"
   ]
  },
  {
   "cell_type": "markdown",
   "metadata": {},
   "source": [
    "## 思路五"
   ]
  },
  {
   "cell_type": "raw",
   "metadata": {},
   "source": [
    "根据题目描述的映射要求，s有多少种不同的字符，t也有多少种不同的字符。如果我们将映射写成字符对的形式，比如 (‘a’,’c’) 表示s中字符’a’映射到t中’c’，那么映射的个数与s中字符的种类数相同。 \n",
    "用Python的内置函数zip，也可以一行实现判断同构。"
   ]
  },
  {
   "cell_type": "code",
   "execution_count": 6,
   "metadata": {},
   "outputs": [],
   "source": [
    "class Solution(object):\n",
    "    def isIsomorphic(self, s, t):\n",
    "        \"\"\"\n",
    "        :type s: str\n",
    "        :type t: str\n",
    "        :rtype: bool\n",
    "        \"\"\"\n",
    "        return len(set(zip(s, t))) == len(set(s)) == len(set(t))\n",
    "\n"
   ]
  }
 ],
 "metadata": {
  "kernelspec": {
   "display_name": "Python 3",
   "language": "python",
   "name": "python3"
  },
  "language_info": {
   "codemirror_mode": {
    "name": "ipython",
    "version": 3
   },
   "file_extension": ".py",
   "mimetype": "text/x-python",
   "name": "python",
   "nbconvert_exporter": "python",
   "pygments_lexer": "ipython3",
   "version": "3.6.5"
  }
 },
 "nbformat": 4,
 "nbformat_minor": 2
}
