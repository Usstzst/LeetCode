{
 "cells": [
  {
   "cell_type": "markdown",
   "metadata": {},
   "source": [
    "# 题目原意"
   ]
  },
  {
   "cell_type": "raw",
   "metadata": {},
   "source": [
    "给定圆的半径和圆心的 x、y 坐标，写一个在圆中产生均匀随机点的函数 randPoint 。\n",
    "\n",
    "说明:\n",
    "输入值和输出值都将是浮点数。\n",
    "圆的半径和圆心的 x、y 坐标将作为参数传递给类的构造函数。\n",
    "圆周上的点也认为是在圆中。\n",
    "randPoint 返回一个包含随机点的x坐标和y坐标的大小为2的数组。\n"
   ]
  },
  {
   "cell_type": "raw",
   "metadata": {},
   "source": [
    "示例 1：\n",
    "输入: \n",
    "[\"Solution\",\"randPoint\",\"randPoint\",\"randPoint\"]\n",
    "[[1,0,0],[],[],[]]\n",
    "输出: [null,[-0.72939,-0.65505],[-0.78502,-0.28626],[-0.83119,-0.19803]]\n",
    "\n",
    "示例 2：\n",
    "输入: \n",
    "[\"Solution\",\"randPoint\",\"randPoint\",\"randPoint\"]\n",
    "[[10,5,-7.5],[],[],[]]\n",
    "输出: [null,[11.52438,-8.33273],[2.46992,-16.21705],[11.13430,-12.42337]]"
   ]
  },
  {
   "cell_type": "markdown",
   "metadata": {},
   "source": [
    "## 思路一"
   ]
  },
  {
   "cell_type": "raw",
   "metadata": {},
   "source": [
    "对边的随机数求根号。"
   ]
  },
  {
   "cell_type": "code",
   "execution_count": 1,
   "metadata": {},
   "outputs": [],
   "source": [
    "class Solution:\n",
    "\n",
    "    def __init__(self, radius, x_center, y_center):\n",
    "        \"\"\"\n",
    "        :type radius: float\n",
    "        :type x_center: float\n",
    "        :type y_center: float\n",
    "        \"\"\"\n",
    "        self.r = radius\n",
    "        self.x = x_center\n",
    "        self.y = y_center\n",
    "\n",
    "    def randPoint(self):\n",
    "        \"\"\"\n",
    "        :rtype: List[float]\n",
    "        \"\"\"\n",
    "        nr = math.sqrt(random.random()) * self.r\n",
    "        alpha = random.random() * 2 * 3.141592653\n",
    "        newx = self.x + nr * math.cos(alpha)\n",
    "        newy = self.y + nr * math.sin(alpha)\n",
    "        return [newx, newy]\n",
    "        \n",
    "\n",
    "\n",
    "# Your Solution object will be instantiated and called as such:\n",
    "# obj = Solution(radius, x_center, y_center)\n",
    "# param_1 = obj.randPoint()\n"
   ]
  }
 ],
 "metadata": {
  "kernelspec": {
   "display_name": "Python 3",
   "language": "python",
   "name": "python3"
  },
  "language_info": {
   "codemirror_mode": {
    "name": "ipython",
    "version": 3
   },
   "file_extension": ".py",
   "mimetype": "text/x-python",
   "name": "python",
   "nbconvert_exporter": "python",
   "pygments_lexer": "ipython3",
   "version": "3.6.5"
  }
 },
 "nbformat": 4,
 "nbformat_minor": 2
}
