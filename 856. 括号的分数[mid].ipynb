{
 "cells": [
  {
   "cell_type": "markdown",
   "metadata": {},
   "source": [
    "# 题目原意"
   ]
  },
  {
   "cell_type": "raw",
   "metadata": {},
   "source": [
    "给定一个平衡括号字符串 S，按下述规则计算该字符串的分数：\n",
    "\n",
    "() 得 1 分。\n",
    "AB 得 A + B 分，其中 A 和 B 是平衡括号字符串。\n",
    "(A) 得 2 * A 分，其中 A 是平衡括号字符串。\n",
    " "
   ]
  },
  {
   "cell_type": "raw",
   "metadata": {},
   "source": [
    "示例 1：\n",
    "输入： \"()\"\n",
    "输出： 1\n",
    "\n",
    "示例 2：\n",
    "输入： \"(())\"\n",
    "输出： 2\n",
    "\n",
    "示例 3：\n",
    "输入： \"()()\"\n",
    "输出： 2\n",
    "\n",
    "示例 4：\n",
    "输入： \"(()(()))\"\n",
    "输出： 6"
   ]
  },
  {
   "cell_type": "markdown",
   "metadata": {},
   "source": [
    "## 思路一：栈"
   ]
  },
  {
   "cell_type": "raw",
   "metadata": {},
   "source": [
    "把遇到的左括号变成0放到栈里面。我们遇到右括号的时候，把前面的数字乘以2重新放入栈的末尾，但是()是直接放入1的。为了防止栈为空，那么在栈开始的时候放入一个0，当把栈过了一遍之后，剩余的数字就是所求。"
   ]
  },
  {
   "cell_type": "code",
   "execution_count": 1,
   "metadata": {},
   "outputs": [],
   "source": [
    "class Solution(object):\n",
    "    def scoreOfParentheses(self, S):\n",
    "        \"\"\"\n",
    "        :type S: str\n",
    "        :rtype: int\n",
    "        \"\"\"\n",
    "        stack = [0]\n",
    "        score = 0\n",
    "        for c in S:\n",
    "            if c == '(':\n",
    "                stack.append(0)\n",
    "            else:\n",
    "                v = stack.pop()\n",
    "                stack[-1] += max(v * 2, 1)\n",
    "        return sum(stack)\n"
   ]
  }
 ],
 "metadata": {
  "kernelspec": {
   "display_name": "Python 3",
   "language": "python",
   "name": "python3"
  },
  "language_info": {
   "codemirror_mode": {
    "name": "ipython",
    "version": 3
   },
   "file_extension": ".py",
   "mimetype": "text/x-python",
   "name": "python",
   "nbconvert_exporter": "python",
   "pygments_lexer": "ipython3",
   "version": "3.7.0"
  }
 },
 "nbformat": 4,
 "nbformat_minor": 2
}
