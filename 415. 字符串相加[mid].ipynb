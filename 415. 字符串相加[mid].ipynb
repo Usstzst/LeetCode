{
 "cells": [
  {
   "cell_type": "markdown",
   "metadata": {},
   "source": [
    "# 题目原意"
   ]
  },
  {
   "cell_type": "raw",
   "metadata": {},
   "source": [
    "给定两个字符串形式的非负整数 num1 和num2 ，计算它们的和。\n",
    "\n",
    "注意：\n",
    "\n",
    "num1 和num2 的长度都小于 5100.\n",
    "num1 和num2 都只包含数字 0-9.\n",
    "num1 和num2 都不包含任何前导零。\n",
    "你不能使用任何內建 BigInteger 库， 也不能直接将输入的字符串转换为整数形式。"
   ]
  },
  {
   "cell_type": "markdown",
   "metadata": {},
   "source": [
    "## 思路一"
   ]
  },
  {
   "cell_type": "code",
   "execution_count": 1,
   "metadata": {},
   "outputs": [],
   "source": [
    "class Solution(object):\n",
    "    def addStrings(self, num1, num2):\n",
    "        \"\"\"\n",
    "        :type num1: str\n",
    "        :type num2: str\n",
    "        :rtype: str\n",
    "        \"\"\"\n",
    "        t1 = 0\n",
    "        for i in num1:\n",
    "            t1 *= 10\n",
    "            t1 += ord(i) - 48\n",
    "            \n",
    "        t2 = 0\n",
    "        for i in num2:\n",
    "            t2 *= 10\n",
    "            t2 += ord(i) - 48\n",
    "        return str(t1+t2)\n",
    "    \n",
    "    "
   ]
  }
 ],
 "metadata": {
  "kernelspec": {
   "display_name": "Python 3",
   "language": "python",
   "name": "python3"
  },
  "language_info": {
   "codemirror_mode": {
    "name": "ipython",
    "version": 3
   },
   "file_extension": ".py",
   "mimetype": "text/x-python",
   "name": "python",
   "nbconvert_exporter": "python",
   "pygments_lexer": "ipython3",
   "version": "3.6.5"
  }
 },
 "nbformat": 4,
 "nbformat_minor": 2
}
