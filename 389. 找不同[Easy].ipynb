{
 "cells": [
  {
   "cell_type": "markdown",
   "metadata": {},
   "source": [
    "# 题目原意"
   ]
  },
  {
   "cell_type": "raw",
   "metadata": {},
   "source": [
    "给定两个字符串 s 和 t，它们只包含小写字母。\n",
    "\n",
    "字符串 t 由字符串 s 随机重排，然后在随机位置添加一个字母。\n",
    "\n",
    "请找出在 t 中被添加的字母。"
   ]
  },
  {
   "cell_type": "raw",
   "metadata": {},
   "source": [
    "Example 1:\n",
    "输入：\n",
    "s = \"abcd\"\n",
    "t = \"abcde\"\n",
    "\n",
    "输出：\n",
    "e\n",
    "\n",
    "解释：\n",
    "'e' 是那个被添加的字母。"
   ]
  },
  {
   "cell_type": "markdown",
   "metadata": {},
   "source": [
    "## 思路一：\n"
   ]
  },
  {
   "cell_type": "raw",
   "metadata": {},
   "source": [
    "分别统计s和t中每个字母出现的次数，不一样的即为所求。为了减少计算量，可以先遍历s，用数组统计26个字母出现的次数；再遍历t，在刚才的数组基础上对出现的字母次数减一，次数出现负数的字母即为所求。"
   ]
  },
  {
   "cell_type": "code",
   "execution_count": 1,
   "metadata": {},
   "outputs": [],
   "source": [
    "class Solution(object):\n",
    "    def findTheDifference(self, s, t):\n",
    "        \"\"\"\n",
    "        :type s: str\n",
    "        :type t: str\n",
    "        :rtype: str\n",
    "        \"\"\"\n",
    "        \n",
    "        letters = [0]*26\n",
    "        for c in s:\n",
    "            letters[ord(c) - 97] += 1\n",
    "        for c in t:\n",
    "            letters[ord(c) - 97] -= 1\n",
    "            if letters[ord(c) - 97] < 0:\n",
    "                return c"
   ]
  },
  {
   "cell_type": "markdown",
   "metadata": {},
   "source": [
    "## 思路二：\n"
   ]
  },
  {
   "cell_type": "code",
   "execution_count": 2,
   "metadata": {},
   "outputs": [],
   "source": [
    "class Solution(object):\n",
    "    def findTheDifference(self, s, t):\n",
    "        \"\"\"\n",
    "        :type s: str\n",
    "        :type t: str\n",
    "        :rtype: str\n",
    "        \"\"\"\n",
    "\n",
    "        a=ord(t[0])\n",
    "\n",
    "        for i in s+t[1:]:\n",
    "            a=a^ord(i)\n",
    "        return chr(a)"
   ]
  }
 ],
 "metadata": {
  "kernelspec": {
   "display_name": "Python 3",
   "language": "python",
   "name": "python3"
  },
  "language_info": {
   "codemirror_mode": {
    "name": "ipython",
    "version": 3
   },
   "file_extension": ".py",
   "mimetype": "text/x-python",
   "name": "python",
   "nbconvert_exporter": "python",
   "pygments_lexer": "ipython3",
   "version": "3.7.0"
  }
 },
 "nbformat": 4,
 "nbformat_minor": 2
}
