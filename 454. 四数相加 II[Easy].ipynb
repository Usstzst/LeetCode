{
 "cells": [
  {
   "cell_type": "markdown",
   "metadata": {},
   "source": [
    "# 题目原意"
   ]
  },
  {
   "cell_type": "raw",
   "metadata": {},
   "source": [
    "给定四个包含整数的数组列表 A , B , C , D ,计算有多少个元组 (i, j, k, l) ，使得 A[i] + B[j] + C[k] + D[l] = 0。\n",
    "\n",
    "为了使问题简单化，所有的 A, B, C, D 具有相同的长度 N，且 0 ≤ N ≤ 500 。所有整数的范围在 -228 到 228 - 1 之间，最终结果不会超过 231 - 1 。"
   ]
  },
  {
   "cell_type": "raw",
   "metadata": {},
   "source": [
    "Example :\n",
    "输入:\n",
    "A = [ 1, 2]\n",
    "B = [-2,-1]\n",
    "C = [-1, 2]\n",
    "D = [ 0, 2]\n",
    "\n",
    "输出:\n",
    "2\n",
    "\n",
    "解释:\n",
    "两个元组如下:\n",
    "1. (0, 0, 0, 1) -> A[0] + B[0] + C[0] + D[1] = 1 + (-2) + (-1) + 2 = 0\n",
    "2. (1, 1, 0, 0) -> A[1] + B[1] + C[0] + D[0] = 2 + (-1) + (-1) + 0 = 0"
   ]
  },
  {
   "cell_type": "markdown",
   "metadata": {},
   "source": [
    "## 思路一"
   ]
  },
  {
   "cell_type": "raw",
   "metadata": {},
   "source": [
    "蛮力求解肯定不行的。给出了4个数，把A,B一组，C,D一组先进行遍历求和保存到字典中，就能把复杂度从O(n4)降到O(n2)\n",
    "\n",
    "这个题我也想到了使用Counter计算，具体的实现不难，复杂度是O(n^2)。\n",
    "\n",
    "方法是先对A,B能组成的和进行统计，然后对C,D遍历求和并取相反数，看在A,B中出现了多少次。\n"
   ]
  },
  {
   "cell_type": "code",
   "execution_count": 1,
   "metadata": {},
   "outputs": [],
   "source": [
    "class Solution(object):\n",
    "    def fourSumCount(self, A, B, C, D):\n",
    "        \"\"\"\n",
    "        :type A: List[int]\n",
    "        :type B: List[int]\n",
    "        :type C: List[int]\n",
    "        :type D: List[int]\n",
    "        :rtype: int\n",
    "        \"\"\"\n",
    "        AB = collections.Counter(a + b for a in A for b in B)\n",
    "        return sum(AB[-c-d] for c in C for d in D)\n"
   ]
  }
 ],
 "metadata": {
  "kernelspec": {
   "display_name": "Python 3",
   "language": "python",
   "name": "python3"
  },
  "language_info": {
   "codemirror_mode": {
    "name": "ipython",
    "version": 3
   },
   "file_extension": ".py",
   "mimetype": "text/x-python",
   "name": "python",
   "nbconvert_exporter": "python",
   "pygments_lexer": "ipython3",
   "version": "3.6.5"
  }
 },
 "nbformat": 4,
 "nbformat_minor": 2
}
