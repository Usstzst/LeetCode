{
 "cells": [
  {
   "cell_type": "markdown",
   "metadata": {},
   "source": [
    "# 题目原意"
   ]
  },
  {
   "cell_type": "raw",
   "metadata": {},
   "source": [
    "给定一个无序的数组 nums，将它重新排列成 nums[0] < nums[1] > nums[2] < nums[3]... 的顺序。\n"
   ]
  },
  {
   "cell_type": "raw",
   "metadata": {},
   "source": [
    "示例 1:\n",
    "输入: nums = [1, 5, 1, 1, 6, 4]\n",
    "输出: 一个可能的答案是 [1, 4, 1, 5, 1, 6]\n",
    "\n",
    "示例 2:\n",
    "输入: nums = [1, 3, 2, 2, 3, 1]\n",
    "输出: 一个可能的答案是 [2, 3, 1, 3, 1, 2]"
   ]
  },
  {
   "cell_type": "markdown",
   "metadata": {},
   "source": [
    "## 思路一"
   ]
  },
  {
   "cell_type": "raw",
   "metadata": {},
   "source": [
    "O(nlogn)时间排序+O(n)空间辅助数组解法：\n",
    "\n",
    "1. 对原数组排序，得到排序后的辅助数组snums\n",
    "\n",
    "2. 对原数组的偶数位下标填充snums的末尾元素\n",
    "\n",
    "3. 对原数组的奇数位下标填充snums的末尾元素"
   ]
  },
  {
   "cell_type": "code",
   "execution_count": 1,
   "metadata": {},
   "outputs": [],
   "source": [
    "class Solution(object):\n",
    "    def wiggleSort(self, nums):\n",
    "        \"\"\"\n",
    "        :type nums: List[int]\n",
    "        :rtype: void Do not return anything, modify nums in-place instead.\n",
    "        \"\"\"\n",
    "        size = len(nums)\n",
    "        snums = sorted(nums)\n",
    "        for x in range(1, size, 2) + range(0, size, 2):\n",
    "            nums[x] = snums.pop()\n",
    "        "
   ]
  }
 ],
 "metadata": {
  "kernelspec": {
   "display_name": "Python 3",
   "language": "python",
   "name": "python3"
  },
  "language_info": {
   "codemirror_mode": {
    "name": "ipython",
    "version": 3
   },
   "file_extension": ".py",
   "mimetype": "text/x-python",
   "name": "python",
   "nbconvert_exporter": "python",
   "pygments_lexer": "ipython3",
   "version": "3.6.5"
  }
 },
 "nbformat": 4,
 "nbformat_minor": 2
}
