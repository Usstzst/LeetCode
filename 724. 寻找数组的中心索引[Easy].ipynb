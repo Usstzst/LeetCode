{
 "cells": [
  {
   "cell_type": "markdown",
   "metadata": {},
   "source": [
    "# 题目原意"
   ]
  },
  {
   "cell_type": "raw",
   "metadata": {},
   "source": [
    "给定一个整数类型的数组 nums，请编写一个能够返回数组“中心索引”的方法。\n",
    "\n",
    "我们是这样定义数组中心索引的：数组中心索引的左侧所有元素相加的和等于右侧所有元素相加的和。\n",
    "\n",
    "如果数组不存在中心索引，那么我们应该返回 -1。如果数组有多个中心索引，那么我们应该返回最靠近左边的那一个。\n",
    "\n"
   ]
  },
  {
   "cell_type": "raw",
   "metadata": {},
   "source": [
    "示例 1:\n",
    "输入: \n",
    "nums = [1, 7, 3, 6, 5, 6]\n",
    "输出: 3\n",
    "解释: \n",
    "索引3 (nums[3] = 6) 的左侧数之和(1 + 7 + 3 = 11)，与右侧数之和(5 + 6 = 11)相等。\n",
    "同时, 3 也是第一个符合要求的中心索引。\n",
    "\n",
    "\n",
    "示例 2:\n",
    "\n",
    "输入: \n",
    "nums = [1, 2, 3]\n",
    "输出: -1\n",
    "解释: \n",
    "数组中不存在满足此条件的中心索引。"
   ]
  },
  {
   "cell_type": "markdown",
   "metadata": {},
   "source": [
    "## 思路一"
   ]
  },
  {
   "cell_type": "raw",
   "metadata": {},
   "source": [
    "右边的和也可以使用整体的和减去左边和+现在的位置的数字来得到。"
   ]
  },
  {
   "cell_type": "code",
   "execution_count": 1,
   "metadata": {},
   "outputs": [],
   "source": [
    "class Solution(object):\n",
    "    def pivotIndex(self, nums):\n",
    "        \"\"\"\n",
    "        :type nums: List[int]\n",
    "        :rtype: int\n",
    "        \"\"\"\n",
    "        if not nums:\n",
    "            return -1\n",
    "        N = len(nums)\n",
    "        sums = [0]*(N+1)\n",
    "        for i in range(N):\n",
    "            sums[i+1] = sums[i]+nums[i]\n",
    "        for i in range(N):\n",
    "            if sums[i] == sums[-1]-sums[i+1]:\n",
    "                return i\n",
    "        return -1\n",
    "        \n"
   ]
  }
 ],
 "metadata": {
  "kernelspec": {
   "display_name": "Python 3",
   "language": "python",
   "name": "python3"
  },
  "language_info": {
   "codemirror_mode": {
    "name": "ipython",
    "version": 3
   },
   "file_extension": ".py",
   "mimetype": "text/x-python",
   "name": "python",
   "nbconvert_exporter": "python",
   "pygments_lexer": "ipython3",
   "version": "3.6.5"
  }
 },
 "nbformat": 4,
 "nbformat_minor": 2
}
