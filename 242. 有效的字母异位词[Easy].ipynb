{
 "cells": [
  {
   "cell_type": "markdown",
   "metadata": {},
   "source": [
    "# 题目原意"
   ]
  },
  {
   "cell_type": "raw",
   "metadata": {},
   "source": [
    "给定两个字符串 s 和 t ，编写一个函数来判断 t 是否是 s 的一个字母异位词。"
   ]
  },
  {
   "cell_type": "raw",
   "metadata": {},
   "source": [
    "Example 1:\n",
    "输入: s = \"anagram\", t = \"nagaram\"\n",
    "输出: true\n",
    "\n",
    "\n",
    "Example 2:\n",
    "输入: s = \"rat\", t = \"car\"\n",
    "输出: false"
   ]
  },
  {
   "cell_type": "markdown",
   "metadata": {},
   "source": [
    "## 思路一"
   ]
  },
  {
   "cell_type": "raw",
   "metadata": {},
   "source": [
    "统计两个字符串中不同字符出现的次数，只有当两者出现的字符相同且出现的次数相同，那么他们才是有效的字母异位词。另外，两个长度不同的字符串一定不满足要求，可以辅助判断。 \n",
    "判断字符出现次数是否相等，可以两个都统计再比较（用到字典）。\n"
   ]
  },
  {
   "cell_type": "code",
   "execution_count": 2,
   "metadata": {},
   "outputs": [],
   "source": [
    "class Solution(object):\n",
    "    def isAnagram(self, s, t):\n",
    "        \"\"\"\n",
    "        :type s: str\n",
    "        :type t: str\n",
    "        :rtype: bool\n",
    "        \"\"\"\n",
    "        if len(s) != len(t):\n",
    "            return False\n",
    "        \n",
    "        alpha = {}\n",
    "        beta = {}\n",
    "        for c in s:\n",
    "            alpha[c] = alpha.get(c,0) + 1\n",
    "        for c in t:\n",
    "            beta[c] = beta.get(c,0) + 1\n",
    "            \n",
    "        return lapha == beta\n",
    "\n",
    "\n",
    "        \n",
    "        \n",
    "            \n",
    "            \n",
    "                \n",
    "            \n",
    "            \n",
    "        "
   ]
  },
  {
   "cell_type": "markdown",
   "metadata": {},
   "source": [
    "## 思路二 "
   ]
  },
  {
   "cell_type": "raw",
   "metadata": {},
   "source": [
    "两个字符串若是 “anagram”，则它们只是顺序不一样的相同字符的组合，那么将它们排序后比较是否相等即可。"
   ]
  },
  {
   "cell_type": "code",
   "execution_count": 3,
   "metadata": {},
   "outputs": [],
   "source": [
    "class Solution(object):\n",
    "    def isAnagram(self, s, t):\n",
    "        \"\"\"\n",
    "        :type s: str\n",
    "        :type t: str\n",
    "        :rtype: bool\n",
    "        \"\"\"\n",
    "        \n",
    "        return sorted(s) == sorted(t)"
   ]
  }
 ],
 "metadata": {
  "kernelspec": {
   "display_name": "Python 3",
   "language": "python",
   "name": "python3"
  },
  "language_info": {
   "codemirror_mode": {
    "name": "ipython",
    "version": 3
   },
   "file_extension": ".py",
   "mimetype": "text/x-python",
   "name": "python",
   "nbconvert_exporter": "python",
   "pygments_lexer": "ipython3",
   "version": "3.6.5"
  }
 },
 "nbformat": 4,
 "nbformat_minor": 2
}
