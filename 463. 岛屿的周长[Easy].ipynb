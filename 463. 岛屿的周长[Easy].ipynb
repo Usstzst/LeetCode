{
 "cells": [
  {
   "cell_type": "markdown",
   "metadata": {},
   "source": [
    "# 题目原意"
   ]
  },
  {
   "cell_type": "raw",
   "metadata": {},
   "source": [
    "给定一个包含 0 和 1 的二维网格地图，其中 1 表示陆地 0 表示水域。\n",
    "\n",
    "网格中的格子水平和垂直方向相连（对角线方向不相连）。整个网格被水完全包围，但其中恰好有一个岛屿（或者说，一个或多个表示陆地的格子相连组成的岛屿）。\n",
    "\n",
    "岛屿中没有“湖”（“湖” 指水域在岛屿内部且不和岛屿周围的水相连）。格子是边长为 1 的正方形。网格为长方形，且宽度和高度均不超过 100 。计算这个岛屿的周长。"
   ]
  },
  {
   "cell_type": "raw",
   "metadata": {},
   "source": [
    "Example ：\n",
    "\n",
    "\n",
    "输入:\n",
    "[[0,1,0,0],\n",
    " [1,1,1,0],\n",
    " [0,1,0,0],\n",
    " [1,1,0,0]]\n",
    "\n",
    "输出: 16"
   ]
  },
  {
   "cell_type": "markdown",
   "metadata": {},
   "source": [
    "## 思路一：减去相交部分"
   ]
  },
  {
   "cell_type": "raw",
   "metadata": {},
   "source": [
    "直接求解好像很难，可以使用一个简单的方法：每个位置的周长是4，如果和另一个陆地相连，那么这两个陆地周长和减去2.所以整个小岛的周长是4×陆地数-2×相交数。"
   ]
  },
  {
   "cell_type": "code",
   "execution_count": null,
   "metadata": {},
   "outputs": [],
   "source": [
    "class Solution:\n",
    "    def islandPerimeter(self, grid):\n",
    "        \"\"\"\n",
    "        :type grid: List[List[int]]\n",
    "        :rtype: int\n",
    "        \"\"\"\n",
    "        M, N = len(grid), len(grid[0])\n",
    "        counts = 0\n",
    "        neighbors = 0\n",
    "        for i in range(M):\n",
    "            for j in range(N):\n",
    "                if grid[i][j] == 1:\n",
    "                    counts += 1\n",
    "                    if i < M -1:\n",
    "                        if grid[i+1][j] == 1:\n",
    "                            neighbors += 1\n",
    "                    if j < N - 1:\n",
    "                        if grid[i][j + 1] == 1:\n",
    "                            neighbors += 1\n",
    "                            \n",
    "        return 4 * counts - 2 * neighbors\n",
    "\n"
   ]
  }
 ],
 "metadata": {
  "kernelspec": {
   "display_name": "Python 3",
   "language": "python",
   "name": "python3"
  },
  "language_info": {
   "codemirror_mode": {
    "name": "ipython",
    "version": 3
   },
   "file_extension": ".py",
   "mimetype": "text/x-python",
   "name": "python",
   "nbconvert_exporter": "python",
   "pygments_lexer": "ipython3",
   "version": "3.7.0"
  }
 },
 "nbformat": 4,
 "nbformat_minor": 2
}
