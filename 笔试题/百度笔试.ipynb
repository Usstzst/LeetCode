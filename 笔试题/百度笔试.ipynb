{
 "cells": [
  {
   "cell_type": "markdown",
   "metadata": {},
   "source": [
    "# 两道编程题：\n",
    "\n",
    "1、定点射门：给定球门数，球数，球门范围，球的坐标。不能重复射进同一个球门，进球得一分，求总分。\n",
    "\n",
    "2、给定a1, a2, a3, a4的值和n，已知An = A(n-1)+A(n-3)+A(n-4),求出An\n"
   ]
  },
  {
   "cell_type": "code",
   "execution_count": null,
   "metadata": {},
   "outputs": [],
   "source": [
    "# 第一题：超时\n",
    "\n",
    "if __name__ == '__main__':\n",
    "    n, m = [int(i) for i in input().split()]\n",
    "    arr = []\n",
    "    for i in range(n):\n",
    "        a, b = [int(j) for j in input().split()]\n",
    "        arr.append((a, b))\n",
    "    ball = []\n",
    "    for i in range(m):\n",
    "        ball.append(int(input()))\n",
    "\n",
    "    cnt = 0\n",
    "    while arr:\n",
    "        i = 0\n",
    "        for b in ball:\n",
    "            if b>=arr[i][0] and b<=arr[i][1]:\n",
    "                cnt +=1\n",
    "                del arr[i]\n",
    "            else:\n",
    "                i+=1\n",
    "    print(cnt)\n"
   ]
  },
  {
   "cell_type": "code",
   "execution_count": 2,
   "metadata": {},
   "outputs": [
    {
     "name": "stdout",
     "output_type": "stream",
     "text": [
      "1 2 3 4 20\n",
      "9790\n"
     ]
    }
   ],
   "source": [
    "# 第二题：超时\n",
    "\n",
    "if __name__ == '__main__':\n",
    "    arr = list(map(int, input().split()))\n",
    "    n = arr.pop()\n",
    "    dp = [0] * n\n",
    "    for i in range(1, n):\n",
    "        if i < 5:\n",
    "            dp[i] = arr[i - 1]\n",
    "        else:\n",
    "            dp[i] = dp[i - 1] + dp[i - 3] + dp[i - 4]\n",
    "\n",
    "    print((dp[-1]+dp[-3]+dp[-4]) % (10 ** 9 + 7))"
   ]
  },
  {
   "cell_type": "code",
   "execution_count": null,
   "metadata": {},
   "outputs": [],
   "source": []
  }
 ],
 "metadata": {
  "kernelspec": {
   "display_name": "Python 3",
   "language": "python",
   "name": "python3"
  },
  "language_info": {
   "codemirror_mode": {
    "name": "ipython",
    "version": 3
   },
   "file_extension": ".py",
   "mimetype": "text/x-python",
   "name": "python",
   "nbconvert_exporter": "python",
   "pygments_lexer": "ipython3",
   "version": "3.7.3"
  }
 },
 "nbformat": 4,
 "nbformat_minor": 2
}
