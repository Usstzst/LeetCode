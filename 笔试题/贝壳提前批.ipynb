{
 "cells": [
  {
   "cell_type": "markdown",
   "metadata": {},
   "source": [
    "# 1、丢失的卡片\n",
    "\n",
    "\n",
    "![title](../Image/1.png)\n"
   ]
  },
  {
   "cell_type": "markdown",
   "metadata": {},
   "source": [
    "思路:\n",
    "\n",
    "    从 1 开始 循环，每次遍历一个数字，就计算这个数字的位数个数，然后将 输入的数组对应的位置减 1，直到输入数组 出现 最大值为0 的情况，\n",
    "        \n",
    "    表示有解，跳出循环；若 输入数组 最大值大于0，继续循环；输入数组最大值小于0，表示没有答案，跳出循环；\n",
    "       \n",
    "    对于有解跳出的情况，判断 输入数组为负值的元素，以及个数，进行全排列\n"
   ]
  },
  {
   "cell_type": "code",
   "execution_count": 21,
   "metadata": {},
   "outputs": [
    {
     "name": "stdout",
     "output_type": "stream",
     "text": [
      "2 12 9 3 3 3 3 2 2 2\n",
      "[0, -1, -1, 0, 0, 0, 0, 0, 0, 0]\n",
      "26 12\n",
      "26 21\n"
     ]
    }
   ],
   "source": [
    "from itertools import permutations\n",
    " \n",
    "if __name__ == \"__main__\":\n",
    "    num = [int(x) for x in input().strip().split(' ')]\n",
    "    n = 1\n",
    "    flag = True\n",
    "    while True:\n",
    "        i = n\n",
    "        while i > 0:\n",
    "            yu = i % 10\n",
    "            num[yu] -= 1\n",
    "            i //= 10\n",
    "        if max(num) == 0:\n",
    "            break\n",
    "        elif max(num) < 0:\n",
    "            flag = False\n",
    "            break\n",
    "        else:\n",
    "            n += 1\n",
    "            continue\n",
    "    if flag == False:\n",
    "        print('No Answer')\n",
    "    else:\n",
    "        print(num)\n",
    "        res = []\n",
    "        for i in range(10):\n",
    "            if num[i] < 0:\n",
    "                res += [str(i)]*abs(num[i])\n",
    "        ans = []\n",
    "        for item in permutations(res):\n",
    "            ans.append(''.join(item))\n",
    "        ans = set(ans)\n",
    "        ans = list(ans)\n",
    "        ans.sort()\n",
    "        for item in ans:\n",
    "            print(n, int(item))\n"
   ]
  },
  {
   "cell_type": "markdown",
   "metadata": {},
   "source": [
    "# 2、采木\n",
    "\n",
    "要砍 n 棵树， 两种工具：斧子和锯子。砍树时间：锯子ai, 斧子bi, 交换工具所需时间ci。求砍树所需最短时间。\n",
    "输入：\n",
    "第一行：n\n",
    "之后： ai, bi, ci（n行）\n",
    "\n",
    "样例：\n",
    "3\n",
    "\n",
    "20 40 20 \n",
    "\n",
    "10 4 25\n",
    "\n",
    "90 100 5\n"
   ]
  },
  {
   "cell_type": "markdown",
   "metadata": {},
   "source": [
    "## 思路： 动态规划"
   ]
  },
  {
   "cell_type": "code",
   "execution_count": 25,
   "metadata": {},
   "outputs": [
    {
     "name": "stdout",
     "output_type": "stream",
     "text": [
      "3\n",
      "[[0, 0, 0, 0], [0, 0, 0, 0]]\n",
      "20 40 20\n",
      "10 4 25\n",
      "90 100 5\n",
      "139\n"
     ]
    }
   ],
   "source": [
    "#!/usr/bin/python3\n",
    "# -*- coding: utf-8 -*-\n",
    "# Created by Ross on 2019/8/10\n",
    " \n",
    "n = int(input())\n",
    "\n",
    "def solve(n):\n",
    "    dp = [[0] * (n + 1) for _ in range(2)]\n",
    "    print(dp)\n",
    "    for i in range(1, n + 1):\n",
    "        a, b, c = list(map(int, input().strip().split()))\n",
    "        if i == 1:\n",
    "            dp[0][i] = a + c  # 锯子\n",
    "            dp[1][i] = b  # 斧头\n",
    "        else:\n",
    "            dp[0][i] = min(dp[1][i - 1] + c + a, dp[0][i - 1] + a)  # 锯子\n",
    "            dp[1][i] = min(dp[0][i - 1] + c + b, dp[1][i - 1] + b)  # 斧头\n",
    "    \n",
    "    return min(dp[0][-1], dp[1][-1])\n",
    " \n",
    "print(solve(n))"
   ]
  },
  {
   "cell_type": "markdown",
   "metadata": {},
   "source": [
    "# 3、求满足K的最小N大小\n",
    "\n",
    "已知：n*(n-1)*...*3*2*1 + n*(n-1)*...*3*1 + n*(n-1)*...*2*1 +...+ (n-1)*...*(i-1)*...*3*2*1 > k*n!\n",
    "\n",
    "思路：\n",
    "两边同时除以 n!,则有 1+1/2+1/3+...+1/n > k"
   ]
  },
  {
   "cell_type": "code",
   "execution_count": 27,
   "metadata": {},
   "outputs": [
    {
     "name": "stdout",
     "output_type": "stream",
     "text": [
      "2\n",
      "4 \n",
      "\n"
     ]
    }
   ],
   "source": [
    "import sys\n",
    "import os\n",
    "import re\n",
    " \n",
    "    \n",
    "def GetResult(K):\n",
    "    sum = 0\n",
    "    n = 0\n",
    "    while sum <= K:\n",
    "        n += 1\n",
    "        sum += 1 / n\n",
    "    return n\n",
    "\n",
    " \n",
    "_K = int(input())\n",
    " \n",
    "res = GetResult(_K)\n",
    " \n",
    "print(res, \"\\n\")\n"
   ]
  },
  {
   "cell_type": "markdown",
   "metadata": {},
   "source": [
    "# 4、图的存在性\n",
    "\n",
    "![title](../Image/3.png)"
   ]
  },
  {
   "cell_type": "code",
   "execution_count": 12,
   "metadata": {},
   "outputs": [],
   "source": []
  },
  {
   "cell_type": "code",
   "execution_count": 13,
   "metadata": {},
   "outputs": [
    {
     "data": {
      "text/plain": [
       "'aa'"
      ]
     },
     "execution_count": 13,
     "metadata": {},
     "output_type": "execute_result"
    }
   ],
   "source": []
  },
  {
   "cell_type": "code",
   "execution_count": null,
   "metadata": {},
   "outputs": [],
   "source": []
  }
 ],
 "metadata": {
  "kernelspec": {
   "display_name": "Python 3",
   "language": "python",
   "name": "python3"
  },
  "language_info": {
   "codemirror_mode": {
    "name": "ipython",
    "version": 3
   },
   "file_extension": ".py",
   "mimetype": "text/x-python",
   "name": "python",
   "nbconvert_exporter": "python",
   "pygments_lexer": "ipython3",
   "version": "3.7.3"
  }
 },
 "nbformat": 4,
 "nbformat_minor": 2
}
