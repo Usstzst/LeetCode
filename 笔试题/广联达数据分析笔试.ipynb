{
 "cells": [
  {
   "cell_type": "markdown",
   "metadata": {},
   "source": [
    "# 1、求字符串非空子集的个数\n",
    "\n",
    "输入：‘abc’\n",
    "\n",
    "输出：7\n",
    "\n",
    "## 这里需要注意区分非空子集与非空子串的区别\n",
    "\n",
    "* 非空子集的个数：2^n-1\n",
    " \n",
    "* 非空子串的个数： n*(n+1)/2"
   ]
  },
  {
   "cell_type": "code",
   "execution_count": 11,
   "metadata": {},
   "outputs": [
    {
     "name": "stdout",
     "output_type": "stream",
     "text": [
      "abc\n",
      "7\n"
     ]
    }
   ],
   "source": [
    "if __name__ =='__main__':\n",
    "    s = list(input())\n",
    "    n = len(s)\n",
    "    print(2**n-1)"
   ]
  },
  {
   "cell_type": "markdown",
   "metadata": {},
   "source": [
    "## 扩展：求字符串的非空子串"
   ]
  },
  {
   "cell_type": "code",
   "execution_count": 18,
   "metadata": {},
   "outputs": [
    {
     "name": "stdout",
     "output_type": "stream",
     "text": [
      "abc\n",
      "['a', 'ab', 'abc', 'b', 'bc', 'c']\n"
     ]
    }
   ],
   "source": [
    "from itertools import accumulate\n",
    "\n",
    "def all_sub_string(a_string):\n",
    "    if len(a_string)==1:\n",
    "        return [a_string]\n",
    "    else:\n",
    "        return list(accumulate(a_string))+all_sub_string(a_string[1:])\n",
    "\n",
    "    \n",
    "if __name__ == '__main__':\n",
    "    s = input().strip()\n",
    "    print(all_sub_string(s))"
   ]
  },
  {
   "cell_type": "markdown",
   "metadata": {},
   "source": [
    "# 2、子集和问题（背包问题）\n",
    "\n",
    "\n",
    "从数组C中找出数字组合使和等于T\n",
    "\n",
    "输入： C = [2,5,1,3,2]   T = 5\n",
    "\n",
    "输出：[[5], [1,2,2], [2,3]]\n"
   ]
  },
  {
   "cell_type": "code",
   "execution_count": 26,
   "metadata": {},
   "outputs": [
    {
     "name": "stdout",
     "output_type": "stream",
     "text": [
      "[[1, 2, 2], [2, 3], [5]]\n"
     ]
    }
   ],
   "source": [
    "'''和为S的所有子集'''\n",
    "\n",
    "def sub_string(items):\n",
    "    # the power set of the empty set has one element, the empty set\n",
    "    result = [[]]\n",
    "    for x in items:\n",
    "        result.extend([subset + [x] for subset in result])\n",
    "        \n",
    "    return result\n",
    "\n",
    "\n",
    "if __name__ == \"__main__\":\n",
    "    result = sub_string([1,2,2,3,5])\n",
    "    res = []\n",
    "    for i in range(len(result)):\n",
    "        if sum(result[i])== 5 and result[i] not in res:\n",
    "            res.append(result[i])\n",
    "    print(res)"
   ]
  },
  {
   "cell_type": "code",
   "execution_count": 27,
   "metadata": {},
   "outputs": [
    {
     "name": "stdout",
     "output_type": "stream",
     "text": [
      "True    False   False   False   False   False   False   False    \n",
      "True    True    False   False   False   False   False   False    \n",
      "True    True    False   True    True    False   False   False    \n",
      "True    True    False   True    True    True    False   True     \n",
      "True    True    False   True    True    True    True    True     \n",
      "Found a subset with given sum\n",
      "The solution is [4, 3].\n"
     ]
    }
   ],
   "source": [
    "import numpy as np\n",
    "\n",
    "# A Dynamic Programming solution for subset sum problem\n",
    "# Returns true if there is a subset of set with sum equal to given sum\n",
    "\n",
    "def isSubsetSum(S, n, M):\n",
    "    # The value of subset[i, j] will be\n",
    "    # true if there is a subset of\n",
    "    # set[0..j-1] with sum equal to i\n",
    "    subset = np.array([[True]*(M+1)]*(n+1))\n",
    "\n",
    "    # If sum is 0, then answer is true\n",
    "    for i in range(0, n+1):\n",
    "        subset[i, 0] = True\n",
    "\n",
    "    # If sum is not 0 and set is empty,\n",
    "    # then answer is false\n",
    "    for i in range(1, M+1):\n",
    "        subset[0, i] = False\n",
    "\n",
    "    # Fill the subset table in bottom-up manner\n",
    "    for i in range(1, n+1):\n",
    "        for j in range(1, M+1):\n",
    "            if j < S[i-1]:\n",
    "                subset[i, j] = subset[i-1, j]\n",
    "            else:\n",
    "                subset[i, j] = subset[i-1, j] or subset[i-1, j-S[i-1]]\n",
    "\n",
    "    # print the True-False table\n",
    "    for i in range(0, n+1):\n",
    "        for j in range(0, M+1):\n",
    "            print('%-6s'%subset[i][j], end=\"  \")\n",
    "        print(\" \")\n",
    "\n",
    "    if subset[n, M]:\n",
    "        print(\"Found a subset with given sum\")\n",
    "        sol = []\n",
    "        # using backtracing to find the solution\n",
    "        i = n\n",
    "        while i >= 0:\n",
    "            if subset[i, M] and not subset[i-1, M]:\n",
    "                sol.append(S[i-1])\n",
    "                M -= st[i-1]\n",
    "            if M == 0:\n",
    "                break\n",
    "            i -= 1\n",
    "        print('The solution is %s.' % sol)\n",
    "    else:\n",
    "        print(\"No subset with given sum\")\n",
    "\n",
    "# test\n",
    "st = [1, 3, 4, 5]\n",
    "n = len(st)\n",
    "sm = 7\n",
    "isSubsetSum(st, n, sm)\n"
   ]
  },
  {
   "cell_type": "code",
   "execution_count": 32,
   "metadata": {},
   "outputs": [
    {
     "name": "stdout",
     "output_type": "stream",
     "text": [
      "Found a subset with given sum\n",
      "The solution is [4, 3].\n"
     ]
    }
   ],
   "source": [
    "#'''精简版'''\n",
    "\n",
    "import numpy as np\n",
    "\n",
    "def isSubsetSum(S, n, M):\n",
    "\n",
    "    subset = np.array([[True]*(M+1)]*(n+1))\n",
    "    for i in range(0, n+1):\n",
    "        subset[i, 0] = True\n",
    "\n",
    "    for i in range(1, M+1):\n",
    "        subset[0, i] = False\n",
    "\n",
    "    for i in range(1, n+1):\n",
    "        for j in range(1, M+1):\n",
    "            if j < S[i-1]:\n",
    "                subset[i, j] = subset[i-1, j]\n",
    "            else:\n",
    "                subset[i, j] = subset[i-1, j] or subset[i-1, j-S[i-1]]\n",
    "\n",
    "    if subset[n, M]:\n",
    "        print(\"Found a subset with given sum\")\n",
    "        sol = []\n",
    "        i = n\n",
    "        while i >= 0:\n",
    "            if subset[i, M] and not subset[i-1, M]:\n",
    "                sol.append(S[i-1])\n",
    "                M -= st[i-1]\n",
    "            if M == 0:\n",
    "                break\n",
    "            i -= 1\n",
    "        print('The solution is %s.' % sol)\n",
    "    else:\n",
    "        print(\"No subset with given sum\")\n",
    "\n",
    "if __name__ == '__main__':\n",
    "    st = [1, 3, 4, 5]\n",
    "    n = len(st)\n",
    "    sm = 7\n",
    "    isSubsetSum(st, n, sm)\n"
   ]
  },
  {
   "cell_type": "code",
   "execution_count": null,
   "metadata": {},
   "outputs": [],
   "source": []
  }
 ],
 "metadata": {
  "kernelspec": {
   "display_name": "Python 3",
   "language": "python",
   "name": "python3"
  },
  "language_info": {
   "codemirror_mode": {
    "name": "ipython",
    "version": 3
   },
   "file_extension": ".py",
   "mimetype": "text/x-python",
   "name": "python",
   "nbconvert_exporter": "python",
   "pygments_lexer": "ipython3",
   "version": "3.7.3"
  }
 },
 "nbformat": 4,
 "nbformat_minor": 2
}
