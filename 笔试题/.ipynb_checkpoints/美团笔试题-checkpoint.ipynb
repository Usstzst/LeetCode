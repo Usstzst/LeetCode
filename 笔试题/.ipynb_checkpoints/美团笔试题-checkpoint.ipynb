{
 "cells": [
  {
   "cell_type": "markdown",
   "metadata": {},
   "source": [
    "# 1、排列组合\n"
   ]
  },
  {
   "cell_type": "code",
   "execution_count": 4,
   "metadata": {},
   "outputs": [
    {
     "name": "stdout",
     "output_type": "stream",
     "text": [
      "12\n",
      "ad ae af bd be bf cd ce cf\n"
     ]
    }
   ],
   "source": [
    "def perm(a, b):\n",
    "    result = []\n",
    "    for i in a:\n",
    "        for j in b:\n",
    "            result.append(i+j)\n",
    "    return result\n",
    "\n",
    "\n",
    "def perm2(res):\n",
    "    if len(res)==1:\n",
    "        return res\n",
    "    if len(res)==2:\n",
    "        return perm(res[0],res[1])\n",
    "    result = perm(res[0],res[1])\n",
    "    for i in range(2,len(res)):\n",
    "        result = perm(result, res[i])\n",
    "    return result\n",
    "\n",
    "\n",
    "\n",
    "if __name__ == '__main__':\n",
    "    dic = {1: 'abc', 2: 'def', 3: 'ghi', 4: 'jkl', 5: 'mno', 6: 'pqr', 7: 'stu', 8: 'vwx', 9: 'yz'}\n",
    "    s = input()\n",
    "    res = []\n",
    "    for i in s:\n",
    "        res.append(dic[int(i)])\n",
    "    res = perm2(res)\n",
    "    print(' '.join(res))\n"
   ]
  },
  {
   "cell_type": "code",
   "execution_count": null,
   "metadata": {},
   "outputs": [],
   "source": []
  },
  {
   "cell_type": "code",
   "execution_count": null,
   "metadata": {},
   "outputs": [],
   "source": []
  }
 ],
 "metadata": {
  "kernelspec": {
   "display_name": "Python 3",
   "language": "python",
   "name": "python3"
  },
  "language_info": {
   "codemirror_mode": {
    "name": "ipython",
    "version": 3
   },
   "file_extension": ".py",
   "mimetype": "text/x-python",
   "name": "python",
   "nbconvert_exporter": "python",
   "pygments_lexer": "ipython3",
   "version": "3.7.3"
  }
 },
 "nbformat": 4,
 "nbformat_minor": 2
}
