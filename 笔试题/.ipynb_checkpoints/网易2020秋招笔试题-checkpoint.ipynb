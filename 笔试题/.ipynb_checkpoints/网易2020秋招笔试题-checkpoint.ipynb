{
 "cells": [
  {
   "cell_type": "markdown",
   "metadata": {},
   "source": [
    "# 1、倒数排列"
   ]
  },
  {
   "cell_type": "markdown",
   "metadata": {},
   "source": [
    "令给出的排列是Pi，则答案Q_{i} = n - P_{i} + 1."
   ]
  },
  {
   "cell_type": "code",
   "execution_count": 4,
   "metadata": {},
   "outputs": [
    {
     "name": "stdout",
     "output_type": "stream",
     "text": [
      "1\n",
      "1\n",
      "1\n"
     ]
    }
   ],
   "source": [
    "if __name__ == '__main__':\n",
    "    N = int(input())\n",
    "    res = ''\n",
    "    for i in range(N):\n",
    "        a = int(input())\n",
    "        res+= str(N-a+1)\n",
    "    print(res)\n",
    "        "
   ]
  },
  {
   "cell_type": "markdown",
   "metadata": {},
   "source": [
    "# 2、序列交换"
   ]
  },
  {
   "cell_type": "raw",
   "metadata": {},
   "source": [
    "只要数组中同时出现了奇数和偶数，那么直接对数组进行排序即可。"
   ]
  },
  {
   "cell_type": "code",
   "execution_count": 8,
   "metadata": {},
   "outputs": [
    {
     "name": "stdout",
     "output_type": "stream",
     "text": [
      "4\n",
      "1\n",
      "2\n",
      "3\n",
      "4\n",
      "1 2 3 4 \n"
     ]
    }
   ],
   "source": [
    "if __name__ == '__main__':\n",
    "    N = int(input())\n",
    "    odd, even = 0, 0\n",
    "    \n",
    "    res = []\n",
    "    for i in range(N):\n",
    "        a = int(input())\n",
    "        if a%2 == 0:\n",
    "            even += 1\n",
    "        else: \n",
    "            odd += 1\n",
    "        res.append(a)\n",
    "    if odd > 0 and even > 0:\n",
    "        res.sort()\n",
    "    s = ''\n",
    "    for i in range(N):\n",
    "        s += str(res[i]) + ' '\n",
    "    print(s)\n",
    "    "
   ]
  },
  {
   "cell_type": "code",
   "execution_count": null,
   "metadata": {},
   "outputs": [],
   "source": []
  }
 ],
 "metadata": {
  "kernelspec": {
   "display_name": "Python 3",
   "language": "python",
   "name": "python3"
  },
  "language_info": {
   "codemirror_mode": {
    "name": "ipython",
    "version": 3
   },
   "file_extension": ".py",
   "mimetype": "text/x-python",
   "name": "python",
   "nbconvert_exporter": "python",
   "pygments_lexer": "ipython3",
   "version": "3.7.3"
  }
 },
 "nbformat": 4,
 "nbformat_minor": 2
}
