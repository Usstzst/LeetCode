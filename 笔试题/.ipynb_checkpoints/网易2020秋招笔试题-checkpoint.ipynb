{
 "cells": [
  {
   "cell_type": "markdown",
   "metadata": {},
   "source": [
    "# 1、倒数排列"
   ]
  },
  {
   "cell_type": "markdown",
   "metadata": {},
   "source": [
    "令给出的排列是Pi，则答案Q_{i} = n - P_{i} + 1."
   ]
  },
  {
   "cell_type": "code",
   "execution_count": 4,
   "metadata": {},
   "outputs": [
    {
     "name": "stdout",
     "output_type": "stream",
     "text": [
      "1\n",
      "1\n",
      "1\n"
     ]
    }
   ],
   "source": [
    "if __name__ == '__main__':\n",
    "    N = int(input())\n",
    "    res = ''\n",
    "    for i in range(N):\n",
    "        a = int(input())\n",
    "        res+= str(N-a+1)\n",
    "    print(res)\n",
    "        "
   ]
  },
  {
   "cell_type": "markdown",
   "metadata": {},
   "source": [
    "# 2、序列交换"
   ]
  },
  {
   "cell_type": "raw",
   "metadata": {},
   "source": [
    "只要数组中同时出现了奇数和偶数，那么直接对数组进行排序即可。"
   ]
  },
  {
   "cell_type": "code",
   "execution_count": 8,
   "metadata": {},
   "outputs": [
    {
     "name": "stdout",
     "output_type": "stream",
     "text": [
      "4\n",
      "1\n",
      "2\n",
      "3\n",
      "4\n",
      "1 2 3 4 \n"
     ]
    }
   ],
   "source": [
    "if __name__ == '__main__':\n",
    "    N = int(input())\n",
    "    odd, even = 0, 0\n",
    "    \n",
    "    res = []\n",
    "    for i in range(N):\n",
    "        a = int(input())\n",
    "        if a%2 == 0:\n",
    "            even += 1\n",
    "        else: \n",
    "            odd += 1\n",
    "        res.append(a)\n",
    "    if odd > 0 and even > 0:\n",
    "        res.sort()\n",
    "    s = ''\n",
    "    for i in range(N):\n",
    "        s += str(res[i]) + ' '\n",
    "    print(s)\n",
    "    "
   ]
  },
  {
   "cell_type": "markdown",
   "metadata": {},
   "source": [
    "# 3、优秀的序列\n",
    "\n",
    "1、如果序列S,T是优秀的，则序列S+T是优秀的，+被定义为按数学连接两个序列，即”010”+”110”=”010110”\n",
    "\n",
    "2、如果序列S是优秀的，则序列rev(S)也是优秀的。rev(S) 被定义为按位翻转（0变1,1变0）序列S，并删去前导零。例如rev(” 1100101”)=“11010”\n",
    "现在请你判断序列T是不是优秀的\n",
    "\n",
    "3、输入描述\n",
    "\n",
    "第一行数据组数T，表示有T组数据\n",
    "\n",
    "每组数据的第一行是一个01序列，表示序列S。第二行是另一个01序列，表示序列T\n",
    "\n",
    "1<=|S|,|T|<=1000,S,T不含前导零。\n",
    "\n",
    "4、输出描述\n",
    "\n",
    "对于每组数据，一行输出 YES或 NO，表示序列T是不是优秀的（大小写敏感）\n",
    "\n",
    "示例1\n",
    "\n",
    "输入：\n",
    "\n",
    "1\n",
    "\n",
    "1100\n",
    "\n",
    "110011\n",
    "\n",
    "输出： YES\n",
    "\n",
    "示例2\n",
    "\n",
    "输入\n",
    "\n",
    "1\n",
    "\n",
    "1000\n",
    "\n",
    "100001111\n",
    "\n",
    "输出： NO"
   ]
  },
  {
   "cell_type": "code",
   "execution_count": 13,
   "metadata": {},
   "outputs": [
    {
     "name": "stdout",
     "output_type": "stream",
     "text": [
      "1\n",
      "1100\n",
      "110011\n",
      "Yes\n"
     ]
    }
   ],
   "source": [
    "n = int(input())\n",
    "for i in range(n):\n",
    "    S = input()\n",
    "    T = input()\n",
    "    ST = S+T\n",
    "    S_list = list(S)\n",
    "    ST_list = list(ST)\n",
    "    \n",
    "    all_S = []\n",
    "    while S_list:\n",
    "        all_S.append(''.join(S_list))\n",
    "        for i in range(len(S_list)):\n",
    "            if S_list[i]=='0':\n",
    "                S_list[i]='1'\n",
    "            else:\n",
    "                S_list[i]='0'\n",
    "        while S_list and S_list[0]=='0':\n",
    "            S_list.pop(0)\n",
    "    \n",
    "    while ST_list:\n",
    "        for i in range(len(ST_list)):\n",
    "            if ST_list[i]=='0':\n",
    "                ST_list[i]='1'\n",
    "            else:\n",
    "                ST_list[i]='0'\n",
    "        while ST_list and ST_list[0]=='0':\n",
    "            ST_list.pop(0)\n",
    "        \n",
    "        if ''.join(ST_list) in all_S:\n",
    "            print('Yes')\n",
    "            break\n",
    "    else:\n",
    "        print('NO')\n",
    "        \n",
    "            \n"
   ]
  },
  {
   "cell_type": "code",
   "execution_count": null,
   "metadata": {},
   "outputs": [],
   "source": []
  }
 ],
 "metadata": {
  "kernelspec": {
   "display_name": "Python 3",
   "language": "python",
   "name": "python3"
  },
  "language_info": {
   "codemirror_mode": {
    "name": "ipython",
    "version": 3
   },
   "file_extension": ".py",
   "mimetype": "text/x-python",
   "name": "python",
   "nbconvert_exporter": "python",
   "pygments_lexer": "ipython3",
   "version": "3.7.3"
  }
 },
 "nbformat": 4,
 "nbformat_minor": 2
}
