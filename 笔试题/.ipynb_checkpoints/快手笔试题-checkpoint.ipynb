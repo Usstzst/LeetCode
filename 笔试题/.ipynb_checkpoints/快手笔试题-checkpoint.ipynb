{
 "cells": [
  {
   "cell_type": "markdown",
   "metadata": {},
   "source": [
    "# 1、字符串排序\n",
    "\n",
    "输入：\n",
    "3，6\n",
    "V_0 V_1 P_0 V_3 P_1 V_4\n",
    "\n",
    "输出：\n",
    "5\n",
    "V_0 V_1 V_2 P_0 V_3 V_4\n",
    "\n",
    "解释：每隔3个V, 插入一个P"
   ]
  },
  {
   "cell_type": "code",
   "execution_count": null,
   "metadata": {},
   "outputs": [],
   "source": [
    "'''字符串排序'''\n",
    "\n",
    "if __name__ == '__main__':\n",
    "    n = int(input())\n",
    "    m = int(input())\n",
    "    res = []\n",
    "    for i in range(m):\n",
    "        res.append(input())\n",
    "    V = []\n",
    "    P = []\n",
    "    for i in range(m):\n",
    "        if res[i][0] == 'V':\n",
    "            V.append(res[i])\n",
    "        else:\n",
    "            P.append(res[i])\n",
    "    M = []\n",
    "    M.append(V[0])\n",
    "    for i in range(1, m):\n",
    "        if i < len(V):\n",
    "            if i % n == 0:\n",
    "                M.append(P.pop(0))\n",
    "            M.append(V[i])\n",
    "        else:\n",
    "            break\n",
    "    print(len(M))\n",
    "    for i in range(len(M)):\n",
    "        print(M[i])"
   ]
  },
  {
   "cell_type": "markdown",
   "metadata": {},
   "source": [
    "# 2、计算一元方程组\n"
   ]
  },
  {
   "cell_type": "code",
   "execution_count": null,
   "metadata": {},
   "outputs": [],
   "source": [
    "'''解一元方程'''\n",
    "def solve(eq, var=\"X\"):\n",
    "    eq1 = eq.replace(\"=\",\"-(\")+\")\"\n",
    "    c = eval(eq1, {var:1j})\n",
    "    if c.imag==0 and c.real==0:\n",
    "        return -1\n",
    "    else:\n",
    "        return int(-c.real/c.imag)\n",
    "\n",
    "if __name__ == '__main__':\n",
    "    eq = input()\n",
    "    print(solve(eq))\n"
   ]
  },
  {
   "cell_type": "markdown",
   "metadata": {},
   "source": [
    "# 3、无重复连续子串"
   ]
  },
  {
   "cell_type": "code",
   "execution_count": null,
   "metadata": {},
   "outputs": [],
   "source": [
    "'''无重复连续子串'''\n",
    "def strLength(s):\n",
    "    n = len(s)\n",
    "    res = []\n",
    "    for i in range(n):\n",
    "        data1 = s[i]\n",
    "        for j in range(i+1, n):\n",
    "            if s[j] not in data1:\n",
    "                data1 = data1 + s[j]\n",
    "            else:\n",
    "                break\n",
    "        res.append(len(data1))\n",
    "    if res==[]:\n",
    "        if s=='':\n",
    "            res.append(0)\n",
    "        else:\n",
    "            res.append(1)\n",
    "    return max(res)\n",
    "\n",
    "\n",
    "if __name__ == '__main__':\n",
    "    s = input()\n",
    "    print(list(s))\n",
    "    print(strLength(s))"
   ]
  },
  {
   "cell_type": "markdown",
   "metadata": {},
   "source": [
    "# 4、健身\n",
    "\n",
    "输入：\n",
    "5 \n",
    "1 2 3 4 5\n",
    "1 1 1 1 1\n",
    "输出：\n",
    "11 12 13 14 15\n",
    "\n",
    "解释：5代表健身器材的种类数， 1 2 3 4 5 代表每个健身器材到门口的距离，走一米健身值加1； 1 1 1 1 1 代表每一种健身器材锻炼一次所获得的的健\n",
    "\n",
    "身值。输出表示选择K种健身方式所获得的健身值得最大值，11表示选择一种健身器材所获得的最大值，12表示选择两种健身器材所获得的最大值。。。。。\n"
   ]
  }
 ],
 "metadata": {
  "kernelspec": {
   "display_name": "Python 3",
   "language": "python",
   "name": "python3"
  },
  "language_info": {
   "codemirror_mode": {
    "name": "ipython",
    "version": 3
   },
   "file_extension": ".py",
   "mimetype": "text/x-python",
   "name": "python",
   "nbconvert_exporter": "python",
   "pygments_lexer": "ipython3",
   "version": "3.7.3"
  }
 },
 "nbformat": 4,
 "nbformat_minor": 2
}
