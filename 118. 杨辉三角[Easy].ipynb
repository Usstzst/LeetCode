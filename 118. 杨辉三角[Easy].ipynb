{
 "cells": [
  {
   "cell_type": "markdown",
   "metadata": {},
   "source": [
    "# 题目原意"
   ]
  },
  {
   "cell_type": "raw",
   "metadata": {},
   "source": [
    "给定一个非负整数 numRows，生成杨辉三角的前 numRows 行。\n",
    "\n",
    "在杨辉三角中，每个数是它左上方和右上方的数的和。"
   ]
  },
  {
   "cell_type": "raw",
   "metadata": {},
   "source": [
    "Example：\n",
    "输入: 5\n",
    "输出:\n",
    "[\n",
    "     [1],\n",
    "    [1,1],\n",
    "   [1,2,1],\n",
    "  [1,3,3,1],\n",
    " [1,4,6,4,1]\n",
    "]"
   ]
  },
  {
   "cell_type": "markdown",
   "metadata": {},
   "source": [
    "## 思路一"
   ]
  },
  {
   "cell_type": "raw",
   "metadata": {},
   "source": [
    "首先，你要知道帕斯卡三角形的规律： \n",
    "它是一个三角形矩阵，其顶端第0行是 1；第1行两个1，这两个1是由他们上头左右两数之和 (不在三角形内的数视为0)。依此类推产生第2行：0+1=1；1+1=2；1+0=1。第3行：0+1=1；1+2=3；2+1=3；1+0=1。循此产生后面的行。\n",
    "\n",
    "直接按照上面的规律，每一行的数据都是新生成的。这里要注意判断不在三角形内的数要视为0。\n"
   ]
  },
  {
   "cell_type": "code",
   "execution_count": 1,
   "metadata": {},
   "outputs": [],
   "source": [
    "class Solution(object):\n",
    "    def generate(self, numRows):\n",
    "        \"\"\"\n",
    "        :type numRows: int\n",
    "        :rtype: List[List[int]]\n",
    "        \"\"\"\n",
    "        if numRows == 0:\n",
    "            return []\n",
    "        res = [[1]]\n",
    "        for i in range(1, numRows):\n",
    "            res.append([])\n",
    "            for j in range(i+1):\n",
    "                res[i].append((res[i-1][j-1] if j>0 else 0) + (res[i-1][j] if j<i else 0))\n",
    "        return res\n"
   ]
  },
  {
   "cell_type": "markdown",
   "metadata": {},
   "source": [
    "## 思路二"
   ]
  },
  {
   "cell_type": "raw",
   "metadata": {},
   "source": [
    "实际上，每一行的第一和最后一个数都是1，考虑到这一点可以稍微减少计算量，同时避免了对额外情况的判断和处理。"
   ]
  },
  {
   "cell_type": "code",
   "execution_count": 2,
   "metadata": {},
   "outputs": [],
   "source": [
    "class Solution(object):\n",
    "    def generate(self, numRows):\n",
    "        \"\"\"\n",
    "        :type numRows: int\n",
    "        :rtype: List[List[int]]\n",
    "        \"\"\"\n",
    "        res = []\n",
    "        for i in range(0, numRows):\n",
    "            res.append([1]*(i+1))\n",
    "            for j in range(1, i):\n",
    "                res[i][j] = res[i-1][j-1] + res[i-1][j]\n",
    "        return res\n"
   ]
  }
 ],
 "metadata": {
  "kernelspec": {
   "display_name": "Python 3",
   "language": "python",
   "name": "python3"
  },
  "language_info": {
   "codemirror_mode": {
    "name": "ipython",
    "version": 3
   },
   "file_extension": ".py",
   "mimetype": "text/x-python",
   "name": "python",
   "nbconvert_exporter": "python",
   "pygments_lexer": "ipython3",
   "version": "3.6.5"
  }
 },
 "nbformat": 4,
 "nbformat_minor": 2
}
