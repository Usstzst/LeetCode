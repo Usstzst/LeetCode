{
 "cells": [
  {
   "cell_type": "markdown",
   "metadata": {},
   "source": [
    "# 题目原意"
   ]
  },
  {
   "cell_type": "raw",
   "metadata": {},
   "source": [
    "一条包含字母 A-Z 的消息通过以下方式进行了编码：\n",
    "'A' -> 1\n",
    "'B' -> 2\n",
    "...\n",
    "'Z' -> 26\n",
    "给定一个只包含数字的非空字符串，请计算解码方法的总数。\n"
   ]
  },
  {
   "cell_type": "raw",
   "metadata": {},
   "source": [
    "示例 1:\n",
    "输入: \"12\"\n",
    "输出: 2\n",
    "解释: 它可以解码为 \"AB\"（1 2）或者 \"L\"（12）。\n",
    "\n",
    "示例 2:\n",
    "输入: \"226\"\n",
    "输出: 3\n",
    "解释: 它可以解码为 \"BZ\" (2 26), \"VF\" (22 6), 或者 \"BBF\" (2 2 6) 。"
   ]
  },
  {
   "cell_type": "markdown",
   "metadata": {},
   "source": [
    "## 思路一：动态规划"
   ]
  },
  {
   "cell_type": "code",
   "execution_count": 2,
   "metadata": {},
   "outputs": [],
   "source": [
    "class Solution(object):\n",
    "    def numDecodings(self, s):\n",
    "        \"\"\"\n",
    "        :type s: str\n",
    "        :rtype: int\n",
    "        \"\"\"\n",
    "        dp = [0] * (len(s) + 1)\n",
    "        dp[0] = 1\n",
    "        for i in range(1, len(dp)):\n",
    "            if s[i-1] != '0':\n",
    "                dp[i] = dp[i-1]\n",
    "            if i != 1 and '09' < s[i-2:i] < '27':\n",
    "                dp[i] += dp[i-2]\n",
    "        return dp[-1]\n"
   ]
  }
 ],
 "metadata": {
  "kernelspec": {
   "display_name": "Python 3",
   "language": "python",
   "name": "python3"
  },
  "language_info": {
   "codemirror_mode": {
    "name": "ipython",
    "version": 3
   },
   "file_extension": ".py",
   "mimetype": "text/x-python",
   "name": "python",
   "nbconvert_exporter": "python",
   "pygments_lexer": "ipython3",
   "version": "3.6.5"
  }
 },
 "nbformat": 4,
 "nbformat_minor": 2
}
