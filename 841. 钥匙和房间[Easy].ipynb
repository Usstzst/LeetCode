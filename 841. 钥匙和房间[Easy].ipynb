{
 "cells": [
  {
   "cell_type": "markdown",
   "metadata": {},
   "source": [
    "# 题目原意"
   ]
  },
  {
   "cell_type": "raw",
   "metadata": {},
   "source": [
    "有 N 个房间，开始时你位于 0 号房间。每个房间有不同的号码：0，1，2，...，N-1，并且房间里可能有一些钥匙能使你进入下一个房间。\n",
    "\n",
    "在形式上，对于每个房间 i 都有一个钥匙列表 rooms[i]，每个钥匙 rooms[i][j] 由 [0,1，...，N-1] 中的一个整数表示，其中 N = rooms.length。 钥匙 rooms[i][j] = v 可以打开编号为 v 的房间。\n",
    "\n",
    "最初，除 0 号房间外的其余所有房间都被锁住。\n",
    "\n",
    "你可以自由地在房间之间来回走动。\n",
    "\n",
    "如果能进入每个房间返回 true，否则返回 false。"
   ]
  },
  {
   "cell_type": "raw",
   "metadata": {},
   "source": [
    "Example 1:\n",
    "输入: [[1],[2],[3],[]]\n",
    "输出: true\n",
    "解释:  \n",
    "我们从 0 号房间开始，拿到钥匙 1。\n",
    "之后我们去 1 号房间，拿到钥匙 2。\n",
    "然后我们去 2 号房间，拿到钥匙 3。\n",
    "最后我们去了 3 号房间。\n",
    "由于我们能够进入每个房间，我们返回 true。\n",
    "\n",
    "\n",
    "\n",
    "Example 2:\n",
    "输入：[[1,3],[3,0,1],[2],[0]]\n",
    "输出：false\n",
    "解释：我们不能进入 2 号房间。"
   ]
  },
  {
   "cell_type": "markdown",
   "metadata": {},
   "source": [
    "## 思路一： DFS"
   ]
  },
  {
   "cell_type": "raw",
   "metadata": {},
   "source": [
    "写一个方法dfs，把当前的门打开，并看这个房间的钥匙，找到还没去过的房间，把门打开，依次类推。\n",
    "\n",
    "这样，我们就遍历了所有的能去到的房间，最后看一下是否所有的房间都经历过即可。"
   ]
  },
  {
   "cell_type": "code",
   "execution_count": 1,
   "metadata": {},
   "outputs": [],
   "source": [
    "class Solution:\n",
    "    def canVisitAllRooms(self, rooms):\n",
    "        \"\"\"\n",
    "        :type rooms: List[List[int]]\n",
    "        :rtype: bool\n",
    "        \"\"\"\n",
    "        visited = [0]*len(rooms)\n",
    "        self.dfs(rooms, 0, visited)\n",
    "        return sum(visited) == len(rooms)\n",
    "    \n",
    "    \n",
    "    def dfs(self, rooms, index, visited):\n",
    "        visited[index] = 1\n",
    "        for key in rooms[index]:\n",
    "            if not visited[key]:\n",
    "                self.dfs(rooms, key, visited)\n"
   ]
  }
 ],
 "metadata": {
  "kernelspec": {
   "display_name": "Python 3",
   "language": "python",
   "name": "python3"
  },
  "language_info": {
   "codemirror_mode": {
    "name": "ipython",
    "version": 3
   },
   "file_extension": ".py",
   "mimetype": "text/x-python",
   "name": "python",
   "nbconvert_exporter": "python",
   "pygments_lexer": "ipython3",
   "version": "3.6.5"
  }
 },
 "nbformat": 4,
 "nbformat_minor": 2
}
