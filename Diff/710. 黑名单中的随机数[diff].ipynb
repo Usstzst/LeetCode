{
 "cells": [
  {
   "cell_type": "markdown",
   "metadata": {},
   "source": [
    "# 题目原意"
   ]
  },
  {
   "cell_type": "raw",
   "metadata": {},
   "source": [
    "给定一个包含 [0，n ) 中独特的整数的黑名单 B，写一个函数从 [ 0，n ) 中返回一个不在 B 中的随机整数。\n",
    "\n",
    "对它进行优化使其尽量少调用系统方法 Math.random() 。\n",
    "\n",
    "提示:\n",
    "\n",
    "1 <= N <= 1000000000\n",
    "0 <= B.length < min(100000, N)\n",
    "[0, N) 不包含 N，详细参见 interval notation 。\n"
   ]
  },
  {
   "cell_type": "raw",
   "metadata": {},
   "source": [
    "示例 1:\n",
    "输入: \n",
    "[\"Solution\",\"pick\",\"pick\",\"pick\"]\n",
    "[[1,[]],[],[],[]]\n",
    "输出: [null,0,0,0]\n",
    "\n",
    "示例 2:\n",
    "输入: \n",
    "[\"Solution\",\"pick\",\"pick\",\"pick\"]\n",
    "[[2,[]],[],[],[]]\n",
    "输出: [null,1,1,1]\n",
    "\n",
    "示例 3:\n",
    "输入: \n",
    "[\"Solution\",\"pick\",\"pick\",\"pick\"]\n",
    "[[3,[1]],[],[],[]]\n",
    "Output: [null,0,0,2]\n",
    "\n",
    "示例 4:\n",
    "输入: \n",
    "[\"Solution\",\"pick\",\"pick\",\"pick\"]\n",
    "[[4,[2]],[],[],[]]\n",
    "输出: [null,1,3,1]\n",
    "\n",
    "输入语法说明：\n",
    "输入是两个列表：调用成员函数名和调用的参数。Solution的构造函数有两个参数，N 和黑名单 B。pick 没有参数，输入参数是一个列表，即使参数为空，也会输入一个 [] 空列表。"
   ]
  },
  {
   "cell_type": "markdown",
   "metadata": {},
   "source": [
    "## 思路一"
   ]
  },
  {
   "cell_type": "raw",
   "metadata": {},
   "source": [
    "别人的思路，我还没看懂，先做整理，后面继续补充"
   ]
  },
  {
   "cell_type": "code",
   "execution_count": 1,
   "metadata": {},
   "outputs": [],
   "source": [
    "class Solution:\n",
    "\n",
    "    def __init__(self, N, blacklist):\n",
    "        \"\"\"\n",
    "        :type N: int\n",
    "        :type blacklist: List[int]\n",
    "        \"\"\"\n",
    "        self.map = {}\n",
    "\n",
    "        for i in blacklist:\n",
    "            self.map[i] = 1\n",
    "        self.M = N - len(blacklist)\n",
    "        for i in blacklist:\n",
    "            if i < self.M:\n",
    "                N = N-1\n",
    "                while N in self.map:\n",
    "                    N -= 1\n",
    "                self.map[i] = N\n",
    "\n",
    "        # print(self.map)\n",
    "        # print(self.M)\n",
    "\n",
    "    def pick(self):\n",
    "        \"\"\"\n",
    "        :rtype: int\n",
    "        \"\"\"\n",
    "        import  random\n",
    "        res =random.randint(0,self.M-1)\n",
    "        return self.map[res] if res in self.map else res\n"
   ]
  }
 ],
 "metadata": {
  "kernelspec": {
   "display_name": "Python 3",
   "language": "python",
   "name": "python3"
  },
  "language_info": {
   "codemirror_mode": {
    "name": "ipython",
    "version": 3
   },
   "file_extension": ".py",
   "mimetype": "text/x-python",
   "name": "python",
   "nbconvert_exporter": "python",
   "pygments_lexer": "ipython3",
   "version": "3.6.5"
  }
 },
 "nbformat": 4,
 "nbformat_minor": 2
}
