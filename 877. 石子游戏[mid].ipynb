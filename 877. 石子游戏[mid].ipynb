{
 "cells": [
  {
   "cell_type": "markdown",
   "metadata": {},
   "source": [
    "# 题目原意"
   ]
  },
  {
   "cell_type": "raw",
   "metadata": {},
   "source": [
    "亚历克斯和李用几堆石子在做游戏。偶数堆石子排成一行，每堆都有正整数颗石子 piles[i] 。\n",
    "\n",
    "游戏以谁手中的石子最多来决出胜负。石子的总数是奇数，所以没有平局。\n",
    "\n",
    "亚历克斯和李轮流进行，亚历克斯先开始。 每回合，玩家从行的开始或结束处取走整堆石头。 这种情况一直持续到没有更多的石子堆为止，此时手中石子最多的玩家获胜。\n",
    "\n",
    "假设亚历克斯和李都发挥出最佳水平，当亚历克斯赢得比赛时返回 true ，当李赢得比赛时返回 false 。\n"
   ]
  },
  {
   "cell_type": "raw",
   "metadata": {},
   "source": [
    "示例：\n",
    "输入：[5,3,4,5]\n",
    "输出：true\n",
    "\n",
    "解释：\n",
    "亚历克斯先开始，只能拿前 5 颗或后 5 颗石子 。\n",
    "假设他取了前 5 颗，这一行就变成了 [3,4,5] 。\n",
    "如果李拿走前 3 颗，那么剩下的是 [4,5]，亚历克斯拿走后 5 颗赢得 10 分。\n",
    "如果李拿走后 5 颗，那么剩下的是 [3,4]，亚历克斯拿走后 4 颗赢得 9 分。\n",
    "这表明，取前 5 颗石子对亚历克斯来说是一个胜利的举动，所以我们返回 true 。\n",
    " \n",
    "\n",
    "提示：\n",
    "2 <= piles.length <= 500\n",
    "piles.length 是偶数。\n",
    "1 <= piles[i] <= 500\n",
    "sum(piles) 是奇数。"
   ]
  },
  {
   "cell_type": "markdown",
   "metadata": {},
   "source": [
    "## 思路一：数学"
   ]
  },
  {
   "cell_type": "raw",
   "metadata": {},
   "source": [
    "直接return True就行。因为题目给了限定条件，总和是奇数，数字的个数是偶数。这样也就是简化成了问第一个人拿到的数字总和能否超过sum/2.\n",
    "\n",
    "所以，第一个人直接选择偶数位置或者奇数位置的数字可以。\n",
    "\n",
    "比如Alex选择偶数，piles[0], piles[2], …, piles[n-2]，\n",
    "他选择了piles[0]，这个时候Lee可以选择piles[1] 或 piles[n - 1].\n",
    "之后Alex可以继续选择偶数的位置。所以Lee就被迫选择了所有奇数的位置。\n",
    "\n",
    "反之，如果Alex从倒数第一个开始选，那么他能选到所有的奇数位置，Lee被迫选偶数位置。\n",
    "\n",
    "故，Alex只要选出奇数、偶数位置中求和之后最大的就行，一定会赢。\n"
   ]
  },
  {
   "cell_type": "code",
   "execution_count": 1,
   "metadata": {},
   "outputs": [],
   "source": [
    "class Solution(object):\n",
    "    def stoneGame(self, piles):\n",
    "        \"\"\"\n",
    "        :type piles: List[int]\n",
    "        :rtype: bool\n",
    "        \"\"\"\n",
    "        return True"
   ]
  }
 ],
 "metadata": {
  "kernelspec": {
   "display_name": "Python 3",
   "language": "python",
   "name": "python3"
  },
  "language_info": {
   "codemirror_mode": {
    "name": "ipython",
    "version": 3
   },
   "file_extension": ".py",
   "mimetype": "text/x-python",
   "name": "python",
   "nbconvert_exporter": "python",
   "pygments_lexer": "ipython3",
   "version": "3.7.0"
  }
 },
 "nbformat": 4,
 "nbformat_minor": 2
}
