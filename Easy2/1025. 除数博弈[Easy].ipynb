{
 "cells": [
  {
   "cell_type": "markdown",
   "metadata": {},
   "source": [
    "# 题目原意"
   ]
  },
  {
   "cell_type": "raw",
   "metadata": {},
   "source": [
    "爱丽丝和鲍勃一起玩游戏，他们轮流行动。爱丽丝先手开局。\n",
    "\n",
    "最初，黑板上有一个数字 N 。在每个玩家的回合，玩家需要执行以下操作：\n",
    "\n",
    "选出任一 x，满足 0 < x < N 且 N % x == 0 。\n",
    "用 N - x 替换黑板上的数字 N 。\n",
    "如果玩家无法执行这些操作，就会输掉游戏。\n",
    "\n",
    "只有在爱丽丝在游戏中取得胜利时才返回 True，否则返回 false。假设两个玩家都以最佳状态参与游戏。"
   ]
  },
  {
   "cell_type": "raw",
   "metadata": {},
   "source": [
    "示例 1：\n",
    "输入：2\n",
    "输出：true\n",
    "解释：爱丽丝选择 1，鲍勃无法进行操作。\n",
    "\n",
    "示例 2：\n",
    "输入：3\n",
    "输出：false\n",
    "解释：爱丽丝选择 1，鲍勃也选择 1，然后爱丽丝无法进行操作。\n",
    " \n",
    "提示：\n",
    "1 <= N <= 1000"
   ]
  },
  {
   "cell_type": "markdown",
   "metadata": {},
   "source": [
    "## 思路一"
   ]
  },
  {
   "cell_type": "markdown",
   "metadata": {},
   "source": [
    "如果N是奇数，因为**奇数的所有因数都是奇数**，因此 N 进行一次 N-x 的操作结果一定是偶数，所以如果 a 拿到了一个奇数，那么轮到 b 的时候，b拿到的肯定是偶数，这个时候 b 只要进行 -1， 还给 a 一个奇数，那么这样子b就会一直拿到偶数，到最后b一定会拿到最小偶数2，a就输了。\n",
    "\n",
    "所以如果游戏开始时Alice拿到N为奇数，那么她必输，也就是false。如果拿到N为偶数，她只用 -1，让bob 拿到奇数，最后bob必输，结果就是true。"
   ]
  },
  {
   "cell_type": "code",
   "execution_count": 2,
   "metadata": {},
   "outputs": [],
   "source": [
    "class Solution(object):\n",
    "    def divisorGame(self, N):\n",
    "        \"\"\"\n",
    "        :type N: int\n",
    "        :rtype: bool\n",
    "        \"\"\"\n",
    "        return N % 2 == 0"
   ]
  },
  {
   "cell_type": "markdown",
   "metadata": {},
   "source": [
    "## 思路二：动态规划"
   ]
  },
  {
   "cell_type": "raw",
   "metadata": {},
   "source": [
    "将所有的小于等于N的解都找出来，基于前面的，递推后面的。\n",
    "\n",
    "状态转移: 如果i的约数里面有存在为False的（即输掉的情况），则当前i应为True；如果没有，则为False。"
   ]
  },
  {
   "cell_type": "code",
   "execution_count": 1,
   "metadata": {},
   "outputs": [],
   "source": [
    "class Solution:\n",
    "    def divisorGame(self, N: int) -> bool:\n",
    "        target = [0 for i in range(N+1)]\n",
    "        target[1] = 0 #若爱丽丝抽到1，则爱丽丝输\n",
    "        if N<=1:\n",
    "            return False\n",
    "        else:\n",
    "            target[2] = 1 #若爱丽丝抽到2，则爱丽丝赢\n",
    "            for i in range(3,N+1):\n",
    "                for j in range(1,i//2):\n",
    "                    # 若i是j的倍数且target[i-j]为假（0）的话，则代表当前为真（1）\n",
    "                    if i%j==0 and target[i-j]==0:\n",
    "                        target[i] = 1\n",
    "                        break\n",
    "            return target[N]==1\n"
   ]
  }
 ],
 "metadata": {
  "kernelspec": {
   "display_name": "Python 3",
   "language": "python",
   "name": "python3"
  },
  "language_info": {
   "codemirror_mode": {
    "name": "ipython",
    "version": 3
   },
   "file_extension": ".py",
   "mimetype": "text/x-python",
   "name": "python",
   "nbconvert_exporter": "python",
   "pygments_lexer": "ipython3",
   "version": "3.7.0"
  }
 },
 "nbformat": 4,
 "nbformat_minor": 2
}
