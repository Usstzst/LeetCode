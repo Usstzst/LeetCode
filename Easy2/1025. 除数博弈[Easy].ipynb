{
 "cells": [
  {
   "cell_type": "markdown",
   "metadata": {},
   "source": [
    "# 题目原意"
   ]
  },
  {
   "cell_type": "raw",
   "metadata": {},
   "source": [
    "爱丽丝和鲍勃一起玩游戏，他们轮流行动。爱丽丝先手开局。\n",
    "\n",
    "最初，黑板上有一个数字 N 。在每个玩家的回合，玩家需要执行以下操作：\n",
    "\n",
    "选出任一 x，满足 0 < x < N 且 N % x == 0 。\n",
    "用 N - x 替换黑板上的数字 N 。\n",
    "如果玩家无法执行这些操作，就会输掉游戏。\n",
    "\n",
    "只有在爱丽丝在游戏中取得胜利时才返回 True，否则返回 false。假设两个玩家都以最佳状态参与游戏。"
   ]
  },
  {
   "cell_type": "raw",
   "metadata": {},
   "source": [
    "示例 1：\n",
    "输入：2\n",
    "输出：true\n",
    "解释：爱丽丝选择 1，鲍勃无法进行操作。\n",
    "\n",
    "示例 2：\n",
    "输入：3\n",
    "输出：false\n",
    "解释：爱丽丝选择 1，鲍勃也选择 1，然后爱丽丝无法进行操作。\n",
    " \n",
    "提示：\n",
    "1 <= N <= 1000"
   ]
  },
  {
   "cell_type": "markdown",
   "metadata": {},
   "source": [
    "## 思路一"
   ]
  },
  {
   "cell_type": "raw",
   "metadata": {},
   "source": [
    "如果N为偶数，则坚持选择x = 1，对方得到N - 1为大于0的奇数\n",
    "如果N为奇数：\n",
    "    如果N > 1, 其因子必然也是奇数，所以无论选择任何x，N - x都将变为偶数\n",
    "    由于x < N，给予对方的N - x必然是 > 0的偶数\n",
    "    如果N = 1，直接失败。\n",
    "综上，N为偶数时必然大于0，只需要坚持选择x = 1，最终对方会得到N = 1而失败。\n",
    "所以N为偶数时返回true。"
   ]
  },
  {
   "cell_type": "code",
   "execution_count": 2,
   "metadata": {},
   "outputs": [],
   "source": [
    "class Solution(object):\n",
    "    def divisorGame(self, N):\n",
    "        \"\"\"\n",
    "        :type N: int\n",
    "        :rtype: bool\n",
    "        \"\"\"\n",
    "        return N % 2 == 0"
   ]
  },
  {
   "cell_type": "markdown",
   "metadata": {},
   "source": [
    "## 思路二：动态规划"
   ]
  },
  {
   "cell_type": "code",
   "execution_count": 3,
   "metadata": {},
   "outputs": [],
   "source": [
    "class Solution(object):\n",
    "    dic = {1:1}\n",
    "    \n",
    "    def init(self):\n",
    "        for i in range(2,1000+1):\n",
    "            flag = False\n",
    "            for j in range(1,i):\n",
    "                if i % j == 0 and i - j in self.dic:\n",
    "                    flag = True\n",
    "                    break\n",
    "            if flag == False:\n",
    "                self.dic[i] = 1\n",
    "\n",
    "    def divisorGame(self, N):\n",
    "        \"\"\"\n",
    "        :type N: int\n",
    "        :rtype: bool\n",
    "        \"\"\"\n",
    "        if len(self.dic) == 1:\n",
    "            self.init()\n",
    "        return N not in self.dic"
   ]
  }
 ],
 "metadata": {
  "kernelspec": {
   "display_name": "Python 3",
   "language": "python",
   "name": "python3"
  },
  "language_info": {
   "codemirror_mode": {
    "name": "ipython",
    "version": 3
   },
   "file_extension": ".py",
   "mimetype": "text/x-python",
   "name": "python",
   "nbconvert_exporter": "python",
   "pygments_lexer": "ipython3",
   "version": "3.7.0"
  }
 },
 "nbformat": 4,
 "nbformat_minor": 2
}
