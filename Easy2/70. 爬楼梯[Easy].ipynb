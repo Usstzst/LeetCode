{
 "cells": [
  {
   "cell_type": "markdown",
   "metadata": {},
   "source": [
    "# 题目原意"
   ]
  },
  {
   "cell_type": "raw",
   "metadata": {},
   "source": [
    "假设你正在爬楼梯。需要 n 阶你才能到达楼顶。\n",
    "每次你可以爬 1 或 2 个台阶。你有多少种不同的方法可以爬到楼顶呢？\n",
    "注意：给定 n 是一个正整数。\n",
    "\n",
    "示例 1：\n",
    "输入： 2\n",
    "输出： 2\n",
    "解释： 有两种方法可以爬到楼顶。\n",
    "1.  1 阶 + 1 阶\n",
    "2.  2 阶\n",
    "\n",
    "示例 2：\n",
    "输入： 3\n",
    "输出： 3\n",
    "解释： 有三种方法可以爬到楼顶。\n",
    "1.  1 阶 + 1 阶 + 1 阶\n",
    "2.  1 阶 + 2 阶\n",
    "3.  2 阶 + 1 阶"
   ]
  },
  {
   "cell_type": "markdown",
   "metadata": {},
   "source": [
    "## 题目解析 "
   ]
  },
  {
   "cell_type": "markdown",
   "metadata": {},
   "source": [
    "\n",
    "<img src=\"picture/爬楼梯.jpg\" width=\"50%\">\n",
    "\n",
    "这张图即为该问题的抽象形式。\n",
    "数组a = [0]*(n+1) 存放阶梯数为 n 时所有可能路径数\n",
    "n = 0 时， a[0] = 1\n",
    "n = 1 时， a[1] = 1\n",
    "n = 2 时， a[2] = 2\n",
    "n = 3 时， a[3] = 3\n",
    "n= 4 时， a[4] = 5\n",
    "\n",
    "总结： a[n] = a[n-1] + a[n-2]\n"
   ]
  },
  {
   "cell_type": "markdown",
   "metadata": {},
   "source": [
    "## 方法一"
   ]
  },
  {
   "cell_type": "code",
   "execution_count": 1,
   "metadata": {},
   "outputs": [],
   "source": [
    "class Solution(object):\n",
    "    def climbStairs(self, n):\n",
    "        \"\"\"\n",
    "        :type n: int\n",
    "        :rtype: int\n",
    "        \"\"\"\n",
    "        condition = [0] * (n+1)\n",
    "        condition[0] = 1\n",
    "        condition[1] = 1\n",
    "        for i in range(2, n+1):\n",
    "            condition[i] = condition[i-1]+condition[i-2]\n",
    "        return condition[n]\n",
    "        "
   ]
  },
  {
   "cell_type": "code",
   "execution_count": 2,
   "metadata": {},
   "outputs": [],
   "source": [
    "class Solution(object):\n",
    "    def climbStairs(self, n):\n",
    "        \"\"\"\n",
    "        :type n: int\n",
    "        :rtype: int\n",
    "        \"\"\"\n",
    "        nums= [0,1,2]\n",
    "        if n==1:\n",
    "            return nums[1]\n",
    "        elif n==2:\n",
    "            return nums[2]\n",
    "        else:\n",
    "            for i in range(3,n+1):\n",
    "                nums.append(nums[i-1]+nums[i-2])\n",
    "        return nums[n]"
   ]
  }
 ],
 "metadata": {
  "kernelspec": {
   "display_name": "Python 3",
   "language": "python",
   "name": "python3"
  },
  "language_info": {
   "codemirror_mode": {
    "name": "ipython",
    "version": 3
   },
   "file_extension": ".py",
   "mimetype": "text/x-python",
   "name": "python",
   "nbconvert_exporter": "python",
   "pygments_lexer": "ipython3",
   "version": "3.7.0"
  }
 },
 "nbformat": 4,
 "nbformat_minor": 2
}
