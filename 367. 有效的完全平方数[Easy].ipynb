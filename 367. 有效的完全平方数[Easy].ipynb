{
 "cells": [
  {
   "cell_type": "markdown",
   "metadata": {},
   "source": [
    "# 题目原意 "
   ]
  },
  {
   "cell_type": "raw",
   "metadata": {},
   "source": [
    "给定一个正整数 num，编写一个函数，如果 num 是一个完全平方数，则返回 True，否则返回 False。\n",
    "\n",
    "说明：不要使用任何内置的库函数，如  sqrt。"
   ]
  },
  {
   "cell_type": "markdown",
   "metadata": {},
   "source": [
    "## 思路一：二分法"
   ]
  },
  {
   "cell_type": "code",
   "execution_count": 2,
   "metadata": {},
   "outputs": [],
   "source": [
    "class Solution(object):\n",
    "    def isPerfectSquare(self, num):\n",
    "        \"\"\"\n",
    "        :type num: int\n",
    "        :rtype: bool\n",
    "        \"\"\"\n",
    "        low, high = 0, num\n",
    "        if num == 1:\n",
    "            return True\n",
    "        while low< high:\n",
    "            mid = (low+high)/2\n",
    "            if (mid*mid)<num:\n",
    "                low = mid + 1\n",
    "            elif mid*mid > num:\n",
    "                high = mid\n",
    "        return False\n",
    "    \n"
   ]
  },
  {
   "cell_type": "markdown",
   "metadata": {},
   "source": [
    "## 思路二：牛顿迭代法"
   ]
  },
  {
   "cell_type": "raw",
   "metadata": {},
   "source": [
    "求平方根可以转化为求函数y = x ^ 2 - num的根\n",
    "\n",
    "迭代过程x = (x + num / x) * 1/2"
   ]
  },
  {
   "cell_type": "code",
   "execution_count": 3,
   "metadata": {},
   "outputs": [],
   "source": [
    "\n",
    "class Solution(object):\n",
    "    def isPerfectSquare(self, num):\n",
    "        \"\"\"\n",
    "        :type num: int\n",
    "        :rtype: bool\n",
    "        \"\"\"\n",
    "        x = num\n",
    "        while x * x > num:\n",
    "            x = (x + num / x) / 2\n",
    "        return x * x == num"
   ]
  }
 ],
 "metadata": {
  "kernelspec": {
   "display_name": "Python 3",
   "language": "python",
   "name": "python3"
  },
  "language_info": {
   "codemirror_mode": {
    "name": "ipython",
    "version": 3
   },
   "file_extension": ".py",
   "mimetype": "text/x-python",
   "name": "python",
   "nbconvert_exporter": "python",
   "pygments_lexer": "ipython3",
   "version": "3.6.5"
  }
 },
 "nbformat": 4,
 "nbformat_minor": 2
}
