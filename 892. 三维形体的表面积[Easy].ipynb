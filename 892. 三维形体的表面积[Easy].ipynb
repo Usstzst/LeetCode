{
 "cells": [
  {
   "cell_type": "markdown",
   "metadata": {},
   "source": [
    "# 题目原意\n"
   ]
  },
  {
   "cell_type": "raw",
   "metadata": {},
   "source": [
    "在 N * N 的网格上，我们放置一些 1 * 1 * 1  的立方体。\n",
    "\n",
    "每个值 v = grid[i][j] 表示 v 个正方体叠放在单元格 (i, j) 上。\n",
    "\n",
    "返回结果形体的总表面积。\n"
   ]
  },
  {
   "cell_type": "raw",
   "metadata": {},
   "source": [
    "示例 1：\n",
    "输入：[[2]]\n",
    "输出：10\n",
    "\n",
    "示例 2：\n",
    "输入：[[1,2],[3,4]]\n",
    "输出：34\n",
    "\n",
    "示例 3：\n",
    "输入：[[1,0],[0,2]]\n",
    "输出：16\n",
    "\n",
    "示例 4：\n",
    "输入：[[1,1,1],[1,0,1],[1,1,1]]\n",
    "输出：32\n",
    "\n",
    "示例 5：\n",
    "输入：[[2,2,2],[2,1,2],[2,2,2]]\n",
    "输出：46"
   ]
  },
  {
   "cell_type": "markdown",
   "metadata": {},
   "source": [
    "## 思路一"
   ]
  },
  {
   "cell_type": "raw",
   "metadata": {},
   "source": [
    "要求整个图形的表面积，那么可以分解为求出每个立方体的表面积，然后减去重叠部分的面积。按照这个思路，就变得简单了。\n",
    "\n",
    "如果某个位置的数值不是0，那么这个柱子的表面积是grid[i][j] * 4 + 2；\n",
    "\n",
    "重叠部分的面积是两个柱子之间，高度最小的那个的高度.因为重叠使得两个柱子都变矮了，所以要把这个高度*2.\n"
   ]
  },
  {
   "cell_type": "code",
   "execution_count": 1,
   "metadata": {},
   "outputs": [],
   "source": [
    "class Solution(object):\n",
    "    def surfaceArea(self, grid):\n",
    "        \"\"\"\n",
    "        :type grid: List[List[int]]\n",
    "        :rtype: int\n",
    "        \"\"\"\n",
    "        area = 0\n",
    "        n = len(grid)\n",
    "        for i in range(n):\n",
    "            for j in range(n):\n",
    "                if grid[i][j]: area += grid[i][j] * 4 + 2\n",
    "                if i: area -= min(grid[i][j], grid[i-1][j]) * 2\n",
    "                if j: area -= min(grid[i][j], grid[i][j-1]) * 2\n",
    "        return area\n",
    "                    \n"
   ]
  }
 ],
 "metadata": {
  "kernelspec": {
   "display_name": "Python 3",
   "language": "python",
   "name": "python3"
  },
  "language_info": {
   "codemirror_mode": {
    "name": "ipython",
    "version": 3
   },
   "file_extension": ".py",
   "mimetype": "text/x-python",
   "name": "python",
   "nbconvert_exporter": "python",
   "pygments_lexer": "ipython3",
   "version": "3.6.5"
  }
 },
 "nbformat": 4,
 "nbformat_minor": 2
}
