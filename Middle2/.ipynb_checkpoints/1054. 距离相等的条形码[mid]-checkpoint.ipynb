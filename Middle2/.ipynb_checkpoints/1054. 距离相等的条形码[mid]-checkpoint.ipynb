{
 "cells": [
  {
   "cell_type": "markdown",
   "metadata": {},
   "source": [
    "# 题目原意"
   ]
  },
  {
   "cell_type": "raw",
   "metadata": {},
   "source": [
    "在一个仓库里，有一排条形码，其中第 i 个条形码为 barcodes[i]。\n",
    "\n",
    "请你重新排列这些条形码，使其中两个相邻的条形码 不能 相等。 你可以返回任何满足该要求的答案，此题保证存在答案。\n",
    "\n",
    " \n",
    "\n",
    "示例 1：\n",
    "输入：[1,1,1,2,2,2]\n",
    "输出：[2,1,2,1,2,1]\n",
    "\n",
    "示例 2：\n",
    "输入：[1,1,1,1,2,2,3,3]\n",
    "输出：[1,3,1,3,2,1,2,1]"
   ]
  },
  {
   "cell_type": "markdown",
   "metadata": {},
   "source": [
    "## 思路一"
   ]
  },
  {
   "cell_type": "raw",
   "metadata": {},
   "source": [
    "1、用到collections.Counter()统计每个元素出现的次数\n",
    "2、然后构建新blist:按照元素出现次数的顺序排列\n",
    "3、保存结果：顺序从blist中弹出，先存放到所有奇数位，在存放到所有偶数位"
   ]
  },
  {
   "cell_type": "code",
   "execution_count": 2,
   "metadata": {},
   "outputs": [],
   "source": [
    "class Solution(object):\n",
    "    def rearrangeBarcodes(self, barcodes):\n",
    "        \"\"\"\n",
    "        :type barcodes: List[int]\n",
    "        :rtype: List[int]\n",
    "        \"\"\"\n",
    "        \n",
    "        tmp_list = collections.Counter(barcodes).most_common()\n",
    "        \n",
    "        blist = []\n",
    "        for (k,v) in tmp_list:\n",
    "            blist +=[k]*v\n",
    "        \n",
    "        res = [0] * len(barcodes)\n",
    "        for i in range(0,len(res),2):\n",
    "            res[i] = blist.pop(0)\n",
    "        for i in range(1,len(res), 2):\n",
    "            res[i] = blist.pop(0)\n",
    "        return res"
   ]
  }
 ],
 "metadata": {
  "kernelspec": {
   "display_name": "Python 3",
   "language": "python",
   "name": "python3"
  },
  "language_info": {
   "codemirror_mode": {
    "name": "ipython",
    "version": 3
   },
   "file_extension": ".py",
   "mimetype": "text/x-python",
   "name": "python",
   "nbconvert_exporter": "python",
   "pygments_lexer": "ipython3",
   "version": "3.7.3"
  }
 },
 "nbformat": 4,
 "nbformat_minor": 2
}
