{
 "cells": [
  {
   "cell_type": "markdown",
   "metadata": {},
   "source": [
    "# 题目原意"
   ]
  },
  {
   "cell_type": "raw",
   "metadata": {},
   "source": [
    "给出一个以头节点 head 作为第一个节点的链表。链表中的节点分别编号为：node_1, node_2, node_3, ... 。\n",
    "\n",
    "每个节点都可能有下一个更大值（next larger value）：对于 node_i，如果其 next_larger(node_i) 是 node_j.val，那么就有 j > i 且  node_j.val > node_i.val，而 j 是可能的选项中最小的那个。如果不存在这样的 j，那么下一个更大值为 0 。\n",
    "\n",
    "返回整数答案数组 answer，其中 answer[i] = next_larger(node_{i+1}) 。\n",
    "\n",
    "注意：在下面的示例中，诸如 [2,1,5] 这样的输入（不是输出）是链表的序列化表示，其头节点的值为 2，第二个节点值为 1，第三个节点值为 5 。"
   ]
  },
  {
   "cell_type": "raw",
   "metadata": {},
   "source": [
    "示例 1：\n",
    "输入：[2,1,5]\n",
    "输出：[5,5,0]\n",
    "\n",
    "示例 2：\n",
    "输入：[2,7,4,3,5]\n",
    "输出：[7,0,5,5,0]\n",
    "\n",
    "示例 3：\n",
    "输入：[1,7,5,1,9,2,5,1]\n",
    "输出：[7,9,9,9,0,5,0,0]\n",
    " \n",
    "\n",
    "提示：\n",
    "对于链表中的每个节点，1 <= node.val <= 10^9\n",
    "给定列表的长度在 [0, 10000] 范围内"
   ]
  },
  {
   "cell_type": "markdown",
   "metadata": {},
   "source": [
    "## 思路一"
   ]
  },
  {
   "cell_type": "raw",
   "metadata": {},
   "source": [
    "首先，把链表遍历一遍，转化成数组问题。\n",
    "\n",
    "然后遍历数组，当遇到一个比栈的最顶端元素更小的数字n时，把当前数字n的下标i放到栈里。如果遇到了一个数字n比栈顶元素stack[-1]为下标的数字更大时，需要一直退栈，而且每次退栈的时候都要把该栈顶元素stack[-1]对应res位置的结果设置为n."
   ]
  },
  {
   "cell_type": "code",
   "execution_count": 2,
   "metadata": {},
   "outputs": [],
   "source": [
    "# Definition for singly-linked list.\n",
    "# class ListNode(object):\n",
    "#     def __init__(self, x):\n",
    "#         self.val = x\n",
    "#         self.next = None\n",
    "\n",
    "class Solution(object):\n",
    "    def nextLargerNodes(self, head):\n",
    "        \"\"\"\n",
    "        :type head: ListNode\n",
    "        :rtype: List[int]\n",
    "        \"\"\"\n",
    "        nums = []\n",
    "        while head:\n",
    "            nums.append(head.val)\n",
    "            head = head.next\n",
    "        stack = []\n",
    "        res = [0] * len(nums)\n",
    "        for i, n in enumerate(nums):\n",
    "            while stack and nums[stack[-1]] < n:\n",
    "                res[stack.pop()] = n\n",
    "            stack.append(i)\n",
    "        return res\n"
   ]
  },
  {
   "cell_type": "markdown",
   "metadata": {},
   "source": [
    "## 插入排序法：57 / 76 个通过测试用例，超时"
   ]
  },
  {
   "cell_type": "code",
   "execution_count": 3,
   "metadata": {},
   "outputs": [],
   "source": [
    "# Definition for singly-linked list.\n",
    "# class ListNode(object):\n",
    "#     def __init__(self, x):\n",
    "#         self.val = x\n",
    "#         self.next = None\n",
    "\n",
    "class Solution(object):\n",
    "    def nextLargerNodes(self, head):\n",
    "        \"\"\"\n",
    "        :type head: ListNode\n",
    "        :rtype: List[int]\n",
    "        \"\"\"\n",
    "        A = []\n",
    "        while head:\n",
    "            A.append(head.val)\n",
    "            head = head.next\n",
    "        res = [0]*len(A)\n",
    "        for i in range(len(A)-1):\n",
    "            for j in range(i+1, len(A)):\n",
    "                if A[i]<A[j]:\n",
    "                    res[i]=A[j]\n",
    "                    break;\n",
    "        return res"
   ]
  }
 ],
 "metadata": {
  "kernelspec": {
   "display_name": "Python 3",
   "language": "python",
   "name": "python3"
  },
  "language_info": {
   "codemirror_mode": {
    "name": "ipython",
    "version": 3
   },
   "file_extension": ".py",
   "mimetype": "text/x-python",
   "name": "python",
   "nbconvert_exporter": "python",
   "pygments_lexer": "ipython3",
   "version": "3.7.0"
  }
 },
 "nbformat": 4,
 "nbformat_minor": 2
}
