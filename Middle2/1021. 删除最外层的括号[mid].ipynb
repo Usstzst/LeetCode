{
 "cells": [
  {
   "cell_type": "markdown",
   "metadata": {},
   "source": [
    "# 题目原意"
   ]
  },
  {
   "cell_type": "raw",
   "metadata": {},
   "source": [
    "有效括号字符串为空 (\"\")、\"(\" + A + \")\" 或 A + B，其中 A 和 B 都是有效的括号字符串，+ 代表字符串的连接。例如，\"\"，\"()\"，\"(())()\" 和 \"(()(()))\" 都是有效的括号字符串。\n",
    "\n",
    "如果有效字符串 S 非空，且不存在将其拆分为 S = A+B 的方法，我们称其为原语（primitive），其中 A 和 B 都是非空有效括号字符串。\n",
    "\n",
    "给出一个非空有效字符串 S，考虑将其进行原语化分解，使得：S = P_1 + P_2 + ... + P_k，其中 P_i 是有效括号字符串原语。\n",
    "\n",
    "对 S 进行原语化分解，删除分解中每个原语字符串的最外层括号，返回 S 。"
   ]
  },
  {
   "cell_type": "raw",
   "metadata": {},
   "source": [
    "示例 1：\n",
    "输入：\"(()())(())\"\n",
    "输出：\"()()()\"\n",
    "解释：\n",
    "输入字符串为 \"(()())(())\"，原语化分解得到 \"(()())\" + \"(())\"，\n",
    "删除每个部分中的最外层括号后得到 \"()()\" + \"()\" = \"()()()\"。\n",
    "\n",
    "示例 2：\n",
    "输入：\"(()())(())(()(()))\"\n",
    "输出：\"()()()()(())\"\n",
    "解释：\n",
    "输入字符串为 \"(()())(())(()(()))\"，原语化分解得到 \"(()())\" + \"(())\" + \"(()(()))\"，\n",
    "删除每隔部分中的最外层括号后得到 \"()()\" + \"()\" + \"()(())\" = \"()()()()(())\"。\n",
    "\n",
    "示例 3：\n",
    "输入：\"()()\"\n",
    "输出：\"\"\n",
    "解释：\n",
    "输入字符串为 \"()()\"，原语化分解得到 \"()\" + \"()\"，\n",
    "删除每个部分中的最外层括号后得到 \"\" + \"\" = \"\"。\n",
    " \n",
    "\n",
    "提示：\n",
    "S.length <= 10000\n",
    "S[i] 为 \"(\" 或 \")\"\n",
    "S 是一个有效括号字符串"
   ]
  },
  {
   "cell_type": "markdown",
   "metadata": {},
   "source": [
    "## 思路一"
   ]
  },
  {
   "cell_type": "raw",
   "metadata": {},
   "source": [
    "用一个变量来记录左右括号,\n",
    "当元素为左括号时加一,右括号时减一，则变量为零时表示指针走过了一个最外层括号，将中间的元素添加到结果列表当中即可。"
   ]
  },
  {
   "cell_type": "code",
   "execution_count": 1,
   "metadata": {},
   "outputs": [],
   "source": [
    "class Solution(object):\n",
    "    def removeOuterParentheses(self, S):\n",
    "        \"\"\"\n",
    "        :type S: str\n",
    "        :rtype: str\n",
    "        \"\"\"\n",
    "        last, cur_len = 0, 0\n",
    "        result = []\n",
    "        \n",
    "        for i, each in enumerate(S):\n",
    "            if each == '(':\n",
    "                cur_len += 1\n",
    "            if each == ')':\n",
    "                cur_len -= 1\n",
    "            if cur_len == 0:\n",
    "                result.append(S[last+1:i])\n",
    "                last = i + 1s\n",
    "        return ''.join(result)\n"
   ]
  }
 ],
 "metadata": {
  "kernelspec": {
   "display_name": "Python 3",
   "language": "python",
   "name": "python3"
  },
  "language_info": {
   "codemirror_mode": {
    "name": "ipython",
    "version": 3
   },
   "file_extension": ".py",
   "mimetype": "text/x-python",
   "name": "python",
   "nbconvert_exporter": "python",
   "pygments_lexer": "ipython3",
   "version": "3.7.0"
  }
 },
 "nbformat": 4,
 "nbformat_minor": 2
}
