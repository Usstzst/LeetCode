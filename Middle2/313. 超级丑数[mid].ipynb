{
 "cells": [
  {
   "cell_type": "markdown",
   "metadata": {},
   "source": [
    "# 题目原意"
   ]
  },
  {
   "cell_type": "raw",
   "metadata": {},
   "source": [
    "编写一段程序来查找第 n 个超级丑数。\n",
    "\n",
    "超级丑数是指其所有质因数都是长度为 k 的质数列表 primes 中的正整数。\n",
    "\n",
    "示例:\n",
    "输入: n = 12, primes = [2,7,13,19]\n",
    "输出: 32 \n",
    "解释: 给定长度为 4 的质数列表 primes = [2,7,13,19]，前 12 个超级丑数序列为：[1,2,4,7,8,13,14,16,19,26,28,32] 。\n",
    "\n",
    "说明:\n",
    "1 是任何给定 primes 的超级丑数。\n",
    " 给定 primes 中的数字以升序排列。\n",
    "0 < k ≤ 100, 0 < n ≤ 106, 0 < primes[i] < 1000 。\n",
    "第 n 个超级丑数确保在 32 位有符整数范围内。"
   ]
  },
  {
   "cell_type": "markdown",
   "metadata": {},
   "source": [
    "## 思路一：动态规划"
   ]
  },
  {
   "cell_type": "code",
   "execution_count": 3,
   "metadata": {},
   "outputs": [],
   "source": [
    "import heapq\n",
    " \n",
    "class Solution(object):\n",
    "    def nthSuperUglyNumber(self, n, primes):\n",
    "        \"\"\"\n",
    "        :type n: int\n",
    "        :type primes: List[int]\n",
    "        :rtype: int\n",
    "        \"\"\"\n",
    "        uglies = [1]\n",
    "        def gen(prime):\n",
    "            for ugly in uglies:\n",
    "                print(ugly * prime)\n",
    "                yield ugly * prime\n",
    "        merged = heapq.merge(*map(gen, primes))\n",
    "        \n",
    "        while len(uglies) < n:\n",
    "            ugly = next(merged)\n",
    "            if ugly != uglies[-1]:\n",
    "                uglies.append(ugly)\n",
    "        return uglies[-1]"
   ]
  },
  {
   "cell_type": "code",
   "execution_count": 2,
   "metadata": {},
   "outputs": [],
   "source": [
    "class Solution:\n",
    "    def nthSuperUglyNumber(self, n, primes):\n",
    "        \n",
    "        # 处理特殊情况，如果n为1或者primes为空，返回1\n",
    "        if n < 2 or not primes: return 1\n",
    "        # 声明一个数组，用于存储获取的丑数\n",
    "        uglynum = [1]\n",
    "        # 辅助变量，primes的个数，当前生成的丑数的个数\n",
    "        num, count = len(primes), 1\n",
    "        # index数组用于存储primes中每个数上一次产生有效数的下一个位置\n",
    "        index = [0 for _ in range(num)]\n",
    "        while count < n:\n",
    "            # 动态规划，用primes中的每个数从上一次产生有效位置的地方产生下一个数\n",
    "            _next = [primes[i] * uglynum[index[i]] for i in range(num)]\n",
    "            print(_next)\n",
    "            # 下一个丑数是产生的丑数中最小的数\n",
    "            uglynext = min(_next)\n",
    "            # 更新索引值\n",
    "            for i in range(num):\n",
    "                if uglynext == _next[i]: index[i] += 1\n",
    "            uglynum.append(uglynext)\n",
    "            count += 1\n",
    "        print(uglynum)\n",
    "        # 返回最后一个丑数\n",
    "        return uglynum[-1]"
   ]
  },
  {
   "cell_type": "code",
   "execution_count": 4,
   "metadata": {},
   "outputs": [],
   "source": [
    "class Solution:\n",
    "    def nthSuperUglyNumber(self, n, primes):\n",
    "        \n",
    "        uglies=[1]\n",
    "        index=[0]*len(primes)\n",
    "        while len(uglies)<n:\n",
    "            out = [prime * uglies[index[i]] for i, prime in enumerate(primes)]\n",
    "            uglies.append(min(out))\n",
    "                \n",
    "            for i,prime in enumerate(primes):\n",
    "                if uglies[index[i]]*prime==uglies[-1]:\n",
    "                    index[i]+=1\n",
    "        return uglies[-1]"
   ]
  }
 ],
 "metadata": {
  "kernelspec": {
   "display_name": "Python 3",
   "language": "python",
   "name": "python3"
  },
  "language_info": {
   "codemirror_mode": {
    "name": "ipython",
    "version": 3
   },
   "file_extension": ".py",
   "mimetype": "text/x-python",
   "name": "python",
   "nbconvert_exporter": "python",
   "pygments_lexer": "ipython3",
   "version": "3.7.0"
  }
 },
 "nbformat": 4,
 "nbformat_minor": 2
}
