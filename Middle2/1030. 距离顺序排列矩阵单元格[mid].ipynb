{
 "cells": [
  {
   "cell_type": "markdown",
   "metadata": {},
   "source": [
    "# 题目原意"
   ]
  },
  {
   "cell_type": "raw",
   "metadata": {},
   "source": [
    "给出 R 行 C 列的矩阵，其中的单元格的整数坐标为 (r, c)，满足 0 <= r < R 且 0 <= c < C。\n",
    "\n",
    "另外，我们在该矩阵中给出了一个坐标为 (r0, c0) 的单元格。\n",
    "\n",
    "返回矩阵中的所有单元格的坐标，并按到 (r0, c0) 的距离从最小到最大的顺序排，其中，两单元格(r1, c1) 和 (r2, c2) 之间的距离是曼哈顿距离，|r1 - r2| + |c1 - c2|。（你可以按任何满足此条件的顺序返回答案。）"
   ]
  },
  {
   "cell_type": "raw",
   "metadata": {},
   "source": [
    "示例 1：\n",
    "输入：R = 1, C = 2, r0 = 0, c0 = 0\n",
    "输出：[[0,0],[0,1]]\n",
    "解释：从 (r0, c0) 到其他单元格的距离为：[0,1]\n",
    "\n",
    "示例 2：\n",
    "输入：R = 2, C = 2, r0 = 0, c0 = 1\n",
    "输出：[[0,1],[0,0],[1,1],[1,0]]\n",
    "解释：从 (r0, c0) 到其他单元格的距离为：[0,1,1,2]\n",
    "[[0,1],[1,1],[0,0],[1,0]] 也会被视作正确答案。\n",
    "\n",
    "示例 3：\n",
    "输入：R = 2, C = 3, r0 = 1, c0 = 2\n",
    "输出：[[1,2],[0,2],[1,1],[0,1],[1,0],[0,0]]\n",
    "解释：从 (r0, c0) 到其他单元格的距离为：[0,1,1,2,2,3]\n",
    "其他满足题目要求的答案也会被视为正确，例如 [[1,2],[1,1],[0,2],[1,0],[0,1],[0,0]]。\n",
    " \n",
    "\n",
    "提示：\n",
    "1 <= R <= 100\n",
    "1 <= C <= 100\n",
    "0 <= r0 < R\n",
    "0 <= c0 < C"
   ]
  },
  {
   "cell_type": "markdown",
   "metadata": {},
   "source": [
    "## 思路一：计数排序"
   ]
  },
  {
   "cell_type": "raw",
   "metadata": {},
   "source": [
    "从给的点为中心开始，从1距离扩散到R+C-1的距离，一个一个的生成每个点。\n",
    "\n",
    "计数排序：我们可以看出距离原点的长度是呈连续性增长，每次+1，因此我们只要在迭代计算每个点距离的时候，记录下这个距离下有多少点，一遍迭代后我们知道了每个距离下有多少点，那么我们就可以知道每个距离的起点在哪。然后在第二次算距离，用hash映射过去。\n"
   ]
  },
  {
   "cell_type": "code",
   "execution_count": 2,
   "metadata": {},
   "outputs": [],
   "source": [
    "class Solution(object):\n",
    "    def allCellsDistOrder(self, R, C, r0, c0):\n",
    "        \"\"\"\n",
    "        :type R: int\n",
    "        :type C: int\n",
    "        :type r0: int\n",
    "        :type c0: int\n",
    "        :rtype: List[List[int]]\n",
    "        \"\"\"\n",
    "        distance=[]\n",
    "        res=[]\n",
    "        for i in range(0,R):\n",
    "            for j in range(0,C):\n",
    "                distance.insert(i*C+j,(abs(i-r0)+abs(j-c0),i,j))\n",
    "        distance=sorted(distance,key=lambda x:x[0])\n",
    "        for m in range(0,R*C):\n",
    "            res.append([distance[m][1], distance[m][2]])\n",
    "        return res\n"
   ]
  }
 ],
 "metadata": {
  "kernelspec": {
   "display_name": "Python 3",
   "language": "python",
   "name": "python3"
  },
  "language_info": {
   "codemirror_mode": {
    "name": "ipython",
    "version": 3
   },
   "file_extension": ".py",
   "mimetype": "text/x-python",
   "name": "python",
   "nbconvert_exporter": "python",
   "pygments_lexer": "ipython3",
   "version": "3.7.0"
  }
 },
 "nbformat": 4,
 "nbformat_minor": 2
}
