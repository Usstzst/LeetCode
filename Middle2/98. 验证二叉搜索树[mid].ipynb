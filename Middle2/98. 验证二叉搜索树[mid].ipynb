{
 "cells": [
  {
   "cell_type": "markdown",
   "metadata": {},
   "source": [
    "# 题目原意"
   ]
  },
  {
   "cell_type": "markdown",
   "metadata": {},
   "source": [
    "给定一个二叉树，判断其是否是一个有效的二叉搜索树。\n",
    "\n",
    "**假设一个二叉搜索树具有如下特征：**\n",
    "1、节点的左子树只包含小于当前节点的数。\n",
    "2、节点的右子树只包含大于当前节点的数。\n",
    "3、所有左子树和右子树自身必须也是二叉搜索树。\n"
   ]
  },
  {
   "cell_type": "raw",
   "metadata": {},
   "source": [
    "示例 1:\n",
    "\n",
    "输入:\n",
    "    2\n",
    "   / \\\n",
    "  1   3\n",
    "输出: true\n",
    "\n",
    "示例 2:\n",
    "\n",
    "输入:\n",
    "    5\n",
    "   / \\\n",
    "  1   4\n",
    "     / \\\n",
    "    3   6\n",
    "输出: false\n",
    "解释: 输入为: [5,1,4,null,null,3,6]。\n",
    "     根节点的值为 5 ，但是其右子节点值为 4 。\n"
   ]
  },
  {
   "cell_type": "markdown",
   "metadata": {},
   "source": [
    "## 思路一：先序遍历得到数组，比较该数组与排序后的数组是否相等"
   ]
  },
  {
   "cell_type": "code",
   "execution_count": 1,
   "metadata": {},
   "outputs": [],
   "source": [
    "# Definition for a binary tree node.\n",
    "# class TreeNode(object):\n",
    "#     def __init__(self, x):\n",
    "#         self.val = x\n",
    "#         self.left = None\n",
    "#         self.right = None\n",
    "\n",
    "class Solution(object):\n",
    "    def isValidBST(self, root):\n",
    "        \"\"\"\n",
    "        :type root: TreeNode\n",
    "        :rtype: bool\n",
    "        \"\"\"\n",
    "        def inorder(root):\n",
    "           \n",
    "            if not root:\n",
    "                return []\n",
    "            res = []\n",
    "            res += inorder(root.left)\n",
    "            res.append(root.val)\n",
    "            res += inorder(root.right)\n",
    "            return res\n",
    "        \n",
    "        res = inorder(root)\n",
    "        if res !=sorted(list(set(res))):\n",
    "            return False\n",
    "        else:\n",
    "            return True"
   ]
  }
 ],
 "metadata": {
  "kernelspec": {
   "display_name": "Python 3",
   "language": "python",
   "name": "python3"
  },
  "language_info": {
   "codemirror_mode": {
    "name": "ipython",
    "version": 3
   },
   "file_extension": ".py",
   "mimetype": "text/x-python",
   "name": "python",
   "nbconvert_exporter": "python",
   "pygments_lexer": "ipython3",
   "version": "3.7.3"
  }
 },
 "nbformat": 4,
 "nbformat_minor": 2
}
