{
 "cells": [
  {
   "cell_type": "markdown",
   "metadata": {},
   "source": [
    "# 题目原意"
   ]
  },
  {
   "cell_type": "raw",
   "metadata": {},
   "source": [
    "给定由一些正数（代表长度）组成的数组 A，返回由其中三个长度组成的、面积不为零的三角形的最大周长。\n",
    "\n",
    "如果不能形成任何面积不为零的三角形，返回 0。\n",
    " "
   ]
  },
  {
   "cell_type": "raw",
   "metadata": {},
   "source": [
    "示例 1：\n",
    "输入：[2,1,2]\n",
    "输出：5\n",
    "\n",
    "示例 2：\n",
    "输入：[1,2,1]\n",
    "输出：0\n",
    "\n",
    "示例 3：\n",
    "输入：[3,2,3,4]\n",
    "输出：10\n",
    "\n",
    "示例 4：\n",
    "输入：[3,6,2,3]\n",
    "输出：8"
   ]
  },
  {
   "cell_type": "markdown",
   "metadata": {},
   "source": [
    "## 思路一"
   ]
  },
  {
   "cell_type": "raw",
   "metadata": {},
   "source": [
    "假设排序完成之后的数组为[a, b, c, d, e, f]，其中a <= b <= c <= d <= e <= f.为了尽可能构成周长最大的三角形，我们从右向左进行遍历。只需要对连续的三条边进行判断即可找出周长最大的三角形。理由如下。\n",
    "\n",
    "抽出三条边，假设为d,e,f，那么这三条边组成三角形的充分条件是d + e > f。\n",
    "\n",
    "注意：边界取值（for i in range(N-1, 1, -1） 最小值到2)"
   ]
  },
  {
   "cell_type": "code",
   "execution_count": 2,
   "metadata": {},
   "outputs": [],
   "source": [
    "class Solution(object):\n",
    "    def largestPerimeter(self, A):\n",
    "        \"\"\"\n",
    "        :type A: List[int]\n",
    "        :rtype: int\n",
    "        \"\"\"\n",
    "        A.sort()\n",
    "        N = len(A)\n",
    "        res = 0\n",
    "        for i in range(N-1, 1, -1):\n",
    "            if A[i-2] + A[i-1] >A[i]:\n",
    "                return A[i]+A[i-1]+A[i-2]\n",
    "        return 0\n",
    "        \n",
    "\n"
   ]
  }
 ],
 "metadata": {
  "kernelspec": {
   "display_name": "Python 3",
   "language": "python",
   "name": "python3"
  },
  "language_info": {
   "codemirror_mode": {
    "name": "ipython",
    "version": 3
   },
   "file_extension": ".py",
   "mimetype": "text/x-python",
   "name": "python",
   "nbconvert_exporter": "python",
   "pygments_lexer": "ipython3",
   "version": "3.7.0"
  }
 },
 "nbformat": 4,
 "nbformat_minor": 2
}
