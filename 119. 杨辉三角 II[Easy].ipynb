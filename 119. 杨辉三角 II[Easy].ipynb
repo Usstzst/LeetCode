{
 "cells": [
  {
   "cell_type": "markdown",
   "metadata": {},
   "source": [
    "# 题目原意"
   ]
  },
  {
   "cell_type": "raw",
   "metadata": {},
   "source": [
    "给定一个非负索引 k，其中 k ≤ 33，返回杨辉三角的第 k 行。\n",
    "\n",
    "在杨辉三角中，每个数是它左上方和右上方的数的和。"
   ]
  },
  {
   "cell_type": "raw",
   "metadata": {},
   "source": [
    "Example:\n",
    "输入: 3\n",
    "输出: [1,3,3,1]\n"
   ]
  },
  {
   "cell_type": "markdown",
   "metadata": {},
   "source": [
    "## 思路一"
   ]
  },
  {
   "cell_type": "raw",
   "metadata": {},
   "source": [
    "用到一个小小的trick，即：每一行的结果可以由上一行和上一行的偏移相加得到。例如求第4行：\n",
    "  1 3 3 1 0 \n",
    "+ 0 1 3 3 1\n",
    "= 1 4 6 4 1 "
   ]
  },
  {
   "cell_type": "code",
   "execution_count": 1,
   "metadata": {},
   "outputs": [],
   "source": [
    "class Solution(object):\n",
    "    def getRow(self, rowIndex):\n",
    "        \"\"\"\n",
    "        :type rowIndex: int\n",
    "        :rtype: List[int]\n",
    "        \"\"\"\n",
    "        res = [1] + [0] * rowIndex\n",
    "        for i in range(rowIndex):\n",
    "            res[0] = 1\n",
    "            for j in range(i+1, 0, -1):\n",
    "                res[j] = res[j] + res[j-1]\n",
    "        return res\n"
   ]
  },
  {
   "cell_type": "markdown",
   "metadata": {},
   "source": [
    "## 思路二"
   ]
  },
  {
   "cell_type": "raw",
   "metadata": {},
   "source": [
    "可以不考虑上一行，直接根据公式求出当前行的内容。帕斯卡三角形的第n行第m个元素是 C(n, m) = n!/(m! * (n-m)!)。所以 C(n, m-1) = n!/((m-1)! * (n-m+1)!)，所以 C(n, m) = C(n, m-1) * (n-m+1) / m。另外，有组合数的性质可以减少一半计算量：C(n, m) == C(n, n-m)。\n"
   ]
  },
  {
   "cell_type": "code",
   "execution_count": 2,
   "metadata": {},
   "outputs": [],
   "source": [
    "class Solution(object):\n",
    "    def getRow(self, rowIndex):\n",
    "        \"\"\"\n",
    "        :type rowIndex: int\n",
    "        :rtype: List[int]\n",
    "        \"\"\"\n",
    "        res = [1] * (rowIndex+1)\n",
    "        for i in range(1, rowIndex/2+1):\n",
    "            res[i] = res[rowIndex-i] = res[i-1] * (rowIndex-i+1) / i\n",
    "        return res\n"
   ]
  }
 ],
 "metadata": {
  "kernelspec": {
   "display_name": "Python 3",
   "language": "python",
   "name": "python3"
  },
  "language_info": {
   "codemirror_mode": {
    "name": "ipython",
    "version": 3
   },
   "file_extension": ".py",
   "mimetype": "text/x-python",
   "name": "python",
   "nbconvert_exporter": "python",
   "pygments_lexer": "ipython3",
   "version": "3.6.5"
  }
 },
 "nbformat": 4,
 "nbformat_minor": 2
}
