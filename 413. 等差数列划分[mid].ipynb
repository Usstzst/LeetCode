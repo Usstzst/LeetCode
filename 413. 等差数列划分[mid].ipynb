{
 "cells": [
  {
   "cell_type": "markdown",
   "metadata": {},
   "source": [
    "# 题目原意"
   ]
  },
  {
   "cell_type": "raw",
   "metadata": {},
   "source": [
    "如果一个数列至少有三个元素，并且任意两个相邻元素之差相同，则称该数列为等差数列。\n",
    "\n",
    "例如，以下数列为等差数列:\n",
    "\n",
    "1, 3, 5, 7, 9\n",
    "7, 7, 7, 7\n",
    "3, -1, -5, -9\n",
    "以下数列不是等差数列。\n",
    "\n",
    "1, 1, 2, 5, 7\n",
    " \n",
    "\n",
    "数组 A 包含 N 个数，且索引从0开始。数组 A 的一个子数组划分为数组 (P, Q)，P 与 Q 是整数且满足 0<=P<Q<N 。\n",
    "\n",
    "如果满足以下条件，则称子数组(P, Q)为等差数组：\n",
    "\n",
    "元素 A[P], A[p + 1], ..., A[Q - 1], A[Q] 是等差的。并且 P + 1 < Q 。\n",
    "\n",
    "函数要返回数组 A 中所有为等差数组的子数组个数。"
   ]
  },
  {
   "cell_type": "markdown",
   "metadata": {},
   "source": [
    "## 思路一：动态规划"
   ]
  },
  {
   "cell_type": "code",
   "execution_count": 1,
   "metadata": {},
   "outputs": [],
   "source": [
    "class Solution(object):\n",
    "    def numberOfArithmeticSlices(self, A):\n",
    "        \"\"\"\n",
    "        :type A: List[int]\n",
    "        :rtype: int\n",
    "        \"\"\"\n",
    "        N = len(A)\n",
    "        dp = [0] * N\n",
    "        for i in range(1, N - 1):\n",
    "            if A[i - 1] + A[i + 1] == A[i] * 2:\n",
    "                dp[i] = dp[i - 1] + 1\n",
    "        return sum(dp)\n"
   ]
  }
 ],
 "metadata": {
  "kernelspec": {
   "display_name": "Python 3",
   "language": "python",
   "name": "python3"
  },
  "language_info": {
   "codemirror_mode": {
    "name": "ipython",
    "version": 3
   },
   "file_extension": ".py",
   "mimetype": "text/x-python",
   "name": "python",
   "nbconvert_exporter": "python",
   "pygments_lexer": "ipython3",
   "version": "3.6.5"
  }
 },
 "nbformat": 4,
 "nbformat_minor": 2
}
