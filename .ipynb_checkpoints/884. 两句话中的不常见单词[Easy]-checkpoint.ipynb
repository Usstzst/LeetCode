{
 "cells": [
  {
   "cell_type": "markdown",
   "metadata": {},
   "source": [
    "# 题目原意"
   ]
  },
  {
   "cell_type": "raw",
   "metadata": {},
   "source": [
    "给定两个句子 A 和 B 。 （句子是一串由空格分隔的单词。每个单词仅由小写字母组成。）\n",
    "\n",
    "如果一个单词在其中一个句子中只出现一次，在另一个句子中却没有出现，那么这个单词就是不常见的。\n",
    "\n",
    "返回所有不常用单词的列表。\n",
    "\n",
    "您可以按任何顺序返回列表。\n"
   ]
  },
  {
   "cell_type": "raw",
   "metadata": {},
   "source": [
    "示例 1：\n",
    "输入：A = \"this apple is sweet\", B = \"this apple is sour\"\n",
    "输出：[\"sweet\",\"sour\"]\n",
    "\n",
    "示例 2：\n",
    "输入：A = \"apple apple\", B = \"banana\"\n",
    "输出：[\"banana\"]"
   ]
  },
  {
   "cell_type": "markdown",
   "metadata": {},
   "source": [
    "## 思路一"
   ]
  },
  {
   "cell_type": "raw",
   "metadata": {},
   "source": [
    "我的笨方法：collections.Counter()分别统计A,B中的单词数量，然后依次遍历，找到满足条件：在一个句子中出现一次，在另一个句子中没有出现的单词，把他添加进列表"
   ]
  },
  {
   "cell_type": "code",
   "execution_count": 2,
   "metadata": {},
   "outputs": [],
   "source": [
    "class Solution(object):\n",
    "    def uncommonFromSentences(self, A, B):\n",
    "        \"\"\"\n",
    "        :type A: str\n",
    "        :type B: str\n",
    "        :rtype: List[str]\n",
    "        \"\"\"\n",
    "        A = A.split(' ')\n",
    "        B = B.split(' ')\n",
    "        c = collections.Counter(A)\n",
    "        ans = []\n",
    "        for a, i in c.items():\n",
    "            if i==1 and a not in B:\n",
    "                ans.append(a)\n",
    "        \n",
    "        c1 = collections.Counter(B)\n",
    "        for b, i in c1.items():\n",
    "            if i==1 and b not in A:\n",
    "                ans.append(b)\n",
    "        return ans"
   ]
  },
  {
   "cell_type": "markdown",
   "metadata": {},
   "source": [
    "## 思路二"
   ]
  },
  {
   "cell_type": "raw",
   "metadata": {},
   "source": [
    "别人的思路：直接拼接两个句子，然后找出出现次数为一的单词"
   ]
  },
  {
   "cell_type": "code",
   "execution_count": 4,
   "metadata": {},
   "outputs": [],
   "source": [
    "class Solution(object):\n",
    "    def uncommonFromSentences(self, A, B):\n",
    "        \"\"\"\n",
    "        :type A: str\n",
    "        :type B: str\n",
    "        :rtype: List[str]\n",
    "        \"\"\"\n",
    "        dict = collections.Counter((A + \" \" + B).split(\" \"))\n",
    "        return [word for word in dict if dict[word]==1]\n",
    "        "
   ]
  }
 ],
 "metadata": {
  "kernelspec": {
   "display_name": "Python 3",
   "language": "python",
   "name": "python3"
  },
  "language_info": {
   "codemirror_mode": {
    "name": "ipython",
    "version": 3
   },
   "file_extension": ".py",
   "mimetype": "text/x-python",
   "name": "python",
   "nbconvert_exporter": "python",
   "pygments_lexer": "ipython3",
   "version": "3.7.0"
  }
 },
 "nbformat": 4,
 "nbformat_minor": 2
}
