{
 "cells": [
  {
   "cell_type": "markdown",
   "metadata": {},
   "source": [
    "# 题目原意"
   ]
  },
  {
   "cell_type": "raw",
   "metadata": {},
   "source": [
    "不使用任何内建的哈希表库设计一个哈希映射\n",
    "\n",
    "具体地说，你的设计应该包含以下的功能\n",
    "\n",
    "put(key, value)：向哈希映射中插入(键,值)的数值对。如果键对应的值已经存在，更新这个值。\n",
    "get(key)：返回给定的键所对应的值，如果映射中不包含这个键，返回-1。\n",
    "remove(key)：如果映射中存在这个键，删除这个数值对。\n",
    "\n",
    "示例：\n",
    "\n",
    "MyHashMap hashMap = new MyHashMap();\n",
    "hashMap.put(1, 1);          \n",
    "hashMap.put(2, 2);         \n",
    "hashMap.get(1);            // 返回 1\n",
    "hashMap.get(3);            // 返回 -1 (未找到)\n",
    "hashMap.put(2, 1);         // 更新已有的值\n",
    "hashMap.get(2);            // 返回 1 \n",
    "hashMap.remove(2);         // 删除键为2的数据\n",
    "hashMap.get(2);            // 返回 -1 (未找到) \n",
    "\n"
   ]
  },
  {
   "cell_type": "raw",
   "metadata": {},
   "source": [
    "注意：\n",
    "\n",
    "所有的值都在 [1, 1000000]的范围内。\n",
    "操作的总数目在[1, 10000]范围内。\n",
    "不要使用内建的哈希库。"
   ]
  },
  {
   "cell_type": "markdown",
   "metadata": {},
   "source": [
    "## 思路一"
   ]
  },
  {
   "cell_type": "code",
   "execution_count": 1,
   "metadata": {},
   "outputs": [],
   "source": [
    "class MyHashMap:\n",
    "\n",
    "    def __init__(self):\n",
    "        \"\"\"\n",
    "        Initialize your data structure here.\n",
    "        \"\"\"\n",
    "        self.buckets = 1000\n",
    "        self.itemsPerBuckect = 1001\n",
    "        self.hashmap = [[] for _ in range(self.buckets)]\n",
    "\n",
    "\n",
    "    def hash(self, key):\n",
    "        return key % self.buckets\n",
    "        \n",
    "    \n",
    "    def pos(self, key):\n",
    "        return key // self.buckets\n",
    "\n",
    "    def put(self, key, value):\n",
    "        \"\"\"\n",
    "        value will always be positive.\n",
    "        :type key: int\n",
    "        :type value: int\n",
    "        :rtype: void\n",
    "        \"\"\"\n",
    "        hashkey = self.hash(key)\n",
    "        if not self.hashmap[hashkey]:\n",
    "            self.hashmap[hashkey] = [None] * self.itemsPerBuckect\n",
    "        self.hashmap[hashkey][self.pos(key)] = value\n",
    "\n",
    "    def get(self, key):\n",
    "        \"\"\"\n",
    "        Returns the value to which the specified key is mapped, or -1 if this map contains no mapping for the key\n",
    "        :type key: int\n",
    "        :rtype: int\n",
    "        \"\"\"\n",
    "        hashkey = self.hash(key)\n",
    "        if (not self.hashmap[hashkey]) or self.hashmap[hashkey][self.pos(key)] == None:\n",
    "            return -1\n",
    "        else:\n",
    "            return self.hashmap[hashkey][self.pos(key)]\n",
    "\n",
    "    def remove(self, key):\n",
    "        \"\"\"\n",
    "        Removes the mapping of the specified value key if this map contains a mapping for the key\n",
    "        :type key: int\n",
    "        :rtype: void\n",
    "        \"\"\"\n",
    "        hashkey = self.hash(key)\n",
    "        if self.hashmap[hashkey]:\n",
    "            self.hashmap[hashkey][self.pos(key)] = None\n",
    "\n",
    "\n",
    "# Your MyHashMap object will be instantiated and called as such:\n",
    "# obj = MyHashMap()\n",
    "# obj.put(key,value)\n",
    "# param_2 = obj.get(key)\n",
    "# obj.remove(key)\n"
   ]
  }
 ],
 "metadata": {
  "kernelspec": {
   "display_name": "Python 3",
   "language": "python",
   "name": "python3"
  },
  "language_info": {
   "codemirror_mode": {
    "name": "ipython",
    "version": 3
   },
   "file_extension": ".py",
   "mimetype": "text/x-python",
   "name": "python",
   "nbconvert_exporter": "python",
   "pygments_lexer": "ipython3",
   "version": "3.7.0"
  }
 },
 "nbformat": 4,
 "nbformat_minor": 2
}
