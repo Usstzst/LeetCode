{
 "cells": [
  {
   "cell_type": "markdown",
   "metadata": {},
   "source": [
    "# 题目原意"
   ]
  },
  {
   "cell_type": "raw",
   "metadata": {},
   "source": [
    "给定一个正整数，检查他是否为交替位二进制数：换句话说，就是他的二进制数相邻的两个位数永不相等。"
   ]
  },
  {
   "cell_type": "raw",
   "metadata": {},
   "source": [
    "Example 1:\n",
    "输入: 5\n",
    "输出: True\n",
    "解释: 5的二进制数是: 101\n",
    "\n",
    "\n",
    "Example 2:\n",
    "输入: 7\n",
    "输出: False\n",
    "解释: 7的二进制数是: 111\n",
    "\n",
    "\n",
    "Example 3:\n",
    "输入: 11\n",
    "输出: False\n",
    "解释:\n",
    "11的二进制数是: 1011\n"
   ]
  },
  {
   "cell_type": "markdown",
   "metadata": {},
   "source": [
    "## 思路一"
   ]
  },
  {
   "cell_type": "code",
   "execution_count": 1,
   "metadata": {},
   "outputs": [],
   "source": [
    "class Solution(object):\n",
    "    def hasAlternatingBits(self, n):\n",
    "        \"\"\"\n",
    "        :type n: int\n",
    "        :rtype: bool\n",
    "        \"\"\"\n",
    "        if n <= 1:\n",
    "            return True\n",
    "        else:\n",
    "            n = bin(n)[2:]\n",
    "            for i in range(len(n)-1):\n",
    "                if n[i] == n[i+1]:\n",
    "                    return False\n",
    "            return True\n",
    "        \n",
    "        n = bin(n)\n",
    "        return all (n[x] != n[x + 1] for x in range(len(n) - 1))\n",
    "           \n",
    "        \n",
    "        "
   ]
  },
  {
   "cell_type": "code",
   "execution_count": 3,
   "metadata": {},
   "outputs": [],
   "source": [
    "class Solution(object):\n",
    "    def hasAlternatingBits(self, n):\n",
    "        \"\"\"\n",
    "        :type n: int\n",
    "        :rtype: bool\n",
    "        \"\"\"\n",
    "        \n",
    "        n = bin(n)\n",
    "        return all(n[x] != n[x + 1] for x in range(len(n) - 1))\n",
    "           "
   ]
  },
  {
   "cell_type": "markdown",
   "metadata": {},
   "source": [
    "## 思路二： 按位运算"
   ]
  },
  {
   "cell_type": "code",
   "execution_count": null,
   "metadata": {},
   "outputs": [],
   "source": [
    "class Solution(object):\n",
    "    def hasAlternatingBits(self, n):\n",
    "        \"\"\"\n",
    "        :type n: int\n",
    "        :rtype: bool\n",
    "        \"\"\"\n",
    "        last = n & 1\n",
    "        n >>= 1\n",
    "        while n:\n",
    "            bit = n & 1\n",
    "            if bit == last: return False\n",
    "            last = bit\n",
    "            n >>= 1\n",
    "        return True"
   ]
  }
 ],
 "metadata": {
  "kernelspec": {
   "display_name": "Python 3",
   "language": "python",
   "name": "python3"
  },
  "language_info": {
   "codemirror_mode": {
    "name": "ipython",
    "version": 3
   },
   "file_extension": ".py",
   "mimetype": "text/x-python",
   "name": "python",
   "nbconvert_exporter": "python",
   "pygments_lexer": "ipython3",
   "version": "3.7.0"
  }
 },
 "nbformat": 4,
 "nbformat_minor": 2
}
