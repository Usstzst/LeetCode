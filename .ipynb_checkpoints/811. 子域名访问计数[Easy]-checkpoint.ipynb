{
 "cells": [
  {
   "cell_type": "markdown",
   "metadata": {},
   "source": [
    "# 题目原意"
   ]
  },
  {
   "cell_type": "raw",
   "metadata": {},
   "source": [
    "一个网站域名，如\"discuss.leetcode.com\"，包含了多个子域名。作为顶级域名，常用的有\"com\"，下一级则有\"leetcode.com\"，最低的一级为\"discuss.leetcode.com\"。当我们访问域名\"discuss.leetcode.com\"时，也同时访问了其父域名\"leetcode.com\"以及顶级域名 \"com\"。\n",
    "\n",
    "给定一个带访问次数和域名的组合，要求分别计算每个域名被访问的次数。其格式为访问次数+空格+地址，例如：\"9001 discuss.leetcode.com\"。\n",
    "\n",
    "接下来会给出一组访问次数和域名组合的列表cpdomains 。要求解析出所有域名的访问次数，输出格式和输入格式相同，不限定先后顺序。"
   ]
  },
  {
   "cell_type": "raw",
   "metadata": {},
   "source": [
    "Example 1:\n",
    "\n",
    "输入:  [\"9001 discuss.leetcode.com\"]\n",
    "输出:  [\"9001 discuss.leetcode.com\", \"9001 leetcode.com\", \"9001 com\"]\n",
    "说明: 例子中仅包含一个网站域名：\"discuss.leetcode.com\"。按照前文假设，子域名\"leetcode.com\"和\"com\"都会被访问，所以它们都被访问了9001次。\n",
    "\n",
    "\n",
    "\n",
    "Example 2:\n",
    "输入:  [\"900 google.mail.com\", \"50 yahoo.com\", \"1 intel.mail.com\", \"5 wiki.org\"]\n",
    "输出:  [\"901 mail.com\",\"50 yahoo.com\",\"900 google.mail.com\",\"5 wiki.org\",\"5 org\",\"1 intel.mail.com\",\"951 com\"]\n",
    "说明: \n",
    "    按照假设，会访问\"google.mail.com\" 900次，\"yahoo.com\" 50次，\"intel.mail.com\" 1次，\"wiki.org\" 5次。\n",
    "    而对于父域名，会访问\"mail.com\" 900+1 = 901次，\"com\" 900 + 50 + 1 = 951次，和 \"org\" 5 次。"
   ]
  },
  {
   "cell_type": "markdown",
   "metadata": {},
   "source": [
    "## 思路一:字典统计次数"
   ]
  },
  {
   "cell_type": "raw",
   "metadata": {},
   "source": [
    "这个题逻辑并不复杂，就是使用字典来保存每个域名被访问的次数。有点难点的地方是要得到每个域名及其所有上级域名，我使用的while循环和字符串切片来完成这个操作。"
   ]
  },
  {
   "cell_type": "code",
   "execution_count": 3,
   "metadata": {},
   "outputs": [],
   "source": [
    "class Solution(object):\n",
    "    def subdomainVisits(self, cpdomains):\n",
    "        \"\"\"\n",
    "        :type cpdomains: List[str]\n",
    "        :rtype: List[str]\n",
    "        \"\"\"\n",
    "        \n",
    "        domain_counts = collections.defaultdict(int)\n",
    "        for cpdomain in cpdomains:\n",
    "            times, domains = cpdomain.split()\n",
    "            times = int(times)\n",
    "            domain_counts[domains] += times\n",
    "            \n",
    "            while '.' in domains:\n",
    "                domains = domains[domains.index('.')+1: ]\n",
    "                domain_counts[domains] += times\n",
    "                \n",
    "        return [str(v) + ' ' + d for d, v in domain_counts.items()]\n",
    "\n"
   ]
  },
  {
   "cell_type": "code",
   "execution_count": null,
   "metadata": {},
   "outputs": [],
   "source": [
    "class Solution:\n",
    "    def subdomainVisits(self, cpdomains):\n",
    "        \"\"\"\n",
    "        :type cpdomains: List[str]\n",
    "        :rtype: List[str]\n",
    "        \"\"\"\n",
    "        count = collections.Counter()\n",
    "        for cpdomain in cpdomains:\n",
    "            times, domain = cpdomain.split()\n",
    "            times = int(times)\n",
    "            count[domain] += times\n",
    "            for i, c in enumerate(domain):\n",
    "                if c == '.':\n",
    "                    count[domain[i+1:]] += times\n",
    "        return [str(times) + ' ' + domain for domain, times in count.items()]\n",
    "            \n",
    "    "
   ]
  }
 ],
 "metadata": {
  "kernelspec": {
   "display_name": "Python 3",
   "language": "python",
   "name": "python3"
  },
  "language_info": {
   "codemirror_mode": {
    "name": "ipython",
    "version": 3
   },
   "file_extension": ".py",
   "mimetype": "text/x-python",
   "name": "python",
   "nbconvert_exporter": "python",
   "pygments_lexer": "ipython3",
   "version": "3.7.0"
  }
 },
 "nbformat": 4,
 "nbformat_minor": 2
}
