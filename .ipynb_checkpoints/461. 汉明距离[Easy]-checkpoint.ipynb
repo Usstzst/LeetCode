{
 "cells": [
  {
   "cell_type": "markdown",
   "metadata": {},
   "source": [
    "# 题目原意"
   ]
  },
  {
   "cell_type": "raw",
   "metadata": {},
   "source": [
    "两个整数之间的汉明距离指的是这两个数字对应二进制位不同的位置的数目。\n",
    "\n",
    "给出两个整数 x 和 y，计算它们之间的汉明距离。"
   ]
  },
  {
   "cell_type": "raw",
   "metadata": {},
   "source": [
    "输入: x = 1, y = 4\n",
    "\n",
    "输出: 2\n",
    "\n",
    "解释:\n",
    "1   (0 0 0 1)\n",
    "4   (0 1 0 0)\n",
    "     ↑  ↑\n",
    "\n",
    "上面的箭头指出了对应二进制位不同的位置。"
   ]
  },
  {
   "cell_type": "markdown",
   "metadata": {},
   "source": [
    "## 思路一"
   ]
  },
  {
   "cell_type": "code",
   "execution_count": 1,
   "metadata": {},
   "outputs": [],
   "source": [
    "class Solution(object):\n",
    "    def hammingDistance(self, x, y):\n",
    "        \"\"\"\n",
    "        :type x: int\n",
    "        :type y: int\n",
    "        :rtype: int\n",
    "        \"\"\"\n",
    "        x1 = bin(x)[2:]\n",
    "        x2 = x1.zfill(32)\n",
    "        y1 = bin(y)[2:]\n",
    "        y2 = y1.zfill(32)\n",
    "        h = 0\n",
    "        for i in range(32):\n",
    "            if x2[i] != y2[i]:\n",
    "                h += 1\n",
    "        return h\n"
   ]
  },
  {
   "cell_type": "markdown",
   "metadata": {},
   "source": [
    "## 思路二：异或运算"
   ]
  },
  {
   "cell_type": "code",
   "execution_count": 2,
   "metadata": {},
   "outputs": [],
   "source": [
    "class Solution(object):\n",
    "    def hammingDistance(self, x, y):\n",
    "        \"\"\"\n",
    "        :type x: int\n",
    "        :type y: int\n",
    "        :rtype: int\n",
    "        \"\"\"\n",
    "        return bin(x^y).count('1')\n"
   ]
  }
 ],
 "metadata": {
  "kernelspec": {
   "display_name": "Python 3",
   "language": "python",
   "name": "python3"
  },
  "language_info": {
   "codemirror_mode": {
    "name": "ipython",
    "version": 3
   },
   "file_extension": ".py",
   "mimetype": "text/x-python",
   "name": "python",
   "nbconvert_exporter": "python",
   "pygments_lexer": "ipython3",
   "version": "3.7.0"
  }
 },
 "nbformat": 4,
 "nbformat_minor": 2
}
