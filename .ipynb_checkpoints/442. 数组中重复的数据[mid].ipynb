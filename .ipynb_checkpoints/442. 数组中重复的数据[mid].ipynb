{
 "cells": [
  {
   "cell_type": "markdown",
   "metadata": {},
   "source": [
    "# 题目原意"
   ]
  },
  {
   "cell_type": "raw",
   "metadata": {},
   "source": [
    "给定一个整数数组 a，其中1 ≤ a[i] ≤ n （n为数组长度）, 其中有些元素出现两次而其他元素出现一次。\n",
    "\n",
    "找到所有出现两次的元素。"
   ]
  },
  {
   "cell_type": "raw",
   "metadata": {},
   "source": [
    "你可以不用到任何额外空间并在O(n)时间复杂度内解决这个问题吗？\n",
    "\n",
    "示例：\n",
    "输入:\n",
    "[4,3,2,7,8,2,3,1]\n",
    "输出:\n",
    "[2,3]"
   ]
  },
  {
   "cell_type": "markdown",
   "metadata": {},
   "source": [
    "## 思路一"
   ]
  },
  {
   "cell_type": "code",
   "execution_count": null,
   "metadata": {},
   "outputs": [],
   "source": [
    "class Solution(object):\n",
    "    def findDuplicates(self, nums):\n",
    "        \"\"\"\n",
    "        :type nums: List[int]\n",
    "        :rtype: List[int]\n",
    "        \"\"\"\n",
    "        c = collections.Counter(nums)\n",
    "        ans = []\n",
    "        for num, i in c.items():\n",
    "            if i == 2:\n",
    "                ans.append(num)\n",
    "        return ans\n",
    "                \n",
    "        "
   ]
  },
  {
   "cell_type": "markdown",
   "metadata": {},
   "source": [
    "## 思路二："
   ]
  },
  {
   "cell_type": "raw",
   "metadata": {},
   "source": [
    "遍历nums，记当前数字为n（取绝对值），将数字n视为下标（因为a[i]∈[1, n]）\n",
    "\n",
    "当n首次出现时，nums[n - 1]乘以-1\n",
    "\n",
    "当n再次出现时，则nums[n - 1]一定＜0，将n加入答案"
   ]
  },
  {
   "cell_type": "code",
   "execution_count": 2,
   "metadata": {},
   "outputs": [],
   "source": [
    "class Solution(object):\n",
    "    def findDuplicates(self, nums):\n",
    "        \"\"\"\n",
    "        :type nums: List[int]\n",
    "        :rtype: List[int]\n",
    "        \"\"\"\n",
    "        ans = []\n",
    "        for n in nums:\n",
    "            if nums[abs(n) - 1] < 0:\n",
    "                ans.append(abs(n))\n",
    "            else:\n",
    "                nums[abs(n) - 1] *= -1\n",
    "        return ans"
   ]
  }
 ],
 "metadata": {
  "kernelspec": {
   "display_name": "Python 3",
   "language": "python",
   "name": "python3"
  },
  "language_info": {
   "codemirror_mode": {
    "name": "ipython",
    "version": 3
   },
   "file_extension": ".py",
   "mimetype": "text/x-python",
   "name": "python",
   "nbconvert_exporter": "python",
   "pygments_lexer": "ipython3",
   "version": "3.6.5"
  }
 },
 "nbformat": 4,
 "nbformat_minor": 2
}
