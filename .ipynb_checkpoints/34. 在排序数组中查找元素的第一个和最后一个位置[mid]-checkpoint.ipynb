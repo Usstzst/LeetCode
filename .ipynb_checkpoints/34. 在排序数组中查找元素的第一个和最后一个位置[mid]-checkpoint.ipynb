{
 "cells": [
  {
   "cell_type": "markdown",
   "metadata": {},
   "source": [
    "# 题目原意"
   ]
  },
  {
   "cell_type": "raw",
   "metadata": {},
   "source": [
    "给定一个按照升序排列的整数数组 nums，和一个目标值 target。找出给定目标值在数组中的开始位置和结束位置。\n",
    "\n",
    "你的算法时间复杂度必须是 O(log n) 级别。\n",
    "\n",
    "如果数组中不存在目标值，返回 [-1, -1]。\n"
   ]
  },
  {
   "cell_type": "raw",
   "metadata": {},
   "source": [
    "示例 1:\n",
    "输入: nums = [5,7,7,8,8,10], target = 8\n",
    "输出: [3,4]\n",
    "\n",
    "示例 2:\n",
    "输入: nums = [5,7,7,8,8,10], target = 6\n",
    "输出: [-1,-1]"
   ]
  },
  {
   "cell_type": "markdown",
   "metadata": {},
   "source": [
    "## 思路一"
   ]
  },
  {
   "cell_type": "raw",
   "metadata": {},
   "source": [
    "题中要求算法复杂度为O(log n）级别且A是升序排列的，所以选用二分查找法。\n",
    "1、A[mid] < target : 在A右边找\n",
    "2、A[mid] > target： 在A左边找\n",
    "2、A[mid] == target: 在左右两边找到第一个不等于target的数值，他们前一个数的索引即为所求"
   ]
  },
  {
   "cell_type": "code",
   "execution_count": 1,
   "metadata": {},
   "outputs": [],
   "source": [
    "class Solution(object):\n",
    "    def searchRange(self, A, target):\n",
    "        \"\"\"\n",
    "        :type nums: List[int]\n",
    "        :type target: int\n",
    "        :rtype: List[int]\n",
    "        \"\"\"\n",
    "        left, right = 0, len(A)-1\n",
    "        while left < right:\n",
    "            mid = (left+right)/2\n",
    "            if A[mid] < target:\n",
    "                left = mid+1\n",
    "            if A[mid] > target:\n",
    "                right = mid-1\n",
    "            else:\n",
    "                list = [0,0]\n",
    "                if A[left] == target: list[0]=left\n",
    "                if A[right] == target: list[1] = right\n",
    "                for i in range(mid, right+1):\n",
    "                    if A[i]!= target:\n",
    "                        list[1]=i-1\n",
    "                        break\n",
    "                for i in range(mid, left-1,-1):\n",
    "                    if A[i] != target:\n",
    "                        list[0]=i+1\n",
    "                        break\n",
    "                return list\n",
    "            return [-1,-1]\n",
    "                "
   ]
  }
 ],
 "metadata": {
  "kernelspec": {
   "display_name": "Python 3",
   "language": "python",
   "name": "python3"
  },
  "language_info": {
   "codemirror_mode": {
    "name": "ipython",
    "version": 3
   },
   "file_extension": ".py",
   "mimetype": "text/x-python",
   "name": "python",
   "nbconvert_exporter": "python",
   "pygments_lexer": "ipython3",
   "version": "3.6.5"
  }
 },
 "nbformat": 4,
 "nbformat_minor": 2
}
