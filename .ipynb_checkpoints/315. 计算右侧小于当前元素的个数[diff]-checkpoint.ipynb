{
 "cells": [
  {
   "cell_type": "markdown",
   "metadata": {},
   "source": [
    "# 题目原意"
   ]
  },
  {
   "cell_type": "raw",
   "metadata": {},
   "source": [
    "给定一个整数数组 nums，按要求返回一个新数组 counts。数组 counts 有该性质： counts[i] 的值是  nums[i] 右侧小于 nums[i] 的元素的数量。"
   ]
  },
  {
   "cell_type": "raw",
   "metadata": {},
   "source": [
    "示例:\n",
    "输入: [5,2,6,1]\n",
    "输出: [2,1,1,0] \n",
    "\n",
    "解释:\n",
    "5 的右侧有 2 个更小的元素 (2 和 1).\n",
    "2 的右侧仅有 1 个更小的元素 (1).\n",
    "6 的右侧有 1 个更小的元素 (1).\n",
    "1 的右侧有 0 个更小的元素."
   ]
  },
  {
   "cell_type": "markdown",
   "metadata": {},
   "source": [
    "## 思路一"
   ]
  },
  {
   "cell_type": "raw",
   "metadata": {},
   "source": [
    "我的思路： 简单粗暴，运行时间超出限制,不能通过所有的测试样例"
   ]
  },
  {
   "cell_type": "code",
   "execution_count": 2,
   "metadata": {},
   "outputs": [],
   "source": [
    "class Solution(object):\n",
    "    def countSmaller(self, nums):\n",
    "        \"\"\"\n",
    "        :type nums: List[int]\n",
    "        :rtype: List[int]\n",
    "        \"\"\"\n",
    "        if len(nums)==0:\n",
    "            return []\n",
    "        elif len(nums)==1:\n",
    "            return [0]\n",
    "        else:\n",
    "            res = []\n",
    "            cnt = 0\n",
    "            for i in range(len(nums)):\n",
    "                cnt = 0\n",
    "                ans = nums[i+1:]\n",
    "                for j in range(len(ans)):\n",
    "                    if nums[i]>ans[j]:\n",
    "                        cnt += 1\n",
    "                res.append(cnt)\n",
    "            return res\n"
   ]
  },
  {
   "cell_type": "markdown",
   "metadata": {},
   "source": [
    "## 思路二：归并排序求逆序数"
   ]
  },
  {
   "cell_type": "raw",
   "metadata": {},
   "source": [
    "别人的思路 没看懂"
   ]
  },
  {
   "cell_type": "code",
   "execution_count": null,
   "metadata": {},
   "outputs": [],
   "source": [
    "class Solution(object):\n",
    "    def countSmaller(self, nums):\n",
    "        def sort(enum):\n",
    "            half = len(enum) / 2\n",
    "            if half:\n",
    "                left, right = sort(enum[:half]), sort(enum[half:])\n",
    "                m, n = len(left), len(right)\n",
    "                i = j = 0\n",
    "                while i < m or j < n:\n",
    "                    if j == n or i < m and left[i][1] <= right[j][1]:\n",
    "                        enum[i+j] = left[i]\n",
    "                        smaller[left[i][0]] += j\n",
    "                        i += 1\n",
    "                    else:\n",
    "                        enum[i+j] = right[j]\n",
    "                        j += 1\n",
    "            return enum\n",
    "        smaller = [0] * len(nums)\n",
    "        sort(list(enumerate(nums)))\n",
    "        return smaller"
   ]
  }
 ],
 "metadata": {
  "kernelspec": {
   "display_name": "Python 3",
   "language": "python",
   "name": "python3"
  },
  "language_info": {
   "codemirror_mode": {
    "name": "ipython",
    "version": 3
   },
   "file_extension": ".py",
   "mimetype": "text/x-python",
   "name": "python",
   "nbconvert_exporter": "python",
   "pygments_lexer": "ipython3",
   "version": "3.6.5"
  }
 },
 "nbformat": 4,
 "nbformat_minor": 2
}
