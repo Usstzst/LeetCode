{
 "cells": [
  {
   "cell_type": "markdown",
   "metadata": {},
   "source": [
    "# 题目原意"
   ]
  },
  {
   "cell_type": "raw",
   "metadata": {},
   "source": [
    "3 x 3 的幻方是一个填充有从 1 到 9 的不同数字的 3 x 3 矩阵，其中每行，每列以及两条对角线上的各数之和都相等。\n",
    "\n",
    "给定一个由整数组成的 N × N 矩阵，其中有多少个 3 × 3 的 “幻方” 子矩阵？（每个子矩阵都是连续的）。\n"
   ]
  },
  {
   "cell_type": "raw",
   "metadata": {},
   "source": [
    "示例 1:\n",
    "输入: [[4,3,8,4],\n",
    "      [9,5,1,9],\n",
    "      [2,7,6,2]]\n",
    "输出: 1\n",
    "解释: \n",
    "下面的子矩阵是一个 3 x 3 的幻方：\n",
    "438\n",
    "951\n",
    "276\n",
    "\n",
    "而这一个不是：\n",
    "384\n",
    "519\n",
    "762\n",
    "\n",
    "总的来说，在本示例所给定的矩阵中只有一个 3 x 3 的幻方子矩阵。"
   ]
  },
  {
   "cell_type": "markdown",
   "metadata": {},
   "source": [
    "## 思路一"
   ]
  },
  {
   "cell_type": "code",
   "execution_count": 1,
   "metadata": {},
   "outputs": [],
   "source": [
    "class Solution(object):\n",
    "    def numMagicSquaresInside(self, grid):\n",
    "        \"\"\"\n",
    "        :type grid: List[List[int]]\n",
    "        :rtype: int\n",
    "        \"\"\"\n",
    "        M, N = len(grid), len(grid[0])\n",
    "        res = 0\n",
    "        for r in range(M - 2):\n",
    "            for c in range(N - 2):\n",
    "                curgrid = [[grid[r + i][c + j] for j in range(3)] for i in range(3)]\n",
    "                if self.isMagic(curgrid):\n",
    "                    res += 1\n",
    "        return res\n",
    "\n",
    "    \n",
    "    def isMagic(self, grid):\n",
    "        count = range(9)\n",
    "        for i in range(3):\n",
    "            for j in range(3):\n",
    "                if not (1<=grid[i][j]<=9):\n",
    "                    return False\n",
    "                count[grid[i][j]-1] += 1\n",
    "        if 0 in count: return False\n",
    "        row, col = [0,0,0],[0,0,0]\n",
    "        for i in range(3):\n",
    "            row[i] += sum(grid[i][j] for j in range(3))\n",
    "        for j in range(3):\n",
    "            col[j] += sum(grid[i][j] for i in range(3))\n",
    "        if row[0]!=row[1]!=row[2] or col[0]!=col[1]!=col[2]:\n",
    "            return  False\n",
    "        if grid[0][0]+grid[2][2] != grid[0][2]+grid[2][0]:\n",
    "            return False\n",
    "        return True\n"
   ]
  }
 ],
 "metadata": {
  "kernelspec": {
   "display_name": "Python 3",
   "language": "python",
   "name": "python3"
  },
  "language_info": {
   "codemirror_mode": {
    "name": "ipython",
    "version": 3
   },
   "file_extension": ".py",
   "mimetype": "text/x-python",
   "name": "python",
   "nbconvert_exporter": "python",
   "pygments_lexer": "ipython3",
   "version": "3.6.5"
  }
 },
 "nbformat": 4,
 "nbformat_minor": 2
}
