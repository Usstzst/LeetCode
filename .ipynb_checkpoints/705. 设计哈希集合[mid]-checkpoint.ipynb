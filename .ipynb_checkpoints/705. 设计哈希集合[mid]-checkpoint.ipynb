{
 "cells": [
  {
   "cell_type": "markdown",
   "metadata": {},
   "source": [
    "# 题目原意"
   ]
  },
  {
   "cell_type": "raw",
   "metadata": {},
   "source": [
    "不使用任何内建的哈希表库设计一个哈希集合\n",
    "\n",
    "具体地说，你的设计应该包含以下的功能\n",
    "\n",
    "add(value)：向哈希集合中插入一个值。\n",
    "contains(value) ：返回哈希集合中是否存在这个值。\n",
    "remove(value)：将给定值从哈希集合中删除。如果哈希集合中没有这个值，什么也不做。\n",
    "\n",
    "示例:\n",
    "\n",
    "MyHashSet hashSet = new MyHashSet();\n",
    "hashSet.add(1);         \n",
    "hashSet.add(2);         \n",
    "hashSet.contains(1);    // 返回 true\n",
    "hashSet.contains(3);    // 返回 false (未找到)\n",
    "hashSet.add(2);          \n",
    "hashSet.contains(2);    // 返回 true\n",
    "hashSet.remove(2);          \n",
    "hashSet.contains(2);    // 返回  false (已经被删除)"
   ]
  },
  {
   "cell_type": "raw",
   "metadata": {},
   "source": [
    "注意：\n",
    "\n",
    "所有的值都在 [1, 1000000]的范围内。\n",
    "操作的总数目在[1, 10000]范围内。\n",
    "不要使用内建的哈希集合库。"
   ]
  },
  {
   "cell_type": "markdown",
   "metadata": {},
   "source": [
    "## 思路一：位图法"
   ]
  },
  {
   "cell_type": "code",
   "execution_count": null,
   "metadata": {},
   "outputs": [],
   "source": [
    "class MyHashSet:\n",
    "\n",
    "    def __init__(self):\n",
    "        \"\"\"\n",
    "        Initialize your data structure here.\n",
    "        \"\"\"\n",
    "        self.set = [False] * 1000001\n",
    "\n",
    "    def add(self, key):\n",
    "        \"\"\"\n",
    "        :type key: int\n",
    "        :rtype: void\n",
    "        \"\"\"\n",
    "        self.set[key] = True\n",
    "\n",
    "    def remove(self, key):\n",
    "        \"\"\"\n",
    "        :type key: int\n",
    "        :rtype: void\n",
    "        \"\"\"\n",
    "        self.set[key] = False\n",
    "\n",
    "    def contains(self, key):\n",
    "        \"\"\"\n",
    "        Returns true if this set contains the specified element\n",
    "        :type key: int\n",
    "        :rtype: bool\n",
    "        \"\"\"\n",
    "        return self.set[key]\n",
    "\n",
    "\n",
    "# Your MyHashSet object will be instantiated and called as such:\n",
    "# obj = MyHashSet()\n",
    "# obj.add(key)\n",
    "# obj.remove(key)\n",
    "# param_3 = obj.contains(key)\n"
   ]
  },
  {
   "cell_type": "markdown",
   "metadata": {},
   "source": [
    "## 思路二：数组法"
   ]
  },
  {
   "cell_type": "code",
   "execution_count": 1,
   "metadata": {},
   "outputs": [],
   "source": [
    "class MyHashSet:\n",
    "\n",
    "    def __init__(self):\n",
    "        \"\"\"\n",
    "        Initialize your data structure here.\n",
    "        \"\"\"\n",
    "        self.set = [False] * 1000001\n",
    "\n",
    "    def add(self, key):\n",
    "        \"\"\"\n",
    "        :type key: int\n",
    "        :rtype: void\n",
    "        \"\"\"\n",
    "        self.set[key] = True\n",
    "\n",
    "    def remove(self, key):\n",
    "        \"\"\"\n",
    "        :type key: int\n",
    "        :rtype: void\n",
    "        \"\"\"\n",
    "        self.set[key] = False\n",
    "\n",
    "    def contains(self, key):\n",
    "        \"\"\"\n",
    "        Returns true if this set contains the specified element\n",
    "        :type key: int\n",
    "        :rtype: bool\n",
    "        \"\"\"\n",
    "        return self.set[key]\n",
    "\n",
    "\n",
    "# Your MyHashSet object will be instantiated and called as such:\n",
    "# obj = MyHashSet()\n",
    "# obj.add(key)\n",
    "# obj.remove(key)\n",
    "# param_3 = obj.contains(key)\n"
   ]
  }
 ],
 "metadata": {
  "kernelspec": {
   "display_name": "Python 3",
   "language": "python",
   "name": "python3"
  },
  "language_info": {
   "codemirror_mode": {
    "name": "ipython",
    "version": 3
   },
   "file_extension": ".py",
   "mimetype": "text/x-python",
   "name": "python",
   "nbconvert_exporter": "python",
   "pygments_lexer": "ipython3",
   "version": "3.7.0"
  }
 },
 "nbformat": 4,
 "nbformat_minor": 2
}
