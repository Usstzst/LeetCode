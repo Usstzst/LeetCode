{
 "cells": [
  {
   "cell_type": "markdown",
   "metadata": {},
   "source": [
    "# 题目原意"
   ]
  },
  {
   "cell_type": "raw",
   "metadata": {},
   "source": [
    "给定一个链表，每个节点包含一个额外增加的随机指针，该指针可以指向链表中的任何节点或空节点。\n",
    "\n",
    "要求返回这个链表的深度拷贝。 "
   ]
  },
  {
   "cell_type": "markdown",
   "metadata": {},
   "source": [
    "## 思路一"
   ]
  },
  {
   "cell_type": "raw",
   "metadata": {},
   "source": [
    "别人的思路，没看懂，先收藏。\n",
    "\n",
    "使用哈希表保存原链表到新链表节点的映射，即可实现对随机指针域的拷贝\n",
    "\n",
    "使用hashtable，在这个hash表里，记录了老链表和新链表的每一组对应。这样先构造了一个纯next的链表，然后再次循环就能得到带random的链表了。"
   ]
  },
  {
   "cell_type": "code",
   "execution_count": 1,
   "metadata": {},
   "outputs": [],
   "source": [
    "# Definition for singly-linked list with a random pointer.\n",
    "# class RandomListNode(object):\n",
    "#     def __init__(self, x):\n",
    "#         self.label = x\n",
    "#         self.next = None\n",
    "#         self.random = None\n",
    "\n",
    "\n",
    "class Solution:\n",
    "    \n",
    "    def copyRandomList(self, head):\n",
    "        nodeDict = dict()\n",
    "        dummy = RandomListNode(0)\n",
    "        pointer, newHead = head, dummy\n",
    "        while pointer:\n",
    "            newNode = RandomListNode(pointer.label)\n",
    "            nodeDict[pointer] = newHead.next = newNode\n",
    "            newHead, pointer = newHead.next, pointer.next\n",
    "        pointer, newHead = head, dummy.next\n",
    "        while pointer:\n",
    "            if pointer.random:\n",
    "                newHead.random = nodeDict[pointer.random]\n",
    "            pointer, newHead = pointer.next, newHead.next\n",
    "        return dummy.next\n"
   ]
  }
 ],
 "metadata": {
  "kernelspec": {
   "display_name": "Python 3",
   "language": "python",
   "name": "python3"
  },
  "language_info": {
   "codemirror_mode": {
    "name": "ipython",
    "version": 3
   },
   "file_extension": ".py",
   "mimetype": "text/x-python",
   "name": "python",
   "nbconvert_exporter": "python",
   "pygments_lexer": "ipython3",
   "version": "3.6.5"
  }
 },
 "nbformat": 4,
 "nbformat_minor": 2
}
