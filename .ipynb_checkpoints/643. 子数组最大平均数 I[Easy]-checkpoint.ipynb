{
 "cells": [
  {
   "cell_type": "markdown",
   "metadata": {},
   "source": [
    "# 题目原意"
   ]
  },
  {
   "cell_type": "raw",
   "metadata": {},
   "source": [
    "给定 n 个整数，找出平均数最大且长度为 k 的连续子数组，并输出该最大平均数。"
   ]
  },
  {
   "cell_type": "raw",
   "metadata": {},
   "source": [
    "示例 1:\n",
    "\n",
    "输入: [1,12,-5,-6,50,3], k = 4\n",
    "输出: 12.75\n",
    "解释: 最大平均数 (12-5-6+50)/4 = 51/4 = 12.75\n",
    " \n",
    "\n",
    "注意:\n",
    "1 <= k <= n <= 30,000。\n",
    "所给数据范围 [-10,000，10,000]。"
   ]
  },
  {
   "cell_type": "markdown",
   "metadata": {},
   "source": [
    "## 思路一"
   ]
  },
  {
   "cell_type": "code",
   "execution_count": 1,
   "metadata": {},
   "outputs": [],
   "source": [
    "class Solution(object):\n",
    "    def findMaxAverage(self, nums, k):\n",
    "        \"\"\"\n",
    "        :type nums: List[int]\n",
    "        :type k: int\n",
    "        :rtype: float\n",
    "        \"\"\"\n",
    "        res = sum(nums[0:k])\n",
    "        tmp = res\n",
    "        n = len(nums)\n",
    "        for i in range(k,n):\n",
    "            tmp = tmp - nums[i-k] + nums[i]\n",
    "            res = max(res, tmp)\n",
    "        \n",
    "        return res/(k+0.0)\n",
    "\n"
   ]
  }
 ],
 "metadata": {
  "kernelspec": {
   "display_name": "Python 3",
   "language": "python",
   "name": "python3"
  },
  "language_info": {
   "codemirror_mode": {
    "name": "ipython",
    "version": 3
   },
   "file_extension": ".py",
   "mimetype": "text/x-python",
   "name": "python",
   "nbconvert_exporter": "python",
   "pygments_lexer": "ipython3",
   "version": "3.6.5"
  }
 },
 "nbformat": 4,
 "nbformat_minor": 2
}
