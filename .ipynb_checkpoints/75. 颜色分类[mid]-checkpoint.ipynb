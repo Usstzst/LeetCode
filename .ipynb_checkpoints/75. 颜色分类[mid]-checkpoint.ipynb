{
 "cells": [
  {
   "cell_type": "markdown",
   "metadata": {},
   "source": [
    "# 题目原意"
   ]
  },
  {
   "cell_type": "raw",
   "metadata": {},
   "source": [
    "给定一个包含红色、白色和蓝色，一共 n 个元素的数组，原地对它们进行排序，使得相同颜色的元素相邻，并按照红色、白色、蓝色顺序排列。\n",
    "\n",
    "此题中，我们使用整数 0、 1 和 2 分别表示红色、白色和蓝色。\n",
    "\n",
    "注意:\n",
    "不能使用代码库中的排序函数来解决这道题。\n",
    "\n",
    "示例:\n",
    "\n",
    "输入: [2,0,2,1,1,0]\n",
    "输出: [0,0,1,1,2,2]\n"
   ]
  },
  {
   "cell_type": "raw",
   "metadata": {},
   "source": [
    "进阶：\n",
    "一个直观的解决方案是使用计数排序的两趟扫描算法。\n",
    "首先，迭代计算出0、1 和 2 元素的个数，然后按照0、1、2的排序，重写当前数组。\n",
    "你能想出一个仅使用常数空间的一趟扫描算法吗？"
   ]
  },
  {
   "cell_type": "markdown",
   "metadata": {},
   "source": [
    "## 思路一：计数排序"
   ]
  },
  {
   "cell_type": "raw",
   "metadata": {},
   "source": [
    "因为只有三个数，所以简单的方法是计数排序。第一次遍历，统计出这三个数字出现的次数，第二次遍历，根据三个数字的次数对原列表进行修改。"
   ]
  },
  {
   "cell_type": "code",
   "execution_count": 1,
   "metadata": {},
   "outputs": [],
   "source": [
    "class Solution(object):\n",
    "    def sortColors(self, nums):\n",
    "        \"\"\"\n",
    "        :type nums: List[int]\n",
    "        :rtype: void Do not return anything, modify nums in-place instead.\n",
    "        \"\"\"\n",
    "        count = collections.Counter(nums)\n",
    "        for i in range(len(nums)):\n",
    "            if i < count[0]:\n",
    "                nums[i] =0\n",
    "            elif i< count[0]+count[1]:\n",
    "                nums[i] = 1\n",
    "            else:\n",
    "                nums[i] = 2\n",
    "\n"
   ]
  },
  {
   "cell_type": "markdown",
   "metadata": {},
   "source": [
    "## 思路二：双指针"
   ]
  },
  {
   "cell_type": "raw",
   "metadata": {},
   "source": [
    "这个题的考点来自快排之三项切分快速排序。\n",
    "如果只能扫一遍，很容易想到的就是左边存放0和1，右边存放2.两边往中间靠。\n",
    "\n",
    "设置两个指针，zero和two；zero指向第一个1的位置（0串的末尾），two指向第一个非2的位置。然后用i对nums进行遍历：\n",
    "\n",
    "然后使用i从头到尾扫一遍，直到与two相遇。\n",
    "\n",
    "i遇到0就换到左边去，遇到2就换到右边去，遇到1就跳过。\n",
    "\n",
    "需要注意的是：由于zero记录第一个1的位置，因此A[zero]与A[i]交换后，A[zero]为0,A[i]为1，因此i++，zero++；\n",
    "\n",
    "而two记录第一个非2的位置，可能为0或1，因此A[two]与A[i]交换后，A[two]为2,A[i]为0或1，i不能前进，要后续判断。\n"
   ]
  },
  {
   "cell_type": "code",
   "execution_count": 2,
   "metadata": {},
   "outputs": [],
   "source": [
    "class Solution(object):\n",
    "    def sortColors(self, nums):\n",
    "        \"\"\"\n",
    "        :type nums: List[int]\n",
    "        :rtype: void Do not return anything, modify nums in-place instead.\n",
    "        \"\"\"\n",
    "        zero = 0\n",
    "        two = len(nums) - 1\n",
    "        i = 0\n",
    "        while i <= two:\n",
    "            if nums[i] == 0:\n",
    "                nums[zero], nums[i] = nums[i], nums[zero]\n",
    "                i += 1\n",
    "                zero += 1\n",
    "            elif nums[i] == 1:\n",
    "                i += 1\n",
    "            elif nums[i] == 2:\n",
    "                nums[two], nums[i] = nums[i], nums[two]\n",
    "                two -= 1\n",
    "\n"
   ]
  }
 ],
 "metadata": {
  "kernelspec": {
   "display_name": "Python 3",
   "language": "python",
   "name": "python3"
  },
  "language_info": {
   "codemirror_mode": {
    "name": "ipython",
    "version": 3
   },
   "file_extension": ".py",
   "mimetype": "text/x-python",
   "name": "python",
   "nbconvert_exporter": "python",
   "pygments_lexer": "ipython3",
   "version": "3.7.0"
  }
 },
 "nbformat": 4,
 "nbformat_minor": 2
}
