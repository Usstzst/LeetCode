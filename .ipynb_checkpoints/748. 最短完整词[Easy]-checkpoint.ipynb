{
 "cells": [
  {
   "cell_type": "markdown",
   "metadata": {},
   "source": [
    "# 题目原意"
   ]
  },
  {
   "cell_type": "raw",
   "metadata": {},
   "source": [
    "如果单词列表（words）中的一个单词包含牌照（licensePlate）中所有的字母，那么我们称之为完整词。在所有完整词中，最短的单词我们称之为最短完整词。\n",
    "\n",
    "单词在匹配牌照中的字母时不区分大小写，比如牌照中的 \"P\" 依然可以匹配单词中的 \"p\" 字母。\n",
    "\n",
    "我们保证一定存在一个最短完整词。当有多个单词都符合最短完整词的匹配条件时取单词列表中最靠前的一个。\n",
    "\n",
    "牌照中可能包含多个相同的字符，比如说：对于牌照 \"PP\"，单词 \"pair\" 无法匹配，但是 \"supper\" 可以匹配。\n",
    "\n"
   ]
  },
  {
   "cell_type": "raw",
   "metadata": {},
   "source": [
    "示例 1：\n",
    "输入：licensePlate = \"1s3 PSt\", words = [\"step\", \"steps\", \"stripe\", \"stepple\"]\n",
    "输出：\"steps\"\n",
    "说明：最短完整词应该包括 \"s\"、\"p\"、\"s\" 以及 \"t\"。对于 \"step\" 它只包含一个 \"s\" 所以它不符合条件。同时在匹配过程中我们忽略牌照中的大小写。\n",
    " \n",
    "\n",
    "示例 2：\n",
    "输入：licensePlate = \"1s3 456\", words = [\"looks\", \"pest\", \"stew\", \"show\"]\n",
    "输出：\"pest\"\n",
    "说明：存在 3 个包含字母 \"s\" 且有着最短长度的完整词，但我们返回最先出现的完整词。"
   ]
  },
  {
   "cell_type": "markdown",
   "metadata": {},
   "source": [
    "## 思路一"
   ]
  },
  {
   "cell_type": "code",
   "execution_count": 2,
   "metadata": {},
   "outputs": [],
   "source": [
    "class Solution(object):\n",
    "    def shortestCompletingWord(self, licensePlate, words):\n",
    "        \"\"\"\n",
    "        :type licensePlate: str\n",
    "        :type words: List[str]\n",
    "        :rtype: str\n",
    "        \"\"\"\n",
    "        subs = \"1234567890\"\n",
    "        licensePlate = licensePlate.replace(\" \", \"\").lower()\n",
    "        for sub in subs:\n",
    "            licensePlate = licensePlate.replace(sub, \"\")\n",
    "        res = \"\"\n",
    "        plateCount = collections.Counter(licensePlate)\n",
    "        for word in words:\n",
    "            match = True\n",
    "            wordCount = collections.Counter(word)\n",
    "            for w, c in plateCount.items():\n",
    "                if c > wordCount[w]:\n",
    "                    match = False\n",
    "            if (not res or len(res) > len(word)) and match:\n",
    "                res = word\n",
    "        return res"
   ]
  },
  {
   "cell_type": "markdown",
   "metadata": {},
   "source": [
    "## 思路二"
   ]
  },
  {
   "cell_type": "raw",
   "metadata": {},
   "source": [
    "字符串处理\n",
    "\n",
    "将licensePlate转化为小写，正则表达式删除所有非字母字符，并逐字母统计个数。\n",
    "\n",
    "遍历words"
   ]
  },
  {
   "cell_type": "code",
   "execution_count": 4,
   "metadata": {},
   "outputs": [],
   "source": [
    "class Solution(object):\n",
    "    def shortestCompletingWord(self, licensePlate, words):\n",
    "        \"\"\"\n",
    "        :type licensePlate: str\n",
    "        :type words: List[str]\n",
    "        :rtype: str\n",
    "        \"\"\"\n",
    "        clicense = collections.Counter(re.sub('[^a-z]','',licensePlate.lower()))\n",
    "        ans = '#' * 1111\n",
    "        for word in words:\n",
    "            cword = collections.Counter(word)\n",
    "            if all(clicense[k] <= cword[k] for k in clicense) and len(word) < len(ans):\n",
    "                ans = word\n",
    "        return ans"
   ]
  }
 ],
 "metadata": {
  "kernelspec": {
   "display_name": "Python 3",
   "language": "python",
   "name": "python3"
  },
  "language_info": {
   "codemirror_mode": {
    "name": "ipython",
    "version": 3
   },
   "file_extension": ".py",
   "mimetype": "text/x-python",
   "name": "python",
   "nbconvert_exporter": "python",
   "pygments_lexer": "ipython3",
   "version": "3.7.0"
  }
 },
 "nbformat": 4,
 "nbformat_minor": 2
}
