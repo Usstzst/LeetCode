{
 "cells": [
  {
   "cell_type": "markdown",
   "metadata": {},
   "source": [
    "# 题目原意"
   ]
  },
  {
   "cell_type": "raw",
   "metadata": {},
   "source": [
    "设计链表的实现。您可以选择使用单链表或双链表。单链表中的节点应该具有两个属性：val 和 next。val 是当前节点的值，next 是指向下一个节点的指针/引用。如果要使用双向链表，则还需要一个属性 prev 以指示链表中的上一个节点。假设链表中的所有节点都是 0-index 的。\n",
    "\n",
    "在链表类中实现这些功能：\n",
    "\n",
    "1. get(index)：获取链表中第 index 个节点的值。如果索引无效，则返回-1。\n",
    "2. addAtHead(val)：在链表的第一个元素之前添加一个值为 val 的节点。插入后，新节点将成为链表的第一个节点。\n",
    "3. addAtTail(val)：将值为 val 的节点追加到链表的最后一个元素。\n",
    "4. addAtIndex(index,val)：在链表中的第 index 个节点之前添加值为 val  的节点。如果 index 等于链表的长度，则该节点将附加到链表的末尾。如果 index 大于链表长度，则不会插入节点。\n",
    "5. deleteAtIndex(index)：如果索引 index 有效，则删除链表中的第 index 个节点。"
   ]
  },
  {
   "cell_type": "raw",
   "metadata": {},
   "source": [
    "Example:\n",
    "\n",
    "MyLinkedList linkedList = new MyLinkedList();\n",
    "linkedList.addAtHead(1);\n",
    "linkedList.addAtTail(3);\n",
    "linkedList.addAtIndex(1,2);   //链表变为1-> 2-> 3\n",
    "linkedList.get(1);            //返回2\n",
    "linkedList.deleteAtIndex(1);  //现在链表是1-> 3\n",
    "linkedList.get(1);            //返回3"
   ]
  },
  {
   "cell_type": "markdown",
   "metadata": {},
   "source": [
    "## 思路一："
   ]
  },
  {
   "cell_type": "raw",
   "metadata": {},
   "source": [
    "链表的实现如果按照题目所说的，那么需要自己定义类，也就是普通的链表。但是！我们需要那么做么？我们需要实现的链表只要能实现题目中给的函数功能就行了，所以完全不需要自己定义类，只需要一个list即可！\n",
    "\n",
    "也就是说所有的操作都映射到list上的操作，对应的改变一下就行。\n",
    "\n",
    "注意，这个本质上是不对的，只是为了通过这个题而做的，这种定义的链表的各种操作的复杂度是不符合要求的。\n"
   ]
  },
  {
   "cell_type": "code",
   "execution_count": 2,
   "metadata": {},
   "outputs": [],
   "source": [
    "class MyLinkedList(object):\n",
    "\n",
    "    def __init__(self):\n",
    "        \"\"\"\n",
    "        Initialize your data structure here.\n",
    "        \"\"\"\n",
    "        self.linkedlist = list()\n",
    "\n",
    "    def get(self, index):\n",
    "        \"\"\"\n",
    "        Get the value of the index-th node in the linked list. If the index is invalid, return -1.\n",
    "        :type index: int\n",
    "        :rtype: int\n",
    "        \"\"\"\n",
    "        if index < 0 or index >= len(self.linkedlist):\n",
    "            return -1\n",
    "        else:\n",
    "            return self.linkedlist[index]\n",
    "\n",
    "    def addAtHead(self, val):\n",
    "        \"\"\"\n",
    "        Add a node of value val before the first element of the linked list. \n",
    "        After the insertion, the new node will be the first node of the linked list.\n",
    "        :type val: int\n",
    "        :rtype: void\n",
    "        \"\"\"\n",
    "        self.linkedlist.insert(0, val)\n",
    "\n",
    "    def addAtTail(self, val):\n",
    "        \"\"\"\n",
    "        Append a node of value val to the last element of the linked list.\n",
    "        :type val: int\n",
    "        :rtype: void\n",
    "        \"\"\"\n",
    "        self.linkedlist.append(val)\n",
    "\n",
    "    def addAtIndex(self, index, val):\n",
    "        \"\"\"\n",
    "        Add a node of value val before the index-th node in the linked list.\n",
    "        If index equals to the length of linked list, the node will be appended to the end of linked list. \n",
    "        If index is greater than the length, the node will not be inserted.\n",
    "        :type index: int\n",
    "        :type val: int\n",
    "        :rtype: void\n",
    "        \"\"\"\n",
    "        if 0 <= index and index <= len(self.linkedlist):\n",
    "            self.linkedlist.insert(index, val)\n",
    "\n",
    "    def deleteAtIndex(self, index):\n",
    "        \"\"\"\n",
    "        Delete the index-th node in the linked list, if the index is valid.\n",
    "        :type index: int\n",
    "        :rtype: void\n",
    "        \"\"\"\n",
    "        if 0 <= index and index < len(self.linkedlist):\n",
    "            self.linkedlist.pop(index)\n",
    "\n",
    "\n",
    "# Your MyLinkedList object will be instantiated and called as such:\n",
    "# obj = MyLinkedList()\n",
    "# param_1 = obj.get(index)\n",
    "# obj.addAtHead(val)\n",
    "# obj.addAtTail(val)\n",
    "# obj.addAtIndex(index,val)\n",
    "# obj.deleteAtIndex(index)\n"
   ]
  }
 ],
 "metadata": {
  "kernelspec": {
   "display_name": "Python 3",
   "language": "python",
   "name": "python3"
  },
  "language_info": {
   "codemirror_mode": {
    "name": "ipython",
    "version": 3
   },
   "file_extension": ".py",
   "mimetype": "text/x-python",
   "name": "python",
   "nbconvert_exporter": "python",
   "pygments_lexer": "ipython3",
   "version": "3.7.0"
  }
 },
 "nbformat": 4,
 "nbformat_minor": 2
}
