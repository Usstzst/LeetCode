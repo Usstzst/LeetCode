{
 "cells": [
  {
   "cell_type": "markdown",
   "metadata": {},
   "source": [
    "# 题目原意"
   ]
  },
  {
   "cell_type": "raw",
   "metadata": {},
   "source": [
    "给定一个字符串 S 和一个字符 C。返回一个代表字符串 S 中每个字符到字符串 S 中的字符 C 的最短距离的数组。"
   ]
  },
  {
   "cell_type": "raw",
   "metadata": {},
   "source": [
    "Example :\n",
    "输入: S = \"loveleetcode\", C = 'e'\n",
    "输出: [3, 2, 1, 0, 1, 0, 0, 1, 2, 2, 1, 0]"
   ]
  },
  {
   "cell_type": "markdown",
   "metadata": {},
   "source": [
    "## 思路一"
   ]
  },
  {
   "cell_type": "raw",
   "metadata": {},
   "source": [
    "这个解题方法于两步走的方案：\n",
    "\n",
    "第一步，先假设在很远的位置有个C字符，那么从左到右开始遍历，找出每个字符到其最近的左边的字符C的距离；\n",
    "第二步，先假设在很远的位置有个C字符，那么从右到左开始遍历，找出每个字符到其最近的右边的字符C的距离，并和第一步求出的距离进行比较，找出最小值为结果；\n",
    "\n",
    "两个技巧：\n",
    "\n",
    "设了一个比字符串长度更远的一个字符C，保证后面求最小值更新距离时一定会被更新。\n",
    "无论如何都用到了abs求绝对值，哪怕可能是不需要的，目的是不用费脑子思考谁大谁小了。\n"
   ]
  },
  {
   "cell_type": "code",
   "execution_count": 1,
   "metadata": {},
   "outputs": [],
   "source": [
    "class Solution:\n",
    "    def shortestToChar(self, S, C):\n",
    "        \"\"\"\n",
    "        :type S: str\n",
    "        :type C: str\n",
    "        :rtype: List[int]\n",
    "        \"\"\"\n",
    "        _len = len(S)\n",
    "        index = -1000000\n",
    "        ans = [0]* _len\n",
    "        for i, s in enumerate(S):\n",
    "            if s == C:\n",
    "                index = i\n",
    "            ans[i] = abs(i-index)\n",
    "            \n",
    "        index = -1000000\n",
    "        for i in range(_len-1, -1, -1):\n",
    "            if S[i] == C:\n",
    "                index = i\n",
    "            ans[i] = min(abs(i-index), ans[i])\n",
    "        return ans\n",
    "    "
   ]
  }
 ],
 "metadata": {
  "kernelspec": {
   "display_name": "Python 3",
   "language": "python",
   "name": "python3"
  },
  "language_info": {
   "codemirror_mode": {
    "name": "ipython",
    "version": 3
   },
   "file_extension": ".py",
   "mimetype": "text/x-python",
   "name": "python",
   "nbconvert_exporter": "python",
   "pygments_lexer": "ipython3",
   "version": "3.7.0"
  }
 },
 "nbformat": 4,
 "nbformat_minor": 2
}
