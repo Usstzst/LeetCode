{
 "cells": [
  {
   "cell_type": "markdown",
   "metadata": {},
   "source": [
    "# 题目原意"
   ]
  },
  {
   "cell_type": "raw",
   "metadata": {},
   "source": [
    "索引从0开始长度为N的数组A，包含0到N - 1的所有整数。找到并返回最大的集合S，S[i] = {A[i], A[A[i]], A[A[A[i]]], ... }且遵守以下的规则。\n",
    "\n",
    "假设选择索引为i的元素A[i]为S的第一个元素，S的下一个元素应该是A[A[i]]，之后是A[A[A[i]]]... 以此类推，不断添加直到S出现重复的元素。\n",
    "\n",
    "示例 1:\n",
    "\n",
    "输入: A = [5,4,0,3,1,6,2]\n",
    "输出: 4\n",
    "解释: \n",
    "A[0] = 5, A[1] = 4, A[2] = 0, A[3] = 3, A[4] = 1, A[5] = 6, A[6] = 2.\n",
    "\n",
    "其中一种最长的 S[K]:\n",
    "S[0] = {A[0], A[5], A[6], A[2]} = {5, 6, 2, 0}"
   ]
  },
  {
   "cell_type": "markdown",
   "metadata": {},
   "source": [
    "## 思路一"
   ]
  },
  {
   "cell_type": "raw",
   "metadata": {},
   "source": [
    "本身思路很简单，就是用一个数组来保存某个位置是否被访问过，如果被访问过说明就是成了一个环，终止并记录最大环长。\n",
    "\n",
    "直接这么做会超时，一个很机智的做法是，把visited数组放到for循环的外边，这样可以当新的环路计算的时候，如果以前的环访问过该位置的话，就不再计算了。道理是，给出的数组nums的数字范围是0~N-1，也就是说没有重复的数字，那么前面访问过的一个串的长度不会小于后面。\n",
    "\n",
    "比如题目中给出的例子，在对以index = 0开始的串进行遍历的时候，会对0,5,6,2这几个位置进行标记过已经访问了。当index = 5,6,2时，以index开头的串的长度不会超过以0开头的串的长度。\n"
   ]
  },
  {
   "cell_type": "code",
   "execution_count": 1,
   "metadata": {},
   "outputs": [],
   "source": [
    "class Solution(object):\n",
    "    def arrayNesting(self, nums):\n",
    "        \"\"\"\n",
    "        :type nums: List[int]\n",
    "        :rtype: int\n",
    "        \"\"\"\n",
    "        # 放在这里\n",
    "        visited = [False] * len(nums)\n",
    "        ans = 0\n",
    "        for i in xrange(len(nums)):\n",
    "            road = 0\n",
    "            while not visited[i]:\n",
    "                road += 1\n",
    "                # 下面两行的顺序不能变\n",
    "                visited[i] = True\n",
    "                i = nums[i]\n",
    "            ans = max(ans, road)\n",
    "        return ans\n"
   ]
  }
 ],
 "metadata": {
  "kernelspec": {
   "display_name": "Python 3",
   "language": "python",
   "name": "python3"
  },
  "language_info": {
   "codemirror_mode": {
    "name": "ipython",
    "version": 3
   },
   "file_extension": ".py",
   "mimetype": "text/x-python",
   "name": "python",
   "nbconvert_exporter": "python",
   "pygments_lexer": "ipython3",
   "version": "3.6.5"
  }
 },
 "nbformat": 4,
 "nbformat_minor": 2
}
