{
 "cells": [
  {
   "cell_type": "markdown",
   "metadata": {},
   "source": [
    "# 题目原意"
   ]
  },
  {
   "cell_type": "raw",
   "metadata": {},
   "source": [
    "给定一个数组 candidates 和一个目标数 target ，找出 candidates 中所有可以使数字和为 target 的组合。\n",
    "\n",
    "candidates 中的每个数字在每个组合中只能使用一次。\n",
    "\n",
    "说明：\n",
    "所有数字（包括目标数）都是正整数。\n",
    "解集不能包含重复的组合。 \n"
   ]
  },
  {
   "cell_type": "raw",
   "metadata": {},
   "source": [
    "示例 1:\n",
    "输入: candidates = [10,1,2,7,6,1,5], target = 8,\n",
    "所求解集为:\n",
    "[\n",
    "  [1, 7],\n",
    "  [1, 2, 5],\n",
    "  [2, 6],\n",
    "  [1, 1, 6]\n",
    "]\n",
    "\n",
    "示例 2:\n",
    "输入: candidates = [2,5,2,1,2], target = 5,\n",
    "所求解集为:\n",
    "[\n",
    "  [1,2,2],\n",
    "  [5]\n",
    "]"
   ]
  },
  {
   "cell_type": "markdown",
   "metadata": {},
   "source": [
    "## 思路一：DFS"
   ]
  },
  {
   "cell_type": "code",
   "execution_count": 1,
   "metadata": {},
   "outputs": [],
   "source": [
    "class Solution(object):\n",
    "    def combinationSum2(self, candidates, target):\n",
    "        \"\"\"\n",
    "        :type candidates: List[int]\n",
    "        :type target: int\n",
    "        :rtype: List[List[int]]\n",
    "        \"\"\"\n",
    "        candidates.sort()\n",
    "        print(candidates)\n",
    "        res = []\n",
    "        self.dfs(candidates, target, 0, res, [])\n",
    "        return res\n",
    "    \n",
    "    def dfs(self, nums, target, index, res, path):\n",
    "        if target < 0:\n",
    "            return \n",
    "        elif target == 0:\n",
    "            res.append(path)\n",
    "            return \n",
    "        for i in range(index, len(nums)):\n",
    "            if i > index and nums[i]==nums[i-1]:\n",
    "                continue\n",
    "            self.dfs(nums, target-nums[i], i+1, res, path+[nums[i]])\n",
    "\n",
    " "
   ]
  }
 ],
 "metadata": {
  "kernelspec": {
   "display_name": "Python 3",
   "language": "python",
   "name": "python3"
  },
  "language_info": {
   "codemirror_mode": {
    "name": "ipython",
    "version": 3
   },
   "file_extension": ".py",
   "mimetype": "text/x-python",
   "name": "python",
   "nbconvert_exporter": "python",
   "pygments_lexer": "ipython3",
   "version": "3.6.5"
  }
 },
 "nbformat": 4,
 "nbformat_minor": 2
}
