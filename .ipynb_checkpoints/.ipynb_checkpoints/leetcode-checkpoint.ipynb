{
 "cells": [
  {
   "cell_type": "markdown",
   "metadata": {},
   "source": [
    "## 1. 反转整数\n"
   ]
  },
  {
   "cell_type": "code",
   "execution_count": 72,
   "metadata": {},
   "outputs": [],
   "source": [
    "# 反转整数\n",
    "\n",
    "class Solution(object):\n",
    "    def reverse(self, x):\n",
    "        # flag 记录正负数\n",
    "        flag = 1 if x>=0 else -1\n",
    "        new_x, x = 0, abs(x)\n",
    "        while x:\n",
    "            new_x = 10*new_x + x%10\n",
    "            x = int(x/10)\n",
    "        new_x = flag*new_x\n",
    "        return new_x if new_x < 2147483648 and new_x >= -2147483648 else 0\n",
    "\n"
   ]
  },
  {
   "cell_type": "markdown",
   "metadata": {},
   "source": [
    "# 罗马数字转整数"
   ]
  },
  {
   "cell_type": "code",
   "execution_count": 138,
   "metadata": {},
   "outputs": [
    {
     "ename": "SyntaxError",
     "evalue": "invalid syntax (<ipython-input-138-1c28601fb3df>, line 15)",
     "output_type": "error",
     "traceback": [
      "\u001b[1;36m  File \u001b[1;32m\"<ipython-input-138-1c28601fb3df>\"\u001b[1;36m, line \u001b[1;32m15\u001b[0m\n\u001b[1;33m    sum - =a[j]\u001b[0m\n\u001b[1;37m          ^\u001b[0m\n\u001b[1;31mSyntaxError\u001b[0m\u001b[1;31m:\u001b[0m invalid syntax\n"
     ]
    }
   ],
   "source": [
    "class Solution(object):\n",
    "    def romanToInt(self, s):\n",
    "        \"\"\"\n",
    "        :type s: str\n",
    "        :rtype: int\n",
    "        \"\"\"\n",
    "        sum=0\n",
    "        a = []\n",
    "        dict={'M': 1000,'D': 500 ,'C': 100,'L': 50,'X': 10,'V': 5,'I': 1} \n",
    "        for i in s:\n",
    "            a.append(dict[i])\n",
    "        print(a)\n",
    "        for j in range(len(a)-1):\n",
    "            if a[j]< a[j+1]:\n",
    "                sum - =a[j] \n",
    "            else:\n",
    "                sum + = a[j]\n",
    "        sum += a[-1]\n",
    "        return sum\n",
    "\n",
    "s = Solution()\n",
    "s.romanToInt('IXIV')"
   ]
  },
  {
   "cell_type": "markdown",
   "metadata": {},
   "source": [
    "# 删除排序数组中的重复项"
   ]
  },
  {
   "cell_type": "code",
   "execution_count": 1,
   "metadata": {},
   "outputs": [
    {
     "data": {
      "text/plain": [
       "[0, 1, 2]"
      ]
     },
     "execution_count": 1,
     "metadata": {},
     "output_type": "execute_result"
    }
   ],
   "source": [
    "# class Solution:\n",
    "#     def removeDuplicates(self, nums):\n",
    "#         \"\"\"\n",
    "#         :type nums: List[int]\n",
    "#         :rtype: int\n",
    "#         \"\"\"\n",
    "#         a = []\n",
    "#         for i in nums:\n",
    "#             if i in a:\n",
    "#                 continue\n",
    "#             else:\n",
    "#                 a.append(i)\n",
    "#         return a\n",
    "        \n",
    "class Solution:\n",
    "    def removeDuplicates(self, nums):\n",
    "        # write your code here\n",
    "        k=0\n",
    "        for i in range(1,len(nums)):\n",
    "            if nums[i] != nums[k]:\n",
    "                k+=1\n",
    "                nums[k] = nums[i]\n",
    "        \n",
    "        del nums[k+1:len(nums)]\n",
    "        return nums\n",
    "\n",
    "s = Solution()\n",
    "s.removeDuplicates([0,1,1,2])\n",
    "    \n",
    "\n"
   ]
  },
  {
   "cell_type": "markdown",
   "metadata": {},
   "source": [
    "# 实现strStr()\n"
   ]
  },
  {
   "cell_type": "code",
   "execution_count": null,
   "metadata": {},
   "outputs": [],
   "source": [
    "m = [1,2,3,4]\n",
    "i.index"
   ]
  }
 ],
 "metadata": {
  "kernelspec": {
   "display_name": "Python 3",
   "language": "python",
   "name": "python3"
  },
  "language_info": {
   "codemirror_mode": {
    "name": "ipython",
    "version": 3
   },
   "file_extension": ".py",
   "mimetype": "text/x-python",
   "name": "python",
   "nbconvert_exporter": "python",
   "pygments_lexer": "ipython3",
   "version": "3.7.0"
  }
 },
 "nbformat": 4,
 "nbformat_minor": 2
}
