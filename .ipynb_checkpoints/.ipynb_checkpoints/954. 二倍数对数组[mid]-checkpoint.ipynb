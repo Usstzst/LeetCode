{
 "cells": [
  {
   "cell_type": "markdown",
   "metadata": {},
   "source": [
    "# 题目原意"
   ]
  },
  {
   "cell_type": "raw",
   "metadata": {},
   "source": [
    "给定一个长度为偶数的整数数组 A，只有对 A 进行重组后可以满足 “对于每个 0 <= i < len(A) / 2，都有 A[2 * i + 1] = 2 * A[2 * i]” 时，返回 true；否则，返回 false。"
   ]
  },
  {
   "cell_type": "raw",
   "metadata": {},
   "source": [
    "示例 1：\n",
    "输入：[3,1,3,6]\n",
    "输出：false\n",
    "\n",
    "示例 2：\n",
    "输入：[2,1,2,6]\n",
    "输出：false\n",
    "\n",
    "示例 3：\n",
    "输入：[4,-2,2,-4]\n",
    "输出：true\n",
    "解释：我们可以用 [-2,-4] 和 [2,4] 这两组组成 [-2,-4,2,4] 或是 [2,4,-2,-4]\n",
    "\n",
    "示例 4：\n",
    "输入：[1,2,4,16,8,4]\n",
    "输出：false"
   ]
  },
  {
   "cell_type": "markdown",
   "metadata": {},
   "source": [
    "## 思路一"
   ]
  },
  {
   "cell_type": "raw",
   "metadata": {},
   "source": [
    "使用Counter将数组转换成字典key=数组元素值 value= 相同元素的个数\n",
    "对数组按照绝对值大小进行排序\n",
    "如果x的个数大于2x的个数 必定有x无法和2x匹配，返回Flase\n",
    "更新2x的个数=（2x-x）的个数 直到2x个数为0 才返回true"
   ]
  },
  {
   "cell_type": "code",
   "execution_count": 1,
   "metadata": {},
   "outputs": [],
   "source": [
    "from collections import Counter\n",
    "class Solution:\n",
    "    def canReorderDoubled(self, A):\n",
    "        \"\"\"\n",
    "        :type A: List[int]\n",
    "        :rtype: bool\n",
    "        \"\"\"\n",
    "        A_dict = Counter(A)\n",
    "        \n",
    "        for x in sorted(A_dict, key=lambda x: abs(x)):\n",
    "            if A_dict[x] > A_dict[2*x]:\n",
    "                return False\n",
    "            \n",
    "            A_dict[2*x] -= A_dict[x]\n",
    "        return True \n",
    "\n"
   ]
  }
 ],
 "metadata": {
  "kernelspec": {
   "display_name": "Python 3",
   "language": "python",
   "name": "python3"
  },
  "language_info": {
   "codemirror_mode": {
    "name": "ipython",
    "version": 3
   },
   "file_extension": ".py",
   "mimetype": "text/x-python",
   "name": "python",
   "nbconvert_exporter": "python",
   "pygments_lexer": "ipython3",
   "version": "3.6.5"
  }
 },
 "nbformat": 4,
 "nbformat_minor": 2
}
