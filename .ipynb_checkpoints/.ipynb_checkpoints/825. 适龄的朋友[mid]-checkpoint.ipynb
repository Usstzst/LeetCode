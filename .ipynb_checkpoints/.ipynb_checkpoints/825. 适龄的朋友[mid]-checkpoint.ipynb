{
 "cells": [
  {
   "cell_type": "markdown",
   "metadata": {},
   "source": [
    "# 题目原意"
   ]
  },
  {
   "cell_type": "raw",
   "metadata": {},
   "source": [
    "人们会互相发送好友请求，现在给定一个包含有他们年龄的数组，ages[i] 表示第 i 个人的年龄。\n",
    "\n",
    "当满足以下条件时，A 不能给 B（A、B不为同一人）发送好友请求：\n",
    "\n",
    "age[B] <= 0.5 * age[A] + 7\n",
    "age[B] > age[A]\n",
    "age[B] > 100 && age[A] < 100\n",
    "否则，A 可以给 B 发送好友请求。\n",
    "\n",
    "注意如果 A 向 B 发出了请求，不等于 B 接受了 A 的请求。而且，人们不会给自己发送好友请求。 \n",
    "\n",
    "求总共会发出多少份好友请求?\n"
   ]
  },
  {
   "cell_type": "raw",
   "metadata": {},
   "source": [
    "示例 1:\n",
    "输入: [16,16]\n",
    "输出: 2\n",
    "解释: 二人可以互发好友申请。\n",
    "\n",
    "示例 2:\n",
    "输入: [16,17,18]\n",
    "输出: 2\n",
    "解释: 好友请求可产生于 17 -> 16, 18 -> 17.\n",
    "\n",
    "示例 3:\n",
    "输入: [20,30,100,110,120]\n",
    "输出: 3\n",
    "解释: 好友请求可产生于 110 -> 100, 120 -> 110, 120 -> 100."
   ]
  },
  {
   "cell_type": "markdown",
   "metadata": {},
   "source": [
    "## 思路一"
   ]
  },
  {
   "cell_type": "raw",
   "metadata": {},
   "source": [
    "把上面的约束条件理解清楚之后就很简单了。首先我们需要统计个数，然后肯定需要进行排序，然后遍历标记为A，查找满足他的申请条件的B有多少。\n",
    "\n",
    "对于A,B他们之间有多少对申请？如果A!=B，那么A要向每个B进行申请；如果A==B，那么A要向和他年龄一样大的其他人申请。\n",
    "\n",
    "时间复杂度是O(120 * N)，空间复杂度是O(120)."
   ]
  },
  {
   "cell_type": "code",
   "execution_count": 2,
   "metadata": {},
   "outputs": [],
   "source": [
    "class Solution(object):\n",
    "    def numFriendRequests(self, ages):\n",
    "        \"\"\"\n",
    "        :type ages: List[int]\n",
    "        :rtype: int\n",
    "        \"\"\"\n",
    "        count = collections.Counter(ages)\n",
    "        ages = sorted(count.keys())\n",
    "        N = len(ages)\n",
    "        res = 0\n",
    "        for A in ages:\n",
    "            for B in range(int(0.5 * A) + 7 + 1, A + 1):\n",
    "                res += count[A] * (count[B] - int(A == B))\n",
    "        return res\n"
   ]
  }
 ],
 "metadata": {
  "kernelspec": {
   "display_name": "Python 3",
   "language": "python",
   "name": "python3"
  },
  "language_info": {
   "codemirror_mode": {
    "name": "ipython",
    "version": 3
   },
   "file_extension": ".py",
   "mimetype": "text/x-python",
   "name": "python",
   "nbconvert_exporter": "python",
   "pygments_lexer": "ipython3",
   "version": "3.6.5"
  }
 },
 "nbformat": 4,
 "nbformat_minor": 2
}
