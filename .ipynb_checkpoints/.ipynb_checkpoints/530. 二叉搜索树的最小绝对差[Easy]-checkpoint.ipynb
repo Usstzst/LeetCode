{
 "cells": [
  {
   "cell_type": "markdown",
   "metadata": {},
   "source": [
    "# 题目原意"
   ]
  },
  {
   "cell_type": "raw",
   "metadata": {},
   "source": [
    "给定一个所有节点为非负值的二叉搜索树，求树中任意两节点的差的绝对值的最小值。\n"
   ]
  },
  {
   "cell_type": "raw",
   "metadata": {},
   "source": [
    "示例 :\n",
    "输入:\n",
    "\n",
    "   1\n",
    "    \\\n",
    "     3\n",
    "    /\n",
    "   2\n",
    "\n",
    "输出:\n",
    "1\n",
    "\n",
    "解释:\n",
    "最小绝对差为1，其中 2 和 1 的差的绝对值为 1（或者 2 和 3）。\n",
    "注意: 树中至少有2个节点。"
   ]
  },
  {
   "cell_type": "markdown",
   "metadata": {},
   "source": [
    "## 思路一"
   ]
  },
  {
   "cell_type": "raw",
   "metadata": {},
   "source": [
    "中序遍历将BST中的节点按照递增顺序输出。"
   ]
  },
  {
   "cell_type": "code",
   "execution_count": 3,
   "metadata": {},
   "outputs": [],
   "source": [
    "# Definition for a binary tree node.\n",
    "# class TreeNode(object):\n",
    "#     def __init__(self, x):\n",
    "#         self.val = x\n",
    "#         self.left = None\n",
    "#         self.right = None\n",
    "\n",
    "class Solution(object):\n",
    "    def getMinimumDifference(self, root):\n",
    "        \"\"\"\n",
    "        :type root: TreeNode\n",
    "        :rtype: int\n",
    "        \"\"\"\n",
    "        if root is None:\n",
    "            return \n",
    "\n",
    "        temp=[]\n",
    "        node = self.inorder(root,temp)\n",
    "        temp2 = min([abs(node[i+1] - node[i]) for i in range(len(node)-1)])\n",
    "        return temp2\n",
    "\n",
    "    def inorder(self,root,temp):\n",
    "        if root == None:\n",
    "            return \n",
    "        self.inorder(root.left,temp)\n",
    "        temp.append(root.val)\n",
    "        self.inorder(root.right,temp)\n",
    "        return temp\n"
   ]
  },
  {
   "cell_type": "code",
   "execution_count": 4,
   "metadata": {},
   "outputs": [],
   "source": [
    "# Definition for a binary tree node.\n",
    "# class TreeNode(object):\n",
    "#     def __init__(self, x):\n",
    "#         self.val = x\n",
    "#         self.left = None\n",
    "#         self.right = None\n",
    "\n",
    "class Solution(object):\n",
    "    def getMinimumDifference(self, root):\n",
    "        if not root:\n",
    "            return 0\n",
    "        res=[]\n",
    "        def innerOrder(node):\n",
    "            if node:\n",
    "                innerOrder(node.left)\n",
    "                res.append(node.val)\n",
    "                innerOrder(node.right)\n",
    "        innerOrder(root)\n",
    "\n",
    "        minnum=min([res[i]-res[i-1] for i in range(1,len(res))])\n",
    "        return minnum\n"
   ]
  }
 ],
 "metadata": {
  "kernelspec": {
   "display_name": "Python 3",
   "language": "python",
   "name": "python3"
  },
  "language_info": {
   "codemirror_mode": {
    "name": "ipython",
    "version": 3
   },
   "file_extension": ".py",
   "mimetype": "text/x-python",
   "name": "python",
   "nbconvert_exporter": "python",
   "pygments_lexer": "ipython3",
   "version": "3.7.0"
  }
 },
 "nbformat": 4,
 "nbformat_minor": 2
}
