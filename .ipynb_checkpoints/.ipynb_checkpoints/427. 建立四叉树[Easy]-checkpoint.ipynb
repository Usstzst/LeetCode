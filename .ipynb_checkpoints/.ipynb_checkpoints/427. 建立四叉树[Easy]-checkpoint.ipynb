{
 "cells": [
  {
   "cell_type": "markdown",
   "metadata": {},
   "source": [
    "# 题目原意"
   ]
  },
  {
   "cell_type": "raw",
   "metadata": {},
   "source": [
    "题目描述太复杂，而且多图没法准确描述，这里附上题目链接：\n",
    "https://leetcode-cn.com/problems/construct-quad-tree/description/"
   ]
  },
  {
   "cell_type": "markdown",
   "metadata": {},
   "source": [
    "## 题目解析"
   ]
  },
  {
   "cell_type": "raw",
   "metadata": {},
   "source": [
    "题目所说的四分树，其实就是平面上的一种集合结构。把一个边长为2的幂的正方形均分成4块，然后再均分到不能均分为止即为叶子节点。类似于树结构，这是一个平面结构。\n"
   ]
  },
  {
   "cell_type": "markdown",
   "metadata": {},
   "source": [
    "## 思路一"
   ]
  },
  {
   "cell_type": "raw",
   "metadata": {},
   "source": [
    "首先，这种结构和树结构非常类似，肯定使用递归求解。重要的是如何判断此树结构如何判断叶子节点、val。\n",
    "\n",
    "所以定义了一个新的函数，如果一个正方形中所有的数字都是0，则val是False，否则val是True。\n",
    "\n",
    "判断leaf的方法是看看格子里的所有的值是不是相同的，如果全是0或者1那么就是leaf，否则就不是。\n",
    "\n",
    "本来应该是两个函数，但是我用一个函数有3个返回值就实现了。\n",
    "\n",
    "其他的难点就在把正方形进行切分成四块了，这个不是难点。\n"
   ]
  },
  {
   "cell_type": "code",
   "execution_count": null,
   "metadata": {},
   "outputs": [],
   "source": [
    "\"\"\"\n",
    "# Definition for a QuadTree node.\n",
    "class Node:\n",
    "    def __init__(self, val, isLeaf, topLeft, topRight, bottomLeft, bottomRight):\n",
    "        self.val = val\n",
    "        self.isLeaf = isLeaf\n",
    "        self.topLeft = topLeft\n",
    "        self.topRight = topRight\n",
    "        self.bottomLeft = bottomLeft\n",
    "        self.bottomRight = bottomRight\n",
    "\"\"\"\n",
    "class Solution:\n",
    "    def construct(self, grid):\n",
    "        \"\"\"\n",
    "        :type grid: List[List[int]]\n",
    "        :rtype: Node\n",
    "        \"\"\"\n",
    "        isLeaf = self.isQuadTree(grid)\n",
    "        _len = len(grid)\n",
    "        if isLeaf == None:\n",
    "            mid = _len // 2\n",
    "            topLeftGrid = [[grid[i][j] for j in range(mid)] for i in range(mid)]\n",
    "            topRightGrid = [[grid[i][j] for j in range(mid, _len)] for i in range(mid)]\n",
    "            bottomLeftGrid = [[grid[i][j] for j in range(mid)] for i in range(mid, _len)]\n",
    "            bottomRightGrid = [[grid[i][j] for j in range(mid, _len)] for i in range(mid, _len)]\n",
    "            node = Node(True, False, self.construct(topLeftGrid), self.construct(topRightGrid), \n",
    "                        self.construct(bottomLeftGrid), self.construct(bottomRightGrid))\n",
    "        elif isLeaf == False:\n",
    "            node = Node(False, True, None, None, None, None)\n",
    "        else:\n",
    "            node = Node(True, True, None, None, None, None)\n",
    "        return node\n",
    "        \n",
    "    def isQuadTree(self, grid):\n",
    "        _len = len(grid)\n",
    "        _sum = 0\n",
    "        for i in range(_len):\n",
    "            _sum += sum(grid[i])\n",
    "        if _sum == _len ** 2:\n",
    "            return True\n",
    "        elif _sum == 0:\n",
    "            return False\n",
    "        else:\n",
    "            return None\n"
   ]
  },
  {
   "cell_type": "code",
   "execution_count": 2,
   "metadata": {},
   "outputs": [],
   "source": [
    "\"\"\"\n",
    "# Definition for a QuadTree node.\n",
    "class Node(object):\n",
    "    def __init__(self, val, isLeaf, topLeft, topRight, bottomLeft, bottomRight):\n",
    "        self.val = val\n",
    "        self.isLeaf = isLeaf\n",
    "        self.topLeft = topLeft\n",
    "        self.topRight = topRight\n",
    "        self.bottomLeft = bottomLeft\n",
    "        self.bottomRight = bottomRight\n",
    "\"\"\"\n",
    "class Solution(object):\n",
    "    def construct(self, grid):\n",
    "        \"\"\"\n",
    "        :type grid: List[List[int]]\n",
    "        :rtype: Node\n",
    "        \"\"\"\n",
    "        N = len(grid)\n",
    "        if N == 1:\n",
    "            return Node(grid[0][0] == 1, True, None, None, None, None)\n",
    "        topLeftSum = sum([grid[i][j] for i in range(N/2) for j in range(N/2)])\n",
    "        topRightSum = sum([grid[i][j] for i in range(N/2) for j in range(N/2, N)])\n",
    "        bottomLeftSum = sum([grid[i][j] for i in range(N/2, N) for j in range(N/2)])\n",
    "        bottomRightSum = sum(grid[i][j] for i in range(N/2, N) for j in range(N/2, N))\n",
    "        node = Node(False, False, None, None, None, None)\n",
    "        if topLeftSum == topRightSum == bottomLeftSum == bottomRightSum:\n",
    "            if topLeftSum == 0:\n",
    "                node.isLeaf = True\n",
    "                node.val = False\n",
    "            elif topLeftSum == (N / 2) ** 2:\n",
    "                node.isLeaf = True\n",
    "                node.val = True\n",
    "        if node.isLeaf:\n",
    "            return node\n",
    "        node.val = True\n",
    "        node.topLeft = self.construct([[grid[i][j] for j in range(N/2)] for i in range(N/2)])\n",
    "        node.topRight = self.construct([[grid[i][j] for j in range(N/2, N)] for i in range(N/2)])\n",
    "        node.bottomLeft = self.construct([[grid[i][j] for j in range(N/2)] for i in range(N/2, N)])\n",
    "        node.bottomRight = self.construct([[grid[i][j] for j in range(N/2, N)] for i in range(N/2, N)])\n",
    "        return node\n"
   ]
  }
 ],
 "metadata": {
  "kernelspec": {
   "display_name": "Python 3",
   "language": "python",
   "name": "python3"
  },
  "language_info": {
   "codemirror_mode": {
    "name": "ipython",
    "version": 3
   },
   "file_extension": ".py",
   "mimetype": "text/x-python",
   "name": "python",
   "nbconvert_exporter": "python",
   "pygments_lexer": "ipython3",
   "version": "3.7.0"
  }
 },
 "nbformat": 4,
 "nbformat_minor": 2
}
