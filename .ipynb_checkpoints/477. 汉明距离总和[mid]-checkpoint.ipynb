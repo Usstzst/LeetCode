{
 "cells": [
  {
   "cell_type": "markdown",
   "metadata": {},
   "source": [
    "# 题目原意\n"
   ]
  },
  {
   "cell_type": "raw",
   "metadata": {},
   "source": [
    "两个整数的 汉明距离 指的是这两个数字的二进制数对应位不同的数量。\n",
    "\n",
    "计算一个数组中，任意两个数之间汉明距离的总和。\n",
    "\n"
   ]
  },
  {
   "cell_type": "raw",
   "metadata": {},
   "source": [
    "示例:\n",
    "输入: 4, 14, 2\n",
    "输出: 6\n",
    "\n",
    "解释: 在二进制表示中，4表示为0100，14表示为1110，2表示为0010。（这样表示是为了体现后四位之间关系）\n",
    "所以答案为：\n",
    "HammingDistance(4, 14) + HammingDistance(4, 2) + HammingDistance(14, 2) = 2 + 2 + 2 = 6."
   ]
  },
  {
   "cell_type": "markdown",
   "metadata": {},
   "source": [
    "## 思路一"
   ]
  },
  {
   "cell_type": "raw",
   "metadata": {},
   "source": [
    "按位统计各整数的二进制0与1的个数之和，分别记为zero[i], 和one[i]\n",
    "\n",
    "ans = ∑(zero[i] * one[i]),  i∈[0, 31]"
   ]
  },
  {
   "cell_type": "code",
   "execution_count": 2,
   "metadata": {},
   "outputs": [],
   "source": [
    "class Solution(object):\n",
    "    def totalHammingDistance(self, nums):\n",
    "        \"\"\"\n",
    "        :type nums: List[int]\n",
    "        :rtype: int\n",
    "        \"\"\"\n",
    "        ans = 0\n",
    "        for x in range(32):\n",
    "            mask = 1<<x\n",
    "            zero = one = 0\n",
    "            for num in nums:\n",
    "                if num & mask:\n",
    "                    one += 1\n",
    "                else:\n",
    "                    zero += 1\n",
    "            ans += zero * one\n",
    "        return ans\n",
    "        \n",
    "   "
   ]
  }
 ],
 "metadata": {
  "kernelspec": {
   "display_name": "Python 3",
   "language": "python",
   "name": "python3"
  },
  "language_info": {
   "codemirror_mode": {
    "name": "ipython",
    "version": 3
   },
   "file_extension": ".py",
   "mimetype": "text/x-python",
   "name": "python",
   "nbconvert_exporter": "python",
   "pygments_lexer": "ipython3",
   "version": "3.6.5"
  }
 },
 "nbformat": 4,
 "nbformat_minor": 2
}
