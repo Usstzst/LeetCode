{
 "cells": [
  {
   "cell_type": "markdown",
   "metadata": {},
   "source": [
    "# 题目原意"
   ]
  },
  {
   "cell_type": "raw",
   "metadata": {},
   "source": [
    "二进制手表顶部有 4 个 LED 代表小时（0-11），底部的 6 个 LED 代表分钟（0-59）。\n",
    "\n",
    "每个 LED 代表一个 0 或 1，最低位在右侧。"
   ]
  },
  {
   "cell_type": "raw",
   "metadata": {},
   "source": [
    "案例:\n",
    "输入: n = 1\n",
    "返回: [\"1:00\", \"2:00\", \"4:00\", \"8:00\", \"0:01\", \"0:02\", \"0:04\", \"0:08\", \"0:16\", \"0:32\"]"
   ]
  },
  {
   "cell_type": "markdown",
   "metadata": {},
   "source": [
    "## 思路一："
   ]
  },
  {
   "cell_type": "raw",
   "metadata": {},
   "source": [
    "枚举小时h和分钟m，然后判断二进制1的个数是否等于num"
   ]
  },
  {
   "cell_type": "code",
   "execution_count": 1,
   "metadata": {},
   "outputs": [],
   "source": [
    "class Solution(object):\n",
    "    def readBinaryWatch(self, num):\n",
    "        \"\"\"\n",
    "        :type num: int\n",
    "        :rtype: List[str]\n",
    "        \"\"\"\n",
    "        res = []\n",
    "        for h in range(12):\n",
    "            for m in range(60):\n",
    "                if (bin(h)+bin(m)).count('1')== num:\n",
    "                    res.append('%d:%02d'%(h, m))\n",
    "        return res\n",
    "        \n"
   ]
  },
  {
   "cell_type": "markdown",
   "metadata": {},
   "source": [
    "## 思路二：DFS"
   ]
  },
  {
   "cell_type": "raw",
   "metadata": {},
   "source": [
    "太过复杂，推荐思路一"
   ]
  },
  {
   "cell_type": "code",
   "execution_count": 2,
   "metadata": {},
   "outputs": [],
   "source": [
    "from itertools import combinations\n",
    "class Solution(object):\n",
    "    def readBinaryWatch(self, num):\n",
    "        \"\"\"\n",
    "        :type num: int\n",
    "        :rtype: List[str]\n",
    "        \"\"\"\n",
    "\n",
    "        res = []\n",
    "        self.dfs(num, 0, res)\n",
    "        return res\n",
    "        \n",
    "    def dfs(self, num, hours, res):\n",
    "        if hours > num : return\n",
    "        for hour in combinations([1, 2, 4, 8], hours):\n",
    "            hs = sum(hour)\n",
    "            if hs >= 12 : continue\n",
    "            for minu in combinations([1, 2, 4, 8, 16, 32], num - hours):\n",
    "                mins = sum(minu)\n",
    "                if mins >= 60 : continue\n",
    "                res.append(\"%d:%02d\" % (hs, mins))\n",
    "        self.dfs(num, hours + 1, res)"
   ]
  }
 ],
 "metadata": {
  "kernelspec": {
   "display_name": "Python 3",
   "language": "python",
   "name": "python3"
  },
  "language_info": {
   "codemirror_mode": {
    "name": "ipython",
    "version": 3
   },
   "file_extension": ".py",
   "mimetype": "text/x-python",
   "name": "python",
   "nbconvert_exporter": "python",
   "pygments_lexer": "ipython3",
   "version": "3.6.5"
  }
 },
 "nbformat": 4,
 "nbformat_minor": 2
}
