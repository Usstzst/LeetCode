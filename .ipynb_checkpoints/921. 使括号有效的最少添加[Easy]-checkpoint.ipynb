{
 "cells": [
  {
   "cell_type": "markdown",
   "metadata": {},
   "source": [
    "# 题目原意"
   ]
  },
  {
   "cell_type": "raw",
   "metadata": {},
   "source": [
    "给定一个由 '(' 和 ')' 括号组成的字符串 S，我们需要添加最少的括号（ '(' 或是 ')'，可以在任何位置），以使得到的括号字符串有效。\n",
    "\n",
    "从形式上讲，只有满足下面几点之一，括号字符串才是有效的：\n",
    "\n",
    "它是一个空字符串，或者\n",
    "它可以被写成 AB （A 与 B 连接）, 其中 A 和 B 都是有效字符串，或者\n",
    "它可以被写作 (A)，其中 A 是有效字符串。\n",
    "给定一个括号字符串，返回为使结果字符串有效而必须添加的最少括号数。"
   ]
  },
  {
   "cell_type": "raw",
   "metadata": {},
   "source": [
    "示例 1：\n",
    "输入：\"())\"\n",
    "输出：1\n",
    "\n",
    "示例 2：\n",
    "输入：\"(((\"\n",
    "输出：3\n",
    "\n",
    "示例 3：\n",
    "输入：\"()\"\n",
    "输出：0\n",
    "\n",
    "示例 4：\n",
    "输入：\"()))((\"\n",
    "输出：4"
   ]
  },
  {
   "cell_type": "markdown",
   "metadata": {},
   "source": [
    "## 思路一"
   ]
  },
  {
   "cell_type": "code",
   "execution_count": 1,
   "metadata": {},
   "outputs": [],
   "source": [
    "class Solution:\n",
    "    def minAddToMakeValid(self, S):\n",
    "        \n",
    "        stack = []\n",
    "        for s in S:\n",
    "            if len(stack)!= 0:\n",
    "                if s == ')' and stack[-1]=='(':\n",
    "                    stack.pop()\n",
    "                else:\n",
    "                    stack.append(s)\n",
    "            else:\n",
    "                stack.append(s)\n",
    "                \n",
    "        return len(stack)"
   ]
  }
 ],
 "metadata": {
  "kernelspec": {
   "display_name": "Python 3",
   "language": "python",
   "name": "python3"
  },
  "language_info": {
   "codemirror_mode": {
    "name": "ipython",
    "version": 3
   },
   "file_extension": ".py",
   "mimetype": "text/x-python",
   "name": "python",
   "nbconvert_exporter": "python",
   "pygments_lexer": "ipython3",
   "version": "3.7.0"
  }
 },
 "nbformat": 4,
 "nbformat_minor": 2
}
