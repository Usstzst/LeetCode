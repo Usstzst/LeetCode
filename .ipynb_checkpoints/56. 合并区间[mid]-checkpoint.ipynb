{
 "cells": [
  {
   "cell_type": "markdown",
   "metadata": {},
   "source": [
    "# 题目原意"
   ]
  },
  {
   "cell_type": "raw",
   "metadata": {},
   "source": [
    "给出一个区间的集合，请合并所有重叠的区间。\n"
   ]
  },
  {
   "cell_type": "raw",
   "metadata": {},
   "source": [
    "示例 1:\n",
    "输入: [[1,3],[2,6],[8,10],[15,18]]\n",
    "输出: [[1,6],[8,10],[15,18]]\n",
    "解释: 区间 [1,3] 和 [2,6] 重叠, 将它们合并为 [1,6].\n",
    "\n",
    "示例 2:\n",
    "输入: [[1,4],[4,5]]\n",
    "输出: [[1,5]]\n",
    "解释: 区间 [1,4] 和 [4,5] 可被视为重叠区间。"
   ]
  },
  {
   "cell_type": "markdown",
   "metadata": {},
   "source": [
    "## 思路一"
   ]
  },
  {
   "cell_type": "raw",
   "metadata": {},
   "source": [
    "思路： \n",
    "1.将intervals按每一个元素的start进行升序排列。 \n",
    "2.此时后一个值的start一定在前一个值的start后(或相等)。这个时候只要判断后一个的start是否比前一个的end大。这里我设置了两个指针l和h来表示区间的起始值和终点，列表res作为结果。判断： \n",
    "如果 intervals[i].start <= intervals[i-1].end, 那么l保持不变，h为max(intervals[i].end, intervals[i-1].end)。否则，往列表res添加[l,h]，更新l和h的值。接下来继续循环判断。 \n",
    "3.循环结束再往res添加[l,h]。\n",
    "\n"
   ]
  },
  {
   "cell_type": "code",
   "execution_count": 2,
   "metadata": {},
   "outputs": [],
   "source": [
    "# Definition for an interval.\n",
    "# class Interval:\n",
    "#     def __init__(self, s=0, e=0):\n",
    "#         self.start = s\n",
    "#         self.end = e\n",
    "\n",
    "class Solution:\n",
    "    def merge(self, intervals):\n",
    "        \"\"\"\n",
    "        :type intervals: List[Interval]\n",
    "        :rtype: List[Interval]\n",
    "        \"\"\"\n",
    "        if len(intervals)<=1:\n",
    "            return intervals\n",
    "        \n",
    "        res = []\n",
    "        intervals = sorted(intervals, key = lambda start: start.start)\n",
    "        l = intervals[0].start\n",
    "        h = intervals[0].end\n",
    "        for i in range(1, len(intervals)):\n",
    "            if intervals[i].start <= h:\n",
    "                h = max(h, intervals[i].end)\n",
    "            else:\n",
    "                res.append([l, h])\n",
    "                l = intervals[i].start\n",
    "                h = intervals[i].end\n",
    "        res.append([l, h])\n",
    "        return res\n",
    "        \n",
    "      "
   ]
  }
 ],
 "metadata": {
  "kernelspec": {
   "display_name": "Python 3",
   "language": "python",
   "name": "python3"
  },
  "language_info": {
   "codemirror_mode": {
    "name": "ipython",
    "version": 3
   },
   "file_extension": ".py",
   "mimetype": "text/x-python",
   "name": "python",
   "nbconvert_exporter": "python",
   "pygments_lexer": "ipython3",
   "version": "3.7.0"
  }
 },
 "nbformat": 4,
 "nbformat_minor": 2
}
