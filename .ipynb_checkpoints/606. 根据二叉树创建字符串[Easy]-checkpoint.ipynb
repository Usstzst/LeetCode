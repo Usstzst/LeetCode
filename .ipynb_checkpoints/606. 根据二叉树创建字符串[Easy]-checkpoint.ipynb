{
 "cells": [
  {
   "cell_type": "markdown",
   "metadata": {},
   "source": [
    "# 题目原意"
   ]
  },
  {
   "cell_type": "raw",
   "metadata": {},
   "source": [
    "你需要采用前序遍历的方式，将一个二叉树转换成一个由括号和整数组成的字符串。\n",
    "\n",
    "空节点则用一对空括号 \"()\" 表示。而且你需要省略所有不影响字符串与原始二叉树之间的一对一映射关系的空括号对。"
   ]
  },
  {
   "cell_type": "raw",
   "metadata": {},
   "source": [
    "Example 1:\n",
    "\n",
    "输入: 二叉树: [1,2,3,4]\n",
    "       1\n",
    "     /   \\\n",
    "    2     3\n",
    "   /    \n",
    "  4     \n",
    "\n",
    "输出: \"1(2(4))(3)\"\n",
    "\n",
    "解释: 原本将是“1(2(4)())(3())”，\n",
    "在你省略所有不必要的空括号对之后，\n",
    "它将是“1(2(4))(3)”。\n",
    "\n",
    "\n",
    "Example 2:\n",
    "输入: 二叉树: [1,2,3,null,4]\n",
    "       1\n",
    "     /   \\\n",
    "    2     3\n",
    "     \\  \n",
    "      4 \n",
    "\n",
    "输出: \"1(2()(4))(3)\"\n",
    "\n",
    "解释: 和第一个示例相似，\n",
    "除了我们不能省略第一个对括号来中断输入和输出之间的一对一映射关系。"
   ]
  },
  {
   "cell_type": "markdown",
   "metadata": {},
   "source": [
    "## 思路一：递归"
   ]
  },
  {
   "cell_type": "code",
   "execution_count": 1,
   "metadata": {},
   "outputs": [],
   "source": [
    "# Definition for a binary tree node.\n",
    "# class TreeNode(object):\n",
    "#     def __init__(self, x):\n",
    "#         self.val = x\n",
    "#         self.left = None\n",
    "#         self.right = None\n",
    "\n",
    "class Solution(object):\n",
    "    def tree2str(self, t):\n",
    "        \"\"\"\n",
    "        :type t: TreeNode\n",
    "        :rtype: str\n",
    "        \"\"\"\n",
    "        if not t: return ''\n",
    "        ans = str(t.val)\n",
    "        if t.left or t.right:\n",
    "            ans += '(' + self.tree2str(t.left) + ')'\n",
    "        if t.right: \n",
    "            ans += '(' + self.tree2str(t.right) + ')'\n",
    "        return ans\n",
    "\n",
    "        "
   ]
  }
 ],
 "metadata": {
  "kernelspec": {
   "display_name": "Python 3",
   "language": "python",
   "name": "python3"
  },
  "language_info": {
   "codemirror_mode": {
    "name": "ipython",
    "version": 3
   },
   "file_extension": ".py",
   "mimetype": "text/x-python",
   "name": "python",
   "nbconvert_exporter": "python",
   "pygments_lexer": "ipython3",
   "version": "3.7.0"
  }
 },
 "nbformat": 4,
 "nbformat_minor": 2
}
