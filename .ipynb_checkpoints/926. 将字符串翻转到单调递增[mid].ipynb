{
 "cells": [
  {
   "cell_type": "markdown",
   "metadata": {},
   "source": [
    "# 题目原意"
   ]
  },
  {
   "cell_type": "raw",
   "metadata": {},
   "source": [
    "如果一个由 '0' 和 '1' 组成的字符串，是以一些 '0'（可能没有 '0'）后面跟着一些 '1'（也可能没有 '1'）的形式组成的，那么该字符串是单调递增的。\n",
    "\n",
    "我们给出一个由字符 '0' 和 '1' 组成的字符串 S，我们可以将任何 '0' 翻转为 '1' 或者将 '1' 翻转为 '0'。\n",
    "\n",
    "返回使 S 单调递增的最小翻转次数。"
   ]
  },
  {
   "cell_type": "raw",
   "metadata": {},
   "source": [
    "示例 1：\n",
    "输入：\"00110\"\n",
    "输出：1\n",
    "解释：我们翻转最后一位得到 00111.\n",
    "\n",
    "示例 2：\n",
    "输入：\"010110\"\n",
    "输出：2\n",
    "解释：我们翻转得到 011111，或者是 000111。\n",
    "\n",
    "示例 3：\n",
    "输入：\"00011000\"\n",
    "输出：2\n",
    "解释：我们翻转得到 00000000。\n",
    " "
   ]
  },
  {
   "cell_type": "markdown",
   "metadata": {},
   "source": [
    "## 思路一： 动态规划"
   ]
  },
  {
   "cell_type": "code",
   "execution_count": 1,
   "metadata": {},
   "outputs": [],
   "source": [
    "class Solution(object):\n",
    "    def minFlipsMonoIncr(self, S):\n",
    "        \"\"\"\n",
    "        :type S: str\n",
    "        :rtype: int\n",
    "        \"\"\"\n",
    "        N = len(S)\n",
    "        dp = [0] * 2\n",
    "        for i in range(1, N + 1):\n",
    "            if S[i - 1] == '0':\n",
    "                dp[0] = dp[0]\n",
    "                dp[1] = min(dp[1], dp[0]) + 1\n",
    "            else:\n",
    "                dp[1] = min(dp[1], dp[0])\n",
    "                dp[0] = dp[0] + 1\n",
    "        return min(dp[0], dp[1])\n"
   ]
  }
 ],
 "metadata": {
  "kernelspec": {
   "display_name": "Python 3",
   "language": "python",
   "name": "python3"
  },
  "language_info": {
   "codemirror_mode": {
    "name": "ipython",
    "version": 3
   },
   "file_extension": ".py",
   "mimetype": "text/x-python",
   "name": "python",
   "nbconvert_exporter": "python",
   "pygments_lexer": "ipython3",
   "version": "3.6.5"
  }
 },
 "nbformat": 4,
 "nbformat_minor": 2
}
