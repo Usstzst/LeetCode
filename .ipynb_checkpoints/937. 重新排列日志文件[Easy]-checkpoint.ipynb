{
 "cells": [
  {
   "cell_type": "markdown",
   "metadata": {},
   "source": [
    "# 题目原意 "
   ]
  },
  {
   "cell_type": "raw",
   "metadata": {},
   "source": [
    "你有一个日志数组 logs。每条日志都是以空格分隔的字串。\n",
    "\n",
    "对于每条日志，其第一个字为字母数字标识符。然后，要么：\n",
    "\n",
    "标识符后面的每个字将仅由小写字母组成，或；\n",
    "标识符后面的每个字将仅由数字组成。\n",
    "我们将这两种日志分别称为字母日志和数字日志。保证每个日志在其标识符后面至少有一个字。\n",
    "\n",
    "将日志重新排序，使得所有字母日志都排在数字日志之前。字母日志按字母顺序排序，忽略标识符，标识符仅用于表示关系。数字日志应该按原来的顺序排列。\n",
    "\n",
    "返回日志的最终顺序。"
   ]
  },
  {
   "cell_type": "raw",
   "metadata": {},
   "source": [
    "输入：[\"a1 9 2 3 1\",\"g1 act car\",\"zo4 4 7\",\"ab1 off key dog\",\"a8 act zoo\"]\n",
    "输出：[\"g1 act car\",\"a8 act zoo\",\"ab1 off key dog\",\"a1 9 2 3 1\",\"zo4 4 7\"]"
   ]
  },
  {
   "cell_type": "markdown",
   "metadata": {},
   "source": [
    "## 思路一"
   ]
  },
  {
   "cell_type": "raw",
   "metadata": {},
   "source": [
    "首先想到的解法就是现将标识符后面是字母和数字的两种情况拆解开"
   ]
  },
  {
   "cell_type": "code",
   "execution_count": 2,
   "metadata": {},
   "outputs": [],
   "source": [
    "class Solution:\n",
    "    def reorderLogFiles(self, logs):\n",
    "        \"\"\"\n",
    "        :type logs: List[str]\n",
    "        :rtype: List[str]\n",
    "        \"\"\"\n",
    "        digit_logs, letter_logs = list(), list()\n",
    "        for log in logs:\n",
    "            tmp = log.split(' ')\n",
    "            if tmp[1].isdigit():\n",
    "                digit_logs.append(log)\n",
    "            else:\n",
    "                letter_logs.append(log)\n",
    "                \n",
    "        letter_logs.sort(key=lambda x: x.split(' ')[1:])\n",
    "        return letter_logs + digit_logs\n",
    "    \n"
   ]
  }
 ],
 "metadata": {
  "kernelspec": {
   "display_name": "Python 3",
   "language": "python",
   "name": "python3"
  },
  "language_info": {
   "codemirror_mode": {
    "name": "ipython",
    "version": 3
   },
   "file_extension": ".py",
   "mimetype": "text/x-python",
   "name": "python",
   "nbconvert_exporter": "python",
   "pygments_lexer": "ipython3",
   "version": "3.7.0"
  }
 },
 "nbformat": 4,
 "nbformat_minor": 2
}
