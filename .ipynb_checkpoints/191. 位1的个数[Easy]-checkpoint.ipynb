{
 "cells": [
  {
   "cell_type": "markdown",
   "metadata": {},
   "source": [
    "# 题目原意"
   ]
  },
  {
   "cell_type": "raw",
   "metadata": {},
   "source": [
    "编写一个函数，输入是一个无符号整数，返回其二进制表达式中数字位数为 ‘1’ 的个数（也被称为汉明重量）。"
   ]
  },
  {
   "cell_type": "raw",
   "metadata": {},
   "source": [
    "示例 1：\n",
    "输入：00000000000000000000000000001011\n",
    "输出：3\n",
    "解释：输入的二进制串 00000000000000000000000000001011 中，共有三位为 '1'。\n",
    "\n",
    "示例 2：\n",
    "输入：00000000000000000000000010000000\n",
    "输出：1\n",
    "解释：输入的二进制串 00000000000000000000000010000000 中，共有一位为 '1'。\n",
    "\n",
    "示例 3：\n",
    "输入：11111111111111111111111111111101\n",
    "输出：31\n",
    "解释：输入的二进制串 11111111111111111111111111111101 中，共有 31 位为 '1'。"
   ]
  },
  {
   "cell_type": "markdown",
   "metadata": {},
   "source": [
    "## 思路一"
   ]
  },
  {
   "cell_type": "code",
   "execution_count": 2,
   "metadata": {},
   "outputs": [],
   "source": [
    "class Solution(object):\n",
    "    def hammingWeight(self, n):\n",
    "        \"\"\"\n",
    "        :type n: int\n",
    "        :rtype: int\n",
    "        \"\"\"\n",
    "        # 十进制转换成二进制， 然后统计二进制中1的个数\n",
    "        # 注意 bin(n)得到的是字符串，前两位是‘0b’\n",
    "        \n",
    "        m = bin(n)[2:]\n",
    "        sum = 0\n",
    "        for i in rang(len(m)):\n",
    "            if m[i] == '1':\n",
    "                sum += 1\n",
    "        return sum\n"
   ]
  }
 ],
 "metadata": {
  "kernelspec": {
   "display_name": "Python 3",
   "language": "python",
   "name": "python3"
  },
  "language_info": {
   "codemirror_mode": {
    "name": "ipython",
    "version": 3
   },
   "file_extension": ".py",
   "mimetype": "text/x-python",
   "name": "python",
   "nbconvert_exporter": "python",
   "pygments_lexer": "ipython3",
   "version": "3.7.0"
  }
 },
 "nbformat": 4,
 "nbformat_minor": 2
}
