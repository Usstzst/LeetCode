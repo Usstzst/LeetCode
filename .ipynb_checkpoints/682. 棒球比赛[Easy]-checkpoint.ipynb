{
 "cells": [
  {
   "cell_type": "markdown",
   "metadata": {},
   "source": [
    "# 题目原意 "
   ]
  },
  {
   "cell_type": "raw",
   "metadata": {},
   "source": [
    "你现在是棒球比赛记录员。\n",
    "给定一个字符串列表，每个字符串可以是以下四种类型之一：\n",
    "1.整数（一轮的得分）：直接表示您在本轮中获得的积分数。\n",
    "2. \"+\"（一轮的得分）：表示本轮获得的得分是前两轮有效 回合得分的总和。\n",
    "3. \"D\"（一轮的得分）：表示本轮获得的得分是前一轮有效 回合得分的两倍。\n",
    "4. \"C\"（一个操作，这不是一个回合的分数）：表示您获得的最后一个有效 回合的分数是无效的，应该被移除。\n",
    "\n",
    "每一轮的操作都是永久性的，可能会对前一轮和后一轮产生影响。\n",
    "你需要返回你在所有回合中得分的总和。"
   ]
  },
  {
   "cell_type": "raw",
   "metadata": {},
   "source": [
    "Example 1:\n",
    "\n",
    "输入: [\"5\",\"2\",\"C\",\"D\",\"+\"]\n",
    "输出: 30\n",
    "解释: \n",
    "第1轮：你可以得到5分。总和是：5。\n",
    "第2轮：你可以得到2分。总和是：7。\n",
    "操作1：第2轮的数据无效。总和是：5。\n",
    "第3轮：你可以得到10分（第2轮的数据已被删除）。总数是：15。\n",
    "第4轮：你可以得到5 + 10 = 15分。总数是：30。\n",
    "\n",
    "\n",
    "Example 2:\n",
    "输入: [\"5\",\"-2\",\"4\",\"C\",\"D\",\"9\",\"+\",\"+\"]\n",
    "输出: 27\n",
    "解释: \n",
    "第1轮：你可以得到5分。总和是：5。\n",
    "第2轮：你可以得到-2分。总数是：3。\n",
    "第3轮：你可以得到4分。总和是：7。\n",
    "操作1：第3轮的数据无效。总数是：3。\n",
    "第4轮：你可以得到-4分（第三轮的数据已被删除）。总和是：-1。\n",
    "第5轮：你可以得到9分。总数是：8。\n",
    "第6轮：你可以得到-4 + 9 = 5分。总数是13。\n",
    "第7轮：你可以得到9 + 5 = 14分。总数是27。"
   ]
  },
  {
   "cell_type": "markdown",
   "metadata": {},
   "source": [
    "## 思路一： 栈"
   ]
  },
  {
   "cell_type": "raw",
   "metadata": {},
   "source": [
    "只需要判断本局的操作，然后对应的移除栈顶、栈顶翻倍、栈顶求和、数字进栈等等。最后对栈的所有元素进行求和。"
   ]
  },
  {
   "cell_type": "code",
   "execution_count": 2,
   "metadata": {},
   "outputs": [],
   "source": [
    "class Solution(object):\n",
    "    def calPoints(self, ops):\n",
    "        \"\"\"\n",
    "        :type ops: List[str]\n",
    "        :rtype: int\n",
    "        \"\"\"\n",
    "        ans = []\n",
    "        for op in ops:\n",
    "            if op == 'C':\n",
    "                ans.pop()\n",
    "            elif op == 'D':\n",
    "                ans.append(ans[-1]*2)\n",
    "            elif op == '+':\n",
    "                ans.append(ans[-1]+ans[-2])\n",
    "            else:\n",
    "                ans.append(int(op))\n",
    "        return sum(ans)\n",
    "                        "
   ]
  }
 ],
 "metadata": {
  "kernelspec": {
   "display_name": "Python 3",
   "language": "python",
   "name": "python3"
  },
  "language_info": {
   "codemirror_mode": {
    "name": "ipython",
    "version": 3
   },
   "file_extension": ".py",
   "mimetype": "text/x-python",
   "name": "python",
   "nbconvert_exporter": "python",
   "pygments_lexer": "ipython3",
   "version": "3.7.0"
  }
 },
 "nbformat": 4,
 "nbformat_minor": 2
}
