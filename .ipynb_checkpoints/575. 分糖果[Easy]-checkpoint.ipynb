{
 "cells": [
  {
   "cell_type": "markdown",
   "metadata": {},
   "source": [
    "# 题目原意"
   ]
  },
  {
   "cell_type": "raw",
   "metadata": {},
   "source": [
    "给定一个偶数长度的数组，其中不同的数字代表着不同种类的糖果，每一个数字代表一个糖果。你需要把这些糖果平均分给一个弟弟和一个妹妹。返回妹妹可以获得的最大糖果的种类数。"
   ]
  },
  {
   "cell_type": "raw",
   "metadata": {},
   "source": [
    "Example 1：\n",
    "输入: candies = [1,1,2,2,3,3]\n",
    "输出: 3\n",
    "解析: 一共有三种种类的糖果，每一种都有两个。\n",
    "     最优分配方案：妹妹获得[1,2,3],弟弟也获得[1,2,3]。这样使妹妹获得糖果的种类数最多。\n",
    "     \n",
    "\n",
    "Example 2:\n",
    "输入: candies = [1,1,2,3]\n",
    "输出: 2\n",
    "解析: 妹妹获得糖果[2,3],弟弟获得糖果[1,1]，妹妹有两种不同的糖果，弟弟只有一种。这样使得妹妹可以获得的糖果种类数最多。"
   ]
  },
  {
   "cell_type": "markdown",
   "metadata": {},
   "source": [
    "## 思路一"
   ]
  },
  {
   "cell_type": "raw",
   "metadata": {},
   "source": [
    "这题换一个表达方式就是：一个数组，划分为元素个数相等的两份，使得其中一份中元素的值尽可能不相同。\n",
    "\n",
    "这里一个关键点在于“不同值的个数”和“子数组长度”的关系。例如[1, 2, 3, 4]的“不同值的个数”是4，“子数组长度”是2，很显然无论如何划分都是最优解（如[1, 2]），即2；再例如[1, 1, 2, 2, 2, 2]的“不同值的个数”是2，“子数组长度”是3，最优的划分是[1, 1, 2]或[1, 2, 2]，即2。\n",
    "\n",
    "这样答案就呼之欲出了：“不同值的个数” > “子数组长度” ? “子数组长度” : “不同值的个数”。"
   ]
  },
  {
   "cell_type": "code",
   "execution_count": 2,
   "metadata": {},
   "outputs": [],
   "source": [
    "class Solution:\n",
    "    def distributeCandies(self, candies):\n",
    "        \"\"\"\n",
    "        :type candies: List[int]\n",
    "        :rtype: int\n",
    "        \"\"\"\n",
    "        nums = len(set(candies))\n",
    "        target_num = len(candies) //2\n",
    "        return min(target_num, nums)\n"
   ]
  },
  {
   "cell_type": "code",
   "execution_count": 3,
   "metadata": {},
   "outputs": [],
   "source": [
    "class Solution:\n",
    "    def distributeCandies(self, candies):\n",
    "        \"\"\"\n",
    "        :type candies: List[int]\n",
    "        :rtype: int\n",
    "        \"\"\"\n",
    "        return min(len(set(candies)), len(candies) // 2)"
   ]
  }
 ],
 "metadata": {
  "kernelspec": {
   "display_name": "Python 3",
   "language": "python",
   "name": "python3"
  },
  "language_info": {
   "codemirror_mode": {
    "name": "ipython",
    "version": 3
   },
   "file_extension": ".py",
   "mimetype": "text/x-python",
   "name": "python",
   "nbconvert_exporter": "python",
   "pygments_lexer": "ipython3",
   "version": "3.7.0"
  }
 },
 "nbformat": 4,
 "nbformat_minor": 2
}
