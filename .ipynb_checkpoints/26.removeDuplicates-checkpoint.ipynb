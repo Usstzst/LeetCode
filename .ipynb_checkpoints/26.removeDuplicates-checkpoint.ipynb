{
 "cells": [
  {
   "cell_type": "markdown",
   "metadata": {},
   "source": [
    "# 26. Remove Duplicates from Sorted Array"
   ]
  },
  {
   "cell_type": "markdown",
   "metadata": {},
   "source": [
    "## Question "
   ]
  },
  {
   "cell_type": "markdown",
   "metadata": {},
   "source": [
    "Given a sorted array nums, remove the duplicates in-place such that each element appear only once and return the new length.\n",
    "\n",
    "Do not allocate extra space for another array, you must do this by modifying the input array in-place with O(1) extra memory."
   ]
  },
  {
   "cell_type": "markdown",
   "metadata": {},
   "source": [
    "### Example 1:"
   ]
  },
  {
   "cell_type": "markdown",
   "metadata": {},
   "source": [
    "Given nums = [1,1,2],\n",
    "\n",
    "Your function should return length = 2, with the first two elements of nums being 1 and 2 respectively.\n",
    "\n",
    "It doesn't matter what you leave beyond the returned length."
   ]
  },
  {
   "cell_type": "markdown",
   "metadata": {},
   "source": [
    "### Example 2:"
   ]
  },
  {
   "cell_type": "markdown",
   "metadata": {},
   "source": [
    "Given nums = [0,0,1,1,1,2,2,3,3,4]\n",
    "\n",
    "Your function should return length = 5, with the first five elements of nums being modified to 0, 1, 2, 3, and 4 respectively.\n",
    "\n",
    "It doesn't matter what values are set beyond the returned length."
   ]
  },
  {
   "cell_type": "markdown",
   "metadata": {},
   "source": [
    "### Clarification:\n",
    "\n",
    "Confused why the returned value is an integer but your answer is an array?\n",
    "\n",
    "Note that the input array is passed in by reference, which means modification to the input array will be known to the caller as well.\n"
   ]
  },
  {
   "cell_type": "markdown",
   "metadata": {},
   "source": [
    "## Solution1:\n",
    "\n",
    "用空列表a 来存放 nums 中的无重复项。 该解法简便，但不符合题意：在原地删除重复出现的元素， 该方法仅供参考。"
   ]
  },
  {
   "cell_type": "code",
   "execution_count": 1,
   "metadata": {},
   "outputs": [
    {
     "data": {
      "text/plain": [
       "[0, 1, 2]"
      ]
     },
     "execution_count": 1,
     "metadata": {},
     "output_type": "execute_result"
    }
   ],
   "source": [
    "class Solution:\n",
    "    def removeDuplicates(self, nums):\n",
    "        \"\"\"\n",
    "        :type nums: List[int]\n",
    "        :rtype: int\n",
    "        \"\"\"\n",
    "        a = []\n",
    "        for i in nums:\n",
    "            if i in a:\n",
    "                continue\n",
    "            else:\n",
    "                a.append(i)\n",
    "        return a\n",
    "        \n",
    "        \n",
    "s = Solution()\n",
    "s.removeDuplicates([0,1,1,2])\n",
    "    "
   ]
  },
  {
   "cell_type": "markdown",
   "metadata": {},
   "source": [
    "## Solution2:"
   ]
  },
  {
   "cell_type": "markdown",
   "metadata": {},
   "source": [
    "##### 双指针法\n",
    "\n",
    "数组完成排序后， 我们可以放置两个指针i 和 j , 其中i 是慢指针， j 是快指针。 只要 nums[i] = nums[j], 我们就增加 j 以跳过重复项。\n",
    "\n",
    "当 nums[i]!= nums[j]时， 跳过重复项的运行已经结束， 因此我们必须把nums[j] 的值复制到 nums[i+1] 然后递增 i ， 接着我们将再次重复相同的过程， 知道 j 到达数组的末尾为止。\n",
    "\n"
   ]
  },
  {
   "cell_type": "code",
   "execution_count": 2,
   "metadata": {},
   "outputs": [
    {
     "data": {
      "text/plain": [
       "[0, 1, 2]"
      ]
     },
     "execution_count": 2,
     "metadata": {},
     "output_type": "execute_result"
    }
   ],
   "source": [
    "class Solution:\n",
    "    def removeDuplicates(self, nums):\n",
    "        # write your code here\n",
    "        k=0\n",
    "        for i in range(1,len(nums)):\n",
    "            if nums[i] != nums[k]:\n",
    "                k+=1\n",
    "                nums[k] = nums[i]\n",
    "        \n",
    "        del nums[k+1:len(nums)]\n",
    "        return nums\n",
    "    \n",
    "s = Solution()\n",
    "s.removeDuplicates([0,1,1,2])"
   ]
  }
 ],
 "metadata": {
  "kernelspec": {
   "display_name": "Python 3",
   "language": "python",
   "name": "python3"
  },
  "language_info": {
   "codemirror_mode": {
    "name": "ipython",
    "version": 3
   },
   "file_extension": ".py",
   "mimetype": "text/x-python",
   "name": "python",
   "nbconvert_exporter": "python",
   "pygments_lexer": "ipython3",
   "version": "3.7.0"
  }
 },
 "nbformat": 4,
 "nbformat_minor": 2
}
