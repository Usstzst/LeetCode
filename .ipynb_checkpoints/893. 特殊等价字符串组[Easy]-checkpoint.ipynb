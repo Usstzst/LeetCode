{
 "cells": [
  {
   "cell_type": "markdown",
   "metadata": {},
   "source": [
    "# 题目原意"
   ]
  },
  {
   "cell_type": "raw",
   "metadata": {},
   "source": [
    "你将得到一个字符串数组 A。\n",
    "\n",
    "如果经过任意次数的移动，S == T，那么两个字符串 S 和 T 是特殊等价的。\n",
    "\n",
    " \n",
    "\n",
    "一次移动包括选择两个索引 i 和 j，且 i％2 == j％2，并且交换 S[j] 和 S [i]。\n",
    "\n",
    "现在规定，A 中的特殊等价字符串组是 A 的非空子集 S，这样不在 S 中的任何字符串与 S 中的任何字符串都不是特殊等价的。\n",
    "\n",
    " \n",
    "\n",
    "返回 A 中特殊等价字符串组的数量。"
   ]
  },
  {
   "cell_type": "raw",
   "metadata": {},
   "source": [
    "Example 1:\n",
    "输入：[\"a\",\"b\",\"c\",\"a\",\"c\",\"c\"]\n",
    "输出：3\n",
    "解释：3 组 [\"a\",\"a\"]，[\"b\"]，[\"c\",\"c\",\"c\"]\n",
    "\n",
    "Example 2:\n",
    "输入：[\"aa\",\"bb\",\"ab\",\"ba\"]\n",
    "输出：4\n",
    "解释：4 组 [\"aa\"]，[\"bb\"]，[\"ab\"]，[\"ba\"]\n",
    "\n",
    "Example 3:\n",
    "输入：[\"abc\",\"acb\",\"bac\",\"bca\",\"cab\",\"cba\"]\n",
    "输出：3\n",
    "解释：3 组 [\"abc\",\"cba\"]，[\"acb\",\"bca\"]，[\"bac\",\"cab\"]\n"
   ]
  },
  {
   "cell_type": "markdown",
   "metadata": {},
   "source": [
    "## 思路一"
   ]
  },
  {
   "cell_type": "raw",
   "metadata": {},
   "source": [
    "把这个数组中所有的奇数位置和偶数位置的字符分别取出来，进行排序再合并。把合并之后的结果放入到一个set里，然后统计set中字符串的个数也就是题目中要求的组数。"
   ]
  },
  {
   "cell_type": "code",
   "execution_count": 1,
   "metadata": {},
   "outputs": [],
   "source": [
    "class Solution(object):\n",
    "    def numSpecialEquivGroups(self, A):\n",
    "        \"\"\"\n",
    "        :type A: List[str]\n",
    "        :rtype: int\n",
    "        \"\"\"\n",
    "        B = set()\n",
    "        for a in A:\n",
    "            B.add(''.join(sorted(a[0::2])) + ''.join(sorted(a[1::2])))\n",
    "        return len(B)\n"
   ]
  }
 ],
 "metadata": {
  "kernelspec": {
   "display_name": "Python 3",
   "language": "python",
   "name": "python3"
  },
  "language_info": {
   "codemirror_mode": {
    "name": "ipython",
    "version": 3
   },
   "file_extension": ".py",
   "mimetype": "text/x-python",
   "name": "python",
   "nbconvert_exporter": "python",
   "pygments_lexer": "ipython3",
   "version": "3.7.0"
  }
 },
 "nbformat": 4,
 "nbformat_minor": 2
}
