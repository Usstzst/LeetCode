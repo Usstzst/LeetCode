{
 "cells": [
  {
   "cell_type": "markdown",
   "metadata": {},
   "source": [
    "# 题目原意"
   ]
  },
  {
   "cell_type": "raw",
   "metadata": {},
   "source": [
    "字符串S和 T 只包含小写字符。在S中，所有字符只会出现一次。\n",
    "S 已经根据某种规则进行了排序。我们要根据S中的字符顺序对T进行排序。更具体地说，如果S中x在y之前出现，那么返回的字符串中x也应出现在y之前。\n",
    "\n",
    "返回任意一种符合条件的字符串T。"
   ]
  },
  {
   "cell_type": "raw",
   "metadata": {},
   "source": [
    "示例:\n",
    "输入:\n",
    "S = \"cba\"\n",
    "T = \"abcd\"\n",
    "输出: \"cbad\"\n",
    "解释: \n",
    "S中出现了字符 \"a\", \"b\", \"c\", 所以 \"a\", \"b\", \"c\" 的顺序应该是 \"c\", \"b\", \"a\". \n",
    "由于 \"d\" 没有在S中出现, 它可以放在T的任意位置. \"dcba\", \"cdba\", \"cbda\" 都是合法的输出。\n",
    "\n",
    "注意:\n",
    "S的最大长度为26，其中没有重复的字符。\n",
    "T的最大长度为200。\n",
    "S和T只包含小写字符。"
   ]
  },
  {
   "cell_type": "markdown",
   "metadata": {},
   "source": [
    "## 思路一"
   ]
  },
  {
   "cell_type": "raw",
   "metadata": {},
   "source": [
    "使用字典保存T中的每个字母出现的次数，然后遍历S中的每个字符，查表构建新的结果字符串，并且把已经遍历了的字符的次数设为0。最后把count中剩余的字符放到最后。\n",
    "\n",
    "这里用到了一个技巧，Counter中使用不存在的索引会返回0."
   ]
  },
  {
   "cell_type": "code",
   "execution_count": 2,
   "metadata": {},
   "outputs": [],
   "source": [
    "from collections import Counter\n",
    "class Solution(object):\n",
    "    def customSortString(self, S, T):\n",
    "        \"\"\"\n",
    "        :type S: str\n",
    "        :type T: str\n",
    "        :rtype: str\n",
    "        \"\"\"\n",
    "        count = Counter(T)\n",
    "        answer = ''\n",
    "        for s in S:\n",
    "            answer += s*count[s]\n",
    "            count[s] = 0\n",
    "        for c in count:\n",
    "            answer += c*count[c]\n",
    "        return answer\n",
    "\n"
   ]
  }
 ],
 "metadata": {
  "kernelspec": {
   "display_name": "Python 3",
   "language": "python",
   "name": "python3"
  },
  "language_info": {
   "codemirror_mode": {
    "name": "ipython",
    "version": 3
   },
   "file_extension": ".py",
   "mimetype": "text/x-python",
   "name": "python",
   "nbconvert_exporter": "python",
   "pygments_lexer": "ipython3",
   "version": "3.6.5"
  }
 },
 "nbformat": 4,
 "nbformat_minor": 2
}
