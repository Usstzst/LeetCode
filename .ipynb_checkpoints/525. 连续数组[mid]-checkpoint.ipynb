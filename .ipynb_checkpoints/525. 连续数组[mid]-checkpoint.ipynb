{
 "cells": [
  {
   "cell_type": "markdown",
   "metadata": {},
   "source": [
    "# 题目原意"
   ]
  },
  {
   "cell_type": "raw",
   "metadata": {},
   "source": [
    "给定一个二进制数组, 找到含有相同数量的 0 和 1 的最长连续子数组（的长度）。\n",
    "\n",
    " \n",
    "\n",
    "示例 1:\n",
    "输入: [0,1]\n",
    "输出: 2\n",
    "说明: [0, 1] 是具有相同数量0和1的最长连续子数组。\n",
    "\n",
    "示例 2:\n",
    "输入: [0,1,0]\n",
    "输出: 2\n",
    "说明: [0, 1] (或 [1, 0]) 是具有相同数量0和1的最长连续子数组。\n",
    " \n",
    "\n",
    "注意: 给定的二进制数组的长度不会超过50000。"
   ]
  },
  {
   "cell_type": "markdown",
   "metadata": {},
   "source": [
    "## 思路一"
   ]
  },
  {
   "cell_type": "raw",
   "metadata": {},
   "source": [
    "使用的方法是求和+hashmap的方法，首先从头开始遍历，如果当前值是0就sum-1，否则就sum+1.这样如果得到了一个sum就知道在此之前出现了1的个数和0的个数的差值。因此，当后面该sum再次出现的时候，我们就知道了这个差值再次出现，也就是说，从第一次这个差值出现和第二次这个差值出现之间0和1的个数是一样多的。\n",
    "\n",
    "因此我们需要一个map来保存0和1的差值。如果这个差值没出现过就给它赋值为它出现的索引。我们要求的就是当同样的差值出现的时候，两者之间的最大值。另外注意，当这个差值再次出现的时候不要更新map。即我们的策略是只保存这个差值出现的第一个位置，只有这样我们才知道最长的连续子数组是多少。\n"
   ]
  },
  {
   "cell_type": "code",
   "execution_count": 1,
   "metadata": {},
   "outputs": [],
   "source": [
    "class Solution:\n",
    "    def findMaxLength(self, nums):\n",
    "        \"\"\"\n",
    "        :type nums: List[int]\n",
    "        :rtype: int\n",
    "        \"\"\"\n",
    "        \n",
    "        total_sum = 0\n",
    "        index_map = dict()\n",
    "        index_map[0] = -1\n",
    "        res = 0\n",
    "        for i, num in enumerate(nums):\n",
    "            if num == 0:\n",
    "                total_sum -= 1\n",
    "            else:\n",
    "                total_sum += 1\n",
    "            if total_sum in index_map:\n",
    "                res = max(res, i - index_map[total_sum])\n",
    "            else:\n",
    "                index_map[total_sum] = i\n",
    "        return res\n",
    "       "
   ]
  }
 ],
 "metadata": {
  "kernelspec": {
   "display_name": "Python 3",
   "language": "python",
   "name": "python3"
  },
  "language_info": {
   "codemirror_mode": {
    "name": "ipython",
    "version": 3
   },
   "file_extension": ".py",
   "mimetype": "text/x-python",
   "name": "python",
   "nbconvert_exporter": "python",
   "pygments_lexer": "ipython3",
   "version": "3.6.5"
  }
 },
 "nbformat": 4,
 "nbformat_minor": 2
}
