{
 "cells": [
  {
   "cell_type": "markdown",
   "metadata": {},
   "source": [
    "# 题目原意"
   ]
  },
  {
   "cell_type": "raw",
   "metadata": {},
   "source": [
    "给定一副牌，每张牌上都写着一个整数。\n",
    "\n",
    "此时，你需要选定一个数字 X，使我们可以将整副牌按下述规则分成 1 组或更多组：\n",
    "\n",
    "每组都有 X 张牌。\n",
    "组内所有的牌上都写着相同的整数。\n",
    "仅当你可选的 X >= 2 时返回 true。\n",
    " "
   ]
  },
  {
   "cell_type": "raw",
   "metadata": {},
   "source": [
    "示例 1：\n",
    "输入：[1,2,3,4,4,3,2,1]\n",
    "输出：true\n",
    "解释：可行的分组是 [1,1]，[2,2]，[3,3]，[4,4]\n",
    "\n",
    "示例 2：\n",
    "输入：[1,1,1,2,2,2,3,3]\n",
    "输出：false\n",
    "解释：没有满足要求的分组。\n",
    "\n",
    "示例 3：\n",
    "输入：[1]\n",
    "输出：false\n",
    "解释：没有满足要求的分组。\n",
    "\n",
    "示例 4：\n",
    "输入：[1,1]\n",
    "输出：true\n",
    "解释：可行的分组是 [1,1]\n",
    "\n",
    "示例 5：\n",
    "输入：[1,1,2,2,2,2]\n",
    "输出：true\n",
    "解释：可行的分组是 [1,1]，[2,2]，[2,2]\n",
    "\n",
    "提示：\n",
    "1 <= deck.length <= 10000\n",
    "0 <= deck[i] < 10000"
   ]
  },
  {
   "cell_type": "markdown",
   "metadata": {},
   "source": [
    "## 思路一"
   ]
  },
  {
   "cell_type": "raw",
   "metadata": {},
   "source": [
    "判断一堆牌能不能分成很多组，每个组是相同的元素，并且每个组最少两张牌。\n",
    "\n",
    "解题方法：每个组最多多少张牌，就是所有牌的个数中最小的那个值。然后考虑能不能均匀分组的问题。"
   ]
  },
  {
   "cell_type": "code",
   "execution_count": 1,
   "metadata": {},
   "outputs": [],
   "source": [
    "class Solution(object):\n",
    "    def hasGroupsSizeX(self, deck):\n",
    "        \"\"\"\n",
    "        :type deck: List[int]\n",
    "        :rtype: bool\n",
    "        \"\"\"\n",
    "        count = collections.Counter(deck)\n",
    "        X = min(count.values())\n",
    "        for x in range(2, X + 1):\n",
    "            if all(v % x == 0 for v in count.values()):\n",
    "                return True\n",
    "        return False\n"
   ]
  }
 ],
 "metadata": {
  "kernelspec": {
   "display_name": "Python 3",
   "language": "python",
   "name": "python3"
  },
  "language_info": {
   "codemirror_mode": {
    "name": "ipython",
    "version": 3
   },
   "file_extension": ".py",
   "mimetype": "text/x-python",
   "name": "python",
   "nbconvert_exporter": "python",
   "pygments_lexer": "ipython3",
   "version": "3.6.5"
  }
 },
 "nbformat": 4,
 "nbformat_minor": 2
}
