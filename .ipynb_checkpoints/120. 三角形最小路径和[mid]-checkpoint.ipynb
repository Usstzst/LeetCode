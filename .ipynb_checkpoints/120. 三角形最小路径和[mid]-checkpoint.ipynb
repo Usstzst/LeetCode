{
 "cells": [
  {
   "cell_type": "markdown",
   "metadata": {},
   "source": [
    "# 题目原意"
   ]
  },
  {
   "cell_type": "raw",
   "metadata": {},
   "source": [
    "给定一个三角形，找出自顶向下的最小路径和。每一步只能移动到下一行中相邻的结点上。\n"
   ]
  },
  {
   "cell_type": "raw",
   "metadata": {},
   "source": [
    "例如，给定三角形：\n",
    "\n",
    "[\n",
    "     [2],\n",
    "    [3,4],\n",
    "   [6,5,7],\n",
    "  [4,1,8,3]\n",
    "]\n",
    "自顶向下的最小路径和为 11（即，2 + 3 + 5 + 1 = 11）。\n"
   ]
  },
  {
   "cell_type": "markdown",
   "metadata": {},
   "source": [
    "## 思路一"
   ]
  },
  {
   "cell_type": "raw",
   "metadata": {},
   "source": [
    "从顶向下的DP会导致元素越来越多，因此不是很方便，借鉴大神从下向上的DP， 很厉害。\n",
    "\n",
    "代码里需要注意的是dp的初始化应该是最下面一层，然后从倒数第二层开始遍历；第layer的元素是layer + 1个。\n",
    "\n",
    "时间复杂度为O(n^2)，空间复杂度O(n)。n为三角形高度。"
   ]
  },
  {
   "cell_type": "code",
   "execution_count": 1,
   "metadata": {},
   "outputs": [],
   "source": [
    "class Solution(object):\n",
    "    def minimumTotal(self, triangle):\n",
    "        \"\"\"\n",
    "        :type triangle: List[List[int]]\n",
    "        :rtype: int\n",
    "        \"\"\"\n",
    "        n = len(triangle)\n",
    "        dp = triangle[-1]\n",
    "        for layer in range(n-2, -1, -1):\n",
    "            for i in range(layer+1):\n",
    "                dp[i] = min(dp[i], dp[i+1]) + triangle[layer][i]\n",
    "        return dp[0]\n",
    "        "
   ]
  }
 ],
 "metadata": {
  "kernelspec": {
   "display_name": "Python 3",
   "language": "python",
   "name": "python3"
  },
  "language_info": {
   "codemirror_mode": {
    "name": "ipython",
    "version": 3
   },
   "file_extension": ".py",
   "mimetype": "text/x-python",
   "name": "python",
   "nbconvert_exporter": "python",
   "pygments_lexer": "ipython3",
   "version": "3.7.0"
  }
 },
 "nbformat": 4,
 "nbformat_minor": 2
}
