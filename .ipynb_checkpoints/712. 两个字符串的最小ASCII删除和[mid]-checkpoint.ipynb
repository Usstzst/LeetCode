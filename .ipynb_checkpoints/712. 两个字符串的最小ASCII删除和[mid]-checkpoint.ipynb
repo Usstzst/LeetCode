{
 "cells": [
  {
   "cell_type": "markdown",
   "metadata": {},
   "source": [
    "# 题目原意"
   ]
  },
  {
   "cell_type": "raw",
   "metadata": {},
   "source": [
    "给定两个字符串s1, s2，找到使两个字符串相等所需删除字符的ASCII值的最小和。"
   ]
  },
  {
   "cell_type": "raw",
   "metadata": {},
   "source": [
    "示例 1:\n",
    "输入: s1 = \"sea\", s2 = \"eat\"\n",
    "输出: 231\n",
    "解释: 在 \"sea\" 中删除 \"s\" 并将 \"s\" 的值(115)加入总和。\n",
    "在 \"eat\" 中删除 \"t\" 并将 116 加入总和。\n",
    "结束时，两个字符串相等，115 + 116 = 231 就是符合条件的最小和。\n",
    "\n",
    "示例 2:\n",
    "输入: s1 = \"delete\", s2 = \"leet\"\n",
    "输出: 403\n",
    "解释: 在 \"delete\" 中删除 \"dee\" 字符串变成 \"let\"，\n",
    "将 100[d]+101[e]+101[e] 加入总和。在 \"leet\" 中删除 \"e\" 将 101[e] 加入总和。\n",
    "结束时，两个字符串都等于 \"let\"，结果即为 100+101+101+101 = 403 。\n",
    "如果改为将两个字符串转换为 \"lee\" 或 \"eet\"，我们会得到 433 或 417 的结果，比答案更大。"
   ]
  },
  {
   "cell_type": "markdown",
   "metadata": {},
   "source": [
    "## 思路一"
   ]
  },
  {
   "cell_type": "raw",
   "metadata": {},
   "source": [
    "看到玩字符串+最优问题，一定是DP没错了。我们已经做过了求LCS的问题，当时的dp的结果是个数。这个题改成ASCII就好。思路和我们583. Delete Operation for Two Strings基本一致。\n",
    "\n",
    "583这个题的做法是求个数，所以每个位置如果相等的话，就+1，而这个题求ASCII，所以相等的话加上ASCII。\n",
    "\n",
    "对于 DP 的问题，最重要的是找到合适的状态和状态转移方程。其实直接使用LCS的ASCII之和作为状态就行了。\n",
    "\n",
    "题目所求为使得两个字符串 ascii 和相同的最小删除字符 ascii 和，所以我们设 dp[i][j] 为 s1 前 i 个字符与 s2 前 j 个字符得到LCS所需的ASCII和。\n",
    "\n",
    "那么我们开始构造转移方程：\n",
    "\n",
    "对于 s1[0…i−1] 和 s2[0…j−1] 的 LCS的ASCII的和应该是这样的：\n",
    "\n",
    "1、若 s1[i−1]==s2[j−1] ，则 dp[i][j]=dp[i−1][j−1] + ord(s1[i-1])\n",
    "2、若不相等，则 s1[i−1], s2[j−1] 选择删除一个，\n",
    "3、dp[i][j] = max(dp[i - 1][j], dp[i][j - 1])\n",
    "\n",
    "这里应该还是比较容易理解的，即LCS的字符数不变。\n",
    "最终的结果和583一样，要把所有的和减去LCS的和。\n"
   ]
  },
  {
   "cell_type": "code",
   "execution_count": 1,
   "metadata": {},
   "outputs": [],
   "source": [
    "class Solution(object):\n",
    "    def minimumDeleteSum(self, s1, s2):\n",
    "        \"\"\"\n",
    "        :type s1: str\n",
    "        :type s2: str\n",
    "        :rtype: int\n",
    "        \"\"\"\n",
    "        l1, l2 = len(s1), len(s2)\n",
    "        dp = [[0] * (l2 + 1) for _ in range(l1 + 1)]\n",
    "        for i in range(1, l1 + 1):\n",
    "            for j in range(1, l2 + 1):\n",
    "                if s1[i - 1] == s2[j - 1]:\n",
    "                    dp[i][j] = dp[i - 1][j - 1] + ord(s1[i - 1])\n",
    "                else:\n",
    "                    dp[i][j] = max(dp[i - 1][j], dp[i][j - 1])\n",
    "        result = sum(map(ord, s1 + s2)) - dp[-1][-1] * 2\n",
    "        return result\n"
   ]
  }
 ],
 "metadata": {
  "kernelspec": {
   "display_name": "Python 3",
   "language": "python",
   "name": "python3"
  },
  "language_info": {
   "codemirror_mode": {
    "name": "ipython",
    "version": 3
   },
   "file_extension": ".py",
   "mimetype": "text/x-python",
   "name": "python",
   "nbconvert_exporter": "python",
   "pygments_lexer": "ipython3",
   "version": "3.7.0"
  }
 },
 "nbformat": 4,
 "nbformat_minor": 2
}
