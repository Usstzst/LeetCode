{
 "cells": [
  {
   "cell_type": "markdown",
   "metadata": {},
   "source": [
    "# 题目原意"
   ]
  },
  {
   "cell_type": "raw",
   "metadata": {},
   "source": [
    "给定一个只包括 '('，')'，'{'，'}'，'['，']' 的字符串，判断字符串是否有效。\n",
    "\n",
    "有效字符串需满足：\n",
    "\n",
    "左括号必须用相同类型的右括号闭合。\n",
    "左括号必须以正确的顺序闭合。\n",
    "注意空字符串可被认为是有效字符串。"
   ]
  },
  {
   "cell_type": "raw",
   "metadata": {},
   "source": [
    "Example 1:\n",
    "输入: \"()[]{}\"\n",
    "输出: true\n",
    "\n",
    "Example 2:\n",
    "输入: \"(]\"\n",
    "输出: false\n",
    "\n",
    "Example 3:\n",
    "输入: \"([)]\"\n",
    "输出: false\n",
    "\n",
    "Example 5:\n",
    "输入: \"{[]}\"\n",
    "输出: true"
   ]
  },
  {
   "cell_type": "markdown",
   "metadata": {},
   "source": [
    "## 思路一"
   ]
  },
  {
   "cell_type": "code",
   "execution_count": 1,
   "metadata": {},
   "outputs": [],
   "source": [
    "class Solution(object):\n",
    "    def isValid(self, s):\n",
    "        \"\"\"\n",
    "        :type s: str\n",
    "        :rtype: bool\n",
    "        \"\"\"\n",
    "        pars = []\n",
    "        dicts = {')': '(', '}': '{', ']': '['}\n",
    "        for c in s:\n",
    "            if c in dicts and pars:\n",
    "                if dicts[c]!= pars.pop():\n",
    "                    return False\n",
    "            else:\n",
    "                pars.append(c)\n",
    "        return len(pars)==0\n",
    "            \n",
    "\n",
    "\n",
    "     "
   ]
  }
 ],
 "metadata": {
  "kernelspec": {
   "display_name": "Python 3",
   "language": "python",
   "name": "python3"
  },
  "language_info": {
   "codemirror_mode": {
    "name": "ipython",
    "version": 3
   },
   "file_extension": ".py",
   "mimetype": "text/x-python",
   "name": "python",
   "nbconvert_exporter": "python",
   "pygments_lexer": "ipython3",
   "version": "3.7.0"
  }
 },
 "nbformat": 4,
 "nbformat_minor": 2
}
