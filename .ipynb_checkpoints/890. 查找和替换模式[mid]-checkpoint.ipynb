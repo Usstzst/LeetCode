{
 "cells": [
  {
   "cell_type": "markdown",
   "metadata": {},
   "source": [
    "# 题目原意"
   ]
  },
  {
   "cell_type": "raw",
   "metadata": {},
   "source": [
    "你有一个单词列表 words 和一个模式  pattern，你想知道 words 中的哪些单词与模式匹配。\n",
    "\n",
    "如果存在字母的排列 p ，使得将模式中的每个字母 x 替换为 p(x) 之后，我们就得到了所需的单词，那么单词与模式是匹配的。\n",
    "\n",
    "（回想一下，字母的排列是从字母到字母的双射：每个字母映射到另一个字母，没有两个字母映射到同一个字母。）\n",
    "\n",
    "返回 words 中与给定模式匹配的单词列表。\n",
    "\n",
    "你可以按任何顺序返回答案。"
   ]
  },
  {
   "cell_type": "raw",
   "metadata": {},
   "source": [
    "示例：\n",
    "输入：words = [\"abc\",\"deq\",\"mee\",\"aqq\",\"dkd\",\"ccc\"], pattern = \"abb\"\n",
    "输出：[\"mee\",\"aqq\"]\n",
    "解释：\n",
    "\"mee\" 与模式匹配，因为存在排列 {a -> m, b -> e, ...}。\n",
    "\"ccc\" 与模式不匹配，因为 {a -> c, b -> c, ...} 不是排列。\n",
    "因为 a 和 b 映射到同一个字母。"
   ]
  },
  {
   "cell_type": "markdown",
   "metadata": {},
   "source": [
    "## 思路一：映射"
   ]
  },
  {
   "cell_type": "code",
   "execution_count": 4,
   "metadata": {},
   "outputs": [],
   "source": [
    "class Solution(object):\n",
    "    def findAndReplacePattern(self, words, pattern):\n",
    "        \"\"\"\n",
    "        :type words: List[str]\n",
    "        :type pattern: str\n",
    "        :rtype: List[str]\n",
    "        \"\"\"\n",
    "        ans = []\n",
    "        set_p = set(pattern)\n",
    "        for word in words:\n",
    "            if len(set(word)) != len(set_p):\n",
    "                continue\n",
    "            fx = dict()\n",
    "            equal = True\n",
    "            for i, w in enumerate(word):\n",
    "                if w in fx:\n",
    "                    if fx[w]!=pattern[i]:\n",
    "                        equal = False\n",
    "                        break\n",
    "                fx[w] = pattern[i]\n",
    "            if equal:\n",
    "                ans.append(word)\n",
    "        return ans\n",
    "        \n",
    "     "
   ]
  },
  {
   "cell_type": "code",
   "execution_count": 6,
   "metadata": {},
   "outputs": [],
   "source": [
    "class Solution(object):\n",
    "    def findAndReplacePattern(self, words, pattern):\n",
    "        \"\"\"\n",
    "        :type words: List[str]\n",
    "        :type pattern: str\n",
    "        :rtype: List[str]\n",
    "        \"\"\"\n",
    "        def match(word):\n",
    "            tmp = {}\n",
    "            for x, y in zip(pattern, word):  # 添加字典，如果存在对应关系不一致的，直接返回false\n",
    "                if tmp.setdefault(x, y) != y: return False\n",
    "\n",
    "            return len(set(tmp.values())) == len(tmp.values())  # 判断是否有重复的，如果有说明存在不同字符对应了同一个字符\n",
    "\n",
    "        return list(filter(match, words))  # 返回结果"
   ]
  }
 ],
 "metadata": {
  "kernelspec": {
   "display_name": "Python 3",
   "language": "python",
   "name": "python3"
  },
  "language_info": {
   "codemirror_mode": {
    "name": "ipython",
    "version": 3
   },
   "file_extension": ".py",
   "mimetype": "text/x-python",
   "name": "python",
   "nbconvert_exporter": "python",
   "pygments_lexer": "ipython3",
   "version": "3.7.0"
  }
 },
 "nbformat": 4,
 "nbformat_minor": 2
}
