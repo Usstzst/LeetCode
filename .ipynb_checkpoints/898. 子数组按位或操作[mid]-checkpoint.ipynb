{
 "cells": [
  {
   "cell_type": "markdown",
   "metadata": {},
   "source": [
    "# 题目原意"
   ]
  },
  {
   "cell_type": "raw",
   "metadata": {},
   "source": [
    "我们有一个非负整数数组 A。\n",
    "\n",
    "对于每个（连续的）子数组 B = [A[i], A[i+1], ..., A[j]] （ i <= j），我们对 B 中的每个元素进行按位或操作，获得结果 A[i] | A[i+1] | ... | A[j]。\n",
    "\n",
    "返回可能结果的数量。 （多次出现的结果在最终答案中仅计算一次。）"
   ]
  },
  {
   "cell_type": "raw",
   "metadata": {},
   "source": [
    "示例 1：\n",
    "输入：[0]\n",
    "输出：1\n",
    "解释：\n",
    "只有一个可能的结果 0 。\n",
    "\n",
    "示例 2：\n",
    "输入：[1,1,2]\n",
    "输出：3\n",
    "解释：\n",
    "可能的子数组为 [1]，[1]，[2]，[1, 1]，[1, 2]，[1, 1, 2]。\n",
    "产生的结果为 1，1，2，1，3，3 。\n",
    "有三个唯一值，所以答案是 3 。\n",
    "\n",
    "示例 3：\n",
    "输入：[1,2,4]\n",
    "输出：6\n",
    "解释：\n",
    "可能的结果是 1，2，3，4，6，以及 7 。"
   ]
  },
  {
   "cell_type": "markdown",
   "metadata": {},
   "source": [
    "## 思路一：动态规划"
   ]
  },
  {
   "cell_type": "raw",
   "metadata": {},
   "source": [
    "参考别人的思路，还没看懂"
   ]
  },
  {
   "cell_type": "code",
   "execution_count": 1,
   "metadata": {},
   "outputs": [],
   "source": [
    "class Solution(object):\n",
    "    def subarrayBitwiseORs(self, A):\n",
    "        \"\"\"\n",
    "        :type A: List[int]\n",
    "        :rtype: int\n",
    "        \"\"\"\n",
    "        res = set()\n",
    "        cur = set()\n",
    "        for a in A:\n",
    "            cur = {n | a for n in cur} | {a}\n",
    "            res |= cur\n",
    "        return len(res)\n"
   ]
  }
 ],
 "metadata": {
  "kernelspec": {
   "display_name": "Python 3",
   "language": "python",
   "name": "python3"
  },
  "language_info": {
   "codemirror_mode": {
    "name": "ipython",
    "version": 3
   },
   "file_extension": ".py",
   "mimetype": "text/x-python",
   "name": "python",
   "nbconvert_exporter": "python",
   "pygments_lexer": "ipython3",
   "version": "3.6.5"
  }
 },
 "nbformat": 4,
 "nbformat_minor": 2
}
