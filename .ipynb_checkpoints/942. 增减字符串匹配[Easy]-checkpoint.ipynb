{
 "cells": [
  {
   "cell_type": "markdown",
   "metadata": {},
   "source": [
    "# 题目原意"
   ]
  },
  {
   "cell_type": "raw",
   "metadata": {},
   "source": [
    "给定只含 \"I\"（增大）或 \"D\"（减小）的字符串 S ，令 N = S.length。\n",
    "\n",
    "返回 [0, 1, ..., N] 的任意排列 A 使得对于所有 i = 0, ..., N-1，都有：\n",
    "\n",
    "如果 S[i] == \"I\"，那么 A[i] < A[i+1]\n",
    "如果 S[i] == \"D\"，那么 A[i] > A[i+1]"
   ]
  },
  {
   "cell_type": "raw",
   "metadata": {},
   "source": [
    "Example 1:\n",
    "输入：\"IDID\"\n",
    "输出：[0,4,1,3,2]\n",
    "\n",
    "Example 2:\n",
    "输入：\"III\"\n",
    "输出：[0,1,2,3]"
   ]
  },
  {
   "cell_type": "markdown",
   "metadata": {},
   "source": [
    "## 思路一"
   ]
  },
  {
   "cell_type": "code",
   "execution_count": 1,
   "metadata": {},
   "outputs": [],
   "source": [
    "class Solution:\n",
    "    def diStringMatch(self, S):\n",
    "        \"\"\"\n",
    "        :type S: str\n",
    "        :rtype: List[int]\n",
    "        \"\"\"\n",
    "        N = len(S)\n",
    "        ni, nd = 0, N\n",
    "        res = []\n",
    "        for s in S:\n",
    "            if s== 'I':\n",
    "                res.append(ni)\n",
    "                ni += 1\n",
    "            else:\n",
    "                res.append(nd)\n",
    "                nd -= 1\n",
    "        res.append(ni)\n",
    "        return res"
   ]
  }
 ],
 "metadata": {
  "kernelspec": {
   "display_name": "Python 3",
   "language": "python",
   "name": "python3"
  },
  "language_info": {
   "codemirror_mode": {
    "name": "ipython",
    "version": 3
   },
   "file_extension": ".py",
   "mimetype": "text/x-python",
   "name": "python",
   "nbconvert_exporter": "python",
   "pygments_lexer": "ipython3",
   "version": "3.7.0"
  }
 },
 "nbformat": 4,
 "nbformat_minor": 2
}
