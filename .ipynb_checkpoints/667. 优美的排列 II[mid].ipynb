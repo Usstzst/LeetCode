{
 "cells": [
  {
   "cell_type": "markdown",
   "metadata": {},
   "source": [
    "# 题目原意 "
   ]
  },
  {
   "cell_type": "raw",
   "metadata": {},
   "source": [
    "给定两个整数 n 和 k，你需要实现一个数组，这个数组包含从 1 到 n 的 n 个不同整数，同时满足以下条件：\n",
    "\n",
    "① 如果这个数组是 [a1, a2, a3, ... , an] ，那么数组 [|a1 - a2|, |a2 - a3|, |a3 - a4|, ... , |an-1 - an|] 中应该有且仅有 k 个不同整数；.\n",
    "\n",
    "② 如果存在多种答案，你只需实现并返回其中任意一种."
   ]
  },
  {
   "cell_type": "raw",
   "metadata": {},
   "source": [
    "示例 1:\n",
    "输入: n = 3, k = 1\n",
    "输出: [1, 2, 3]\n",
    "解释: [1, 2, 3] 包含 3 个范围在 1-3 的不同整数， 并且 [1, 1] 中有且仅有 1 个不同整数 : 1\n",
    " \n",
    "\n",
    "示例 2:\n",
    "输入: n = 3, k = 2\n",
    "输出: [1, 3, 2]\n",
    "解释: [1, 3, 2] 包含 3 个范围在 1-3 的不同整数， 并且 [2, 1] 中有且仅有 2 个不同整数: 1 和 2"
   ]
  },
  {
   "cell_type": "markdown",
   "metadata": {},
   "source": [
    "## 思路一"
   ]
  },
  {
   "cell_type": "raw",
   "metadata": {},
   "source": [
    "借鉴了大神的思路。\n",
    "\n",
    "举例来说，1 2 3 4 5 6 7 8 9 10. 相邻元素的差值绝对值为1，出现了很多次。我们把后面部分的数字翻转一次，那么使得10和1临近到了一起，其他的数字的排列没有变化: 1 10 9 8 7 6 5 4 3 2，此时就有了2种不同的临近数字的差值绝对值. 继续做下去，把9到2的数字再翻转，就有了3种不同的临近数字的差值绝对值: 1 10 2 3 4 5 6 7 8 9.以此类推，找出k次即可。\n"
   ]
  },
  {
   "cell_type": "code",
   "execution_count": 2,
   "metadata": {},
   "outputs": [],
   "source": [
    "class Solution(object):\n",
    "    def constructArray(self, n, k):\n",
    "        \"\"\"\n",
    "        :type n: int\n",
    "        :type k: int\n",
    "        :rtype: List[int]\n",
    "        \"\"\"\n",
    "        a = list(range(1, n + 1))\n",
    "        for i in range(1, k):\n",
    "            a[i:] = a[:i-1:-1]\n",
    "        return a\n"
   ]
  }
 ],
 "metadata": {
  "kernelspec": {
   "display_name": "Python 3",
   "language": "python",
   "name": "python3"
  },
  "language_info": {
   "codemirror_mode": {
    "name": "ipython",
    "version": 3
   },
   "file_extension": ".py",
   "mimetype": "text/x-python",
   "name": "python",
   "nbconvert_exporter": "python",
   "pygments_lexer": "ipython3",
   "version": "3.6.5"
  }
 },
 "nbformat": 4,
 "nbformat_minor": 2
}
