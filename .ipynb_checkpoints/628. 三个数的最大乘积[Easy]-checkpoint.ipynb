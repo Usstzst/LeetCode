{
 "cells": [
  {
   "cell_type": "markdown",
   "metadata": {},
   "source": [
    "# 题目原意"
   ]
  },
  {
   "cell_type": "raw",
   "metadata": {},
   "source": [
    "给定一个整型数组，在数组中找出由三个数组成的最大乘积，并输出这个乘积。"
   ]
  },
  {
   "cell_type": "raw",
   "metadata": {},
   "source": [
    "示例 1:\n",
    "输入: [1,2,3]\n",
    "输出: 6\n",
    "    \n",
    "示例 2:\n",
    "输入: [1,2,3,4]\n",
    "输出: 24\n",
    "\n",
    "注意:\n",
    "给定的整型数组长度范围是[3,104]，数组中所有的元素范围是[-1000, 1000]。\n",
    "输入的数组中任意三个数的乘积不会超出32位有符号整数的范围。\n"
   ]
  },
  {
   "cell_type": "markdown",
   "metadata": {},
   "source": [
    "## 思路一"
   ]
  },
  {
   "cell_type": "raw",
   "metadata": {},
   "source": [
    "1、直接对数组进行排序， 计算后三位的乘积（nums[-1]*nums[-2]*nums[-3]）   ----but 适用于数组元素取值全为正整数的情况\n",
    "\n",
    "2、考虑元素为负值时，依然排序，求最大值 max(nums[-1]*nums[-2]*nums[-3],nums[0]*nums[1]*nums[-1])"
   ]
  },
  {
   "cell_type": "code",
   "execution_count": 2,
   "metadata": {},
   "outputs": [],
   "source": [
    "class Solution(object):\n",
    "    def maximumProduct(self, nums):\n",
    "        \"\"\"\n",
    "        :type nums: List[int]\n",
    "        :rtype: int\n",
    "        \"\"\"\n",
    "        nums.sort()\n",
    "        return max(nums[-1]*nums[-2]*nums[-3],nums[0]*nums[1]*nums[-1])\n"
   ]
  }
 ],
 "metadata": {
  "kernelspec": {
   "display_name": "Python 3",
   "language": "python",
   "name": "python3"
  },
  "language_info": {
   "codemirror_mode": {
    "name": "ipython",
    "version": 3
   },
   "file_extension": ".py",
   "mimetype": "text/x-python",
   "name": "python",
   "nbconvert_exporter": "python",
   "pygments_lexer": "ipython3",
   "version": "3.6.5"
  }
 },
 "nbformat": 4,
 "nbformat_minor": 2
}
