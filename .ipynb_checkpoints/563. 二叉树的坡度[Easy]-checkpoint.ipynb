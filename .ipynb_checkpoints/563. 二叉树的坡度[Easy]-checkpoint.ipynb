{
 "cells": [
  {
   "cell_type": "markdown",
   "metadata": {},
   "source": [
    "# 题目原意"
   ]
  },
  {
   "cell_type": "raw",
   "metadata": {},
   "source": [
    "给定一个二叉树，计算整个树的坡度。\n",
    "\n",
    "一个树的节点的坡度定义即为，该节点左子树的结点之和和右子树结点之和的差的绝对值。空结点的的坡度是0。\n",
    "\n",
    "整个树的坡度就是其所有节点的坡度之和。"
   ]
  },
  {
   "cell_type": "raw",
   "metadata": {},
   "source": [
    "示例:\n",
    "输入: \n",
    "         1\n",
    "       /   \\\n",
    "      2     3\n",
    "输出: 1\n",
    "\n",
    "解释: \n",
    "结点的坡度 2 : 0\n",
    "结点的坡度 3 : 0\n",
    "结点的坡度 1 : |2-3| = 1\n",
    "树的坡度 : 0 + 0 + 1 = 1\n",
    "\n",
    "注意:\n",
    "任何子树的结点的和不会超过32位整数的范围。\n",
    "坡度的值不会超过32位整数的范围。"
   ]
  },
  {
   "cell_type": "markdown",
   "metadata": {},
   "source": [
    "## 思路一：遍历二叉树 + 递归求二叉树子树和"
   ]
  },
  {
   "cell_type": "code",
   "execution_count": 1,
   "metadata": {},
   "outputs": [],
   "source": [
    "# Definition for a binary tree node.\n",
    "# class TreeNode(object):\n",
    "#     def __init__(self, x):\n",
    "#         self.val = x\n",
    "#         self.left = None\n",
    "#         self.right = None\n",
    "\n",
    "class Solution(object):\n",
    "    def findTilt(self, root):\n",
    "        \"\"\"\n",
    "        :type root: TreeNode\n",
    "        :rtype: int\n",
    "        \"\"\"\n",
    "        self.ans = 0\n",
    "        def subTreeSum(root):\n",
    "            if not root: return 0\n",
    "            lsum = subTreeSum(root.left)\n",
    "            rsum = subTreeSum(root.right)\n",
    "            self.ans += abs(lsum - rsum)\n",
    "            return root.val + lsum + rsum\n",
    "        subTreeSum(root)\n",
    "        return self.ans"
   ]
  }
 ],
 "metadata": {
  "kernelspec": {
   "display_name": "Python 3",
   "language": "python",
   "name": "python3"
  },
  "language_info": {
   "codemirror_mode": {
    "name": "ipython",
    "version": 3
   },
   "file_extension": ".py",
   "mimetype": "text/x-python",
   "name": "python",
   "nbconvert_exporter": "python",
   "pygments_lexer": "ipython3",
   "version": "3.7.0"
  }
 },
 "nbformat": 4,
 "nbformat_minor": 2
}
