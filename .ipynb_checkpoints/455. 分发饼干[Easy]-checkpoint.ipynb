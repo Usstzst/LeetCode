{
 "cells": [
  {
   "cell_type": "markdown",
   "metadata": {},
   "source": [
    "# 题目原意"
   ]
  },
  {
   "cell_type": "raw",
   "metadata": {},
   "source": [
    "假设你是一位很棒的家长，想要给你的孩子们一些小饼干。但是，每个孩子最多只能给一块饼干。对每个孩子 i ，都有一个胃口值 gi ，这是能让孩子们满足胃口的饼干的最小尺寸；并且每块饼干 j ，都有一个尺寸 sj 。如果 sj >= gi ，我们可以将这个饼干 j 分配给孩子 i ，这个孩子会得到满足。你的目标是尽可能满足越多数量的孩子，并输出这个最大数值。\n",
    "\n",
    "注意：\n",
    "\n",
    "你可以假设胃口值为正。\n",
    "一个小朋友最多只能拥有一块饼干。"
   ]
  },
  {
   "cell_type": "raw",
   "metadata": {},
   "source": [
    "示例 1:\n",
    "输入: [1,2,3], [1,1]\n",
    "输出: 1\n",
    "\n",
    "解释: \n",
    "你有三个孩子和两块小饼干，3个孩子的胃口值分别是：1,2,3。\n",
    "虽然你有两块小饼干，由于他们的尺寸都是1，你只能让胃口值是1的孩子满足。\n",
    "所以你应该输出1。\n",
    "\n",
    "示例 2:\n",
    "输入: [1,2], [1,2,3]\n",
    "输出: 2\n",
    "\n",
    "解释: \n",
    "你有两个孩子和三块小饼干，2个孩子的胃口值分别是1,2。\n",
    "你拥有的饼干数量和尺寸都足以让所有孩子满足。\n",
    "所以你应该输出2."
   ]
  },
  {
   "cell_type": "markdown",
   "metadata": {},
   "source": [
    "## 思路一：贪心算法"
   ]
  },
  {
   "cell_type": "code",
   "execution_count": 1,
   "metadata": {},
   "outputs": [],
   "source": [
    "class Solution(object):\n",
    "    def findContentChildren(self, g, s):\n",
    "        \"\"\"\n",
    "        :type g: List[int]\n",
    "        :type s: List[int]\n",
    "        :rtype: int\n",
    "        \"\"\"\n",
    "        cnt = 0\n",
    "        i, j = len(g) - 1, len(s) - 1\n",
    "        g, s = sorted(g), sorted(s)\n",
    "        while min(i, j) >= 0:\n",
    "            if g[i] <= s[j]:\n",
    "                cnt += 1\n",
    "                j -= 1\n",
    "            i -= 1\n",
    "        return cnt"
   ]
  },
  {
   "cell_type": "code",
   "execution_count": 2,
   "metadata": {},
   "outputs": [],
   "source": [
    "class Solution(object):\n",
    "    def findContentChildren(self, g, s):\n",
    "        g.sort()\n",
    "        s.sort()\n",
    "        i, j = 0, 0\n",
    "        while i < len(g) and j < len(s):\n",
    "            if s[j] >= g[i]:\n",
    "                i += 1\n",
    "            j += 1\n",
    "        return i\n"
   ]
  }
 ],
 "metadata": {
  "kernelspec": {
   "display_name": "Python 3",
   "language": "python",
   "name": "python3"
  },
  "language_info": {
   "codemirror_mode": {
    "name": "ipython",
    "version": 3
   },
   "file_extension": ".py",
   "mimetype": "text/x-python",
   "name": "python",
   "nbconvert_exporter": "python",
   "pygments_lexer": "ipython3",
   "version": "3.7.0"
  }
 },
 "nbformat": 4,
 "nbformat_minor": 2
}
