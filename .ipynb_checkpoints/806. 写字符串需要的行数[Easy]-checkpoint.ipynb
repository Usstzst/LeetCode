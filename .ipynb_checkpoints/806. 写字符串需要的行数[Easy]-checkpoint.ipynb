{
 "cells": [
  {
   "cell_type": "markdown",
   "metadata": {},
   "source": [
    "# 题目原意"
   ]
  },
  {
   "cell_type": "raw",
   "metadata": {},
   "source": [
    "我们要把给定的字符串 S 从左到右写到每一行上，每一行的最大宽度为100个单位，如果我们在写某个字母的时候会使这行超过了100 个单位，那么我们应该把这个字母写到下一行。我们给定了一个数组 widths ，这个数组 widths[0] 代表 'a' 需要的单位， widths[1] 代表 'b' 需要的单位，...， widths[25] 代表 'z' 需要的单位。\n",
    "\n",
    "现在回答两个问题：至少多少行能放下S，以及最后一行使用的宽度是多少个单位？将你的答案作为长度为2的整数列表返回。\n",
    "\n"
   ]
  },
  {
   "cell_type": "raw",
   "metadata": {},
   "source": [
    "示例 1:\n",
    "输入: \n",
    "widths = [10,10,10,10,10,10,10,10,10,10,10,10,10,10,10,10,10,10,10,10,10,10,10,10,10,10]\n",
    "S = \"abcdefghijklmnopqrstuvwxyz\"\n",
    "输出: [3, 60]\n",
    "解释: \n",
    "所有的字符拥有相同的占用单位10。所以书写所有的26个字母，\n",
    "我们需要2个整行和占用60个单位的一行。"
   ]
  },
  {
   "cell_type": "raw",
   "metadata": {},
   "source": [
    "示例 2:\n",
    "输入: \n",
    "widths = [4,10,10,10,10,10,10,10,10,10,10,10,10,10,10,10,10,10,10,10,10,10,10,10,10,10]\n",
    "S = \"bbbcccdddaaa\"\n",
    "输出: [2, 4]\n",
    "解释: \n",
    "除去字母'a'所有的字符都是相同的单位10，并且字符串 \"bbbcccdddaa\" 将会覆盖 9 * 10 + 2 * 4 = 98 个单位.\n",
    "最后一个字母 'a' 将会被写到第二行，因为第一行只剩下2个单位了。\n",
    "所以，这个答案是2行，第二行有4个单位宽度。"
   ]
  },
  {
   "cell_type": "markdown",
   "metadata": {},
   "source": [
    "## 思路一：使用ASIIC码求长度"
   ]
  },
  {
   "cell_type": "raw",
   "metadata": {},
   "source": [
    "我们使用遍历S的方式去做，并用last统计这行写了多少宽度了，如果宽度大于100，那么就要lines+=1，last = width了，因为要换行。"
   ]
  },
  {
   "cell_type": "code",
   "execution_count": 1,
   "metadata": {},
   "outputs": [],
   "source": [
    "class Solution(object):\n",
    "    def numberOfLines(self, widths, S):\n",
    "        \"\"\"\n",
    "        :type widths: List[int]\n",
    "        :type S: str\n",
    "        :rtype: List[int]\n",
    "        \"\"\"\n",
    "        lines = 1\n",
    "        last = 0\n",
    "        for s in S:\n",
    "            width = widths[ord(s) - ord('a')]\n",
    "            last += width\n",
    "            if last > 100:\n",
    "                lines += 1\n",
    "                last = width\n",
    "        return [lines, last]\n"
   ]
  },
  {
   "cell_type": "markdown",
   "metadata": {},
   "source": [
    "## 思路二：使用字典保存长度"
   ]
  },
  {
   "cell_type": "raw",
   "metadata": {},
   "source": [
    "完全可以使用字典保存每个字符的长度，这样的话就能直接查找每个字符的长度了。"
   ]
  },
  {
   "cell_type": "code",
   "execution_count": 2,
   "metadata": {},
   "outputs": [],
   "source": [
    "class Solution(object):\n",
    "    def numberOfLines(self, widths, S):\n",
    "        \"\"\"\n",
    "        :type widths: List[int]\n",
    "        :type S: str\n",
    "        :rtype: List[int]\n",
    "        \"\"\"\n",
    "        lines, row = 1, 0\n",
    "        lendict = {c : widths[i] for i, c in enumerate(\"abcdefghijklmnopqrstuvwxyz\")}\n",
    "        N = len(S)\n",
    "        for s in S:\n",
    "            if row + lendict[s] > 100:\n",
    "                row = lendict[s]\n",
    "                lines += 1\n",
    "            else:\n",
    "                row += lendict[s]\n",
    "        return lines, row\n"
   ]
  }
 ],
 "metadata": {
  "kernelspec": {
   "display_name": "Python 3",
   "language": "python",
   "name": "python3"
  },
  "language_info": {
   "codemirror_mode": {
    "name": "ipython",
    "version": 3
   },
   "file_extension": ".py",
   "mimetype": "text/x-python",
   "name": "python",
   "nbconvert_exporter": "python",
   "pygments_lexer": "ipython3",
   "version": "3.7.0"
  }
 },
 "nbformat": 4,
 "nbformat_minor": 2
}
