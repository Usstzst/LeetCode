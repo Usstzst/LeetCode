{
 "cells": [
  {
   "cell_type": "markdown",
   "metadata": {},
   "source": [
    "# 题目原意"
   ]
  },
  {
   "cell_type": "raw",
   "metadata": {},
   "source": [
    "在由若干 0 和 1  组成的数组 A 中，有多少个和为 S 的非空子数组。\n",
    "\n",
    " \n",
    "\n",
    "示例：\n",
    "输入：A = [1,0,1,0,1], S = 2\n",
    "输出：4\n",
    "解释：\n",
    "如下面黑体所示，有 4 个满足题目要求的子数组：\n",
    "[1,0,1,0,1]\n",
    "[1,0,1,0,1]\n",
    "[1,0,1,0,1]\n",
    "[1,0,1,0,1]"
   ]
  },
  {
   "cell_type": "markdown",
   "metadata": {},
   "source": [
    "## 思路一"
   ]
  },
  {
   "cell_type": "code",
   "execution_count": 1,
   "metadata": {},
   "outputs": [],
   "source": [
    "class Solution:\n",
    "    def numSubarraysWithSum(self, A, S):\n",
    "        \"\"\"\n",
    "        :type A: List[int]\n",
    "        :type S: int\n",
    "        :rtype: int\n",
    "        \"\"\"\n",
    "        result, cur_sum = 0, 0\n",
    "        sum_dict = [0]*(len(A) + 1)\n",
    "        sum_dict[0] = 1\n",
    "        for num in A:\n",
    "            cur_sum += num\n",
    "            if cur_sum - S >= 0:\n",
    "                result += sum_dict[cur_sum - S]\n",
    "            sum_dict[cur_sum] += 1\n",
    "                \n",
    "        return result\n"
   ]
  }
 ],
 "metadata": {
  "kernelspec": {
   "display_name": "Python 3",
   "language": "python",
   "name": "python3"
  },
  "language_info": {
   "codemirror_mode": {
    "name": "ipython",
    "version": 3
   },
   "file_extension": ".py",
   "mimetype": "text/x-python",
   "name": "python",
   "nbconvert_exporter": "python",
   "pygments_lexer": "ipython3",
   "version": "3.6.5"
  }
 },
 "nbformat": 4,
 "nbformat_minor": 2
}
