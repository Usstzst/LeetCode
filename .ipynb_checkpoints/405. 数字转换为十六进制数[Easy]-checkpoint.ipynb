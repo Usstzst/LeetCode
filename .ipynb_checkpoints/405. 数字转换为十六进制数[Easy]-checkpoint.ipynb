{
 "cells": [
  {
   "cell_type": "markdown",
   "metadata": {},
   "source": [
    "# 题目原意"
   ]
  },
  {
   "cell_type": "raw",
   "metadata": {},
   "source": [
    "给定一个整数，编写一个算法将这个数转换为十六进制数。对于负整数，我们通常使用 补码运算 方法。"
   ]
  },
  {
   "cell_type": "raw",
   "metadata": {},
   "source": [
    "注意:\n",
    "十六进制中所有字母(a-f)都必须是小写。\n",
    "十六进制字符串中不能包含多余的前导零。如果要转化的数为0，那么以单个字符'0'来表示；对于其他情况，十六进制字符串中的第一个字符将不会是0字符。 \n",
    "给定的数确保在32位有符号整数范围内。\n",
    "不能使用任何由库提供的将数字直接转换或格式化为十六进制的方法。\n",
    "\n",
    "示例 1：\n",
    "输入:\n",
    "26\n",
    "输出:\n",
    "\"1a\"\n",
    "\n",
    "示例 2：\n",
    "输入:\n",
    "-1\n",
    "输出:\n",
    "\"ffffffff\""
   ]
  },
  {
   "cell_type": "markdown",
   "metadata": {},
   "source": [
    "## 思路一"
   ]
  },
  {
   "cell_type": "raw",
   "metadata": {},
   "source": [
    "这题是要把十进制数转换为十六进制，并且对于负数是采用补码形式。\n",
    "\n",
    "那么这题就直接是把数的二进制以十六进制的形式表示出来就好了。\n",
    "即每次处理二进制数的最低4位（对16取余），得到0-15间的值映射到0123456789abcdef中得到十六进制表示；再将此二进制数向右移动4位（右移4位即除以16），循环处理，直到二进制数为0。"
   ]
  },
  {
   "cell_type": "code",
   "execution_count": 1,
   "metadata": {},
   "outputs": [],
   "source": [
    "class Solution(object):\n",
    "    def toHex(self, num):\n",
    "        \"\"\"\n",
    "        :type num: int\n",
    "        :rtype: str\n",
    "        \"\"\"\n",
    "        if num == 0:\n",
    "            return '0'\n",
    "        mp = '0123456789abcdef'\n",
    "        ans = ''\n",
    "        for i in range(8):\n",
    "            n = num % 16\n",
    "            c = mp[n]\n",
    "            ans = c + ans\n",
    "            num = num/16\n",
    "        return ans.lstrip('0')\n",
    "\n",
    "\n",
    "        "
   ]
  }
 ],
 "metadata": {
  "kernelspec": {
   "display_name": "Python 3",
   "language": "python",
   "name": "python3"
  },
  "language_info": {
   "codemirror_mode": {
    "name": "ipython",
    "version": 3
   },
   "file_extension": ".py",
   "mimetype": "text/x-python",
   "name": "python",
   "nbconvert_exporter": "python",
   "pygments_lexer": "ipython3",
   "version": "3.7.0"
  }
 },
 "nbformat": 4,
 "nbformat_minor": 2
}
