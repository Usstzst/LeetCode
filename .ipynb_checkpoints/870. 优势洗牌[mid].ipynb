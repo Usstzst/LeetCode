{
 "cells": [
  {
   "cell_type": "markdown",
   "metadata": {},
   "source": [
    "# 题目原意"
   ]
  },
  {
   "cell_type": "raw",
   "metadata": {},
   "source": [
    "给定两个大小相等的数组 A 和 B，A 相对于 B 的优势可以用满足 A[i] > B[i] 的索引 i 的数目来描述。\n",
    "\n",
    "返回 A 的任意排列，使其相对于 B 的优势最大化。\n"
   ]
  },
  {
   "cell_type": "raw",
   "metadata": {},
   "source": [
    "示例 1：\n",
    "输入：A = [2,7,11,15], B = [1,10,4,11]\n",
    "输出：[2,11,7,15]\n",
    "\n",
    "示例 2：\n",
    "输入：A = [12,24,8,32], B = [13,25,32,11]\n",
    "输出：[24,32,8,12]"
   ]
  },
  {
   "cell_type": "markdown",
   "metadata": {},
   "source": [
    "## 思路一"
   ]
  },
  {
   "cell_type": "raw",
   "metadata": {},
   "source": [
    "中国人小时候学过的一个故事，叫做田忌赛马，大家应该都知道的，用自己比对方强一点点的马去战胜对方的马，如果对方的马太强了，那么就用自己的最弱的马去参加比赛。这样做的好处就是我们用自己的弱鸡消耗掉对方的精锐，自己获胜的概率就最大。\n",
    "\n",
    "\n",
    "使用了双向队列解决这个问题。同样是对A,B进行从小到大的排序，排序时需要保存B中的数字原来在数组中的哪个位置。这样我们对A进行一次遍历，每次出动自己的最弱的马，如果这个马能战胜B中最弱的马，那么就这么使用；如果战胜不了的话，那么就用这个最弱的马去和B中最强的马比赛，这样就干掉了对方的精锐。\n",
    "\n",
    "时间复杂度是O(nlogn)，空间复杂度是O(n)."
   ]
  },
  {
   "cell_type": "code",
   "execution_count": null,
   "metadata": {},
   "outputs": [],
   "source": [
    "class Solution(object):\n",
    "    def advantageCount(self, A, B):\n",
    "        \"\"\"\n",
    "        :type A: List[int]\n",
    "        :type B: List[int]\n",
    "        :rtype: List[int]\n",
    "        \"\"\"\n",
    "        \n",
    "        res = [-1]*len(A)\n",
    "        A = collections.deque(sorted(A))\n",
    "        B = collections.deque(sorted((b, i) for i, b in enumerate(B)))\n",
    "        for i in range(len(A)):\n",
    "            a = A.popleft()\n",
    "            b = B[0]\n",
    "            if a > b[0]:\n",
    "                B.popleft()\n",
    "            else:\n",
    "                b = B.pop()\n",
    "            res[b[1]] = a\n",
    "        \n",
    "        return res\n",
    "        \n"
   ]
  }
 ],
 "metadata": {
  "kernelspec": {
   "display_name": "Python 3",
   "language": "python",
   "name": "python3"
  },
  "language_info": {
   "codemirror_mode": {
    "name": "ipython",
    "version": 3
   },
   "file_extension": ".py",
   "mimetype": "text/x-python",
   "name": "python",
   "nbconvert_exporter": "python",
   "pygments_lexer": "ipython3",
   "version": "3.6.5"
  }
 },
 "nbformat": 4,
 "nbformat_minor": 2
}
