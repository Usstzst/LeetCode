{
 "cells": [
  {
   "cell_type": "markdown",
   "metadata": {},
   "source": [
    "# 题目原意"
   ]
  },
  {
   "cell_type": "raw",
   "metadata": {},
   "source": [
    "根据逆波兰表示法，求表达式的值。\n",
    "\n",
    "有效的运算符包括 +, -, *, / 。每个运算对象可以是整数，也可以是另一个逆波兰表达式。\n",
    "\n",
    "说明：\n",
    "\n",
    "整数除法只保留整数部分。\n",
    "给定逆波兰表达式总是有效的。换句话说，表达式总会得出有效数值且不存在除数为 0 的情况。\n"
   ]
  },
  {
   "cell_type": "raw",
   "metadata": {},
   "source": [
    "示例 1：\n",
    "输入: [\"2\", \"1\", \"+\", \"3\", \"*\"]\n",
    "输出: 9\n",
    "解释: ((2 + 1) * 3) = 9\n",
    "\n",
    "示例 2：\n",
    "输入: [\"4\", \"13\", \"5\", \"/\", \"+\"]\n",
    "输出: 6\n",
    "解释: (4 + (13 / 5)) = 6\n",
    "\n",
    "示例 3：\n",
    "输入: [\"10\", \"6\", \"9\", \"3\", \"+\", \"-11\", \"*\", \"/\", \"*\", \"17\", \"+\", \"5\", \"+\"]\n",
    "输出: 22\n",
    "解释: \n",
    "  ((10 * (6 / ((9 + 3) * -11))) + 17) + 5\n",
    "= ((10 * (6 / (12 * -11))) + 17) + 5\n",
    "= ((10 * (6 / -132)) + 17) + 5\n",
    "= ((10 * 0) + 17) + 5\n",
    "= (0 + 17) + 5\n",
    "= 17 + 5\n",
    "= 22"
   ]
  },
  {
   "cell_type": "markdown",
   "metadata": {},
   "source": [
    "## 思路一：栈"
   ]
  },
  {
   "cell_type": "raw",
   "metadata": {},
   "source": [
    "后缀表达式转中缀表达式求值。\n",
    "需要特殊处理的地方是除法，当a,b 为负数时要特殊处理\n",
    "在python中，(-1)/2=-1，在python中，是向下取整的。这时候需要sign保存符号，a,b取绝对值计算后加上sign."
   ]
  },
  {
   "cell_type": "code",
   "execution_count": 1,
   "metadata": {},
   "outputs": [],
   "source": [
    "class Solution(object):\n",
    "    def evalRPN(self, tokens):\n",
    "        \"\"\"\n",
    "        :type tokens: List[str]\n",
    "        :rtype: int\n",
    "        \"\"\"\n",
    "        stack = []\n",
    "        for token in tokens:\n",
    "            if token not in '+-*/':\n",
    "                stack.append(int(token))\n",
    "            else:\n",
    "                b = stack.pop()\n",
    "                a = stack.pop()\n",
    "                if token == '+':\n",
    "                    stack.append(a+b)\n",
    "                elif token == '-':\n",
    "                    stack.append(a-b)\n",
    "                elif token == '*':\n",
    "                    stack.append(a*b)\n",
    "                else:\n",
    "                    sign = 1 if (a*b>=0) else -1\n",
    "                    stack.append(abs(a) // abs(b) * sign)\n",
    "\n",
    "        return stack.pop()  \n",
    "    "
   ]
  },
  {
   "cell_type": "markdown",
   "metadata": {},
   "source": [
    "## 思路二：eval()"
   ]
  },
  {
   "cell_type": "raw",
   "metadata": {},
   "source": [
    "python 有个牛逼的函数，就是eval()，可以给它一个运算表达式，直接给你求值。中缀表达式转正常表达式很简单了，直接用栈就行。"
   ]
  },
  {
   "cell_type": "code",
   "execution_count": 2,
   "metadata": {},
   "outputs": [],
   "source": [
    "class Solution(object):\n",
    "    def evalRPN(self, tokens):\n",
    "        \"\"\"\n",
    "        :type tokens: List[str]\n",
    "        :rtype: int\n",
    "        \"\"\"\n",
    "        stack = []\n",
    "        operators = ['+', '-', '*', '/']\n",
    "        for token in tokens:\n",
    "            if token not in operators:\n",
    "                stack.append(token)\n",
    "            else:\n",
    "                b = stack.pop()\n",
    "                a = stack.pop()\n",
    "                if token == '/' and int(a) * int(b) < 0:\n",
    "                    res = eval('-' + '(' + '-' + a + '/' + b + ')')\n",
    "                else:\n",
    "                    res = eval(a + token + b)\n",
    "                stack.append(str(res))\n",
    "        return int(stack.pop())"
   ]
  }
 ],
 "metadata": {
  "kernelspec": {
   "display_name": "Python 3",
   "language": "python",
   "name": "python3"
  },
  "language_info": {
   "codemirror_mode": {
    "name": "ipython",
    "version": 3
   },
   "file_extension": ".py",
   "mimetype": "text/x-python",
   "name": "python",
   "nbconvert_exporter": "python",
   "pygments_lexer": "ipython3",
   "version": "3.7.0"
  }
 },
 "nbformat": 4,
 "nbformat_minor": 2
}
