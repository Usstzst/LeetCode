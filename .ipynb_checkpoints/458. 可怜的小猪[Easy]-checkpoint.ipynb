{
 "cells": [
  {
   "cell_type": "markdown",
   "metadata": {},
   "source": [
    "# 题目原意"
   ]
  },
  {
   "cell_type": "raw",
   "metadata": {},
   "source": [
    "有1000只水桶，其中有且只有一桶装的含有毒药，其余装的都是水。它们从外观看起来都一样。如果小猪喝了毒药，它会在15分钟内死去。\n",
    "\n",
    "问题来了，如果需要你在一小时内，弄清楚哪只水桶含有毒药，你最少需要多少只猪？\n",
    "\n",
    "回答这个问题，并为下列的进阶问题编写一个通用算法。\n",
    "\n",
    "进阶:\n",
    "\n",
    "假设有 n 只水桶，猪饮水中毒后会在 m 分钟内死亡，你需要多少猪（x）就能在 p 分钟内找出“有毒”水桶？n只水桶里有且仅有一只有毒的桶。"
   ]
  },
  {
   "cell_type": "markdown",
   "metadata": {},
   "source": [
    "## 思路一"
   ]
  },
  {
   "cell_type": "raw",
   "metadata": {},
   "source": [
    "一只猪在一个小时内最多验多少桶呢？这个猪可以喝4桶水，如果有毒就会死亡，否则说明这4桶没问题。如果只有5桶水，那么第5桶一定有问题。\n",
    "\n",
    "两只猪呢？那就是拨号键盘了，每15分钟喝一个行或者列的所有5桶水，根据两只猪死亡时间，按照拨号键盘的思路，知道了毒水在几行几列。也就是两头猪最多验出来25个桶。\n",
    "\n",
    "更多的猪，不难看出，就是一个多维的空间了，当有N只的时候，求出5^N>=1000，就能得出了N。\n"
   ]
  },
  {
   "cell_type": "code",
   "execution_count": 2,
   "metadata": {},
   "outputs": [],
   "source": [
    "class Solution(object):\n",
    "    def poorPigs(self, buckets, minutesToDie, minutesToTest):\n",
    "        \"\"\"\n",
    "        :type buckets: int\n",
    "        :type minutesToDie: int\n",
    "        :type minutesToTest: int\n",
    "        :rtype: int\n",
    "        \"\"\"\n",
    "        tests = minutesToTest / minutesToDie + 1\n",
    "        pigs = 0\n",
    "        while tests ** pigs < buckets:\n",
    "            pigs += 1\n",
    "        return pigs\n"
   ]
  }
 ],
 "metadata": {
  "kernelspec": {
   "display_name": "Python 3",
   "language": "python",
   "name": "python3"
  },
  "language_info": {
   "codemirror_mode": {
    "name": "ipython",
    "version": 3
   },
   "file_extension": ".py",
   "mimetype": "text/x-python",
   "name": "python",
   "nbconvert_exporter": "python",
   "pygments_lexer": "ipython3",
   "version": "3.7.0"
  }
 },
 "nbformat": 4,
 "nbformat_minor": 2
}
