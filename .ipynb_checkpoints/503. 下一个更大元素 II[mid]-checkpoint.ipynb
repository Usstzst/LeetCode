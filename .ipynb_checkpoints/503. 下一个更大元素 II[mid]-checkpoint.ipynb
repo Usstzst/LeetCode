{
 "cells": [
  {
   "cell_type": "markdown",
   "metadata": {},
   "source": [
    "# 题目原意"
   ]
  },
  {
   "cell_type": "raw",
   "metadata": {},
   "source": [
    "给定一个循环数组（最后一个元素的下一个元素是数组的第一个元素），输出每个元素的下一个更大元素。数字 x 的下一个更大的元素是按数组遍历顺序，这个数字之后的第一个比它更大的数，这意味着你应该循环地搜索它的下一个更大的数。如果不存在，则输出 -1。\n"
   ]
  },
  {
   "cell_type": "raw",
   "metadata": {},
   "source": [
    "示例 1:\n",
    "\n",
    "输入: [1,2,1]\n",
    "输出: [2,-1,2]\n",
    "解释: 第一个 1 的下一个更大的数是 2；\n",
    "数字 2 找不到下一个更大的数； \n",
    "第二个 1 的下一个最大的数需要循环搜索，结果也是 2。\n",
    "注意: 输入数组的长度不会超过 10000。"
   ]
  },
  {
   "cell_type": "markdown",
   "metadata": {},
   "source": [
    "## 思路一"
   ]
  },
  {
   "cell_type": "raw",
   "metadata": {},
   "source": [
    "对于循环数组的处理，将nums数组遍历两次，下标对len(nums)取模\n",
    "\n",
    "借助stack，遍历nums，如果stack为空或者nums[stack[-1]] < nums[i]，将i压入stack，表示nums[i]还未找到它的下一个greater element。当nums[stack[-1]]<nums[i]时，表示nums[i]即为nums[stack[-1]]的下一个较大元素，因此从stack中取出该索引index，将nums[i]存入ans[index]中。由于nums是循环的，因此需要将nums复制一遍。ans初始值为[-1...]，未找到较大元素的则保持-1值\n"
   ]
  },
  {
   "cell_type": "code",
   "execution_count": 1,
   "metadata": {},
   "outputs": [],
   "source": [
    "class Solution(object):\n",
    "    def nextGreaterElements(self, nums):\n",
    "        \"\"\"\n",
    "        :type nums: List[int]\n",
    "        :rtype: List[int]\n",
    "        \"\"\"\n",
    "        stack = []\n",
    "        size = len(nums)\n",
    "        ans = [-1] * size\n",
    "        for x in range(size * 2):\n",
    "            i = x % size\n",
    "            while stack and nums[stack[-1]] < nums[i]:\n",
    "                ans[stack.pop()] = nums[i]\n",
    "            stack.append(i)\n",
    "        return ans"
   ]
  }
 ],
 "metadata": {
  "kernelspec": {
   "display_name": "Python 3",
   "language": "python",
   "name": "python3"
  },
  "language_info": {
   "codemirror_mode": {
    "name": "ipython",
    "version": 3
   },
   "file_extension": ".py",
   "mimetype": "text/x-python",
   "name": "python",
   "nbconvert_exporter": "python",
   "pygments_lexer": "ipython3",
   "version": "3.7.0"
  }
 },
 "nbformat": 4,
 "nbformat_minor": 2
}
