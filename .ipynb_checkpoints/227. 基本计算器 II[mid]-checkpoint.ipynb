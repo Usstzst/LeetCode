{
 "cells": [
  {
   "cell_type": "markdown",
   "metadata": {},
   "source": [
    "# 题目原意"
   ]
  },
  {
   "cell_type": "raw",
   "metadata": {},
   "source": [
    "实现一个基本的计算器来计算一个简单的字符串表达式的值。\n",
    "\n",
    "字符串表达式仅包含非负整数，+， - ，*，/ 四种运算符和空格  。 整数除法仅保留整数部分。\n"
   ]
  },
  {
   "cell_type": "raw",
   "metadata": {},
   "source": [
    "示例 1:\n",
    "输入: \"3+2*2\"\n",
    "输出: 7\n",
    "\n",
    "示例 2:\n",
    "输入: \" 3/2 \"\n",
    "输出: 1\n",
    "\n",
    "示例 3:\n",
    "输入: \" 3+5 / 2 \"\n",
    "输出: 5\n",
    "\n",
    "说明：\n",
    "你可以假设所给定的表达式都是有效的。\n",
    "请不要使用内置的库函数 eval。"
   ]
  },
  {
   "cell_type": "markdown",
   "metadata": {},
   "source": [
    "## 思路一"
   ]
  },
  {
   "cell_type": "raw",
   "metadata": {},
   "source": [
    "用num保存上一个数字，用pre_op保存上一个操作符。当遇到新的操作符的时候，需要根据pre_op进行操作。乘除的优先级高于加减。所以有以下规则：\n",
    "\n",
    "之前的运算符是 + ，那么需要把之前的数字num进栈，然后等待下一个操作数的到来。 \n",
    "之前的运算符是-，那么需要把之前的数字求反 -num 进栈，然后等待下一个操作数的到来。 \n",
    "之前的运算符是×，那么需要立刻出栈和之前的数字相乘，重新进栈，然后等待下一个操作数的到来。 \n",
    "之前的运算符是/，那么需要立刻出栈和之前的数字相除，重新进栈，然后等待下一个操作数的到来。\n",
    "\n",
    "注意比较的都是之前的操作符和操作数，现在遇到的操作符是没有什么用的。\n",
    "\n",
    "另外，坑爹的Python地板除。。比如-3//2=2的。因此真正操作的时候如果遇到负数，需要用浮点除再取整的方式。\n"
   ]
  },
  {
   "cell_type": "code",
   "execution_count": 2,
   "metadata": {},
   "outputs": [],
   "source": [
    "class Solution:\n",
    "    def calculate(self, s):\n",
    "        \"\"\"\n",
    "        :type s: str\n",
    "        :rtype: int\n",
    "        \"\"\"\n",
    "        stack = []\n",
    "        pre_op = '+'\n",
    "        num = 0\n",
    "        for i, each in enumerate(s):\n",
    "            if each.isdigit():\n",
    "                num = 10 * num + int(each)\n",
    "            if i == len(s)-1 or each in '+-*/':\n",
    "                if pre_op == '+':\n",
    "                    stack.append(num)\n",
    "                elif pre_op == '-':\n",
    "                    stack.append(-num)\n",
    "                elif pre_op == '*':\n",
    "                    stack.append(stack.pop()*num)\n",
    "                elif pre_op == '/':\n",
    "                    top = stack.pop()\n",
    "                    if top < 0:\n",
    "                        stack.append(int(top/num))\n",
    "                    else:\n",
    "                        stack.append(top//num)\n",
    "                pre_op = each\n",
    "                num = 0\n",
    "\n",
    "        return sum(stack)\n"
   ]
  }
 ],
 "metadata": {
  "kernelspec": {
   "display_name": "Python 3",
   "language": "python",
   "name": "python3"
  },
  "language_info": {
   "codemirror_mode": {
    "name": "ipython",
    "version": 3
   },
   "file_extension": ".py",
   "mimetype": "text/x-python",
   "name": "python",
   "nbconvert_exporter": "python",
   "pygments_lexer": "ipython3",
   "version": "3.6.5"
  }
 },
 "nbformat": 4,
 "nbformat_minor": 2
}
