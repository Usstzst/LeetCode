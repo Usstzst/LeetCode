{
 "cells": [
  {
   "cell_type": "markdown",
   "metadata": {},
   "source": [
    "# 题目原意"
   ]
  },
  {
   "cell_type": "raw",
   "metadata": {},
   "source": [
    "编写一个函数，其作用是将输入的字符串反转过来。\n",
    "\n",
    "\n",
    "Example 1:\n",
    "输入: \"hello\"\n",
    "输出: \"olleh\"\n",
    "\n",
    "\n",
    "\n",
    "Example 2：\n",
    "输入: \"A man, a plan, a canal: Panama\"\n",
    "输出: \"amanaP :lanac a ,nalp a ,nam A\"\n"
   ]
  },
  {
   "cell_type": "markdown",
   "metadata": {},
   "source": [
    "## 思路一"
   ]
  },
  {
   "cell_type": "code",
   "execution_count": 2,
   "metadata": {},
   "outputs": [],
   "source": [
    "class Solution(object):\n",
    "    def reverseString(self, s):\n",
    "        \"\"\"\n",
    "        :type s: str\n",
    "        :rtype: str\n",
    "        \"\"\"\n",
    "        return s[::-1]"
   ]
  },
  {
   "cell_type": "markdown",
   "metadata": {},
   "source": [
    "## 思路二"
   ]
  },
  {
   "cell_type": "raw",
   "metadata": {},
   "source": [
    "依次交换前面和后面的字符直至中间字符，完成反转。需要注意Python不能直接修改字符串的某一位，所以需要先转成字符串数组再处理。该思路也用双指针实现。"
   ]
  },
  {
   "cell_type": "code",
   "execution_count": 3,
   "metadata": {},
   "outputs": [],
   "source": [
    "class Solution(object):\n",
    "    def reverseString(self, s):\n",
    "        \"\"\"\n",
    "        :type s: str\n",
    "        :rtype: str\n",
    "        \"\"\"\n",
    "        s = list(s)\n",
    "        for i in range(0, len(s)/2):\n",
    "            tmp = s[i]\n",
    "            s[i] = s[len(s)-i-1]\n",
    "            s[len(s)-i-1] = tmp\n",
    "        return ''.join(s)\n",
    "        "
   ]
  }
 ],
 "metadata": {
  "kernelspec": {
   "display_name": "Python 3",
   "language": "python",
   "name": "python3"
  },
  "language_info": {
   "codemirror_mode": {
    "name": "ipython",
    "version": 3
   },
   "file_extension": ".py",
   "mimetype": "text/x-python",
   "name": "python",
   "nbconvert_exporter": "python",
   "pygments_lexer": "ipython3",
   "version": "3.7.0"
  }
 },
 "nbformat": 4,
 "nbformat_minor": 2
}
