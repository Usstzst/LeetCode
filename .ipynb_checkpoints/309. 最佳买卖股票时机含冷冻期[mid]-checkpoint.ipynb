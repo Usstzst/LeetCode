{
 "cells": [
  {
   "cell_type": "markdown",
   "metadata": {},
   "source": [
    "# 题目原意"
   ]
  },
  {
   "cell_type": "raw",
   "metadata": {},
   "source": [
    "给定一个整数数组，其中第 i 个元素代表了第 i 天的股票价格 。​\n",
    "\n",
    "设计一个算法计算出最大利润。在满足以下约束条件下，你可以尽可能地完成更多的交易（多次买卖一支股票）:\n",
    "\n",
    "你不能同时参与多笔交易（你必须在再次购买前出售掉之前的股票）。\n",
    "卖出股票后，你无法在第二天买入股票 (即冷冻期为 1 天)。\n"
   ]
  },
  {
   "cell_type": "raw",
   "metadata": {},
   "source": [
    "示例:\n",
    "输入: [1,2,3,0,2]\n",
    "输出: 3 \n",
    "解释: 对应的交易状态为: [买入, 卖出, 冷冻期, 买入, 卖出]"
   ]
  },
  {
   "cell_type": "markdown",
   "metadata": {},
   "source": [
    "## 思路一"
   ]
  },
  {
   "cell_type": "raw",
   "metadata": {},
   "source": [
    "这个题和714. Best Time to Buy and Sell Stock with Transaction Fee比较像。做题方法都是使用了两个数组：\n",
    "\n",
    "cash 该天结束手里没有股票的情况下，已经获得的最大收益\n",
    "hold 该天结束手里有股票的情况下，已经获得的最大收益\n",
    "状态转移方程式这样的：\n",
    "\n",
    "cash[i]代表的是手里没有股票的收益，这种可能性是今天卖了或者啥也没干。max(昨天手里有股票的收益+今天卖股票的收益，昨天手里没有股票的收益)， 即max(sell[i - 1], hold[i - 1] + prices[i])；\n",
    "hold[i]代表的是手里有股票的收益，这种可能性是今天买了股票或者啥也没干，今天买股票必须昨天休息。所以为max(今天买股票是前天卖掉股票的收益-今天股票的价格，昨天手里有股票的收益）。即max(hold[i - 1], sell[i - 2] - prices[i])。\n",
    "\n",
    "另外需要注意的是，题目说的是昨天卖了股票的话今天不能买，对于开始的第一天，不可能有卖股票的行为，所以需要做个判断。\n"
   ]
  },
  {
   "cell_type": "code",
   "execution_count": 1,
   "metadata": {},
   "outputs": [],
   "source": [
    "class Solution:\n",
    "    def maxProfit(self, prices):\n",
    "        \"\"\"\n",
    "        :type prices: List[int]\n",
    "        :rtype: int\n",
    "        \"\"\"\n",
    "        if not prices: return 0\n",
    "        prev_sell = 0\n",
    "        curr_sell = 0\n",
    "        hold = -prices[0]\n",
    "        for i in range(1, len(prices)):\n",
    "            temp = curr_sell\n",
    "            curr_sell = max(curr_sell, hold + prices[i])\n",
    "            hold = max(hold, (prev_sell if i >= 2 else 0) - prices[i])\n",
    "            prev_sell = temp\n",
    "        return curr_sell\n"
   ]
  }
 ],
 "metadata": {
  "kernelspec": {
   "display_name": "Python 3",
   "language": "python",
   "name": "python3"
  },
  "language_info": {
   "codemirror_mode": {
    "name": "ipython",
    "version": 3
   },
   "file_extension": ".py",
   "mimetype": "text/x-python",
   "name": "python",
   "nbconvert_exporter": "python",
   "pygments_lexer": "ipython3",
   "version": "3.6.5"
  }
 },
 "nbformat": 4,
 "nbformat_minor": 2
}
