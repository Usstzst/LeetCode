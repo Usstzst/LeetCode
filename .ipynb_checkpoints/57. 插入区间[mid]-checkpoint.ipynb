{
 "cells": [
  {
   "cell_type": "markdown",
   "metadata": {},
   "source": [
    "# 题目原意"
   ]
  },
  {
   "cell_type": "raw",
   "metadata": {},
   "source": [
    "给出一个无重叠的 ，按照区间起始端点排序的区间列表。\n",
    "\n",
    "在列表中插入一个新的区间，你需要确保列表中的区间仍然有序且不重叠（如果有必要的话，可以合并区间）。\n"
   ]
  },
  {
   "cell_type": "raw",
   "metadata": {},
   "source": [
    "示例 1:\n",
    "输入: intervals = [[1,3],[6,9]], newInterval = [2,5]\n",
    "输出: [[1,5],[6,9]]\n",
    "\n",
    "示例 2:\n",
    "输入: intervals = [[1,2],[3,5],[6,7],[8,10],[12,16]], newInterval = [4,8]\n",
    "输出: [[1,2],[3,10],[12,16]]\n",
    "解释: 这是因为新的区间 [4,8] 与 [3,5],[6,7],[8,10] 重叠。"
   ]
  },
  {
   "cell_type": "markdown",
   "metadata": {},
   "source": [
    "## 思路一"
   ]
  },
  {
   "cell_type": "raw",
   "metadata": {},
   "source": [
    "以新区间为中点，left, right 分别存放在该区间左右的区间。\n",
    "if start > interval.end: right.append(interval)\n",
    "elif end < interval.start: left.append(interval)\n",
    "else: # 说明两区间有交集，则更新start，end 的值\n",
    "    start = min(start, interval.start)\n",
    "    end = max(end, interval.end)\n",
    "    \n",
    "后返回 left + [Interval(start, end)]+ right\n"
   ]
  },
  {
   "cell_type": "code",
   "execution_count": 2,
   "metadata": {},
   "outputs": [],
   "source": [
    "# Definition for an interval.\n",
    "# class Interval:\n",
    "#     def __init__(self, s=0, e=0):\n",
    "#         self.start = s\n",
    "#         self.end = e\n",
    "\n",
    "class Solution:\n",
    "    def insert(self, intervals, newInterval):\n",
    "        \"\"\"\n",
    "        :type intervals: List[Interval]\n",
    "        :type newInterval: Interval\n",
    "        :rtype: List[Interval]\n",
    "        \"\"\"\n",
    "        start = newInterval.start\n",
    "        end = newInterval.end\n",
    "        \n",
    "        left, right = [],[]\n",
    "        for interval in intervals:\n",
    "            if start > interval.end:\n",
    "                right.append(interval)\n",
    "            elif end < interval.start:\n",
    "                left.append(interval)\n",
    "            else:\n",
    "                left = min(start, interval.start)\n",
    "                right = max(end, interval.end)\n",
    "        return left + [Intervals(start, end)] + right\n",
    "\n"
   ]
  },
  {
   "cell_type": "markdown",
   "metadata": {},
   "source": [
    "## 思路二"
   ]
  },
  {
   "cell_type": "code",
   "execution_count": null,
   "metadata": {},
   "outputs": [],
   "source": [
    "# Definition for an interval.\n",
    "# class Interval:\n",
    "#     def __init__(self, s=0, e=0):\n",
    "#         self.start = s\n",
    "#         self.end = e\n",
    "\n",
    "class Solution:\n",
    "    \n",
    "    def insert(self, intervals, newInterval):\n",
    "        \n",
    "        intervals.append(newInterval)\n",
    "        intervals.sort(key = lambda x:x.start)\n",
    "        length=len(intervals)\n",
    "        res=[]\n",
    "        for i in range(length):\n",
    "            if res==[]:\n",
    "                res.append(intervals[i])\n",
    "            else:\n",
    "                size=len(res)\n",
    "                if res[size-1].start<=intervals[i].start<=res[size-1].end:\n",
    "                    res[size-1].end=max(intervals[i].end, res[size-1].end)\n",
    "                else:\n",
    "                    res.append(intervals[i])\n",
    "        return res"
   ]
  }
 ],
 "metadata": {
  "kernelspec": {
   "display_name": "Python 3",
   "language": "python",
   "name": "python3"
  },
  "language_info": {
   "codemirror_mode": {
    "name": "ipython",
    "version": 3
   },
   "file_extension": ".py",
   "mimetype": "text/x-python",
   "name": "python",
   "nbconvert_exporter": "python",
   "pygments_lexer": "ipython3",
   "version": "3.6.5"
  }
 },
 "nbformat": 4,
 "nbformat_minor": 2
}
