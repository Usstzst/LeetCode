{
 "cells": [
  {
   "cell_type": "markdown",
   "metadata": {},
   "source": [
    "# 题目原意"
   ]
  },
  {
   "cell_type": "raw",
   "metadata": {},
   "source": [
    "在一个由 'L' , 'R' 和 'X' 三个字符组成的字符串（例如\"RXXLRXRXL\"）中进行移动操作。一次移动操作指用一个\"LX\"替换一个\"XL\"，或者用一个\"XR\"替换一个\"RX\"。现给定起始字符串start和结束字符串end，请编写代码，当且仅当存在一系列移动操作使得start可以转换成end时， 返回True。\n",
    "\n"
   ]
  },
  {
   "cell_type": "raw",
   "metadata": {},
   "source": [
    "示例 :\n",
    "输入: start = \"RXXLRXRXL\", end = \"XRLXXRRLX\"\n",
    "输出: True\n",
    "解释:\n",
    "我们可以通过以下几步将start转换成end:\n",
    "RXXLRXRXL ->\n",
    "XRXLRXRXL ->\n",
    "XRLXRXRXL ->\n",
    "XRLXXRRXL ->\n",
    "XRLXXRRLX"
   ]
  },
  {
   "cell_type": "markdown",
   "metadata": {},
   "source": [
    "## 思路一"
   ]
  },
  {
   "cell_type": "raw",
   "metadata": {},
   "source": [
    "智力题， 找规律\n",
    "参考链接： https://blog.csdn.net/fuxuemingzhu/article/details/83538485"
   ]
  },
  {
   "cell_type": "code",
   "execution_count": 1,
   "metadata": {},
   "outputs": [],
   "source": [
    "class Solution(object):\n",
    "    def canTransform(self, start, end):\n",
    "        \"\"\"\n",
    "        :type start: str\n",
    "        :type end: str\n",
    "        :rtype: bool\n",
    "        \"\"\"\n",
    "        i, j = 0, 0\n",
    "        N = len(start)\n",
    "        while i < N and j < N:\n",
    "            while i < N - 1 and start[i] == 'X':\n",
    "                i += 1\n",
    "            while j < N - 1 and end[j] == 'X':\n",
    "                j += 1\n",
    "            if start[i] != end[j]:\n",
    "                return False\n",
    "            if start[i] == 'L' and i < j:\n",
    "                return False\n",
    "            if start[i] == 'R' and i > j:\n",
    "                return False\n",
    "            i += 1\n",
    "            j += 1\n",
    "        return True\n"
   ]
  }
 ],
 "metadata": {
  "kernelspec": {
   "display_name": "Python 3",
   "language": "python",
   "name": "python3"
  },
  "language_info": {
   "codemirror_mode": {
    "name": "ipython",
    "version": 3
   },
   "file_extension": ".py",
   "mimetype": "text/x-python",
   "name": "python",
   "nbconvert_exporter": "python",
   "pygments_lexer": "ipython3",
   "version": "3.6.5"
  }
 },
 "nbformat": 4,
 "nbformat_minor": 2
}
