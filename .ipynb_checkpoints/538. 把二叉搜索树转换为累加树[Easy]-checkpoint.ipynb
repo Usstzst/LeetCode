{
 "cells": [
  {
   "cell_type": "markdown",
   "metadata": {},
   "source": [
    "# 题目原意"
   ]
  },
  {
   "cell_type": "raw",
   "metadata": {},
   "source": [
    "给定一个二叉搜索树（Binary Search Tree），把它转换成为累加树（Greater Tree)，使得每个节点的值是原来的节点值加上所有大于它的节点值之和。"
   ]
  },
  {
   "cell_type": "raw",
   "metadata": {},
   "source": [
    "例如：\n",
    "\n",
    "输入: 二叉搜索树:\n",
    "              5\n",
    "            /   \\\n",
    "           2     13\n",
    "\n",
    "输出: 转换为累加树:\n",
    "             18\n",
    "            /   \\\n",
    "          20     13"
   ]
  },
  {
   "cell_type": "markdown",
   "metadata": {},
   "source": [
    "## 思路一：递归"
   ]
  },
  {
   "cell_type": "raw",
   "metadata": {},
   "source": [
    "这个题要把每个节点变为比该节点值大（包含）的所有节点之和。\n",
    "\n",
    "这个题的动机是我们应该先修改数值比较大的节点，然后修改数值比较小的节点。这样做，才能保证，我们只需要一次遍历，就把每个节点的值修改成了比它值更大的所有节点的和。\n",
    "\n",
    "BST的右子树都比该节点大，所以修改次序是右–>中–>左。用一个变量储存遍历过程中所有节点之和就得到了所有的比当前把该节点的值更大的和，然后修改为该变量的值即可。\n"
   ]
  },
  {
   "cell_type": "code",
   "execution_count": 1,
   "metadata": {},
   "outputs": [],
   "source": [
    "# Definition for a binary tree node.\n",
    "# class TreeNode(object):\n",
    "#     def __init__(self, x):\n",
    "#         self.val = x\n",
    "#         self.left = None\n",
    "#         self.right = None\n",
    "\n",
    "class Solution(object):\n",
    "    def convertBST(self, root):\n",
    "        \"\"\"\n",
    "        :type root: TreeNode\n",
    "        :rtype: TreeNode\n",
    "        \"\"\"\n",
    "        self.sum = 0\n",
    "        def afterOrder(cur):\n",
    "            if not cur:\n",
    "                return \n",
    "            afterOrder(cur.right)\n",
    "            self.sum += cur.val\n",
    "            cur.val = self.sum\n",
    "            afterOrder(cur.left)\n",
    "        afterOrder(root)\n",
    "        return root\n",
    "        "
   ]
  }
 ],
 "metadata": {
  "kernelspec": {
   "display_name": "Python 3",
   "language": "python",
   "name": "python3"
  },
  "language_info": {
   "codemirror_mode": {
    "name": "ipython",
    "version": 3
   },
   "file_extension": ".py",
   "mimetype": "text/x-python",
   "name": "python",
   "nbconvert_exporter": "python",
   "pygments_lexer": "ipython3",
   "version": "3.7.0"
  }
 },
 "nbformat": 4,
 "nbformat_minor": 2
}
