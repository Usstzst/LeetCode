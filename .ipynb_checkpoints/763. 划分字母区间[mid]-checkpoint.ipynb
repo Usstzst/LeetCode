{
 "cells": [
  {
   "cell_type": "markdown",
   "metadata": {},
   "source": [
    "# 题目原意"
   ]
  },
  {
   "cell_type": "raw",
   "metadata": {},
   "source": [
    "字符串 S 由小写字母组成。我们要把这个字符串划分为尽可能多的片段，同一个字母只会出现在其中的一个片段。返回一个表示每个字符串片段的长度的列表。\n",
    "\n",
    "示例 1:\n",
    "\n",
    "输入: S = \"ababcbacadefegdehijhklij\"\n",
    "输出: [9,7,8]\n",
    "解释:\n",
    "划分结果为 \"ababcbaca\", \"defegde\", \"hijhklij\"。\n",
    "每个字母最多出现在一个片段中。\n",
    "像 \"ababcbacadefegde\", \"hijhklij\" 的划分是错误的，因为划分的片段数较少。\n",
    "注意:\n",
    "\n",
    "S的长度在[1, 500]之间。\n",
    "S只包含小写字母'a'到'z'。"
   ]
  },
  {
   "cell_type": "markdown",
   "metadata": {},
   "source": [
    "## 思路一"
   ]
  },
  {
   "cell_type": "raw",
   "metadata": {},
   "source": [
    "题意是要对一个字符串进行尽可能多的划分，并保证每个划分中的元素不在其他划分中出现。\n",
    "\n",
    "想法比较具有技巧性。如果一段序列中每个元素在S中最右边的序号都在某个范围内，那么就可以划分成一个段。\n",
    "\n",
    "因此，使用字典保存每个元素出现的最靠右的位置。然后对字符串S进行遍历，找出最靠右的序号的最大值j。如果i和j重合了，说明已经到了这个划分的末尾了，然后进行划分。并开始计算下一个划分。\n"
   ]
  },
  {
   "cell_type": "code",
   "execution_count": 1,
   "metadata": {},
   "outputs": [],
   "source": [
    "class Solution(object):\n",
    "    def partitionLabels(self, S):\n",
    "        \"\"\"\n",
    "        :type S: str\n",
    "        :rtype: List[int]\n",
    "        \"\"\"\n",
    "        lindex = {c: i for i, c in enumerate(S)}\n",
    "        j = anchor = 0\n",
    "        ans = []\n",
    "        for i, c in enumerate(S):\n",
    "            j = max(j, lindex[c])\n",
    "            if i == j:\n",
    "                ans.append(j - anchor + 1)\n",
    "                anchor = j + 1\n",
    "        return ans\n"
   ]
  },
  {
   "cell_type": "markdown",
   "metadata": {},
   "source": [
    "## 思路二"
   ]
  },
  {
   "cell_type": "code",
   "execution_count": 2,
   "metadata": {},
   "outputs": [],
   "source": [
    "class Solution:\n",
    "    def partitionLabels(self, S):\n",
    "        ans = []\n",
    "        start, end = 0, 0\n",
    "        for i in range(len(S)):\n",
    "            end = max(end, S.rfind(S[i]))\n",
    "            if i == end:\n",
    "                ans.append(end - start + 1)\n",
    "                start = end + 1\n",
    "        return ans"
   ]
  }
 ],
 "metadata": {
  "kernelspec": {
   "display_name": "Python 3",
   "language": "python",
   "name": "python3"
  },
  "language_info": {
   "codemirror_mode": {
    "name": "ipython",
    "version": 3
   },
   "file_extension": ".py",
   "mimetype": "text/x-python",
   "name": "python",
   "nbconvert_exporter": "python",
   "pygments_lexer": "ipython3",
   "version": "3.7.0"
  }
 },
 "nbformat": 4,
 "nbformat_minor": 2
}
