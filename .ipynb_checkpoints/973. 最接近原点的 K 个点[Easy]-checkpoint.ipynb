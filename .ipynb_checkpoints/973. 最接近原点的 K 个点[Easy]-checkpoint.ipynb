{
 "cells": [
  {
   "cell_type": "markdown",
   "metadata": {},
   "source": [
    "# 题目原意"
   ]
  },
  {
   "cell_type": "raw",
   "metadata": {},
   "source": [
    "我们有一个由平面上的点组成的列表 points。需要从中找出 K 个距离原点 (0, 0) 最近的点。\n",
    "\n",
    "（这里，平面上两点之间的距离是欧几里德距离。）\n",
    "\n",
    "你可以按任何顺序返回答案。除了点坐标的顺序之外，答案确保是唯一的。"
   ]
  },
  {
   "cell_type": "raw",
   "metadata": {},
   "source": [
    "Example 1:\n",
    "输入：points = [[1,3],[-2,2]], K = 1\n",
    "输出：[[-2,2]]\n",
    "解释： \n",
    "(1, 3) 和原点之间的距离为 sqrt(10)，\n",
    "(-2, 2) 和原点之间的距离为 sqrt(8)，\n",
    "由于 sqrt(8) < sqrt(10)，(-2, 2) 离原点更近。\n",
    "我们只需要距离原点最近的 K = 1 个点，所以答案就是 [[-2,2]]。\n",
    "\n",
    "Example 2:\n",
    "输入：points = [[3,3],[5,-1],[-2,4]], K = 2\n",
    "输出：[[3,3],[-2,4]]\n",
    "（答案 [[-2,4],[3,3]] 也会被接受。）"
   ]
  },
  {
   "cell_type": "markdown",
   "metadata": {},
   "source": [
    "## 思路一： heapq"
   ]
  },
  {
   "cell_type": "raw",
   "metadata": {},
   "source": [
    "经典的TopK，这个题的做法很多，最常见的就是使用小根堆。"
   ]
  },
  {
   "cell_type": "code",
   "execution_count": 1,
   "metadata": {},
   "outputs": [],
   "source": [
    "class Solution(object):\n",
    "    def kClosest(self, points, K):\n",
    "        \"\"\"\n",
    "        :type points: List[List[int]]\n",
    "        :type K: int\n",
    "        :rtype: List[List[int]]\n",
    "        \"\"\"\n",
    "        dis = []\n",
    "        for p in points:\n",
    "            d = math.sqrt(p[0]**2 + p[1]**2)\n",
    "            dis.append((d, p))\n",
    "        heapq.heapify(dis)\n",
    "        return [d[1] for d in heapq.nsmallest(K, dis)]\n",
    "    \n",
    "\n"
   ]
  }
 ],
 "metadata": {
  "kernelspec": {
   "display_name": "Python 3",
   "language": "python",
   "name": "python3"
  },
  "language_info": {
   "codemirror_mode": {
    "name": "ipython",
    "version": 3
   },
   "file_extension": ".py",
   "mimetype": "text/x-python",
   "name": "python",
   "nbconvert_exporter": "python",
   "pygments_lexer": "ipython3",
   "version": "3.7.0"
  }
 },
 "nbformat": 4,
 "nbformat_minor": 2
}
