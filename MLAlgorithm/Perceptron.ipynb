{
 "cells": [
  {
   "cell_type": "code",
   "execution_count": 1,
   "metadata": {},
   "outputs": [
    {
     "name": "stdout",
     "output_type": "stream",
     "text": [
      "[0, 0] 0\n",
      "[3, 3] 1\n",
      "[2, 2] 0\n",
      "[1, 1] -1\n",
      "[0, 0] -2\n",
      "[3, 3] -1\n",
      "[2, 2] -2\n",
      "[1, 1] -3\n"
     ]
    }
   ],
   "source": [
    "from numpy import *  \n",
    "import operator\n",
    "import os\n",
    "\n",
    "# create a dataset which contains 3 samples with 2 classes  \n",
    "def createDataSet():  \n",
    "    # create a matrix: each row as a sample  \n",
    "    group = array([[3,3], [4,3], [1,1]])  \n",
    "    labels = [1, 1, -1] # four samples and two classes  \n",
    "    return group, labels\n",
    "\n",
    "#classify using perceptron\n",
    "def perceptronClassify(trainGroup,trainLabels):\n",
    "    global w, b\n",
    "    isFind = False  #the flag of find the best w and b\n",
    "    numSamples = trainGroup.shape[0]\n",
    "    mLenth = trainGroup.shape[1]\n",
    "    w = [0]*mLenth\n",
    "    b = 0\n",
    "    while(not isFind):\n",
    "        for i in range(numSamples):\n",
    "            if cal(trainGroup[i],trainLabels[i]) <= 0:\n",
    "                print(w,b)\n",
    "                update(trainGroup[i],trainLabels[i])\n",
    "                break    #end for loop\n",
    "            elif i == numSamples-1:\n",
    "                print(w, b)\n",
    "                isFind = True   #end while loop\n",
    "\n",
    "\n",
    "def cal(row,trainLabel):\n",
    "    global w, b\n",
    "    res = 0\n",
    "    for i in range(len(row)):\n",
    "        res += row[i] * w[i]\n",
    "    res += b\n",
    "    res *= trainLabel\n",
    "    return res\n",
    "def update(row,trainLabel):\n",
    "    global w, b\n",
    "    for i in range(len(row)):\n",
    "        w[i] += trainLabel * row[i]\n",
    "    b += trainLabel\n",
    "    \n",
    "    \n",
    "    \n",
    "if __name__ =='__main__':\n",
    "    g,l = createDataSet()\n",
    "    perceptronClassify(g,l)\n"
   ]
  }
 ],
 "metadata": {
  "kernelspec": {
   "display_name": "Python 3",
   "language": "python",
   "name": "python3"
  },
  "language_info": {
   "codemirror_mode": {
    "name": "ipython",
    "version": 3
   },
   "file_extension": ".py",
   "mimetype": "text/x-python",
   "name": "python",
   "nbconvert_exporter": "python",
   "pygments_lexer": "ipython3",
   "version": "3.7.3"
  }
 },
 "nbformat": 4,
 "nbformat_minor": 2
}
