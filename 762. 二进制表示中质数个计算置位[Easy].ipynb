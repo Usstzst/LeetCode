{
 "cells": [
  {
   "cell_type": "markdown",
   "metadata": {},
   "source": [
    "# 题目原意"
   ]
  },
  {
   "cell_type": "raw",
   "metadata": {},
   "source": [
    "给定两个整数 L 和 R ，找到闭区间 [L, R] 范围内，计算置位位数为质数的整数个数。\n",
    "\n",
    "（注意，计算置位代表二进制表示中1的个数。例如 21 的二进制表示 10101 有 3 个计算置位。还有，1 不是质数。）"
   ]
  },
  {
   "cell_type": "raw",
   "metadata": {},
   "source": [
    "Example 1:\n",
    "输入: L = 6, R = 10\n",
    "输出: 4\n",
    "解释:\n",
    "6 -> 110 (2 个计算置位，2 是质数)\n",
    "7 -> 111 (3 个计算置位，3 是质数)\n",
    "9 -> 1001 (2 个计算置位，2 是质数)\n",
    "10-> 1010 (2 个计算置位，2 是质数)\n",
    "\n",
    "\n",
    "Example 2:\n",
    "输入: L = 10, R = 15\n",
    "输出: 5\n",
    "解释:\n",
    "10 -> 1010 (2 个计算置位, 2 是质数)\n",
    "11 -> 1011 (3 个计算置位, 3 是质数)\n",
    "12 -> 1100 (2 个计算置位, 2 是质数)\n",
    "13 -> 1101 (3 个计算置位, 3 是质数)\n",
    "14 -> 1110 (3 个计算置位, 3 是质数)\n",
    "15 -> 1111 (4 个计算置位, 4 不是质数)"
   ]
  },
  {
   "cell_type": "markdown",
   "metadata": {},
   "source": [
    "## 思路一：遍历数字+质数判断"
   ]
  },
  {
   "cell_type": "raw",
   "metadata": {},
   "source": [
    "分解为以下几步：\n",
    "\n",
    "找到所有介于L 和 R之间的数的二进制表示\n",
    "判断每个二进制数表示中1的个数是否为质数\n",
    "求为质数的个数"
   ]
  },
  {
   "cell_type": "code",
   "execution_count": 1,
   "metadata": {},
   "outputs": [],
   "source": [
    "class Solution(object):\n",
    "    def countPrimeSetBits(self, L, R):\n",
    "        \"\"\"\n",
    "        :type L: int\n",
    "        :type R: int\n",
    "        :rtype: int\n",
    "        \"\"\"\n",
    "        \n",
    "        primes = [2, 3, 5, 7, 11, 13, 17, 19, 23, 29, 31]\n",
    "        res = 0\n",
    "        for num in range(L, R + 1):\n",
    "            if bin(num).count(\"1\") in primes:\n",
    "                res += 1\n",
    "        return res"
   ]
  },
  {
   "cell_type": "markdown",
   "metadata": {},
   "source": [
    "## 思路二："
   ]
  },
  {
   "cell_type": "raw",
   "metadata": {},
   "source": [
    "一个数的二进制表示最多只有32位，所以直接保存32以内的质数进行查找判断即可。空间换时间的一个思路。"
   ]
  },
  {
   "cell_type": "code",
   "execution_count": 2,
   "metadata": {},
   "outputs": [],
   "source": [
    "class Solution(object):\n",
    "    def countPrimeSetBits(self, L, R):\n",
    "        \"\"\"\n",
    "        :type L: int\n",
    "        :type R: int\n",
    "        :rtype: int\n",
    "        \"\"\"\n",
    "        primes = [2, 3, 5, 7, 11, 13, 17, 19, 23, 29, 31]\n",
    "        res = 0\n",
    "        for num in range(L, R + 1):\n",
    "            if bin(num).count(\"1\") in primes:\n",
    "                res += 1\n",
    "        return res\n"
   ]
  }
 ],
 "metadata": {
  "kernelspec": {
   "display_name": "Python 3",
   "language": "python",
   "name": "python3"
  },
  "language_info": {
   "codemirror_mode": {
    "name": "ipython",
    "version": 3
   },
   "file_extension": ".py",
   "mimetype": "text/x-python",
   "name": "python",
   "nbconvert_exporter": "python",
   "pygments_lexer": "ipython3",
   "version": "3.7.0"
  }
 },
 "nbformat": 4,
 "nbformat_minor": 2
}
