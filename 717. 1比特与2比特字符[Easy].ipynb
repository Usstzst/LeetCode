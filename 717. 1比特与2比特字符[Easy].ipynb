{
 "cells": [
  {
   "cell_type": "markdown",
   "metadata": {},
   "source": [
    "# 题目原意"
   ]
  },
  {
   "cell_type": "raw",
   "metadata": {},
   "source": [
    "有两种特殊字符。第一种字符可以用一比特0来表示。第二种字符可以用两比特(10 或 11)来表示。\n",
    "\n",
    "现给一个由若干比特组成的字符串。问最后一个字符是否必定为一个一比特字符。给定的字符串总是由0结束。\n"
   ]
  },
  {
   "cell_type": "raw",
   "metadata": {},
   "source": [
    "示例 1:\n",
    "输入: \n",
    "bits = [1, 0, 0]\n",
    "输出: True\n",
    "解释: \n",
    "唯一的编码方式是一个两比特字符和一个一比特字符。所以最后一个字符是一比特字符。\n",
    "\n",
    "示例 2:\n",
    "输入: \n",
    "bits = [1, 1, 1, 0]\n",
    "输出: False\n",
    "解释: \n",
    "唯一的编码方式是两比特字符和两比特字符。所以最后一个字符不是一比特字符。"
   ]
  },
  {
   "cell_type": "markdown",
   "metadata": {},
   "source": [
    "## 题目解析"
   ]
  },
  {
   "cell_type": "raw",
   "metadata": {},
   "source": [
    "由于有两种字符串，一种是0，一种是10或11。即一种长度是1，一种长度是2.\n",
    "所以找个指针遍历一遍，看看当前值是0还是1，是0走1步，是1走两步。最后如果能到达len-1即可"
   ]
  },
  {
   "cell_type": "markdown",
   "metadata": {},
   "source": [
    "## 思路一"
   ]
  },
  {
   "cell_type": "code",
   "execution_count": 2,
   "metadata": {},
   "outputs": [],
   "source": [
    "class Solution(object):\n",
    "    def isOneBitCharacter(self, bits):\n",
    "        \"\"\"\n",
    "        :type bits: List[int]\n",
    "        :rtype: bool\n",
    "        \"\"\"\n",
    "        pos = 0\n",
    "        while pos < len(bits)-1:\n",
    "            if bits[pos] == 1:\n",
    "                pos+= 2\n",
    "            else:\n",
    "                pos += 1\n",
    "        return pos == len(bits)-1 and bits[pos]==0\n",
    "        \n"
   ]
  },
  {
   "cell_type": "markdown",
   "metadata": {},
   "source": [
    "### 思路一精简版"
   ]
  },
  {
   "cell_type": "code",
   "execution_count": null,
   "metadata": {},
   "outputs": [],
   "source": [
    "class Solution(object):\n",
    "    def isOneBitCharacter(self, bits):\n",
    "        \"\"\"\n",
    "        :type bits: List[int]\n",
    "        :rtype: bool\n",
    "        \"\"\"\n",
    "        pos = 0\n",
    "        while pos < len(bits) - 1:\n",
    "            pos += 2 if bits[pos] == 1 else 1\n",
    "        return pos == len(bits) - 1\n"
   ]
  }
 ],
 "metadata": {
  "kernelspec": {
   "display_name": "Python 3",
   "language": "python",
   "name": "python3"
  },
  "language_info": {
   "codemirror_mode": {
    "name": "ipython",
    "version": 3
   },
   "file_extension": ".py",
   "mimetype": "text/x-python",
   "name": "python",
   "nbconvert_exporter": "python",
   "pygments_lexer": "ipython3",
   "version": "3.6.5"
  }
 },
 "nbformat": 4,
 "nbformat_minor": 2
}
