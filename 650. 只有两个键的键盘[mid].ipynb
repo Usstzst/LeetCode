{
 "cells": [
  {
   "cell_type": "markdown",
   "metadata": {},
   "source": [
    "# 题目原意"
   ]
  },
  {
   "cell_type": "raw",
   "metadata": {},
   "source": [
    "最初在一个记事本上只有一个字符 'A'。你每次可以对这个记事本进行两种操作：\n",
    "\n",
    "Copy All (复制全部) : 你可以复制这个记事本中的所有字符(部分的复制是不允许的)。\n",
    "Paste (粘贴) : 你可以粘贴你上一次复制的字符。\n",
    "给定一个数字 n 。你需要使用最少的操作次数，在记事本中打印出恰好 n 个 'A'。输出能够打印出 n 个 'A' 的最少操作次数。\n"
   ]
  },
  {
   "cell_type": "raw",
   "metadata": {},
   "source": [
    "示例 1:\n",
    "输入: 3\n",
    "输出: 3\n",
    "解释:\n",
    "最初, 我们只有一个字符 'A'。\n",
    "第 1 步, 我们使用 Copy All 操作。\n",
    "第 2 步, 我们使用 Paste 操作来获得 'AA'。\n",
    "第 3 步, 我们使用 Paste 操作来获得 'AAA'。\n",
    "\n",
    "说明:\n",
    "n 的取值范围是 [1, 1000] 。"
   ]
  },
  {
   "cell_type": "markdown",
   "metadata": {},
   "source": [
    "## 思路一"
   ]
  },
  {
   "cell_type": "raw",
   "metadata": {},
   "source": [
    "这道题可以转化成，给一个数字N，初始K=1，C=0然后只允许你有两种操作：\n",
    "\n",
    "1、K = K + C （paste） \n",
    "2 、C = K （copy all）\n",
    "\n",
    "问，如何操作可以使得最快的得到N\n",
    "\n",
    "N>1时，其实这道题就是将N分解为M个数字的乘积，且M个数字的和最小。\n",
    "\n",
    "比如：\n",
    "\n",
    "2 = 1 * 1 = 2 \n",
    "3 = 1 * 1 * 1 = 3 \n",
    "4 = 2 * 2 = 1 * 1 * 1 * 1 = 4 \n",
    "1\n",
    "2\n",
    "3\n",
    "即求最快的把一个数分解为N个质数的和。\n",
    "\n",
    "大神的解法，从小到大的去试探，尽量用小的数字去除就可以。"
   ]
  },
  {
   "cell_type": "code",
   "execution_count": 2,
   "metadata": {},
   "outputs": [],
   "source": [
    "class Solution(object):\n",
    "    def minSteps(self, n):\n",
    "        \"\"\"\n",
    "        :type n: int\n",
    "        :rtype: int\n",
    "        \"\"\"\n",
    "        res = 0\n",
    "        for i in range(2, n + 1):\n",
    "            while n % i == 0:\n",
    "                res += i\n",
    "                n /= i\n",
    "        return res\n"
   ]
  }
 ],
 "metadata": {
  "kernelspec": {
   "display_name": "Python 3",
   "language": "python",
   "name": "python3"
  },
  "language_info": {
   "codemirror_mode": {
    "name": "ipython",
    "version": 3
   },
   "file_extension": ".py",
   "mimetype": "text/x-python",
   "name": "python",
   "nbconvert_exporter": "python",
   "pygments_lexer": "ipython3",
   "version": "3.6.5"
  }
 },
 "nbformat": 4,
 "nbformat_minor": 2
}
