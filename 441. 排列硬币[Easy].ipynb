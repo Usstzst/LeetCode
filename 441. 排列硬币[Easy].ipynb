{
 "cells": [
  {
   "cell_type": "markdown",
   "metadata": {},
   "source": [
    "# 题目原意"
   ]
  },
  {
   "cell_type": "raw",
   "metadata": {},
   "source": [
    "你总共有 n 枚硬币，你需要将它们摆成一个阶梯形状，第 k 行就必须正好有 k 枚硬币。\n",
    "\n",
    "给定一个数字 n，找出可形成完整阶梯行的总行数。\n",
    "\n",
    "n 是一个非负整数，并且在32位有符号整型的范围内。"
   ]
  },
  {
   "cell_type": "raw",
   "metadata": {},
   "source": [
    "Example 1：\n",
    "n = 5\n",
    "\n",
    "硬币可排列成以下几行:\n",
    "¤\n",
    "¤ ¤\n",
    "¤ ¤\n",
    "\n",
    "因为第三行不完整，所以返回2.\n",
    "\n",
    "\n",
    "Example 2：\n",
    "\n",
    "n = 8\n",
    "\n",
    "硬币可排列成以下几行:\n",
    "¤\n",
    "¤ ¤\n",
    "¤ ¤ ¤\n",
    "¤ ¤\n",
    "\n",
    "因为第四行不完整，所以返回3."
   ]
  },
  {
   "cell_type": "markdown",
   "metadata": {},
   "source": [
    "## 思路一："
   ]
  },
  {
   "cell_type": "code",
   "execution_count": 2,
   "metadata": {},
   "outputs": [],
   "source": [
    "class Solution(object):\n",
    "    def arrangeCoins(self, n):\n",
    "        \"\"\"\n",
    "        :type n: int\n",
    "        :rtype: int\n",
    "        \"\"\"\n",
    "        i = 1\n",
    "        j = 0\n",
    "        while i <= n:\n",
    "            n -= i\n",
    "            i += 1\n",
    "            \n",
    "        return i-1"
   ]
  },
  {
   "cell_type": "markdown",
   "metadata": {},
   "source": [
    "## 思路二"
   ]
  },
  {
   "cell_type": "raw",
   "metadata": {},
   "source": [
    "等差数列前m项和:m * (m + 1) / 2\n",
    "\n",
    "在上下界l, r = [0, n]范围内二分枚举答案"
   ]
  },
  {
   "cell_type": "code",
   "execution_count": 3,
   "metadata": {},
   "outputs": [],
   "source": [
    "class Solution(object):\n",
    "    def arrangeCoins(self, n):\n",
    "        \"\"\"\n",
    "        :type n: int\n",
    "        :rtype: int\n",
    "        \"\"\"\n",
    "        l, r = 0, n\n",
    "        while l <= r:\n",
    "            m = (l + r) / 2\n",
    "            if m * (m + 1) / 2 > n:\n",
    "                r = m - 1\n",
    "            else:\n",
    "                l = m + 1\n",
    "        return r"
   ]
  },
  {
   "cell_type": "code",
   "execution_count": 4,
   "metadata": {},
   "outputs": [],
   "source": [
    "class Solution(object):\n",
    "    def arrangeCoins(self, n):\n",
    "        \"\"\"\n",
    "        :type n: int\n",
    "        :rtype: int\n",
    "        \"\"\"\n",
    "        l, r = 0, n + 1\n",
    "        while l < r:\n",
    "            m = (l + r) / 2\n",
    "            if m * (m + 1) / 2 > n:\n",
    "                r = m\n",
    "            else:\n",
    "                l = m + 1\n",
    "        return l - 1"
   ]
  },
  {
   "cell_type": "markdown",
   "metadata": {},
   "source": [
    "## 思路三："
   ]
  },
  {
   "cell_type": "raw",
   "metadata": {},
   "source": [
    "初等数学：解一元二次方程\n",
    "\n",
    "x ^ 2 + x = 2 * n\n",
    "\n",
    "x = sqrt(2 * n + 1/4) - 1/2"
   ]
  },
  {
   "cell_type": "code",
   "execution_count": 5,
   "metadata": {},
   "outputs": [],
   "source": [
    "class Solution(object):\n",
    "    def arrangeCoins(self, n):\n",
    "        \"\"\"\n",
    "        :type n: int\n",
    "        :rtype: int\n",
    "        \"\"\"\n",
    "        return int(math.sqrt(2 * n + 0.25) - 0.5)"
   ]
  }
 ],
 "metadata": {
  "kernelspec": {
   "display_name": "Python 3",
   "language": "python",
   "name": "python3"
  },
  "language_info": {
   "codemirror_mode": {
    "name": "ipython",
    "version": 3
   },
   "file_extension": ".py",
   "mimetype": "text/x-python",
   "name": "python",
   "nbconvert_exporter": "python",
   "pygments_lexer": "ipython3",
   "version": "3.6.5"
  }
 },
 "nbformat": 4,
 "nbformat_minor": 2
}
