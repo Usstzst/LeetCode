{
 "cells": [
  {
   "cell_type": "markdown",
   "metadata": {},
   "source": [
    "# 题目原意"
   ]
  },
  {
   "cell_type": "raw",
   "metadata": {},
   "source": [
    "假设Andy和Doris想在晚餐时选择一家餐厅，并且他们都有一个表示最喜爱餐厅的列表，每个餐厅的名字用字符串表示。\n",
    "\n",
    "你需要帮助他们用最少的索引和找出他们共同喜爱的餐厅。 如果答案不止一个，则输出所有答案并且不考虑顺序。 你可以假设总是存在一个答案。\n"
   ]
  },
  {
   "cell_type": "raw",
   "metadata": {},
   "source": [
    "示例 1:\n",
    "输入:\n",
    "[\"Shogun\", \"Tapioca Express\", \"Burger King\", \"KFC\"]\n",
    "[\"Piatti\", \"The Grill at Torrey Pines\", \"Hungry Hunter Steakhouse\", \"Shogun\"]\n",
    "输出: [\"Shogun\"]\n",
    "解释: 他们唯一共同喜爱的餐厅是“Shogun”。\n",
    "\n",
    "示例 2:\n",
    "输入:\n",
    "[\"Shogun\", \"Tapioca Express\", \"Burger King\", \"KFC\"]\n",
    "[\"KFC\", \"Shogun\", \"Burger King\"]\n",
    "输出: [\"Shogun\"]\n",
    "解释: 他们共同喜爱且具有最小索引和的餐厅是“Shogun”，它有最小的索引和1(0+1)。\n",
    "\n",
    "提示:\n",
    "两个列表的长度范围都在 [1, 1000]内。\n",
    "两个列表中的字符串的长度将在[1，30]的范围内。\n",
    "下标从0开始，到列表的长度减1。\n",
    "两个列表都没有重复的元素。"
   ]
  },
  {
   "cell_type": "markdown",
   "metadata": {},
   "source": [
    "## 思路一"
   ]
  },
  {
   "cell_type": "raw",
   "metadata": {},
   "source": [
    "使用字典保存两个list中的每个元素的序号，然后从字典中查找序号。\n"
   ]
  },
  {
   "cell_type": "code",
   "execution_count": 2,
   "metadata": {},
   "outputs": [],
   "source": [
    "class Solution(object):\n",
    "    def findRestaurant(self, list1, list2):\n",
    "        \"\"\"\n",
    "        :type list1: List[str]\n",
    "        :type list2: List[str]\n",
    "        :rtype: List[str]\n",
    "        \"\"\"\n",
    "        dic1 = {word:ind for ind,word in enumerate(list1)}\n",
    "        dic2 = {word:ind for ind,word in enumerate(list2)}\n",
    "        answer = []\n",
    "        smallest = 1000000\n",
    "        for word in dic1:\n",
    "            if word in dic2:\n",
    "                _sum = dic1[word] + dic2[word]\n",
    "                if smallest > _sum:\n",
    "                    smallest = _sum\n",
    "                    answer = [word]\n",
    "                elif smallest == _sum:\n",
    "                    answer.append(word)\n",
    "        return answer\n"
   ]
  }
 ],
 "metadata": {
  "kernelspec": {
   "display_name": "Python 3",
   "language": "python",
   "name": "python3"
  },
  "language_info": {
   "codemirror_mode": {
    "name": "ipython",
    "version": 3
   },
   "file_extension": ".py",
   "mimetype": "text/x-python",
   "name": "python",
   "nbconvert_exporter": "python",
   "pygments_lexer": "ipython3",
   "version": "3.6.5"
  }
 },
 "nbformat": 4,
 "nbformat_minor": 2
}
