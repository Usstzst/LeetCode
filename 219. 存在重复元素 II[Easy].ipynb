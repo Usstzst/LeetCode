{
 "cells": [
  {
   "cell_type": "markdown",
   "metadata": {},
   "source": [
    "# 题目原意"
   ]
  },
  {
   "cell_type": "raw",
   "metadata": {},
   "source": [
    "给定一个整数数组和一个整数 k，判断数组中是否存在两个不同的索引 i 和 j，使得 nums [i] = nums [j]，并且 i 和 j 的差的绝对值最大为 k。"
   ]
  },
  {
   "cell_type": "raw",
   "metadata": {},
   "source": [
    "Example 1:\n",
    "输入: nums = [1,2,3,1], k = 3\n",
    "输出: true\n",
    "\n",
    "Example 2:\n",
    "输入: nums = [1,2,3,1,2,3], k = 2\n",
    "输出: false\n"
   ]
  },
  {
   "cell_type": "markdown",
   "metadata": {},
   "source": [
    "## 思路一"
   ]
  },
  {
   "cell_type": "raw",
   "metadata": {},
   "source": [
    "1.使用字典d来存储，以数组元素为键，索引为值，遍历数组。 \n",
    "2.若nums[j]存在于字典中，则转入3，否则添加键值对d[nums[j]] = j。 \n",
    "3.进行索引值判断，若索引差值绝对值大于k，将字典d[nums[j]] = j进行更新，然后继续遍历数组返回1。若索引差值绝对值小于k，则return True。 \n",
    "4.return False。\n"
   ]
  },
  {
   "cell_type": "code",
   "execution_count": 1,
   "metadata": {},
   "outputs": [],
   "source": [
    "class Solution(object):\n",
    "    def containsNearbyDuplicate(self, nums, k):\n",
    "        \"\"\"\n",
    "        :type nums: List[int]\n",
    "        :type k: int\n",
    "        :rtype: bool\n",
    "        \"\"\"\n",
    "        d = {}\n",
    "        for i in range(len(nums)):\n",
    "            if nums[i] in d:\n",
    "                if -k <= i-d[nums[i]] <= k:\n",
    "                    return True\n",
    "                else:\n",
    "                    d[nums[i]] = i\n",
    "            d[nums[i]] = i\n",
    "        return False"
   ]
  }
 ],
 "metadata": {
  "kernelspec": {
   "display_name": "Python 3",
   "language": "python",
   "name": "python3"
  },
  "language_info": {
   "codemirror_mode": {
    "name": "ipython",
    "version": 3
   },
   "file_extension": ".py",
   "mimetype": "text/x-python",
   "name": "python",
   "nbconvert_exporter": "python",
   "pygments_lexer": "ipython3",
   "version": "3.6.5"
  }
 },
 "nbformat": 4,
 "nbformat_minor": 2
}
