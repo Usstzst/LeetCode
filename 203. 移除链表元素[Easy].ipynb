{
 "cells": [
  {
   "cell_type": "markdown",
   "metadata": {},
   "source": [
    "#  题目原意"
   ]
  },
  {
   "cell_type": "raw",
   "metadata": {},
   "source": [
    "删除链表中等于给定值 val 的所有节点。"
   ]
  },
  {
   "cell_type": "raw",
   "metadata": {},
   "source": [
    "Example：\n",
    "输入: 1->2->6->3->4->5->6, val = 6\n",
    "输出: 1->2->3->4->5"
   ]
  },
  {
   "cell_type": "markdown",
   "metadata": {},
   "source": [
    "## 思路一："
   ]
  },
  {
   "cell_type": "raw",
   "metadata": {},
   "source": [
    "遍历所有节点，同时保留每个节点的上一个节点，当遇到节点值是val时，删除该节点。为了方便操作，定义了一个伪头节点。"
   ]
  },
  {
   "cell_type": "code",
   "execution_count": 1,
   "metadata": {},
   "outputs": [],
   "source": [
    "# Definition for singly-linked list.\n",
    "# class ListNode(object):\n",
    "#     def __init__(self, x):\n",
    "#         self.val = x\n",
    "#         self.next = None\n",
    "\n",
    "class Solution(object):\n",
    "    def removeElements(self, head, val):\n",
    "        \"\"\"\n",
    "        :type head: ListNode\n",
    "        :type val: int\n",
    "        :rtype: ListNode\n",
    "        \"\"\"\n",
    "        new_head = pre = ListNode(0)\n",
    "        pre.next = head\n",
    "        while head:\n",
    "            if head.val == val:\n",
    "                pre.next = head.next\n",
    "            else:\n",
    "                pre = pre.next\n",
    "            head = head.next\n",
    "        return new_head.next\n"
   ]
  },
  {
   "cell_type": "markdown",
   "metadata": {},
   "source": [
    "## 思路二："
   ]
  },
  {
   "cell_type": "raw",
   "metadata": {},
   "source": [
    "题目没有要求不改变节点的值，那么可以定义快慢两个指针，在快指针遍历链表的时候，将不等于val值的节点的值赋给慢指针指向的节点。"
   ]
  },
  {
   "cell_type": "code",
   "execution_count": 2,
   "metadata": {},
   "outputs": [],
   "source": [
    "# Definition for singly-linked list.\n",
    "# class ListNode(object):\n",
    "#     def __init__(self, x):\n",
    "#         self.val = x\n",
    "#         self.next = None\n",
    "\n",
    "class Solution(object):\n",
    "    def removeElements(self, head, val):\n",
    "        \"\"\"\n",
    "        :type head: ListNode\n",
    "        :type val: int\n",
    "        :rtype: ListNode\n",
    "        \"\"\"\n",
    "        new_head = ListNode(0)\n",
    "        new_head.next = head\n",
    "        slow, fast = new_head, head\n",
    "        while fast:\n",
    "            if fast.val != val:\n",
    "                slow.next.val = fast.val\n",
    "                slow = slow.next\n",
    "            fast = fast.next\n",
    "        slow.next = None\n",
    "        return new_head.next\n"
   ]
  }
 ],
 "metadata": {
  "kernelspec": {
   "display_name": "Python 3",
   "language": "python",
   "name": "python3"
  },
  "language_info": {
   "codemirror_mode": {
    "name": "ipython",
    "version": 3
   },
   "file_extension": ".py",
   "mimetype": "text/x-python",
   "name": "python",
   "nbconvert_exporter": "python",
   "pygments_lexer": "ipython3",
   "version": "3.6.5"
  }
 },
 "nbformat": 4,
 "nbformat_minor": 2
}
