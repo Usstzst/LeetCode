{
 "cells": [
  {
   "cell_type": "markdown",
   "metadata": {},
   "source": [
    "# 题目原意"
   ]
  },
  {
   "cell_type": "raw",
   "metadata": {},
   "source": [
    "在本问题中, 树指的是一个连通且无环的无向图。\n",
    "\n",
    "输入一个图，该图由一个有着N个节点 (节点值不重复1, 2, ..., N) 的树及一条附加的边构成。附加的边的两个顶点包含在1到N中间，这条附加的边不属于树中已存在的边。\n",
    "\n",
    "结果图是一个以边组成的二维数组。每一个边的元素是一对[u, v] ，满足 u < v，表示连接顶点u 和v的无向图的边。\n",
    "\n",
    "返回一条可以删去的边，使得结果图是一个有着N个节点的树。如果有多个答案，则返回二维数组中最后出现的边。答案边 [u, v] 应满足相同的格式 u < v。\n",
    "\n"
   ]
  },
  {
   "cell_type": "raw",
   "metadata": {},
   "source": [
    "示例 1：\n",
    "\n",
    "输入: [[1,2], [1,3], [2,3]]\n",
    "输出: [2,3]\n",
    "解释: 给定的无向图为:\n",
    "  1\n",
    " / \\\n",
    "2 - 3\n",
    "示例 2：\n",
    "\n",
    "输入: [[1,2], [2,3], [3,4], [1,4], [1,5]]\n",
    "输出: [1,4]\n",
    "解释: 给定的无向图为:\n",
    " 5 - 1 - 2\n",
    "    |   |\n",
    "    4 - 3"
   ]
  },
  {
   "cell_type": "markdown",
   "metadata": {},
   "source": [
    "## 思路一"
   ]
  },
  {
   "cell_type": "raw",
   "metadata": {},
   "source": [
    "别人的思路， 没看懂"
   ]
  },
  {
   "cell_type": "code",
   "execution_count": 2,
   "metadata": {},
   "outputs": [],
   "source": [
    "class Solution:\n",
    "    def findRedundantConnection(self, edges):\n",
    "        \"\"\"\n",
    "        :type edges: List[List[int]]\n",
    "        :rtype: List[int]\n",
    "        \"\"\"\n",
    "        tree = [-1] * (len(edges) + 1)\n",
    "        for edge in edges:\n",
    "            a = self.findRoot(edge[0], tree)\n",
    "            b = self.findRoot(edge[1], tree)\n",
    "            if a != b:\n",
    "                tree[a] = b\n",
    "            else:\n",
    "                return edge\n",
    "\n",
    "    \n",
    "    def findRoot(self, x, tree):\n",
    "        if tree[x] == -1: return x\n",
    "        else:\n",
    "            root = self.findRoot(tree[x], tree)\n",
    "            tree[x] = root\n",
    "            return root\n",
    "    \n",
    "\n"
   ]
  }
 ],
 "metadata": {
  "kernelspec": {
   "display_name": "Python 3",
   "language": "python",
   "name": "python3"
  },
  "language_info": {
   "codemirror_mode": {
    "name": "ipython",
    "version": 3
   },
   "file_extension": ".py",
   "mimetype": "text/x-python",
   "name": "python",
   "nbconvert_exporter": "python",
   "pygments_lexer": "ipython3",
   "version": "3.7.0"
  }
 },
 "nbformat": 4,
 "nbformat_minor": 2
}
