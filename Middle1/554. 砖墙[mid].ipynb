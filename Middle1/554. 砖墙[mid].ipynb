{
 "cells": [
  {
   "cell_type": "markdown",
   "metadata": {},
   "source": [
    "# 题目原意"
   ]
  },
  {
   "cell_type": "raw",
   "metadata": {},
   "source": [
    "你的面前有一堵方形的、由多行砖块组成的砖墙。 这些砖块高度相同但是宽度不同。你现在要画一条自顶向下的、穿过最少砖块的垂线。\n",
    "\n",
    "砖墙由行的列表表示。 每一行都是一个代表从左至右每块砖的宽度的整数列表。\n",
    "\n",
    "如果你画的线只是从砖块的边缘经过，就不算穿过这块砖。你需要找出怎样画才能使这条线穿过的砖块数量最少，并且返回穿过的砖块数量。\n",
    "\n",
    "你不能沿着墙的两个垂直边缘之一画线，这样显然是没有穿过一块砖的。\n",
    "\n",
    " \n",
    "\n",
    "示例：\n",
    "\n",
    "输入: [[1,2,2,1],\n",
    "      [3,1,2],\n",
    "      [1,3,2],\n",
    "      [2,4],\n",
    "      [3,1,2],\n",
    "      [1,3,1,1]]\n",
    "\n",
    "输出: 2"
   ]
  },
  {
   "cell_type": "markdown",
   "metadata": {},
   "source": [
    "## 思路一"
   ]
  },
  {
   "cell_type": "raw",
   "metadata": {},
   "source": [
    "尽可能少的穿过砖块，也就是画一条线能经过更多的砖块之间的空隙（两头不算）。那么思路就转成了，我们要统计出所有的位置中，哪里的空隙出现的次数最多。\n",
    "\n",
    "所以，我们从上到下遍历每层，从左到右遍历每个砖块的边缘，用hashmap保存每个边缘和左边界的距离以及该位置出现的次数。那么我们只要找出某个空隙的位置出现的次数最多就好。\n",
    "\n",
    "由于是求穿过的砖块的个数，所以需要用砖块的行数减去孔隙数。\n"
   ]
  },
  {
   "cell_type": "code",
   "execution_count": 3,
   "metadata": {},
   "outputs": [],
   "source": [
    "class Solution(object):\n",
    "    def leastBricks(self, wall):\n",
    "        \"\"\"\n",
    "        :type wall: List[List[int]]\n",
    "        :rtype: int\n",
    "        \"\"\"\n",
    "        left_counter = collections.Counter()\n",
    "        count = 0\n",
    "        for row in wall:\n",
    "            left = 0\n",
    "            for i in range(len(row)-1):\n",
    "                left += row[i]\n",
    "                left_counter.update([left])\n",
    "                counter = max(count, left_counter[left])\n",
    "        return len(wall)-count\n",
    "        \n"
   ]
  }
 ],
 "metadata": {
  "kernelspec": {
   "display_name": "Python 3",
   "language": "python",
   "name": "python3"
  },
  "language_info": {
   "codemirror_mode": {
    "name": "ipython",
    "version": 3
   },
   "file_extension": ".py",
   "mimetype": "text/x-python",
   "name": "python",
   "nbconvert_exporter": "python",
   "pygments_lexer": "ipython3",
   "version": "3.6.5"
  }
 },
 "nbformat": 4,
 "nbformat_minor": 2
}
