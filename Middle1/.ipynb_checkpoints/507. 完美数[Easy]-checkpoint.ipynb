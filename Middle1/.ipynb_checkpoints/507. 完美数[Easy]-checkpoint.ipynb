{
 "cells": [
  {
   "cell_type": "markdown",
   "metadata": {},
   "source": [
    "# 题目原意"
   ]
  },
  {
   "cell_type": "raw",
   "metadata": {},
   "source": [
    "对于一个 正整数，如果它和除了它自身以外的所有正因子之和相等，我们称它为“完美数”。\n",
    "\n",
    "给定一个 正整数 n， 如果他是完美数，返回 True，否则返回 False\n",
    "\n",
    " \n",
    "\n",
    "示例：\n",
    "\n",
    "输入: 28\n",
    "输出: True\n",
    "解释: 28 = 1 + 2 + 4 + 7 + 14\n",
    " \n",
    "\n",
    "注意:\n",
    "\n",
    "输入的数字 n 不会超过 100,000,000. (1e8)"
   ]
  },
  {
   "cell_type": "markdown",
   "metadata": {},
   "source": [
    "## 思路一"
   ]
  },
  {
   "cell_type": "raw",
   "metadata": {},
   "source": [
    "测试通过，but超时"
   ]
  },
  {
   "cell_type": "code",
   "execution_count": 1,
   "metadata": {},
   "outputs": [],
   "source": [
    "class Solution(object):\n",
    "    def checkPerfectNumber(self, num):\n",
    "        \"\"\"\n",
    "        :type num: int\n",
    "        :rtype: bool\n",
    "        \"\"\"\n",
    "        res = set()\n",
    "        for i in range(1, num):\n",
    "            if num % i == 0:\n",
    "                res.add(i)\n",
    "        return sum(res)==num\n",
    "                \n",
    "    "
   ]
  },
  {
   "cell_type": "markdown",
   "metadata": {},
   "source": [
    "## 思路二"
   ]
  },
  {
   "cell_type": "code",
   "execution_count": 3,
   "metadata": {},
   "outputs": [],
   "source": [
    "class Solution(object):\n",
    "    def checkPerfectNumber(self, num):\n",
    "        \"\"\"\n",
    "        :type num: int\n",
    "        :rtype: bool\n",
    "        \"\"\"\n",
    "        if num <= 1:\n",
    "            return False\n",
    "        total = 1\n",
    "        for i in range(2, int(math.sqrt(num))+1):\n",
    "            if num % i ==0:\n",
    "                total += i + num//i\n",
    "    \n",
    "        return total == num\n"
   ]
  }
 ],
 "metadata": {
  "kernelspec": {
   "display_name": "Python 3",
   "language": "python",
   "name": "python3"
  },
  "language_info": {
   "codemirror_mode": {
    "name": "ipython",
    "version": 3
   },
   "file_extension": ".py",
   "mimetype": "text/x-python",
   "name": "python",
   "nbconvert_exporter": "python",
   "pygments_lexer": "ipython3",
   "version": "3.6.5"
  }
 },
 "nbformat": 4,
 "nbformat_minor": 2
}
