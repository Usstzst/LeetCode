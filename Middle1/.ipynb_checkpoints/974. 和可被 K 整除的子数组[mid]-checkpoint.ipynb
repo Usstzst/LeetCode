{
 "cells": [
  {
   "cell_type": "markdown",
   "metadata": {},
   "source": [
    "# 题目原意"
   ]
  },
  {
   "cell_type": "raw",
   "metadata": {},
   "source": [
    "给定一个整数数组 A，返回其中元素之和可被 K 整除的（连续、非空）子数组的数目。\n",
    "\n",
    "示例：\n",
    "输入：A = [4,5,0,-2,-3,1], K = 5\n",
    "输出：7\n",
    "\n",
    "解释：\n",
    "有 7 个子数组满足其元素之和可被 K = 5 整除：\n",
    "[4, 5, 0, -2, -3, 1], [5], [5, 0], [5, 0, -2, -3], [0], [0, -2, -3], [-2, -3]\n",
    " \n",
    "\n",
    "提示：\n",
    "1 <= A.length <= 30000\n",
    "-10000 <= A[i] <= 10000\n",
    "2 <= K <= 10000"
   ]
  },
  {
   "cell_type": "markdown",
   "metadata": {},
   "source": [
    "## 思路一"
   ]
  },
  {
   "cell_type": "raw",
   "metadata": {},
   "source": [
    "（1）可以设 P[i] = (A[0] + A[1] + ... + A[i])%K，现在仔细想一下，如果P[i] = P[j]，且j>i。是不是可以得出来子序列A[i, j] 是可以被K整除的。想想为什么？因为这两个子序列余数相同，很显然(A[0] + A[1] + ... + A[i]+... + A[j]) - (A[0] + A[1] + ... + A[i]) = A[i, j] 的差的余数一定为0，也就是整除了。\n",
    "\n",
    "（2）现在问题就简化了很多：\n",
    "\n",
    "1. 首先，要求出这些余数来，也就是P[i]。\n",
    "2. 然后把相同的余数，它们的个数统计出来。 例如，某一个余数的个数为5，是不是可以的出来，5 *(5-1)//2 = 10（任意两两配对）。\n",
    "3. 依次类推，把所有的结果求出，然后求和即可。\n"
   ]
  },
  {
   "cell_type": "code",
   "execution_count": 2,
   "metadata": {},
   "outputs": [],
   "source": [
    "class Solution:\n",
    "    def subarraysDivByK(self, a, k):\n",
    "        counts = collections.defaultdict(int)  # 用于对各个余数进行计数\n",
    "        counts[0] = 1  # 因为 0 本身就是一个，所以要先初始化\n",
    "        cur_sum = 0  # 记录当前列表的和\n",
    "        ans = 0  # 记录可被整数的子序列数\n",
    "        for num in a:\n",
    "            cur_sum += num\n",
    "            mod = cur_sum % k  # 取余\n",
    "            ans += counts[mod]  # 累计\n",
    "            counts[mod] += 1  # 计数\n",
    "        \n",
    "        return ans\n"
   ]
  },
  {
   "cell_type": "code",
   "execution_count": 4,
   "metadata": {},
   "outputs": [],
   "source": [
    "class Solution:\n",
    "    def subarraysDivByK(self, A, K):\n",
    "        \"\"\"\n",
    "        :type A: List[int]\n",
    "        :type K: int\n",
    "        :rtype: int\n",
    "        \"\"\"\n",
    "        \n",
    "        dict = collections.defaultdict(int)\n",
    "        dict[0] = 1\n",
    "        sum = 0\n",
    "        res = 0\n",
    "        for i in A:\n",
    "            sum = sum + i\n",
    "            if sum % K in dict:\n",
    "                res +=dict[sum%K]\n",
    "                dict[sum%K] += 1\n",
    "            else:\n",
    "                dict[sum % K] =1\n",
    "        return res"
   ]
  }
 ],
 "metadata": {
  "kernelspec": {
   "display_name": "Python 3",
   "language": "python",
   "name": "python3"
  },
  "language_info": {
   "codemirror_mode": {
    "name": "ipython",
    "version": 3
   },
   "file_extension": ".py",
   "mimetype": "text/x-python",
   "name": "python",
   "nbconvert_exporter": "python",
   "pygments_lexer": "ipython3",
   "version": "3.7.0"
  }
 },
 "nbformat": 4,
 "nbformat_minor": 2
}
