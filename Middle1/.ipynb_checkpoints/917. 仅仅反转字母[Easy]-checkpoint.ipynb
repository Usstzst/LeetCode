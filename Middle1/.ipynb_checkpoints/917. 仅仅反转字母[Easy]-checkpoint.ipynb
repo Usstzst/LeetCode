{
 "cells": [
  {
   "cell_type": "markdown",
   "metadata": {},
   "source": [
    "# 题目原意"
   ]
  },
  {
   "cell_type": "raw",
   "metadata": {},
   "source": [
    "给定一个字符串 S，返回 “反转后的” 字符串，其中不是字母的字符都保留在原地，而所有字母的位置发生反转。"
   ]
  },
  {
   "cell_type": "raw",
   "metadata": {},
   "source": [
    "示例 1：\n",
    "输入：\"ab-cd\"\n",
    "输出：\"dc-ba\"\n",
    "\n",
    "示例 2：\n",
    "输入：\"a-bC-dEf-ghIj\"\n",
    "输出：\"j-Ih-gfE-dCba\"\n",
    "\n",
    "示例 3：\n",
    "输入：\"Test1ng-Leet=code-Q!\"\n",
    "输出：\"Qedo1ct-eeLg=ntse-T!\"\n",
    " \n",
    "\n",
    "提示：\n",
    "S.length <= 100\n",
    "33 <= S[i].ASCIIcode <= 122 \n",
    "S 中不包含 \\ or \""
   ]
  },
  {
   "cell_type": "markdown",
   "metadata": {},
   "source": [
    "## 思路一"
   ]
  },
  {
   "cell_type": "raw",
   "metadata": {},
   "source": [
    "先把所有的字母保存下来，然后再次对字符串进行遍历，如果源字符串的某个位置是字母，那么把字母列表中最后一个元素换过来，否则就还是原来的字符。"
   ]
  },
  {
   "cell_type": "code",
   "execution_count": 1,
   "metadata": {},
   "outputs": [],
   "source": [
    "class Solution(object):\n",
    "    def reverseOnlyLetters(self, S):\n",
    "        \"\"\"\n",
    "        :type S: str\n",
    "        :rtype: str\n",
    "        \"\"\"\n",
    "        letters = []\n",
    "        N = len(S)\n",
    "        for i, s in enumerate(S):\n",
    "            if s.isalpha():\n",
    "                letters.append(s)\n",
    "        res = ''\n",
    "        for i, s in enumerate(S):\n",
    "            if s.isalpha():\n",
    "                res += letters.pop()\n",
    "            else:\n",
    "                res += s\n",
    "        return res\n"
   ]
  }
 ],
 "metadata": {
  "kernelspec": {
   "display_name": "Python 3",
   "language": "python",
   "name": "python3"
  },
  "language_info": {
   "codemirror_mode": {
    "name": "ipython",
    "version": 3
   },
   "file_extension": ".py",
   "mimetype": "text/x-python",
   "name": "python",
   "nbconvert_exporter": "python",
   "pygments_lexer": "ipython3",
   "version": "3.7.0"
  }
 },
 "nbformat": 4,
 "nbformat_minor": 2
}
