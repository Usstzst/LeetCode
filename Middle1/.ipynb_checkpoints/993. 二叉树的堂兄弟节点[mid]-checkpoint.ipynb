{
 "cells": [
  {
   "cell_type": "markdown",
   "metadata": {},
   "source": [
    "# 题目原意"
   ]
  },
  {
   "cell_type": "raw",
   "metadata": {},
   "source": [
    "在二叉树中，根节点位于深度 0 处，每个深度为 k 的节点的子节点位于深度 k+1 处。\n",
    "\n",
    "如果二叉树的两个节点深度相同，但父节点不同，则它们是一对堂兄弟节点。\n",
    "\n",
    "我们给出了具有唯一值的二叉树的根节点 root，以及树中两个不同节点的值 x 和 y。\n",
    "\n",
    "只有与值 x 和 y 对应的节点是堂兄弟节点时，才返回 true。否则，返回 false。\n",
    "\n"
   ]
  },
  {
   "cell_type": "raw",
   "metadata": {},
   "source": [
    "示例 1：\n",
    "输入：root = [1,2,3,4], x = 4, y = 3\n",
    "输出：false\n",
    "\n",
    "示例 2：\n",
    "输入：root = [1,2,3,null,4,null,5], x = 5, y = 4\n",
    "输出：true\n",
    "\n",
    "示例 3：\n",
    "输入：root = [1,2,3,null,4], x = 2, y = 3\n",
    "输出：false\n",
    " \n",
    "\n",
    "提示：\n",
    "二叉树的节点数介于 2 到 100 之间。\n",
    "每个节点的值都是唯一的、范围为 1 到 100 的整数。"
   ]
  },
  {
   "cell_type": "markdown",
   "metadata": {},
   "source": [
    "## 思路一：DFS"
   ]
  },
  {
   "cell_type": "raw",
   "metadata": {},
   "source": [
    "题目要求的判断条件有两个 1.父节点不同，2.高度相同，所以最直白的方法就是把每个节点的父节点和高度都求出来，然后判断x和y这两个节点是不是符合要求即可。\n",
    "\n",
    "这个题中每个节点的值都不会重复，所以可以直接用值当做key来存储."
   ]
  },
  {
   "cell_type": "code",
   "execution_count": 2,
   "metadata": {},
   "outputs": [],
   "source": [
    "# Definition for a binary tree node.\n",
    "# class TreeNode(object):\n",
    "#     def __init__(self, x):\n",
    "#         self.val = x\n",
    "#         self.left = None\n",
    "#         self.right = None\n",
    "\n",
    "class Solution(object):\n",
    "    def isCousins(self, root, x, y):\n",
    "        \"\"\"\n",
    "        :type root: TreeNode\n",
    "        :type x: int\n",
    "        :type y: int\n",
    "        :rtype: bool\n",
    "        \"\"\"\n",
    "        self.m = collections.defaultdict(tuple)\n",
    "        self.dfs(root, None, 0)\n",
    "        px, dx = self.m[x]\n",
    "        py, dy = self.m[y]\n",
    "        return dx == dy and px != py\n",
    "    \n",
    "    def dfs(self, root, parent, depth):\n",
    "        \n",
    "        if not root: return \n",
    "        self.m[root.val] = (parent, depth)\n",
    "        self.dfs(root.left, root, depth+1)\n",
    "        self.dfs(root.right, root, depth+1)\n",
    "        "
   ]
  }
 ],
 "metadata": {
  "kernelspec": {
   "display_name": "Python 3",
   "language": "python",
   "name": "python3"
  },
  "language_info": {
   "codemirror_mode": {
    "name": "ipython",
    "version": 3
   },
   "file_extension": ".py",
   "mimetype": "text/x-python",
   "name": "python",
   "nbconvert_exporter": "python",
   "pygments_lexer": "ipython3",
   "version": "3.6.5"
  }
 },
 "nbformat": 4,
 "nbformat_minor": 2
}
