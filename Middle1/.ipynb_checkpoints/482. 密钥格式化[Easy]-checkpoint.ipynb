{
 "cells": [
  {
   "cell_type": "markdown",
   "metadata": {},
   "source": [
    "# 题目原意"
   ]
  },
  {
   "cell_type": "raw",
   "metadata": {},
   "source": [
    "给定一个密钥字符串S，只包含字母，数字以及 '-'（破折号）。N 个 '-' 将字符串分成了 N+1 组。给定一个数字 K，重新格式化字符串，除了第一个分组以外，每个分组要包含 K 个字符，第一个分组至少要包含 1 个字符。两个分组之间用 '-'（破折号）隔开，并且将所有的小写字母转换为大写字母。\n",
    "\n",
    "给定非空字符串 S 和数字 K，按照上面描述的规则进行格式化。\n",
    " "
   ]
  },
  {
   "cell_type": "raw",
   "metadata": {},
   "source": [
    "示例 1：\n",
    "\n",
    "输入：S = \"5F3Z-2e-9-w\", K = 4\n",
    "\n",
    "输出：\"5F3Z-2E9W\"\n",
    "\n",
    "解释：字符串 S 被分成了两个部分，每部分 4 个字符；注意，两个额外的破折号需要删掉。\n",
    "\n",
    "示例 2：\n",
    "\n",
    "输入：S = \"2-5g-3-J\", K = 2\n",
    "\n",
    "输出：\"2-5G-3J\"\n",
    "\n",
    "解释：字符串 S 被分成了 3 个部分，按照前面的规则描述，第一部分的字符可以少于给定的数量，其余部分皆为 2 个字符。\n",
    " \n",
    "\n",
    "提示:\n",
    "S 的长度不超过 12,000，K 为正整数\n",
    "S 只包含字母数字（a-z，A-Z，0-9）以及破折号'-'\n",
    "S 非空"
   ]
  },
  {
   "cell_type": "markdown",
   "metadata": {},
   "source": [
    "## 思路一"
   ]
  },
  {
   "cell_type": "code",
   "execution_count": 1,
   "metadata": {},
   "outputs": [],
   "source": [
    "class Solution(object):\n",
    "    def licenseKeyFormatting(self, S, K):\n",
    "        \"\"\"\n",
    "        :type S: str\n",
    "        :type K: int\n",
    "        :rtype: str\n",
    "        \"\"\"\n",
    "        res = []\n",
    "        s = ''.join(S.split('-')).upper()\n",
    "        N = len(s)\n",
    "        if N % K != 0:\n",
    "            res.append(s[:N % K])\n",
    "        for i in range(N % K, N, K):\n",
    "            res.append(s[i:i + K])\n",
    "        return '-'.join(res)\n",
    "    "
   ]
  }
 ],
 "metadata": {
  "kernelspec": {
   "display_name": "Python 3",
   "language": "python",
   "name": "python3"
  },
  "language_info": {
   "codemirror_mode": {
    "name": "ipython",
    "version": 3
   },
   "file_extension": ".py",
   "mimetype": "text/x-python",
   "name": "python",
   "nbconvert_exporter": "python",
   "pygments_lexer": "ipython3",
   "version": "3.6.5"
  }
 },
 "nbformat": 4,
 "nbformat_minor": 2
}
