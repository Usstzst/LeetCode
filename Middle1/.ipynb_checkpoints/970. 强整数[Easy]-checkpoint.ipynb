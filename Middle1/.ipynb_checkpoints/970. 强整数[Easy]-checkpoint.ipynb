{
 "cells": [
  {
   "cell_type": "markdown",
   "metadata": {},
   "source": [
    "# 题目原意"
   ]
  },
  {
   "cell_type": "raw",
   "metadata": {},
   "source": [
    "给定两个非负整数 x 和 y，如果某一整数等于 x^i + y^j，其中整数 i >= 0 且 j >= 0，那么我们认为该整数是一个强整数。\n",
    "\n",
    "返回值小于或等于 bound 的所有强整数组成的列表。\n",
    "\n",
    "你可以按任何顺序返回答案。在你的回答中，每个值最多出现一次。"
   ]
  },
  {
   "cell_type": "raw",
   "metadata": {},
   "source": [
    "示例 1：\n",
    "输入：x = 2, y = 3, bound = 10\n",
    "输出：[2,3,4,5,7,9,10]\n",
    "解释： \n",
    "2 = 2^0 + 3^0\n",
    "3 = 2^1 + 3^0\n",
    "4 = 2^0 + 3^1\n",
    "5 = 2^1 + 3^1\n",
    "7 = 2^2 + 3^1\n",
    "9 = 2^3 + 3^0\n",
    "10 = 2^0 + 3^2\n",
    "\n",
    "示例 2：\n",
    "输入：x = 3, y = 5, bound = 15\n",
    "输出：[2,4,6,8,10,14]\n",
    "\n",
    "提示：\n",
    "1 <= x <= 100\n",
    "1 <= y <= 100\n",
    "0 <= bound <= 10^6\n"
   ]
  },
  {
   "cell_type": "markdown",
   "metadata": {},
   "source": [
    "## 思路一"
   ]
  },
  {
   "cell_type": "raw",
   "metadata": {},
   "source": [
    "对i从0开始搜索，最多搜到bound，j也是最多搜到bound，判断得到的target = x^i + y^j 是不是<=bound，是的话就放入结果中，并且对j和i进行增长。由于题目要求不能重复，所以使用了set进行去重。"
   ]
  },
  {
   "cell_type": "code",
   "execution_count": 1,
   "metadata": {},
   "outputs": [],
   "source": [
    "class Solution(object):\n",
    "    def powerfulIntegers(self, x, y, bound):\n",
    "        \"\"\"\n",
    "        :type x: int\n",
    "        :type y: int\n",
    "        :type bound: int\n",
    "        :rtype: List[int]\n",
    "        \"\"\"\n",
    "        res = set()\n",
    "        i = 0\n",
    "        while x**i<=bound and i<=bound:\n",
    "            j = 0\n",
    "            while j <=bound:\n",
    "                target = x**i + y**j\n",
    "                if target > bound:\n",
    "                    break\n",
    "                res.add(target)\n",
    "                j += 1\n",
    "            i+= 1\n",
    "        return list(res)\n",
    "        \n",
    "     "
   ]
  }
 ],
 "metadata": {
  "kernelspec": {
   "display_name": "Python 3",
   "language": "python",
   "name": "python3"
  },
  "language_info": {
   "codemirror_mode": {
    "name": "ipython",
    "version": 3
   },
   "file_extension": ".py",
   "mimetype": "text/x-python",
   "name": "python",
   "nbconvert_exporter": "python",
   "pygments_lexer": "ipython3",
   "version": "3.7.0"
  }
 },
 "nbformat": 4,
 "nbformat_minor": 2
}
