{
 "cells": [
  {
   "cell_type": "markdown",
   "metadata": {},
   "source": [
    "# 题目原意"
   ]
  },
  {
   "cell_type": "raw",
   "metadata": {},
   "source": [
    "给定一个排序链表，删除所有含有重复数字的节点，只保留原始链表中 没有重复出现 的数字。"
   ]
  },
  {
   "cell_type": "raw",
   "metadata": {},
   "source": [
    "示例 1:\n",
    "输入: 1->2->3->3->4->4->5\n",
    "输出: 1->2->5\n",
    "\n",
    "示例 2:\n",
    "输入: 1->1->1->2->3\n",
    "输出: 2->3"
   ]
  },
  {
   "cell_type": "markdown",
   "metadata": {},
   "source": [
    "## 思路一"
   ]
  },
  {
   "cell_type": "raw",
   "metadata": {},
   "source": [
    "这题的做法是用两个指针pre cur\n",
    "\n",
    "1.ans.next= head\n",
    "\n",
    "2.pre=ans,  cur=ans.next\n",
    "\n",
    "3.当指针移到 pre.next 和cur.next 不等的位置，将这个位置加入到 pre.next中去 \n",
    "\n",
    "4.否则就跳过cur"
   ]
  },
  {
   "cell_type": "code",
   "execution_count": 2,
   "metadata": {},
   "outputs": [],
   "source": [
    "# Definition for singly-linked list.\n",
    "# class ListNode(object):\n",
    "#     def __init__(self, x):\n",
    "#         self.val = x\n",
    "#         self.next = None\n",
    "\n",
    "class Solution(object):\n",
    "    def deleteDuplicates(self, head):\n",
    "        \"\"\"\n",
    "        :type head: ListNode\n",
    "        :rtype: ListNode\n",
    "        \"\"\"\n",
    "        if head == None or head.next == None:\n",
    "            return head\n",
    "        ans = ListNode(0)\n",
    "        ans.next = head\n",
    "        \n",
    "        pre = ans\n",
    "        cur = ans.next\n",
    "        \n",
    "        while cur != None:\n",
    "            while cur.next and cur.next.val == pre.next.val:\n",
    "                cur = cur.next\n",
    "            if pre.next == cur:\n",
    "                pre = pre.next\n",
    "            else:\n",
    "                pre.next = cur.next\n",
    "            cur = cur.next\n",
    "        return ans.next    "
   ]
  }
 ],
 "metadata": {
  "kernelspec": {
   "display_name": "Python 3",
   "language": "python",
   "name": "python3"
  },
  "language_info": {
   "codemirror_mode": {
    "name": "ipython",
    "version": 3
   },
   "file_extension": ".py",
   "mimetype": "text/x-python",
   "name": "python",
   "nbconvert_exporter": "python",
   "pygments_lexer": "ipython3",
   "version": "3.7.0"
  }
 },
 "nbformat": 4,
 "nbformat_minor": 2
}
