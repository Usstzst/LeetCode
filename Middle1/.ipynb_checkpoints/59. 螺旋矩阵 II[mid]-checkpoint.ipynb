{
 "cells": [
  {
   "cell_type": "markdown",
   "metadata": {},
   "source": [
    "# 题目原意"
   ]
  },
  {
   "cell_type": "raw",
   "metadata": {},
   "source": [
    "给定一个正整数 n，生成一个包含 1 到 n2 所有元素，且元素按顺时针顺序螺旋排列的正方形矩阵。"
   ]
  },
  {
   "cell_type": "raw",
   "metadata": {},
   "source": [
    "示例:\n",
    "输入: 3\n",
    "输出:\n",
    "[\n",
    " [ 1, 2, 3 ],\n",
    " [ 8, 9, 4 ],\n",
    " [ 7, 6, 5 ]\n",
    "]"
   ]
  },
  {
   "cell_type": "markdown",
   "metadata": {},
   "source": [
    "## 思路一"
   ]
  },
  {
   "cell_type": "code",
   "execution_count": 2,
   "metadata": {},
   "outputs": [],
   "source": [
    "class Solution:\n",
    "    def generateMatrix(self, n):\n",
    "        \"\"\"\n",
    "        :type n: int\n",
    "        :rtype: List[List[int]]\n",
    "        \"\"\"\n",
    "        matrix = [[0 for j in range(n)] for i in range(n)]\n",
    "        top = 0\n",
    "        bottom = n-1\n",
    "        left = 0\n",
    "        right = n-1\n",
    "        count = 1\n",
    "        while (True):\n",
    "            for i in range(left, right+1):\n",
    "                matrix[top][i] = count\n",
    "                count+= 1\n",
    "            top += 1\n",
    "            if left > right or top > bottom:\n",
    "                break\n",
    "            for i in range(top, bottom+1):\n",
    "                matrix[i][right] = count\n",
    "                count += 1\n",
    "            right -= 1\n",
    "            if left > right or top > bottom:\n",
    "                break\n",
    "            for j in range(left, right+1)[::-1]:\n",
    "                matrix[bottom][j] = count\n",
    "                count += 1\n",
    "            bottom -= 1\n",
    "            if left > right or top > bottom:\n",
    "                break\n",
    "            for i in range(top, bottom+1)[::-1]:\n",
    "                matrix[i][left] = count\n",
    "                count += 1\n",
    "            left += 1\n",
    "            if left > right or top > bottom:\n",
    "                break\n",
    "        return matrix\n",
    "\n",
    "        \n",
    "        \n",
    "  "
   ]
  }
 ],
 "metadata": {
  "kernelspec": {
   "display_name": "Python 3",
   "language": "python",
   "name": "python3"
  },
  "language_info": {
   "codemirror_mode": {
    "name": "ipython",
    "version": 3
   },
   "file_extension": ".py",
   "mimetype": "text/x-python",
   "name": "python",
   "nbconvert_exporter": "python",
   "pygments_lexer": "ipython3",
   "version": "3.7.0"
  }
 },
 "nbformat": 4,
 "nbformat_minor": 2
}
