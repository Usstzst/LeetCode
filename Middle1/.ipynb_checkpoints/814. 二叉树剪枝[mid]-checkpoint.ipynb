{
 "cells": [
  {
   "cell_type": "markdown",
   "metadata": {},
   "source": [
    "# 题目原意"
   ]
  },
  {
   "cell_type": "raw",
   "metadata": {},
   "source": [
    "给定二叉树根结点 root ，此外树的每个结点的值要么是 0，要么是 1。\n",
    "\n",
    "返回移除了所有不包含 1 的子树的原二叉树。\n",
    "\n",
    "( 节点 X 的子树为 X 本身，以及所有 X 的后代。)\n"
   ]
  },
  {
   "cell_type": "raw",
   "metadata": {},
   "source": [
    "示例1:\n",
    "输入: [1,null,0,0,1]\n",
    "输出: [1,null,0,null,1]\n",
    "\n",
    "示例2:\n",
    "输入: [1,0,1,0,0,0,1]\n",
    "输出: [1,null,1,null,1]\n",
    "\n",
    "示例3:\n",
    "输入: [1,1,0,1,1,0,1,0]\n",
    "输出: [1,1,0,1,1,null,1]\n",
    "\n",
    "\n",
    "\n",
    "说明:\n",
    "给定的二叉树最多有 100 个节点。\n",
    "每个节点的值只会为 0 或 1 。"
   ]
  },
  {
   "cell_type": "markdown",
   "metadata": {},
   "source": [
    "## 思路一"
   ]
  },
  {
   "cell_type": "code",
   "execution_count": 1,
   "metadata": {},
   "outputs": [],
   "source": [
    "# Definition for a binary tree node.\n",
    "# class TreeNode(object):\n",
    "#     def __init__(self, x):\n",
    "#         self.val = x\n",
    "#         self.left = None\n",
    "#         self.right = None\n",
    "\n",
    "class Solution(object):\n",
    "    def pruneTree(self, root):\n",
    "        \"\"\"\n",
    "        :type root: TreeNode\n",
    "        :rtype: TreeNode\n",
    "        \"\"\"\n",
    "        if not root:return \n",
    "        root.left = self.pruneTree(root.left)\n",
    "        root.right = self.pruneTree(root.right)\n",
    "        if not root.left and not root.right and root.val==0:\n",
    "            return None\n",
    "        return root\n",
    "     "
   ]
  }
 ],
 "metadata": {
  "kernelspec": {
   "display_name": "Python 3",
   "language": "python",
   "name": "python3"
  },
  "language_info": {
   "codemirror_mode": {
    "name": "ipython",
    "version": 3
   },
   "file_extension": ".py",
   "mimetype": "text/x-python",
   "name": "python",
   "nbconvert_exporter": "python",
   "pygments_lexer": "ipython3",
   "version": "3.7.0"
  }
 },
 "nbformat": 4,
 "nbformat_minor": 2
}
