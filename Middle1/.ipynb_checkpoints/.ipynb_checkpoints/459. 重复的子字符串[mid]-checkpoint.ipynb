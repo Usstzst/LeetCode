{
 "cells": [
  {
   "cell_type": "markdown",
   "metadata": {},
   "source": [
    "# 题目原意"
   ]
  },
  {
   "cell_type": "raw",
   "metadata": {},
   "source": [
    "给定一个非空的字符串，判断它是否可以由它的一个子串重复多次构成。给定的字符串只含有小写英文字母，并且长度不超过10000。"
   ]
  },
  {
   "cell_type": "raw",
   "metadata": {},
   "source": [
    "示例 1:\n",
    "输入: \"abab\"\n",
    "输出: True\n",
    "\n",
    "解释: 可由子字符串 \"ab\" 重复两次构成。\n",
    "\n",
    "示例 2:\n",
    "输入: \"aba\"\n",
    "输出: False\n",
    "\n",
    "示例 3:\n",
    "输入: \"abcabcabcabc\"\n",
    "输出: True\n",
    "\n",
    "解释: 可由子字符串 \"abc\" 重复四次构成。 (或者子字符串 \"abcabc\" 重复两次构成。)"
   ]
  },
  {
   "cell_type": "markdown",
   "metadata": {},
   "source": [
    "## 思路一"
   ]
  },
  {
   "cell_type": "raw",
   "metadata": {},
   "source": [
    "思路是这样的：\n",
    "重复的子串的长度肯定是总长度的因子。\n",
    "遍历所有的因子，从length/2开始\n",
    "如果i是length的因子，把从0到i这个substring重复length()/i倍\n",
    "看看这个重复后的串是否与原来的串相等。"
   ]
  },
  {
   "cell_type": "code",
   "execution_count": 1,
   "metadata": {},
   "outputs": [],
   "source": [
    "class Solution:\n",
    "    def repeatedSubstringPattern(self, s):\n",
    "        \"\"\"\n",
    "        :type s: str\n",
    "        :rtype: bool\n",
    "        \"\"\"\n",
    "        len_s = len(s)\n",
    "        for i in range(1, len_s // 2 + 1):\n",
    "            if len_s % i == 0:\n",
    "                sub_s = s[:i]\n",
    "                if sub_s * (len_s // i) == s:\n",
    "                    return True\n",
    "        return False\n"
   ]
  }
 ],
 "metadata": {
  "kernelspec": {
   "display_name": "Python 3",
   "language": "python",
   "name": "python3"
  },
  "language_info": {
   "codemirror_mode": {
    "name": "ipython",
    "version": 3
   },
   "file_extension": ".py",
   "mimetype": "text/x-python",
   "name": "python",
   "nbconvert_exporter": "python",
   "pygments_lexer": "ipython3",
   "version": "3.7.0"
  }
 },
 "nbformat": 4,
 "nbformat_minor": 2
}
