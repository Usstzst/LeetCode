{
 "cells": [
  {
   "cell_type": "markdown",
   "metadata": {},
   "source": [
    "# 题目原意"
   ]
  },
  {
   "cell_type": "raw",
   "metadata": {},
   "source": [
    "给定一个单链表 L：L0→L1→…→Ln-1→Ln ，\n",
    "将其重新排列后变为： L0→Ln→L1→Ln-1→L2→Ln-2→…\n",
    "\n",
    "你不能只是单纯的改变节点内部的值，而是需要实际的进行节点交换。"
   ]
  },
  {
   "cell_type": "raw",
   "metadata": {},
   "source": [
    "示例 1:\n",
    "给定链表 1->2->3->4, 重新排列为 1->4->2->3.\n",
    "\n",
    "示例 2:\n",
    "给定链表 1->2->3->4->5, 重新排列为 1->5->2->4->3."
   ]
  },
  {
   "cell_type": "markdown",
   "metadata": {},
   "source": [
    "## 思路一"
   ]
  },
  {
   "cell_type": "raw",
   "metadata": {},
   "source": [
    "先用列表存放所需节点的正确排序，后生成链表"
   ]
  },
  {
   "cell_type": "code",
   "execution_count": 2,
   "metadata": {},
   "outputs": [],
   "source": [
    "# Definition for singly-linked list.\n",
    "# class ListNode(object):\n",
    "#     def __init__(self, x):\n",
    "#         self.val = x\n",
    "#         self.next = None\n",
    " \n",
    "class Solution(object):\n",
    "    def reorderList(self, head):\n",
    "        \"\"\"\n",
    "        :type head: ListNode\n",
    "        :rtype: void Do not return anything, modify head in-place instead.\n",
    "        \"\"\"\n",
    "        if not head:\n",
    "            return head\n",
    "        tmp = []\n",
    "        while head:\n",
    "            tmp.append(head)\n",
    "            head = head.next\n",
    "        mid = len(tmp)//2+1\n",
    "        l1 = tmp[:mid]\n",
    "        l2 = tmp[mid:][::-1]\n",
    "        l3 = []\n",
    "        while l2:\n",
    "            l3.append(l1.pop(0))\n",
    "            l3.append(l2.pop(0))\n",
    "        # NOTE： 这里是当 len(tmp) 为奇数时，l1 要比 l2 多一个元素\n",
    "        l3 += l1\n",
    "        head_ = point = l3.pop(0)\n",
    "        point.next = None\n",
    "        while l3:\n",
    "            point.next = l3.pop(0)\n",
    "            point = point.next\n",
    "            point.next = None\n",
    "       "
   ]
  }
 ],
 "metadata": {
  "kernelspec": {
   "display_name": "Python 3",
   "language": "python",
   "name": "python3"
  },
  "language_info": {
   "codemirror_mode": {
    "name": "ipython",
    "version": 3
   },
   "file_extension": ".py",
   "mimetype": "text/x-python",
   "name": "python",
   "nbconvert_exporter": "python",
   "pygments_lexer": "ipython3",
   "version": "3.7.0"
  }
 },
 "nbformat": 4,
 "nbformat_minor": 2
}
