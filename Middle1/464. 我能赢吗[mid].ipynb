{
 "cells": [
  {
   "cell_type": "markdown",
   "metadata": {},
   "source": [
    "# 题目原意"
   ]
  },
  {
   "cell_type": "raw",
   "metadata": {},
   "source": [
    "在 \"100 game\" 这个游戏中，两名玩家轮流选择从 1 到 10 的任意整数，累计整数和，先使得累计整数和达到 100 的玩家，即为胜者。\n",
    "\n",
    "如果我们将游戏规则改为 “玩家不能重复使用整数” 呢？\n",
    "\n",
    "例如，两个玩家可以轮流从公共整数池中抽取从 1 到 15 的整数（不放回），直到累计整数和 >= 100。\n",
    "\n",
    "给定一个整数 maxChoosableInteger （整数池中可选择的最大数）和另一个整数 desiredTotal（累计和），判断先出手的玩家是否能稳赢（假设两位玩家游戏时都表现最佳）？\n",
    "\n",
    "你可以假设 maxChoosableInteger 不会大于 20， desiredTotal 不会大于 300。"
   ]
  },
  {
   "cell_type": "raw",
   "metadata": {},
   "source": [
    "示例：\n",
    "\n",
    "输入：\n",
    "maxChoosableInteger = 10\n",
    "desiredTotal = 11\n",
    "\n",
    "输出：\n",
    "false\n",
    "\n",
    "解释：\n",
    "无论第一个玩家选择哪个整数，他都会失败。\n",
    "第一个玩家可以选择从 1 到 10 的整数。\n",
    "如果第一个玩家选择 1，那么第二个玩家只能选择从 2 到 10 的整数。\n",
    "第二个玩家可以通过选择整数 10（那么累积和为 11 >= desiredTotal），从而取得胜利.\n",
    "同样地，第一个玩家选择任意其他整数，第二个玩家都会赢。"
   ]
  },
  {
   "cell_type": "markdown",
   "metadata": {},
   "source": [
    "## 思路一"
   ]
  },
  {
   "cell_type": "code",
   "execution_count": 1,
   "metadata": {},
   "outputs": [],
   "source": [
    "class Solution:\n",
    "    def canIWin(self, choose, total):\n",
    "\n",
    "        if choose*(choose+1)/2<total: return False\n",
    "        memo = {}\n",
    "        def dp(cur, used):\n",
    "            if used in memo:\n",
    "                return memo[used]\n",
    "            else:\n",
    "                for i in range(choose, 0, -1):\n",
    "                    if not used&(1<<i):\n",
    "                        if cur+i>=total: \n",
    "                            memo[used] = True\n",
    "                            return True\n",
    "                        if not dp(cur+i, used|(1<<i)): \n",
    "                            memo[used] = True\n",
    "                            return True\n",
    "                memo[used] = False\n",
    "                return False\n",
    "        return dp(0, 0)"
   ]
  }
 ],
 "metadata": {
  "kernelspec": {
   "display_name": "Python 3",
   "language": "python",
   "name": "python3"
  },
  "language_info": {
   "codemirror_mode": {
    "name": "ipython",
    "version": 3
   },
   "file_extension": ".py",
   "mimetype": "text/x-python",
   "name": "python",
   "nbconvert_exporter": "python",
   "pygments_lexer": "ipython3",
   "version": "3.6.5"
  }
 },
 "nbformat": 4,
 "nbformat_minor": 2
}
