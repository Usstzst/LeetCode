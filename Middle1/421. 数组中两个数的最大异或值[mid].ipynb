{
 "cells": [
  {
   "cell_type": "markdown",
   "metadata": {},
   "source": [
    "# 题目原意"
   ]
  },
  {
   "cell_type": "raw",
   "metadata": {},
   "source": [
    "给定一个非空数组，数组中元素为 a0, a1, a2, … , an-1，其中 0 ≤ ai < 231 。\n",
    "\n",
    "找到 ai 和aj 最大的异或 (XOR) 运算结果，其中0 ≤ i,  j < n 。\n",
    "\n",
    "你能在O(n)的时间解决这个问题吗？\n"
   ]
  },
  {
   "cell_type": "raw",
   "metadata": {},
   "source": [
    "示例:\n",
    "\n",
    "输入: [3, 10, 5, 25, 2, 8]\n",
    "\n",
    "输出: 28\n",
    "\n",
    "解释: 最大的结果是 5 ^ 25 = 28."
   ]
  },
  {
   "cell_type": "markdown",
   "metadata": {},
   "source": [
    "## 思路一"
   ]
  },
  {
   "cell_type": "raw",
   "metadata": {},
   "source": [
    "别人的思路， 不太懂，先收藏"
   ]
  },
  {
   "cell_type": "code",
   "execution_count": 1,
   "metadata": {},
   "outputs": [],
   "source": [
    "class Solution(object):\n",
    "    def findMaximumXOR(self, nums):\n",
    "        \"\"\"\n",
    "        :type nums: List[int]\n",
    "        :rtype: int\n",
    "        \"\"\"\n",
    "        ans = mask = 0\n",
    "        for x in range(31, -1, -1):\n",
    "            mask += 1 << x\n",
    "            prefixSet = set([n & mask for n in nums])\n",
    "            tmp = ans | 1 << x\n",
    "            for prefix in prefixSet:\n",
    "                if tmp ^ prefix in prefixSet:\n",
    "                    ans = tmp\n",
    "                    break\n",
    "        return ans\n"
   ]
  }
 ],
 "metadata": {
  "kernelspec": {
   "display_name": "Python 3",
   "language": "python",
   "name": "python3"
  },
  "language_info": {
   "codemirror_mode": {
    "name": "ipython",
    "version": 3
   },
   "file_extension": ".py",
   "mimetype": "text/x-python",
   "name": "python",
   "nbconvert_exporter": "python",
   "pygments_lexer": "ipython3",
   "version": "3.7.0"
  }
 },
 "nbformat": 4,
 "nbformat_minor": 2
}
