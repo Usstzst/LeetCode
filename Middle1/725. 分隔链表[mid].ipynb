{
 "cells": [
  {
   "cell_type": "markdown",
   "metadata": {},
   "source": [
    "# 题目原意"
   ]
  },
  {
   "cell_type": "raw",
   "metadata": {},
   "source": [
    "给定一个头结点为 root 的链表, 编写一个函数以将链表分隔为 k 个连续的部分。\n",
    "\n",
    "每部分的长度应该尽可能的相等: 任意两部分的长度差距不能超过 1，也就是说可能有些部分为 null。\n",
    "\n",
    "这k个部分应该按照在链表中出现的顺序进行输出，并且排在前面的部分的长度应该大于或等于后面的长度。\n",
    "\n",
    "返回一个符合上述规则的链表的列表。\n",
    "\n",
    "举例： 1->2->3->4, k = 5 // 5 结果 [ [1], [2], [3], [4], null ]"
   ]
  },
  {
   "cell_type": "raw",
   "metadata": {},
   "source": [
    "示例 1：\n",
    "输入: \n",
    "root = [1, 2, 3], k = 5\n",
    "输出: [[1],[2],[3],[],[]]\n",
    "解释:\n",
    "输入输出各部分都应该是链表，而不是数组。\n",
    "例如, 输入的结点 root 的 val= 1, root.next.val = 2, \\root.next.next.val = 3, 且 root.next.next.next = null。\n",
    "第一个输出 output[0] 是 output[0].val = 1, output[0].next = null。\n",
    "最后一个元素 output[4] 为 null, 它代表了最后一个部分为空链表。\n",
    "\n",
    "示例 2：\n",
    "输入: \n",
    "root = [1, 2, 3, 4, 5, 6, 7, 8, 9, 10], k = 3\n",
    "输出: [[1, 2, 3, 4], [5, 6, 7], [8, 9, 10]]\n",
    "解释:\n",
    "输入被分成了几个连续的部分，并且每部分的长度相差不超过1.前面部分的长度大于等于后面部分的长度。"
   ]
  },
  {
   "cell_type": "markdown",
   "metadata": {},
   "source": [
    "## 思路一"
   ]
  },
  {
   "cell_type": "raw",
   "metadata": {},
   "source": [
    "思路：\n",
    "1、第一次遍历单链表，求出链表的长度length；\n",
    "2、求出平均分成的k个链表中，每个的结点avg，以及还多余的结点rem；\n",
    "3、第二次遍历输入链表，如果达到avg，且rem存在值，则把本次遍历的结果赋值给结果数组；"
   ]
  },
  {
   "cell_type": "code",
   "execution_count": 1,
   "metadata": {},
   "outputs": [],
   "source": [
    "# Definition for singly-linked list.\n",
    "# class ListNode(object):\n",
    "#     def __init__(self, x):\n",
    "#         self.val = x\n",
    "#         self.next = None\n",
    "\n",
    "class Solution(object):\n",
    "    def splitListToParts(self, root, k):\n",
    "        \"\"\"\n",
    "        :type root: ListNode\n",
    "        :type k: int\n",
    "        :rtype: List[ListNode]\n",
    "        \"\"\"\n",
    "\n",
    "        ret = [None] * k  # 结果\n",
    "        length, move = 0, root\n",
    "        while move:\n",
    "            length += 1\n",
    "            move = move.next\n",
    "        avg, rem = length / k, length % k\n",
    "        move, indexs = root, 0  # 结果数组索引\n",
    "        while move:\n",
    "            tmp = move\n",
    "            pre = ListNode(0)  # 当前结点的前一个结点\n",
    "            pre.next = move\n",
    "            num = 0\n",
    "            while num < avg:  # 平均分给每个k的结点数目\n",
    "                pre, move = pre.next, move.next\n",
    "                num += 1\n",
    "            if rem:  # 平分之后还应该分给前rem个链表每个一个结点\n",
    "                pre, move = pre.next, move.next\n",
    "                rem -= 1\n",
    "            pre.next = None\n",
    "            ret[indexs] = tmp\n",
    "            indexs += 1\n",
    "        return ret"
   ]
  }
 ],
 "metadata": {
  "kernelspec": {
   "display_name": "Python 3",
   "language": "python",
   "name": "python3"
  },
  "language_info": {
   "codemirror_mode": {
    "name": "ipython",
    "version": 3
   },
   "file_extension": ".py",
   "mimetype": "text/x-python",
   "name": "python",
   "nbconvert_exporter": "python",
   "pygments_lexer": "ipython3",
   "version": "3.7.0"
  }
 },
 "nbformat": 4,
 "nbformat_minor": 2
}
