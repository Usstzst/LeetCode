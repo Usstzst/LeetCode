{
 "cells": [
  {
   "cell_type": "markdown",
   "metadata": {},
   "source": [
    "# 题目原意\n"
   ]
  },
  {
   "cell_type": "raw",
   "metadata": {},
   "source": [
    "初始时有 n 个灯泡关闭。 第 1 轮，你打开所有的灯泡。 第 2 轮，每两个灯泡你关闭一次。 第 3 轮，每三个灯泡切换一次开关（如果关闭则开启，如果开启则关闭）。第 i 轮，每 i 个灯泡切换一次开关。 对于第 n 轮，你只切换最后一个灯泡的开关。 找出 n 轮后有多少个亮着的灯泡。\n",
    "\n",
    "示例:\n",
    "输入: 3\n",
    "输出: 1 \n",
    "解释: \n",
    "初始时, 灯泡状态 [关闭, 关闭, 关闭].\n",
    "第一轮后, 灯泡状态 [开启, 开启, 开启].\n",
    "第二轮后, 灯泡状态 [开启, 关闭, 开启].\n",
    "第三轮后, 灯泡状态 [开启, 关闭, 关闭]. \n",
    "\n",
    "你应该返回 1，因为只有一个灯泡还亮着。"
   ]
  },
  {
   "cell_type": "markdown",
   "metadata": {},
   "source": [
    "## 思路一"
   ]
  },
  {
   "cell_type": "raw",
   "metadata": {},
   "source": [
    "n个灯泡，起始状态是灭的，需要按照1的倍数，2的倍数，3的倍数……的位置打开关闭n次，求最后亮了几个。\n",
    "经过总结，发现该问题实质就是求对n开平方并取整。\n",
    "分析参考：https://blog.csdn.net/baidu_23318869/article/details/50386323"
   ]
  },
  {
   "cell_type": "code",
   "execution_count": 1,
   "metadata": {},
   "outputs": [],
   "source": [
    "class Solution(object):\n",
    "    def bulbSwitch(self, n):\n",
    "        \"\"\"\n",
    "        :type n: int\n",
    "        :rtype: int\n",
    "        \"\"\"\n",
    "        return int(math.sqrt(n))"
   ]
  }
 ],
 "metadata": {
  "kernelspec": {
   "display_name": "Python 3",
   "language": "python",
   "name": "python3"
  },
  "language_info": {
   "codemirror_mode": {
    "name": "ipython",
    "version": 3
   },
   "file_extension": ".py",
   "mimetype": "text/x-python",
   "name": "python",
   "nbconvert_exporter": "python",
   "pygments_lexer": "ipython3",
   "version": "3.6.5"
  }
 },
 "nbformat": 4,
 "nbformat_minor": 2
}
