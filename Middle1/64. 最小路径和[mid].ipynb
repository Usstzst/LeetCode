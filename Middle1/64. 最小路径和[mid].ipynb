{
 "cells": [
  {
   "cell_type": "markdown",
   "metadata": {},
   "source": [
    "# 题目原意"
   ]
  },
  {
   "cell_type": "raw",
   "metadata": {},
   "source": [
    "给定一个包含非负整数的 m x n 网格，请找出一条从左上角到右下角的路径，使得路径上的数字总和为最小。\n",
    "\n",
    "说明：每次只能向下或者向右移动一步。\n"
   ]
  },
  {
   "cell_type": "raw",
   "metadata": {},
   "source": [
    "示例:\n",
    "输入:\n",
    "[\n",
    "  [1,3,1],\n",
    "  [1,5,1],\n",
    "  [4,2,1]\n",
    "]\n",
    "输出: 7\n",
    "解释: 因为路径 1→3→1→1→1 的总和最小。"
   ]
  },
  {
   "cell_type": "markdown",
   "metadata": {},
   "source": [
    "## 思路一"
   ]
  },
  {
   "cell_type": "raw",
   "metadata": {},
   "source": [
    "使用DP创建了一个path数组，和grid数组是一样的。path代表了从左上角开始到某个点的最短路径。那么很容易知道，新的一个点的最短路径一定等于其上方、左方最短路径+当前的值。因此写成双重循环即可。因为要用到上方、左方的值，数组第一行和第一列会超出边框，其实只需要把这个方向设为前面的那个路径值即可。\n",
    "\n",
    "这个算法的时间啊复杂度是O(m * n)，空间复杂度是O(m * n)。\n"
   ]
  },
  {
   "cell_type": "code",
   "execution_count": 2,
   "metadata": {},
   "outputs": [],
   "source": [
    "class Solution:\n",
    "    def minPathSum(self, grid):\n",
    "        \"\"\"\n",
    "        :type grid: List[List[int]]\n",
    "        :rtype: int\n",
    "        \"\"\"\n",
    "        if not grid or not grid[0]: return 0\n",
    "        m, n = len(grid), len(grid[0])\n",
    "        path = copy.deepcopy(grid)\n",
    "        for i in range(m):\n",
    "            for j in range(n):\n",
    "                if i == 0 and j == 0 :\n",
    "                    before = 0\n",
    "                elif i == 0:\n",
    "                    before = path[i][j-1]\n",
    "                elif j == 0:\n",
    "                    before = path[i-1][j]\n",
    "                else:\n",
    "                    before = min(path[i-1][j], path[i][j-1])\n",
    "                path[i][j] = before + grid[i][j]\n",
    "        return path[m-1][n-1]\n",
    "        \n"
   ]
  }
 ],
 "metadata": {
  "kernelspec": {
   "display_name": "Python 3",
   "language": "python",
   "name": "python3"
  },
  "language_info": {
   "codemirror_mode": {
    "name": "ipython",
    "version": 3
   },
   "file_extension": ".py",
   "mimetype": "text/x-python",
   "name": "python",
   "nbconvert_exporter": "python",
   "pygments_lexer": "ipython3",
   "version": "3.7.0"
  }
 },
 "nbformat": 4,
 "nbformat_minor": 2
}
