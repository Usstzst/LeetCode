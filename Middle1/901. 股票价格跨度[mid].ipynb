{
 "cells": [
  {
   "cell_type": "markdown",
   "metadata": {},
   "source": [
    "# 题目原意"
   ]
  },
  {
   "cell_type": "raw",
   "metadata": {},
   "source": [
    "编写一个 StockSpanner 类，它收集某些股票的每日报价，并返回该股票当日价格的跨度。\n",
    "\n",
    "今天股票价格的跨度被定义为股票价格小于或等于今天价格的最大连续日数（从今天开始往回数，包括今天）。\n",
    "\n",
    "例如，如果未来7天股票的价格是 [100, 80, 60, 70, 60, 75, 85]，那么股票跨度将是 [1, 1, 1, 2, 1, 4, 6]。\n",
    "\n",
    " \n",
    "\n",
    "示例：\n",
    "\n",
    "输入：[\"StockSpanner\",\"next\",\"next\",\"next\",\"next\",\"next\",\"next\",\"next\"], [[],[100],[80],[60],[70],[60],[75],[85]]\n",
    "输出：[null,1,1,1,2,1,4,6]\n",
    "解释：\n",
    "首先，初始化 S = StockSpanner()，然后：\n",
    "S.next(100) 被调用并返回 1，\n",
    "S.next(80) 被调用并返回 1，\n",
    "S.next(60) 被调用并返回 1，\n",
    "S.next(70) 被调用并返回 2，\n",
    "S.next(60) 被调用并返回 1，\n",
    "S.next(75) 被调用并返回 4，\n",
    "S.next(85) 被调用并返回 6。\n",
    "\n",
    "注意 (例如) S.next(75) 返回 4，因为截至今天的最后 4 个价格\n",
    "(包括今天的价格 75) 小于或等于今天的价格。"
   ]
  },
  {
   "cell_type": "raw",
   "metadata": {},
   "source": [
    "提示：\n",
    "\n",
    "调用 StockSpanner.next(int price) 时，将有 1 <= price <= 10^5。\n",
    "每个测试用例最多可以调用  10000 次 StockSpanner.next。\n",
    "在所有测试用例中，最多调用 150000 次 StockSpanner.next。\n",
    "此问题的总时间限制减少了 50%。"
   ]
  },
  {
   "cell_type": "markdown",
   "metadata": {},
   "source": [
    "## 思路一"
   ]
  },
  {
   "cell_type": "code",
   "execution_count": 1,
   "metadata": {},
   "outputs": [],
   "source": [
    "class StockSpanner(object):\n",
    "\n",
    "    def __init__(self):\n",
    "        self.a = []\n",
    "\n",
    "    def next(self, price):\n",
    "        \"\"\"\n",
    "        :type price: int\n",
    "        :rtype: int\n",
    "        \"\"\"\n",
    "        res = 1\n",
    "        while self.a and self.a[-1][0] <= price:\n",
    "            res += self.a.pop()[1]\n",
    "        self.a.append((price, res))\n",
    "        return res\n",
    "        \n",
    "# Your StockSpanner object will be instantiated and called as such:\n",
    "# obj = StockSpanner()\n",
    "# param_1 = obj.next(price)\n"
   ]
  }
 ],
 "metadata": {
  "kernelspec": {
   "display_name": "Python 3",
   "language": "python",
   "name": "python3"
  },
  "language_info": {
   "codemirror_mode": {
    "name": "ipython",
    "version": 3
   },
   "file_extension": ".py",
   "mimetype": "text/x-python",
   "name": "python",
   "nbconvert_exporter": "python",
   "pygments_lexer": "ipython3",
   "version": "3.6.5"
  }
 },
 "nbformat": 4,
 "nbformat_minor": 2
}
