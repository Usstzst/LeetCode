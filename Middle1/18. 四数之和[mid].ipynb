{
 "cells": [
  {
   "cell_type": "markdown",
   "metadata": {},
   "source": [
    "# 题目原意"
   ]
  },
  {
   "cell_type": "raw",
   "metadata": {},
   "source": [
    "给定一个包含 n 个整数的数组 nums 和一个目标值 target，判断 nums 中是否存在四个元素 a，b，c 和 d ，使得 a + b + c + d 的值与 target 相等？找出所有满足条件且不重复的四元组。\n",
    "\n",
    "注意：\n",
    "\n",
    "答案中不可以包含重复的四元组。\n"
   ]
  },
  {
   "cell_type": "raw",
   "metadata": {},
   "source": [
    "示例：\n",
    "\n",
    "给定数组 nums = [1, 0, -1, 0, -2, 2]，和 target = 0。\n",
    "\n",
    "满足要求的四元组集合为：\n",
    "[\n",
    "  [-1,  0, 0, 1],\n",
    "  [-2, -1, 1, 2],\n",
    "  [-2,  0, 0, 2]\n",
    "]"
   ]
  },
  {
   "cell_type": "markdown",
   "metadata": {},
   "source": [
    "## 思路一"
   ]
  },
  {
   "cell_type": "raw",
   "metadata": {},
   "source": [
    "需要用到哈希表的思路，这样可以空间换时间，以增加空间复杂度的代价来降低时间复杂度。\n",
    "\n",
    "首先建立一个字典dict，字典的key值为数组中每两个元素的和，每个key对应的value为这两个元素的下标组成的元组，元组不一定是唯一的。\n",
    "\n",
    "如对于num=[1,2,3,2]来说，dict={3:[(0,1),(0,3)], 4:[(0,2),(1,3)], 5:[(1,2),(2,3)]}。\n",
    "这样就可以检查target-key这个值在不在dict的key值中，如果target-key在dict中并且下标符合要求，那么就找到了这样的一组解。\n",
    "\n",
    "由于需要去重，这里选用set()类型的数据结构，即无序无重复元素集。最后将每个找出来的解(set()类型)转换成list类型输出即可。"
   ]
  },
  {
   "cell_type": "code",
   "execution_count": 1,
   "metadata": {},
   "outputs": [],
   "source": [
    "class Solution:\n",
    "    # @return a list of lists of length 4, [[val1,val2,val3,val4]]\n",
    "    def fourSum(self, num, target):\n",
    "        \n",
    "        numLen, res, dict = len(num), set(), {}\n",
    "        if numLen<4: return []\n",
    "        num.sort()\n",
    "        for p in range(numLen):\n",
    "            for q in range(p+1, numLen):\n",
    "                if num[p]+num[q] not in dict:\n",
    "                    dict[num[p]+num[q]] = [(p, q)]\n",
    "                else:\n",
    "                    dict[num[p]+num[q]].append((p, q))\n",
    "        for i in range(numLen):\n",
    "            for j in range(i+1, numLen-2):\n",
    "                T = target-num[i]-num[j]\n",
    "                if T in dict:\n",
    "                    for k in dict[T]:\n",
    "                        # 这里是为了避免四个数相同\n",
    "                        if k[0]>j:\n",
    "                            res.add((num[i], num[j],num[k[0]], num[k[1]]))\n",
    "        \n",
    "        return [list(i) for i in res]\n",
    "        \n"
   ]
  }
 ],
 "metadata": {
  "kernelspec": {
   "display_name": "Python 3",
   "language": "python",
   "name": "python3"
  },
  "language_info": {
   "codemirror_mode": {
    "name": "ipython",
    "version": 3
   },
   "file_extension": ".py",
   "mimetype": "text/x-python",
   "name": "python",
   "nbconvert_exporter": "python",
   "pygments_lexer": "ipython3",
   "version": "3.6.5"
  }
 },
 "nbformat": 4,
 "nbformat_minor": 2
}
