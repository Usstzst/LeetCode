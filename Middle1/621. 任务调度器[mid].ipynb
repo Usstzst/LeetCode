{
 "cells": [
  {
   "cell_type": "markdown",
   "metadata": {},
   "source": [
    "# 题目原意"
   ]
  },
  {
   "cell_type": "raw",
   "metadata": {},
   "source": [
    "给定一个用字符数组表示的 CPU 需要执行的任务列表。其中包含使用大写的 A - Z 字母表示的26 种不同种类的任务。任务可以以任意顺序执行，并且每个任务都可以在 1 个单位时间内执行完。CPU 在任何一个单位时间内都可以执行一个任务，或者在待命状态。\n",
    "\n",
    "然而，两个相同种类的任务之间必须有长度为 n 的冷却时间，因此至少有连续 n 个单位时间内 CPU 在执行不同的任务，或者在待命状态。\n",
    "\n",
    "你需要计算完成所有任务所需要的最短时间。\n"
   ]
  },
  {
   "cell_type": "raw",
   "metadata": {},
   "source": [
    "示例 1：\n",
    "输入: tasks = [\"A\",\"A\",\"A\",\"B\",\"B\",\"B\"], n = 2\n",
    "输出: 8\n",
    "执行顺序: A -> B -> (待命) -> A -> B -> (待命) -> A -> B.\n",
    "注：\n",
    "\n",
    "任务的总个数为 [1, 10000]。\n",
    "n 的取值范围为 [0, 100]。"
   ]
  },
  {
   "cell_type": "markdown",
   "metadata": {},
   "source": [
    "## 思路一"
   ]
  },
  {
   "cell_type": "raw",
   "metadata": {},
   "source": [
    "单个CPU做调度其实很简单。只要知道出现最多的那个（或几个）task就行了，其他的任务往缝隙里面塞。\n",
    "\n",
    "比如：\n",
    "\n",
    "如给定：AAABBCD，n=2。那么我们满足个数最多的任务所需的数量，即可以满足任务间隔要求，即：AXXAXXA；（其中，X表示需要填充任务或者idle的间隔）\n",
    "如果有两种或两种以上的任务具有相同的最多的任务数，如：AAAABBBBCCDE，n=3。那么我们将具有相同个数的任务A和B视为一个任务对，最终满足要求的分配为：ABXXABXXABXXAB，剩余的任务在不违背要求间隔的情况下穿插进间隔位置即可，空缺位置补idle。\n",
    "由上面的分析我们可以得到最终需要最少的任务时间：（最多任务数-1）*（n + 1） + （相同最多任务的任务个数）。\n",
    "有上面的例子来说就是：(num(A)-1) * (3+1) + (2)。\n",
    "\n",
    "其中，（最多任务数-1）*（n + 1）代表的是ABXXABXXABXX，（相同最多任务的任务个数）代表的是最后的AB.\n",
    "\n",
    "最后，别忘了要对任务数求最大值，毕竟每个任务都是要调度一遍的。\n"
   ]
  },
  {
   "cell_type": "code",
   "execution_count": 1,
   "metadata": {},
   "outputs": [],
   "source": [
    "class Solution(object):\n",
    "    def leastInterval(self, tasks, n):\n",
    "        \"\"\"\n",
    "        :type tasks: List[str]\n",
    "        :type n: int\n",
    "        :rtype: int\n",
    "        \"\"\"\n",
    "        count = collections.Counter(tasks)\n",
    "        most = count.most_common()[0][1]\n",
    "        num_most = len([i for i, v in count.items() if v == most])\n",
    "        time = (most - 1) * (n + 1) + num_most\n",
    "        return max(time, len(tasks))\n"
   ]
  }
 ],
 "metadata": {
  "kernelspec": {
   "display_name": "Python 3",
   "language": "python",
   "name": "python3"
  },
  "language_info": {
   "codemirror_mode": {
    "name": "ipython",
    "version": 3
   },
   "file_extension": ".py",
   "mimetype": "text/x-python",
   "name": "python",
   "nbconvert_exporter": "python",
   "pygments_lexer": "ipython3",
   "version": "3.7.0"
  }
 },
 "nbformat": 4,
 "nbformat_minor": 2
}
