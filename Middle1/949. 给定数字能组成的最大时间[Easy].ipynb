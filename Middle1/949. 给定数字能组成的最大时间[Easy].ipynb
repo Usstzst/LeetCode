{
 "cells": [
  {
   "cell_type": "markdown",
   "metadata": {},
   "source": [
    "# 题目原意"
   ]
  },
  {
   "cell_type": "raw",
   "metadata": {},
   "source": [
    "给定一个由 4 位数字组成的数组，返回可以设置的符合 24 小时制的最大时间。\n",
    "\n",
    "最小的 24 小时制时间是 00:00，而最大的是 23:59。从 00:00 （午夜）开始算起，过得越久，时间越大。\n",
    "\n",
    "以长度为 5 的字符串返回答案。如果不能确定有效时间，则返回空字符串。"
   ]
  },
  {
   "cell_type": "raw",
   "metadata": {},
   "source": [
    "示例 1：\n",
    "输入：[1,2,3,4]\n",
    "输出：\"23:41\"\n",
    "\n",
    "示例 2：\n",
    "输入：[5,5,5,5]\n",
    "输出：\"\"\n",
    " \n",
    "\n",
    "提示：\n",
    "A.length == 4\n",
    "0 <= A[i] <= 9"
   ]
  },
  {
   "cell_type": "markdown",
   "metadata": {},
   "source": [
    "## 思路一"
   ]
  },
  {
   "cell_type": "code",
   "execution_count": 1,
   "metadata": {},
   "outputs": [],
   "source": [
    "class Solution:\n",
    "    def largestTimeFromDigits(self, A):\n",
    "        \"\"\"\n",
    "        :type A: List[int]\n",
    "        :rtype: str\n",
    "        \"\"\"\n",
    "        res = [\"\"]\n",
    "        for a in itertools.permutations(A):\n",
    "            if a[:2]>(2,3) or a[2:]>(5,9):\n",
    "                continue\n",
    "            res.append('%d%d:%d%d'%a)\n",
    "        return max(res)\n",
    "    "
   ]
  },
  {
   "cell_type": "code",
   "execution_count": 2,
   "metadata": {},
   "outputs": [],
   "source": [
    "class Solution:\n",
    "    def largestTimeFromDigits(self, A):\n",
    "        \"\"\"\n",
    "        :type A: List[int]\n",
    "        :rtype: str\n",
    "        \"\"\"\n",
    "        A_pre = itertools.permutations(A)\n",
    "\n",
    "        res = ''\n",
    "        for a in A_per:\n",
    "            pre = a[0]*10 + a[1]\n",
    "            pos = a[2]*10 + a[3]\n",
    "            if pre > 23 or pos > 59:\n",
    "                continue\n",
    "            \n",
    "            str_pre, str_pos = str(pre), str(pos)\n",
    "            if a[0] == 0:\n",
    "                str_pre = '0' + str_pre\n",
    "                \n",
    "            if a[2] == 0:\n",
    "                str_pos = '0' + str_pos\n",
    "\n",
    "            cur = str_pre + ':' + str_pos\n",
    "            res = max(cur, res)\n",
    "            \n",
    "        return res\n"
   ]
  }
 ],
 "metadata": {
  "kernelspec": {
   "display_name": "Python 3",
   "language": "python",
   "name": "python3"
  },
  "language_info": {
   "codemirror_mode": {
    "name": "ipython",
    "version": 3
   },
   "file_extension": ".py",
   "mimetype": "text/x-python",
   "name": "python",
   "nbconvert_exporter": "python",
   "pygments_lexer": "ipython3",
   "version": "3.6.5"
  }
 },
 "nbformat": 4,
 "nbformat_minor": 2
}
