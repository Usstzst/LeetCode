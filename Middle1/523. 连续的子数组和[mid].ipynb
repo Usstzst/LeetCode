{
 "cells": [
  {
   "cell_type": "markdown",
   "metadata": {},
   "source": [
    "# 题目原意"
   ]
  },
  {
   "cell_type": "raw",
   "metadata": {},
   "source": [
    "给定一个包含非负数的数组和一个目标整数 k，编写一个函数来判断该数组是否含有连续的子数组，其大小至少为 2，总和为 k 的倍数，即总和为 n*k，其中 n 也是一个整数。"
   ]
  },
  {
   "cell_type": "raw",
   "metadata": {},
   "source": [
    "示例 1:\n",
    "\n",
    "输入: [23,2,4,6,7], k = 6\n",
    "输出: True\n",
    "解释: [2,4] 是一个大小为 2 的子数组，并且和为 6。\n",
    "\n",
    "示例 2:\n",
    "输入: [23,2,6,4,7], k = 6\n",
    "输出: True\n",
    "解释: [23,2,6,4,7]是大小为 5 的子数组，并且和为 42。\n",
    "\n",
    "说明:\n",
    "数组的长度不会超过10,000。\n",
    "你可以认为所有数字总和在 32 位有符号整数范围内。"
   ]
  },
  {
   "cell_type": "markdown",
   "metadata": {},
   "source": [
    "## 思路一"
   ]
  },
  {
   "cell_type": "raw",
   "metadata": {},
   "source": [
    "凡是涉及到除法，首先必须要考虑到除数为0的情况"
   ]
  },
  {
   "cell_type": "code",
   "execution_count": 1,
   "metadata": {},
   "outputs": [],
   "source": [
    "class Solution:\n",
    "    def checkSubarraySum(self, nums, k):\n",
    "        \"\"\"\n",
    "        :type nums: List[int]\n",
    "        :type k: int\n",
    "        :rtype: bool\n",
    "        \"\"\"\n",
    "        n=len(nums)\n",
    "        if n<2:\n",
    "            return False\n",
    "        if k == 0:\n",
    "            for i in range(1,n):\n",
    "                if nums[i]==0 and nums[i-1]==nums[i]:\n",
    "                    return True\n",
    "            return False\n",
    "\n",
    "        dic={0:[-1]}\n",
    "        sum =nums[0]\n",
    "        if sum%k not in dic:\n",
    "            dic[sum%k]=[0]\n",
    "        else:\n",
    "            dic[sum%k].append(0)\n",
    "        for i in range(1,n):\n",
    "            sum+=nums[i]\n",
    "            if sum%k not in dic:\n",
    "                dic[sum%k]=[i]\n",
    "            else:\n",
    "                dic[sum%k].append(i)\n",
    "                s=len(dic[sum%k])                \n",
    "                if dic[sum%k][s-1]-dic[sum%k][0]>=2:\n",
    "                    return True\n",
    "        return False"
   ]
  },
  {
   "cell_type": "markdown",
   "metadata": {},
   "source": [
    "## 思路二"
   ]
  },
  {
   "cell_type": "code",
   "execution_count": 3,
   "metadata": {},
   "outputs": [],
   "source": [
    "class Solution(object):\n",
    "    def checkSubarraySum(self, nums, k):\n",
    "        \"\"\"\n",
    "        :type nums: List[int]\n",
    "        :type k: int\n",
    "        :rtype: bool\n",
    "        \"\"\"\n",
    "        seen, psum = {0:-1}, 0\n",
    "        for index, value in enumerate(nums):\n",
    "            # 考虑 k = 0的情况\n",
    "            psum = (psum + value) % k if k else psum + value\n",
    "            if psum not in seen:\n",
    "                seen[psum] = index\n",
    "            # 保证连续子数组大小至少为 2\n",
    "            if index - seen[psum] > 1:\n",
    "                return True\n",
    "        return False"
   ]
  }
 ],
 "metadata": {
  "kernelspec": {
   "display_name": "Python 3",
   "language": "python",
   "name": "python3"
  },
  "language_info": {
   "codemirror_mode": {
    "name": "ipython",
    "version": 3
   },
   "file_extension": ".py",
   "mimetype": "text/x-python",
   "name": "python",
   "nbconvert_exporter": "python",
   "pygments_lexer": "ipython3",
   "version": "3.7.3"
  }
 },
 "nbformat": 4,
 "nbformat_minor": 2
}
