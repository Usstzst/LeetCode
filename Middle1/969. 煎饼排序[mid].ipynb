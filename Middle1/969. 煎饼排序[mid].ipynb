{
 "cells": [
  {
   "cell_type": "markdown",
   "metadata": {},
   "source": [
    "# 题目原意"
   ]
  },
  {
   "cell_type": "raw",
   "metadata": {},
   "source": [
    "给定数组 A，我们可以对其进行煎饼翻转：我们选择一些正整数 k <= A.length，然后反转 A 的前 k 个元素的顺序。我们要执行零次或多次煎饼翻转（按顺序一次接一次地进行）以完成对数组 A 的排序。\n",
    "\n",
    "返回能使 A 排序的煎饼翻转操作所对应的 k 值序列。任何将数组排序且翻转次数在 10 * A.length 范围内的有效答案都将被判断为正确。\n"
   ]
  },
  {
   "cell_type": "raw",
   "metadata": {},
   "source": [
    "示例 1：\n",
    "输入：[3,2,4,1]\n",
    "输出：[4,2,4,3]\n",
    "解释：\n",
    "我们执行 4 次煎饼翻转，k 值分别为 4，2，4，和 3。\n",
    "初始状态 A = [3, 2, 4, 1]\n",
    "第一次翻转后 (k=4): A = [1, 4, 2, 3]\n",
    "第二次翻转后 (k=2): A = [4, 1, 2, 3]\n",
    "第三次翻转后 (k=4): A = [3, 2, 1, 4]\n",
    "第四次翻转后 (k=3): A = [1, 2, 3, 4]，此时已完成排序。 \n",
    "\n",
    "示例 2：\n",
    "输入：[1,2,3]\n",
    "输出：[]\n",
    "解释：\n",
    "输入已经排序，因此不需要翻转任何内容。\n",
    "请注意，其他可能的答案，如[3，3]，也将被接受。"
   ]
  },
  {
   "cell_type": "markdown",
   "metadata": {},
   "source": [
    "## 思路一"
   ]
  },
  {
   "cell_type": "raw",
   "metadata": {},
   "source": [
    "我们把后面的数字先排好，这样再翻转前面的时候就不会影响到后面。所以，先把最大的数字放到最后，然后再把次大的位置放在倒数第二个位置……如何把最大的数字放到最后呢？一个很简单的想法就是先把它翻转到第一个位置上去！\n",
    "\n",
    "所以，思路很清晰了：每次找到还没排序的数字之中最大的数字的位置，把这个位置之前的数字翻转，这一步使得最大数字去了最前面。第二步，再次翻转，把最大位置翻到准确的位置上去。\n",
    "\n",
    "这个题目一个比较好的地方是，给的数字是1~N的全排列，所以我们每次要找哪个数字很容易确定，不需要O(N)的遍历去判断最大的数字是谁。\n"
   ]
  },
  {
   "cell_type": "code",
   "execution_count": 1,
   "metadata": {},
   "outputs": [],
   "source": [
    "class Solution(object):\n",
    "    def pancakeSort(self, A):\n",
    "        \"\"\"\n",
    "        :type A: List[int]\n",
    "        :rtype: List[int]\n",
    "        \"\"\"\n",
    "        N = len(A)\n",
    "        res = []\n",
    "        for x in range(N, 0, -1):\n",
    "            i = A.index(x)\n",
    "            res.extend([i + 1, x])\n",
    "            A = A[:i:-1] + A[:i]\n",
    "        return res\n"
   ]
  }
 ],
 "metadata": {
  "kernelspec": {
   "display_name": "Python 3",
   "language": "python",
   "name": "python3"
  },
  "language_info": {
   "codemirror_mode": {
    "name": "ipython",
    "version": 3
   },
   "file_extension": ".py",
   "mimetype": "text/x-python",
   "name": "python",
   "nbconvert_exporter": "python",
   "pygments_lexer": "ipython3",
   "version": "3.7.0"
  }
 },
 "nbformat": 4,
 "nbformat_minor": 2
}
