{
 "cells": [
  {
   "cell_type": "markdown",
   "metadata": {},
   "source": [
    "# 题目原意"
   ]
  },
  {
   "cell_type": "raw",
   "metadata": {},
   "source": [
    "给定一个字符串 s，将 s 分割成一些子串，使每个子串都是回文串。\n",
    "\n",
    "返回 s 所有可能的分割方案。"
   ]
  },
  {
   "cell_type": "raw",
   "metadata": {},
   "source": [
    "示例:\n",
    "输入: \"aab\"\n",
    "输出:\n",
    "[\n",
    "  [\"aa\",\"b\"],\n",
    "  [\"a\",\"a\",\"b\"]\n",
    "]"
   ]
  },
  {
   "cell_type": "markdown",
   "metadata": {},
   "source": [
    "## 思路一"
   ]
  },
  {
   "cell_type": "code",
   "execution_count": 2,
   "metadata": {},
   "outputs": [],
   "source": [
    "class Solution(object):\n",
    "    def partition(self, s):\n",
    "        \"\"\"\n",
    "        :type s: str\n",
    "        :rtype: List[List[str]]\n",
    "        \"\"\"\n",
    "        self.isPalindrome = lambda s : s == s[::-1]\n",
    "        res = []\n",
    "        self.dfs(s, res, [])\n",
    "        return res\n",
    "        \n",
    "    def dfs(self, s, res, path):\n",
    "        if not s:\n",
    "            res.append(path)\n",
    "            return\n",
    "        for i in range(1, len(s) + 1): #注意起始和结束位置\n",
    "            if self.isPalindrome(s[:i]):\n",
    "                self.dfs(s[i:], res, path + [s[:i]])\n"
   ]
  },
  {
   "cell_type": "code",
   "execution_count": 3,
   "metadata": {},
   "outputs": [],
   "source": [
    "class Solution(object):\n",
    "    def partition(self, s):\n",
    "        \"\"\"\n",
    "        :type s: str\n",
    "        :rtype: List[List[str]]\n",
    "        \"\"\"\n",
    "        def dfs(s, path, res):\n",
    "            if not s:\n",
    "                res.append(path)\n",
    "                return \n",
    "            for i in range(len(s)):\n",
    "                if isPal(s[:i+1]):\n",
    "                    dfs(s[i+1:], path+[s[:i+1]], res)\n",
    "\n",
    "        def isPal(s):\n",
    "            return s == s[::-1]\n",
    "       \n",
    "        res = []\n",
    "        dfs(s,[],res)\n",
    "        return res"
   ]
  }
 ],
 "metadata": {
  "kernelspec": {
   "display_name": "Python 3",
   "language": "python",
   "name": "python3"
  },
  "language_info": {
   "codemirror_mode": {
    "name": "ipython",
    "version": 3
   },
   "file_extension": ".py",
   "mimetype": "text/x-python",
   "name": "python",
   "nbconvert_exporter": "python",
   "pygments_lexer": "ipython3",
   "version": "3.7.3"
  }
 },
 "nbformat": 4,
 "nbformat_minor": 2
}
