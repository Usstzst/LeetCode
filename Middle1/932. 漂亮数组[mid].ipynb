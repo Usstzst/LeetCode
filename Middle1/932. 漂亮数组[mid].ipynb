{
 "cells": [
  {
   "cell_type": "markdown",
   "metadata": {},
   "source": [
    "# 题目原意"
   ]
  },
  {
   "cell_type": "raw",
   "metadata": {},
   "source": [
    "对于某些固定的 N，如果数组 A 是整数 1, 2, ..., N 组成的排列，使得：\n",
    "\n",
    "对于每个 i < j，都不存在 k 满足 i < k < j 使得 A[k] * 2 = A[i] + A[j]。\n",
    "\n",
    "那么数组 A 是漂亮数组。\n",
    "\n",
    "给定 N，返回任意漂亮数组 A（保证存在一个）。"
   ]
  },
  {
   "cell_type": "raw",
   "metadata": {},
   "source": [
    "示例 1：\n",
    "输入：4\n",
    "输出：[2,1,4,3]\n",
    "\n",
    "示例 2：\n",
    "输入：5\n",
    "输出：[3,1,2,5,4]"
   ]
  },
  {
   "cell_type": "markdown",
   "metadata": {},
   "source": [
    "## 思路一： 构造法"
   ]
  },
  {
   "cell_type": "raw",
   "metadata": {},
   "source": [
    "因为题目要求任意两个数的平均数不能在他们中间，如果一个数字左边都是奇数，右边都是偶数，那么肯定这个数字的二倍是偶数，肯定不会存在A[k] * 2 = A[i] + A[j]。\n",
    "\n",
    "若数组A满足上面的条件，那么很容易从线性关系中看出来，对于A中的每个元素做[2 * i for i in A]后者[2 * i - 1 for i in A]依然满足上面的条件。\n",
    "\n",
    "所以我们从最简单的1开始推导，构造奇数+偶数拼接在一起成为新的数组，然后继续这个操作，就能使得得到的一直是满足条件的数组。最后当数组的长度满足条件就结束。因为结果数组的长度是2的整数次方，所以最后要把结果中小于等于N的留下来就行了。\n"
   ]
  },
  {
   "cell_type": "code",
   "execution_count": 1,
   "metadata": {},
   "outputs": [],
   "source": [
    "class Solution(object):\n",
    "    def beautifulArray(self, N):\n",
    "        \"\"\"\n",
    "        :type N: int\n",
    "        :rtype: List[int]\n",
    "        \"\"\"\n",
    "        res = [1]\n",
    "        while len(res)<N:\n",
    "            res = [2*i-1 for i in res] + [2*i for i in res]\n",
    "        return [i for i in res if i<=N]\n"
   ]
  }
 ],
 "metadata": {
  "kernelspec": {
   "display_name": "Python 3",
   "language": "python",
   "name": "python3"
  },
  "language_info": {
   "codemirror_mode": {
    "name": "ipython",
    "version": 3
   },
   "file_extension": ".py",
   "mimetype": "text/x-python",
   "name": "python",
   "nbconvert_exporter": "python",
   "pygments_lexer": "ipython3",
   "version": "3.6.5"
  }
 },
 "nbformat": 4,
 "nbformat_minor": 2
}
