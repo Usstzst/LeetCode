{
 "cells": [
  {
   "cell_type": "markdown",
   "metadata": {},
   "source": [
    "# 题目原意"
   ]
  },
  {
   "cell_type": "raw",
   "metadata": {},
   "source": [
    "给定一个编码字符串 S。为了找出解码字符串并将其写入磁带，从编码字符串中每次读取一个字符，并采取以下步骤：\n",
    "\n",
    "如果所读的字符是字母，则将该字母写在磁带上。\n",
    "如果所读的字符是数字（例如 d），则整个当前磁带总共会被重复写 d-1 次。\n",
    "现在，对于给定的编码字符串 S 和索引 K，查找并返回解码字符串中的第 K 个字母。"
   ]
  },
  {
   "cell_type": "raw",
   "metadata": {},
   "source": [
    "示例 1：\n",
    "输入：S = \"leet2code3\", K = 10\n",
    "输出：\"o\"\n",
    "解释：\n",
    "解码后的字符串为 \"leetleetcodeleetleetcodeleetleetcode\"。\n",
    "字符串中的第 10 个字母是 \"o\"。\n",
    "\n",
    "示例 2：\n",
    "输入：S = \"ha22\", K = 5\n",
    "输出：\"h\"\n",
    "解释：\n",
    "解码后的字符串为 \"hahahaha\"。第 5 个字母是 \"h\"。\n",
    "\n",
    "示例 3：\n",
    "输入：S = \"a2345678999999999999999\", K = 1\n",
    "输出：\"a\"\n",
    "解释：\n",
    "解码后的字符串为 \"a\" 重复 8301530446056247680 次。第 1 个字母是 \"a\"。\n",
    " \n",
    "\n",
    "提示：\n",
    "2 <= S.length <= 100\n",
    "S 只包含小写字母与数字 2 到 9 。\n",
    "S 以字母开头。\n",
    "1 <= K <= 10^9\n",
    "解码后的字符串保证少于 2^63 个字母。"
   ]
  },
  {
   "cell_type": "markdown",
   "metadata": {},
   "source": [
    "## 思路一"
   ]
  },
  {
   "cell_type": "code",
   "execution_count": 6,
   "metadata": {},
   "outputs": [],
   "source": [
    "class Solution(object):\n",
    "    def decodeAtIndex(self, S, K):\n",
    "        \"\"\"\n",
    "        :type S: str\n",
    "        :type K: int\n",
    "        :rtype: str\n",
    "        \"\"\"\n",
    "        size = 0\n",
    "        for c in S:\n",
    "            if c.isdigit():\n",
    "                size *= int(c)\n",
    "            else:\n",
    "                size += 1\n",
    "\n",
    "        for c in reversed(S):\n",
    "            K %= size\n",
    "            if K == 0 and c.isalpha():\n",
    "                return c\n",
    "            if c.isdigit():\n",
    "                size /= int(c)\n",
    "            else:\n",
    "                size -= 1\n"
   ]
  }
 ],
 "metadata": {
  "kernelspec": {
   "display_name": "Python 3",
   "language": "python",
   "name": "python3"
  },
  "language_info": {
   "codemirror_mode": {
    "name": "ipython",
    "version": 3
   },
   "file_extension": ".py",
   "mimetype": "text/x-python",
   "name": "python",
   "nbconvert_exporter": "python",
   "pygments_lexer": "ipython3",
   "version": "3.6.5"
  }
 },
 "nbformat": 4,
 "nbformat_minor": 2
}
