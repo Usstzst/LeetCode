{
 "cells": [
  {
   "cell_type": "markdown",
   "metadata": {},
   "source": [
    "# 题目原意"
   ]
  },
  {
   "cell_type": "raw",
   "metadata": {},
   "source": [
    "第 i 个人的体重为 people[i]，每艘船可以承载的最大重量为 limit。\n",
    "\n",
    "每艘船最多可同时载两人，但条件是这些人的重量之和最多为 limit。\n",
    "\n",
    "返回载到每一个人所需的最小船数。(保证每个人都能被船载)。\n"
   ]
  },
  {
   "cell_type": "raw",
   "metadata": {},
   "source": [
    "示例 1：\n",
    "输入：people = [1,2], limit = 3\n",
    "输出：1\n",
    "解释：1 艘船载 (1, 2)\n",
    "\n",
    "示例 2：\n",
    "输入：people = [3,2,2,1], limit = 3\n",
    "输出：3\n",
    "解释：3 艘船分别载 (1, 2), (2) 和 (3)\n",
    "\n",
    "示例 3：\n",
    "输入：people = [3,5,3,4], limit = 5\n",
    "输出：4\n",
    "解释：4 艘船分别载 (3), (3), (4), (5)\n",
    "提示：\n",
    "\n",
    "1 <= people.length <= 50000\n",
    "1 <= people[i] <= limit <= 30000"
   ]
  },
  {
   "cell_type": "markdown",
   "metadata": {},
   "source": [
    "## 思路一"
   ]
  },
  {
   "cell_type": "raw",
   "metadata": {},
   "source": [
    "仔细读读题，题目说了最多坐两个人。。\n",
    "\n",
    "方法比较简单，先排序，然后使用双指针。一个指向重的人，一个指向轻的人。题目说了一个人的重量不会超过载重。。\n",
    "\n",
    "如果两个人能坐在同一条船上，那么把两个指针向中间移动\n",
    "如果两个人的重量大于船的载重，那么让胖的人坐！因为瘦的人可以和别人挤挤，但是胖子不行啊，这个船必须都是他的了。（汽车的副驾驶2333）\n",
    "重复上述操作\n",
    "也就是说指向胖子的指针一定会移动，指向瘦子的指针只有在能坐下两个人的时候才能移动。\n",
    "\n",
    "同时注意一下，循环的过程中，循环的条件中，允许hi == lo，因为这种情况下说明剩了一个人还没挤上船。\n",
    "\n",
    "采用双指针，把每个人都遍历了一遍，所以时间复杂度是O(n)，空间复杂度是O(1)."
   ]
  },
  {
   "cell_type": "code",
   "execution_count": 1,
   "metadata": {},
   "outputs": [],
   "source": [
    "class Solution(object):\n",
    "    def numRescueBoats(self, people, limit):\n",
    "        \"\"\"\n",
    "        :type people: List[int]\n",
    "        :type limit: int\n",
    "        :rtype: int\n",
    "        \"\"\"\n",
    "        people.sort()\n",
    "        res = 0\n",
    "        hi, lo = len(people) - 1, 0\n",
    "        while hi >= lo:\n",
    "            if people[hi] + people[lo] <= limit:\n",
    "                lo += 1\n",
    "            hi -= 1\n",
    "            res += 1\n",
    "        return res\n"
   ]
  }
 ],
 "metadata": {
  "kernelspec": {
   "display_name": "Python 3",
   "language": "python",
   "name": "python3"
  },
  "language_info": {
   "codemirror_mode": {
    "name": "ipython",
    "version": 3
   },
   "file_extension": ".py",
   "mimetype": "text/x-python",
   "name": "python",
   "nbconvert_exporter": "python",
   "pygments_lexer": "ipython3",
   "version": "3.6.5"
  }
 },
 "nbformat": 4,
 "nbformat_minor": 2
}
