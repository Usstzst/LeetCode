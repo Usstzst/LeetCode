{
 "cells": [
  {
   "cell_type": "markdown",
   "metadata": {},
   "source": [
    "# 题目原意"
   ]
  },
  {
   "cell_type": "raw",
   "metadata": {},
   "source": [
    "给定两个表示复数的字符串。\n",
    "\n",
    "返回表示它们乘积的字符串。注意，根据定义 i2 = -1 。"
   ]
  },
  {
   "cell_type": "raw",
   "metadata": {},
   "source": [
    "示例 1:\n",
    "输入: \"1+1i\", \"1+1i\"\n",
    "输出: \"0+2i\"\n",
    "解释: (1 + i) * (1 + i) = 1 + i2 + 2 * i = 2i ，你需要将它转换为 0+2i 的形式。\n",
    "\n",
    "示例 2:\n",
    "输入: \"1+-1i\", \"1+-1i\"\n",
    "输出: \"0+-2i\"\n",
    "解释: (1 - i) * (1 - i) = 1 + i2 - 2 * i = -2i ，你需要将它转换为 0+-2i 的形式。 \n",
    "\n",
    "注意:\n",
    "输入字符串不包含额外的空格。\n",
    "输入字符串将以 a+bi 的形式给出，其中整数 a 和 b 的范围均在 [-100, 100] 之间。输出也应当符合这种形式。"
   ]
  },
  {
   "cell_type": "markdown",
   "metadata": {},
   "source": [
    "## 思路一：map"
   ]
  },
  {
   "cell_type": "raw",
   "metadata": {},
   "source": [
    "分别得到连个虚数的实部和虚部， 然后按照乘法分配律给出结果"
   ]
  },
  {
   "cell_type": "code",
   "execution_count": 1,
   "metadata": {},
   "outputs": [],
   "source": [
    "class Solution(object):\n",
    "    def complexNumberMultiply(self, a, b):\n",
    "        \"\"\"\n",
    "        :type a: str\n",
    "        :type b: str\n",
    "        :rtype: str\n",
    "        \"\"\"\n",
    "\n",
    "        ra, ia = map(int, a[0:-1].split('+'))\n",
    "        rb, ib = map(int, b[0:-1].split('+'))\n",
    "        return str(ra*rb-ia*ib) + '+' + str(ia*rb+ib*ra) + 'i'\n"
   ]
  }
 ],
 "metadata": {
  "kernelspec": {
   "display_name": "Python 3",
   "language": "python",
   "name": "python3"
  },
  "language_info": {
   "codemirror_mode": {
    "name": "ipython",
    "version": 3
   },
   "file_extension": ".py",
   "mimetype": "text/x-python",
   "name": "python",
   "nbconvert_exporter": "python",
   "pygments_lexer": "ipython3",
   "version": "3.6.5"
  }
 },
 "nbformat": 4,
 "nbformat_minor": 2
}
