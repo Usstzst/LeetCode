{
 "cells": [
  {
   "cell_type": "markdown",
   "metadata": {},
   "source": [
    "# 题目原意"
   ]
  },
  {
   "cell_type": "raw",
   "metadata": {},
   "source": [
    "给定一个整数数组和一个整数 k，你需要找到该数组中和为 k 的连续的子数组的个数。"
   ]
  },
  {
   "cell_type": "raw",
   "metadata": {},
   "source": [
    "示例 1 :\n",
    "输入:nums = [1,1,1], k = 2\n",
    "输出: 2 , [1,1] 与 [1,1] 为两种不同的情况。\n",
    "\n",
    "说明 :\n",
    "数组的长度为 [1, 20,000]。\n",
    "数组中元素的范围是 [-1000, 1000] ，且整数 k 的范围是 [-1e7, 1e7]。"
   ]
  },
  {
   "cell_type": "markdown",
   "metadata": {},
   "source": [
    "## 思路一"
   ]
  },
  {
   "cell_type": "raw",
   "metadata": {},
   "source": [
    "使用一个字典保存数组某个位置之前的数组和，然后遍历数组求和，这样当我们求到一个位置的和的时候，向前找sum-k是否在数组中，如果在的话，更新结果为之前的结果+(sum-k出现的次数)。同时，当前这个sum出现的次数就多了一次。\n",
    "\n",
    "字典的目的是为了让我们可以快速的查找sum-k是否存在，即是否有连续子数组的和为sum-k，如果存在的话，那么和为k的子数组一定也存在。初始化要加入{0：1}这对映射， 这样当sum刚好为k的时候，那么数组从起始到当前位置的这段子数组的和就是k，满足题意，如果字典没有初始化的话，这个符合题意的结果就无法累加到结果res中，这就是初始化的用途。"
   ]
  },
  {
   "cell_type": "code",
   "execution_count": 2,
   "metadata": {},
   "outputs": [],
   "source": [
    "class Solution(object):\n",
    "    def subarraySum(self, nums, k):\n",
    "        \"\"\"\n",
    "        :type nums: List[int]\n",
    "        :type k: int\n",
    "        :rtype: int\n",
    "        \"\"\"\n",
    "        d = collections.defaultdict(int)\n",
    "        d[0] = 1\n",
    "        sum = 0\n",
    "        res = 0\n",
    "        for i in range(len(nums)):\n",
    "            sum += nums[i]\n",
    "            if sum - k in d:\n",
    "                res += d[sum-k]\n",
    "            d[sum] += 1\n",
    "        return res\n",
    "        "
   ]
  }
 ],
 "metadata": {
  "kernelspec": {
   "display_name": "Python 3",
   "language": "python",
   "name": "python3"
  },
  "language_info": {
   "codemirror_mode": {
    "name": "ipython",
    "version": 3
   },
   "file_extension": ".py",
   "mimetype": "text/x-python",
   "name": "python",
   "nbconvert_exporter": "python",
   "pygments_lexer": "ipython3",
   "version": "3.7.0"
  }
 },
 "nbformat": 4,
 "nbformat_minor": 2
}
