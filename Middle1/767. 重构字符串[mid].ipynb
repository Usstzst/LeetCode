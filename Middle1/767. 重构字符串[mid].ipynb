{
 "cells": [
  {
   "cell_type": "markdown",
   "metadata": {},
   "source": [
    "# 题目原意"
   ]
  },
  {
   "cell_type": "raw",
   "metadata": {},
   "source": [
    "给定一个字符串S，检查是否能重新排布其中的字母，使得两相邻的字符不同。\n",
    "\n",
    "若可行，输出任意可行的结果。若不可行，返回空字符串。\n",
    "\n"
   ]
  },
  {
   "cell_type": "raw",
   "metadata": {},
   "source": [
    "示例 1:\n",
    "输入: S = \"aab\"\n",
    "输出: \"aba\"\n",
    "\n",
    "示例 2:\n",
    "输入: S = \"aaab\"\n",
    "输出: \"\"\n",
    "\n",
    "注意:\n",
    "S 只包含小写字母并且长度在[1, 500]区间内。"
   ]
  },
  {
   "cell_type": "markdown",
   "metadata": {},
   "source": [
    "## 思路一 "
   ]
  },
  {
   "cell_type": "raw",
   "metadata": {},
   "source": [
    "方法是：\n",
    "统计这个字符串每个字符的出现频率，在组成新字符串时，在满足和上一个字符不相同的情况下，优先使用最流行的字符串。每用一个字符都对counter进行更新，直至循环结束。注意如果次数为0要删除，否则counter不会为空。"
   ]
  },
  {
   "cell_type": "code",
   "execution_count": 1,
   "metadata": {},
   "outputs": [],
   "source": [
    "class Solution(object):\n",
    "    def reorganizeString(self, S):\n",
    "        \"\"\"\n",
    "        :type S: str\n",
    "        :rtype: str\n",
    "        \"\"\"\n",
    "        counter = collections.Counter(S)\n",
    "        ans = '#'\n",
    "        while counter:\n",
    "            stop = True\n",
    "            for item, times in counter.most_common():\n",
    "                if ans[-1] != item:\n",
    "                    ans += item\n",
    "                    counter[item] -= 1\n",
    "                    if not counter[item]:\n",
    "                        del counter[item]\n",
    "                    stop = False\n",
    "                    break\n",
    "            if stop: break\n",
    "        return ans[1:] if len(ans) == len(S)+1 else ''\n",
    "        \n",
    "  "
   ]
  }
 ],
 "metadata": {
  "kernelspec": {
   "display_name": "Python 3",
   "language": "python",
   "name": "python3"
  },
  "language_info": {
   "codemirror_mode": {
    "name": "ipython",
    "version": 3
   },
   "file_extension": ".py",
   "mimetype": "text/x-python",
   "name": "python",
   "nbconvert_exporter": "python",
   "pygments_lexer": "ipython3",
   "version": "3.6.5"
  }
 },
 "nbformat": 4,
 "nbformat_minor": 2
}
