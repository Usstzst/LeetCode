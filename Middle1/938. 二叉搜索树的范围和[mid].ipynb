{
 "cells": [
  {
   "cell_type": "markdown",
   "metadata": {},
   "source": [
    "# 题目原意"
   ]
  },
  {
   "cell_type": "raw",
   "metadata": {},
   "source": [
    "给定二叉搜索树的根结点 root，返回 L 和 R（含）之间的所有结点的值的和。\n",
    "\n",
    "二叉搜索树保证具有唯一的值。"
   ]
  },
  {
   "cell_type": "raw",
   "metadata": {},
   "source": [
    "示例 1：\n",
    "输入：root = [10,5,15,3,7,null,18], L = 7, R = 15\n",
    "输出：32\n",
    "\n",
    "示例 2：\n",
    "输入：root = [10,5,15,3,7,13,18,1,null,6], L = 6, R = 10\n",
    "输出：23"
   ]
  },
  {
   "cell_type": "markdown",
   "metadata": {},
   "source": [
    "## 思路一：BST"
   ]
  },
  {
   "cell_type": "raw",
   "metadata": {},
   "source": [
    "如果root不存在，返回0。如果root节点在[L,R]内，那么把结果加上root的值，然后再分别加上左右子树的值。为什么？因为这个时候左右子树都可能存在满足[L,R]区间，所以必须都加上。\n",
    "\n",
    "如果root的值比L还小，说明左子树一定不会满足[L,R]区间，那么直接向右边找就行。\n",
    "\n",
    "如果root的值比R还大，说明右子树一定不会满足[L,R]区间，那么直接向左边找就行。\n",
    "\n",
    "时间复杂度是O(N)，空间复杂度是O(1)。"
   ]
  },
  {
   "cell_type": "code",
   "execution_count": 1,
   "metadata": {},
   "outputs": [],
   "source": [
    "# Definition for a binary tree node.\n",
    "# class TreeNode(object):\n",
    "#     def __init__(self, x):\n",
    "#         self.val = x\n",
    "#         self.left = None\n",
    "#         self.right = None\n",
    "\n",
    "class Solution(object):\n",
    "    def rangeSumBST(self, root, L, R):\n",
    "        \"\"\"\n",
    "        :type root: TreeNode\n",
    "        :type L: int\n",
    "        :type R: int\n",
    "        :rtype: int\n",
    "        \"\"\"\n",
    "        if not root:\n",
    "            return 0\n",
    "        \n",
    "        res = 0\n",
    "        if L <= root.val <= R:\n",
    "            res += root.val\n",
    "            res += self.rangeSumBST(root.left, L, R)\n",
    "            res += self.rangeSumBST(root.right, L, R)\n",
    "        elif root.val < L:\n",
    "            res += self.rangeSumBST(root.right, L, R)\n",
    "        elif root.val > R:\n",
    "            res += self.rangeSumBST(root.left, L, R)\n",
    "        return res \n",
    "\n",
    "        \n",
    "      "
   ]
  }
 ],
 "metadata": {
  "kernelspec": {
   "display_name": "Python 3",
   "language": "python",
   "name": "python3"
  },
  "language_info": {
   "codemirror_mode": {
    "name": "ipython",
    "version": 3
   },
   "file_extension": ".py",
   "mimetype": "text/x-python",
   "name": "python",
   "nbconvert_exporter": "python",
   "pygments_lexer": "ipython3",
   "version": "3.7.0"
  }
 },
 "nbformat": 4,
 "nbformat_minor": 2
}
