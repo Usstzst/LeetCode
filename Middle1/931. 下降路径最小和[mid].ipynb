{
 "cells": [
  {
   "cell_type": "markdown",
   "metadata": {},
   "source": [
    "# 题目原意"
   ]
  },
  {
   "cell_type": "raw",
   "metadata": {},
   "source": [
    "给定一个方形整数数组 A，我们想要得到通过 A 的下降路径的最小和。\n",
    "\n",
    "下降路径可以从第一行中的任何元素开始，并从每一行中选择一个元素。在下一行选择的元素和当前行所选元素最多相隔一列。\n"
   ]
  },
  {
   "cell_type": "raw",
   "metadata": {},
   "source": [
    "示例：\n",
    "输入：[[1,2,3],[4,5,6],[7,8,9]]\n",
    "输出：12\n",
    "\n",
    "解释：\n",
    "可能的下降路径有：\n",
    "[1,4,7], [1,4,8], [1,5,7], [1,5,8], [1,5,9]\n",
    "[2,4,7], [2,4,8], [2,5,7], [2,5,8], [2,5,9], [2,6,8], [2,6,9]\n",
    "[3,5,7], [3,5,8], [3,5,9], [3,6,8], [3,6,9]\n",
    "\n",
    "和最小的下降路径是 [1,4,7]，所以答案是 12。"
   ]
  },
  {
   "cell_type": "markdown",
   "metadata": {},
   "source": [
    "## 思路一： 动态规划"
   ]
  },
  {
   "cell_type": "raw",
   "metadata": {},
   "source": [
    "数组中每个位置都要从上一层获得三个相邻列的最小值，换句话说，每个位置都可以给下面三个相邻列传递最小值。那么，其实就是一个动态规划嘛，到每个位置的最短路径，就是当前数值加上到达上面那层的三个相邻列的最小值。\n",
    "\n",
    "所以这个题代码其实很简单，只需要设置好边界，然后我们每次查找上面的三个最小值加上当前的位置，得到的就是到达当前位置的最小路径。\n",
    "\n",
    "                       \n",
    "                       \n",
    "[[1,2,3],                       dp = [[inf, 1, 2, 3, inf],\n",
    " [4,5,6],                           [inf, 4, 5, 6, inf],\n",
    " [7,8,9]                           [inf, 7, 8, 9, inf]\n",
    "]                                ]\n"
   ]
  },
  {
   "cell_type": "code",
   "execution_count": 1,
   "metadata": {},
   "outputs": [],
   "source": [
    "class Solution(object):\n",
    "    def minFallingPathSum(self, A):\n",
    "        \"\"\"\n",
    "        :type A: List[List[int]]\n",
    "        :rtype: int\n",
    "        \"\"\"\n",
    "        M , N = len(A), len(A[0])\n",
    "        dp = [[0]*(N+2) for _ in range(M)]\n",
    "        for i in range(M):\n",
    "            dp[i][0] = dp[i][-1] = float('inf')\n",
    "            for j in range(1, N+1):\n",
    "                dp[i][j] = A[i][j-1]\n",
    "        for i in range(1, M):\n",
    "            for j in range(1, N+1):\n",
    "                dp[i][j] = A[i][j-1] + min(dp[i-1][j-1], dp[i-1][j], dp[i-1][j+1])\n",
    "        return min(dp[-1])\n",
    "      "
   ]
  }
 ],
 "metadata": {
  "kernelspec": {
   "display_name": "Python 3",
   "language": "python",
   "name": "python3"
  },
  "language_info": {
   "codemirror_mode": {
    "name": "ipython",
    "version": 3
   },
   "file_extension": ".py",
   "mimetype": "text/x-python",
   "name": "python",
   "nbconvert_exporter": "python",
   "pygments_lexer": "ipython3",
   "version": "3.7.0"
  }
 },
 "nbformat": 4,
 "nbformat_minor": 2
}
