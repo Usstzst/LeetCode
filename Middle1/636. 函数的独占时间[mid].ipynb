{
 "cells": [
  {
   "cell_type": "markdown",
   "metadata": {},
   "source": [
    "# 题目原意"
   ]
  },
  {
   "cell_type": "raw",
   "metadata": {},
   "source": [
    "给出一个非抢占单线程CPU的 n 个函数运行日志，找到函数的独占时间。\n",
    "\n",
    "每个函数都有一个唯一的 Id，从 0 到 n-1，函数可能会递归调用或者被其他函数调用。\n",
    "\n",
    "日志是具有以下格式的字符串：function_id：start_or_end：timestamp。例如：\"0:start:0\" 表示函数 0 从 0 时刻开始运行。\"0:end:0\" 表示函数 0 在 0 时刻结束。\n",
    "\n",
    "函数的独占时间定义是在该方法中花费的时间，调用其他函数花费的时间不算该函数的独占时间。你需要根据函数的 Id 有序地返回每个函数的独占时间。\n",
    "\n"
   ]
  },
  {
   "cell_type": "raw",
   "metadata": {},
   "source": [
    "示例 1:\n",
    "输入:\n",
    "n = 2\n",
    "logs = \n",
    "[\"0:start:0\",\n",
    " \"1:start:2\",\n",
    " \"1:end:5\",\n",
    " \"0:end:6\"]\n",
    "输出:[3, 4]\n",
    "说明：\n",
    "函数 0 在时刻 0 开始，在执行了  2个时间单位结束于时刻 1。\n",
    "现在函数 0 调用函数 1，函数 1 在时刻 2 开始，执行 4 个时间单位后结束于时刻 5。\n",
    "函数 0 再次在时刻 6 开始执行，并在时刻 6 结束运行，从而执行了 1 个时间单位。\n",
    "所以函数 0 总共的执行了 2 +1 =3 个时间单位，函数 1 总共执行了 4 个时间单位。\n",
    "\n",
    "说明：\n",
    "1、输入的日志会根据时间戳排序，而不是根据日志Id排序。\n",
    "2、你的输出会根据函数Id排序，也就意味着你的输出数组中序号为 0 的元素相当于函数 0 的执行时间。\n",
    "3、两个函数不会在同时开始或结束。\n",
    "4、函数允许被递归调用，直到运行结束。\n",
    "1 <= n <= 100"
   ]
  },
  {
   "cell_type": "markdown",
   "metadata": {},
   "source": [
    "## 思路一"
   ]
  },
  {
   "cell_type": "raw",
   "metadata": {},
   "source": [
    "首先要弄明白一点：当遍历到logs中的某个字符串时，无论它是begin还是end，当前位于栈顶的元素都会占用 “当前字符串的timePoint-之前字符串的timePoint”(或+1) 时间。\n",
    "\n",
    "因为如果当前遍历到的字符串是start，那么栈顶元素就是之前start了还没结束的function，在 当前时间点 和 上一个时间点 之间的这段时间，是被栈顶元素占用的，占用了 “当前字符串的timePoint-之前字符串的timePoint” 时间。\n",
    "\n",
    "如果当前遍历到的字符串是end，那么栈顶元素就是 当前字符串的function (前面一个字符串刚push进了该function的start) ，那么在 当前时间点 和 上一个时间点 之间的这段时间，也肯定是被栈顶元素占用的，占用 “当前字符串的timePoint-之前字符串的timePoint +1 ” 时间 (比之前多加了一个end时间点)。\n",
    "\n",
    "举个例子来说明：\n",
    "\n",
    "functionId:  0 1  2  2  1  0\n",
    "begin/end:  {  {  {  }  }  }\n",
    "timeItem:   0 1  2  3  4  5\n",
    "\n",
    "0 被push进栈后，接下来遍历到 1 start 1，那么 0~1 的时间是被栈顶元素 0 占用的。接下来 1 被push进栈，遍历到 2 start 2，那么 1~2 的时间是被栈顶元素 1 占用的。接下来 2 被push进栈，遍历到 2 end 3，那么 2~3 的时间是被栈顶元素 2 占用的。接下来pop出 2 ，遍历到 1 end 4，那么3~4的时间是栈顶元素 1 占用的。接下来pop出 1 ，遍历到 0 end 5，那么 4~5 的时间是栈顶元素 0 占用的。\n",
    "\n",
    "所以算法的关键在于：拿到上一个log的 start/stop time 设为prev，再拿到当前 log 的 start/stop time ，计算出两个time之间的时间差。\n"
   ]
  },
  {
   "cell_type": "code",
   "execution_count": 1,
   "metadata": {},
   "outputs": [],
   "source": [
    "class Solution(object):\n",
    "    def exclusiveTime(self, n, logs):\n",
    "        \"\"\"\n",
    "        :type n: int\n",
    "        :type logs: List[str]\n",
    "        :rtype: List[int]\n",
    "        \"\"\"\n",
    "        res = [0] * n\n",
    "        stack = []\n",
    "        prevTime = 0\n",
    "        for log in logs:\n",
    "            idx, type, time = log.split(':')\n",
    "            if type == 'start':\n",
    "                if stack:\n",
    "                    res[stack[-1]] += int(time) - prevTime\n",
    "                stack.append(int(idx))\n",
    "                prevTime = int(time)\n",
    "            else:\n",
    "                res[stack[-1]] += int(time) - prevTime + 1\n",
    "                stack.pop()\n",
    "                prevTime = int(time) + 1\n",
    "        return res\n"
   ]
  }
 ],
 "metadata": {
  "kernelspec": {
   "display_name": "Python 3",
   "language": "python",
   "name": "python3"
  },
  "language_info": {
   "codemirror_mode": {
    "name": "ipython",
    "version": 3
   },
   "file_extension": ".py",
   "mimetype": "text/x-python",
   "name": "python",
   "nbconvert_exporter": "python",
   "pygments_lexer": "ipython3",
   "version": "3.7.0"
  }
 },
 "nbformat": 4,
 "nbformat_minor": 2
}
