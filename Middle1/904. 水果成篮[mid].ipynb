{
 "cells": [
  {
   "cell_type": "markdown",
   "metadata": {},
   "source": [
    "# 题目原意"
   ]
  },
  {
   "cell_type": "raw",
   "metadata": {},
   "source": [
    "在一排树中，第 i 棵树产生 tree[i] 型的水果。\n",
    "你可以从你选择的任何树开始，然后重复执行以下步骤：\n",
    "\n",
    "把这棵树上的水果放进你的篮子里。如果你做不到，就停下来。\n",
    "移动到当前树右侧的下一棵树。如果右边没有树，就停下来。\n",
    "请注意，在选择一颗树后，你没有任何选择：你必须执行步骤 1，然后执行步骤 2，然后返回步骤 1，然后执行步骤 2，依此类推，直至停止。\n",
    "\n",
    "你有两个篮子，每个篮子可以携带任何数量的水果，但你希望每个篮子只携带一种类型的水果。\n",
    "用这个程序你能收集的水果总量是多少？"
   ]
  },
  {
   "cell_type": "raw",
   "metadata": {},
   "source": [
    "示例 1：\n",
    "输入：[1,2,1]\n",
    "输出：3\n",
    "解释：我们可以收集 [1,2,1]。\n",
    "\n",
    "示例 2：\n",
    "输入：[0,1,2,2]\n",
    "输出：3\n",
    "解释：我们可以收集 [1,2,2].\n",
    "如果我们从第一棵树开始，我们将只能收集到 [0, 1]。\n",
    "\n",
    "示例 3：\n",
    "输入：[1,2,3,2,2]\n",
    "输出：4\n",
    "解释：我们可以收集 [2,3,2,2].\n",
    "如果我们从第一棵树开始，我们将只能收集到 [1, 2]。\n",
    "\n",
    "示例 4：\n",
    "输入：[3,3,3,1,2,1,1,2,3,3,4]\n",
    "输出：5\n",
    "解释：我们可以收集 [1,2,1,1,2].\n",
    "如果我们从第一棵树或第八棵树开始，我们将只能收集到 4 个水果。\n",
    " \n",
    "\n",
    "提示：\n",
    "1 <= tree.length <= 40000\n",
    "0 <= tree[i] < tree.length"
   ]
  },
  {
   "cell_type": "markdown",
   "metadata": {},
   "source": [
    "## 思路一"
   ]
  },
  {
   "cell_type": "raw",
   "metadata": {},
   "source": [
    "这个题如果抽象成模型的话就是，求一个数组的最长连续子数组，要求这个子数组中最多只存在两个不同的元素。\n",
    "\n",
    "如果做了上面的抽象，那么我们就很容易想到使用双指针，计算双指针区间内的所有元素的个数，这个个数就是我们要求的能摘取的果子个数。同时在移动的过程中要保证，双指针区间内的元素种类最多为2.之前做题的时候有使用Counter直接数一个区间内所有的个数，这样会超时的。所以使用了字典进行存储，每次只更新最右边和最左边的元素的个数即可。\n",
    "\n",
    "时间复杂度是O(N)，空间复杂度是O(N)."
   ]
  },
  {
   "cell_type": "code",
   "execution_count": 1,
   "metadata": {},
   "outputs": [],
   "source": [
    "class Solution(object):\n",
    "    def totalFruit(self, tree):\n",
    "        \"\"\"\n",
    "        :type tree: List[int]\n",
    "        :rtype: int\n",
    "        \"\"\"\n",
    "        left, right = 0, 0\n",
    "        res = 0\n",
    "        cnt = collections.defaultdict(int)\n",
    "        while right < len(tree):\n",
    "            cnt[tree[right]] += 1\n",
    "            while len(cnt) > 2:\n",
    "                cnt[tree[left]] -= 1\n",
    "                if cnt[tree[left]] == 0:\n",
    "                    del cnt[tree[left]]\n",
    "                left += 1\n",
    "            res = max(res, right - left + 1)\n",
    "            right += 1\n",
    "        return res\n",
    "\n"
   ]
  }
 ],
 "metadata": {
  "kernelspec": {
   "display_name": "Python 3",
   "language": "python",
   "name": "python3"
  },
  "language_info": {
   "codemirror_mode": {
    "name": "ipython",
    "version": 3
   },
   "file_extension": ".py",
   "mimetype": "text/x-python",
   "name": "python",
   "nbconvert_exporter": "python",
   "pygments_lexer": "ipython3",
   "version": "3.6.5"
  }
 },
 "nbformat": 4,
 "nbformat_minor": 2
}
