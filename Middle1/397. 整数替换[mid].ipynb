{
 "cells": [
  {
   "cell_type": "markdown",
   "metadata": {},
   "source": [
    "# 题目原意"
   ]
  },
  {
   "cell_type": "raw",
   "metadata": {},
   "source": [
    "给定一个正整数 n，你可以做如下操作：\n",
    "\n",
    "1. 如果 n 是偶数，则用 n / 2替换 n。\n",
    "2. 如果 n 是奇数，则可以用 n + 1或n - 1替换 n。\n",
    "n 变为 1 所需的最小替换次数是多少？\n"
   ]
  },
  {
   "cell_type": "raw",
   "metadata": {},
   "source": [
    "示例 1:\n",
    "输入:8\n",
    "输出:3\n",
    "解释:\n",
    "8 -> 4 -> 2 -> 1\n",
    "\n",
    "示例 2:\n",
    "输入:7\n",
    "输出:4\n",
    "\n",
    "解释:\n",
    "7 -> 8 -> 4 -> 2 -> 1\n",
    "或\n",
    "7 -> 6 -> 3 -> 2 -> 1"
   ]
  },
  {
   "cell_type": "markdown",
   "metadata": {},
   "source": [
    "## 思路一：递归"
   ]
  },
  {
   "cell_type": "code",
   "execution_count": 1,
   "metadata": {},
   "outputs": [],
   "source": [
    "class Solution(object):\n",
    "    def integerReplacement(self, n):\n",
    "        \"\"\"\n",
    "        :type n: int\n",
    "        :rtype: int\n",
    "        \"\"\"\n",
    "        if n == 1: return 0\n",
    "        if n % 2 == 0:\n",
    "            return 1+self.integerReplacement(n/2)\n",
    "        else:\n",
    "            return 1+ min(self.integerReplacement(n+1), self.integerReplacement(n-1))"
   ]
  },
  {
   "cell_type": "markdown",
   "metadata": {},
   "source": [
    "## 思路二： 位运算"
   ]
  },
  {
   "cell_type": "raw",
   "metadata": {},
   "source": [
    "当n是奇数的时候，如何决定应该加1还是减1？我们可以看这个数字的二进制。奇数的二进制一定是01或11结尾。同时，发现如果把一个奇数化为4的倍数，变成1的步骤会更少（3除外）。如果结尾是01，那么应该对其-1；如果结尾是11，那么应该对其+1；\n",
    "如果这个数字是3，需要对其-1。\n",
    "直接迭代求解，速度很快。\n"
   ]
  },
  {
   "cell_type": "code",
   "execution_count": 3,
   "metadata": {},
   "outputs": [],
   "source": [
    "class Solution(object):\n",
    "    def integerReplacement(self, n):\n",
    "        \"\"\"\n",
    "        :type n: int\n",
    "        :rtype: int\n",
    "        \"\"\"\n",
    "        count = 0\n",
    "        while n > 1:\n",
    "            count += 1\n",
    "            if n & 1: #奇数\n",
    "                if n & 2 and n != 3: # 尾号是11\n",
    "                    n += 1\n",
    "                else: # 尾号为01\n",
    "                    n -= 1\n",
    "            else: # 偶数\n",
    "                n >>= 1\n",
    "        return count \n",
    "    "
   ]
  }
 ],
 "metadata": {
  "kernelspec": {
   "display_name": "Python 3",
   "language": "python",
   "name": "python3"
  },
  "language_info": {
   "codemirror_mode": {
    "name": "ipython",
    "version": 3
   },
   "file_extension": ".py",
   "mimetype": "text/x-python",
   "name": "python",
   "nbconvert_exporter": "python",
   "pygments_lexer": "ipython3",
   "version": "3.6.5"
  }
 },
 "nbformat": 4,
 "nbformat_minor": 2
}
