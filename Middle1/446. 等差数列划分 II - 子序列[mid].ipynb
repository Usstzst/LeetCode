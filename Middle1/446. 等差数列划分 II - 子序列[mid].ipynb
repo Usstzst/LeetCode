{
 "cells": [
  {
   "cell_type": "markdown",
   "metadata": {},
   "source": [
    "# 题目原意"
   ]
  },
  {
   "cell_type": "raw",
   "metadata": {},
   "source": [
    "如果一个数列至少有三个元素，并且任意两个相邻元素之差相同，则称该数列为等差数列。\n",
    "\n",
    "例如，以下数列为等差数列:\n",
    "\n",
    "1, 3, 5, 7, 9\n",
    "7, 7, 7, 7\n",
    "3, -1, -5, -9\n",
    "以下数列不是等差数列。\n",
    "\n",
    "1, 1, 2, 5, 7\n",
    " \n",
    "\n",
    "数组 A 包含 N 个数，且索引从 0 开始。该数组子序列将划分为整数序列 (P0, P1, ..., Pk)，P 与 Q 是整数且满足 0 ≤ P0 < P1 < ... < Pk < N。\n",
    "\n",
    " \n",
    "\n",
    "如果序列 A[P0]，A[P1]，...，A[Pk-1]，A[Pk] 是等差的，那么数组 A 的子序列 (P0，P1，…，PK) 称为等差序列。值得注意的是，这意味着 k ≥ 2。\n",
    "\n",
    "函数要返回数组 A 中所有等差子序列的个数。\n",
    "\n",
    "输入包含 N 个整数。每个整数都在 -231 和 231-1 之间，另外 0 ≤ N ≤ 1000。保证输出小于 231-1。\n",
    " "
   ]
  },
  {
   "cell_type": "raw",
   "metadata": {},
   "source": [
    "示例：\n",
    "输入：[2, 4, 6, 8, 10]\n",
    "输出：7\n",
    "\n",
    "解释：\n",
    "所有的等差子序列为：\n",
    "[2,4,6]\n",
    "[4,6,8]\n",
    "[6,8,10]\n",
    "[2,4,6,8]\n",
    "[4,6,8,10]\n",
    "[2,4,6,8,10]\n",
    "[2,6,10]"
   ]
  },
  {
   "cell_type": "markdown",
   "metadata": {},
   "source": [
    "## 思路一：动态规划"
   ]
  },
  {
   "cell_type": "raw",
   "metadata": {},
   "source": [
    "本题与413最大的不同在于：413划分得到子数列各元素索引是连续的 0<= P < P+1 <P+2 ...< Q< N\n",
    "而本题各元素可以随意组合，只需要保证P0 <= P1 < P2 < ... < Pk < N\n",
    "\n",
    "\n",
    "本题状态转移方程：dp[x][delta] += dp[y][delta] + 1（y∈[0, x - 1]）"
   ]
  },
  {
   "cell_type": "code",
   "execution_count": 1,
   "metadata": {},
   "outputs": [],
   "source": [
    "class Solution(object):\n",
    "    def numberOfArithmeticSlices(self, A):\n",
    "        \"\"\"\n",
    "        :type A: List[int]\n",
    "        :rtype: int\n",
    "        \"\"\"\n",
    "        ans, n = 0, len(A)\n",
    "        dp = [{} for i in range(n)]\n",
    "        for i in range(1, n):\n",
    "            for j in range(i):\n",
    "                dist = A[i] - A[j]\n",
    "                s = dp[j].get(dist, 0) + 1\n",
    "                dp[i][dist] = dp[i].get(dist, 0) + s\n",
    "                ans += (s-1)\n",
    "        return ans\n"
   ]
  }
 ],
 "metadata": {
  "kernelspec": {
   "display_name": "Python 3",
   "language": "python",
   "name": "python3"
  },
  "language_info": {
   "codemirror_mode": {
    "name": "ipython",
    "version": 3
   },
   "file_extension": ".py",
   "mimetype": "text/x-python",
   "name": "python",
   "nbconvert_exporter": "python",
   "pygments_lexer": "ipython3",
   "version": "3.6.5"
  }
 },
 "nbformat": 4,
 "nbformat_minor": 2
}
