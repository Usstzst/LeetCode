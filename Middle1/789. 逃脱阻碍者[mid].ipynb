{
 "cells": [
  {
   "cell_type": "markdown",
   "metadata": {},
   "source": [
    "# 题目原意"
   ]
   
  },
  {
   "cell_type": "raw",
   "metadata": {},
   "source": [
    "你在进行一个简化版的吃豆人游戏。你从 (0, 0) 点开始出发，你的目的地是 (target[0], target[1]) 。地图上有一些阻碍者，第 i 个阻碍者从 (ghosts[i][0], ghosts[i][1]) 出发。\n",
    "\n",
    "每一回合，你和阻碍者们*可以*同时向东，西，南，北四个方向移动，每次可以移动到距离原位置1个单位的新位置。\n",
    "\n",
    "如果你可以在任何阻碍者抓住你之前到达目的地（阻碍者可以采取任意行动方式），则被视为逃脱成功。如果你和阻碍者同时到达了一个位置（包括目的地）都不算是逃脱成功。\n",
    "\n",
    "当且仅当你有可能成功逃脱时，输出 True。"
   ]
  },
  {
   "cell_type": "markdown",
   "metadata": {},
   "source": [
    "## 思路一：曼哈顿距离"
   ]
  },
  {
   "cell_type": "code",
   "execution_count": 1,
   "metadata": {},
   "outputs": [],
   "source": [
    "class Solution:\n",
    "    def escapeGhosts(self, ghosts, target):\n",
    "        \"\"\"\n",
    "        :type ghosts: List[List[int]]\n",
    "        :type target: List[int]\n",
    "        :rtype: bool\n",
    "        \"\"\"\n",
    "        mht = sum(map(abs, target))\n",
    "        tx, ty = target\n",
    "        return not any(abs(gx - tx) + abs(gy - ty) <= mht for gx, gy in ghosts)\n"
   ]
  }
 ],
 "metadata": {
  "kernelspec": {
   "display_name": "Python 3",
   "language": "python",
   "name": "python3"
  },
  "language_info": {
   "codemirror_mode": {
    "name": "ipython",
    "version": 3
   },
   "file_extension": ".py",
   "mimetype": "text/x-python",
   "name": "python",
   "nbconvert_exporter": "python",
   "pygments_lexer": "ipython3",
   "version": "3.7.0"
  }
 },
 "nbformat": 4,
 "nbformat_minor": 2
}
