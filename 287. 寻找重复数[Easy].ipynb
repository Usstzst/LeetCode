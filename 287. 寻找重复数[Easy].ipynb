{
 "cells": [
  {
   "cell_type": "markdown",
   "metadata": {},
   "source": [
    "# 题目原意"
   ]
  },
  {
   "cell_type": "raw",
   "metadata": {},
   "source": [
    "给定一个包含 n + 1 个整数的数组 nums，其数字都在 1 到 n 之间（包括 1 和 n），可知至少存在一个重复的整数。假设只有一个重复的整数，找出这个重复的数"
   ]
  },
  {
   "cell_type": "raw",
   "metadata": {},
   "source": [
    "Example :\n",
    "输入: [1,3,4,2,2]\n",
    "输出: 2\n",
    "\n",
    "输入: [3,1,3,4,2]\n",
    "输出: 3"
   ]
  },
  {
   "cell_type": "raw",
   "metadata": {},
   "source": [
    "说明：\n",
    "\n",
    "不能更改原数组（假设数组是只读的）。\n",
    "只能使用额外的 O(1) 的空间。\n",
    "时间复杂度小于 O(n2) 。\n",
    "数组中只有一个重复的数字，但它可能不止重复出现一次。"
   ]
  },
  {
   "cell_type": "markdown",
   "metadata": {},
   "source": [
    "## 思路一：抽屉法"
   ]
  },
  {
   "cell_type": "raw",
   "metadata": {},
   "source": [
    "如果我们的序列是没有重复的，例如，[1,2,3]。那么可以由每一个下标对应一个数字，0->1 1->2 2->3，我们把这种映射关系应用出来，从下标0开始，找到0对应的数字，然后将这个数字作为新的下标找到新的数字，直到超出下界。比如这个例子中我们的路径就是0->1->2->3。 \n",
    "那么如果序列是重复的，[1,3,3,2]，那么就会有下标对应数字时会有重复，0->1 {1,2}->3 3->2，那么我们的路径就会出现环！ 0->1->3->2->3->2…，会出现3 2 这个环，那么环开始的地方就是重复的数字啦。\n"
   ]
  },
  {
   "cell_type": "code",
   "execution_count": null,
   "metadata": {},
   "outputs": [],
   "source": [
    "class Solution(object):\n",
    "    def findDuplicate(self, nums):\n",
    "        \"\"\"\n",
    "        :type nums: List[int]\n",
    "        :rtype: int\n",
    "        \"\"\"\n",
    "        slow = nums[0]\n",
    "        fast = nums[nums[0]]\n",
    "        while(slow != fast):\n",
    "            slow = nums[slow]\n",
    "            fast = nums[nums[fast]]\n",
    "        fast = 0\n",
    "        while(fast != slow):\n",
    "            slow = nums[slow]\n",
    "            fast = nums[fast]\n",
    "        return slow\n"
   ]
  }
 ],
 "metadata": {
  "kernelspec": {
   "display_name": "Python 3",
   "language": "python",
   "name": "python3"
  },
  "language_info": {
   "codemirror_mode": {
    "name": "ipython",
    "version": 3
   },
   "file_extension": ".py",
   "mimetype": "text/x-python",
   "name": "python",
   "nbconvert_exporter": "python",
   "pygments_lexer": "ipython3",
   "version": "3.6.5"
  }
 },
 "nbformat": 4,
 "nbformat_minor": 2
}
