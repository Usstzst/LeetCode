{
 "cells": [
  {
   "cell_type": "markdown",
   "metadata": {},
   "source": [
    "# 题目原意"
   ]
  },
  {
   "cell_type": "raw",
   "metadata": {},
   "source": [
    "给定一个无序的数组，找出数组在排序之后，相邻元素之间最大的差值。\n",
    "\n",
    "如果数组元素个数小于 2，则返回 0。\n"
   ]
  },
  {
   "cell_type": "raw",
   "metadata": {},
   "source": [
    "示例 1:\n",
    "输入: [3,6,9,1]\n",
    "输出: 3\n",
    "解释: 排序后的数组是 [1,3,6,9], 其中相邻元素 (3,6) 和 (6,9) 之间都存在最大差值 3。\n",
    "\n",
    "示例 2:\n",
    "输入: [10]\n",
    "输出: 0\n",
    "解释: 数组元素个数小于 2，因此返回 0。\n",
    "\n",
    "说明:\n",
    "你可以假设数组中所有元素都是非负整数，且数值在 32 位有符号整数范围内。\n",
    "请尝试在线性时间复杂度和空间复杂度的条件下解决此问题。"
   ]
  },
  {
   "cell_type": "markdown",
   "metadata": {},
   "source": [
    "## 思路一"
   ]
  },
  {
   "cell_type": "raw",
   "metadata": {},
   "source": [
    "先对数组进行排序， 之后依次遍历，c 存放当前元素与前一个元素之间的差值即间距的最大值，并更新后返回。"
   ]
  },
  {
   "cell_type": "code",
   "execution_count": 1,
   "metadata": {},
   "outputs": [],
   "source": [
    "class Solution(object):\n",
    "    def maximumGap(self, nums):\n",
    "        \"\"\"\n",
    "        :type nums: List[int]\n",
    "        :rtype: int\n",
    "        \"\"\"\n",
    "        nums.sort()\n",
    "        c = 0\n",
    "        for i in range(1,len(nums)):\n",
    "            c = max(c, nums[i]-nums[i-1])\n",
    "        return c\n",
    "            \n",
    "        "
   ]
  }
 ],
 "metadata": {
  "kernelspec": {
   "display_name": "Python 3",
   "language": "python",
   "name": "python3"
  },
  "language_info": {
   "codemirror_mode": {
    "name": "ipython",
    "version": 3
   },
   "file_extension": ".py",
   "mimetype": "text/x-python",
   "name": "python",
   "nbconvert_exporter": "python",
   "pygments_lexer": "ipython3",
   "version": "3.6.5"
  }
 },
 "nbformat": 4,
 "nbformat_minor": 2
}
