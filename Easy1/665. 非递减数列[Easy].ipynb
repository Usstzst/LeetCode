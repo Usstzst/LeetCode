{
 "cells": [
  {
   "cell_type": "markdown",
   "metadata": {},
   "source": [
    "# 题目原意"
   ]
  },
  {
   "cell_type": "raw",
   "metadata": {},
   "source": [
    "给定一个长度为 n 的整数数组，你的任务是判断在最多改变 1 个元素的情况下，该数组能否变成一个非递减数列。\n",
    "\n",
    "我们是这样定义一个非递减数列的： 对于数组中所有的 i (1 <= i < n)，满足 array[i] <= array[i + 1]。\n",
    "\n",
    "示例 1:\n",
    "\n",
    "输入: [4,2,3]\n",
    "输出: True\n",
    "解释: 你可以通过把第一个4变成1来使得它成为一个非递减数列。\n",
    "示例 2:\n",
    "\n",
    "输入: [4,2,1]\n",
    "输出: False\n",
    "解释: 你不能在只改变一个元素的情况下将其变为非递减数列。\n",
    "说明:  n 的范围为 [1, 10,000]。"
   ]
  },
  {
   "cell_type": "markdown",
   "metadata": {},
   "source": [
    "## 思路一"
   ]
  },
  {
   "cell_type": "raw",
   "metadata": {},
   "source": [
    "对nums数组复制两份a1，a2。其中一份改大，另一份改小，且只改动一次就直接break，结束遍历。然后a1和对a1进行排序后进行比较，a2和对a2进行排序后进行比较，只要其中一个是相等的，就可返回true，否则返回false。这种Python写起来比较方便。"
   ]
  },
  {
   "cell_type": "code",
   "execution_count": 6,
   "metadata": {},
   "outputs": [],
   "source": [
    "class Solution1(object):\n",
    "    def checkPossibility(self, nums):\n",
    "        \"\"\"\n",
    "        :type nums: List[int]\n",
    "        :rtype: bool\n",
    "        \"\"\"\n",
    "        if len(nums)<2:\n",
    "            return True\n",
    "        a1=nums[:]\n",
    "        a2=nums[:]\n",
    "        for i in range(len(nums)-1):\n",
    "            if nums[i]>nums[i+1]:\n",
    "                a1[i]=nums[i+1]\n",
    "                a2[i+1]=nums[i]\n",
    "                break\n",
    "        return a1==sorted(a1) or a2==sorted(a2)\n"
   ]
  }
 ],
 "metadata": {
  "kernelspec": {
   "display_name": "Python 3",
   "language": "python",
   "name": "python3"
  },
  "language_info": {
   "codemirror_mode": {
    "name": "ipython",
    "version": 3
   },
   "file_extension": ".py",
   "mimetype": "text/x-python",
   "name": "python",
   "nbconvert_exporter": "python",
   "pygments_lexer": "ipython3",
   "version": "3.6.5"
  }
 },
 "nbformat": 4,
 "nbformat_minor": 2
}
