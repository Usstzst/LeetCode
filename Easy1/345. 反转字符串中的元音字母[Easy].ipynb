{
 "cells": [
  {
   "cell_type": "markdown",
   "metadata": {},
   "source": [
    "# 题目原意"
   ]
  },
  {
   "cell_type": "raw",
   "metadata": {},
   "source": [
    "编写一个函数，以字符串作为输入，反转该字符串中的元音字母。"
   ]
  },
  {
   "cell_type": "raw",
   "metadata": {},
   "source": [
    "Example 1:\n",
    "输入: \"hello\"\n",
    "输出: \"holle\"\n",
    "\n",
    "\n",
    "Example 2:\n",
    "输入: \"leetcode\"\n",
    "输出: \"leotcede\""
   ]
  },
  {
   "cell_type": "markdown",
   "metadata": {},
   "source": [
    "## 思路一"
   ]
  },
  {
   "cell_type": "raw",
   "metadata": {},
   "source": [
    "一遍扫描所有字符，记录所有元音字母和它们出现的位置到一个数组中；再扫描这个数组，将元音字母逆序填回原来的字符串相应位置。"
   ]
  },
  {
   "cell_type": "code",
   "execution_count": 1,
   "metadata": {},
   "outputs": [],
   "source": [
    "class Solution(object):\n",
    "    def reverseVowels(self, s):\n",
    "        \"\"\"\n",
    "        :type s: str\n",
    "        :rtype: str\n",
    "        \"\"\"\n",
    "        res = list(s)\n",
    "        vowels = []\n",
    "        for i in range(len(res)):\n",
    "            if res[i] in ['a', 'o', 'e', 'i', 'u', 'A', 'O', 'E', 'I', 'U']:\n",
    "                vowels.append(res[i])\n",
    "        for j in range(len(vowels)/2):\n",
    "            res[vowels[j][0]] = vowels[len(vowels)-j-1][1]\n",
    "            res[vowels[len(vowels)-j-1][0]] = vowels[j][1]\n",
    "        return ''.join(res"
   ]
  },
  {
   "cell_type": "markdown",
   "metadata": {},
   "source": [
    "## 思路二：正则"
   ]
  },
  {
   "cell_type": "code",
   "execution_count": 2,
   "metadata": {},
   "outputs": [],
   "source": [
    "class Solution(object):\n",
    "    def reverseVowels(self, s):\n",
    "        \"\"\"\n",
    "        :type s: str\n",
    "        :rtype: str\n",
    "        \"\"\"\n",
    "        vowels = re.findall('(?i)[aeiou]', s)\n",
    "        return re.sub('(?i)[aeiou]', lambda m: vowels.pop(), s)"
   ]
  }
 ],
 "metadata": {
  "kernelspec": {
   "display_name": "Python 3",
   "language": "python",
   "name": "python3"
  },
  "language_info": {
   "codemirror_mode": {
    "name": "ipython",
    "version": 3
   },
   "file_extension": ".py",
   "mimetype": "text/x-python",
   "name": "python",
   "nbconvert_exporter": "python",
   "pygments_lexer": "ipython3",
   "version": "3.6.5"
  }
 },
 "nbformat": 4,
 "nbformat_minor": 2
}
