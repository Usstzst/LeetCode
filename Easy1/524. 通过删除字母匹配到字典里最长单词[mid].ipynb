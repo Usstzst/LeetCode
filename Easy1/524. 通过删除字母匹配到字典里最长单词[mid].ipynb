{
 "cells": [
  {
   "cell_type": "markdown",
   "metadata": {},
   "source": [
    "# 题目原意"
   ]
  },
  {
   "cell_type": "raw",
   "metadata": {},
   "source": [
    "给定一个字符串和一个字符串字典，找到字典里面最长的字符串，该字符串可以通过删除给定字符串的某些字符来得到。如果答案不止一个，返回长度最长且字典顺序最小的字符串。如果答案不存在，则返回空字符串。\n",
    "\n"
   ]
  },
  {
   "cell_type": "raw",
   "metadata": {},
   "source": [
    "示例 1:\n",
    "输入:\n",
    "s = \"abpcplea\", d = [\"ale\",\"apple\",\"monkey\",\"plea\"]\n",
    "输出: \n",
    "\"apple\"\n",
    "\n",
    "示例 2:\n",
    "输入:\n",
    "s = \"abpcplea\", d = [\"a\",\"b\",\"c\"]\n",
    "输出: \n",
    "\"a\"\n",
    "\n",
    "说明:\n",
    "所有输入的字符串只包含小写字母。\n",
    "字典的大小不会超过 1000。\n",
    "所有输入的字符串长度不会超过 1000。"
   ]
  },
  {
   "cell_type": "markdown",
   "metadata": {},
   "source": [
    "## 思路一"
   ]
  },
  {
   "cell_type": "raw",
   "metadata": {},
   "source": [
    "使用sort()函数的key可以有多个变量依次排序。比如 d = sorted(d, key=lambda x: (-len(x), x)),先按长度逆序排列，然后相同长度的再按字母顺序排序，一步到位。"
   ]
  },
  {
   "cell_type": "code",
   "execution_count": 1,
   "metadata": {},
   "outputs": [],
   "source": [
    "class Solution(object):\n",
    "    def findLongestWord(self, s, d):\n",
    "        \"\"\"\n",
    "        :type s: str\n",
    "        :type d: List[str]\n",
    "        :rtype: str\n",
    "        \"\"\"\n",
    "        def isSubseq(word, s):\n",
    "            i = 0\n",
    "            for c in s:\n",
    "                if c== word[i]:\n",
    "                    i += 1\n",
    "                if i == len(word):\n",
    "                    return True\n",
    "            return False\n",
    "\n",
    "\n",
    "    \n",
    "        d.sort(key=lambda x:(len(x), x)) \n",
    "        for word in d:\n",
    "            if isSubseq(word, s):\n",
    "                return word\n",
    "        return ''\n"
   ]
  }
 ],
 "metadata": {
  "kernelspec": {
   "display_name": "Python 3",
   "language": "python",
   "name": "python3"
  },
  "language_info": {
   "codemirror_mode": {
    "name": "ipython",
    "version": 3
   },
   "file_extension": ".py",
   "mimetype": "text/x-python",
   "name": "python",
   "nbconvert_exporter": "python",
   "pygments_lexer": "ipython3",
   "version": "3.7.0"
  }
 },
 "nbformat": 4,
 "nbformat_minor": 2
}
