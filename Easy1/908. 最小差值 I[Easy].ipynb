{
 "cells": [
  {
   "cell_type": "markdown",
   "metadata": {},
   "source": [
    "# 题目原意"
   ]
  },
  {
   "cell_type": "raw",
   "metadata": {},
   "source": [
    "给定一个整数数组 A，对于每个整数 A[i]，我们可以选择任意 x 满足 -K <= x <= K，并将 x 加到 A[i] 中。\n",
    "\n",
    "在此过程之后，我们得到一些数组 B。\n",
    "\n",
    "返回 B 的最大值和 B 的最小值之间可能存在的最小差值。"
   ]
  },
  {
   "cell_type": "raw",
   "metadata": {},
   "source": [
    "Example 1:\n",
    "输入：A = [0,10], K = 2\n",
    "输出：6\n",
    "解释：B = [2,8]\n",
    "\n",
    "\n",
    "Example 2:\n",
    "输入：A = [1,3,6], K = 3\n",
    "输出：0\n",
    "解释：B = [3,3,3] 或 B = [4,4,4]\n"
   ]
  },
  {
   "cell_type": "markdown",
   "metadata": {},
   "source": [
    "## 思路一"
   ]
  },
  {
   "cell_type": "raw",
   "metadata": {},
   "source": [
    "要求的是新的数组最大值和最小值之差，所以，我们应该把所有的数字向中间靠拢。即A中的最小值+K, 最大值-K，判断这样操作之后，能否有重叠，如果能重叠所求的结果就是0；如果不能重叠，所求的结果就是两者的差值。\n",
    "\n",
    "时间复杂度是O(N)，空间复杂度是O(1)."
   ]
  },
  {
   "cell_type": "code",
   "execution_count": 1,
   "metadata": {},
   "outputs": [],
   "source": [
    "class Solution(object):\n",
    "    def smallestRangeI(self, A, K):\n",
    "        \"\"\"\n",
    "        :type A: List[int]\n",
    "        :type K: int\n",
    "        :rtype: int\n",
    "        \"\"\"\n",
    "        return max(max(A) - min(A) - 2 * K, 0)\n"
   ]
  }
 ],
 "metadata": {
  "kernelspec": {
   "display_name": "Python 3",
   "language": "python",
   "name": "python3"
  },
  "language_info": {
   "codemirror_mode": {
    "name": "ipython",
    "version": 3
   },
   "file_extension": ".py",
   "mimetype": "text/x-python",
   "name": "python",
   "nbconvert_exporter": "python",
   "pygments_lexer": "ipython3",
   "version": "3.7.0"
  }
 },
 "nbformat": 4,
 "nbformat_minor": 2
}
