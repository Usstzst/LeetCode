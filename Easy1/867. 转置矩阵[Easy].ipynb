{
 "cells": [
  {
   "cell_type": "markdown",
   "metadata": {},
   "source": [
    "# 题目原意"
   ]
  },
  {
   "cell_type": "raw",
   "metadata": {},
   "source": [
    "给定一个矩阵 A， 返回 A 的转置矩阵。\n",
    "\n",
    "矩阵的转置是指将矩阵的主对角线翻转，交换矩阵的行索引与列索引。"
   ]
  },
  {
   "cell_type": "raw",
   "metadata": {},
   "source": [
    "Example :\n",
    "输入：[[1,2,3],[4,5,6],[7,8,9]]\n",
    "输出：[[1,4,7],[2,5,8],[3,6,9]]"
   ]
  },
  {
   "cell_type": "markdown",
   "metadata": {},
   "source": [
    "## 思路一"
   ]
  },
  {
   "cell_type": "raw",
   "metadata": {},
   "source": [
    "所谓转置，就是把一个矩阵的行和列进行互换。因此这个题其实就是考察了，把一个原始矩阵通过行列元素互换得到新的矩阵。\n",
    "\n",
    "那么只要我们新建一个行数等于原始列数，列数等于原始行数的矩阵，再对原始矩阵进行遍历即可。\n",
    "\n",
    "时间复杂度是O(MN)，空间复杂度是O(1)."
   ]
  },
  {
   "cell_type": "code",
   "execution_count": 2,
   "metadata": {},
   "outputs": [],
   "source": [
    "class Solution(object):\n",
    "    def transpose(self, A):\n",
    "        \"\"\"\n",
    "        :type A: List[List[int]]\n",
    "        :rtype: List[List[int]]\n",
    "        \"\"\"\n",
    "        rows , cols = len(A), len(A[0])\n",
    "        res = [[0]*rows for _ in range(cols)]\n",
    "        for row in range(rows):\n",
    "            for col in range(cols):\n",
    "                res[row][col] = A[col][row]\n",
    "                \n",
    "        return res\n",
    "    \n",
    "        "
   ]
  },
  {
   "cell_type": "markdown",
   "metadata": {},
   "source": [
    "## 思路二"
   ]
  },
  {
   "cell_type": "raw",
   "metadata": {},
   "source": [
    "zip(): 相当于压缩，简单理解就是，把长度相等的几列数据，压缩成一个矩阵，变成按行储存\n",
    "zip(*):相当于解压，简单理解就是，把一个矩阵本来是一行一行的储存的，现在解压成一列一列的储存，相当于矩阵转置。"
   ]
  },
  {
   "cell_type": "code",
   "execution_count": 3,
   "metadata": {},
   "outputs": [],
   "source": [
    "class Solution(object):\n",
    "    def transpose(self, A):\n",
    "        \"\"\"\n",
    "        :type A: List[List[int]]\n",
    "        :rtype: List[List[int]]\n",
    "        \"\"\"\n",
    "        A[::] = zip(*A)\n",
    "        return A\n",
    "    "
   ]
  }
 ],
 "metadata": {
  "kernelspec": {
   "display_name": "Python 3",
   "language": "python",
   "name": "python3"
  },
  "language_info": {
   "codemirror_mode": {
    "name": "ipython",
    "version": 3
   },
   "file_extension": ".py",
   "mimetype": "text/x-python",
   "name": "python",
   "nbconvert_exporter": "python",
   "pygments_lexer": "ipython3",
   "version": "3.7.0"
  }
 },
 "nbformat": 4,
 "nbformat_minor": 2
}
