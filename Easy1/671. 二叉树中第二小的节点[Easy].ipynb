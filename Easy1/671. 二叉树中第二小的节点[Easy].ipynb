{
 "cells": [
  {
   "cell_type": "markdown",
   "metadata": {},
   "source": [
    "# 题目原意"
   ]
  },
  {
   "cell_type": "raw",
   "metadata": {},
   "source": [
    "给定一个非空特殊的二叉树，每个节点都是正数，并且每个节点的子节点数量只能为 2 或 0。如果一个节点有两个子节点的话，那么这个节点的值不大于它的子节点的值。 \n",
    "\n",
    "给出这样的一个二叉树，你需要输出所有节点中的第二小的值。如果第二小的值不存在的话，输出 -1 。"
   ]
  },
  {
   "cell_type": "raw",
   "metadata": {},
   "source": [
    "示例 1:\n",
    "输入: \n",
    "    2\n",
    "   / \\\n",
    "  2   5\n",
    "     / \\\n",
    "    5   7\n",
    "\n",
    "输出: 5\n",
    "说明: 最小的值是 2 ，第二小的值是 5 。\n",
    "\n",
    "示例 2:\n",
    "\n",
    "输入: \n",
    "    2\n",
    "   / \\\n",
    "  2   2\n",
    "\n",
    "输出: -1\n",
    "说明: 最小的值是 2, 但是不存在第二小的值。"
   ]
  },
  {
   "cell_type": "markdown",
   "metadata": {},
   "source": [
    "## 思路一：找出所有值再求次小值\n"
   ]
  },
  {
   "cell_type": "code",
   "execution_count": 1,
   "metadata": {},
   "outputs": [],
   "source": [
    "# Definition for a binary tree node.\n",
    "# class TreeNode(object):\n",
    "#     def __init__(self, x):\n",
    "#         self.val = x\n",
    "#         self.left = None\n",
    "#         self.right = None\n",
    "\n",
    "class Solution(object):\n",
    "    def findSecondMinimumValue(self, root):\n",
    "        \"\"\"\n",
    "        :type root: TreeNode\n",
    "        :rtype: int\n",
    "        \"\"\"\n",
    "        self.res = set()\n",
    "        self.inOrder(root)\n",
    "        if len(self.res) <= 1:\n",
    "            return -1\n",
    "        min1 = min(self.res)\n",
    "        self.res.remove(min1)\n",
    "        return min(self.res)\n",
    "      \n",
    "    def inOrder(self, root):\n",
    "        if not root:\n",
    "            return \n",
    "        self.inOrder(root.left)\n",
    "        self.res.add(root.val)\n",
    "        self.inOrder(root.right)\n",
    "        \n",
    "  "
   ]
  }
 ],
 "metadata": {
  "kernelspec": {
   "display_name": "Python 3",
   "language": "python",
   "name": "python3"
  },
  "language_info": {
   "codemirror_mode": {
    "name": "ipython",
    "version": 3
   },
   "file_extension": ".py",
   "mimetype": "text/x-python",
   "name": "python",
   "nbconvert_exporter": "python",
   "pygments_lexer": "ipython3",
   "version": "3.7.0"
  }
 },
 "nbformat": 4,
 "nbformat_minor": 2
}
