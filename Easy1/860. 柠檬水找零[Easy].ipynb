{
 "cells": [
  {
   "cell_type": "markdown",
   "metadata": {},
   "source": [
    "# 题目原意"
   ]
  },
  {
   "cell_type": "raw",
   "metadata": {},
   "source": [
    "在柠檬水摊上，每一杯柠檬水的售价为 5 美元。\n",
    "\n",
    "顾客排队购买你的产品，（按账单 bills 支付的顺序）一次购买一杯。\n",
    "\n",
    "每位顾客只买一杯柠檬水，然后向你付 5 美元、10 美元或 20 美元。你必须给每个顾客正确找零，也就是说净交易是每位顾客向你支付 5 美元。\n",
    "\n",
    "注意，一开始你手头没有任何零钱。\n",
    "\n",
    "如果你能给每位顾客正确找零，返回 true ，否则返回 false 。"
   ]
  },
  {
   "cell_type": "raw",
   "metadata": {},
   "source": [
    "示例 1：\n",
    "输入：[5,5,5,10,20]\n",
    "输出：true\n",
    "解释：\n",
    "前 3 位顾客那里，我们按顺序收取 3 张 5 美元的钞票。\n",
    "第 4 位顾客那里，我们收取一张 10 美元的钞票，并返还 5 美元。\n",
    "第 5 位顾客那里，我们找还一张 10 美元的钞票和一张 5 美元的钞票。\n",
    "由于所有客户都得到了正确的找零，所以我们输出 true。\n",
    "\n",
    "\n",
    "示例 2：\n",
    "输入：[5,5,10]\n",
    "输出：true\n",
    "\n",
    "示例 3：\n",
    "输入：[10,10]\n",
    "输出：false\n",
    "\n",
    "示例 4：\n",
    "输入：[5,5,10,10,20]\n",
    "输出：false\n",
    "解释：\n",
    "前 2 位顾客那里，我们按顺序收取 2 张 5 美元的钞票。\n",
    "对于接下来的 2 位顾客，我们收取一张 10 美元的钞票，然后返还 5 美元。\n",
    "对于最后一位顾客，我们无法退回 15 美元，因为我们现在只有两张 10 美元的钞票。\n",
    "由于不是每位顾客都得到了正确的找零，所以答案是 false。\n",
    " \n",
    "\n",
    "\n",
    "提示：\n",
    "0 <= bills.length <= 10000\n",
    "bills[i] 不是 5 就是 10 或是 20 "
   ]
  },
  {
   "cell_type": "markdown",
   "metadata": {},
   "source": [
    "## 思路一"
   ]
  },
  {
   "cell_type": "raw",
   "metadata": {},
   "source": [
    "这个题目还是有点简单，题目中的零钱其实只有两种：5块和10块。\n",
    "\n",
    "当给的是10块的时候，肯定找一张5块的就够了。\n",
    "当给的是20块的时候，如果有10块的，先找10块的零钱，然后再找一张5块的。如果没有10块的，只能找三张5块的了。"
   ]
  },
  {
   "cell_type": "code",
   "execution_count": 1,
   "metadata": {},
   "outputs": [],
   "source": [
    "class Solution:\n",
    "    def lemonadeChange(self, bills):\n",
    "        \"\"\"\n",
    "        :type bills: List[int]\n",
    "        :rtype: bool\n",
    "        \"\"\"\n",
    "        changes = {5:0, 10:0}\n",
    "        for bill in bills:\n",
    "            if bill == 5:\n",
    "                changes[5] += 1\n",
    "            elif bill == 10:\n",
    "                if changes[5]==0:\n",
    "                    return False\n",
    "                else:\n",
    "                    changes[5] -= 1\n",
    "                    changes[10] += 1\n",
    "            elif bill == 20:\n",
    "                if change[10] != 0:\n",
    "                    if changes[5]==0:\n",
    "                        return False\n",
    "                    else:\n",
    "                        changes[5] -= 1\n",
    "                        change[10] -= 1\n",
    "                else:\n",
    "                    if changes[5]<3:\n",
    "                        return False\n",
    "                    else:\n",
    "                        changes[5] -= 3\n",
    "        return True\n",
    "        \n",
    "        \n",
    "       "
   ]
  }
 ],
 "metadata": {
  "kernelspec": {
   "display_name": "Python 3",
   "language": "python",
   "name": "python3"
  },
  "language_info": {
   "codemirror_mode": {
    "name": "ipython",
    "version": 3
   },
   "file_extension": ".py",
   "mimetype": "text/x-python",
   "name": "python",
   "nbconvert_exporter": "python",
   "pygments_lexer": "ipython3",
   "version": "3.7.0"
  }
 },
 "nbformat": 4,
 "nbformat_minor": 2
}
