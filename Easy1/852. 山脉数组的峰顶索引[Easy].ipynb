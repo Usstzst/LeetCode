{
 "cells": [
  {
   "cell_type": "markdown",
   "metadata": {},
   "source": [
    "# 题目原意"
   ]
  },
  {
   "cell_type": "raw",
   "metadata": {},
   "source": [
    "我们把符合下列属性的数组 A 称作山脉：\n",
    "\n",
    "A.length >= 3\n",
    "存在 0 < i < A.length - 1 使得A[0] < A[1] < ... A[i-1] < A[i] > A[i+1] > ... > A[A.length - 1]\n",
    "给定一个确定为山脉的数组，返回任何满足 A[0] < A[1] < ... A[i-1] < A[i] > A[i+1] > ... > A[A.length - 1] 的 i 的值。"
   ]
  },
  {
   "cell_type": "raw",
   "metadata": {},
   "source": [
    "Example :\n",
    "输入：[0,2,1,0]\n",
    "输出：1"
   ]
  },
  {
   "cell_type": "markdown",
   "metadata": {},
   "source": [
    "## 思路一：二分查找"
   ]
  },
  {
   "cell_type": "raw",
   "metadata": {},
   "source": [
    "这个比普通二叉搜索的改进地方就是不再判断left, mid, right三者之间的关系。而是对于中间的mid，去判断mid和其相邻的两个元素的关系。根据是否符合山峰的上坡和下坡，去移动指针。"
   ]
  },
  {
   "cell_type": "code",
   "execution_count": 3,
   "metadata": {},
   "outputs": [],
   "source": [
    "class Solution(object):\n",
    "    def peakIndexInMountainArray(self, A):\n",
    "        \"\"\"\n",
    "        :type A: List[int]\n",
    "        :rtype: int\n",
    "        \"\"\"\n",
    "        left, right = 0, len(A)-1\n",
    "        while left < right:\n",
    "            mid = (left + right ) / 2\n",
    "            if A[mid-1] < A[mid] and A[mid] < A[mid+1]:\n",
    "                left = mid\n",
    "            elif A[mid-1] > A[mid] and A[mid] > A[mid+1]:\n",
    "                right = mid\n",
    "            else: \n",
    "                break\n",
    "        return mid\n",
    "    \n"
   ]
  },
  {
   "cell_type": "markdown",
   "metadata": {},
   "source": [
    "## 思路二"
   ]
  },
  {
   "cell_type": "raw",
   "metadata": {},
   "source": [
    "思路一的改进"
   ]
  },
  {
   "cell_type": "code",
   "execution_count": 4,
   "metadata": {},
   "outputs": [],
   "source": [
    "class Solution:\n",
    "    def peakIndexInMountainArray(self, A):\n",
    "        \"\"\"\n",
    "        :type A: List[int]\n",
    "        :rtype: int\n",
    "        \"\"\"\n",
    "        N = len(A)\n",
    "        left, right = 0, N\n",
    "        while left < right:\n",
    "            mid = left + (right - left) // 2\n",
    "            if A[mid - 1] < A[mid] and A[mid] > A[mid + 1]:\n",
    "                return mid\n",
    "            if A[mid] < A[mid + 1]:\n",
    "                left = mid + 1\n",
    "            else:\n",
    "                right = mid\n",
    "        return -1\n"
   ]
  },
  {
   "cell_type": "markdown",
   "metadata": {},
   "source": [
    "## 思路三: 查找最大值位置"
   ]
  },
  {
   "cell_type": "raw",
   "metadata": {},
   "source": [
    "这个做法是在题目保证了给出的数组是满足条件的，那么只要找出最大值的位置那么一定就满足了条件。"
   ]
  },
  {
   "cell_type": "code",
   "execution_count": 5,
   "metadata": {},
   "outputs": [],
   "source": [
    "class Solution:\n",
    "    def peakIndexInMountainArray(self, A):\n",
    "        \"\"\"\n",
    "        :type A: List[int]\n",
    "        :rtype: int\n",
    "        \"\"\"\n",
    "        return A.index(max(A))\n"
   ]
  },
  {
   "cell_type": "markdown",
   "metadata": {},
   "source": [
    "## 思路四：寻找第一个下降的位置"
   ]
  },
  {
   "cell_type": "raw",
   "metadata": {},
   "source": [
    "题目给出的是满足条件的数组，所以找出第一个下降的位置就是题目所求啊。"
   ]
  },
  {
   "cell_type": "code",
   "execution_count": 6,
   "metadata": {},
   "outputs": [],
   "source": [
    "class Solution:\n",
    "    def peakIndexInMountainArray(self, A):\n",
    "        \"\"\"\n",
    "        :type A: List[int]\n",
    "        :rtype: int\n",
    "        \"\"\"\n",
    "        for i in range(len(A) - 1):\n",
    "            if A[i + 1] < A[i]:\n",
    "                return i\n",
    "        return -1\n"
   ]
  }
 ],
 "metadata": {
  "kernelspec": {
   "display_name": "Python 3",
   "language": "python",
   "name": "python3"
  },
  "language_info": {
   "codemirror_mode": {
    "name": "ipython",
    "version": 3
   },
   "file_extension": ".py",
   "mimetype": "text/x-python",
   "name": "python",
   "nbconvert_exporter": "python",
   "pygments_lexer": "ipython3",
   "version": "3.7.0"
  }
 },
 "nbformat": 4,
 "nbformat_minor": 2
}
