{
 "cells": [
  {
   "cell_type": "markdown",
   "metadata": {},
   "source": [
    "# 题目原意"
   ]
  },
  {
   "cell_type": "raw",
   "metadata": {},
   "source": [
    "给定一个正整数 N，找到并返回 N 的二进制表示中两个连续的 1 之间的最长距离。 \n",
    "\n",
    "如果没有两个连续的 1，返回 0 。"
   ]
  },
  {
   "cell_type": "raw",
   "metadata": {},
   "source": [
    "Example 1:\n",
    "输入：22\n",
    "输出：2\n",
    "解释：\n",
    "22 的二进制是 0b10110 。\n",
    "在 22 的二进制表示中，有三个 1，组成两对连续的 1 。\n",
    "第一对连续的 1 中，两个 1 之间的距离为 2 。\n",
    "第二对连续的 1 中，两个 1 之间的距离为 1 。\n",
    "答案取两个距离之中最大的，也就是 2 。\n",
    "\n",
    "\n",
    "\n",
    "Example 2:\n",
    "输入：5\n",
    "输出：2\n",
    "解释：\n",
    "5 的二进制是 0b101 。\n",
    "\n",
    "Example 3:\n",
    "输入：6\n",
    "输出：1\n",
    "解释：\n",
    "6 的二进制是 0b110 。"
   ]
  },
  {
   "cell_type": "markdown",
   "metadata": {},
   "source": [
    "## 思路一"
   ]
  },
  {
   "cell_type": "raw",
   "metadata": {},
   "source": [
    "线性扫描\n",
    "先求二进制，然后统计二进制中每个1离左边1的距离即可。用left保存左边1出现的位置，距离就是当前1的index减去left。然后求这个列表中的最大值即可。\n",
    "\n",
    "题目给出的N的范围是1 <= N <= 10^9，直接求还是比较合适的。\n",
    "\n",
    "时间复杂度是O(N)，空间复杂度是O(32).\n"
   ]
  },
  {
   "cell_type": "code",
   "execution_count": 1,
   "metadata": {},
   "outputs": [],
   "source": [
    "class Solution(object):\n",
    "    def binaryGap(self, N):\n",
    "        \"\"\"\n",
    "        :type N: int\n",
    "        :rtype: int\n",
    "        \"\"\"\n",
    "        binary = bin(N)[2:]\n",
    "        dists = [0] * len(binary)\n",
    "        left = 0\n",
    "        for i, b in enumerate(binary):\n",
    "            if b == '1':\n",
    "                dists[i] = i - left\n",
    "                left = i\n",
    "        return max(dists)\n"
   ]
  },
  {
   "cell_type": "markdown",
   "metadata": {},
   "source": [
    "## 思路二\n",
    "\n",
    "优化思路一\n"
   ]
  },
  {
   "cell_type": "code",
   "execution_count": 2,
   "metadata": {},
   "outputs": [],
   "source": [
    "class Solution:\n",
    "    def binaryGap(self, N):\n",
    "        \"\"\"\n",
    "        :type N: int\n",
    "        :rtype: int\n",
    "        \"\"\"\n",
    "        nbins = bin(N)[2:]\n",
    "        index = -1\n",
    "        res = 0\n",
    "        for i, b in enumerate(nbins):\n",
    "            if b == \"1\":\n",
    "                if index != -1:\n",
    "                    res = max(res, i - index)\n",
    "                index = i\n",
    "        return res\n"
   ]
  }
 ],
 "metadata": {
  "kernelspec": {
   "display_name": "Python 3",
   "language": "python",
   "name": "python3"
  },
  "language_info": {
   "codemirror_mode": {
    "name": "ipython",
    "version": 3
   },
   "file_extension": ".py",
   "mimetype": "text/x-python",
   "name": "python",
   "nbconvert_exporter": "python",
   "pygments_lexer": "ipython3",
   "version": "3.7.0"
  }
 },
 "nbformat": 4,
 "nbformat_minor": 2
}
