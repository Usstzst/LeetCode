{
 "cells": [
  {
   "cell_type": "markdown",
   "metadata": {},
   "source": [
    "# 题目原意 "
   ]
  },
  {
   "cell_type": "raw",
   "metadata": {},
   "source": [
    "给出 N 名运动员的成绩，找出他们的相对名次并授予前三名对应的奖牌。前三名运动员将会被分别授予 “金牌”，“银牌” 和“ 铜牌”（\"Gold Medal\", \"Silver Medal\", \"Bronze Medal\"）。\n",
    "\n",
    "(注：分数越高的选手，排名越靠前。)"
   ]
  },
  {
   "cell_type": "raw",
   "metadata": {},
   "source": [
    "示例 1:\n",
    "\n",
    "输入: [5, 4, 3, 2, 1]\n",
    "输出: [\"Gold Medal\", \"Silver Medal\", \"Bronze Medal\", \"4\", \"5\"]\n",
    "解释: 前三名运动员的成绩为前三高的，因此将会分别被授予 “金牌”，“银牌”和“铜牌” (\"Gold Medal\", \"Silver Medal\" and \"Bronze Medal\").\n",
    "余下的两名运动员，我们只需要通过他们的成绩计算将其相对名次即可。\n",
    "\n",
    "提示:\n",
    "N 是一个正整数并且不会超过 10000。\n",
    "所有运动员的成绩都不相同。"
   ]
  },
  {
   "cell_type": "markdown",
   "metadata": {},
   "source": [
    "## 思路一"
   ]
  },
  {
   "cell_type": "code",
   "execution_count": 1,
   "metadata": {},
   "outputs": [],
   "source": [
    "import numpy as np\n",
    "class Solution:\n",
    "    def findRelativeRanks(self, nums):\n",
    "        \"\"\"\n",
    "        :type nums: List[int]\n",
    "        :rtype: List[str]\n",
    "        \"\"\"\n",
    "        ranks = np.argsort(np.array(nums))[::-1]\n",
    "        N = len(nums)\n",
    "        res = list(map(str, ranks))\n",
    "        for r in range(N):\n",
    "            if r == 0:\n",
    "                res[ranks[0]] = \"Gold Medal\"\n",
    "            elif r == 1:\n",
    "                res[ranks[1]] = \"Silver Medal\"\n",
    "            elif r == 2:\n",
    "                res[ranks[2]] = \"Bronze Medal\"\n",
    "            else:\n",
    "                res[ranks[r]] = str(r + 1)\n",
    "        return res\n",
    "    \n",
    "    \n",
    "    \n",
    "\n",
    "    \n",
    "    \n"
   ]
  },
  {
   "cell_type": "code",
   "execution_count": 2,
   "metadata": {},
   "outputs": [],
   "source": [
    "class Solution(object):\n",
    "    def findRelativeRanks(self, nums):\n",
    "        \"\"\"\n",
    "        :type nums: List[int]\n",
    "        :rtype: List[str]\n",
    "        \"\"\"\n",
    "        sort = sorted(nums)[::-1]\n",
    "        rank = [\"Gold Medal\", \"Silver Medal\", \"Bronze Medal\"] + map(str, range(4, len(nums) + 1))\n",
    "        return map(dict(zip(sort, rank)).get, nums)"
   ]
  }
 ],
 "metadata": {
  "kernelspec": {
   "display_name": "Python 3",
   "language": "python",
   "name": "python3"
  },
  "language_info": {
   "codemirror_mode": {
    "name": "ipython",
    "version": 3
   },
   "file_extension": ".py",
   "mimetype": "text/x-python",
   "name": "python",
   "nbconvert_exporter": "python",
   "pygments_lexer": "ipython3",
   "version": "3.7.0"
  }
 },
 "nbformat": 4,
 "nbformat_minor": 2
}
