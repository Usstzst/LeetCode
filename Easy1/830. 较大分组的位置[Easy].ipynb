{
 "cells": [
  {
   "cell_type": "markdown",
   "metadata": {},
   "source": [
    "# 题目原意"
   ]
  },
  {
   "cell_type": "raw",
   "metadata": {},
   "source": [
    "在一个由小写字母构成的字符串 S 中，包含由一些连续的相同字符所构成的分组。\n",
    "\n",
    "例如，在字符串 S = \"abbxxxxzyy\" 中，就含有 \"a\", \"bb\", \"xxxx\", \"z\" 和 \"yy\" 这样的一些分组。\n",
    "\n",
    "我们称所有包含大于或等于三个连续字符的分组为较大分组。找到每一个较大分组的起始和终止位置。\n",
    "\n",
    "最终结果按照字典顺序输出。\n",
    "\n"
   ]
  },
  {
   "cell_type": "raw",
   "metadata": {},
   "source": [
    "示例 1:\n",
    "输入: \"abbxxxxzzy\"\n",
    "输出: [[3,6]]\n",
    "解释: \"xxxx\" 是一个起始于 3 且终止于 6 的较大分组。\n",
    "\n",
    "示例 2:\n",
    "输入: \"abc\"\n",
    "输出: []\n",
    "解释: \"a\",\"b\" 和 \"c\" 均不是符合要求的较大分组。\n",
    "\n",
    "示例 3:\n",
    "输入: \"abcdddeeeeaabbbcd\"\n",
    "输出: [[3,5],[6,9],[12,14]]\n",
    "说明:  1 <= S.length <= 1000"
   ]
  },
  {
   "cell_type": "markdown",
   "metadata": {},
   "source": [
    "## 思路一： 双指针"
   ]
  },
  {
   "cell_type": "raw",
   "metadata": {},
   "source": [
    "对结尾的判断是添加了一个大写字符，这样的话在不打扰之前小写字符串的基础上，增加了结束符号。"
   ]
  },
  {
   "cell_type": "code",
   "execution_count": 2,
   "metadata": {},
   "outputs": [],
   "source": [
    "class Solution(object):\n",
    "    def largeGroupPositions(self, S):\n",
    "        \"\"\"\n",
    "        :type S: str\n",
    "        :rtype: List[List[int]]\n",
    "        \"\"\"\n",
    "        j = -1\n",
    "        d = ''\n",
    "        ans = []\n",
    "        for i,c in enumerate(S+'#'):\n",
    "            if c != d:\n",
    "                if i - j >=3:\n",
    "                    ans.append([j, i-1])\n",
    "                j = i\n",
    "            d = c\n",
    "        return ans\n",
    "        \n"
   ]
  }
 ],
 "metadata": {
  "kernelspec": {
   "display_name": "Python 3",
   "language": "python",
   "name": "python3"
  },
  "language_info": {
   "codemirror_mode": {
    "name": "ipython",
    "version": 3
   },
   "file_extension": ".py",
   "mimetype": "text/x-python",
   "name": "python",
   "nbconvert_exporter": "python",
   "pygments_lexer": "ipython3",
   "version": "3.7.0"
  }
 },
 "nbformat": 4,
 "nbformat_minor": 2
}
