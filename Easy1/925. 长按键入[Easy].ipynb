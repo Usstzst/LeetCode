{
 "cells": [
  {
   "cell_type": "markdown",
   "metadata": {},
   "source": [
    "# 题目原意"
   ]
  },
  {
   "cell_type": "raw",
   "metadata": {},
   "source": [
    "你的朋友正在使用键盘输入他的名字 name。偶尔，在键入字符 c 时，按键可能会被长按，而字符可能被输入 1 次或多次。\n",
    "\n",
    "你将会检查键盘输入的字符 typed。如果它对应的可能是你的朋友的名字（其中一些字符可能被长按），那么就返回 True。\n",
    "\n",
    " "
   ]
  },
  {
   "cell_type": "raw",
   "metadata": {},
   "source": [
    "Example 1：\n",
    "输入：name = \"alex\", typed = \"aaleex\"\n",
    "输出：true\n",
    "解释：'alex' 中的 'a' 和 'e' 被长按。\n",
    "\n",
    "Example 2:\n",
    "输入：name = \"saeed\", typed = \"ssaaedd\"\n",
    "输出：false\n",
    "解释：'e' 一定需要被键入两次，但在 typed 的输出中不是这样。"
   ]
  },
  {
   "cell_type": "markdown",
   "metadata": {},
   "source": [
    "## 思路一：双指针"
   ]
  },
  {
   "cell_type": "raw",
   "metadata": {},
   "source": [
    "class Solution:\n",
    "    def isLongPressedName(self, name, typed):\n",
    "        \"\"\"\n",
    "        :type name: str\n",
    "        :type typed: str\n",
    "        :rtype: bool\n",
    "        \"\"\"\n",
    "        i, name_len = 0, len(name)\n",
    "        for j in range(len(typed)):\n",
    "            if i < name_len and typed[j] == name[i]:\n",
    "                i += 1\n",
    "            elif j == 0 or typed[j] != typed[j-1]:\n",
    "                return False\n",
    "        return i == name_len\n",
    "        \n",
    "\n"
   ]
  }
 ],
 "metadata": {
  "kernelspec": {
   "display_name": "Python 3",
   "language": "python",
   "name": "python3"
  },
  "language_info": {
   "codemirror_mode": {
    "name": "ipython",
    "version": 3
   },
   "file_extension": ".py",
   "mimetype": "text/x-python",
   "name": "python",
   "nbconvert_exporter": "python",
   "pygments_lexer": "ipython3",
   "version": "3.6.5"
  }
 },
 "nbformat": 4,
 "nbformat_minor": 2
}
