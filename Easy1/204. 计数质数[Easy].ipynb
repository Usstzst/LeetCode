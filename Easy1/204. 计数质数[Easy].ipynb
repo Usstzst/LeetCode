{
 "cells": [
  {
   "cell_type": "markdown",
   "metadata": {},
   "source": [
    "# 题目原意"
   ]
  },
  {
   "cell_type": "raw",
   "metadata": {},
   "source": [
    "统计所有小于非负整数 n 的质数的数量。"
   ]
  },
  {
   "cell_type": "raw",
   "metadata": {},
   "source": [
    "Example:\n",
    "\n",
    "输入: 10\n",
    "输出: 4\n",
    "解释: 小于 10 的质数一共有 4 个, 它们是 2, 3, 5, 7 。"
   ]
  },
  {
   "cell_type": "markdown",
   "metadata": {},
   "source": [
    "## 思路一:厄拉多塞筛法"
   ]
  },
  {
   "cell_type": "raw",
   "metadata": {},
   "source": [
    "具体操作：先将 2~n 的各个数放入表中，然后在2的上面画一个圆圈，然后划去2的其他倍数；第一个既未画圈又没有被划去的数是3，将它画圈，再划去3的其他倍数；现在既未画圈又没有被划去的第一个数 是5，将它画圈，并划去5的其他倍数……依次类推，一直到所有小于或等于 n 的各数都画了圈或划去为止。这时，表中画了圈的以及未划去的那些数正好就是小于 n 的素数。\n"
   ]
  },
  {
   "cell_type": "raw",
   "metadata": {},
   "source": [
    "我们只需遍历[2,sqrt(n)],因为超过sqrt(n)如果不是素数，则作为因子在前面的数已经被删除了。同时这里利用了python里list的特性[::i]取i的倍数。"
   ]
  },
  {
   "cell_type": "code",
   "execution_count": 2,
   "metadata": {},
   "outputs": [],
   "source": [
    "class Solution(object):\n",
    "    def countPrimes(self, n):\n",
    "        \"\"\"\n",
    "        :type n: int\n",
    "        :rtype: int\n",
    "        \"\"\"\n",
    "        \n",
    "        \n",
    "        if n <2:\n",
    "            return 0\n",
    "\n",
    "        digits = [True]*n\n",
    "        digits[0] = digits[1] = 0\n",
    "\n",
    "        for i in range(2, int(n**0.5)+1):\n",
    "            if digits[i]:\n",
    "                digits[i*i:n:i] = [False]*len(digits[i*i:n:i])\n",
    "\n",
    "        return sum(digits)\n"
   ]
  }
 ],
 "metadata": {
  "kernelspec": {
   "display_name": "Python 3",
   "language": "python",
   "name": "python3"
  },
  "language_info": {
   "codemirror_mode": {
    "name": "ipython",
    "version": 3
   },
   "file_extension": ".py",
   "mimetype": "text/x-python",
   "name": "python",
   "nbconvert_exporter": "python",
   "pygments_lexer": "ipython3",
   "version": "3.6.5"
  }
 },
 "nbformat": 4,
 "nbformat_minor": 2
}
