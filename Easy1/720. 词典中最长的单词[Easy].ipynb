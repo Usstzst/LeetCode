{
 "cells": [
  {
   "cell_type": "markdown",
   "metadata": {},
   "source": [
    "# 题目原意"
   ]
  },
  {
   "cell_type": "raw",
   "metadata": {},
   "source": [
    "给出一个字符串数组words组成的一本英语词典。从中找出最长的一个单词，该单词是由words词典中其他单词逐步添加一个字母组成。若其中有多个可行的答案，则返回答案中字典序最小的单词。\n",
    "\n",
    "若无答案，则返回空字符串。\n"
   ]
  },
  {
   "cell_type": "raw",
   "metadata": {},
   "source": [
    "示例 1:\n",
    "输入: \n",
    "words = [\"w\",\"wo\",\"wor\",\"worl\", \"world\"]\n",
    "输出: \"world\"\n",
    "解释: \n",
    "单词\"world\"可由\"w\", \"wo\", \"wor\", 和 \"worl\"添加一个字母组成。\n",
    "\n",
    "示例 2:\n",
    "输入: \n",
    "words = [\"a\", \"banana\", \"app\", \"appl\", \"ap\", \"apply\", \"apple\"]\n",
    "输出: \"apple\"\n",
    "解释: \n",
    "\"apply\"和\"apple\"都能由词典中的单词组成。但是\"apple\"得字典序小于\"apply\"。\n",
    "注意:\n",
    "\n",
    "所有输入的字符串都只包含小写字母。\n",
    "words数组长度范围为[1,1000]。\n",
    "words[i]的长度范围为[1,30]。"
   ]
  },
  {
   "cell_type": "markdown",
   "metadata": {},
   "source": [
    "## 思路一"
   ]
  },
  {
   "cell_type": "raw",
   "metadata": {},
   "source": [
    "巧妙用了set（）,判断每个单词的除去倒数第一个字母是否在set里，用一个变量保存最长的单词。\n",
    "\n",
    "用判断新单词是否比最长单词更长的方式完成两个需求：1.找出最长；2.同样最长的情况下，保留字母序最小的。这样做的前提是先对words进行排序。"
   ]
  },
  {
   "cell_type": "code",
   "execution_count": 1,
   "metadata": {},
   "outputs": [],
   "source": [
    "class Solution(object):\n",
    "    def longestWord(self, words):\n",
    "        \"\"\"\n",
    "        :type words: List[str]\n",
    "        :rtype: str\n",
    "        \"\"\"\n",
    "        words.sort()\n",
    "        res = set([''])\n",
    "        longestWord = ''\n",
    "        for word in words:\n",
    "            if word[:-1] in res:\n",
    "                res.add(word)\n",
    "                if len(word)>len(longestWord):\n",
    "                    longestWord = word\n",
    "        return longestWord\n",
    "        \n",
    "     "
   ]
  }
 ],
 "metadata": {
  "kernelspec": {
   "display_name": "Python 3",
   "language": "python",
   "name": "python3"
  },
  "language_info": {
   "codemirror_mode": {
    "name": "ipython",
    "version": 3
   },
   "file_extension": ".py",
   "mimetype": "text/x-python",
   "name": "python",
   "nbconvert_exporter": "python",
   "pygments_lexer": "ipython3",
   "version": "3.6.5"
  }
 },
 "nbformat": 4,
 "nbformat_minor": 2
}
