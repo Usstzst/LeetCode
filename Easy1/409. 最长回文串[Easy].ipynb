{
 "cells": [
  {
   "cell_type": "markdown",
   "metadata": {},
   "source": [
    "# 题目原意"
   ]
  },
  {
   "cell_type": "raw",
   "metadata": {},
   "source": [
    "给定一个包含大写字母和小写字母的字符串，找到通过这些字母构造成的最长的回文串。\n",
    "\n",
    "在构造过程中，请注意区分大小写。比如 \"Aa\" 不能当做一个回文字符串。\n",
    "\n",
    "注意:\n",
    "假设字符串的长度不会超过 1010。\n",
    "\n"
   ]
  },
  {
   "cell_type": "raw",
   "metadata": {},
   "source": [
    "示例 1:\n",
    "输入:\n",
    "\"abccccdd\"\n",
    "输出:\n",
    "7\n",
    "\n",
    "解释:\n",
    "我们可以构造的最长的回文串是\"dccaccd\", 它的长度是 7。"
   ]
  },
  {
   "cell_type": "markdown",
   "metadata": {},
   "source": [
    "## 思路一"
   ]
  },
  {
   "cell_type": "raw",
   "metadata": {},
   "source": [
    "统计每个字母的出现次数：\n",
    "\n",
    "  若字母出现偶数次，则直接累加至最终结果\n",
    "\n",
    "  若字母出现奇数次，则将其值-1之后累加至最终结果\n",
    "\n",
    "若存在出现奇数次的字母，将最终结果+1"
   ]
  },
  {
   "cell_type": "code",
   "execution_count": 2,
   "metadata": {},
   "outputs": [],
   "source": [
    "class Solution(object):\n",
    "    def longestPalindrome(self, s):\n",
    "        \"\"\"\n",
    "        :type s: str\n",
    "        :rtype: int\n",
    "        \"\"\"\n",
    "        ans = odd = 0\n",
    "        cnt = collections.Counter(s)\n",
    "        for c in cnt:\n",
    "            ans += cnt[c]\n",
    "            if cnt[c] % 2 == 1:\n",
    "                ans -= 1\n",
    "                odd += 1\n",
    "        return ans + (odd>0)\n"
   ]
  }
 ],
 "metadata": {
  "kernelspec": {
   "display_name": "Python 3",
   "language": "python",
   "name": "python3"
  },
  "language_info": {
   "codemirror_mode": {
    "name": "ipython",
    "version": 3
   },
   "file_extension": ".py",
   "mimetype": "text/x-python",
   "name": "python",
   "nbconvert_exporter": "python",
   "pygments_lexer": "ipython3",
   "version": "3.6.5"
  }
 },
 "nbformat": 4,
 "nbformat_minor": 2
}
