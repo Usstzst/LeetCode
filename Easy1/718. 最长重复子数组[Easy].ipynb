{
 "cells": [
  {
   "cell_type": "markdown",
   "metadata": {},
   "source": [
    "# 题目原意"
   ]
  },
  {
   "cell_type": "raw",
   "metadata": {},
   "source": [
    "给两个整数数组 A 和 B ，返回两个数组中公共的、长度最长的子数组的长度。"
   ]
  },
  {
   "cell_type": "raw",
   "metadata": {},
   "source": [
    "Example :\n",
    "输入:\n",
    "A: [1,2,3,2,1]\n",
    "B: [3,2,1,4,7]\n",
    "输出: 3\n",
    "解释: \n",
    "长度最长的公共子数组是 [3, 2, 1]。\n"
   ]
  },
  {
   "cell_type": "markdown",
   "metadata": {},
   "source": [
    "## 思路一：动态规划"
   ]
  },
  {
   "cell_type": "code",
   "execution_count": 1,
   "metadata": {},
   "outputs": [],
   "source": [
    "class Solution(object):\n",
    "    def findLength(self, A, B):\n",
    "        \"\"\"\n",
    "        :type A: List[int]\n",
    "        :type B: List[int]\n",
    "        :rtype: int\n",
    "        \"\"\"\n",
    "        m, n = len(A), len(B)\n",
    "        dp = [[0 for j in range(n)] for i in range(m)]\n",
    "        max_len = 0\n",
    "        for i in range(m):\n",
    "            for j in range(n):\n",
    "                if A[i] == B[j]:\n",
    "                    if i == 0 or j == 0:\n",
    "                        dp[i][j] = 1\n",
    "                    else:\n",
    "                        dp[i][j] = dp[i - 1][j - 1] + 1\n",
    "                    max_len = max(max_len, dp[i][j])\n",
    "        return max_len\n"
   ]
  }
 ],
 "metadata": {
  "kernelspec": {
   "display_name": "Python 3",
   "language": "python",
   "name": "python3"
  },
  "language_info": {
   "codemirror_mode": {
    "name": "ipython",
    "version": 3
   },
   "file_extension": ".py",
   "mimetype": "text/x-python",
   "name": "python",
   "nbconvert_exporter": "python",
   "pygments_lexer": "ipython3",
   "version": "3.6.5"
  }
 },
 "nbformat": 4,
 "nbformat_minor": 2
}
