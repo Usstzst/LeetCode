{
 "cells": [
  {
   "cell_type": "markdown",
   "metadata": {},
   "source": [
    "# 题目原意"
   ]
  },
  {
   "cell_type": "raw",
   "metadata": {},
   "source": [
    "给定一个排序好的数组，两个整数 k 和 x，从数组中找到最靠近 x（两数之差最小）的 k 个数。返回的结果必须要是按升序排好的。如果有两个数与 x 的差值一样，优先选择数值较小的那个数。"
   ]
  },
  {
   "cell_type": "raw",
   "metadata": {},
   "source": [
    "示例 1:\n",
    "输入: [1,2,3,4,5], k=4, x=3\n",
    "输出: [1,2,3,4]\n",
    " \n",
    "\n",
    "示例 2:\n",
    "输入: [1,2,3,4,5], k=4, x=-1\n",
    "输出: [1,2,3,4]"
   ]
  },
  {
   "cell_type": "markdown",
   "metadata": {},
   "source": [
    "## 思路一：双指针法"
   ]
  },
  {
   "cell_type": "raw",
   "metadata": {},
   "source": [
    "由于数组已经排序，完全可以从左右两个方向向中间遍历，每次找到距离大的那个数字，弹出去就好了，最后保留k个数字。"
   ]
  },
  {
   "cell_type": "code",
   "execution_count": 2,
   "metadata": {},
   "outputs": [],
   "source": [
    "class Solution(object):\n",
    "    def findClosestElements(self, arr, k, x):\n",
    "        \"\"\"\n",
    "        :type arr: List[int]\n",
    "        :type k: int\n",
    "        :type x: int\n",
    "        :rtype: List[int]\n",
    "        \"\"\"\n",
    "        while len(arr) > k:\n",
    "            if x - arr[0] <= arr[-1] - x:\n",
    "                arr.pop()\n",
    "            else:\n",
    "                arr.pop(0)\n",
    "        return arr\n"
   ]
  },
  {
   "cell_type": "markdown",
   "metadata": {},
   "source": [
    "## 思路二：堆"
   ]
  },
  {
   "cell_type": "raw",
   "metadata": {},
   "source": [
    "TopK问题：最小堆\n",
    "\n",
    "解法比较多。比较容易想到的一种解法是使用计算每个数字和x的距离，然后找出最近距离的数字。这就是常见的TopK问题。使用小根堆很容易实现。\n",
    "\n",
    "时间复杂度是O(N)，空间复杂度是O(N)。"
   ]
  },
  {
   "cell_type": "code",
   "execution_count": 3,
   "metadata": {},
   "outputs": [],
   "source": [
    "class Solution(object):\n",
    "    def findClosestElements(self, arr, k, x):\n",
    "        \"\"\"\n",
    "        :type arr: List[int]\n",
    "        :type k: int\n",
    "        :type x: int\n",
    "        :rtype: List[int]\n",
    "        \"\"\"\n",
    "        N = len(arr)\n",
    "        sub = [((arr[i] - x) ** 2, i) for i in range(N)]\n",
    "        heapq.heapify(sub)\n",
    "        return sorted([arr[heapq.heappop(sub)[1]] for i in range(k)])\n"
   ]
  }
 ],
 "metadata": {
  "kernelspec": {
   "display_name": "Python 3",
   "language": "python",
   "name": "python3"
  },
  "language_info": {
   "codemirror_mode": {
    "name": "ipython",
    "version": 3
   },
   "file_extension": ".py",
   "mimetype": "text/x-python",
   "name": "python",
   "nbconvert_exporter": "python",
   "pygments_lexer": "ipython3",
   "version": "3.6.5"
  }
 },
 "nbformat": 4,
 "nbformat_minor": 2
}
