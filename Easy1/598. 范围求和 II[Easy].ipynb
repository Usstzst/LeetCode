{
 "cells": [
  {
   "cell_type": "markdown",
   "metadata": {},
   "source": [
    "# 题目原意"
   ]
  },
  {
   "cell_type": "raw",
   "metadata": {},
   "source": [
    "给定一个初始元素全部为 0，大小为 m*n 的矩阵 M 以及在 M 上的一系列更新操作。\n",
    "\n",
    "操作用二维数组表示，其中的每个操作用一个含有两个正整数 a 和 b 的数组表示，含义是将所有符合 0 <= i < a 以及 0 <= j < b 的元素 M[i][j] 的值都增加 1。\n",
    "\n",
    "在执行给定的一系列操作后，你需要返回矩阵中含有最大整数的元素个数。"
   ]
  },
  {
   "cell_type": "raw",
   "metadata": {},
   "source": [
    "示例 1:\n",
    "\n",
    "输入: \n",
    "m = 3, n = 3\n",
    "operations = [[2,2],[3,3]]\n",
    "\n",
    "输出: 4\n",
    "\n",
    "解释: \n",
    "初始状态, M = \n",
    "[[0, 0, 0],\n",
    " [0, 0, 0],\n",
    " [0, 0, 0]]\n",
    "\n",
    "执行完操作 [2,2] 后, M = \n",
    "[[1, 1, 0],\n",
    " [1, 1, 0],\n",
    " [0, 0, 0]]\n",
    "\n",
    "执行完操作 [3,3] 后, M = \n",
    "[[2, 2, 1],\n",
    " [2, 2, 1],\n",
    " [1, 1, 1]]\n",
    "\n",
    "M 中最大的整数是 2, 而且 M 中有4个值为2的元素。因此返回 4。\n",
    "\n",
    "注意:\n",
    "1、m 和 n 的范围是 [1,40000]。\n",
    "2、a 的范围是 [1,m]，b 的范围是 [1,n]。\n",
    "3、操作数目不超过 10000。"
   ]
  },
  {
   "cell_type": "markdown",
   "metadata": {},
   "source": [
    "## 思路一：交集"
   ]
  },
  {
   "cell_type": "raw",
   "metadata": {},
   "source": [
    "首先要明白，要求的结果是最终二维数组中最大值出现的次数。那么，被重复加的最多的数组元素一定最大，其出现次数就是答案。\n",
    "\n",
    "每次操作都是对左上角部分区域进行操作的，并且，a,b的范围都是大于1的，即每次都会有元素改变。那么，最终二维数组中最大值出现的次数一定是操作中最小范围中的那批元素构成的矩形区域面积。\n",
    "\n",
    "如果没有进行操作，那么，返回的应该是全部0的个数。\n",
    "\n",
    "即，二维数组分别对矩阵的行列进行操作，求出每次操作的交集，即为所求元素所在范围，min([op[0] for op in ops]) * min([op[1] for op in ops])"
   ]
  },
  {
   "cell_type": "code",
   "execution_count": 1,
   "metadata": {},
   "outputs": [],
   "source": [
    "class Solution(object):\n",
    "    def maxCount(self, m, n, ops):\n",
    "        \"\"\"\n",
    "        :type m: int\n",
    "        :type n: int\n",
    "        :type ops: List[List[int]]\n",
    "        :rtype: int\n",
    "        \"\"\"\n",
    "        if not ops:\n",
    "            return m*n\n",
    "        return min([op[0] for op in ops]) * min([op[1] for op in ops])\n",
    "       "
   ]
  }
 ],
 "metadata": {
  "kernelspec": {
   "display_name": "Python 3",
   "language": "python",
   "name": "python3"
  },
  "language_info": {
   "codemirror_mode": {
    "name": "ipython",
    "version": 3
   },
   "file_extension": ".py",
   "mimetype": "text/x-python",
   "name": "python",
   "nbconvert_exporter": "python",
   "pygments_lexer": "ipython3",
   "version": "3.7.0"
  }
 },
 "nbformat": 4,
 "nbformat_minor": 2
}
