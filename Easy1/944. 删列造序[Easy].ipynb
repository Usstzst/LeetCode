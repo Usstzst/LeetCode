{
 "cells": [
  {
   "cell_type": "markdown",
   "metadata": {},
   "source": [
    "# 题目原意"
   ]
  },
  {
   "cell_type": "raw",
   "metadata": {},
   "source": [
    "给定由 N 个小写字母字符串组成的数组 A，其中每个字符串长度相等。\n",
    "\n",
    "选取一个删除索引序列，对于 A 中的每个字符串，删除对应每个索引处的字符。 所余下的字符串行从上往下读形成列。\n",
    "\n",
    "比如，有 A = [\"abcdef\", \"uvwxyz\"]，删除索引序列 {0, 2, 3}，删除后 A 为[\"bef\", \"vyz\"]， A 的列分别为[\"b\",\"v\"], [\"e\",\"y\"], [\"f\",\"z\"]。（形式上，第 n 列为 [A[0][n], A[1][n], ..., A[A.length-1][n]]）。\n",
    "\n",
    "假设，我们选择了一组删除索引 D，那么在执行删除操作之后，A 中所剩余的每一列都必须是 非降序 排列的，然后请你返回 D.length 的最小可能值。"
   ]
  },
  {
   "cell_type": "raw",
   "metadata": {},
   "source": [
    "Example 1:\n",
    "输入：[\"cba\", \"daf\", \"ghi\"]\n",
    "输出：1\n",
    "解释：\n",
    "当选择 D = {1}，删除后 A 的列为：[\"c\",\"d\",\"g\"] 和 [\"a\",\"f\",\"i\"]，均为非降序排列。\n",
    "若选择 D = {}，那么 A 的列 [\"b\",\"a\",\"h\"] 就不是非降序排列了。\n",
    "\n",
    "\n",
    "Example 2:\n",
    "输入：[\"a\", \"b\"]\n",
    "输出：0\n",
    "解释：D = {}\n",
    "\n",
    "\n",
    "Example 3:\n",
    "输入：[\"zyx\", \"wvu\", \"tsr\"]\n",
    "输出：3\n",
    "解释：D = {0, 1, 2}"
   ]
  },
  {
   "cell_type": "markdown",
   "metadata": {},
   "source": [
    "## 思路一"
   ]
  },
  {
   "cell_type": "raw",
   "metadata": {},
   "source": [
    "又是乍一看很难的题目，其实很简单的，直接暴力解决就好了。\n",
    "\n",
    "主要是思路：如果一个列的元素已经是递增的，那么我们一定不能把这个列删除掉。如果删除掉某一列，那么其他的列将不受到任何影响。\n",
    "\n",
    "所以，基于上面两个原则，我们可以直接对所有的列进行遍历，也就是说取得所有的列，然后判断这个列是不是递增的，如果不是递增的话，就删除掉。统计要删除掉多少个列即可。而判断某个列是不是递增的最简单方法就是排序之后，然后看是不是和之前的相等。\n",
    "\n",
    "时间复杂度是O(N*(MlogM))，空间复杂度是O(M)。N是每个字符串长度，M是数组长度。还好给的区间很小，直接能过的。\n"
   ]
  },
  {
   "cell_type": "code",
   "execution_count": null,
   "metadata": {},
   "outputs": [],
   "source": [
    "class Solution:\n",
    "    def minDeletionSize(self, A):\n",
    "        \"\"\"\n",
    "        :type A: List[str]\n",
    "        :rtype: int\n",
    "        \"\"\"\n",
    "        res = 0\n",
    "        N = len(A[0])\n",
    "        for i in range(N):\n",
    "            col = [a[i] for a in A]\n",
    "            if col != sorted(col):\n",
    "                res += 1\n",
    "        return res\n"
   ]
  }
 ],
 "metadata": {
  "kernelspec": {
   "display_name": "Python 3",
   "language": "python",
   "name": "python3"
  },
  "language_info": {
   "codemirror_mode": {
    "name": "ipython",
    "version": 3
   },
   "file_extension": ".py",
   "mimetype": "text/x-python",
   "name": "python",
   "nbconvert_exporter": "python",
   "pygments_lexer": "ipython3",
   "version": "3.7.0"
  }
 },
 "nbformat": 4,
 "nbformat_minor": 2
}
