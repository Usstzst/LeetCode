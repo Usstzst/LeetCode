{
 "cells": [
  {
   "cell_type": "markdown",
   "metadata": {},
   "source": [
    "# 题目原意"
   ]
  },
  {
   "cell_type": "raw",
   "metadata": {},
   "source": [
    "给定一个字符串 s，计算具有相同数量0和1的非空(连续)子字符串的数量，并且这些子字符串中的所有0和所有1都是组合在一起的。\n",
    "\n",
    "重复出现的子串要计算它们出现的次数。"
   ]
  },
  {
   "cell_type": "raw",
   "metadata": {},
   "source": [
    "Example 1:\n",
    "输入: \"00110011\"\n",
    "输出: 6\n",
    "解释: 有6个子串具有相同数量的连续1和0：“0011”，“01”，“1100”，“10”，“0011” 和 “01”。\n",
    "\n",
    "请注意，一些重复出现的子串要计算它们出现的次数。\n",
    "\n",
    "另外，“00110011”不是有效的子串，因为所有的0（和1）没有组合在一起。\n",
    "\n",
    "Example 2:\n",
    "输入: \"10101\"\n",
    "输出: 4\n",
    "解释: 有4个子串：“10”，“01”，“10”，“01”，它们具有相同数量的连续1和0。"
   ]
  },
  {
   "cell_type": "markdown",
   "metadata": {},
   "source": [
    "## 思路一"
   ]
  },
  {
   "cell_type": "code",
   "execution_count": 1,
   "metadata": {},
   "outputs": [],
   "source": [
    "class Solution(object):\n",
    "    def countBinarySubstrings(self, s):\n",
    "        \"\"\"\n",
    "        :type s: str\n",
    "        :rtype: int\n",
    "        \"\"\"\n",
    "        size = len(s)\n",
    "        cnt = [0, 0]\n",
    "        last = None\n",
    "        ans = 0\n",
    "        for c in s:\n",
    "            c = int(c)\n",
    "            if c != last: \n",
    "                cnt[c] = 0\n",
    "            cnt[c] += 1\n",
    "            if cnt[c] <= cnt[1 - c]: ans += 1\n",
    "            last = c\n",
    "        return ans"
   ]
  }
 ],
 "metadata": {
  "kernelspec": {
   "display_name": "Python 3",
   "language": "python",
   "name": "python3"
  },
  "language_info": {
   "codemirror_mode": {
    "name": "ipython",
    "version": 3
   },
   "file_extension": ".py",
   "mimetype": "text/x-python",
   "name": "python",
   "nbconvert_exporter": "python",
   "pygments_lexer": "ipython3",
   "version": "3.7.0"
  }
 },
 "nbformat": 4,
 "nbformat_minor": 2
}
