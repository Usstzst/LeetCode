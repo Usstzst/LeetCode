{
 "cells": [
  {
   "cell_type": "markdown",
   "metadata": {},
   "source": [
    "# 题目原意"
   ]
  },
  {
   "cell_type": "raw",
   "metadata": {},
   "source": [
    "和谐数组是指一个数组里元素的最大值和最小值之间的差别正好是1。\n",
    "\n",
    "现在，给定一个整数数组，你需要在所有可能的子序列中找到最长的和谐子序列的长度。\n",
    "\n",
    "示例 1:\n",
    "\n",
    "输入: [1,3,2,2,5,2,3,7]\n",
    "输出: 5\n",
    "原因: 最长的和谐数组是：[3,2,2,2,3].\n",
    "说明: 输入的数组长度最大不超过20,000."
   ]
  },
  {
   "cell_type": "markdown",
   "metadata": {},
   "source": [
    "## 思路一"
   ]
  },
  {
   "cell_type": "raw",
   "metadata": {},
   "source": [
    "重点是对题目进行抽象，这个题可以把和谐子序列抽象成一个只存在相邻两个数字的数组，位置无所谓的。\n",
    "\n",
    "那么，我们应该，先数每个数字出现的次数，然后对每个数字num，找num+1是否存在，如果存在就记录两个和的最大值。"
   ]
  },
  {
   "cell_type": "code",
   "execution_count": 1,
   "metadata": {},
   "outputs": [],
   "source": [
    "class Solution(object):\n",
    "    def findLHS(self, nums):\n",
    "        \"\"\"\n",
    "        :type nums: List[int]\n",
    "        :rtype: int\n",
    "        \"\"\"\n",
    "        count = collections.Counter(nums)\n",
    "        res = 0\n",
    "        for num in count.keys():\n",
    "            if num+1 in count:\n",
    "                res = max(res, count[num]+count[num+1])\n",
    "        return res\n",
    "        \n",
    "        \n",
    "       "
   ]
  }
 ],
 "metadata": {
  "kernelspec": {
   "display_name": "Python 3",
   "language": "python",
   "name": "python3"
  },
  "language_info": {
   "codemirror_mode": {
    "name": "ipython",
    "version": 3
   },
   "file_extension": ".py",
   "mimetype": "text/x-python",
   "name": "python",
   "nbconvert_exporter": "python",
   "pygments_lexer": "ipython3",
   "version": "3.6.5"
  }
 },
 "nbformat": 4,
 "nbformat_minor": 2
}
