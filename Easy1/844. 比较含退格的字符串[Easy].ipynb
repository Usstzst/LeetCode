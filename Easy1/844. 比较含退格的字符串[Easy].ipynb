{
 "cells": [
  {
   "cell_type": "markdown",
   "metadata": {},
   "source": [
    "# 题目原意"
   ]
  },
  {
   "cell_type": "raw",
   "metadata": {},
   "source": [
    "给定 S 和 T 两个字符串，当它们分别被输入到空白的文本编辑器后，判断二者是否相等，并返回结果。 # 代表退格字符。"
   ]
  },
  {
   "cell_type": "raw",
   "metadata": {},
   "source": [
    "Example 1:\n",
    "输入：S = \"ab#c\", T = \"ad#c\"\n",
    "输出：true\n",
    "解释：S 和 T 都会变成 “ac”。\n",
    "\n",
    "\n",
    "Example 2:\n",
    "输入：S = \"ab##\", T = \"c#d#\"\n",
    "输出：true\n",
    "解释：S 和 T 都会变成 “”。"
   ]
  },
  {
   "cell_type": "markdown",
   "metadata": {},
   "source": [
    "## 思路一：栈"
   ]
  },
  {
   "cell_type": "code",
   "execution_count": 1,
   "metadata": {},
   "outputs": [],
   "source": [
    "class Solution(object):\n",
    "    def backspaceCompare(self, S, T):\n",
    "        \"\"\"\n",
    "        :type S: str\n",
    "        :type T: str\n",
    "        :rtype: bool\n",
    "        \"\"\"\n",
    "        \n",
    "        stackS, stackT = [], []\n",
    "        for s in S:\n",
    "            if s != '#':\n",
    "                stackS.append(s)\n",
    "            elif stackS:\n",
    "                stackS.pop()\n",
    "        \n",
    "        for t in T:\n",
    "            if t != '#':\n",
    "                stackT.append(t)\n",
    "            elif stackT:\n",
    "                stackT.pop()\n",
    "        \n",
    "        return stackS == stackT"
   ]
  }
 ],
 "metadata": {
  "kernelspec": {
   "display_name": "Python 3",
   "language": "python",
   "name": "python3"
  },
  "language_info": {
   "codemirror_mode": {
    "name": "ipython",
    "version": 3
   },
   "file_extension": ".py",
   "mimetype": "text/x-python",
   "name": "python",
   "nbconvert_exporter": "python",
   "pygments_lexer": "ipython3",
   "version": "3.6.5"
  }
 },
 "nbformat": 4,
 "nbformat_minor": 2
}
