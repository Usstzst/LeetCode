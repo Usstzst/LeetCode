{
 "cells": [
  {
   "cell_type": "markdown",
   "metadata": {},
   "source": [
    "# 题目原意"
   ]
  },
  {
   "cell_type": "raw",
   "metadata": {},
   "source": [
    "设计一个找到数据流中第K大元素的类（class）。注意是排序后的第K大元素，不是第K个不同的元素。\n",
    "\n",
    "你的 KthLargest 类需要一个同时接收整数 k 和整数数组nums 的构造器，它包含数据流中的初始元素。每次调用 KthLargest.add，返回当前数据流中第K大的元素。\n"
   ]
  },
  {
   "cell_type": "raw",
   "metadata": {},
   "source": [
    "示例:\n",
    "\n",
    "int k = 3;\n",
    "int[] arr = [4,5,8,2];\n",
    "KthLargest kthLargest = new KthLargest(3, arr);\n",
    "kthLargest.add(3);   // returns 4\n",
    "kthLargest.add(5);   // returns 5\n",
    "kthLargest.add(10);  // returns 5\n",
    "kthLargest.add(9);   // returns 8\n",
    "kthLargest.add(4);   // returns 8\n",
    "说明: \n",
    "你可以假设 nums 的长度≥ k-1 且k ≥ 1。"
   ]
  },
  {
   "cell_type": "markdown",
   "metadata": {},
   "source": [
    "## 思路一"
   ]
  },
  {
   "cell_type": "raw",
   "metadata": {},
   "source": [
    "Python的堆是小根堆，不需要对其进行转换，我们想一想，如果一个堆的大小是k的话，那么最小的数字就在其最前面（即为第k大的数字），只要维护当新来的数字和最前面的这个数字比较即可。\n",
    "\n",
    "所以我们的工作就是维护一个小根堆，这个小根堆保存的是从第K大的数字到最大的数字。堆的大小即为K。\n",
    "\n",
    "实现过程比较简单，只要熟悉Python中堆的操作即可。\n"
   ]
  },
  {
   "cell_type": "code",
   "execution_count": 1,
   "metadata": {},
   "outputs": [],
   "source": [
    "class KthLargest(object):\n",
    "\n",
    "    def __init__(self, k, nums):\n",
    "        \"\"\"\n",
    "        :type k: int\n",
    "        :type nums: List[int]\n",
    "        \"\"\"\n",
    "        self.pool = nums\n",
    "        self.size = len(self.pool)\n",
    "        self.k = k\n",
    "        heapq.heapify(self.pool)\n",
    "        while self.size > k:\n",
    "            heapq.heappop(self.pool)\n",
    "            self.size -= 1\n",
    "\n",
    "    def add(self, val):\n",
    "        \"\"\"\n",
    "        :type val: int\n",
    "        :rtype: int\n",
    "        \"\"\"\n",
    "        if self.size < self.k:\n",
    "            heapq.heappush(self.pool, val)\n",
    "            self.size += 1\n",
    "        elif val > self.pool[0]:\n",
    "            heapq.heapreplace(self.pool, val)\n",
    "        return self.pool[0]\n",
    "\n",
    "\n",
    "# Your KthLargest object will be instantiated and called as such:\n",
    "# obj = KthLargest(k, nums)\n",
    "# param_1 = obj.add(val)\n"
   ]
  }
 ],
 "metadata": {
  "kernelspec": {
   "display_name": "Python 3",
   "language": "python",
   "name": "python3"
  },
  "language_info": {
   "codemirror_mode": {
    "name": "ipython",
    "version": 3
   },
   "file_extension": ".py",
   "mimetype": "text/x-python",
   "name": "python",
   "nbconvert_exporter": "python",
   "pygments_lexer": "ipython3",
   "version": "3.7.0"
  }
 },
 "nbformat": 4,
 "nbformat_minor": 2
}
