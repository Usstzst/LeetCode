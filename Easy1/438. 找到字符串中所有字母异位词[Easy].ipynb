{
 "cells": [
  {
   "cell_type": "markdown",
   "metadata": {},
   "source": [
    "# 题目原意"
   ]
  },
  {
   "cell_type": "raw",
   "metadata": {},
   "source": [
    "给定一个字符串 s 和一个非空字符串 p，找到 s 中所有是 p 的字母异位词的子串，返回这些子串的起始索引。\n",
    "\n",
    "字符串只包含小写英文字母，并且字符串 s 和 p 的长度都不超过 20100。\n",
    "\n",
    "说明：\n",
    "\n",
    "字母异位词指字母相同，但排列不同的字符串。\n",
    "不考虑答案输出的顺序。\n"
   ]
  },
  {
   "cell_type": "raw",
   "metadata": {},
   "source": [
    "示例 1:\n",
    "输入:\n",
    "s: \"cbaebabacd\" p: \"abc\"\n",
    "输出:\n",
    "[0, 6]\n",
    "\n",
    "解释:\n",
    "起始索引等于 0 的子串是 \"cba\", 它是 \"abc\" 的字母异位词。\n",
    "起始索引等于 6 的子串是 \"bac\", 它是 \"abc\" 的字母异位词。\n",
    " \n",
    "示例 2:\n",
    "输入:\n",
    "s: \"abab\" p: \"ab\"\n",
    "输出:\n",
    "[0, 1, 2]\n",
    "\n",
    "解释:\n",
    "起始索引等于 0 的子串是 \"ab\", 它是 \"ab\" 的字母异位词。\n",
    "起始索引等于 1 的子串是 \"ba\", 它是 \"ab\" 的字母异位词。\n",
    "起始索引等于 2 的子串是 \"ab\", 它是 \"ab\" 的字母异位词。"
   ]
  },
  {
   "cell_type": "markdown",
   "metadata": {},
   "source": [
    "## 思路一"
   ]
  },
  {
   "cell_type": "raw",
   "metadata": {},
   "source": [
    "字符统计，单词的异位词（anagram）是指与其字母个数相同只是顺序不同的单词\n",
    "\n"
   ]
  },
  {
   "cell_type": "code",
   "execution_count": 1,
   "metadata": {},
   "outputs": [],
   "source": [
    "class Solution(object):\n",
    "    def findAnagrams(self, s, p):\n",
    "        \"\"\"\n",
    "        :type s: str\n",
    "        :type p: str\n",
    "        :rtype: List[int]\n",
    "        \"\"\"\n",
    "        ls, lp = len(s), len(p)\n",
    "        cp = collections.Counter(p)\n",
    "        cs = collections.Counter()\n",
    "        ans = []\n",
    "        for i in range(ls):\n",
    "            cs[s[i]] += 1\n",
    "            if i >= lp:\n",
    "                cs[s[i - lp]] -= 1\n",
    "                if cs[s[i - lp]] == 0:\n",
    "                    del cs[s[i - lp]]\n",
    "            if cs == cp:\n",
    "                ans.append(i - lp + 1)\n",
    "        return ans\n",
    "        \n",
    "        "
   ]
  }
 ],
 "metadata": {
  "kernelspec": {
   "display_name": "Python 3",
   "language": "python",
   "name": "python3"
  },
  "language_info": {
   "codemirror_mode": {
    "name": "ipython",
    "version": 3
   },
   "file_extension": ".py",
   "mimetype": "text/x-python",
   "name": "python",
   "nbconvert_exporter": "python",
   "pygments_lexer": "ipython3",
   "version": "3.6.5"
  }
 },
 "nbformat": 4,
 "nbformat_minor": 2
}
