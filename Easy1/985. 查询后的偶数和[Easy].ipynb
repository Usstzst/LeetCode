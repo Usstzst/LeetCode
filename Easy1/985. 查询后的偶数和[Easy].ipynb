{
 "cells": [
  {
   "cell_type": "markdown",
   "metadata": {},
   "source": [
    "# 题目原意"
   ]
  },
  {
   "cell_type": "raw",
   "metadata": {},
   "source": [
    "给出一个整数数组 A 和一个查询数组 queries。\n",
    "\n",
    "对于第 i 次查询，有 val = queries[i][0], index = queries[i][1]，我们会把 val 加到 A[index] 上。然后，第 i 次查询的答案是 A 中偶数值的和。\n",
    "\n",
    "（此处给定的 index = queries[i][1] 是从 0 开始的索引，每次查询都会永久修改数组 A。）\n",
    "\n",
    "返回所有查询的答案。你的答案应当以数组 answer 给出，answer[i] 为第 i 次查询的答案。"
   ]
  },
  {
   "cell_type": "raw",
   "metadata": {},
   "source": [
    "示例：\n",
    "\n",
    "输入：A = [1,2,3,4], queries = [[1,0],[-3,1],[-4,0],[2,3]]\n",
    "输出：[8,6,2,4]\n",
    "解释：\n",
    "开始时，数组为 [1,2,3,4]。\n",
    "将 1 加到 A[0] 上之后，数组为 [2,2,3,4]，偶数值之和为 2 + 2 + 4 = 8。\n",
    "将 -3 加到 A[1] 上之后，数组为 [2,-1,3,4]，偶数值之和为 2 + 4 = 6。\n",
    "将 -4 加到 A[0] 上之后，数组为 [-2,-1,3,4]，偶数值之和为 -2 + 4 = 2。\n",
    "将 2 加到 A[3] 上之后，数组为 [-2,-1,3,6]，偶数值之和为 -2 + 6 = 4。"
   ]
  },
  {
   "cell_type": "markdown",
   "metadata": {},
   "source": [
    "## 思路一"
   ]
  },
  {
   "cell_type": "raw",
   "metadata": {},
   "source": [
    "题目很简单，有一点需要注意，就是每次执行query后，不需要遍历整个数组求出所有偶数的值。\n",
    "只需要记录上一次偶数的和，执行query前，如果该值是偶数，用上一次的和减去该值；执行query后，如果新值是偶数，用上一次的和加上这个新值，就可以得到这次query执行后的偶数总和。"
   ]
  },
  {
   "cell_type": "code",
   "execution_count": null,
   "metadata": {},
   "outputs": [],
   "source": [
    "class Solution(object):\n",
    "    def sumEvenAfterQueries(self, A, queries):\n",
    "        \"\"\"\n",
    "        :type A: List[int]\n",
    "        :type queries: List[List[int]]\n",
    "        :rtype: List[int]\n",
    "        \"\"\"\n",
    "        res = []\n",
    "        count = None\n",
    "        for val,inx in queries:\n",
    "            before = A[inx]\n",
    "            A[inx] += val\n",
    "            after = A[inx]\n",
    "            if count == None:\n",
    "                count = sum(filter(lambda x: x % 2 == 0,A))\n",
    "            else:\n",
    "                if before % 2 == 0:\n",
    "                    count -= before\n",
    "                if after % 2 == 0:\n",
    "                    count += after\n",
    "            res.append(count)\n",
    "        return res"
   ]
  }
 ],
 "metadata": {
  "kernelspec": {
   "display_name": "Python 3",
   "language": "python",
   "name": "python3"
  },
  "language_info": {
   "codemirror_mode": {
    "name": "ipython",
    "version": 3
   },
   "file_extension": ".py",
   "mimetype": "text/x-python",
   "name": "python",
   "nbconvert_exporter": "python",
   "pygments_lexer": "ipython3",
   "version": "3.7.0"
  }
 },
 "nbformat": 4,
 "nbformat_minor": 2
}
