{
 "cells": [
  {
   "cell_type": "markdown",
   "metadata": {},
   "source": [
    "# 题目原意"
   ]
  },
  {
   "cell_type": "raw",
   "metadata": {},
   "source": [
    "给定一个单词列表，只返回可以使用在键盘同一行的字母打印出来的单词。"
   ]
  },
  {
   "cell_type": "raw",
   "metadata": {},
   "source": [
    "Example:\n",
    "输入: [\"Hello\", \"Alaska\", \"Dad\", \"Peace\"]\n",
    "输出: [\"Alaska\", \"Dad\"]"
   ]
  },
  {
   "cell_type": "markdown",
   "metadata": {},
   "source": [
    "## 思路一"
   ]
  },
  {
   "cell_type": "code",
   "execution_count": 2,
   "metadata": {},
   "outputs": [],
   "source": [
    "class Solution(object):\n",
    "    def findWords(self, words):\n",
    "        \"\"\"\n",
    "        :type words: List[str]\n",
    "        :rtype: List[str]\n",
    "        \"\"\"\n",
    "        \n",
    "        keyboard = [\"qwertyuiop\", \"asdfghjkl\", \"zxcvbnm\"]\n",
    "        \n",
    "        out = []\n",
    "        for i in words:\n",
    "            for line in keyboard:\n",
    "                lword = i.lower()\n",
    "                if set(lword).issubset(set(line)):\n",
    "                    out.append(i)\n",
    "        return out\n",
    "\n"
   ]
  },
  {
   "cell_type": "markdown",
   "metadata": {},
   "source": [
    "## 思路二"
   ]
  },
  {
   "cell_type": "raw",
   "metadata": {},
   "source": [
    "集合新操作：\n",
    "    set1 <= set2  ： 判断set1中的元素是否都在set2中"
   ]
  },
  {
   "cell_type": "code",
   "execution_count": 3,
   "metadata": {},
   "outputs": [],
   "source": [
    "class Solution(object):\n",
    "    def findWords(self, words):\n",
    "        \"\"\"\n",
    "        :type words: List[str]\n",
    "        :rtype: List[str]\n",
    "        \"\"\"\n",
    "        wset = map(set, ['qwertyuiop', 'asdfghjkl', 'zxcvbnm'])\n",
    "        ans = []\n",
    "        for word in words:\n",
    "            wordi = word.lower()\n",
    "            if any(wordi <= rset for rset in wset):\n",
    "                ans.append(word)\n",
    "        return ans\n"
   ]
  }
 ],
 "metadata": {
  "kernelspec": {
   "display_name": "Python 3",
   "language": "python",
   "name": "python3"
  },
  "language_info": {
   "codemirror_mode": {
    "name": "ipython",
    "version": 3
   },
   "file_extension": ".py",
   "mimetype": "text/x-python",
   "name": "python",
   "nbconvert_exporter": "python",
   "pygments_lexer": "ipython3",
   "version": "3.7.0"
  }
 },
 "nbformat": 4,
 "nbformat_minor": 2
}
