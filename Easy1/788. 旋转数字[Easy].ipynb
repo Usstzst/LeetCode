{
 "cells": [
  {
   "cell_type": "markdown",
   "metadata": {},
   "source": [
    "# 题目原意"
   ]
  },
  {
   "cell_type": "raw",
   "metadata": {},
   "source": [
    "我们称一个数 X 为好数, 如果它的每位数字逐个地被旋转 180 度后，我们仍可以得到一个有效的，且和 X 不同的数。要求每位数字都要被旋转。\n",
    "\n",
    "如果一个数的每位数字被旋转以后仍然还是一个数字， 则这个数是有效的。0, 1, 和 8 被旋转后仍然是它们自己；2 和 5 可以互相旋转成对方；6 和 9 同理，除了这些以外其他的数字旋转以后都不再是有效的数字。\n",
    "\n",
    "现在我们有一个正整数 N, 计算从 1 到 N 中有多少个数 X 是好数？"
   ]
  },
  {
   "cell_type": "raw",
   "metadata": {},
   "source": [
    "示例:\n",
    "输入: 10\n",
    "输出: 4\n",
    "解释: \n",
    "在[1, 10]中有四个好数： 2, 5, 6, 9。\n",
    "注意 1 和 10 不是好数, 因为他们在旋转之后不变。"
   ]
  },
  {
   "cell_type": "markdown",
   "metadata": {},
   "source": [
    "## 思路一"
   ]
  },
  {
   "cell_type": "raw",
   "metadata": {},
   "source": [
    "由题可知：\n",
    "1、该数字中不含[3, 4, 7]，否则其倒影不是数字。\n",
    "2、该数字中必须包含[2, 5, 6, 9]中的至少一个，否则倒影和原数字相同"
   ]
  },
  {
   "cell_type": "code",
   "execution_count": 3,
   "metadata": {},
   "outputs": [],
   "source": [
    "class Solution(object):\n",
    "    def rotatedDigits(self, N):\n",
    "        \"\"\"\n",
    "        :type N: int\n",
    "        :rtype: int\n",
    "        \"\"\"\n",
    "        valid = [2,5,6,9]\n",
    "        nonValid = [3,4,7]\n",
    "        \n",
    "        def isGood(num):\n",
    "            for y in nonValid:\n",
    "                if str(y) in str(num):\n",
    "                    return False\n",
    "            return any(str(x) in str(num) for x in valid)\n",
    "        \n",
    "        return sum(map(int, [isGood(n) for n in range(1, N+1)]))\n",
    "        \n"
   ]
  },
  {
   "cell_type": "markdown",
   "metadata": {},
   "source": [
    "## 加强版"
   ]
  },
  {
   "cell_type": "code",
   "execution_count": 4,
   "metadata": {},
   "outputs": [],
   "source": [
    "class Solution(object):\n",
    "    def rotatedDigits(self, N):\n",
    "        \"\"\"\n",
    "        :type N: int\n",
    "        :rtype: int\n",
    "        \"\"\"\n",
    "        dmap = {\"0\" : \"0\", \"1\" : \"1\", \"8\" : \"8\", \"2\" : \"5\", \"5\" : \"2\", \"6\" : \"9\", \"9\" : \"6\"}\n",
    "        res = 0\n",
    "        for num in range(1, N + 1):\n",
    "            numlist = list(str(num))\n",
    "            if any(x in numlist for x in [\"3\", \"4\", \"7\"]):\n",
    "                continue\n",
    "            numRotate = map(lambda x : dmap[x], numlist)\n",
    "            if numRotate == numlist:\n",
    "                continue\n",
    "            res += 1\n",
    "        return res"
   ]
  }
 ],
 "metadata": {
  "kernelspec": {
   "display_name": "Python 3",
   "language": "python",
   "name": "python3"
  },
  "language_info": {
   "codemirror_mode": {
    "name": "ipython",
    "version": 3
   },
   "file_extension": ".py",
   "mimetype": "text/x-python",
   "name": "python",
   "nbconvert_exporter": "python",
   "pygments_lexer": "ipython3",
   "version": "3.7.0"
  }
 },
 "nbformat": 4,
 "nbformat_minor": 2
}
