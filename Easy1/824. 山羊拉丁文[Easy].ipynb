{
 "cells": [
  {
   "cell_type": "markdown",
   "metadata": {},
   "source": [
    "# 题目原意"
   ]
  },
  {
   "cell_type": "raw",
   "metadata": {},
   "source": [
    "给定一个由空格分割单词的句子 S。每个单词只包含大写或小写字母。\n",
    "\n",
    "我们要将句子转换为 “Goat Latin”（一种类似于 猪拉丁文 - Pig Latin 的虚构语言）。\n",
    "\n",
    "山羊拉丁文的规则如下：\n",
    "\n",
    "如果单词以元音开头（a, e, i, o, u），在单词后添加\"ma\"。\n",
    "例如，单词\"apple\"变为\"applema\"。\n",
    "\n",
    "如果单词以辅音字母开头（即非元音字母），移除第一个字符并将它放到末尾，之后再添加\"ma\"。\n",
    "例如，单词\"goat\"变为\"oatgma\"。\n",
    "\n",
    "根据单词在句子中的索引，在单词最后添加与索引相同数量的字母'a'，索引从1开始。\n",
    "例如，在第一个单词后添加\"a\"，在第二个单词后添加\"aa\"，以此类推。\n",
    "返回将 S 转换为山羊拉丁文后的句子。"
   ]
  },
  {
   "cell_type": "raw",
   "metadata": {},
   "source": [
    "Example 1:\n",
    "输入: \"I speak Goat Latin\"\n",
    "输出: \"Imaa peaksmaaa oatGmaaaa atinLmaaaaa\"\n",
    "\n",
    "Example 2:\n",
    "输入: \"The quick brown fox jumped over the lazy dog\"\n",
    "输出: \"heTmaa uickqmaaa rownbmaaaa oxfmaaaaa umpedjmaaaaaa overmaaaaaaa hetmaaaaaaaa azylmaaaaaaaaa ogdmaaaaaaaaaa\""
   ]
  },
  {
   "cell_type": "markdown",
   "metadata": {},
   "source": [
    "## 思路一"
   ]
  },
  {
   "cell_type": "code",
   "execution_count": 1,
   "metadata": {},
   "outputs": [],
   "source": [
    "class Solution:\n",
    "    def toGoatLatin(self, S):\n",
    "        \"\"\"\n",
    "        :type S: str\n",
    "        :rtype: str\n",
    "        \"\"\"\n",
    "        vowels = ['a', 'e', 'i', 'o', 'u', 'A', 'E', 'I', 'O', 'U']\n",
    "        words = S.split(' ')\n",
    "        new_words = []\n",
    "        for i, word in enumerate(words):\n",
    "            if word[0] in vowels:\n",
    "                word += 'ma'\n",
    "            else:\n",
    "                word = word[1:]+word[0]+'ma'\n",
    "            word += 'a'*(i+1)\n",
    "            new_words.append(word)\n",
    "        return ' '.join(new_words)\n",
    "        \n",
    "                \n",
    "                \n",
    "        \n",
    "        "
   ]
  }
 ],
 "metadata": {
  "kernelspec": {
   "display_name": "Python 3",
   "language": "python",
   "name": "python3"
  },
  "language_info": {
   "codemirror_mode": {
    "name": "ipython",
    "version": 3
   },
   "file_extension": ".py",
   "mimetype": "text/x-python",
   "name": "python",
   "nbconvert_exporter": "python",
   "pygments_lexer": "ipython3",
   "version": "3.7.0"
  }
 },
 "nbformat": 4,
 "nbformat_minor": 2
}
