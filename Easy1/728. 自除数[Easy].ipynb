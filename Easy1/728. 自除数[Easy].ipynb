{
 "cells": [
  {
   "cell_type": "markdown",
   "metadata": {},
   "source": [
    "# 题目原意"
   ]
  },
  {
   "cell_type": "raw",
   "metadata": {},
   "source": [
    "自除数 是指可以被它包含的每一位数除尽的数。\n",
    "\n",
    "例如，128 是一个自除数，因为 128 % 1 == 0，128 % 2 == 0，128 % 8 == 0。\n",
    "\n",
    "还有，自除数不允许包含 0 。\n",
    "\n",
    "给定上边界和下边界数字，输出一个列表，列表的元素是边界（含边界）内所有的自除数。"
   ]
  },
  {
   "cell_type": "raw",
   "metadata": {},
   "source": [
    "Example 1:\n",
    "输入：  上边界left = 1, 下边界right = 22\n",
    "输出： [1, 2, 3, 4, 5, 6, 7, 8, 9, 11, 12, 15, 22]\n"
   ]
  },
  {
   "cell_type": "markdown",
   "metadata": {},
   "source": [
    "## 思路一"
   ]
  },
  {
   "cell_type": "raw",
   "metadata": {},
   "source": [
    "有更简单的两个函数：\n",
    "all()判断是不是所有的元素都满足，\n",
    "filter过滤掉不满足条件的元素。"
   ]
  },
  {
   "cell_type": "code",
   "execution_count": 1,
   "metadata": {},
   "outputs": [],
   "source": [
    "class Solution(object):\n",
    "    def selfDividingNumbers(self, left, right):\n",
    "        is_self_dividing = lambda num: '0' not in str(num) and all([num % int(digit) == 0 for digit in str(num)])\n",
    "        return filter(is_self_dividing, range(left, right + 1))\n"
   ]
  },
  {
   "cell_type": "markdown",
   "metadata": {},
   "source": [
    "## 思路二"
   ]
  },
  {
   "cell_type": "raw",
   "metadata": {},
   "source": [
    "用了两个函数，一个用来判断是否是dividing number，另一个用来循环和遍历。\n",
    "\n",
    "要注意的一点是要判断0是否在num中，否则有除0错误。\n",
    "\n",
    "dividing number 判断的有点麻烦，就是遍历每位数字。"
   ]
  },
  {
   "cell_type": "code",
   "execution_count": 2,
   "metadata": {},
   "outputs": [],
   "source": [
    "class Solution:\n",
    "    def isDividingNumber(self, num):\n",
    "        if '0' in str(num):\n",
    "            return False\n",
    "        return 0 == sum(num % int(i) for i in str(num))\n",
    "    def selfDividingNumbers(self, left, right):\n",
    "        \"\"\"\n",
    "        :type left: int\n",
    "        :type right: int\n",
    "        :rtype: List[int]\n",
    "        \"\"\"\n",
    "        answer = []\n",
    "        for num in range(left, right + 1):\n",
    "            if self.isDividingNumber(num):\n",
    "                answer.append(num)\n",
    "        return answer\n",
    "\n"
   ]
  }
 ],
 "metadata": {
  "kernelspec": {
   "display_name": "Python 3",
   "language": "python",
   "name": "python3"
  },
  "language_info": {
   "codemirror_mode": {
    "name": "ipython",
    "version": 3
   },
   "file_extension": ".py",
   "mimetype": "text/x-python",
   "name": "python",
   "nbconvert_exporter": "python",
   "pygments_lexer": "ipython3",
   "version": "3.7.0"
  }
 },
 "nbformat": 4,
 "nbformat_minor": 2
}
