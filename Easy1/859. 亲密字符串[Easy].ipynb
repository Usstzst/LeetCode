{
 "cells": [
  {
   "cell_type": "markdown",
   "metadata": {},
   "source": [
    "# 题目原意"
   ]
  },
  {
   "cell_type": "raw",
   "metadata": {},
   "source": [
    "给定两个由小写字母构成的字符串 A 和 B ，只要我们可以通过交换 A 中的两个字母得到与 B 相等的结果，就返回 true ；否则返回 false 。"
   ]
  },
  {
   "cell_type": "raw",
   "metadata": {},
   "source": [
    "示例 1：\n",
    "输入： A = \"ab\", B = \"ba\"\n",
    "输出： true\n",
    "\n",
    "示例 2：\n",
    "输入： A = \"ab\", B = \"ab\"\n",
    "输出： false\n",
    "\n",
    "示例 3:\n",
    "输入： A = \"aa\", B = \"aa\"\n",
    "输出： true\n",
    "\n",
    "示例 4：\n",
    "输入： A = \"aaaaaaabc\", B = \"aaaaaaacb\"\n",
    "输出： true\n",
    "\n",
    "示例 5：\n",
    "输入： A = \"\", B = \"aa\"\n",
    "输出： false\n",
    " \n",
    "\n",
    "提示：\n",
    "0 <= A.length <= 20000\n",
    "0 <= B.length <= 20000\n",
    "A 和 B 仅由小写字母构成。"
   ]
  },
  {
   "cell_type": "markdown",
   "metadata": {},
   "source": [
    "## 思路一"
   ]
  },
  {
   "cell_type": "raw",
   "metadata": {},
   "source": [
    "字符串A中的两个字符必须进行一次交换之后和字符串B相同。所以可以分情况讨论。\n",
    "（1）两个字符串长度不同，直接返回false，len(A)==len(B)是亲密字符串的前提条件。\n",
    "（2）当 A==B，字符串A中必须存在重复字符，否则无法完成一次交换，也就成不了亲密字符串。\n",
    "（3）当 A != B,  此时要想成立，字符串A、B对应位置有两位不一样，且，交换之后一样。\n"
   ]
  },
  {
   "cell_type": "code",
   "execution_count": 2,
   "metadata": {},
   "outputs": [],
   "source": [
    "\n",
    "class Solution:\n",
    "    def buddyStrings(self, A, B):\n",
    "\n",
    "        \n",
    "        if len(A) != len(B):\n",
    "            return False  # 长度不相等的情况\n",
    "        if A == B:  \n",
    "            # 两个字符串相等的情况，A必须存在重复字符\n",
    "            seen = set()\n",
    "            for a in A:\n",
    "                if a in seen:\n",
    "                    return True\n",
    "                seen.add(a)\n",
    "            return False\n",
    "        else:\n",
    "            pairs = []\n",
    "            for a, b in zip(A, B):  # A、B不相等的情况\n",
    "                if a != b:\n",
    "                    pairs.append([a, b])\n",
    "                if len(pairs) > 2: return False\n",
    "            return len(pairs) == 2 and pairs[0] == pairs[1][::-1]\n",
    "\n"
   ]
  }
 ],
 "metadata": {
  "kernelspec": {
   "display_name": "Python 3",
   "language": "python",
   "name": "python3"
  },
  "language_info": {
   "codemirror_mode": {
    "name": "ipython",
    "version": 3
   },
   "file_extension": ".py",
   "mimetype": "text/x-python",
   "name": "python",
   "nbconvert_exporter": "python",
   "pygments_lexer": "ipython3",
   "version": "3.6.5"
  }
 },
 "nbformat": 4,
 "nbformat_minor": 2
}
