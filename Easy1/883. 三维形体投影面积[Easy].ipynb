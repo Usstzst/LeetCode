{
 "cells": [
  {
   "cell_type": "markdown",
   "metadata": {},
   "source": [
    "# 题目原意"
   ]
  },
  {
   "cell_type": "raw",
   "metadata": {},
   "source": [
    "在 N * N 的网格中，我们放置了一些与 x，y，z 三轴对齐的 1 * 1 * 1 立方体。\n",
    "\n",
    "每个值 v = grid[i][j] 表示 v 个正方体叠放在单元格 (i, j) 上。\n",
    "\n",
    "现在，我们查看这些立方体在 xy、yz 和 zx 平面上的投影。\n",
    "\n",
    "投影就像影子，将三维形体映射到一个二维平面上。\n",
    "\n",
    "在这里，从顶部、前面和侧面看立方体时，我们会看到“影子”。\n",
    "\n",
    "返回所有三个投影的总面积。"
   ]
  },
  {
   "cell_type": "raw",
   "metadata": {},
   "source": [
    "Example 1:\n",
    "输入：[[2]]\n",
    "输出：5\n",
    "\n",
    "\n",
    "Example 2:\n",
    "输入：[[1,2],[3,4]]\n",
    "输出：17"
   ]
  },
  {
   "cell_type": "markdown",
   "metadata": {},
   "source": [
    "## 思路一 "
   ]
  },
  {
   "cell_type": "raw",
   "metadata": {},
   "source": [
    "稍微缕一下就能明白，俯视图投影就是不为0的柱子的个数，主视图、侧视图是当前视图柱子的最高值求和。"
   ]
  },
  {
   "cell_type": "code",
   "execution_count": null,
   "metadata": {},
   "outputs": [],
   "source": [
    "class Solution(object):\n",
    "    def projectionArea(self, grid):\n",
    "        \"\"\"\n",
    "        :type grid: List[List[int]]\n",
    "        :rtype: int\n",
    "        \"\"\"\n",
    "        top , front, side = 0, 0, 0\n",
    "        n = len(grid)\n",
    "        for i in range(n):\n",
    "            x, y = 0, 0\n",
    "            for j in range(n):\n",
    "                if grid[i][j] != 0:\n",
    "                    top += 1\n",
    "                x = max(x, grid[i][j])\n",
    "                y = max(y, grid[j][i])\n",
    "            front += x\n",
    "            side += y\n",
    "        return top + front +side\n",
    "      \n",
    "\n"
   ]
  }
 ],
 "metadata": {
  "kernelspec": {
   "display_name": "Python 3",
   "language": "python",
   "name": "python3"
  },
  "language_info": {
   "codemirror_mode": {
    "name": "ipython",
    "version": 3
   },
   "file_extension": ".py",
   "mimetype": "text/x-python",
   "name": "python",
   "nbconvert_exporter": "python",
   "pygments_lexer": "ipython3",
   "version": "3.7.0"
  }
 },
 "nbformat": 4,
 "nbformat_minor": 2
}
