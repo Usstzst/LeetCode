{
 "cells": [
  {
   "cell_type": "markdown",
   "metadata": {},
   "source": [
    "# 题目原意"
   ]
  },
  {
   "cell_type": "raw",
   "metadata": {},
   "source": [
    "给定一个非负整数数组 A， A 中一半整数是奇数，一半整数是偶数。\n",
    "\n",
    "对数组进行排序，以便当 A[i] 为奇数时，i 也是奇数；当 A[i] 为偶数时， i 也是偶数。\n",
    "\n",
    "你可以返回任何满足上述条件的数组作为答案。"
   ]
  },
  {
   "cell_type": "raw",
   "metadata": {},
   "source": [
    "Example 1：\n",
    "输入：[4,2,5,7]\n",
    "输出：[4,5,2,7]\n",
    "解释：[4,7,2,5]，[2,5,4,7]，[2,7,4,5] 也会被接受。"
   ]
  },
  {
   "cell_type": "markdown",
   "metadata": {},
   "source": [
    "## 思路一"
   ]
  },
  {
   "cell_type": "raw",
   "metadata": {},
   "source": [
    "直接使用两个数组分别存放奇数和偶数，然后结果就是在这两个里面来回的选取就好了。这种做法比较简单。"
   ]
  },
  {
   "cell_type": "code",
   "execution_count": 2,
   "metadata": {},
   "outputs": [],
   "source": [
    "class Solution(object):\n",
    "    def sortArrayByParityII(self, A):\n",
    "        \"\"\"\n",
    "        :type A: List[int]\n",
    "        :rtype: List[int]\n",
    "        \"\"\"\n",
    "        odd = [x for x in A if x % 2 == 1]\n",
    "        even = [x for x in A if x % 2 == 0]\n",
    "        res = []\n",
    "        iseven = True\n",
    "        while odd or even:\n",
    "            if iseven:\n",
    "                res.append(even.pop())\n",
    "            else:\n",
    "                res.append(odd.pop())\n",
    "            iseven = not iseven\n",
    "        return res"
   ]
  },
  {
   "cell_type": "markdown",
   "metadata": {},
   "source": [
    "## 思路二： 排序"
   ]
  },
  {
   "cell_type": "raw",
   "metadata": {},
   "source": [
    "先对A进行排序，使得偶数都在前面，奇数都在后面，然后每次从前从后各取一个数，然后放到结果里就好了。"
   ]
  },
  {
   "cell_type": "code",
   "execution_count": 3,
   "metadata": {},
   "outputs": [],
   "source": [
    "class Solution:\n",
    "    def sortArrayByParityII(self, A):\n",
    "        \"\"\"\n",
    "        :type A: List[int]\n",
    "        :rtype: List[int]\n",
    "        \"\"\"\n",
    "        A.sort(key = lambda x : x % 2)\n",
    "        N = len(A)\n",
    "        res = []\n",
    "        for i in range(N // 2):\n",
    "            res.append(A[i])\n",
    "            res.append(A[N - 1 - i])\n",
    "        return res\n"
   ]
  }
 ],
 "metadata": {
  "kernelspec": {
   "display_name": "Python 3",
   "language": "python",
   "name": "python3"
  },
  "language_info": {
   "codemirror_mode": {
    "name": "ipython",
    "version": 3
   },
   "file_extension": ".py",
   "mimetype": "text/x-python",
   "name": "python",
   "nbconvert_exporter": "python",
   "pygments_lexer": "ipython3",
   "version": "3.7.0"
  }
 },
 "nbformat": 4,
 "nbformat_minor": 2
}
