{
 "cells": [
  {
   "cell_type": "markdown",
   "metadata": {},
   "source": [
    "# 题目原意"
   ]
  },
  {
   "cell_type": "raw",
   "metadata": {},
   "source": [
    "某种外星语也使用英文小写字母，但可能顺序 order 不同。字母表的顺序（order）是一些小写字母的排列。\n",
    "\n",
    "给定一组用外星语书写的单词 words，以及其字母表的顺序 order，只有当给定的单词在这种外星语中按字典序排列时，返回 true；否则，返回 false。"
   ]
  },
  {
   "cell_type": "raw",
   "metadata": {},
   "source": [
    "示例 1：\n",
    "输入：words = [\"hello\",\"leetcode\"], order = \"hlabcdefgijkmnopqrstuvwxyz\"\n",
    "输出：true\n",
    "解释：在该语言的字母表中，'h' 位于 'l' 之前，所以单词序列是按字典序排列的。\n",
    "\n",
    "示例 2：\n",
    "输入：words = [\"word\",\"world\",\"row\"], order = \"worldabcefghijkmnpqstuvxyz\"\n",
    "输出：false\n",
    "解释：在该语言的字母表中，'d' 位于 'l' 之后，那么 words[0] > words[1]，因此单词序列不是按字典序排列的。\n",
    "\n",
    "示例 3：\n",
    "输入：words = [\"apple\",\"app\"], order = \"abcdefghijklmnopqrstuvwxyz\"\n",
    "输出：false\n",
    "解释：当前三个字符 \"app\" 匹配时，第二个字符串相对短一些，然后根据词典编纂规则 \"apple\" > \"app\"，因为 'l' > '∅'，其中 '∅' 是空白字符，定义为比任何其他字符都小"
   ]
  },
  {
   "cell_type": "raw",
   "metadata": {},
   "source": [
    "提示：\n",
    "\n",
    "1 <= words.length <= 100\n",
    "1 <= words[i].length <= 20\n",
    "order.length == 26\n",
    "在 words[i] 和 order 中的所有字符都是英文小写字母。"
   ]
  },
  {
   "cell_type": "markdown",
   "metadata": {},
   "source": [
    "## 思路一"
   ]
  },
  {
   "cell_type": "raw",
   "metadata": {},
   "source": [
    "直接依次进行判断即可。拿出两个相邻的字符串pre和after，然后判断他们的相同位置的每个字符的顺序，如果pre的某个位置小于after，说明这两个字符串是有序的，那么继续判断；如果Pre的某个位置大于after，说明不有序，直接返回False。这两部判断完成之后没结束，我们还要继续判断Example 3的情况，所以，需要判断pre的长度是不是大于after，并且after等于pre的前部分。\n"
   ]
  },
  {
   "cell_type": "code",
   "execution_count": 3,
   "metadata": {},
   "outputs": [],
   "source": [
    "class Solution:\n",
    "    def isAlienSorted(self, words, order):\n",
    "        \"\"\"\n",
    "        :type words: List[str]\n",
    "        :type order: str\n",
    "        :rtype: bool\n",
    "        \"\"\"\n",
    "        #Adjacent compare\n",
    "        length = len(words)\n",
    "        for i in range(length-1):\n",
    "            a = words[i]\n",
    "            b = words[i+1]\n",
    "            minlen = min(len(a),len(b))\n",
    "            for j in range(minlen):\n",
    "                if order.index(a[j]) < order.index(b[j]):break\n",
    "                elif order.index(a[j]) > order.index(b[j]):return False\n",
    "                elif j == minlen - 1  and len(b) < len(a):return False\n",
    "        return True\n"
   ]
  },
  {
   "cell_type": "code",
   "execution_count": 2,
   "metadata": {},
   "outputs": [],
   "source": [
    "class Solution(object):\n",
    "    def isAlienSorted(self, words, order):\n",
    "        \"\"\"\n",
    "        :type words: List[str]\n",
    "        :type order: str\n",
    "        :rtype: bool\n",
    "        \"\"\"\n",
    "        N = len(words)\n",
    "        d = {c : i for i, c in enumerate(order)}\n",
    "        for i in range(N - 1):\n",
    "            pre, after = words[i], words[i + 1]\n",
    "            if pre == after: continue\n",
    "            _len = min(len(pre), len(after))\n",
    "            for j in range(_len):\n",
    "                if d[pre[j]] < d[after[j]]:\n",
    "                    break\n",
    "                elif d[pre[j]] > d[after[j]]:\n",
    "                    return False\n",
    "            if len(pre) > len(after) and pre[:_len] == after:\n",
    "                return False\n",
    "        return True"
   ]
  }
 ],
 "metadata": {
  "kernelspec": {
   "display_name": "Python 3",
   "language": "python",
   "name": "python3"
  },
  "language_info": {
   "codemirror_mode": {
    "name": "ipython",
    "version": 3
   },
   "file_extension": ".py",
   "mimetype": "text/x-python",
   "name": "python",
   "nbconvert_exporter": "python",
   "pygments_lexer": "ipython3",
   "version": "3.7.0"
  }
 },
 "nbformat": 4,
 "nbformat_minor": 2
}
