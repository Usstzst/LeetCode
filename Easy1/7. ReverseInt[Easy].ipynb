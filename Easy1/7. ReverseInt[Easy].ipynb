{
 "cells": [
  {
   "cell_type": "markdown",
   "metadata": {},
   "source": [
    "# Reverse Integer\n",
    "\n",
    "## Question：\n",
    "\n",
    "Given a 32-bit signed integer, reverse digits of an integer.\n",
    "\n",
    "## Note：\n",
    "Assume we are dealing with an environment which could only store integers within the 32-bit signed integer range: [-2^31, 2^31-1]. For the purpose of this problem, assume that your function returns 0 when the reversed integer overflows.\n"
   ]
  },
  {
   "cell_type": "markdown",
   "metadata": {},
   "source": [
    "### example:\n",
    "Input: 123   Output: 321  \n",
    "Input:-123   Output: 321\n",
    "Input:120    output:21\n"
   ]
  },
  {
   "cell_type": "markdown",
   "metadata": {},
   "source": [
    "## Solution"
   ]
  },
  {
   "cell_type": "code",
   "execution_count": 1,
   "metadata": {},
   "outputs": [],
   "source": [
    "class Solution(object):\n",
    "    def reverse(self, x):\n",
    "        # flag 记录正负数\n",
    "        flag = 1 if x>=0 else -1\n",
    "        new_x, x = 0, abs(x)\n",
    "        while x:\n",
    "            # 从各位开始取数，实现反转\n",
    "            new_x = 10*new_x + x%10\n",
    "            x = int(x/10)\n",
    "        # 添加正负号\n",
    "        new_x = flag*new_x\n",
    "        return new_x if new_x < 2147483648 and new_x >= -2147483648 else 0\n"
   ]
  }
 ],
 "metadata": {
  "kernelspec": {
   "display_name": "Python 3",
   "language": "python",
   "name": "python3"
  },
  "language_info": {
   "codemirror_mode": {
    "name": "ipython",
    "version": 3
   },
   "file_extension": ".py",
   "mimetype": "text/x-python",
   "name": "python",
   "nbconvert_exporter": "python",
   "pygments_lexer": "ipython3",
   "version": "3.7.0"
  }
 },
 "nbformat": 4,
 "nbformat_minor": 2
}
