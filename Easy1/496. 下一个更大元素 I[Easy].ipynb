{
 "cells": [
  {
   "cell_type": "markdown",
   "metadata": {},
   "source": [
    "# 题目原意"
   ]
  },
  {
   "cell_type": "raw",
   "metadata": {},
   "source": [
    "给定两个没有重复元素的数组 nums1 和 nums2 ，其中nums1 是 nums2 的子集。找到 nums1 中每个元素在 nums2 中的下一个比其大的值。\n",
    "\n",
    "nums1 中数字 x 的下一个更大元素是指 x 在 nums2 中对应位置的右边的第一个比 x 大的元素。如果不存在，对应位置输出-1。"
   ]
  },
  {
   "cell_type": "raw",
   "metadata": {},
   "source": [
    "Example 1:\n",
    "输入: nums1 = [4,1,2], nums2 = [1,3,4,2].\n",
    "输出: [-1,3,-1]\n",
    "解释:\n",
    "    对于num1中的数字4，你无法在第二个数组中找到下一个更大的数字，因此输出 -1。\n",
    "    对于num1中的数字1，第二个数组中数字1右边的下一个较大数字是 3。\n",
    "    对于num1中的数字2，第二个数组中没有下一个更大的数字，因此输出 -1。\n",
    "    \n",
    "      \n",
    "Example 2:\n",
    "输入: nums1 = [2,4], nums2 = [1,2,3,4].\n",
    "输出: [3,-1]\n",
    "解释:\n",
    "    对于num1中的数字2，第二个数组中的下一个较大数字是3。\n",
    "    对于num1中的数字4，第二个数组中没有下一个更大的数字，因此输出 -1。"
   ]
  },
  {
   "cell_type": "markdown",
   "metadata": {},
   "source": [
    "## 思路一"
   ]
  },
  {
   "cell_type": "code",
   "execution_count": 6,
   "metadata": {},
   "outputs": [],
   "source": [
    "class Solution:\n",
    "    def nextGreaterElement(self, nums1, nums2):\n",
    "        \n",
    "        ans = []\n",
    "        for i in range(len(nums1)):\n",
    "            start = nums2.index(nums1[i])\n",
    "            nums3 = nums2[start+1:]\n",
    "            for j in range(len(nums3)):\n",
    "                if nums1[i] < nums3[j]:\n",
    "                    ans.append(nums3[j])\n",
    "                    break\n",
    "            else:\n",
    "                ans.append(-1)\n",
    "        return ans"
   ]
  },
  {
   "cell_type": "markdown",
   "metadata": {},
   "source": [
    "## 思路二"
   ]
  },
  {
   "cell_type": "raw",
   "metadata": {},
   "source": [
    "先从nums2中找到对应的nums1数值的序号，然后从这个序号往又找，看有没有比nums1数字大的。\n",
    "\n",
    "如果有，把这个数字放到结果里；如果没有，就把-1放到结果里。"
   ]
  },
  {
   "cell_type": "code",
   "execution_count": 8,
   "metadata": {},
   "outputs": [],
   "source": [
    "class Solution(object):\n",
    "    def nextGreaterElement(self, findNums, nums):\n",
    "        \"\"\"\n",
    "        :type findNums: List[int]\n",
    "        :type nums: List[int]\n",
    "        :rtype: List[int]\n",
    "        \"\"\"\n",
    "        answer = []\n",
    "        for num1 in findNums:\n",
    "            index = -1\n",
    "            for i,nums2 in enumerate(nums):\n",
    "                if num1 == nums[i]:\n",
    "                    index = i\n",
    "                    break\n",
    "            while index < len(nums) and num1 >= nums[index]:\n",
    "                index += 1\n",
    "            if index == len(nums):\n",
    "                answer.append(-1)\n",
    "            else:\n",
    "                answer.append(nums[index])            \n",
    "        return answer"
   ]
  }
 ],
 "metadata": {
  "kernelspec": {
   "display_name": "Python 3",
   "language": "python",
   "name": "python3"
  },
  "language_info": {
   "codemirror_mode": {
    "name": "ipython",
    "version": 3
   },
   "file_extension": ".py",
   "mimetype": "text/x-python",
   "name": "python",
   "nbconvert_exporter": "python",
   "pygments_lexer": "ipython3",
   "version": "3.7.0"
  }
 },
 "nbformat": 4,
 "nbformat_minor": 2
}
