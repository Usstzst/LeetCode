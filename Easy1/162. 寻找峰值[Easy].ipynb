{
 "cells": [
  {
   "cell_type": "markdown",
   "metadata": {},
   "source": [
    "# 题目原意"
   ]
  },
  {
   "cell_type": "raw",
   "metadata": {},
   "source": [
    "峰值元素是指其值大于左右相邻值的元素。\n",
    "\n",
    "给定一个输入数组 nums，其中 nums[i] ≠ nums[i+1]，找到峰值元素并返回其索引。\n",
    "\n",
    "数组可能包含多个峰值，在这种情况下，返回任何一个峰值所在位置即可。\n",
    "\n",
    "你可以假设 nums[-1] = nums[n] = -∞。"
   ]
  },
  {
   "cell_type": "raw",
   "metadata": {},
   "source": [
    "Example 1:\n",
    "输入: nums = [1,2,3,1]\n",
    "输出: 2\n",
    "解释: 3 是峰值元素，你的函数应该返回其索引 2。\n",
    "\n",
    "Example 2：\n",
    "输入: nums = [1,2,1,3,5,6,4]\n",
    "输出: 1 或 5 \n",
    "解释: 你的函数可以返回索引 1，其峰值元素为 2；\n",
    "     或者返回索引 5， 其峰值元素为 6。\n"
   ]
  },
  {
   "cell_type": "markdown",
   "metadata": {},
   "source": [
    "## 思路一： 二分查找法"
   ]
  },
  {
   "cell_type": "code",
   "execution_count": 1,
   "metadata": {},
   "outputs": [],
   "source": [
    "class Solution(object):\n",
    "    def findPeakElement(self, nums):\n",
    "        \"\"\"\n",
    "        :type nums: List[int]\n",
    "        :rtype: int\n",
    "        \"\"\"\n",
    "        left, right = 0, len(nums)-1\n",
    "        while left < right:\n",
    "            mid1 = (left+right)/2\n",
    "            mid2 = mid1+1\n",
    "            if nums[mid1]<nums[mid2]:\n",
    "                left = mid2\n",
    "            else:\n",
    "                right = mid1\n",
    "        return left\n",
    "    "
   ]
  }
 ],
 "metadata": {
  "kernelspec": {
   "display_name": "Python 3",
   "language": "python",
   "name": "python3"
  },
  "language_info": {
   "codemirror_mode": {
    "name": "ipython",
    "version": 3
   },
   "file_extension": ".py",
   "mimetype": "text/x-python",
   "name": "python",
   "nbconvert_exporter": "python",
   "pygments_lexer": "ipython3",
   "version": "3.6.5"
  }
 },
 "nbformat": 4,
 "nbformat_minor": 2
}
