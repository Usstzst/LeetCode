{
 "cells": [
  {
   "cell_type": "markdown",
   "metadata": {},
   "source": [
    "# 题目原意"
   ]
  },
  {
   "cell_type": "raw",
   "metadata": {},
   "source": [
    "给定一个二叉搜索树的根结点 root, 返回树中任意两节点的差的最小值。"
   ]
  },
  {
   "cell_type": "raw",
   "metadata": {},
   "source": [
    "示例：\n",
    "输入: root = [4,2,6,1,3,null,null]\n",
    "输出: 1\n",
    "\n",
    "解释:\n",
    "注意，root是树结点对象(TreeNode object)，而不是数组。\n",
    "\n",
    "给定的树 [4,2,6,1,3,null,null] 可表示为下图:\n",
    "\n",
    "         4\n",
    "        /   \\\n",
    "       2     6\n",
    "      / \\    \n",
    "     1  3  \n",
    "\n",
    "最小的差值是 1, 它是节点1和节点2的差值, 也是节点3和节点2的差值。\n",
    "\n",
    "注意：\n",
    "二叉树的大小范围在 2 到 100。\n",
    "二叉树总是有效的，每个节点的值都是整数，且不重复。"
   ]
  },
  {
   "cell_type": "markdown",
   "metadata": {},
   "source": [
    "## 思路一"
   ]
  },
  {
   "cell_type": "raw",
   "metadata": {},
   "source": [
    "中序遍历是有序的， 所以先进行中序遍历，得到有序列表，然后找出相邻的两个节点差值的最小值即可。"
   ]
  },
  {
   "cell_type": "code",
   "execution_count": 1,
   "metadata": {},
   "outputs": [],
   "source": [
    "# Definition for a binary tree node.\n",
    "# class TreeNode(object):\n",
    "#     def __init__(self, x):\n",
    "#         self.val = x\n",
    "#         self.left = None\n",
    "#         self.right = None\n",
    "\n",
    "class Solution(object):\n",
    "    def minDiffInBST(self, root):\n",
    "        \"\"\"\n",
    "        :type root: TreeNode\n",
    "        :rtype: int\n",
    "        \"\"\"\n",
    "        vals = []\n",
    "        def inOrder(root):\n",
    "            if not root:\n",
    "                return \n",
    "            inOrder(root.left)\n",
    "            vals.append(root.val)\n",
    "            inOrder(root.right)\n",
    "        inOrder(root)\n",
    "        return min([vals[i+1]-vals[i] for i in range(len(vals)-1)])\n",
    "        \n"
   ]
  }
 ],
 "metadata": {
  "kernelspec": {
   "display_name": "Python 3",
   "language": "python",
   "name": "python3"
  },
  "language_info": {
   "codemirror_mode": {
    "name": "ipython",
    "version": 3
   },
   "file_extension": ".py",
   "mimetype": "text/x-python",
   "name": "python",
   "nbconvert_exporter": "python",
   "pygments_lexer": "ipython3",
   "version": "3.7.0"
  }
 },
 "nbformat": 4,
 "nbformat_minor": 2
}
