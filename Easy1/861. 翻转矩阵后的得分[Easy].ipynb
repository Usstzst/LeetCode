{
 "cells": [
  {
   "cell_type": "markdown",
   "metadata": {},
   "source": [
    "# 题目原意"
   ]
  },
  {
   "cell_type": "raw",
   "metadata": {},
   "source": [
    "有一个二维矩阵 A 其中每个元素的值为 0 或 1 。\n",
    "\n",
    "移动是指选择任一行或列，并转换该行或列中的每一个值：将所有 0 都更改为 1，将所有 1 都更改为 0。\n",
    "\n",
    "在做出任意次数的移动后，将该矩阵的每一行都按照二进制数来解释，矩阵的得分就是这些数字的总和。\n",
    "\n",
    "返回尽可能高的分数。\n",
    "\n",
    " \n",
    "\n",
    "示例：\n",
    "输入：[[0,0,1,1],[1,0,1,0],[1,1,0,0]]\n",
    "输出：39\n",
    "解释：\n",
    "转换为 [[1,1,1,1],[1,0,0,1],[1,1,1,1]]\n",
    "0b1111 + 0b1001 + 0b1111 = 15 + 9 + 15 = 39"
   ]
  },
  {
   "cell_type": "markdown",
   "metadata": {},
   "source": [
    "## 思路一"
   ]
  },
  {
   "cell_type": "raw",
   "metadata": {},
   "source": [
    "第一步判断每行的第一个位置是不是0，如果是0那么就把这行全部翻转。第二步，统计每一列有多少个1，计算2的max(count1, count0)次幂。"
   ]
  },
  {
   "cell_type": "code",
   "execution_count": 1,
   "metadata": {},
   "outputs": [],
   "source": [
    "class Solution(object):\n",
    "    def matrixScore(self, A):\n",
    "        \"\"\"\n",
    "        :type A: List[List[int]]\n",
    "        :rtype: int\n",
    "        \"\"\"\n",
    "        M, N = len(A), len(A[0])\n",
    "        for i in range(M):\n",
    "            if A[i][0] == 0:\n",
    "                for j in range(N):\n",
    "                    A[i][j] = 1-A[i][j]\n",
    "        res = 0\n",
    "        for j in range(N):\n",
    "            count1 = 0\n",
    "            for i in range(M):\n",
    "                if A[i][j]:\n",
    "                    count1 += 1\n",
    "            res += (1<<N-1-j)*max(count1, M-count1)\n",
    "        return res\n",
    "\n"
   ]
  }
 ],
 "metadata": {
  "kernelspec": {
   "display_name": "Python 3",
   "language": "python",
   "name": "python3"
  },
  "language_info": {
   "codemirror_mode": {
    "name": "ipython",
    "version": 3
   },
   "file_extension": ".py",
   "mimetype": "text/x-python",
   "name": "python",
   "nbconvert_exporter": "python",
   "pygments_lexer": "ipython3",
   "version": "3.7.0"
  }
 },
 "nbformat": 4,
 "nbformat_minor": 2
}
