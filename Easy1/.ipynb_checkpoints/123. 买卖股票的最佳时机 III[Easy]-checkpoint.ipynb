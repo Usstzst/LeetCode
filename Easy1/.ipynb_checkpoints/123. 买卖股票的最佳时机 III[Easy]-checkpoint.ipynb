{
 "cells": [
  {
   "cell_type": "markdown",
   "metadata": {},
   "source": [
    "# 题目原意"
   ]
  },
  {
   "cell_type": "raw",
   "metadata": {},
   "source": [
    "给定一个数组，它的第 i 个元素是一支给定的股票在第 i 天的价格。\n",
    "\n",
    "设计一个算法来计算你所能获取的最大利润。你最多可以完成 两笔 交易。\n",
    "\n",
    "注意: 你不能同时参与多笔交易（你必须在再次购买前出售掉之前的股票）。"
   ]
  },
  {
   "cell_type": "raw",
   "metadata": {},
   "source": [
    "Example 1:\n",
    "输入: [3,3,5,0,0,3,1,4]\n",
    "输出: 6\n",
    "解释: 在第 4 天（股票价格 = 0）的时候买入，在第 6 天（股票价格 = 3）的时候卖出，这笔交易所能获得利润 = 3-0 = 3 。\n",
    "    在第 7 天（股票价格 = 1）的时候买入，在第 8 天 （股票价格 = 4）的时候卖出，这笔交易所能获得利润 = 4-1 = 3 。\n",
    "    \n",
    "    \n",
    "Example 2:\n",
    "输入: [1,2,3,4,5]\n",
    "输出: 4\n",
    "解释: 在第 1 天（股票价格 = 1）的时候买入, 在第 5 天 （股票价格 = 5）的时候卖出, 这笔交易所能获得利润= 5-1 = 4 。   \n",
    "注意你不能在第 1 天和第 2 天接连购买股票，之后再将它们卖出。   \n",
    "因为这样属于同时参与了多笔交易，你必须在再次购买前出售掉之前的股票。"
   ]
  },
  {
   "cell_type": "markdown",
   "metadata": {},
   "source": [
    "## 思路一"
   ]
  },
  {
   "cell_type": "raw",
   "metadata": {},
   "source": [
    "123是由121演变而来的，原来是只能有一次，现在是可以有两次，这里有要求是说你不能买一次再买一次然后卖出去两次，只能买卖买卖。这个做法就比较有趣了，是将天数分开，前i天调用一次121的算法，后面的天调用一次121的算法，但是要注意如果外层循环i，里面再循环121的算法，会超时，这时我们考虑用两个数组来存储结果，pre_profit和pro_profit，其中pre_profit[i]表示i天之前的最大利润，pro_profit[i]表示i天之后的最大利润，前i天的很好理解和121一样的写法，后i天注意要从后往前动态规划。\n"
   ]
  },
  {
   "cell_type": "code",
   "execution_count": 1,
   "metadata": {},
   "outputs": [],
   "source": [
    "class Solution(object):\n",
    "    def maxProfit(self, prices):\n",
    "        \"\"\"\n",
    "        :type prices: List[int]\n",
    "        :rtype: int\n",
    "        \"\"\"\n",
    "        n = len(prices)\n",
    "        if(n<2):\n",
    "            return 0\n",
    "        pre_max_profit = [0 for i in range(n)]\n",
    "        pro_max_profit = [0 for i in range(n)]\n",
    "        max_profit = 0\n",
    "        pre_min_buy = prices[0]\n",
    "        for i in range(1,n):\n",
    "            #pre i days\n",
    "            pre_min_buy = min(pre_min_buy,prices[i])\n",
    "            pre_max_profit[i]=max(pre_max_profit[i-1], prices[i]-pre_min_buy)\n",
    "\n",
    "        pro_max_sell = prices[n-1]\n",
    "        for k in range(n-2,-1,-1):\n",
    "            pro_max_sell = max(pro_max_sell,prices[k])\n",
    "            pro_max_profit[k]=max(pro_max_profit[k+1], pro_max_sell-prices[k])\n",
    "        for j in range(0,n):\n",
    "            max_profit = max(max_profit,pre_max_profit[j]+pro_max_profit[j])\n",
    "        return max_profit\n"
   ]
  }
 ],
 "metadata": {
  "kernelspec": {
   "display_name": "Python 3",
   "language": "python",
   "name": "python3"
  },
  "language_info": {
   "codemirror_mode": {
    "name": "ipython",
    "version": 3
   },
   "file_extension": ".py",
   "mimetype": "text/x-python",
   "name": "python",
   "nbconvert_exporter": "python",
   "pygments_lexer": "ipython3",
   "version": "3.7.0"
  }
 },
 "nbformat": 4,
 "nbformat_minor": 2
}
