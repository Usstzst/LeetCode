{
 "cells": [
  {
   "cell_type": "markdown",
   "metadata": {},
   "source": [
    "# 题目原意"
   ]
  },
  {
   "cell_type": "raw",
   "metadata": {},
   "source": [
    "如果数组是单调递增或单调递减的，那么它是单调的。\n",
    "\n",
    "如果对于所有 i <= j，A[i] <= A[j]，那么数组 A 是单调递增的。 如果对于所有 i <= j，A[i]> = A[j]，那么数组 A 是单调递减的。\n",
    "\n",
    "当给定的数组 A 是单调数组时返回 true，否则返回 false。"
   ]
  },
  {
   "cell_type": "raw",
   "metadata": {},
   "source": [
    "示例 1：\n",
    "输入：[1,2,2,3]\n",
    "输出：true\n",
    "\n",
    "示例 2：\n",
    "输入：[6,5,4,4]\n",
    "输出：true\n",
    "\n",
    "示例 3：\n",
    "输入：[1,3,2]\n",
    "输出：false\n",
    "\n",
    "示例 4：\n",
    "输入：[1,2,4,5]\n",
    "输出：true\n",
    "\n",
    "示例 5：\n",
    "输入：[1,1,1]\n",
    "输出：true"
   ]
  },
  {
   "cell_type": "markdown",
   "metadata": {},
   "source": [
    "## 思路一"
   ]
  },
  {
   "cell_type": "code",
   "execution_count": 2,
   "metadata": {},
   "outputs": [],
   "source": [
    "class Solution(object):\n",
    "    def isMonotonic(self, A):\n",
    "        \"\"\"\n",
    "        :type A: List[int]\n",
    "        :rtype: bool\n",
    "        \"\"\"\n",
    "        return self.isIncrease(A) or self.isDecrease(A)\n",
    "        \n",
    "    def isIncrease(self, A):\n",
    "        return all(A[i] - A[i+1] >= 0 for i in range(len(A) - 1))\n",
    "        \n",
    "    def isDecrease(self, A):\n",
    "        return all(A[i] - A[i+1] <= 0 for i in range(len(A) - 1))"
   ]
  },
  {
   "cell_type": "markdown",
   "metadata": {},
   "source": [
    "## 思路二"
   ]
  },
  {
   "cell_type": "code",
   "execution_count": 3,
   "metadata": {},
   "outputs": [],
   "source": [
    "class Solution:\n",
    "    def isMonotonic(self, A):    \n",
    "        inc = True\n",
    "        dec = True\n",
    "\n",
    "        for i in range(1, len(A)):\n",
    "            inc = inc and A[i] >= A[i - 1]\n",
    "            dec = dec and A[i] <= A[i - 1]    \n",
    "    \n",
    "        return inc or dec"
   ]
  }
 ],
 "metadata": {
  "kernelspec": {
   "display_name": "Python 3",
   "language": "python",
   "name": "python3"
  },
  "language_info": {
   "codemirror_mode": {
    "name": "ipython",
    "version": 3
   },
   "file_extension": ".py",
   "mimetype": "text/x-python",
   "name": "python",
   "nbconvert_exporter": "python",
   "pygments_lexer": "ipython3",
   "version": "3.6.5"
  }
 },
 "nbformat": 4,
 "nbformat_minor": 2
}
