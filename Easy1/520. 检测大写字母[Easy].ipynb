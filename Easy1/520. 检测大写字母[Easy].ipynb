{
 "cells": [
  {
   "cell_type": "markdown",
   "metadata": {},
   "source": [
    "# 题目原意"
   ]
  },
  {
   "cell_type": "raw",
   "metadata": {},
   "source": [
    "给定一个单词，你需要判断单词的大写使用是否正确。\n",
    "\n",
    "我们定义，在以下情况时，单词的大写用法是正确的：\n",
    "\n",
    "1、全部字母都是大写，比如\"USA\"。\n",
    "2、单词中所有字母都不是大写，比如\"leetcode\"。\n",
    "3、如果单词不只含有一个字母，只有首字母大写， 比如 \"Google\"。\n",
    "否则，我们定义这个单词没有正确使用大写字母。"
   ]
  },
  {
   "cell_type": "raw",
   "metadata": {},
   "source": [
    "Example 1:\n",
    "输入: \"USA\"\n",
    "输出: True\n",
    "\n",
    "Example 2:\n",
    "输入: \"FlaG\"\n",
    "输出: False"
   ]
  },
  {
   "cell_type": "markdown",
   "metadata": {},
   "source": [
    "## 思路一"
   ]
  },
  {
   "cell_type": "code",
   "execution_count": 1,
   "metadata": {},
   "outputs": [],
   "source": [
    "class Solution(object):\n",
    "    def detectCapitalUse(self, word):\n",
    "        \"\"\"\n",
    "        :type word: str\n",
    "        :rtype: bool\n",
    "        \"\"\"\n",
    "        if word.isupper():\n",
    "            return True\n",
    "        elif word.islower():\n",
    "            return True\n",
    "        elif 65 <= ord(word[0]) <=90:\n",
    "            if word[1:].islower():\n",
    "                return True\n",
    "        return False\n",
    "    \n"
   ]
  },
  {
   "cell_type": "markdown",
   "metadata": {},
   "source": [
    "## 思路二"
   ]
  },
  {
   "cell_type": "code",
   "execution_count": 2,
   "metadata": {},
   "outputs": [],
   "source": [
    " class Solution(object):\n",
    "    def detectCapitalUse(self, word):\n",
    "        \"\"\"\n",
    "        :type word: str\n",
    "        :rtype: bool\n",
    "        \"\"\"\n",
    "    \n",
    "        return  word.isupper() or word.istitle() or word.islower()\n",
    "    "
   ]
  }
 ],
 "metadata": {
  "kernelspec": {
   "display_name": "Python 3",
   "language": "python",
   "name": "python3"
  },
  "language_info": {
   "codemirror_mode": {
    "name": "ipython",
    "version": 3
   },
   "file_extension": ".py",
   "mimetype": "text/x-python",
   "name": "python",
   "nbconvert_exporter": "python",
   "pygments_lexer": "ipython3",
   "version": "3.7.0"
  }
 },
 "nbformat": 4,
 "nbformat_minor": 2
}
