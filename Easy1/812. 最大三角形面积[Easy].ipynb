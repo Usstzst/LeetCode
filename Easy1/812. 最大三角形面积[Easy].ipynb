{
 "cells": [
  {
   "cell_type": "markdown",
   "metadata": {},
   "source": [
    "# 题目原意"
   ]
  },
  {
   "cell_type": "raw",
   "metadata": {},
   "source": [
    "给定包含多个点的集合，从其中取三个点组成三角形，返回能组成的最大三角形的面积。"
   ]
  },
  {
   "cell_type": "raw",
   "metadata": {},
   "source": [
    "Example 1:\n",
    "示例:\n",
    "输入: points = [[0,0],[0,1],[1,0],[0,2],[2,0]]\n",
    "输出: 2\n",
    "解释: \n",
    "这五个点如下图所示。组成的橙色三角形是最大的，面积为2。"
   ]
  },
  {
   "cell_type": "markdown",
   "metadata": {},
   "source": [
    "## 思路一 "
   ]
  },
  {
   "cell_type": "raw",
   "metadata": {},
   "source": [
    "根据坐标求三角形面积是有公式的。另外要注意的是我们再求的时候要加上绝对值符号。\n",
    "0.5 * abs[x1 * (y2 - y3) + x2 * (y3 - y1) + x3 * (y1 - y2)]"
   ]
  },
  {
   "cell_type": "code",
   "execution_count": 1,
   "metadata": {},
   "outputs": [],
   "source": [
    "class Solution:\n",
    "    def largestTriangleArea(self, points):\n",
    "        \"\"\"\n",
    "        :type points: List[List[int]]\n",
    "        :rtype: float\n",
    "        \"\"\"\n",
    "        res = 0\n",
    "        N = len(points)\n",
    "        for i in range(N - 2):\n",
    "            for j in range(i + 1, N - 1):\n",
    "                for k in range(i + 2, N):\n",
    "                    (x1, y1), (x2, y2), (x3, y3) = points[i], points[j], points[k]\n",
    "                    res = max(res, 0.5 * abs(x1 * (y2 - y3) + x2 * (y3 - y1) + x3 * (y1 - y2)))\n",
    "        return res\n"
   ]
  },
  {
   "cell_type": "markdown",
   "metadata": {},
   "source": [
    "## 思路二：组合函数"
   ]
  },
  {
   "cell_type": "code",
   "execution_count": 2,
   "metadata": {},
   "outputs": [],
   "source": [
    "class Solution:\n",
    "    def largestTriangleArea(self, points):\n",
    "        \"\"\"\n",
    "        :type points: List[List[int]]\n",
    "        :rtype: float\n",
    "        \"\"\"\n",
    "        # S=(1/2)*(x1y2+x2y3+x3y1-x1y3-x2y1-x3y2)\n",
    "        def f(p1, p2, p3):\n",
    "            (x1, y1), (x2, y2), (x3, y3) = p1, p2, p3\n",
    "            return 0.5 * abs(x1 * (y2 - y3) + x2 * (y3 - y1) + x3 * (y1 - y2))\n",
    "        \n",
    "        return max(f(a, b, c) for a, b, c in itertools.combinations(points, 3))\n"
   ]
  }
 ],
 "metadata": {
  "kernelspec": {
   "display_name": "Python 3",
   "language": "python",
   "name": "python3"
  },
  "language_info": {
   "codemirror_mode": {
    "name": "ipython",
    "version": 3
   },
   "file_extension": ".py",
   "mimetype": "text/x-python",
   "name": "python",
   "nbconvert_exporter": "python",
   "pygments_lexer": "ipython3",
   "version": "3.7.0"
  }
 },
 "nbformat": 4,
 "nbformat_minor": 2
}
