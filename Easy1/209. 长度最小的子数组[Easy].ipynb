{
 "cells": [
  {
   "cell_type": "markdown",
   "metadata": {},
   "source": [
    "# 题目原意"
   ]
  },
  {
   "cell_type": "raw",
   "metadata": {},
   "source": [
    "给定一个含有 n 个正整数的数组和一个正整数 s ，找出该数组中满足其和 ≥ s 的长度最小的连续子数组。如果不存在符合条件的连续子数组，返回 0。"
   ]
  },
  {
   "cell_type": "raw",
   "metadata": {},
   "source": [
    "Example 1:\n",
    "输入: s = 7, nums = [2,3,1,2,4,3]\n",
    "输出: 2\n",
    "解释: 子数组 [4,3] 是该条件下的长度最小的连续子数组。"
   ]
  },
  {
   "cell_type": "markdown",
   "metadata": {},
   "source": [
    "## 思路一"
   ]
  },
  {
   "cell_type": "raw",
   "metadata": {},
   "source": [
    "解法称之为虫取法，其实就是双指针。其实看到让连续子数组满足一定条件的很多都用了双指针。\n",
    "\n",
    "因为这个题需要求最小值，所以结果初始化为inf，每次移动一下右指针，当和满足条件的时候，更新结果，并移动左指针，同时记得把和删去左边的数字。\n",
    "\n",
    "时间复杂度是O(N)，空间复杂度是O(1)。\n"
   ]
  },
  {
   "cell_type": "code",
   "execution_count": null,
   "metadata": {},
   "outputs": [],
   "source": [
    "class Solution:\n",
    "    def minSubArrayLen(self, s, nums):\n",
    "        \"\"\"\n",
    "        :type s: int\n",
    "        :type nums: List[int]\n",
    "        :rtype: int\n",
    "        \"\"\"\n",
    "        N = len(nums)\n",
    "        l, r = 0, 0\n",
    "        csum = 0\n",
    "        res = float('inf')\n",
    "        while r < N:\n",
    "            csum += nums[r]\n",
    "            while csum >= s:\n",
    "                res = min(res, r-l+1)\n",
    "                csum -= nums[l]\n",
    "                l += 1\n",
    "            r += 1\n",
    "        return res if res!=float('inf') else 0\n"
   ]
  }
 ],
 "metadata": {
  "kernelspec": {
   "display_name": "Python 3",
   "language": "python",
   "name": "python3"
  },
  "language_info": {
   "codemirror_mode": {
    "name": "ipython",
    "version": 3
   },
   "file_extension": ".py",
   "mimetype": "text/x-python",
   "name": "python",
   "nbconvert_exporter": "python",
   "pygments_lexer": "ipython3",
   "version": "3.6.5"
  }
 },
 "nbformat": 4,
 "nbformat_minor": 2
}
