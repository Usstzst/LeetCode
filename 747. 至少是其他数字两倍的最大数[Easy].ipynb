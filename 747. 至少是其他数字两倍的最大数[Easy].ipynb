{
 "cells": [
  {
   "cell_type": "markdown",
   "metadata": {},
   "source": [
    "# 题目原意"
   ]
  },
  {
   "cell_type": "raw",
   "metadata": {},
   "source": [
    "在一个给定的数组nums中，总是存在一个最大元素 。\n",
    "\n",
    "查找数组中的最大元素是否至少是数组中每个其他数字的两倍。\n",
    "\n",
    "如果是，则返回最大元素的索引，否则返回-1。\n",
    "\n"
   ]
  },
  {
   "cell_type": "raw",
   "metadata": {},
   "source": [
    "示例 1:\n",
    "输入: nums = [3, 6, 1, 0]\n",
    "输出: 1\n",
    "解释: 6是最大的整数, 对于数组中的其他整数,\n",
    "6大于数组中其他元素的两倍。6的索引是1, 所以我们返回1.\n",
    " \n",
    "\n",
    "示例 2:\n",
    "输入: nums = [1, 2, 3, 4]\n",
    "输出: -1\n",
    "解释: 4没有超过3的两倍大, 所以我们返回 -1."
   ]
  },
  {
   "cell_type": "markdown",
   "metadata": {},
   "source": [
    "## 思路一"
   ]
  },
  {
   "cell_type": "raw",
   "metadata": {},
   "source": [
    "排序：\n",
    "注意：这里要先获取nums最大值的索引， 后进行排序。因为list.sort()用于对原列表进行排序。"
   ]
  },
  {
   "cell_type": "code",
   "execution_count": 1,
   "metadata": {},
   "outputs": [],
   "source": [
    "class Solution(object):\n",
    "    def dominantIndex(self, nums):\n",
    "        \"\"\"\n",
    "        :type nums: List[int]\n",
    "        :rtype: int\n",
    "        \"\"\"\n",
    "        if len(nums) == 1:\n",
    "            return 0\n",
    "        largest = max(nums)\n",
    "        ind = nums.index(largest)\n",
    "        nums.sort()\n",
    "        if largest >= 2*nums[-2]:\n",
    "            return ind\n",
    "        else:\n",
    "            return -1\n",
    "        \n"
   ]
  }
 ],
 "metadata": {
  "kernelspec": {
   "display_name": "Python 3",
   "language": "python",
   "name": "python3"
  },
  "language_info": {
   "codemirror_mode": {
    "name": "ipython",
    "version": 3
   },
   "file_extension": ".py",
   "mimetype": "text/x-python",
   "name": "python",
   "nbconvert_exporter": "python",
   "pygments_lexer": "ipython3",
   "version": "3.6.5"
  }
 },
 "nbformat": 4,
 "nbformat_minor": 2
}
