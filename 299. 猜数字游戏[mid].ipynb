{
 "cells": [
  {
   "cell_type": "markdown",
   "metadata": {},
   "source": [
    "# 题目原意"
   ]
  },
  {
   "cell_type": "raw",
   "metadata": {},
   "source": [
    "你正在和你的朋友玩 猜数字（Bulls and Cows）游戏：你写下一个数字让你的朋友猜。每次他猜测后，你给他一个提示，告诉他有多少位数字和确切位置都猜对了（称为“Bulls”, 公牛），有多少位数字猜对了但是位置不对（称为“Cows”, 奶牛）。你的朋友将会根据提示继续猜，直到猜出秘密数字。\n",
    "\n",
    "请写出一个根据秘密数字和朋友的猜测数返回提示的函数，用 A 表示公牛，用 B 表示奶牛。\n",
    "\n",
    "请注意秘密数字和朋友的猜测数都可能含有重复数字。\n",
    "\n"
   ]
  },
  {
   "cell_type": "raw",
   "metadata": {},
   "source": [
    "示例 1:\n",
    "输入: secret = \"1807\", guess = \"7810\"\n",
    "输出: \"1A3B\"\n",
    "\n",
    "解释: 1 公牛和 3 奶牛。公牛是 8，奶牛是 0, 1 和 7。\n",
    "\n",
    "\n",
    "示例 2:\n",
    "输入: secret = \"1123\", guess = \"0111\"\n",
    "输出: \"1A1B\"\n",
    "\n",
    "解释: 朋友猜测数中的第一个 1 是公牛，第二个或第三个 1 可被视为奶牛。"
   ]
  },
  {
   "cell_type": "markdown",
   "metadata": {},
   "source": [
    "## 思路一"
   ]
  },
  {
   "cell_type": "raw",
   "metadata": {},
   "source": [
    "zip(secret, guess) 直接判断相同位置上的元素是否相等， 求出bulls的值。\n",
    "同一位置上元素取值不相同，则用secret_dict来统计该元素出现的次数\n",
    "当 secret[i]!= guess[i] 并且 secret_dict[g]不为空时， 统计cows 的个数\n",
    "输出结果。"
   ]
  },
  {
   "cell_type": "code",
   "execution_count": 1,
   "metadata": {},
   "outputs": [],
   "source": [
    "class Solution(object):\n",
    "    def getHint(self, secret, guess):\n",
    "        \"\"\"\n",
    "        :type secret: str\n",
    "        :type guess: str\n",
    "        :rtype: str\n",
    "        \"\"\"\n",
    "        bulls, cows = 0, 0\n",
    "        secret_dict = collections.defaultdict(int)\n",
    "        for s, g in zip(secret, guess):\n",
    "            if s==g:\n",
    "                bulls += 1\n",
    "            else:\n",
    "                secret_dict[s] +=1\n",
    "        for i, g in enumerate(guess):\n",
    "            if secret[i] != guess[i] and secret_dict[g]:\n",
    "                cows += 1\n",
    "                secret_dict[g] -= 1\n",
    "        return str(bulls)+\"A\"+str(cows)+\"B\"\n",
    "\n"
   ]
  }
 ],
 "metadata": {
  "kernelspec": {
   "display_name": "Python 3",
   "language": "python",
   "name": "python3"
  },
  "language_info": {
   "codemirror_mode": {
    "name": "ipython",
    "version": 3
   },
   "file_extension": ".py",
   "mimetype": "text/x-python",
   "name": "python",
   "nbconvert_exporter": "python",
   "pygments_lexer": "ipython3",
   "version": "3.6.5"
  }
 },
 "nbformat": 4,
 "nbformat_minor": 2
}
