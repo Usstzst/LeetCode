{
 "cells": [
  {
   "cell_type": "markdown",
   "metadata": {},
   "source": [
    "# 1、大整数乘法\n"
   ]
  },
  {
   "cell_type": "code",
   "execution_count": 18,
   "metadata": {},
   "outputs": [],
   "source": [
    "def list2str(li):\n",
    "    while li[0]==0:\n",
    "        del li[0]\n",
    "    res = ''\n",
    "    for i in li:\n",
    "        res += str(i)\n",
    "    return res\n",
    "\n",
    "\n",
    "def multi(a, b):\n",
    "    aa = list(a)\n",
    "    bb = list(b)\n",
    "\n",
    "    la = len(aa)\n",
    "    lb = len(bb)\n",
    "    result = [0 for i in range(la+lb)]\n",
    "    for i in range(la):\n",
    "        for j in range(lb):\n",
    "            result[la-1-i+lb-1-j] += int(aa[i])*int(bb[j])\n",
    "    for i in range(len(result)-1):\n",
    "        if result[i]>=10:\n",
    "            result[i+1] += result[i]//10\n",
    "            result[i] = result[i]%10\n",
    "    return list2str(result[::-1])\n",
    "\n",
    "# if __name__=='__main__':\n",
    "#     a = input()\n",
    "#     b = input()\n",
    "#     res = multi(a, b)\n",
    "#     print('muliti:', res)\n",
    "#     print('ok ',int(a)*int(b) )\n"
   ]
  },
  {
   "cell_type": "markdown",
   "metadata": {},
   "source": [
    "# 2、Strassen矩阵乘法\n"
   ]
  },
  {
   "cell_type": "markdown",
   "metadata": {},
   "source": [
    "# 3、快排、归并排序"
   ]
  },
  {
   "cell_type": "markdown",
   "metadata": {},
   "source": [
    "# 4、棋盘覆盖"
   ]
  }
 ],
 "metadata": {
  "kernelspec": {
   "display_name": "Python 3",
   "language": "python",
   "name": "python3"
  },
  "language_info": {
   "codemirror_mode": {
    "name": "ipython",
    "version": 3
   },
   "file_extension": ".py",
   "mimetype": "text/x-python",
   "name": "python",
   "nbconvert_exporter": "python",
   "pygments_lexer": "ipython3",
   "version": "3.7.3"
  }
 },
 "nbformat": 4,
 "nbformat_minor": 2
}
