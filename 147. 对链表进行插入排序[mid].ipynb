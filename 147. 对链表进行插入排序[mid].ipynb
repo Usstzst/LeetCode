{
 "cells": [
  {
   "cell_type": "markdown",
   "metadata": {},
   "source": [
    "# 题目原意"
   ]
  },
  {
   "cell_type": "raw",
   "metadata": {},
   "source": [
    "对链表进行插入排序。\n",
    "\n",
    "插入排序算法：\n",
    "\n",
    "插入排序是迭代的，每次只移动一个元素，直到所有元素可以形成一个有序的输出列表。\n",
    "每次迭代中，插入排序只从输入数据中移除一个待排序的元素，找到它在序列中适当的位置，并将其插入。\n",
    "重复直到所有输入数据插入完为止。"
   ]
  },
  {
   "cell_type": "raw",
   "metadata": {},
   "source": [
    "示例 1：\n",
    "输入: 4->2->1->3\n",
    "输出: 1->2->3->4\n",
    "\n",
    "示例 2：\n",
    "输入: -1->5->3->4->0\n",
    "输出: -1->0->3->4->5"
   ]
  },
  {
   "cell_type": "markdown",
   "metadata": {},
   "source": [
    "## 思路一"
   ]
  },
  {
   "cell_type": "raw",
   "metadata": {},
   "source": [
    "捷径：遍历一次链表，将所有节点的值拿出来进行排序，然后再根据排序后的结果生成一个新链表。"
   ]
  },
  {
   "cell_type": "code",
   "execution_count": 1,
   "metadata": {},
   "outputs": [],
   "source": [
    "# Definition for singly-linked list.\n",
    "# class ListNode(object):\n",
    "#     def __init__(self, x):\n",
    "#         self.val = x\n",
    "#         self.next = None\n",
    "\n",
    "    \n",
    "class Solution(object):\n",
    "    def insertionSortList(self, head):\n",
    "        \"\"\"\n",
    "        :type head: ListNode\n",
    "        :rtype: ListNode\n",
    "        \"\"\"\n",
    "    \n",
    "        h = head\n",
    "        res = []\n",
    "        while h:\n",
    "            res.append(h.val)\n",
    "            h = h.next\n",
    "        res.sort()\n",
    "        h = head\n",
    "        for i in res:\n",
    "            h.val = i\n",
    "            h = h.next\n",
    "        return head"
   ]
  },
  {
   "cell_type": "markdown",
   "metadata": {},
   "source": [
    "## 思路二"
   ]
  },
  {
   "cell_type": "raw",
   "metadata": {},
   "source": [
    "设置一个新的链表。遍历旧链表，每一个节点都作为一个新节点，按序插入新链表中。"
   ]
  },
  {
   "cell_type": "code",
   "execution_count": 2,
   "metadata": {},
   "outputs": [],
   "source": [
    "# Definition for singly-linked list.\n",
    "# class ListNode(object):\n",
    "#     def __init__(self, x):\n",
    "#         self.val = x\n",
    "#         self.next = None\n",
    "\n",
    "class Solution(object):\n",
    "    def insertionSortList(self, head):\n",
    "        \"\"\"\n",
    "        :type head: ListNode\n",
    "        :rtype: ListNode\n",
    "        \"\"\"\n",
    "        if not head or not head.next: return head\n",
    "        root = TreeNode(0)\n",
    "        root.next = head\n",
    "        while head.next:\n",
    "            if head.val <= head.next.val:\n",
    "                head = head.next\n",
    "            else:\n",
    "                temp = head.next\n",
    "                q = root\n",
    "                head.next = head.next.next\n",
    "                while q.next and q.next.val < temp.val:\n",
    "                    q = q.next\n",
    "                temp.next = q.next\n",
    "                q.next = temp\n",
    "        return root.next"
   ]
  }
 ],
 "metadata": {
  "kernelspec": {
   "display_name": "Python 3",
   "language": "python",
   "name": "python3"
  },
  "language_info": {
   "codemirror_mode": {
    "name": "ipython",
    "version": 3
   },
   "file_extension": ".py",
   "mimetype": "text/x-python",
   "name": "python",
   "nbconvert_exporter": "python",
   "pygments_lexer": "ipython3",
   "version": "3.7.0"
  }
 },
 "nbformat": 4,
 "nbformat_minor": 2
}
