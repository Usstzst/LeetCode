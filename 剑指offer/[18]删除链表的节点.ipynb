{
 "cells": [
  {
   "cell_type": "markdown",
   "metadata": {},
   "source": [
    "# 题目原意\n",
    "\n",
    "在O(1)时间内删除链表节点\n",
    "\n",
    "\n",
    "思路：\n",
    "\n",
    "前提：要删除的节点在链表中\n",
    "\n",
    "1、只有一个节点\n",
    "\n",
    "2、该节点在链表尾部\n",
    "\n",
    "3、该节点在链表内部\n",
    "\n"
   ]
  },
  {
   "cell_type": "code",
   "execution_count": 1,
   "metadata": {},
   "outputs": [],
   "source": [
    "def del_link(head,node):\n",
    "    \n",
    "    if head==node:\n",
    "        del node\n",
    "        \n",
    "    if node.next==None:\n",
    "        while head:\n",
    "            if head.next==node:\n",
    "                head.next=None\n",
    "                \n",
    "            head=head.next        \n",
    "    else:\n",
    "        node.val=node.next.val\n",
    "        n_node=node.next\n",
    "        node.next=n_node.next\n",
    "        del n_node"
   ]
  }
 ],
 "metadata": {
  "kernelspec": {
   "display_name": "Python 3",
   "language": "python",
   "name": "python3"
  },
  "language_info": {
   "codemirror_mode": {
    "name": "ipython",
    "version": 3
   },
   "file_extension": ".py",
   "mimetype": "text/x-python",
   "name": "python",
   "nbconvert_exporter": "python",
   "pygments_lexer": "ipython3",
   "version": "3.7.3"
  }
 },
 "nbformat": 4,
 "nbformat_minor": 2
}
