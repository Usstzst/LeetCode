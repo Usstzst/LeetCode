{
 "cells": [
  {
   "cell_type": "markdown",
   "metadata": {},
   "source": [
    "# 题目原意"
   ]
  },
  {
   "cell_type": "raw",
   "metadata": {},
   "source": [
    "输入数字n，按顺序打印出从1到最大的n为十进制数。比如输入3，打印出1，2，3一直到最大的3位数999."
   ]
  },
  {
   "cell_type": "markdown",
   "metadata": {},
   "source": [
    "## 思路：全排列思想\n",
    "\n",
    "观察发现n位所有的十进制数其实是n从0到9的全排列（全排列思想）"
   ]
  },
  {
   "cell_type": "code",
   "execution_count": 2,
   "metadata": {},
   "outputs": [],
   "source": [
    "def Print1toMaxofNDigits2(n):\n",
    " \n",
    "    if n<=0:\n",
    "        return\n",
    "    num=['0']*n\n",
    "    for i in range(10):\n",
    "        num[0]=str(i)\n",
    "        Recursive(num,n,0)\n",
    "        \n",
    "def Recursive(number,length,index):\n",
    " \n",
    "    length=len(number)\n",
    "    if index==length-1:#递归结束的条件：设置好数字的最后一位\n",
    "        printNumber(number)\n",
    "        return\n",
    "    for i in range(10):\n",
    "        number[index+1]=str(i)\n",
    "        Recursive(number,length,index+1)\n",
    "\n",
    "def printNumber(number):\n",
    "    isbeginning=True\n",
    "    length=len(number)\n",
    "    for i in range(length):\n",
    "        if isbeginning and number[i]!=0:\n",
    "            isbeginning=False\n",
    "        if not isbeginning:\n",
    "            print(number[i],end=\"\")#python默认换行，加上end去掉这种默认\n",
    "    print('\\t')\n"
   ]
  },
  {
   "cell_type": "markdown",
   "metadata": {},
   "source": [
    "## 思路二：暴力法"
   ]
  },
  {
   "cell_type": "code",
   "execution_count": null,
   "metadata": {},
   "outputs": [],
   "source": [
    "class Solution:\n",
    "    def Power(self, num):\n",
    "        # write code here\n",
    "        if num<= 0:\n",
    "            return 0\n",
    "        list_num =[]\n",
    "        for i in range(1,10**num):\n",
    "            list_num.append(i)\n",
    "        return list_num\n"
   ]
  }
 ],
 "metadata": {
  "kernelspec": {
   "display_name": "Python 3",
   "language": "python",
   "name": "python3"
  },
  "language_info": {
   "codemirror_mode": {
    "name": "ipython",
    "version": 3
   },
   "file_extension": ".py",
   "mimetype": "text/x-python",
   "name": "python",
   "nbconvert_exporter": "python",
   "pygments_lexer": "ipython3",
   "version": "3.7.3"
  }
 },
 "nbformat": 4,
 "nbformat_minor": 2
}
