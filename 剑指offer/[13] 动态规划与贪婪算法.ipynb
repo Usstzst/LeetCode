{
 "cells": [
  {
   "cell_type": "markdown",
   "metadata": {},
   "source": [
    "# 求问题的最优解\n",
    "\n",
    "1、动态规划\n",
    "\n",
    "在应用动态规划之前要分析能否把大问题分解成小问题，分解后的每个小问题也存在最优解。如果把小问题的最优解组合起来能够得到整个问题的最优解，那么\n",
    "\n",
    "我们可以应用动态规划来解决这个问题。\n",
    "\n",
    "三个特点：\n",
    "\n",
    "* 求一个问题的最优解\n",
    "* 整体问题的最优解依赖于各个子问题的最优解\n",
    "* 把大问题分解成小问题，这些小问题之间还有相互重叠的更小的子问题\n",
    "* 从上往下分析问题，从下往上求解问题\n",
    "\n",
    "2、贪心算法\n",
    "\n",
    "在应用贪婪算法求解一个问题时， 每一步都可以做出一个贪婪的选择， 基于这个选择，我们确定能够得到最优解。\n"
   ]
  },
  {
   "cell_type": "markdown",
   "metadata": {},
   "source": [
    "# ** 面试题14：剪绳子\n",
    "\n",
    "给你一根长度为n的绳子，请把绳子剪成m段(m,n都是整数，且n>1,m>1),每段绳子的长度记为k[0],k[1],k[2],...,k[m]。\n",
    "\n",
    "请问k[0]*k[1]*...*k[m]可能的最大乘积是多少？\n",
    "\n",
    "例如，当绳子的长度为8时，我们把它剪成长度分别为2，3，3的三段，此时得到的最大乘积为18。\n",
    "\n",
    " "
   ]
  },
  {
   "cell_type": "code",
   "execution_count": 5,
   "metadata": {},
   "outputs": [
    {
     "name": "stdout",
     "output_type": "stream",
     "text": [
      "2\n",
      "9\n",
      "18\n",
      "36\n"
     ]
    }
   ],
   "source": [
    "# -*- coding:utf-8 -*-\n",
    "class Solution:\n",
    "    def MaxProductAfterCut(self, n):\n",
    "        \n",
    "        # 动态规划\n",
    "        if n<2:\n",
    "            return 0\n",
    "        if n==2:\n",
    "            return 1\n",
    "        if n==3:\n",
    "            return 2\n",
    "        \n",
    "        products=[0]*(n+1)\n",
    "        products[0]=0\n",
    "        products[1]=1\n",
    "        products[2]=2\n",
    "        products[3]=3\n",
    "        \n",
    "        for i in range(4, n+1):\n",
    "            max = 0\n",
    "            for j in range(1, i//2+1):\n",
    "                product = products[j]*products[i-j]\n",
    "                if product > max:\n",
    "                    max = product\n",
    "            products[i] = max\n",
    "       \n",
    "        return products[n]\n",
    "\n",
    "    def MaxProductAfterCut2(self, n):\n",
    "        # 贪婪算法\n",
    "        if n < 2:\n",
    "            return 0\n",
    "        if n==2:\n",
    "            return 1\n",
    "        if n==3:\n",
    "            return 2\n",
    "        \n",
    "        timesOf3 = n//3\n",
    "        if n - timesOf3*3 == 1:\n",
    "            timesOf3 -= 1\n",
    "        \n",
    "        timesOf2 = (n - timesOf3 * 3)//2\n",
    "        return (3**timesOf3) * (2**timesOf2)\n",
    "\n",
    "\n",
    "\n",
    "if __name__==\"__main__\":\n",
    "    print(Solution().MaxProductAfterCut(3))\n",
    "    print(Solution().MaxProductAfterCut(6))\n",
    "    #print(Solution().NumberOf1(0))\n",
    "    print(Solution().MaxProductAfterCut2(8))\n",
    "    print(Solution().MaxProductAfterCut2(10))"
   ]
  },
  {
   "cell_type": "code",
   "execution_count": null,
   "metadata": {},
   "outputs": [],
   "source": []
  }
 ],
 "metadata": {
  "kernelspec": {
   "display_name": "Python 3",
   "language": "python",
   "name": "python3"
  },
  "language_info": {
   "codemirror_mode": {
    "name": "ipython",
    "version": 3
   },
   "file_extension": ".py",
   "mimetype": "text/x-python",
   "name": "python",
   "nbconvert_exporter": "python",
   "pygments_lexer": "ipython3",
   "version": "3.7.3"
  }
 },
 "nbformat": 4,
 "nbformat_minor": 2
}
