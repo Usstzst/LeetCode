{
 "cells": [
  {
   "cell_type": "markdown",
   "metadata": {},
   "source": [
    "1、查找（Searching）就是根据给定的某个值，在查找表中确定一个其关键字等于给定值的数据元素。\n",
    "\n",
    "2、查找表（Search Table）：由同一类型的数据元素构成的集合。\n",
    "\n",
    "3、关键字（Key）：数据元素中某个数据项的值，又称为键值。\n",
    "\n",
    "4、主键（Primary Key）：可唯一的标识某个数据元素或记录的关键字\n",
    "\n",
    "5、查找表按照操作方式可分为：\n",
    "\n",
    "* 静态查找表（Static Search Table）：只做查找操作的查找表。它的主要操作是：\n",
    "  ①查询某个“特定的”数据元素是否在表中\n",
    "  ②检索某个“特定的”数据元素和各种属性\n",
    "  \n",
    "* 动态查找表（Dynamic Search Table）：在查找中同时进行插入或删除等操作：\n",
    "  ①查找时插入数据\n",
    "  ②查找时删除数据\n"
   ]
  },
  {
   "cell_type": "markdown",
   "metadata": {},
   "source": [
    "# 1、顺序查找"
   ]
  },
  {
   "cell_type": "code",
   "execution_count": 4,
   "metadata": {},
   "outputs": [],
   "source": [
    "def sequential_search(list, key):\n",
    "    length = len(list)\n",
    "    for i in range(length):\n",
    "        if list[i]==key:\n",
    "            return i\n",
    "        \n",
    "    return False\n"
   ]
  },
  {
   "cell_type": "code",
   "execution_count": null,
   "metadata": {},
   "outputs": [],
   "source": []
  }
 ],
 "metadata": {
  "kernelspec": {
   "display_name": "Python 3",
   "language": "python",
   "name": "python3"
  },
  "language_info": {
   "codemirror_mode": {
    "name": "ipython",
    "version": 3
   },
   "file_extension": ".py",
   "mimetype": "text/x-python",
   "name": "python",
   "nbconvert_exporter": "python",
   "pygments_lexer": "ipython3",
   "version": "3.7.3"
  }
 },
 "nbformat": 4,
 "nbformat_minor": 2
}
