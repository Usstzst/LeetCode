{
 "cells": [
  {
   "cell_type": "markdown",
   "metadata": {},
   "source": [
    "# 题目汇总\n",
    "\n",
    "[9]用两个栈实现队列、队列和栈的相互转换\n",
    "\n",
    "2、包含min函数的栈\n",
    "\n",
    "3、栈的压入弹出序列\n",
    "\n",
    "4、滑动窗口最大值\n",
    "\n",
    "5、接雨水\n"
   ]
  },
  {
   "cell_type": "markdown",
   "metadata": {},
   "source": [
    "# [9]用两个栈实现队列"
   ]
  },
  {
   "cell_type": "code",
   "execution_count": 1,
   "metadata": {},
   "outputs": [],
   "source": [
    "class MyQueue(object):\n",
    "\n",
    "    def __init__(self):\n",
    "        \"\"\"\n",
    "        Initialize your data structure here.\n",
    "        \"\"\"\n",
    "        self.queue = []\n",
    "        \n",
    "\n",
    "    def push(self, x):\n",
    "        \"\"\"\n",
    "        Push element x to the back of queue.\n",
    "        :type x: int\n",
    "        :rtype: void\n",
    "        \"\"\"\n",
    "        self.queue.append(x)\n",
    "        \n",
    "\n",
    "    def pop(self):\n",
    "        \"\"\"\n",
    "        Removes the element from in front of queue and returns that element.\n",
    "        :rtype: int\n",
    "        \"\"\"\n",
    "        if self.queue:\n",
    "            return self.queue.pop(0)\n",
    "\n",
    "        \n",
    "\n",
    "    def peek(self):\n",
    "        \"\"\"\n",
    "        Get the front element.\n",
    "        :rtype: int\n",
    "        \"\"\"\n",
    "        if self.queue:\n",
    "            return self.queue[0]\n",
    "\n",
    "\n",
    "    def empty(self):\n",
    "        \"\"\"\n",
    "        Returns whether the queue is empty.\n",
    "        :rtype: bool\n",
    "        \"\"\"\n",
    "        return len(self.queue) == 0\n",
    "\n",
    "\n",
    "# Your MyQueue object will be instantiated and called as such:\n",
    "# obj = MyQueue()\n",
    "# obj.push(x)\n",
    "# param_2 = obj.pop()\n",
    "# param_3 = obj.peek()\n",
    "# param_4 = obj.empty()\n"
   ]
  },
  {
   "cell_type": "markdown",
   "metadata": {},
   "source": [
    "# 2.包含min函数的栈"
   ]
  },
  {
   "cell_type": "code",
   "execution_count": 2,
   "metadata": {},
   "outputs": [],
   "source": [
    "# -*- coding:utf-8 -*-\n",
    "class Solution:\n",
    "    def __init__(self):\n",
    "        self.stack = []\n",
    "        \n",
    "        \n",
    "    def push(self, node):\n",
    "        # write code here\n",
    "        self.stack.append(node)\n",
    "        \n",
    "    def pop(self):\n",
    "        # write code here\n",
    "        if self.stack:\n",
    "            return self.stack.pop(-1)\n",
    "    def top(self):\n",
    "        # write code here\n",
    "        if self.stack:\n",
    "            return self.stack[-1]\n",
    "        else:\n",
    "            return None\n",
    "    def min(self):\n",
    "        # write code here\n",
    "        return min(self.stack)\n",
    "        "
   ]
  },
  {
   "cell_type": "code",
   "execution_count": 3,
   "metadata": {},
   "outputs": [],
   "source": [
    "# -*- coding:utf-8 -*-\n",
    "class Solution:\n",
    "    def __init__(self):\n",
    "        self.stack = []\n",
    "        self.minstack = []\n",
    "        self.minm = float('inf')\n",
    "    def push(self, node):\n",
    "        # write code here\n",
    "        if node < self.minm:\n",
    "            self.minm = node\n",
    "            self.minstack.append(self.minm)\n",
    "        self.stack.append(node)\n",
    "    def pop(self):\n",
    "        # write code here\n",
    "        if self.stack != []:\n",
    "            if self.stack[-1] == self.minm:\n",
    "                self.minstack.pop()\n",
    "            self.stack.pop(-1)\n",
    "    def top(self):\n",
    "        # write code here\n",
    "        if self.stack != []:\n",
    "            return self.stack[-1]\n",
    "        else:\n",
    "            return None\n",
    "    def min(self):\n",
    "        # write code here\n",
    "        return self.minstack[-1]\n"
   ]
  },
  {
   "cell_type": "markdown",
   "metadata": {},
   "source": [
    "# 3.栈的压入弹出序列\n",
    "\n",
    "输入两个整数序列，第一个序列表示栈的压入顺序，请判断第二个序列是否可能为该栈的弹出顺序。\n",
    "\n",
    "假设压入栈的所有数字均不相等。例如序列1,2,3,4,5是某栈的压入顺序，序列4,5,3,2,1是该压栈序列对应的一个弹出序列，但4,3,5,1,2就不可能是该压\n",
    "\n",
    "栈序列的弹出序列。（注意：这两个序列的长度是相等的）\n"
   ]
  },
  {
   "cell_type": "code",
   "execution_count": 4,
   "metadata": {},
   "outputs": [],
   "source": [
    "def IsPopOrder(pushV, popV):\n",
    "    stack = []\n",
    "    while popV:\n",
    "        if pushV and pushV[0]==popV[0]:\n",
    "            pushV.pop(0)\n",
    "            popV.pop(0)\n",
    "        elif stack and stack[-1]==popV[0]:\n",
    "            stack.pop()\n",
    "            popV.pop(0)\n",
    "        elif pushV:\n",
    "            stack.append(pushV.pop(0))\n",
    "        else:\n",
    "            return False\n",
    "    return True"
   ]
  },
  {
   "cell_type": "code",
   "execution_count": null,
   "metadata": {},
   "outputs": [],
   "source": []
  }
 ],
 "metadata": {
  "kernelspec": {
   "display_name": "Python 3",
   "language": "python",
   "name": "python3"
  },
  "language_info": {
   "codemirror_mode": {
    "name": "ipython",
    "version": 3
   },
   "file_extension": ".py",
   "mimetype": "text/x-python",
   "name": "python",
   "nbconvert_exporter": "python",
   "pygments_lexer": "ipython3",
   "version": "3.7.3"
  }
 },
 "nbformat": 4,
 "nbformat_minor": 2
}
