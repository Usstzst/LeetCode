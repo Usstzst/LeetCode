{
 "cells": [
  {
   "cell_type": "markdown",
   "metadata": {},
   "source": [
    "# 题目汇总\n",
    "\n",
    "1、两数之和\n",
    "\n",
    "2、三叔之和\n",
    "\n",
    "3、三数之和\n",
    "\n",
    "4、构建成绩数组\n",
    "\n",
    "5、顺时针打印矩阵\n",
    "\n",
    "7、连续子数组的最大和\n",
    "\n",
    "8、扑克牌顺序\n",
    "\n",
    "9、第一个只出现一次的字符\n",
    "\n",
    "\n",
    "[3] 数组中重复的数字\n",
    "\n",
    "[4] 二维数组中的查找\n",
    "\n",
    "[21] 调整数组顺序使奇数位于偶数前面\n",
    "\n",
    "[39] 数组中出现次数超过一半的数字"
   ]
  },
  {
   "cell_type": "markdown",
   "metadata": {},
   "source": [
    "# [3]数组中重复的数字\n",
    "\n",
    "1、题目描述：找出数组中重复的数字。数组长度为 n, 要求算法复杂度 O(nlogn)。\n",
    "\n",
    "2、拓展：不修改数组，找出重复数字。可以使用二分查找的方法。"
   ]
  },
  {
   "cell_type": "code",
   "execution_count": 1,
   "metadata": {},
   "outputs": [],
   "source": [
    "def distinct(listA):\n",
    "    res = []\n",
    "    A = collections.Counter(listA)\n",
    "    for key, value in A.items():\n",
    "        if value > 1:\n",
    "            res.append(key)\n",
    "    return res\n",
    "        "
   ]
  },
  {
   "cell_type": "code",
   "execution_count": 2,
   "metadata": {},
   "outputs": [],
   "source": [
    "def distinct(l):\n",
    "    res = []\n",
    "    for i in l:\n",
    "        if l.count(i)>1:\n",
    "            res.append(i)\n",
    "    return list(set(res))"
   ]
  },
  {
   "cell_type": "markdown",
   "metadata": {},
   "source": [
    "# [4] 二维数组中的查找\n",
    "\n",
    "1、题目描述：输入一个二维数组和一个整数，判断数组中是否含有该整数。且二维数组每行每列都递增排序。"
   ]
  },
  {
   "cell_type": "code",
   "execution_count": 3,
   "metadata": {},
   "outputs": [],
   "source": [
    "def double_dimensional_array(array, num):\n",
    "    row, col = 0, len(array[0])-1\n",
    "    while (row<len(array)) and (col>=0):\n",
    "        if num >array[row][col]:\n",
    "            row += 1\n",
    "        elif num <array[row][col]:\n",
    "            col -= 1\n",
    "        else:\n",
    "            return True\n",
    "    return False\n",
    "\n",
    "\n",
    "if __name__ == '__main__':\n",
    "    da=[[1,2,8,9],[2,4,9,12],[4,7,10,13],[6,8,11,15]]\n",
    "    double_dimensional_array(da, 7)"
   ]
  },
  {
   "cell_type": "markdown",
   "metadata": {},
   "source": [
    "# [21] 调整数组顺序使奇数位于偶数前面\n",
    "\n",
    "思路：双指针"
   ]
  },
  {
   "cell_type": "code",
   "execution_count": 15,
   "metadata": {},
   "outputs": [],
   "source": [
    "def change(listA):\n",
    "    left, right = 0, len(listA)-1\n",
    "    while left<right:\n",
    "        if listA[left]%2==0:\n",
    "            if listA[right]%2!=0:\n",
    "                listA[left], listA[right] = listA[right], listA[left]\n",
    "                left += 1\n",
    "                right -= 1\n",
    "            else:\n",
    "                right -= 1              \n",
    "        else:\n",
    "            left += 1\n",
    "    return listA"
   ]
  }
 ],
 "metadata": {
  "kernelspec": {
   "display_name": "Python 3",
   "language": "python",
   "name": "python3"
  },
  "language_info": {
   "codemirror_mode": {
    "name": "ipython",
    "version": 3
   },
   "file_extension": ".py",
   "mimetype": "text/x-python",
   "name": "python",
   "nbconvert_exporter": "python",
   "pygments_lexer": "ipython3",
   "version": "3.7.3"
  }
 },
 "nbformat": 4,
 "nbformat_minor": 2
}
