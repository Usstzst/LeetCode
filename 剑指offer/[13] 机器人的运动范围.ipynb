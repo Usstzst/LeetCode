{
 "cells": [
  {
   "cell_type": "markdown",
   "metadata": {},
   "source": [
    "# ** 面试题13：机器人的运动范围\n",
    "\n",
    "地上有一个m行和n列的方格。一个机器人从坐标0,0的格子开始移动，每一次只能向左，右，上，下四个方向移动一格，但是不能进入行坐标和列坐标的数位之\n",
    "\n",
    "和大于k的格子。 例如，当k为18时，机器人能够进入方格（35,37），因为3+5+3+7 = 18。但是，它不能进入方格（35,38），因为3+5+3+8 = 19。请问\n",
    "\n",
    "该机器人能够达到多少个格子？\n",
    "\n",
    "思路：DFS"
   ]
  },
  {
   "cell_type": "code",
   "execution_count": 2,
   "metadata": {},
   "outputs": [],
   "source": [
    "def getN(i, j):\n",
    "    res = 0\n",
    "    while i:\n",
    "        res += (i % 10)\n",
    "        i //= 10\n",
    "    while j:\n",
    "        res += (j % 10)\n",
    "        j //= 10\n",
    "    return res\n",
    "\n",
    "def DFS(array, i, j, threshold, visited):\n",
    "    if i<0 or j<0 or i>len(array)-1 or j>len(array[0])-1 or array[i][j]>threshold or visited[i][j]:\n",
    "        return 0\n",
    "    res = 1\n",
    "    visited[i][j] = 1\n",
    "    res += DFS(array, i+1, j, threshold, visited)\n",
    "    res += DFS(array, i-1, j, threshold, visited)\n",
    "    res += DFS(array, i, j+1, threshold, visited)\n",
    "    res += DFS(array, i, j-1, threshold, visited)\n",
    "    return res\n",
    "\n",
    "\n",
    "def movingCount(threshold, rows, cols):\n",
    "    # write code here\n",
    "    array = []\n",
    "    for i in range(rows):\n",
    "        res = []\n",
    "        for j in range(cols):\n",
    "            res.append(getN(i, j))\n",
    "        array.append(res)\n",
    "#         from pprint import pprint\n",
    "#         pprint(array)\n",
    "    visited = [[0] * len(array[0]) for _ in range(len(array))]\n",
    "    return DFS(array, 0, 0, threshold, visited)\n",
    "\n",
    "# if __name__=='__main__':\n",
    "#     print(movingCount(4,7,8))"
   ]
  },
  {
   "cell_type": "code",
   "execution_count": null,
   "metadata": {},
   "outputs": [],
   "source": []
  }
 ],
 "metadata": {
  "kernelspec": {
   "display_name": "Python 3",
   "language": "python",
   "name": "python3"
  },
  "language_info": {
   "codemirror_mode": {
    "name": "ipython",
    "version": 3
   },
   "file_extension": ".py",
   "mimetype": "text/x-python",
   "name": "python",
   "nbconvert_exporter": "python",
   "pygments_lexer": "ipython3",
   "version": "3.7.3"
  }
 },
 "nbformat": 4,
 "nbformat_minor": 2
}
