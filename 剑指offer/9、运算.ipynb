{
 "cells": [
  {
   "cell_type": "markdown",
   "metadata": {},
   "source": [
    "# 题目汇总\n",
    "\n",
    "[15] 二进制中1的个数\n",
    "\n",
    "[16] 数值的整数次方\n",
    "\n",
    "[17] 打印从1到最大的n位数\n",
    "\n",
    "[29] 顺时针打印矩阵\n",
    "\n",
    "[40] 最小的K个数"
   ]
  },
  {
   "cell_type": "markdown",
   "metadata": {},
   "source": [
    "# [15] 二进制中1的个数"
   ]
  },
  {
   "cell_type": "code",
   "execution_count": 19,
   "metadata": {},
   "outputs": [],
   "source": [
    "def NumberOf1(n):\n",
    "    # write code here\n",
    "    count=0\n",
    "    if n < 0:\n",
    "        n=n & 0xffffffff\n",
    "    while (n):\n",
    "        n=(n-1) & n\n",
    "        count += 1\n",
    "    return count\n"
   ]
  },
  {
   "cell_type": "code",
   "execution_count": 23,
   "metadata": {},
   "outputs": [],
   "source": [
    "# 扩展：输入两个整数m 和 n， 计算需要改变 m 的二进制表示中的多少位才能得到 n。\n",
    "\n",
    "# 方法：异或，然后统计结果中1的个数\n",
    "\n",
    "def singleNumber(m, n):\n",
    "    \"\"\"\n",
    "    :type nums: List[int]\n",
    "    :rtype: List[int]\n",
    "    \"\"\"\n",
    "    c = m ^ n\n",
    "    count = bin(c)[2:].count('1')\n",
    "    return count"
   ]
  },
  {
   "cell_type": "markdown",
   "metadata": {},
   "source": [
    "# [16] 数值的整数次方"
   ]
  },
  {
   "cell_type": "code",
   "execution_count": 24,
   "metadata": {},
   "outputs": [],
   "source": [
    "def Pow(base, exponent):\n",
    "    if base==0:\n",
    "        return 0\n",
    "    if exponent == 1:\n",
    "        return base\n",
    "    if exponent < 0:\n",
    "        exponent = -exponent\n",
    "        base = 1.0/base\n",
    "    \n",
    "    result = 1\n",
    "    for i in range(exponent):\n",
    "        result *= base\n",
    "    return result\n",
    "    "
   ]
  },
  {
   "cell_type": "markdown",
   "metadata": {},
   "source": [
    "# [17] 打印从1到最大的n位数"
   ]
  },
  {
   "cell_type": "code",
   "execution_count": 14,
   "metadata": {},
   "outputs": [],
   "source": [
    "def printNumber(number):\n",
    "    isbeginning=True\n",
    "    length=len(number)\n",
    "    for i in range(length):\n",
    "        if isbeginning and number[i]!=0:\n",
    "            isbeginning=False\n",
    "        if not isbeginning:\n",
    "            print(number[i],end=\"\")#python默认换行，加上end去掉这种默认\n",
    "    print('\\t')\n",
    "\n",
    "\n",
    "def Recursive(number,length,index):\n",
    " \n",
    "    length=len(number)\n",
    "    if index==length-1:#递归结束的条件：设置好数字的最后一位\n",
    "        printNumber(number)\n",
    "        return\n",
    "    for i in range(10):\n",
    "        number[index+1]=str(i)\n",
    "        Recursive(number,length,index+1)\n",
    "        \n",
    "\n",
    "def Print1toMaxofNDigits2(n):\n",
    " \n",
    "    if n<=0:\n",
    "        return\n",
    "    num=['0']*n\n",
    "    for i in range(10):\n",
    "        num[0]=str(i)\n",
    "        Recursive(num,n,0)\n",
    "        \n",
    "\n",
    "# Print1toMaxofNDigits2(1)\n",
    "    "
   ]
  },
  {
   "cell_type": "code",
   "execution_count": 27,
   "metadata": {},
   "outputs": [],
   "source": [
    "# 暴力法\n",
    "def Power(num):\n",
    "    # write code here\n",
    "    if num<= 0:\n",
    "        return 0\n",
    "    list_num =[]\n",
    "    for i in range(1,10**num):\n",
    "        list_num.append(i)\n",
    "    return list_num"
   ]
  },
  {
   "cell_type": "markdown",
   "metadata": {},
   "source": [
    "# [29] 顺时针打印矩阵"
   ]
  },
  {
   "cell_type": "code",
   "execution_count": 28,
   "metadata": {},
   "outputs": [
    {
     "name": "stdout",
     "output_type": "stream",
     "text": [
      "[1, 2, 3, 4, 8, 12, 16, 15, 14, 13, 9, 5, 6, 7, 11, 10]\n"
     ]
    }
   ],
   "source": [
    "def print_circle(matrix, start, rows, cols, ret):\n",
    "    row = rows - start - 1  # 最后一行\n",
    "    col = cols - start - 1\n",
    "    # left->right\n",
    "    for c in range(start, col+1):\n",
    "        ret.append(matrix[start][c])\n",
    "    # top->bottom：至少两行，所以要求起始行号小于终止行号\n",
    "    if start < row:\n",
    "        for r in range(start+1, row+1):\n",
    "            ret.append(matrix[r][col])\n",
    "    # right->left：圈内至少要两行两列，所以要求起始行号大于终止行号且起始列号大于终止列号\n",
    "    if start < row and start < col:\n",
    "        for c in range(start, col)[::-1]:\n",
    "            ret.append(matrix[row][c])\n",
    "    # bottom->top：圈内至少要三行两列，所以要求终止行号至少比起始行号大2，终止列号大于起始列号\n",
    "    if start < row-1 and start < col:\n",
    "        for r in range(start+1, row)[::-1]:\n",
    "            ret.append(matrix[r][start])\n",
    "\n",
    "\n",
    "\n",
    "def print_matrix(matrix):\n",
    "    \"\"\"\n",
    "    :param matrix: [[]]\n",
    "    \"\"\"\n",
    "    rows = len(matrix)\n",
    "    cols = len(matrix[0]) if matrix else 0\n",
    "    start = 0\n",
    "    ret = [] \n",
    "    while start * 2 < rows and start * 2 < cols:\n",
    "        print_circle(matrix, start, rows, cols, ret)\n",
    "        start += 1\n",
    "    print(ret)\n",
    "\n",
    "\n",
    "# matrix=[[1,2,3,4],[5,6,7,8],[9,10,11,12],[13,14,15,16]]\n",
    "# print_matrix(matrix)"
   ]
  },
  {
   "cell_type": "markdown",
   "metadata": {},
   "source": [
    "# [40] 最小的K个数"
   ]
  },
  {
   "cell_type": "code",
   "execution_count": 1,
   "metadata": {},
   "outputs": [],
   "source": [
    "#   冒泡法\n",
    "def BubbleSort(lists,k):\n",
    "    length = len(lists)\n",
    "    for i in range(k):\n",
    "        for j in range(i+1,length):\n",
    "            if lists[i] > lists[j]:\n",
    "                lists[j],lists[i] = lists[i],lists[j] # 交换，冒个泡\n",
    "    return lists[0:k]"
   ]
  },
  {
   "cell_type": "code",
   "execution_count": 4,
   "metadata": {},
   "outputs": [],
   "source": [
    "# 快排\n",
    "\n",
    "def partition(array, l, r):\n",
    "    x = array[r]\n",
    "    i = l - 1\n",
    "    for j in range(l, r):\n",
    "        if array[j] <= x:\n",
    "            i += 1\n",
    "            array[i], array[j] = array[j], array[i]\n",
    "    array[i + 1], array[r] = array[r], array[i+1]\n",
    "    return i + 1\n",
    "\n",
    "\n",
    "\n",
    "def topK(lists,k):\n",
    "    #划分法主要函数部分\n",
    "    length = len(lists)\n",
    "    left = 0\n",
    "    right = length - 1\n",
    "    index = partition(lists,left,right)\n",
    "    while k-1!=index:\n",
    "        if index > k-1:\n",
    "            right = index-1\n",
    "        else:\n",
    "            left = index+1\n",
    "        index = partition(lists,left,right) \n",
    "    return sorted(lists[0:k])\n",
    "\n",
    "\n",
    "# array = [3,2,4,1,8,7,5,6,9]\n",
    "# topK(array,3)"
   ]
  },
  {
   "cell_type": "code",
   "execution_count": null,
   "metadata": {},
   "outputs": [],
   "source": []
  }
 ],
 "metadata": {
  "kernelspec": {
   "display_name": "Python 3",
   "language": "python",
   "name": "python3"
  },
  "language_info": {
   "codemirror_mode": {
    "name": "ipython",
    "version": 3
   },
   "file_extension": ".py",
   "mimetype": "text/x-python",
   "name": "python",
   "nbconvert_exporter": "python",
   "pygments_lexer": "ipython3",
   "version": "3.7.3"
  }
 },
 "nbformat": 4,
 "nbformat_minor": 2
}
