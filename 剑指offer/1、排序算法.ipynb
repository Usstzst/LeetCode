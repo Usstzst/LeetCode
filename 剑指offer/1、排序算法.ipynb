{
 "cells": [
  {
   "cell_type": "markdown",
   "metadata": {},
   "source": [
    "# 1、冒泡排序\n",
    "\n",
    "**算法描述**\n",
    "\n",
    "* 两层循环，外层控制循环次数；\n",
    "* 内层从前往后遍历，比较相邻的元素，每遍历一次把最大的元素放到最后.\n",
    "\n",
    "**算法复杂度**\n",
    "* 时间复杂度：N^2\n",
    "* 空间复杂度： 1"
   ]
  },
  {
   "cell_type": "code",
   "execution_count": 1,
   "metadata": {},
   "outputs": [],
   "source": [
    "def bubble_sort(listA):\n",
    "    n = len(listA)\n",
    "    for i in range(n):\n",
    "        for j in range(n-1):\n",
    "            if listA[j] > listA[j+1]:\n",
    "                listA[j], listA[j+1] = listA[j+1], listA[j]\n",
    "    return lsitA[j]"
   ]
  },
  {
   "cell_type": "markdown",
   "metadata": {},
   "source": [
    "# 2、选择排序\n",
    "\n",
    "**算法描述：**\n",
    "* 首先找到数组中最小的那个元素；\n",
    "* 将该元素与数组的第一个元素交换位置（如果第一个元素就是最小元素那么它就和自己交换）；\n",
    "* 在剩下的元素中找到最小的元素，将它与数组中第二个元素交换位置；\n",
    "* 如此往复，直到将整个数组排序。\n",
    "\n",
    "**算法复杂度**\n",
    "* 时间复杂度：N^2\n",
    "* 空间复杂度： 1\n"
   ]
  },
  {
   "cell_type": "code",
   "execution_count": 2,
   "metadata": {},
   "outputs": [],
   "source": [
    "def select_sort(listA):\n",
    "    n = len(listA)\n",
    "    for i in range(n):\n",
    "        min = i\n",
    "        for j in range(i+1, n):\n",
    "            if listA[min]>listA[j]:\n",
    "                min = j\n",
    "        listA[i], listA[min] = listA[min], listA[i]\n",
    "    return listA\n",
    "              "
   ]
  },
  {
   "cell_type": "markdown",
   "metadata": {},
   "source": [
    "# 3、插入排序\n",
    "\n",
    "**算法描述**\n",
    "* 从后往前扫描，当前元素与其之前的所有元素作比较，如果小于则交换两者的值。\n",
    "\n",
    "**算法复杂度**\n",
    "* 时间复杂度：介于 N 与 N^2之间\n",
    "* 空间复杂度： 1"
   ]
  },
  {
   "cell_type": "code",
   "execution_count": 7,
   "metadata": {},
   "outputs": [],
   "source": [
    "def insert_sort(listA):\n",
    "    n = len(listA)\n",
    "    for i in range(1,n):\n",
    "        for j in range(i,0,-1):\n",
    "            if listA[j]<listA[j-1]:\n",
    "                listA[j], listA[j-1] = listA[j-1], listA[j]\n",
    "    return listA  "
   ]
  },
  {
   "cell_type": "markdown",
   "metadata": {},
   "source": [
    "# 4、希尔排序\n",
    "\n",
    "**算法描述**\n",
    "* 选择步长，然后进行插入排序\n",
    "\n",
    "**算法复杂度**\n",
    "* 时间复杂度：NlogN\n",
    "* 空间复杂度： 1"
   ]
  },
  {
   "cell_type": "code",
   "execution_count": 9,
   "metadata": {},
   "outputs": [],
   "source": [
    "def shell_sort(listA):\n",
    "    n = len(listA)\n",
    "    gap = n // 2\n",
    "    while gap > 0:\n",
    "        for i in range(gap, n):\n",
    "            for j in range(i, 0, -gap):\n",
    "                if listA[j] < listA[j-gap]:\n",
    "                    listA[j],listA[j-gap] = listA[j-gap],listA[j]\n",
    "        gap = gap // 2\n",
    "    \n",
    "    return listA\n",
    "\n"
   ]
  },
  {
   "cell_type": "markdown",
   "metadata": {},
   "source": [
    "# 5、归并排序\n",
    "\n",
    "**算法描述**\n",
    "* 先切分再合并\n",
    "\n",
    "**算法复杂度**\n",
    "* 时间复杂度：NlogN\n",
    "* 空间复杂度： N\n"
   ]
  },
  {
   "cell_type": "code",
   "execution_count": 16,
   "metadata": {},
   "outputs": [],
   "source": [
    "def merge(left, right):\n",
    "    result = []\n",
    "    while len(left)>0 and len(right)>0:\n",
    "        if left[0]<=right[0]:\n",
    "            result.append(left.pop(0))\n",
    "        else:\n",
    "            result.append(right.pop(0))\n",
    "    result += left\n",
    "    result += right\n",
    "    \n",
    "    return result\n",
    "\n",
    "\n",
    "def merge_sort(listA):\n",
    "    if len(listA)==1:\n",
    "        return listA\n",
    "    mid = len(listA)//2\n",
    "    left = listA[:mid]\n",
    "    right = listA[mid:]\n",
    "    l1 = merge_sort(left)\n",
    "    r1 = merge_sort(right)\n",
    "    \n",
    "    return merge(l1, r1)\n",
    "    "
   ]
  },
  {
   "cell_type": "markdown",
   "metadata": {},
   "source": [
    "# 6、快速排序\n",
    "\n",
    "**算法描述**\n",
    "* 通过一趟排序将要排序的数据分割成独立的两部分，其中一部分的所有数据都比另外一部分的所有数据都要小，然后再按此方法对这两部分数据分别进行快速排序，整个排序过程可以递归进行，以此达到整个数据变成有序序列。\n",
    "\n",
    "**算法复杂度**\n",
    "* 时间复杂度：NlogN\n",
    "* 空间复杂度：logN\n",
    "\n",
    "\n",
    "\n",
    "**思路**\n",
    "\n",
    "* 两个指针left，right分别指向列表的第一个元素和最后一个元素，然后取一个参考值，默认为第一个列表的第一个元素list[0]，称为K\n",
    "\n",
    "* left指向的值先和参考值K进行比较，若list[left]小于或等于K值，left就一直向右移动，left+1，直到移动到大于K值的地方，停住\n",
    "\n",
    "* right指向的值和参考值K进行比较，若list[right]大于K值，right就一直向左移动，right-1，直到移动到小于K值的地方，停住\n",
    "\n",
    "* 此时，left和right若还没有相遇，即left还小于right，则二者指向的值互换\n",
    "\n",
    "* 若已经相遇则说明，第一次排序已经完成，将list[right]与list[0]的值进行互换，进行之后的递归\n",
    "\n",
    "\n"
   ]
  },
  {
   "cell_type": "code",
   "execution_count": 36,
   "metadata": {},
   "outputs": [],
   "source": [
    "def partition(arr, lo, hi):\n",
    "    left, right = lo, hi\n",
    "    # 将最左侧的值作为参考值\n",
    "    x = arr[lo]\n",
    "    # 当left<right时，判断两者是否相交，如果未相交则一直循环，\n",
    "    while left<right:\n",
    "        #当left对应的值小于k参考值，就一直向右移动\n",
    "        while arr[left]<=x:\n",
    "            left+=1\n",
    "        #当right对应的值大于k参考值，就一直向左移动\n",
    "        while arr[right]>x:\n",
    "            right -=1\n",
    "        #移动完之后两者仍然没有相交，则交换两者的值\n",
    "        if left < right:\n",
    "            arr[left],arr[right]= arr[right],arr[left]\n",
    "   \n",
    "    #若移动完，已经相遇，则交换right对应的值和参考值\n",
    "    arr[lo], arr[right] = arr[right], x\n",
    "    print(arr)\n",
    "    \n",
    "    return right\n",
    "   \n",
    "\n",
    "def quick_sort(arr,lo, hi):\n",
    "    if hi>lo:\n",
    "        k = partition(arr,lo,hi)\n",
    "        quick_sort(arr, lo, k-1)\n",
    "        quick_sort(arr, k+1, hi)\n",
    "\n",
    "\n",
    "# list_demo = [6,1,2,7,9,3,5]\n",
    "# quick_sort(list_demo,0,6)\n",
    "# print(list_demo)\n"
   ]
  },
  {
   "cell_type": "code",
   "execution_count": 13,
   "metadata": {},
   "outputs": [],
   "source": [
    "def qiuck_sort(array):\n",
    "    if len(array)<=1:\n",
    "        return array\n",
    "    else:\n",
    "        less = [item for item in array[1:] if item<=array[0]]\n",
    "        more = [item for item in array[1:] if item>=array[0]]\n",
    "    \n",
    "    return quick_sort(less)+array[0]+quick_sort(more)\n",
    "\n"
   ]
  },
  {
   "cell_type": "code",
   "execution_count": 23,
   "metadata": {},
   "outputs": [],
   "source": [
    "# **一句话实现快速排序**\n",
    "quick_sort = lambda array: array if len(array) <= 1 else quick_sort([item for item in array[1:] if item <= array[0]]) + [array[0]] +quick_sort([item for item in array[1:] if item > array[0]])\n",
    " "
   ]
  },
  {
   "cell_type": "markdown",
   "metadata": {},
   "source": [
    "# 7、堆排序\n",
    "\n",
    "堆排序（Heapsort）是指利用堆这种数据结构所设计的一种排序算法。堆积是一个近似完全二叉树的结构，并同时满足堆积的性质：即子结点的键值或索引总是小于（或者大于）它的父节点。堆排序可以说是一种利用**堆的概念来排序的选择排序。**\n"
   ]
  },
  {
   "cell_type": "code",
   "execution_count": 52,
   "metadata": {},
   "outputs": [
    {
     "name": "stdout",
     "output_type": "stream",
     "text": [
      "排序后： [5, 6, 11, 12, 13, 14]\n"
     ]
    }
   ],
   "source": [
    "# 选出最大元素放在第一位\n",
    "def heapify(arr, n, i): \n",
    "    largest = i  \n",
    "    l = 2 * i + 1     #left = 2 * i + 1 \n",
    "    r = 2 * i + 2     #right = 2 * i + 2 \n",
    "  \n",
    "    if l < n and arr[i] < arr[l]: \n",
    "        largest = l \n",
    "  \n",
    "    if r < n and arr[largest] < arr[r]: \n",
    "        largest = r \n",
    "  \n",
    "    if largest != i: \n",
    "        arr[i],arr[largest] = arr[largest],arr[i]\n",
    "        heapify(arr, n, largest)\n",
    "\n",
    "\n",
    "def heapSort(arr): \n",
    "    n = len(arr) \n",
    "    \n",
    "    for i in range(n,-1,-1): \n",
    "        heapify(arr, n, i) \n",
    "    \n",
    "  \n",
    "    #一个个交换元素\n",
    "    for i in range(n-1, 0, -1): \n",
    "        arr[i], arr[0] = arr[0], arr[i]   # 交换        \n",
    "        heapify(arr, i, 0) \n",
    "    \n",
    "\n",
    "        \n",
    "if __name__ == '__main__':\n",
    "    arr = [12, 11, 13, 5, 6, 14] \n",
    "    heapSort(arr)  \n",
    "    print(\"排序后：\", arr) \n",
    "    \n"
   ]
  },
  {
   "cell_type": "code",
   "execution_count": 53,
   "metadata": {},
   "outputs": [
    {
     "name": "stdout",
     "output_type": "stream",
     "text": [
      "[0, 2, 10, 16, 30, 50, 60, 70, 80]\n"
     ]
    }
   ],
   "source": [
    "\n",
    "from collections import deque\n",
    "\n",
    "\n",
    "def swap_param(L, i, j):\n",
    "    L[i], L[j] = L[j], L[i]\n",
    "    return L\n",
    "\n",
    "\n",
    "def heap_adjust(L, start, end):\n",
    "    temp = L[start]\n",
    "\n",
    "    i = start\n",
    "    j = 2 * i\n",
    "\n",
    "    while j <= end:\n",
    "        if (j < end) and (L[j] < L[j + 1]):\n",
    "            j += 1\n",
    "        if temp < L[j]:\n",
    "            L[i] = L[j]\n",
    "            i = j\n",
    "            j = 2 * i\n",
    "        else:\n",
    "            break\n",
    "    L[i] = temp\n",
    "\n",
    "\n",
    "def heap_sort(L):\n",
    "    L_length = len(L) - 1\n",
    "\n",
    "    first_sort_count = L_length // 2\n",
    "    for i in range(first_sort_count+1):\n",
    "        heap_adjust(L, first_sort_count - i, L_length)\n",
    "        \n",
    "\n",
    "    for i in range(L_length - 1):\n",
    "        L = swap_param(L, 1, L_length - i)\n",
    "        heap_adjust(L, 1, L_length - i - 1)\n",
    "\n",
    "    return [L[i] for i in range(1, len(L))]\n",
    "\n",
    "\n",
    "def main():\n",
    "    L = deque([50, 16, 30, 10, 60,  90,  2, 80, 70])\n",
    "    L.appendleft(0)\n",
    "    print(heap_sort(L))\n",
    "\n",
    "\n",
    "if __name__ == '__main__':\n",
    "    main()\n"
   ]
  },
  {
   "cell_type": "code",
   "execution_count": null,
   "metadata": {},
   "outputs": [],
   "source": []
  }
 ],
 "metadata": {
  "kernelspec": {
   "display_name": "Python 3",
   "language": "python",
   "name": "python3"
  },
  "language_info": {
   "codemirror_mode": {
    "name": "ipython",
    "version": 3
   },
   "file_extension": ".py",
   "mimetype": "text/x-python",
   "name": "python",
   "nbconvert_exporter": "python",
   "pygments_lexer": "ipython3",
   "version": "3.7.3"
  }
 },
 "nbformat": 4,
 "nbformat_minor": 2
}
