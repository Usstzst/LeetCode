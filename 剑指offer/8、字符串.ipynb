{
 "cells": [
  {
   "cell_type": "markdown",
   "metadata": {},
   "source": [
    "# 题目汇总\n",
    "\n",
    "[5] 替换空格\n",
    "\n",
    "[20] 表示数值的字符串\n",
    "\n",
    "[50] 第一个只出现一次的字符\n"
   ]
  },
  {
   "cell_type": "markdown",
   "metadata": {},
   "source": [
    "# [5] 替换空格为指定字符"
   ]
  },
  {
   "cell_type": "code",
   "execution_count": 3,
   "metadata": {},
   "outputs": [
    {
     "name": "stdout",
     "output_type": "stream",
     "text": [
      "nice%20to%20meet%20you!\n"
     ]
    }
   ],
   "source": [
    "def replace_blank(content,symbol):\n",
    "    res = ''\n",
    "    for i in content:\n",
    "        if i == ' ':\n",
    "            res += symbol\n",
    "        else:\n",
    "            res += i\n",
    "    return res\n",
    "\n",
    "if __name__ == '__main__':\n",
    "    print(replace_blank('nice to meet you!','%20'))"
   ]
  },
  {
   "cell_type": "markdown",
   "metadata": {},
   "source": [
    "# [20] 表示数值的字符串\n",
    "\n",
    "请实现一个函数用来判断字符串是否表示数值（包括整数和小数）。例如，字符串\"+100\",\"5e2\",\"-123\",\"3.1416\"和\"-1E-16\"都表示数值。 但是\"12e\",\"1a3.14\",\"1.2.3\",\"+-5\"和\"12e+4.3\"都不是。"
   ]
  },
  {
   "cell_type": "code",
   "execution_count": 4,
   "metadata": {},
   "outputs": [],
   "source": [
    "def idNumberic(str):\n",
    "    try:\n",
    "        ss=float(str)#float() 函数用于将整数和字符串转换成浮点数\n",
    "        return True\n",
    "    except:\n",
    "        return False\n"
   ]
  },
  {
   "cell_type": "markdown",
   "metadata": {},
   "source": [
    "# [50] 第一个只出现一次的字符"
   ]
  },
  {
   "cell_type": "code",
   "execution_count": 1,
   "metadata": {},
   "outputs": [],
   "source": [
    "import collections\n",
    "\n",
    "def FirstNotRepeatingChar(s):\n",
    "    # write code here\n",
    "    dic = collections.Counter(s)\n",
    "\n",
    "    for i in s:\n",
    "        if dic[i]==1:\n",
    "            return i\n",
    "        \n",
    "    return -1\n",
    "\n"
   ]
  },
  {
   "cell_type": "code",
   "execution_count": 2,
   "metadata": {},
   "outputs": [],
   "source": [
    "## 方法二：第一次扫描的时间复杂度是O(n)，第二次扫描读出第一个数字的时间复杂度是O(1) \n",
    "\n",
    "## 由于字符是一个长度为8的数据类型，因此有256种可能性，所以创建大小为256，以字符ASCII码为键值的哈希表，空间复杂度为O(1)。\n",
    "\n",
    "\n",
    "def FirstNotRepeatingChar(s):\n",
    "    # write code here\n",
    "    hash_map = [0]*256\n",
    "\n",
    "    for x in s:\n",
    "        hash_map[ord(x)] += 1\n",
    "\n",
    "    for x in s:\n",
    "        if hash_map[ord(x)] == 1:\n",
    "            return s.index(x)\n",
    "\n",
    "    return -1\n"
   ]
  },
  {
   "cell_type": "code",
   "execution_count": null,
   "metadata": {},
   "outputs": [],
   "source": []
  }
 ],
 "metadata": {
  "kernelspec": {
   "display_name": "Python 3",
   "language": "python",
   "name": "python3"
  },
  "language_info": {
   "codemirror_mode": {
    "name": "ipython",
    "version": 3
   },
   "file_extension": ".py",
   "mimetype": "text/x-python",
   "name": "python",
   "nbconvert_exporter": "python",
   "pygments_lexer": "ipython3",
   "version": "3.7.3"
  }
 },
 "nbformat": 4,
 "nbformat_minor": 2
}
