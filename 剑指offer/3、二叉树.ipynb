{
 "cells": [
  {
   "cell_type": "markdown",
   "metadata": {},
   "source": [
    "# 题目汇总\n",
    "\n",
    "[7] 重建二叉树\n",
    "\n",
    "[8] 二叉树下一个节点\n",
    "\n",
    "[26] 树的子结构\n",
    "\n",
    "[27] 二叉树的镜像\n",
    "\n",
    "[28] 对称的二叉树\n",
    "\n",
    "[32] 从上到下打印二叉树\n",
    "\n",
    "[33] 二叉搜索树的后序遍历序列\n",
    "\n",
    "[34] 二叉树中和为某一值得路径\n",
    "\n",
    "[36] 二叉搜索树与双向链表\n",
    "\n",
    "[37] 序列化二叉树\n",
    "\n",
    "[54] 二叉搜索树第k大节点\n",
    "\n",
    "[55] 二叉树的深度"
   ]
  },
  {
   "cell_type": "markdown",
   "metadata": {},
   "source": [
    "# [7]重建二叉树 "
   ]
  },
  {
   "cell_type": "markdown",
   "metadata": {},
   "source": [
    "1、题目：输入某二叉树的前序遍历和中序遍历的结果，请重建出该二叉树。假设输入的前序遍历和中序遍历的结果中都不含重复的数字。\n",
    "\n",
    "例如输入前序遍历序列{1,2,4,7,3,5,6,8}和中序遍历序列{4,7,2,1,5,3,8,6}，则重建二叉树并返回。"
   ]
  },
  {
   "cell_type": "code",
   "execution_count": 13,
   "metadata": {},
   "outputs": [],
   "source": [
    "# -*- coding:utf-8 -*-\n",
    "class TreeNode:\n",
    "    def __init__(self, x):\n",
    "        self.val = x\n",
    "        self.left = None\n",
    "        self.right = None\n",
    "\n",
    "class Solution:\n",
    "    # 返回构造的TreeNode根节点\n",
    "    def reConstructBinaryTree(self, pre, tin):\n",
    "        \n",
    "        if not pre or not tin:\n",
    "            return None\n",
    "        idx = tin.index(pre.pop(0))\n",
    "        root = TreeNode(tin[idx])\n",
    "        root.left = reConstructBinaryTree(pre, tin[:idx])\n",
    "        root.right = reConstructBinaryTree(pre, tin[idx+1:])\n",
    "        return root       "
   ]
  },
  {
   "cell_type": "markdown",
   "metadata": {},
   "source": [
    "# [8] 二叉树下一个节点\n",
    "\n",
    "给定一棵二叉树和其中的一个节点，如何找出中序遍历序列的下一个节点？\n",
    "\n",
    "特别注意：\n",
    "\n",
    "树中的节点除了有两个分别指向左右节点的指针，还有一个指向父节点的指针。\n",
    "\n",
    "\n",
    "## 思路\n",
    "\n",
    "分析二叉树的下一个节点，一共有以下情况：\n",
    "\n",
    "1、二叉树为空，则返回空；\n",
    "\n",
    "2、节点右孩子存在，则设置一个指针从该节点的右孩子出发，一直沿着指向左子结点的指针找到的叶子节点即为下一个节点；\n",
    "\n",
    "3、节点不是根节点。如果该节点是其父节点的左孩子，则返回父节点；如果是右节点继续向上遍历其父节点的父节点，重复之前的判断，返回结果。\n"
   ]
  },
  {
   "cell_type": "code",
   "execution_count": 17,
   "metadata": {},
   "outputs": [],
   "source": [
    "# class TreeLinkNode:\n",
    "#     def __init__(self, x):\n",
    "#         self.val = x\n",
    "#         self.left = None\n",
    "#         self.right = None\n",
    "#         self.next = None #指向父节点\n",
    "\n",
    "class Solution:\n",
    "    def GetNext(self, pNode):\n",
    "    \n",
    "        if not pNode:\n",
    "            return None\n",
    "        if pNode.right:\n",
    "            pNode = pNode.right\n",
    "            while pNode.left:\n",
    "                pNode = pNode.left\n",
    "            return pNode\n",
    "        else:\n",
    "            while pNode.next:\n",
    "                if pNode == pNode.next.left:\n",
    "                    return pNode.next\n",
    "                pNode = pNode.next\n",
    "        return None\n",
    "        "
   ]
  },
  {
   "cell_type": "markdown",
   "metadata": {},
   "source": [
    "# [26] 树的子结构\n",
    "\n",
    "题目：输入两棵树A和B， 判断B是不是A的子结构。"
   ]
  },
  {
   "cell_type": "code",
   "execution_count": 14,
   "metadata": {},
   "outputs": [],
   "source": [
    "# -*- coding:utf-8 -*-\n",
    "# class TreeNode:\n",
    "#     def __init__(self, x):\n",
    "#         self.val = x\n",
    "#         self.left = None\n",
    "#         self.right = None\n",
    "\n",
    "class Solution:\n",
    "    def HasSubtree(self, pRoot1, pRoot2):\n",
    "        # write code here\n",
    "        result = False\n",
    "        \n",
    "        if pRoot1 != None and pRoot2 != None:\n",
    "            if pRoot1.val == pRoot2.val:\n",
    "                result = self.same(pRoot1, pRoot2)\n",
    "            if not result:\n",
    "                result = self.HasSubtree(pRoot1.left, pRoot2)\n",
    "            if not result:\n",
    "                result = self.HasSubtree(pRoot1.right, pRoot2)\n",
    "            return result \n",
    "        \n",
    "\n",
    "    def same(self, pRoot1, pRoot2):\n",
    "        if pRoot2 == None:\n",
    "            return True\n",
    "        if pRoot1 == None:\n",
    "            return False\n",
    "        # 这一步不断判断下一个节点，因为是递归操作。\n",
    "        if pRoot1.val != pRoot2.val:\n",
    "            return False\n",
    "        return self.same(pRoot1.left, pRoot2.left) and self.same(pRoot1.right, pRoot2.right)"
   ]
  },
  {
   "cell_type": "markdown",
   "metadata": {},
   "source": [
    "# [27] 二叉树的镜像\n",
    "\n",
    "左右子树对换"
   ]
  },
  {
   "cell_type": "code",
   "execution_count": 15,
   "metadata": {},
   "outputs": [],
   "source": [
    "def Mirror(root):\n",
    "    if root == None:\n",
    "        return\n",
    "    if root.left == None and root.right == None:\n",
    "        return root\n",
    "\n",
    "    pTemp = root.left\n",
    "    root.left = root.right\n",
    "    root.right = pTemp\n",
    "    \n",
    "    if root.left:\n",
    "        Mirror(root.left)\n",
    "    if root.right:\n",
    "        Mirror(root.right)\n"
   ]
  },
  {
   "cell_type": "markdown",
   "metadata": {},
   "source": [
    "# [28] 对称二叉树"
   ]
  },
  {
   "cell_type": "code",
   "execution_count": 18,
   "metadata": {},
   "outputs": [],
   "source": [
    "def isSame(p1,p2):\n",
    "    if not p1 and not p2:\n",
    "        return True\n",
    "    if not p1 or not p2:\n",
    "        return False\n",
    "    if p1.val != p2.val:\n",
    "        return False\n",
    "    return isSame(p1.left, p2.right) and isSame(p1.right, p2.left)\n",
    "\n",
    "def isSymmetrical(self, pRoot):\n",
    "    # write code here\n",
    "    if not pRoot:\n",
    "        return True\n",
    "    return isSame(pRoot.left, pRoot.right)\n"
   ]
  },
  {
   "cell_type": "markdown",
   "metadata": {},
   "source": [
    "# [32] 从上到下打印二叉树"
   ]
  },
  {
   "cell_type": "code",
   "execution_count": 19,
   "metadata": {},
   "outputs": [],
   "source": [
    "def TopToBottom(root):\n",
    "    if not root:\n",
    "        return \n",
    "    res = []\n",
    "    queue = []\n",
    "    queue.append(root)\n",
    "    while queue:\n",
    "        node = queue.pop(0)\n",
    "        res.append(node.val)\n",
    "        if node.left:\n",
    "            queue.append(node.left)\n",
    "        if node.right:\n",
    "            queue.append(node.right)\n",
    "        \n",
    "    return res"
   ]
  },
  {
   "cell_type": "markdown",
   "metadata": {},
   "source": [
    "# 扩展：之形打印二叉树\n",
    "\n",
    "当前层、下一层、度数\n",
    "\n",
    "当度数为偶数时，逆序打印，反之正序打印。"
   ]
  },
  {
   "cell_type": "code",
   "execution_count": 21,
   "metadata": {},
   "outputs": [],
   "source": [
    "def print(root):\n",
    "    \n",
    "    if not root:\n",
    "        return []\n",
    "    res = []\n",
    "    cur = [root]\n",
    "    isEven = True\n",
    "    while cur:\n",
    "        curLayer = []\n",
    "        nextLayer = []\n",
    "        isEven = not isEven\n",
    "        for node in cur:\n",
    "            curLayer.append(node.val)\n",
    "            if node.left:\n",
    "                nextLayer.append(node.left)\n",
    "            if node.right:\n",
    "                nextLayer.append(node.right)\n",
    "        cur = nextLayer\n",
    "        res.append(curLayer[::-1] if isEven else result.append(curLayer))\n",
    "    return res\n",
    "        \n",
    "    "
   ]
  },
  {
   "cell_type": "markdown",
   "metadata": {},
   "source": [
    "# 面试题33：二叉搜索树的后序遍历序列"
   ]
  },
  {
   "cell_type": "raw",
   "metadata": {},
   "source": [
    "1、题目：输入一个整数数组，判断该数组是不是某二叉搜索树的后序遍历的结果。如果是则输出Yes,否则输出No。假设输入的数组的任意两个数字都互不相同。"
   ]
  },
  {
   "cell_type": "raw",
   "metadata": {},
   "source": [
    "二叉搜索树即是二叉排序树，\n",
    "1. 后序遍历序列的最后一个元素为二叉树的根节点；\n",
    "2. 二叉搜索树左子树上所有的结点均小于根结点、右子树所有的结点均大于根结点。\n",
    "\n",
    "算法步骤如下：\n",
    "\n",
    "1. 找到根结点；\n",
    "2. 遍历序列，找到第一个大于等于根结点的元素i，则i左侧为左子树、i右侧为右子树；\n",
    "3. 我们已经知道i左侧所有元素均小于根结点，那么再依次遍历右侧，看是否所有元素均大于根结点；\n",
    "   若出现小于根结点的元素，则直接返回false；若右侧全都大于根结点，则：\n",
    "4. 分别递归判断左/右子序列是否为后序序列；\n"
   ]
  },
  {
   "cell_type": "code",
   "execution_count": 12,
   "metadata": {},
   "outputs": [
    {
     "name": "stdout",
     "output_type": "stream",
     "text": [
      "True\n"
     ]
    }
   ],
   "source": [
    "class Solution:\n",
    "    def VerifySquenceOfBST(self, sequence):\n",
    "        # write code here\n",
    "        if not sequence:\n",
    "            return False\n",
    "\n",
    "        root = sequence[-1]\n",
    "\n",
    "        i = 0\n",
    "        for node in sequence[:-1]:\n",
    "            if node > root:\n",
    "                break\n",
    "            i += 1\n",
    "\n",
    "        for node in sequence[i:-1]:\n",
    "            if node < root:\n",
    "                return False\n",
    "\n",
    "        left = True\n",
    "        # i>0 意味i =0 或者1 的时候，两个元素在二叉树没有排序之分的，但是3个元素就有了左右子树之分\n",
    "        if i > 0:\n",
    "            left = self.VerifySquenceOfBST(sequence[:i])\n",
    "\n",
    "        right = True\n",
    "        # len(sequence)>3才有左右之分的\n",
    "        if i < len(sequence) - 2 and left:\n",
    "            right = self.VerifySquenceOfBST(sequence[i:-1])\n",
    "\n",
    "        return left and right\n",
    "\n",
    "    \n",
    "if __name__=='__main__':\n",
    "    seq = [5,7,6,9,11,10,8]\n",
    "    s = Solution()\n",
    "    result = s.VerifySquenceOfBST(seq)\n",
    "    print(result)\n",
    "    "
   ]
  },
  {
   "cell_type": "markdown",
   "metadata": {},
   "source": [
    "# 面试题34：二叉树中和为某一值的路径"
   ]
  },
  {
   "cell_type": "markdown",
   "metadata": {},
   "source": [
    "1、题目：输入一颗二叉树和一个整数，打印出二叉树中结点值的和为输入整数的所有路径。**路径定义为从树的根结点开始往下一直到叶结点所经过的结点形成一条路径.**"
   ]
  },
  {
   "cell_type": "code",
   "execution_count": 26,
   "metadata": {},
   "outputs": [],
   "source": [
    "# class TreeNode:\n",
    "#     def __init__(self, x):\n",
    "#         self.val = x\n",
    "#         self.left = None\n",
    "#         self.right = None\n",
    "def FindPath2(root, path, currentNum):\n",
    "    currentNum += root.val\n",
    "    # root使用append转成了列表，因为最后要一个序列，root本身还是树结构\n",
    "    path.append(root)\n",
    "    # 判断是不是到叶子节点了，到叶子节点了就要判断值的和是不是相等\n",
    "    flag = (root.left == None and root.right == None)\n",
    "    # 返回值是一个等于整数的序列\n",
    "    if currentNum == expectNumber and flag:\n",
    "        onepath = []\n",
    "        for node in path:\n",
    "            onepath.append(node.val)\n",
    "        result.append(onepath)\n",
    "\n",
    "    if currentNum < expectNumber:\n",
    "        if root.left:\n",
    "            FindPath2(root.left, path, currentNum)\n",
    "        if root.right:\n",
    "            FindPath2(root.right, path, currentNum)\n",
    "    # 拿到一个正确的路径后要弹出，回到上一次父节点继续递归\n",
    "    path.pop()\n",
    "\n",
    "    \n",
    "# 返回二维列表，内部每个列表表示找到的路径\n",
    "def FindPath(root, expectNumber):\n",
    "    # write code here\n",
    "    if not root:\n",
    "        return []\n",
    "    result = []\n",
    "    FindPath2(root, [], 0)\n",
    "    return result"
   ]
  },
  {
   "cell_type": "markdown",
   "metadata": {},
   "source": [
    "# [36] 二叉搜索树与双向链表\n",
    "\n",
    "要求: 将二叉搜索树转化成一个排序的双向链表，只调整树中结点的指向\n",
    "\n",
    "思路: 中序遍历，根结点的left指向左子树的最后一个(最大)值，right指向右子树的(最小)值"
   ]
  },
  {
   "cell_type": "code",
   "execution_count": 23,
   "metadata": {},
   "outputs": [],
   "source": [
    "class Solution(object):\n",
    "\n",
    "    @staticmethod\n",
    "    def convert(tree):\n",
    "        \"\"\"结点转换\"\"\"\n",
    "        if not tree:\n",
    "            return None\n",
    "        p_last = Solution.convert_nodes(tree, None)\n",
    "        while p_last and p_last.left:  # 获取链表头结点\n",
    "            p_last = p_last.left\n",
    "        return p_last\n",
    "\n",
    "    @staticmethod\n",
    "    def convert_nodes(tree, last):\n",
    "        if not tree:\n",
    "            return None\n",
    "        if tree.left:\n",
    "            last = Solution.convert_nodes(tree.left, last)\n",
    "        if last:\n",
    "            last.right = tree\n",
    "        tree.left = last\n",
    "        last = tree\n",
    "        if tree.right:\n",
    "            last = Solution.convert_nodes(tree.right, last)\n",
    "        return last\n"
   ]
  },
  {
   "attachments": {
    "image.png": {
     "image/png": "[encoded data removed]"
    }
   },
   "cell_type": "markdown",
   "metadata": {},
   "source": [
    "# [37] 序列化二叉树 \n",
    "\n",
    "实现两个函数，分别用来序列化和反序列化二叉树。\n",
    "\n",
    "1、序列化二叉树：\n",
    "\n",
    "把一棵二叉树按照某种遍历方式的结果以某种格式保存为字符串。需\n",
    "\n",
    "要注意的是，序列化二叉树的过程中，如果遇到空节点，需要以某种符号（这里用#）表示。\n",
    "\n",
    "以下图二叉树为例，序列化二叉树时，需要将空节点也存入字符串中。\n",
    "\n",
    "![image.png](attachment:image.png)\n",
    "\n",
    "2、反序列化二叉树：\n",
    "\n",
    "根据某种遍历顺序得到的序列化字符串，重构二叉树。\n",
    "\n",
    "具体思路是按前序遍历“根左右”的顺序，根节点位于其左右子节点的前面，即非空（#）的第一个节点是某子树的根节点，左右子节点在该根节点后，以空节点#为分隔符\n",
    "\n"
   ]
  },
  {
   "cell_type": "code",
   "execution_count": 25,
   "metadata": {},
   "outputs": [],
   "source": [
    "# 前序遍历，空节点用”#“表示\n",
    "def Serialize(root):\n",
    "    if not root:\n",
    "        return '#'\n",
    "    return str(root.val) + ',' + Serialize(root.left) + ',' + Serialize(root.right)\n",
    "\n",
    "\n",
    "def deserializeTree(res):\n",
    "    if len(res)<=0:\n",
    "        return None\n",
    "    val = res.pop(0)\n",
    "    root = None\n",
    "    if val != '#':\n",
    "        root = TreeNode(int(val))\n",
    "        root.left = deserializeTree(res)\n",
    "        root.right = deserializeTree(res)\n",
    "    return root\n",
    "\n",
    "\n",
    "def Deserialize(s):\n",
    "    res = s.split(',')\n",
    "    return deserializeTree(res)\n"
   ]
  },
  {
   "cell_type": "markdown",
   "metadata": {},
   "source": [
    "# [54] 二叉搜索树第k大节点\n",
    "\n",
    "\n",
    "先中序遍历，用列表存储中序遍历结果，然后找到第K大的节点\n"
   ]
  },
  {
   "cell_type": "code",
   "execution_count": null,
   "metadata": {},
   "outputs": [],
   "source": [
    "def KthNodeCore(pRoot):\n",
    "    \n",
    "    if not pRoot:\n",
    "        return []\n",
    "    res = []\n",
    "    if pRoot.left:\n",
    "        res.extend(KthNodeCore(pRoot.left))\n",
    "    res.append(pRoot)\n",
    "    if pRoot.right:\n",
    "        res.extend(KthNodeCore(pRoot.right))\n",
    "    return res\n",
    "        \n",
    "\n",
    "def KthNode(pRoot, k):\n",
    "    # write code here\n",
    "    if pRoot is None or k==0:\n",
    "        return\n",
    "    result =  KthNodeCore(pRoot)\n",
    "    if len(result)<k:\n",
    "        return None\n",
    "    return result[k-1]\n"
   ]
  },
  {
   "cell_type": "markdown",
   "metadata": {},
   "source": [
    "## 面试题55：二叉树的深度"
   ]
  },
  {
   "cell_type": "raw",
   "metadata": {},
   "source": [
    "题目：输入一棵二叉树，求该树的深度。从根结点到叶结点依次经过的结点（含根、叶结点）形成树的一条路径，\n",
    "最长路径的长度为树的深度。"
   ]
  },
  {
   "cell_type": "code",
   "execution_count": 22,
   "metadata": {},
   "outputs": [],
   "source": [
    "class Solution(object):\n",
    "    def maxDepth(self, root):\n",
    "        \"\"\"\n",
    "        :type root: TreeNode\n",
    "        :rtype: int\n",
    "        \"\"\"\n",
    "        if not root: #递归边界\n",
    "            return 0\n",
    "        else:\n",
    "            l=1+self.maxDepth(root.left) #递归\n",
    "            r=1+self.maxDepth(root.right)\n",
    "            return max(l,r)\n",
    "\n",
    "        "
   ]
  },
  {
   "cell_type": "code",
   "execution_count": 44,
   "metadata": {},
   "outputs": [],
   "source": [
    "# class TreeNode:\n",
    "#     def __init__(self, x):\n",
    "#         self.val = x\n",
    "#         self.left = None\n",
    "#         self.right = None\n",
    "class Solution:\n",
    "    def TreeDepth(self, pRoot):\n",
    "        # write code here\n",
    "        if pRoot == None:\n",
    "            return 0\n",
    "        return max(self.TreeDepth(pRoot.left), self.TreeDepth(pRoot.right)) + 1\n"
   ]
  }
 ],
 "metadata": {
  "kernelspec": {
   "display_name": "Python 3",
   "language": "python",
   "name": "python3"
  },
  "language_info": {
   "codemirror_mode": {
    "name": "ipython",
    "version": 3
   },
   "file_extension": ".py",
   "mimetype": "text/x-python",
   "name": "python",
   "nbconvert_exporter": "python",
   "pygments_lexer": "ipython3",
   "version": "3.7.3"
  }
 },
 "nbformat": 4,
 "nbformat_minor": 2
}
