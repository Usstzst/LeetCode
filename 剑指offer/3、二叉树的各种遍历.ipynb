{
 "cells": [
  {
   "cell_type": "markdown",
   "metadata": {},
   "source": [
    "# 一、前中后序遍历\n"
   ]
  },
  {
   "cell_type": "markdown",
   "metadata": {},
   "source": [
    "## 1、递归法"
   ]
  },
  {
   "cell_type": "code",
   "execution_count": 5,
   "metadata": {},
   "outputs": [],
   "source": [
    "def preorder(root, ans=[]):\n",
    "    if root!=None:\n",
    "        ans.append(root.val)\n",
    "    if root.left:\n",
    "        preorder(root.left, ans)\n",
    "    if root.right:\n",
    "        preorder(root.right, ans)\n",
    "    return ans\n",
    " \n",
    "    \n",
    "def inorder(root, ans=[]):\n",
    "    if root.left:\n",
    "        inorder(root.left, ans)\n",
    "    ans.append(root.val)\n",
    "    if root.right:\n",
    "        inorder(root.right, ans)\n",
    "    return ans\n",
    "\n",
    "def postorder(root, ans=[]):\n",
    "    if root.left:\n",
    "        postorder(root.left, ans)\n",
    "    if root.right:\n",
    "        postorder(root.right, ans)\n",
    "    ans.append(root.val)\n",
    "    \n",
    "    return ans"
   ]
  },
  {
   "cell_type": "markdown",
   "metadata": {},
   "source": [
    "## 2、非递归法"
   ]
  },
  {
   "cell_type": "code",
   "execution_count": 6,
   "metadata": {},
   "outputs": [],
   "source": [
    "def preorder(root):\n",
    "    if root == None:\n",
    "        return []\n",
    "    stack = [root]\n",
    "    result = []\n",
    "    while stack:\n",
    "        result.append(root.val)\n",
    "        if root.right:\n",
    "            stack.append(root.right)\n",
    "        if root.left:\n",
    "            stack.append(root.left)\n",
    "        root = stack.pop()\n",
    "    return result\n",
    "\n",
    "\n",
    "\n",
    "def inorder(root):\n",
    "    if root == None:\n",
    "        return []\n",
    "    stack = []\n",
    "    result = []\n",
    "    while root or stack:\n",
    "        if root:\n",
    "            stack.append(root)\n",
    "            root = root.left\n",
    "        else:\n",
    "            root = stack.pop()\n",
    "            result.append(root.val)\n",
    "            root = root.right\n",
    "    return result\n",
    "\n",
    "\n",
    "def postorder(root):\n",
    "    stack = [root]\n",
    "    stack2 = []\n",
    "    result = []\n",
    "    while len(stack) > 0:\n",
    "        root = stack.pop()\n",
    "        stack2.append(root)\n",
    "        if root.left:\n",
    "            stack.append(root.left)\n",
    "        if root.right:\n",
    "            stack.append(root.right)\n",
    "    while len(stack2) > 0:\n",
    "        node = stack2.pop()\n",
    "        result.append(node.val)\n",
    "    return result\n",
    "\n"
   ]
  },
  {
   "cell_type": "markdown",
   "metadata": {},
   "source": [
    "# 二、层次遍历"
   ]
  },
  {
   "cell_type": "code",
   "execution_count": 7,
   "metadata": {},
   "outputs": [],
   "source": [
    "def levelOrder(root):\n",
    "    \n",
    "    if root == None:\n",
    "        return []\n",
    "    result = []\n",
    "    level = []\n",
    "    now_list = [root]\n",
    "    next_list = []\n",
    "    while len(now_list) != 0:\n",
    "        while len(now_list) != 0:\n",
    "            temp = now_list.pop(0)\n",
    "            level.append(temp.val)\n",
    "            if temp.left:\n",
    "                next_list.append(temp.left)\n",
    "            if temp.right:\n",
    "                next_list.append(temp.right)\n",
    "        result.append(level)\n",
    "        now_list, next_list = next_list, []\n",
    "        level = []\n",
    "    return result"
   ]
  },
  {
   "cell_type": "code",
   "execution_count": 9,
   "metadata": {},
   "outputs": [
    {
     "ename": "IndentationError",
     "evalue": "unindent does not match any outer indentation level (<tokenize>, line 6)",
     "output_type": "error",
     "traceback": [
      "\u001b[0;36m  File \u001b[0;32m\"<tokenize>\"\u001b[0;36m, line \u001b[0;32m6\u001b[0m\n\u001b[0;31m    que = queue.Queue()      # 创建先进先出队列\u001b[0m\n\u001b[0m    ^\u001b[0m\n\u001b[0;31mIndentationError\u001b[0m\u001b[0;31m:\u001b[0m unindent does not match any outer indentation level\n"
     ]
    }
   ],
   "source": [
    "# 先进先出选用队列结构\n",
    "import queue\n",
    "def layerTraverse(head):\n",
    "     if not head:\n",
    "        return None\n",
    "    que = queue.Queue()      # 创建先进先出队列\n",
    "    que.put(head)\n",
    "    while not que.empty():\n",
    "        head = que.get()    # 弹出第一个元素并打印\n",
    "        \n",
    "        if head.left:       # 若该节点存在左子节点,则加入队列（先push左节点）\n",
    "            que.put(head.left)\n",
    "            if head.right:      # 若该节点存在右子节点,则加入队列（再push右节点）\n",
    "                que.put(head.right)\n"
   ]
  },
  {
   "cell_type": "code",
   "execution_count": null,
   "metadata": {},
   "outputs": [],
   "source": []
  }
 ],
 "metadata": {
  "kernelspec": {
   "display_name": "Python 3",
   "language": "python",
   "name": "python3"
  },
  "language_info": {
   "codemirror_mode": {
    "name": "ipython",
    "version": 3
   },
   "file_extension": ".py",
   "mimetype": "text/x-python",
   "name": "python",
   "nbconvert_exporter": "python",
   "pygments_lexer": "ipython3",
   "version": "3.7.3"
  }
 },
 "nbformat": 4,
 "nbformat_minor": 2
}
