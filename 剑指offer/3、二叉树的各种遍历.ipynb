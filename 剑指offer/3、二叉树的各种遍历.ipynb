{
 "cells": [
  {
   "cell_type": "markdown",
   "metadata": {},
   "source": [
    "# 一、前中后序遍历\n"
   ]
  },
  {
   "cell_type": "markdown",
   "metadata": {},
   "source": [
    "## 1、递归法"
   ]
  },
  {
   "cell_type": "code",
   "execution_count": 5,
   "metadata": {},
   "outputs": [],
   "source": [
    "def preorder(root, ans=[]):\n",
    "    if root!=None:\n",
    "        ans.append(root.val)\n",
    "    if root.left:\n",
    "        preorder(root.left, ans)\n",
    "    if root.right:\n",
    "        preorder(root.right, ans)\n",
    "    return ans\n",
    " \n",
    "    \n",
    "def inorder(root, ans=[]):\n",
    "    if root.left:\n",
    "        inorder(root.left, ans)\n",
    "    ans.append(root.val)\n",
    "    if root.right:\n",
    "        inorder(root.right, ans)\n",
    "    return ans\n",
    "\n",
    "def postorder(root, ans=[]):\n",
    "    if root.left:\n",
    "        postorder(root.left, ans)\n",
    "    if root.right:\n",
    "        postorder(root.right, ans)\n",
    "    ans.append(root.val)\n",
    "    \n",
    "    return ans"
   ]
  },
  {
   "cell_type": "markdown",
   "metadata": {},
   "source": [
    "## 2、非递归法"
   ]
  },
  {
   "cell_type": "code",
   "execution_count": 6,
   "metadata": {},
   "outputs": [],
   "source": [
    "def preorder(root):\n",
    "    if root == None:\n",
    "        return []\n",
    "    stack = [root]\n",
    "    result = []\n",
    "    while stack:\n",
    "        node = stack.pop()\n",
    "        if node.right:\n",
    "            stack.append(node.right)\n",
    "        if root.left:\n",
    "            stack.append(node.left)\n",
    "        result.append(node.val)\n",
    "    return result\n",
    "\n",
    "\n",
    "\n",
    "def inorder(root):\n",
    "    if root == None:\n",
    "        return []\n",
    "    stack = []\n",
    "    result = []\n",
    "    while root or stack:\n",
    "        if root:\n",
    "            stack.append(root)\n",
    "            root = root.left\n",
    "        else:\n",
    "            root = stack.pop()\n",
    "            result.append(root.val)\n",
    "            root = root.right\n",
    "    return result\n",
    "\n",
    "\n",
    "def postorder(root):\n",
    "    stack = [root]\n",
    "    stack2 = []\n",
    "    result = []\n",
    "    while len(stack) > 0:\n",
    "        root = stack.pop()\n",
    "        stack2.append(root)\n",
    "        if root.left:\n",
    "            stack.append(root.left)\n",
    "        if root.right:\n",
    "            stack.append(root.right)\n",
    "    while len(stack2) > 0:\n",
    "        node = stack2.pop()\n",
    "        result.append(node.val)\n",
    "    return result\n",
    "\n"
   ]
  },
  {
   "cell_type": "markdown",
   "metadata": {},
   "source": [
    "# 二、层次遍历\n",
    "\n",
    "形式：\n",
    "\n",
    "    [\n",
    "    [1],\n",
    "    [2,3],\n",
    "    [4,5,6,7]\n",
    "    ]"
   ]
  },
  {
   "cell_type": "code",
   "execution_count": 7,
   "metadata": {},
   "outputs": [],
   "source": [
    "def levelOrder(root):\n",
    "    \n",
    "    if root == None:\n",
    "        return []\n",
    "    result = []\n",
    "    level = []\n",
    "    now_list = [root]\n",
    "    next_list = []\n",
    "    while now_list:\n",
    "        while now_list != 0:\n",
    "            temp = now_list.pop(0)\n",
    "            level.append(temp.val)\n",
    "            if temp.left:\n",
    "                next_list.append(temp.left)\n",
    "            if temp.right:\n",
    "                next_list.append(temp.right)\n",
    "        result.append(level)\n",
    "        now_list, next_list = next_list, []\n",
    "        level = []\n",
    "    return result"
   ]
  }
 ],
 "metadata": {
  "kernelspec": {
   "display_name": "Python 3",
   "language": "python",
   "name": "python3"
  },
  "language_info": {
   "codemirror_mode": {
    "name": "ipython",
    "version": 3
   },
   "file_extension": ".py",
   "mimetype": "text/x-python",
   "name": "python",
   "nbconvert_exporter": "python",
   "pygments_lexer": "ipython3",
   "version": "3.7.3"
  }
 },
 "nbformat": 4,
 "nbformat_minor": 2
}
