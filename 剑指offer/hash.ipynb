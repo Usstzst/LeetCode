{
 "cells": [
  {
   "cell_type": "markdown",
   "metadata": {},
   "source": [
    "## 1. 哈希表"
   ]
  },
  {
   "cell_type": "markdown",
   "metadata": {},
   "source": [
    "不知道你有没有好奇过为什么 Python 里的 dict 和 set 查找速度这么快呢，用了什么黑魔法吗？ 经常听别人说哈希表(也叫做散列表)，究竟什么是哈希表呢？这一章我们来介绍哈希表，后续章节我们会看到 Python 中的字典和集合是如何实现的。"
   ]
  },
  {
   "cell_type": "markdown",
   "metadata": {},
   "source": [
    "### 2. 哈希表的工作过程\n"
   ]
  },
  {
   "cell_type": "markdown",
   "metadata": {},
   "source": [
    "数组能通过下标 O(1) 访问，但是删除一个中间元素却要移动其他元素，时间 O(n)。 \n",
    "循环双端链表倒是可以在知道一个节点的情况下迅速删除它，但是查找又成了 O(n)。\n",
    "\n",
    "难道就没有一种方法可以快速定位和删除元素吗？似乎想要快速找到一个元素除了知道下标之外别无他法，于是乎聪明的计算机科学家又想到了一种方法。 能不能给每个元素一种『逻辑下标』，然后直接找到它呢，哈希表就是这种实现。它通过一个哈希函数来计算一个元素应该放在数组哪个位置，当然对于一个 特定的元素，哈希函数每次计算的下标必须要一样才可以，而且范围不能超过给定的数组长度。\n"
   ]
  },
  {
   "cell_type": "markdown",
   "metadata": {},
   "source": [
    "我们还是以书中的例子说明，假如我们有一个数组 T，包含 M=13 个元素，我们可以定义一个简单的哈希函数 h"
   ]
  },
  {
   "cell_type": "code",
   "execution_count": 3,
   "metadata": {},
   "outputs": [],
   "source": [
    " h(key) = key % M"
   ]
  },
  {
   "cell_type": "markdown",
   "metadata": {},
   "source": [
    "这里取模运算使得 h(key) 的结果不会超过数组的长度。我们分别插入以下元素：765, 431, 96, 142, 579, 226, 903, 388"
   ]
  },
  {
   "cell_type": "markdown",
   "metadata": {},
   "source": [
    "### 3. 哈希冲突 (collision)"
   ]
  },
  {
   "cell_type": "markdown",
   "metadata": {},
   "source": [
    "当不同的 key 通过我们的哈希函数[ h(key)=key%M ]计算后得到的下标一样， 这种情况成为哈希冲突。"
   ]
  },
  {
   "cell_type": "markdown",
   "metadata": {},
   "source": [
    "### 3.1. 链接法"
   ]
  },
  {
   "cell_type": "markdown",
   "metadata": {},
   "source": [
    "如果产生冲突了让数组中对应的槽变成一个链式结构。\n",
    "但是如果哈希函数选不好的话，可能就导致冲突太多一个链变得太长，这样查找就不再是 O(1) 的了。"
   ]
  },
  {
   "cell_type": "markdown",
   "metadata": {},
   "source": [
    "### 3.2. 开放寻址法(open addressing)"
   ]
  },
  {
   "cell_type": "markdown",
   "metadata": {},
   "source": [
    "   它的基本思想是当一个槽被占用的时候，采用一种方式来寻找下一个可用的槽。 （这里槽指的是数组中的一个位置），根据找下一个槽的方式不同，分为：\n",
    "\n",
    "    (1)、线性探查(linear probing): 当一个槽被占用，找下一个可用的槽。 h(k,i)=(h’(k)+i) % m,i=0,1,...,m−1\n",
    "\n",
    "    (2)、二次探查(quadratic probing): 当一个槽被占用，以二次方作为偏移量。 h(k,i)=(h′(k)+c1+c2i2) % m,i=0,1,...,m−1\n",
    "\n",
    "    (3)、双重散列(double hashing): 重新计算 hash 结果。 h(k,i)=(h1(k)+ih2(k)) % m"
   ]
  },
  {
   "cell_type": "markdown",
   "metadata": {},
   "source": [
    "### 4. 哈希冲突举例"
   ]
  },
  {
   "cell_type": "code",
   "execution_count": 5,
   "metadata": {},
   "outputs": [
    {
     "name": "stdout",
     "output_type": "stream",
     "text": [
      "h(765) = 765%M = 11\n",
      "h(431) = 431%M = 2\n",
      "h(96) = 96%M = 5\n",
      "h(142) = 142%M = 12\n",
      "h(579) = 579%M = 7\n",
      "\th(226) = 226 % M = 5 collision\n",
      "h(226) = 226%M = 6\n",
      "\th(903) = 903 % M = 6 collision\n",
      "\th(903) = 903 % M = 7 collision\n",
      "h(903) = 903%M = 10\n",
      "\th(388) = 388 % M = 11 collision\n",
      "\th(388) = 388 % M = 12 collision\n",
      "\th(388) = 388 % M = 2 collision\n",
      "\th(388) = 388 % M = 7 collision\n",
      "h(388) = 388%M = 1\n"
     ]
    }
   ],
   "source": [
    "# 哈希冲突\n",
    "# 选一个简单的二次探查函数 h(k,i)=(home+i2)%m，它的意思是如果遇到了冲突，我们就在原始计算的位置不断加上 i 的平方\n",
    "\n",
    "\n",
    "inserted_index_set = set()\n",
    "M = 13\n",
    "\n",
    "def h(key, M=13):\n",
    "    return key % M\n",
    "\n",
    "to_insert = [765, 431, 96, 142, 579, 226, 903, 388]\n",
    "for number in to_insert:\n",
    "    index = h(number)\n",
    "    first_index = index\n",
    "    i = 1\n",
    "    while index in inserted_index_set:\n",
    "        print('\\th({number}) = {number} % M = {index} collision'.format(number=number, index=index))\n",
    "        index = (first_index+i*i) % M\n",
    "        i += 1\n",
    "    else:\n",
    "        print('h({number}) = {number}%M = {index}'.format(number=number, index=index))\n",
    "        inserted_index_set.add(index)\n",
    "        "
   ]
  }
 ],
 "metadata": {
  "kernelspec": {
   "display_name": "Python 3",
   "language": "python",
   "name": "python3"
  },
  "language_info": {
   "codemirror_mode": {
    "name": "ipython",
    "version": 3
   },
   "file_extension": ".py",
   "mimetype": "text/x-python",
   "name": "python",
   "nbconvert_exporter": "python",
   "pygments_lexer": "ipython3",
   "version": "3.7.0"
  }
 },
 "nbformat": 4,
 "nbformat_minor": 2
}
