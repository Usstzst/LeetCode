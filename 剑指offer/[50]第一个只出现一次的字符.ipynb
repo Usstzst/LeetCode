{
 "cells": [
  {
   "cell_type": "markdown",
   "metadata": {},
   "source": [
    "# 题目原意"
   ]
  },
  {
   "cell_type": "raw",
   "metadata": {},
   "source": [
    "字符串中第一个只出现一次的字符。\n",
    "\n",
    "样例：\n",
    "输入“abaccdeff”\n",
    "输出“b”"
   ]
  },
  {
   "cell_type": "code",
   "execution_count": 1,
   "metadata": {},
   "outputs": [],
   "source": [
    "import collections\n",
    "\n",
    "def FirstNotRepeatingChar(s):\n",
    "    # write code here\n",
    "    dic = collections.Counter(s)\n",
    "\n",
    "    for i in s:\n",
    "        if dic[i]==1:\n",
    "            return i\n",
    "        \n",
    "    return -1\n",
    "\n"
   ]
  },
  {
   "cell_type": "markdown",
   "metadata": {},
   "source": [
    "## 方法二：第一次扫描的时间复杂度是O(n)，第二次扫描读出第一个数字的时间复杂度是O(1) \n",
    "\n",
    "由于字符是一个长度为8的数据类型，因此有256种可能性，所以创建大小为256，以字符ASCII码为键值的哈希表，空间复杂度为O(1)。\n"
   ]
  },
  {
   "cell_type": "code",
   "execution_count": 3,
   "metadata": {},
   "outputs": [],
   "source": [
    "\n",
    "def FirstNotRepeatingChar(s):\n",
    "    # write code here\n",
    "    hash_map = [0]*256\n",
    "\n",
    "    for x in s:\n",
    "        hash_map[ord(x)] += 1\n",
    "\n",
    "    for x in s:\n",
    "        if hash_map[ord(x)] == 1:\n",
    "            return s.index(x)\n",
    "\n",
    "    return -1\n",
    "\n"
   ]
  },
  {
   "cell_type": "markdown",
   "metadata": {},
   "source": [
    "## 方法三：字符流中只出现一次的字符"
   ]
  },
  {
   "cell_type": "code",
   "execution_count": null,
   "metadata": {},
   "outputs": [],
   "source": [
    "class Solution:  \n",
    "    def __init__(self):\n",
    "        self.s = ''\n",
    "        self.dic = {}\n",
    "    \n",
    "    def firstAppearingOnce(self):\n",
    "        \"\"\"\n",
    "        :rtype: str\n",
    "        \"\"\"\n",
    "        for x in self.s:\n",
    "            if self.dic[x] == 1:\n",
    "                return x    \n",
    "        return '#'\n",
    "        \n",
    "    def insert(self, char):\n",
    "        \"\"\"\n",
    "        :type char: str\n",
    "        :rtype: void\n",
    "        \"\"\"\n",
    "        self.s += char\n",
    "        if char in self.dic:\n",
    "            self.dic[char] += 1\n",
    "        else:\n",
    "            self.dic[char] = 1\n"
   ]
  }
 ],
 "metadata": {
  "kernelspec": {
   "display_name": "Python 3",
   "language": "python",
   "name": "python3"
  },
  "language_info": {
   "codemirror_mode": {
    "name": "ipython",
    "version": 3
   },
   "file_extension": ".py",
   "mimetype": "text/x-python",
   "name": "python",
   "nbconvert_exporter": "python",
   "pygments_lexer": "ipython3",
   "version": "3.7.3"
  }
 },
 "nbformat": 4,
 "nbformat_minor": 2
}
