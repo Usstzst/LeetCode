{
 "cells": [
  {
   "cell_type": "markdown",
   "metadata": {},
   "source": [
    "# **面试题16：数值的整数次方"
   ]
  },
  {
   "cell_type": "code",
   "execution_count": 4,
   "metadata": {},
   "outputs": [],
   "source": [
    "def Pow(base, exponent):\n",
    "    if base==0:\n",
    "        return 0\n",
    "    if exponent == 1:\n",
    "        return base\n",
    "    if exponent < 0:\n",
    "        exponent = -exponent\n",
    "        base = 1.0/base\n",
    "    \n",
    "    result = 1\n",
    "    for i in range(exponent):\n",
    "        result *= base\n",
    "    return result\n",
    "    "
   ]
  },
  {
   "cell_type": "markdown",
   "metadata": {},
   "source": [
    "# **面试题17：打印从1到最大的n位数\n"
   ]
  },
  {
   "cell_type": "code",
   "execution_count": 11,
   "metadata": {},
   "outputs": [],
   "source": [
    "#需要考虑大数溢出问题\n",
    "def print_max_n(n):\n",
    "    for i in range(10 ** n):\n",
    "        print(i)"
   ]
  },
  {
   "cell_type": "markdown",
   "metadata": {},
   "source": [
    "# **面试题21：调整数组顺序使奇数位于偶数前面\n",
    "\n",
    "\n",
    "思路：使用两个指针，前后各一个，为了更好的扩展性，可以把判断奇偶部分抽取出来"
   ]
  },
  {
   "cell_type": "code",
   "execution_count": 37,
   "metadata": {},
   "outputs": [
    {
     "name": "stdout",
     "output_type": "stream",
     "text": [
      "[7, 3, 5, 4, 6, 2]\n"
     ]
    }
   ],
   "source": [
    "def reorder(nums):\n",
    "    \n",
    "    def is_even(num):\n",
    "        return (num & 1) == 0\n",
    "    \n",
    "    left, right = 0, len(nums) - 1\n",
    "    while left < right:\n",
    "        while not is_even(nums[left]):\n",
    "            left += 1\n",
    "        while is_even(nums[right]):\n",
    "            right -= 1\n",
    "        if left < right:\n",
    "            nums[left], nums[right] = nums[right], nums[left]\n",
    "    return nums\n",
    "\n",
    "\n",
    "if __name__=='__main__':\n",
    "    print(reorder([2,3,6,4,5,7]))"
   ]
  },
  {
   "cell_type": "code",
   "execution_count": null,
   "metadata": {},
   "outputs": [],
   "source": []
  }
 ],
 "metadata": {
  "kernelspec": {
   "display_name": "Python 3",
   "language": "python",
   "name": "python3"
  },
  "language_info": {
   "codemirror_mode": {
    "name": "ipython",
    "version": 3
   },
   "file_extension": ".py",
   "mimetype": "text/x-python",
   "name": "python",
   "nbconvert_exporter": "python",
   "pygments_lexer": "ipython3",
   "version": "3.7.3"
  }
 },
 "nbformat": 4,
 "nbformat_minor": 2
}
