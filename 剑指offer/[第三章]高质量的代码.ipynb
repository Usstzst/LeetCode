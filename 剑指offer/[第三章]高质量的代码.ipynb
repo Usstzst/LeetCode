{
 "cells": [
  {
   "cell_type": "markdown",
   "metadata": {},
   "source": [
    "# **面试题16：数值的整数次方"
   ]
  },
  {
   "cell_type": "code",
   "execution_count": 4,
   "metadata": {},
   "outputs": [],
   "source": [
    "def Pow(base, exponent):\n",
    "    if base==0:\n",
    "        return 0\n",
    "    if exponent == 1:\n",
    "        return base\n",
    "    if exponent < 0:\n",
    "        exponent = -exponent\n",
    "        base = 1.0/base\n",
    "    \n",
    "    result = 1\n",
    "    for i in range(exponent):\n",
    "        result *= base\n",
    "    return result\n",
    "    "
   ]
  },
  {
   "cell_type": "markdown",
   "metadata": {},
   "source": [
    "# **面试题17：打印从1到最大的n位数\n"
   ]
  },
  {
   "cell_type": "code",
   "execution_count": 11,
   "metadata": {},
   "outputs": [],
   "source": [
    "#需要考虑大数溢出问题\n",
    "def print_max_n(n):\n",
    "    for i in range(10 ** n):\n",
    "        print(i)"
   ]
  },
  {
   "cell_type": "markdown",
   "metadata": {},
   "source": [
    "# ** 面试题18：删除链表的节点"
   ]
  },
  {
   "cell_type": "markdown",
   "metadata": {},
   "source": [
    "要求：O(1)时间删除链表结点\n",
    "\n",
    "思路：如果有后续结点，后续结点的值前移，删除后续结点，如果没有，只能顺序查找了\n",
    "\n",
    "## 值得思考的地方：\n",
    "\n",
    "**当我们想要删除一个节点时，并不一定要删除这个节点本身，可以先把下一个节点的内容复制出来覆盖被删除节点的内容，然后吧下一个节点删除。**"
   ]
  },
  {
   "cell_type": "code",
   "execution_count": 22,
   "metadata": {},
   "outputs": [
    {
     "name": "stdout",
     "output_type": "stream",
     "text": [
      "2\n"
     ]
    }
   ],
   "source": [
    "# class ListNode(object):\n",
    "#     def __init__(self,x):\n",
    "#         self.val=x\n",
    "#         self.next=None\n",
    "        \n",
    "def delete_node(link, node):\n",
    "    if node == link:  # 只有一个结点\n",
    "        del node\n",
    "    if node.next is None:  # node是尾结点\n",
    "        while link:\n",
    "            if link.next == node:\n",
    "                link.next = None\n",
    "            link = link.next\n",
    "    else:\n",
    "        node.val = node.next.val\n",
    "        n_node = node.next\n",
    "        node.next = n_node.next\n",
    "        del n_node\n",
    "        \n",
    "\n",
    "# if __name__ == '__main__':\n",
    "#     node1 = ListNode(1)\n",
    "#     node1.next = ListNode(2)\n",
    "#     node1.next.next = ListNode(3)\n",
    "\n",
    "#     delete_node(node1,ListNode(2))\n",
    "\n",
    "#     print(node1.next.val)        "
   ]
  },
  {
   "cell_type": "markdown",
   "metadata": {},
   "source": [
    "## 扩展：删除排序链表中重复的节点"
   ]
  },
  {
   "cell_type": "code",
   "execution_count": 24,
   "metadata": {},
   "outputs": [],
   "source": [
    "def delete_duplication(pHead):\n",
    "    \n",
    "    first = ListNode(-1)\n",
    "    \n",
    "    first.next = pHead\n",
    "    curr = pHead\n",
    "    last = first\n",
    "    while curr and curr.next:\n",
    "        if curr.val != curr.next.val:\n",
    "            curr = curr.next\n",
    "            last = last.next\n",
    "        else:\n",
    "            val = curr.val\n",
    "            while curr and curr.val == val:\n",
    "                curr = curr.next\n",
    "            last.next = curr\n",
    "    return first.next\n"
   ]
  },
  {
   "cell_type": "markdown",
   "metadata": {},
   "source": [
    "# **面试题21：调整数组顺序使奇数位于偶数前面\n",
    "\n",
    "\n",
    "思路：使用两个指针，前后各一个，为了更好的扩展性，可以把判断奇偶部分抽取出来"
   ]
  },
  {
   "cell_type": "code",
   "execution_count": 37,
   "metadata": {},
   "outputs": [
    {
     "name": "stdout",
     "output_type": "stream",
     "text": [
      "[7, 3, 5, 4, 6, 2]\n"
     ]
    }
   ],
   "source": [
    "def reorder(nums):\n",
    "    \n",
    "    def is_even(num):\n",
    "        return (num & 1) == 0\n",
    "    \n",
    "    left, right = 0, len(nums) - 1\n",
    "    while left < right:\n",
    "        while not is_even(nums[left]):\n",
    "            left += 1\n",
    "        while is_even(nums[right]):\n",
    "            right -= 1\n",
    "        if left < right:\n",
    "            nums[left], nums[right] = nums[right], nums[left]\n",
    "    return nums\n",
    "\n",
    "\n",
    "if __name__=='__main__':\n",
    "    print(reorder([2,3,6,4,5,7]))"
   ]
  },
  {
   "cell_type": "markdown",
   "metadata": {},
   "source": [
    "# **面试题22：链表中倒数第k个节点\n",
    "\n",
    "\n",
    "思路：\n",
    "\n",
    "* 两个指针\n",
    "\n",
    "* 第一个指针从链表的头指针开始遍历向前走k-1步，第二个指针保持不动\n",
    "\n",
    "* 从第k 步开始，第二个指针也开始从头指针开始遍历。\n",
    "\n",
    "* 由于两指针之间的距离保持在k-1，所以当第一个指针到达尾结点时，第二个纸质到达倒数第k个节点\n"
   ]
  },
  {
   "cell_type": "code",
   "execution_count": 38,
   "metadata": {},
   "outputs": [],
   "source": [
    "# def findKthToTail(link, k):\n",
    "#     l = []\n",
    "#     while head!= None:\n",
    "#         l.append(head.val)\n",
    "#         head = head.next\n",
    "#     if k>len(l) or k <1:\n",
    "#         return None\n",
    "#     return l[-k]\n",
    "\n",
    "\n",
    "def findKthToTail(link, k):\n",
    "    if not link or not k:\n",
    "        return None\n",
    "    left, right = head, head\n",
    "    for i in range(k):\n",
    "        if not right.next:\n",
    "            return None\n",
    "        right = right.next\n",
    "    while right.next:\n",
    "        left = left.next\n",
    "        right = right.next\n",
    "    return left\n",
    "        \n"
   ]
  },
  {
   "cell_type": "code",
   "execution_count": null,
   "metadata": {},
   "outputs": [],
   "source": []
  }
 ],
 "metadata": {
  "kernelspec": {
   "display_name": "Python 3",
   "language": "python",
   "name": "python3"
  },
  "language_info": {
   "codemirror_mode": {
    "name": "ipython",
    "version": 3
   },
   "file_extension": ".py",
   "mimetype": "text/x-python",
   "name": "python",
   "nbconvert_exporter": "python",
   "pygments_lexer": "ipython3",
   "version": "3.7.3"
  }
 },
 "nbformat": 4,
 "nbformat_minor": 2
}
