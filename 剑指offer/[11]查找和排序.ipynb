{
 "cells": [
  {
   "cell_type": "markdown",
   "metadata": {},
   "source": [
    "# ** 面试题11：旋转数组的最小数字"
   ]
  },
  {
   "cell_type": "markdown",
   "metadata": {},
   "source": [
    "把一个数组最开始的若干个元素搬到数组的末尾，我们称之为数组的旋转。 输入一个**非减排序的数组**的一个旋转，输出旋转数组的最小元素。 例如数组{3,4,5,1,2}为{1,2,3,4,5}的一个旋转，该数组的最小值为1。 NOTE：给出的所有元素都大于0，若数组大小为0，请返回0。\n",
    "\n",
    "\n",
    "由于数组非减，所以旋转之后数组仍然保持一定的有序性。"
   ]
  },
  {
   "cell_type": "code",
   "execution_count": 6,
   "metadata": {},
   "outputs": [],
   "source": [
    "# 方法一： 顺序查找\n",
    "def find_min(nums):\n",
    "        if nums == []:\n",
    "            return 0\n",
    "        for i in range(1, len(nums)):\n",
    "            if nums[i] < nums[i-1]:\n",
    "                return nums[i]\n",
    "        return nums[0]"
   ]
  },
  {
   "cell_type": "code",
   "execution_count": 5,
   "metadata": {},
   "outputs": [],
   "source": [
    "# 方法二：二分查找（旋转数组非减，所以旋转之后的数组仍然保持了一定的有序性，所以可以用二分查找法）\n",
    "\n",
    "def find_min(nums):\n",
    "    if not nums:\n",
    "        return False\n",
    "    N = len(nums)\n",
    "    left, right = 0, N-1\n",
    "    while nums[left]>=nums[right]:\n",
    "        if right - left == 1:\n",
    "            return nums[right]\n",
    "        mid = (left + right) // 2\n",
    "        if nums[left]==nums[mid]==nums[right]:\n",
    "            return nums[mid]\n",
    "        if nums[left]<=nums[mid]:\n",
    "            left = mid\n",
    "        if nums[right] >= nums[mid]:\n",
    "            right = mid\n",
    "    return nums[0]\n"
   ]
  },
  {
   "cell_type": "markdown",
   "metadata": {},
   "source": [
    "# ** 面试题53：在排序树组中查找数字\n",
    "\n",
    "统计一个数字在排序数组中出现的次数。\n",
    "例如：排序树组[1,2,3,3,3,3,4,5], \n"
   ]
  },
  {
   "cell_type": "markdown",
   "metadata": {},
   "source": [
    "## 方法一：顺序查找"
   ]
  },
  {
   "cell_type": "code",
   "execution_count": 11,
   "metadata": {},
   "outputs": [],
   "source": [
    "def get_k_counts(nums, k):\n",
    "    cnt = 0\n",
    "    for num in nums:\n",
    "        if num == k:\n",
    "            cnt+=1\n",
    "    return cnt\n",
    "        "
   ]
  },
  {
   "cell_type": "markdown",
   "metadata": {},
   "source": [
    "## 方法二：二分查找\n",
    "\n",
    "\n",
    "1、如果中间数字比k大，那么k只有可能出现在数组的前半段；\n",
    "\n",
    "2、如果中间数字比k小，那么k只有可能出现在数组的后半段；\n",
    "\n",
    "3、如果中间的数字等于k，先判断这个数字是不是第一个k?\n",
    "\n",
    "    * 如果中间数字的前一个数字不是k,那么此时的中间数字就是第一个k；\n",
    "    \n",
    "    * 如果中间数字的前一个数字是k ,那么第一个k一定在数组的前半段，下一轮仍然需要在数组的前半段查找。\n"
   ]
  },
  {
   "cell_type": "code",
   "execution_count": 10,
   "metadata": {},
   "outputs": [],
   "source": [
    "def get_k_counts(nums, k):\n",
    "    first = get_first_k(nums, k)\n",
    "    last = get_last_k(nums, k)\n",
    "    if first < 0 and last < 0:\n",
    "        return 0\n",
    "    if first < 0 or last < 0:\n",
    "        return 1\n",
    "    return last - first + 1\n",
    "\n",
    "\n",
    "def get_first_k(nums, k):\n",
    "    left, right = 0, len(nums) - 1\n",
    "    while left <= right:\n",
    "        mid = (left + right) / 2\n",
    "        if nums[mid] < k:\n",
    "            if mid + 1 < len(nums) and nums[mid+1] == k:\n",
    "                return mid + 1\n",
    "            left = mid + 1\n",
    "        elif nums[mid] == k:\n",
    "            if mid - 1 < 0 or (mid - 1 >= 0 and nums[mid-1] < k):\n",
    "                return mid\n",
    "            right = mid - 1\n",
    "        else:\n",
    "            right = mid - 1\n",
    "    return -1\n",
    "\n",
    "\n",
    "def get_last_k(nums, k):\n",
    "    left, right = 0, len(nums) - 1\n",
    "    while left <= right:\n",
    "        mid = (left + right) / 2\n",
    "        if nums[mid] < k:\n",
    "            left = mid + 1\n",
    "        elif nums[mid] == k:\n",
    "            if mid + 1 == len(nums) or (mid + 1 < len(nums) and nums[mid+1] > k):\n",
    "                return mid\n",
    "            left = mid + 1\n",
    "        else:\n",
    "            if mid - 1 >= 0 and nums[mid-1] == k:\n",
    "                return mid - 1\n",
    "            right = mid - 1\n",
    "    return -1\n"
   ]
  },
  {
   "cell_type": "markdown",
   "metadata": {},
   "source": [
    "# ** 面试题33：二叉搜索树的后序遍历序列\n",
    "\n",
    "题目描述：输入一个整数数组，判断该数组是不是某二叉搜索树的后序遍历结果。如果是，返回True,否则返回False。假设输入数组的数字互不相同。\n",
    "\n",
    "示例1：\n",
    "\n",
    "输入:[5,7,6,9,11,10,8]\n",
    "\n",
    "输出：False\n",
    "\n",
    "示例2：\n",
    "\n",
    "输入：[7,4,6,5]\n",
    "\n",
    "输出：False\n",
    "\n",
    "\n",
    "思路： 在后序遍历得到的序列中，最后一个数字是树的根节点的值。数组中的前面数字可以分为两部分：第一部分是左子树节点的值，他们都小于根节点；第二部分是右子树的值，他们都大于根节点"
   ]
  },
  {
   "cell_type": "code",
   "execution_count": 14,
   "metadata": {},
   "outputs": [],
   "source": [
    "def VerifySequenceOfBST(nums):\n",
    "    if not nums:\n",
    "        return False\n",
    "    N = len(nums)\n",
    "    root = nums[-1]\n",
    "    for i in range(N):\n",
    "        if nums[i]>root:\n",
    "            break\n",
    "    for j in range(i, N):\n",
    "        if nums[j]<root:\n",
    "            return False\n",
    "    left = True\n",
    "    if i>0:\n",
    "        left = VerifySequenceOfBST(nums[:i])\n",
    "    right = True\n",
    "    if i<N-1:\n",
    "        right = VerifySequenceOfBST(nums[i:-1])\n",
    "    \n",
    "    return left and right\n",
    "\n",
    "\n",
    "# if __name__ == '__main__':\n",
    "#     nums = [5,7,6,9,11,10,8]\n",
    "#     print(VerifySequenceOfBST(nums))"
   ]
  },
  {
   "cell_type": "markdown",
   "metadata": {},
   "source": [
    "# ** 面试题36：二叉搜索树与双向链表\n",
    "\n",
    "题目描述：输入一棵二叉搜索树，将该二叉搜索树转换成一个排序的双向链表。要求不能创建任何新的结点，只能调整树中结点指针的指向。\n",
    "     \n",
    "思路：递归，将特定节点的左指针指向其左子树中的最后子节点，将其右指针指向其右子树中的最左子节点，依次递归，调整好全部节点的指针指向。"
   ]
  },
  {
   "cell_type": "code",
   "execution_count": 16,
   "metadata": {},
   "outputs": [],
   "source": [
    "class Solution(object):\n",
    "\n",
    "    @staticmethod\n",
    "    def convert(tree):\n",
    "        \"\"\"结点转换\"\"\"\n",
    "        if not tree:\n",
    "            return None\n",
    "        p_last = Solution.convert_nodes(tree, None)\n",
    "        while p_last and p_last.left:  # 获取链表头结点\n",
    "            p_last = p_last.left\n",
    "        return p_last\n",
    "\n",
    "    @staticmethod\n",
    "    def convert_nodes(tree, last):\n",
    "        if not tree:\n",
    "            return None\n",
    "        if tree.left:\n",
    "            last = Solution.convert_nodes(tree.left, last)\n",
    "        if last:\n",
    "            last.right = tree\n",
    "        tree.left = last\n",
    "        last = tree\n",
    "        if tree.right:\n",
    "            last = Solution.convert_nodes(tree.right, last)\n",
    "        return last"
   ]
  },
  {
   "cell_type": "markdown",
   "metadata": {},
   "source": [
    "# **39、数组中出现次数超过一半的数字"
   ]
  },
  {
   "cell_type": "code",
   "execution_count": 24,
   "metadata": {},
   "outputs": [],
   "source": [
    "# 算法复杂度：O(nlogn)\n",
    "\n",
    "def MoreThanHalfNum(nums):\n",
    "    nums.sort()\n",
    "    return num[len(nums)//2]"
   ]
  },
  {
   "cell_type": "code",
   "execution_count": 31,
   "metadata": {},
   "outputs": [],
   "source": [
    "# 算法复杂度： O(n)\n",
    "\n",
    "def MoreThanHalfNum(nums):\n",
    "    res = nums[0]\n",
    "    time = 1\n",
    "    for i in range(1, len(nums)):\n",
    "        if time==0:\n",
    "            res = nums[i]\n",
    "            time = 1\n",
    "        elif nums[i]== res:\n",
    "            time += 1\n",
    "        else:\n",
    "            time -= 1\n",
    "    return res"
   ]
  },
  {
   "cell_type": "code",
   "execution_count": 32,
   "metadata": {},
   "outputs": [],
   "source": [
    "def get_more_half_num(nums):\n",
    "    hashes = dict()\n",
    "    length = len(nums)\n",
    "    for n in nums:\n",
    "        hashes[n] = hashes[n] + 1 if hashes.get(n) else 1\n",
    "        if hashes[n] > length / 2:\n",
    "            return n\n"
   ]
  },
  {
   "cell_type": "markdown",
   "metadata": {},
   "source": [
    "# **40、最小的k个数\n",
    "\n",
    "要求：求数组中出现次数超过一半的数字\n",
    "\n",
    "思路: 使用heapq，该模块是一个最小堆，需要转化成最大堆，只要在入堆的时候把值取反就可以转化成最大堆(仅适用于数字)\n",
    "\n",
    "思路二: 数组比较小的时候可以直接使用heapq的nsmallest方法\n",
    "\n"
   ]
  },
  {
   "cell_type": "code",
   "execution_count": 34,
   "metadata": {},
   "outputs": [],
   "source": [
    "import heapq\n",
    "\n",
    "def get_least_k_nums(nums, k):\n",
    "    # 数组比较小的时候可以直接使用\n",
    "    return heapq.nsmallest(k, nums)"
   ]
  },
  {
   "cell_type": "code",
   "execution_count": 37,
   "metadata": {},
   "outputs": [],
   "source": [
    "def get_least_k_nums(nums, k):\n",
    "    nums.sort()\n",
    "    return [nums[i] for i in range(k)]\n",
    "    "
   ]
  }
 ],
 "metadata": {
  "kernelspec": {
   "display_name": "Python 3",
   "language": "python",
   "name": "python3"
  },
  "language_info": {
   "codemirror_mode": {
    "name": "ipython",
    "version": 3
   },
   "file_extension": ".py",
   "mimetype": "text/x-python",
   "name": "python",
   "nbconvert_exporter": "python",
   "pygments_lexer": "ipython3",
   "version": "3.7.3"
  }
 },
 "nbformat": 4,
 "nbformat_minor": 2
}
