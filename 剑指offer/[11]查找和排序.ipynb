{
 "cells": [
  {
   "cell_type": "markdown",
   "metadata": {},
   "source": [
    "# ** 面试题11：旋转数组的最小数字"
   ]
  },
  {
   "cell_type": "markdown",
   "metadata": {},
   "source": [
    "把一个数组最开始的若干个元素搬到数组的末尾，我们称之为数组的旋转。 输入一个**非减排序的数组**的一个旋转，输出旋转数组的最小元素。 例如数组{3,4,5,1,2}为{1,2,3,4,5}的一个旋转，该数组的最小值为1。 NOTE：给出的所有元素都大于0，若数组大小为0，请返回0。\n",
    "\n",
    "\n",
    "由于数组非减，所以旋转之后数组仍然保持一定的有序性。"
   ]
  },
  {
   "cell_type": "code",
   "execution_count": 6,
   "metadata": {},
   "outputs": [],
   "source": [
    "# 方法一： 顺序查找\n",
    "def find_min(nums):\n",
    "        if nums == []:\n",
    "            return 0\n",
    "        for i in range(1, len(nums)):\n",
    "            if nums[i] < nums[i-1]:\n",
    "                return nums[i]\n",
    "        return nums[0]"
   ]
  },
  {
   "cell_type": "code",
   "execution_count": 9,
   "metadata": {},
   "outputs": [],
   "source": [
    "# 方法二：二分查找（旋转数组非减，所以旋转之后的数组仍然保持了一定的有序性，所以可以用二分查找法）\n",
    "\n",
    "def find_min(nums):\n",
    "    if not nums:\n",
    "        return False\n",
    "    N = len(nums)\n",
    "    left, right = 0, N-1\n",
    "    while nums[left]>=nums[right]:\n",
    "        if right - left == 1:\n",
    "            return nums[right]\n",
    "        mid = (left + right) / 2\n",
    "        if nums[left]==nums[mid]==nums[right]:\n",
    "            return min(nums[mid])\n",
    "        if nums[left]<=nums[mid]:\n",
    "            left = mid\n",
    "        if nums[right] >= nums[mid]:\n",
    "            right = mid\n",
    "    return nums[0]\n"
   ]
  },
  {
   "cell_type": "markdown",
   "metadata": {},
   "source": [
    "# ** 面试题53：在排序树组中查找数字\n",
    "\n",
    "统计一个数字在排序数组中出现的次数。\n",
    "例如：排序树组[1,2,3,3,3,3,4,5], \n"
   ]
  },
  {
   "cell_type": "markdown",
   "metadata": {},
   "source": [
    "## 方法一：顺序查找"
   ]
  },
  {
   "cell_type": "code",
   "execution_count": 11,
   "metadata": {},
   "outputs": [],
   "source": [
    "def get_k_counts(nums, k):\n",
    "    cnt = 0\n",
    "    for num in nums:\n",
    "        if num == k:\n",
    "            cnt+=1\n",
    "    return cnt\n",
    "        "
   ]
  },
  {
   "cell_type": "markdown",
   "metadata": {},
   "source": [
    "## 方法二：二分查找\n",
    "\n",
    "\n",
    "1、如果中间数字比k大，那么k只有可能出现在数组的前半段；\n",
    "\n",
    "2、如果中间数字比k小，那么k只有可能出现在数组的后半段；\n",
    "\n",
    "3、如果中间的数字等于k，先判断这个数字是不是第一个k?\n",
    "\n",
    "    * 如果中间数字的前一个数字不是k,那么此时的中间数字就是第一个k；\n",
    "    \n",
    "    * 如果中间数字的前一个数字是k ,那么第一个k一定在数组的前半段，下一轮仍然需要在数组的前半段查找。\n"
   ]
  },
  {
   "cell_type": "code",
   "execution_count": 10,
   "metadata": {},
   "outputs": [],
   "source": [
    "def get_k_counts(nums, k):\n",
    "    first = get_first_k(nums, k)\n",
    "    last = get_last_k(nums, k)\n",
    "    if first < 0 and last < 0:\n",
    "        return 0\n",
    "    if first < 0 or last < 0:\n",
    "        return 1\n",
    "    return last - first + 1\n",
    "\n",
    "\n",
    "def get_first_k(nums, k):\n",
    "    left, right = 0, len(nums) - 1\n",
    "    while left <= right:\n",
    "        mid = (left + right) / 2\n",
    "        if nums[mid] < k:\n",
    "            if mid + 1 < len(nums) and nums[mid+1] == k:\n",
    "                return mid + 1\n",
    "            left = mid + 1\n",
    "        elif nums[mid] == k:\n",
    "            if mid - 1 < 0 or (mid - 1 >= 0 and nums[mid-1] < k):\n",
    "                return mid\n",
    "            right = mid - 1\n",
    "        else:\n",
    "            right = mid - 1\n",
    "    return -1\n",
    "\n",
    "\n",
    "def get_last_k(nums, k):\n",
    "    left, right = 0, len(nums) - 1\n",
    "    while left <= right:\n",
    "        mid = (left + right) / 2\n",
    "        if nums[mid] < k:\n",
    "            left = mid + 1\n",
    "        elif nums[mid] == k:\n",
    "            if mid + 1 == len(nums) or (mid + 1 < len(nums) and nums[mid+1] > k):\n",
    "                return mid\n",
    "            left = mid + 1\n",
    "        else:\n",
    "            if mid - 1 >= 0 and nums[mid-1] == k:\n",
    "                return mid - 1\n",
    "            right = mid - 1\n",
    "    return -1\n"
   ]
  },
  {
   "cell_type": "markdown",
   "metadata": {},
   "source": [
    "# ** 面试题33：二叉搜索树的后序遍历序列"
   ]
  },
  {
   "cell_type": "code",
   "execution_count": null,
   "metadata": {},
   "outputs": [],
   "source": []
  },
  {
   "cell_type": "code",
   "execution_count": null,
   "metadata": {},
   "outputs": [],
   "source": []
  },
  {
   "cell_type": "code",
   "execution_count": null,
   "metadata": {},
   "outputs": [],
   "source": []
  },
  {
   "cell_type": "markdown",
   "metadata": {},
   "source": [
    "# ** 面试题36：二叉搜索树与双向链表"
   ]
  },
  {
   "cell_type": "code",
   "execution_count": null,
   "metadata": {},
   "outputs": [],
   "source": []
  }
 ],
 "metadata": {
  "kernelspec": {
   "display_name": "Python 3",
   "language": "python",
   "name": "python3"
  },
  "language_info": {
   "codemirror_mode": {
    "name": "ipython",
    "version": 3
   },
   "file_extension": ".py",
   "mimetype": "text/x-python",
   "name": "python",
   "nbconvert_exporter": "python",
   "pygments_lexer": "ipython3",
   "version": "3.7.3"
  }
 },
 "nbformat": 4,
 "nbformat_minor": 2
}
