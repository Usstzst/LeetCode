{
 "cells": [
  {
   "cell_type": "markdown",
   "metadata": {},
   "source": [
    "# **面试题16：数值的整数次方"
   ]
  },
  {
   "cell_type": "code",
   "execution_count": 4,
   "metadata": {},
   "outputs": [],
   "source": [
    "def Pow(base, exponent):\n",
    "    if base==0:\n",
    "        return 0\n",
    "    if exponent == 1:\n",
    "        return base\n",
    "    if exponent < 0:\n",
    "        exponent = -exponent\n",
    "        base = 1.0/base\n",
    "    \n",
    "    result = 1\n",
    "    for i in range(exponent):\n",
    "        result *= base\n",
    "    return result\n",
    "    "
   ]
  },
  {
   "cell_type": "markdown",
   "metadata": {},
   "source": [
    "# **面试题17：打印从1到最大的n位数\n"
   ]
  },
  {
   "cell_type": "code",
   "execution_count": 11,
   "metadata": {},
   "outputs": [],
   "source": [
    "#需要考虑大数溢出问题\n",
    "def print_max_n(n):\n",
    "    for i in range(10 ** n):\n",
    "        print(i)"
   ]
  },
  {
   "cell_type": "markdown",
   "metadata": {},
   "source": [
    "# ** 面试题18：删除链表的节点"
   ]
  },
  {
   "cell_type": "markdown",
   "metadata": {},
   "source": [
    "要求：O(1)时间删除链表结点\n",
    "\n",
    "思路：如果有后续结点，后续结点的值前移，删除后续结点，如果没有，只能顺序查找了"
   ]
  },
  {
   "cell_type": "code",
   "execution_count": 22,
   "metadata": {},
   "outputs": [
    {
     "name": "stdout",
     "output_type": "stream",
     "text": [
      "2\n"
     ]
    }
   ],
   "source": [
    "class ListNode(object):\n",
    "    def __init__(self,x):\n",
    "        self.val=x\n",
    "        self.next=None\n",
    "        \n",
    "def delete_node(link, node):\n",
    "    if node == link:  # 只有一个结点\n",
    "        del node\n",
    "    if node.next is None:  # node是尾结点\n",
    "        while link:\n",
    "            if link.next == node:\n",
    "                link.next = None\n",
    "            link = link.next\n",
    "    else:\n",
    "        node.val = node.next.val\n",
    "        n_node = node.next\n",
    "        node.next = n_node.next\n",
    "        del n_node\n",
    "        \n",
    "\n",
    "if __name__ == '__main__':\n",
    "    node1 = ListNode(1)\n",
    "    node1.next = ListNode(2)\n",
    "    node1.next.next = ListNode(3)\n",
    "\n",
    "    delete_node(node1,ListNode(2))\n",
    "\n",
    "    print(node1.next.val)        "
   ]
  },
  {
   "cell_type": "code",
   "execution_count": null,
   "metadata": {},
   "outputs": [],
   "source": []
  }
 ],
 "metadata": {
  "kernelspec": {
   "display_name": "Python 3",
   "language": "python",
   "name": "python3"
  },
  "language_info": {
   "codemirror_mode": {
    "name": "ipython",
    "version": 3
   },
   "file_extension": ".py",
   "mimetype": "text/x-python",
   "name": "python",
   "nbconvert_exporter": "python",
   "pygments_lexer": "ipython3",
   "version": "3.7.3"
  }
 },
 "nbformat": 4,
 "nbformat_minor": 2
}
