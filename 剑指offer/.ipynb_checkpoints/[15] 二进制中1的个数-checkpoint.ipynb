{
 "cells": [
  {
   "cell_type": "markdown",
   "metadata": {},
   "source": [
    "# ** 面试题15：二进制中1的个数\n",
    "\n",
    "请实现一个函数，输入一个整数，输出该数二进制表示中1的个数。\n",
    "\n",
    "比如：9 二进制是 1001， 有两位1，所以输出2\n",
    "\n",
    "思路：把一个整数减去1，再和原整数做“与运算”，会把该整数最右边的1变成0。那么一个整数的二进制中表示中有多少个1，就可以进行多少次这样的操作。"
   ]
  },
  {
   "cell_type": "code",
   "execution_count": 7,
   "metadata": {},
   "outputs": [],
   "source": [
    "def NumberOf1(n):\n",
    "    # write code here\n",
    "    count=0\n",
    "    if n < 0:\n",
    "        n=n & 0xffffffff\n",
    "    while (n):\n",
    "        n=(n-1) & n\n",
    "        count += 1\n",
    "    return count\n"
   ]
  }
 ],
 "metadata": {
  "kernelspec": {
   "display_name": "Python 3",
   "language": "python",
   "name": "python3"
  },
  "language_info": {
   "codemirror_mode": {
    "name": "ipython",
    "version": 3
   },
   "file_extension": ".py",
   "mimetype": "text/x-python",
   "name": "python",
   "nbconvert_exporter": "python",
   "pygments_lexer": "ipython3",
   "version": "3.7.3"
  }
 },
 "nbformat": 4,
 "nbformat_minor": 2
}
