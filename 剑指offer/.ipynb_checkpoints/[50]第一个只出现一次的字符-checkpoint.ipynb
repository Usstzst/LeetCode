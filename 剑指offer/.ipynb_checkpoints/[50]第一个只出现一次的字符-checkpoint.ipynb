{
 "cells": [
  {
   "cell_type": "markdown",
   "metadata": {},
   "source": [
    "# 题目原意"
   ]
  },
  {
   "cell_type": "raw",
   "metadata": {},
   "source": [
    "字符串中第一个只出现一次的字符。\n",
    "\n",
    "样例：\n",
    "输入“abaccdeff”\n",
    "输出“b”"
   ]
  },
  {
   "cell_type": "code",
   "execution_count": 1,
   "metadata": {},
   "outputs": [],
   "source": [
    "import collections\n",
    "\n",
    "def FirstNotRepeatingChar(s):\n",
    "    # write code here\n",
    "    dic = collections.Counter(s)\n",
    "\n",
    "    for i in s:\n",
    "        if dic[i]==1:\n",
    "            return i\n",
    "        \n",
    "    return -1\n",
    "\n"
   ]
  },
  {
   "cell_type": "markdown",
   "metadata": {},
   "source": [
    "## 方法二：第一次扫描的时间复杂度是O(n)，第二次扫描读出第一个数字的时间复杂度是O(1) \n",
    "\n",
    "由于字符是一个长度为8的数据类型，因此有256种可能性，所以创建大小为256，以字符ASCII码为键值的哈希表，空间复杂度为O(1)。\n"
   ]
  },
  {
   "cell_type": "code",
   "execution_count": 3,
   "metadata": {},
   "outputs": [],
   "source": [
    "\n",
    "def FirstNotRepeatingChar(s):\n",
    "    # write code here\n",
    "    hash_map = [0]*256\n",
    "\n",
    "    for x in s:\n",
    "        hash_map[ord(x)] += 1\n",
    "\n",
    "    for x in s:\n",
    "        if hash_map[ord(x)] == 1:\n",
    "            return s.index(x)\n",
    "\n",
    "    return -1\n",
    "\n"
   ]
  },
  {
   "cell_type": "markdown",
   "metadata": {},
   "source": [
    "## 拓展：字符流中只出现一次的字符"
   ]
  },
  {
   "cell_type": "code",
   "execution_count": 4,
   "metadata": {},
   "outputs": [],
   "source": [
    "class Solution:  \n",
    "    def __init__(self):\n",
    "        self.s = ''\n",
    "        self.dic = {}\n",
    "    \n",
    "    def firstAppearingOnce(self):\n",
    "        \"\"\"\n",
    "        :rtype: str\n",
    "        \"\"\"\n",
    "        for x in self.s:\n",
    "            if self.dic[x] == 1:\n",
    "                return x    \n",
    "        return '#'\n",
    "        \n",
    "    def insert(self, char):\n",
    "        \"\"\"\n",
    "        :type char: str\n",
    "        :rtype: void\n",
    "        \"\"\"\n",
    "        self.s += char\n",
    "        if char in self.dic:\n",
    "            self.dic[char] += 1\n",
    "        else:\n",
    "            self.dic[char] = 1\n"
   ]
  },
  {
   "cell_type": "markdown",
   "metadata": {},
   "source": [
    "## 扩展1\n",
    "\n",
    "两个字符串，从第一个字符串中删除在第二个字符串中出现过的所有字符。\n",
    "例如：\n",
    "s1 = 'We are students'    s2 = 'aeiou'\n",
    "输出： 'W r stdnts'"
   ]
  },
  {
   "cell_type": "code",
   "execution_count": 20,
   "metadata": {},
   "outputs": [],
   "source": [
    "def solve(s1, s2):\n",
    "    res = ''\n",
    "    for s in s1:\n",
    "        if s not in s2:\n",
    "            res += s\n",
    "    return res\n"
   ]
  },
  {
   "cell_type": "code",
   "execution_count": 21,
   "metadata": {},
   "outputs": [
    {
     "data": {
      "text/plain": [
       "'W r stdnts'"
      ]
     },
     "execution_count": 21,
     "metadata": {},
     "output_type": "execute_result"
    }
   ],
   "source": [
    "solve('We are students','aeiou')"
   ]
  },
  {
   "cell_type": "markdown",
   "metadata": {},
   "source": [
    "## 扩展二：删除字符串中所有重复出现的字符"
   ]
  },
  {
   "cell_type": "code",
   "execution_count": 17,
   "metadata": {},
   "outputs": [],
   "source": [
    "def solve(s):\n",
    "    res = ''\n",
    "    for i in s:\n",
    "        if i not in res:\n",
    "            res += i\n",
    "    return res"
   ]
  },
  {
   "cell_type": "markdown",
   "metadata": {},
   "source": [
    "## 扩展三：判断两个字符串是否互为变位词\n",
    "\n",
    "在英语中，如果两个单词中出现的子母相同，并且每个单词出现的次数也相同，那么这两个单词就互为变位词。\n",
    "例如：‘lister’和‘silent’, 'evil'和'live'"
   ]
  },
  {
   "cell_type": "code",
   "execution_count": 37,
   "metadata": {},
   "outputs": [],
   "source": [
    "import collections\n",
    "def solve(s1, s2):\n",
    "    dic = collections.Counter(s1)\n",
    "    for s in s2:\n",
    "        if s in dic:\n",
    "            dic[s]-=1\n",
    "            \n",
    "    for key, value in dic.items():\n",
    "        if value !=0:\n",
    "            return False\n",
    "    return True"
   ]
  },
  {
   "cell_type": "code",
   "execution_count": 38,
   "metadata": {},
   "outputs": [
    {
     "data": {
      "text/plain": [
       "True"
      ]
     },
     "execution_count": 38,
     "metadata": {},
     "output_type": "execute_result"
    }
   ],
   "source": [
    "solve('listen', 'slient')"
   ]
  }
 ],
 "metadata": {
  "kernelspec": {
   "display_name": "Python 3",
   "language": "python",
   "name": "python3"
  },
  "language_info": {
   "codemirror_mode": {
    "name": "ipython",
    "version": 3
   },
   "file_extension": ".py",
   "mimetype": "text/x-python",
   "name": "python",
   "nbconvert_exporter": "python",
   "pygments_lexer": "ipython3",
   "version": "3.7.3"
  }
 },
 "nbformat": 4,
 "nbformat_minor": 2
}
