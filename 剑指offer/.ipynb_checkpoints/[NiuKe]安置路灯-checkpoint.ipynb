{
 "cells": [
  {
   "cell_type": "markdown",
   "metadata": {},
   "source": [
    "# 题目原意"
   ]
  },
  {
   "cell_type": "raw",
   "metadata": {},
   "source": [
    "小Q正在给一条长度为n的道路设计路灯安置方案。\n",
    "\n",
    "为了让问题更简单,小Q把道路视为n个方格,需要照亮的地方用'.'表示, 不需要照亮的障碍物格子用'X'表示。\n",
    "\n",
    "小Q现在要在道路上设置一些路灯, 对于安置在pos位置的路灯, 这盏路灯可以照亮pos - 1, pos, pos + 1这三个位置。\n",
    "\n",
    "小Q希望能安置尽量少的路灯照亮所有'.'区域, 希望你能帮他计算一下最少需要多少盏路灯。\n",
    "\n",
    "输入描述:\n",
    "    输入的第一行包含一个正整数t(1 <= t <= 1000), 表示测试用例数\n",
    "    接下来每两行一个测试数据, 第一行一个正整数n(1 <= n <= 1000),表示道路的长度。\n",
    "    第二行一个字符串s表示道路的构造,只包含'.'和'X'。\n",
    "\n",
    "输出描述:\n",
    "    对于每个测试用例, 输出一个正整数表示最少需要多少盏路灯。"
   ]
  },
  {
   "cell_type": "raw",
   "metadata": {},
   "source": [
    "示例1\n",
    "\n",
    "输入\n",
    "2\n",
    "3\n",
    ".X.\n",
    "11\n",
    "...XX....XX\n",
    "\n",
    "输出\n",
    "1\n",
    "3\n"
   ]
  },
  {
   "cell_type": "markdown",
   "metadata": {},
   "source": [
    "## 思路"
   ]
  },
  {
   "cell_type": "raw",
   "metadata": {},
   "source": [
    "1、提取输入内容： count = 道路个数； n = 每条道路长度； lantern= 每条道路的构造; lantern_count=存放每条道路应该安置的灯的数量\n",
    "2、从前往后遍历：第一层循环控制第几条道路；第二层循环：判断lantern[i][i]=='.'是否成立，如果成立，j +=3 ， lantern_count[i] += 1;  否则， j+=1"
   ]
  },
  {
   "cell_type": "code",
   "execution_count": null,
   "metadata": {
    "scrolled": true
   },
   "outputs": [],
   "source": [
    "if __name__ == '__main__':\n",
    "    count = int(input())\n",
    "    n = []\n",
    "    lantern = []\n",
    "    for i in range(count):\n",
    "        n.append(int(input()))\n",
    "        lantern.append(input())\n",
    "    lantern_count = [0]*count\n",
    "    \n",
    "    for i in range(count):\n",
    "        j = 0\n",
    "        while j<len(lantern[i]):\n",
    "            if lantern[i][j]=='.':\n",
    "                j += 3\n",
    "                lantern_count[i] += 1\n",
    "            else:\n",
    "                j += 1\n",
    "    for i in range(len(lantern_count)):\n",
    "        print(lantern_count[i])\n"
   ]
  }
 ],
 "metadata": {
  "kernelspec": {
   "display_name": "Python 3",
   "language": "python",
   "name": "python3"
  },
  "language_info": {
   "codemirror_mode": {
    "name": "ipython",
    "version": 3
   },
   "file_extension": ".py",
   "mimetype": "text/x-python",
   "name": "python",
   "nbconvert_exporter": "python",
   "pygments_lexer": "ipython3",
   "version": "3.7.3"
  }
 },
 "nbformat": 4,
 "nbformat_minor": 2
}
