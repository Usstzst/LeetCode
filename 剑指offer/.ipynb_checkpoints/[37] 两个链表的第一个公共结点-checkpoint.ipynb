{
 "cells": [
  {
   "cell_type": "code",
   "execution_count": 1,
   "metadata": {},
   "outputs": [],
   "source": [
    "def FindFirstCommonNode(pHead1, pHead2):\n",
    "    p1, p2 = pHead1, pHead2\n",
    "    while p1 != p2:\n",
    "        p1 = p1.next if p1 != None else pHead2\n",
    "        p2 = p2.next if p2 != None else pHead1\n",
    "    return p1\n"
   ]
  },
  {
   "cell_type": "code",
   "execution_count": 2,
   "metadata": {},
   "outputs": [],
   "source": [
    "def FindFirstCommonNode(self, pHead1, pHead2):\n",
    "        stack1 = []\n",
    "        stack2 = []\n",
    "        while pHead1:\n",
    "            stack1.append(pHead1)\n",
    "            pHead1 = pHead1.next\n",
    "        while pHead2:\n",
    "            stack2.append(pHead2)\n",
    "            pHead2 = pHead2.next\n",
    "        pre = None\n",
    "        while stack1 and stack2 and stack1[-1] == stack2[-1]:\n",
    "            pre = stack1.pop()\n",
    "            stack2.pop()\n",
    "        return pre\n"
   ]
  }
 ],
 "metadata": {
  "kernelspec": {
   "display_name": "Python 3",
   "language": "python",
   "name": "python3"
  },
  "language_info": {
   "codemirror_mode": {
    "name": "ipython",
    "version": 3
   },
   "file_extension": ".py",
   "mimetype": "text/x-python",
   "name": "python",
   "nbconvert_exporter": "python",
   "pygments_lexer": "ipython3",
   "version": "3.7.3"
  }
 },
 "nbformat": 4,
 "nbformat_minor": 2
}
