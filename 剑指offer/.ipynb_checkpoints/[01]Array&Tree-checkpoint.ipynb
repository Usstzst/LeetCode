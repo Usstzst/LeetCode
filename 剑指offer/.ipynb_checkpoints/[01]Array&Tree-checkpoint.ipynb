{
 "cells": [
  {
   "cell_type": "markdown",
   "metadata": {},
   "source": [
    "# 面试题2：实现Singleton(单例)模式"
   ]
  },
  {
   "cell_type": "raw",
   "metadata": {},
   "source": [
    "1、定义：单例模式，是一种常用的软件设计模式。在它的核心结构中只包含一个被称为单例的特殊类。通过单例模式可以保证系统中，应用该模式的一个类只有一个实例。即一个类只有一个对象实例。\n",
    "\n",
    "2、原理：使用模块时，第一次导入会生成.pyc文件（存放相应目录下的__pycache__文件夹内），当第二次使用该模块时会直接加载pyc文件。所以，将函数、数据等定义在一个模块中即可完成一个单例对象。"
   ]
  },
  {
   "cell_type": "code",
   "execution_count": 2,
   "metadata": {},
   "outputs": [],
   "source": [
    "class Singleton(object):\n",
    "    def func(self):\n",
    "        print(\"I'm a singleton!\")\n",
    " \n",
    "s=Singleton()"
   ]
  },
  {
   "cell_type": "markdown",
   "metadata": {},
   "source": [
    "# 面试题3： 数组中重复的数字"
   ]
  },
  {
   "cell_type": "raw",
   "metadata": {},
   "source": [
    "1、题目描述：找出数组中重复的数字。数组长度为 n, 要求算法复杂度 O(nlogn)。\n",
    "\n",
    "2、拓展：不修改数组，找出重复数字。可以使用二分查找的方法。"
   ]
  },
  {
   "cell_type": "code",
   "execution_count": 3,
   "metadata": {},
   "outputs": [],
   "source": [
    "def distinct(listA):\n",
    "    res = []\n",
    "    A = collections.Counter(listA)\n",
    "    for key, value in A.items():\n",
    "        if value > 1:\n",
    "            res.append(key)\n",
    "    return res\n",
    "        "
   ]
  },
  {
   "cell_type": "code",
   "execution_count": 4,
   "metadata": {},
   "outputs": [],
   "source": [
    "def distinct(l):\n",
    "    res = []\n",
    "    for i in l:\n",
    "        if l.count(i)>1:\n",
    "            res.append(i)\n",
    "    return list(set(res))"
   ]
  },
  {
   "cell_type": "markdown",
   "metadata": {},
   "source": [
    "# 面试题4：二维数组中的查找 "
   ]
  },
  {
   "cell_type": "markdown",
   "metadata": {},
   "source": [
    "1、题目描述：输入一个二维数组和一个整数，判断数组中是否含有该整数。且二维数组每行每列都递增排序。"
   ]
  },
  {
   "cell_type": "code",
   "execution_count": 8,
   "metadata": {},
   "outputs": [],
   "source": [
    "def double_dimensional_array(array, num):\n",
    "    row, col = 0, len(array[0])-1\n",
    "    while (row<len(array)) and (col>=0):\n",
    "        if num >array[row][col]:\n",
    "            row += 1\n",
    "        elif num <array[row][col]:\n",
    "            col -= 1\n",
    "        else:\n",
    "            return True\n",
    "    return False\n",
    "\n",
    "\n",
    "if __name__ == '__main__':\n",
    "    da=[[1,2,8,9],[2,4,9,12],[4,7,10,13],[6,8,11,15]]\n",
    "    double_dimensional_array(da, 7)"
   ]
  },
  {
   "cell_type": "markdown",
   "metadata": {},
   "source": [
    "# 面试题5：替换空格"
   ]
  },
  {
   "cell_type": "raw",
   "metadata": {},
   "source": [
    "题目：把字符串中的空格替换成指定字符"
   ]
  },
  {
   "cell_type": "code",
   "execution_count": 9,
   "metadata": {},
   "outputs": [
    {
     "name": "stdout",
     "output_type": "stream",
     "text": [
      "nice%20to%20meet%20you!\n"
     ]
    }
   ],
   "source": [
    "def replace_blank(content,symbol):\n",
    "    res = ''\n",
    "    for i in content:\n",
    "        if i == ' ':\n",
    "            res += symbol\n",
    "        else:\n",
    "            res += i\n",
    "    return res\n",
    "\n",
    "if __name__ == '__main__':\n",
    "    print(replace_blank('nice to meet you!','%20'))"
   ]
  },
  {
   "cell_type": "markdown",
   "metadata": {},
   "source": [
    "# 面试题6：从尾到头打印链表"
   ]
  },
  {
   "cell_type": "code",
   "execution_count": 10,
   "metadata": {},
   "outputs": [],
   "source": [
    "# -*- coding:utf-8 -*-\n",
    "# class ListNode:\n",
    "#     def __init__(self, x):\n",
    "#         self.val = x\n",
    "#         self.next = None\n",
    "\n",
    "class Solution:\n",
    "    # 返回从尾部到头部的列表值序列，例如[1,2,3]\n",
    "    def printListFromTailToHead(self, listNode):\n",
    "        # write code here\n",
    "        if not listNode:\n",
    "            return []\n",
    "\n",
    "        result = []\n",
    "        while listNode is not None:\n",
    "            result.extend([listNode.val])\n",
    "            listNode = listNode.next\n",
    "        \n",
    "        return result[::-1]\n"
   ]
  },
  {
   "cell_type": "code",
   "execution_count": 11,
   "metadata": {},
   "outputs": [],
   "source": [
    "# class ListNode:\n",
    "#     def __init__(self, x):\n",
    "#         self.val = x\n",
    "#         self.next = None\n",
    "\n",
    "class Solution:\n",
    "    # 返回从尾部到头部的列表值序列，例如[1,2,3]\n",
    "    def printListFromTailToHead(self, listNode):\n",
    "        # write code here\n",
    "        if not listNode:\n",
    "            return []\n",
    "\n",
    "        result = []\n",
    "        head = listNode\n",
    "\n",
    "        while head:\n",
    "            result.insert(0, head.val)\n",
    "            head = head.next\n",
    "        return result\n"
   ]
  },
  {
   "cell_type": "markdown",
   "metadata": {},
   "source": [
    "# 面试题7：重建二叉树 "
   ]
  },
  {
   "cell_type": "raw",
   "metadata": {},
   "source": [
    "1、题目：输入某二叉树的前序遍历和中序遍历的结果，请重建出该二叉树。假设输入的前序遍历和中序遍历的结果中都不含重复的数字。\n",
    "例如输入前序遍历序列{1,2,4,7,3,5,6,8}和中序遍历序列{4,7,2,1,5,3,8,6}，则重建二叉树并返回。"
   ]
  },
  {
   "cell_type": "code",
   "execution_count": 13,
   "metadata": {},
   "outputs": [],
   "source": [
    "# -*- coding:utf-8 -*-\n",
    "class TreeNode:\n",
    "    def __init__(self, x):\n",
    "        self.val = x\n",
    "        self.left = None\n",
    "        self.right = None\n",
    "\n",
    "class Solution:\n",
    "    # 返回构造的TreeNode根节点\n",
    "    def reConstructBinaryTree(self, pre, tin):\n",
    "        \n",
    "        if not pre or not tin:\n",
    "            return None\n",
    "        \n",
    "        idx = tin.index(pre.pop(0))\n",
    "        root = TreeNode(tin[idx])\n",
    "        root.left = reConstructBinaryTree(pre, tin[:idx])\n",
    "        root.right = reConstructBinaryTree(pre, tin[idx+1:])\n",
    "        return root       "
   ]
  },
  {
   "cell_type": "markdown",
   "metadata": {},
   "source": [
    "# 面试题26：树的子结构"
   ]
  },
  {
   "cell_type": "raw",
   "metadata": {},
   "source": [
    "1、题目：输入两棵树A和B， 判断B是不是A的子结构。"
   ]
  },
  {
   "cell_type": "code",
   "execution_count": 14,
   "metadata": {},
   "outputs": [],
   "source": [
    "# -*- coding:utf-8 -*-\n",
    "# class TreeNode:\n",
    "#     def __init__(self, x):\n",
    "#         self.val = x\n",
    "#         self.left = None\n",
    "#         self.right = None\n",
    "class Solution:\n",
    "    def HasSubtree(self, pRoot1, pRoot2):\n",
    "        # write code here\n",
    "        result = False\n",
    "        \n",
    "        if pRoot1 != None and pRoot2 != None:\n",
    "            if pRoot1.val == pRoot2.val:\n",
    "                result = self.same(pRoot1, pRoot2)\n",
    "            if not result:\n",
    "                result = self.HasSubtree(pRoot1.left, pRoot2)\n",
    "            if not result:\n",
    "                result = self.hasSubtree(pRoot1.right, pRoot2)\n",
    "            return result \n",
    "        \n",
    "\n",
    "    def same(self, pRoot1, pRoot2):\n",
    "        if pRoot2 == None:\n",
    "            return True\n",
    "        if pRoot1 == None:\n",
    "            return False\n",
    "        # 这一步不断判断下一个节点，因为是递归操作。\n",
    "        if pRoot1.val != pRoot2.val:\n",
    "            return False\n",
    "        return self.same(pRoot1.left, pRoot2.left) and self.same(pRoot1.right, pRoot2.right)"
   ]
  },
  {
   "cell_type": "markdown",
   "metadata": {},
   "source": [
    "# 面试题33：二叉搜索树的后序遍历序列"
   ]
  },
  {
   "cell_type": "raw",
   "metadata": {},
   "source": [
    "1、题目：输入一个整数数组，判断该数组是不是某二叉搜索树的后序遍历的结果。如果是则输出Yes,否则输出No。假设输入的数组的任意两个数字都互不相同。"
   ]
  },
  {
   "cell_type": "raw",
   "metadata": {},
   "source": [
    "二叉搜索树即是二叉排序树，\n",
    "1. 后序遍历序列的最后一个元素为二叉树的根节点；\n",
    "2. 二叉搜索树左子树上所有的结点均小于根结点、右子树所有的结点均大于根结点。\n",
    "算法步骤如下：\n",
    "1. 找到根结点；\n",
    "2. 遍历序列，找到第一个大于等于根结点的元素i，则i左侧为左子树、i右侧为右子树；\n",
    "3. 我们已经知道i左侧所有元素均小于根结点，那么再依次遍历右侧，看是否所有元素均大于根结点；\n",
    "   若出现小于根结点的元素，则直接返回false；若右侧全都大于根结点，则：\n",
    "4. 分别递归判断左/右子序列是否为后序序列；\n"
   ]
  },
  {
   "cell_type": "code",
   "execution_count": 34,
   "metadata": {},
   "outputs": [],
   "source": [
    "class Solution:\n",
    "    def VerifySquenceOfBST(self, sequence):\n",
    "        # write code here\n",
    "        if not sequence:\n",
    "            return False\n",
    "\n",
    "        root = sequence[-1]\n",
    "\n",
    "        i = 0\n",
    "        for node in sequence[:-1]:\n",
    "            if node > root:\n",
    "                break\n",
    "            i += 1\n",
    "\n",
    "        for node in sequence[i:-1]:\n",
    "            if node < root:\n",
    "                return False\n",
    "\n",
    "        left = True\n",
    "        # i>0 意味i =0 或者1 的时候，两个元素在二叉树没有排序之分的，但是3个元素就有了左右子树之分\n",
    "        if i > 0:\n",
    "            left = self.VerifySquenceOfBST(sequence[:i])\n",
    "\n",
    "        right = True\n",
    "        # len(sequence)>3才有左右之分的\n",
    "        if i < len(sequence) - 2 and left:\n",
    "            right = self.VerifySquenceOfBST(sequence[i + 1:])\n",
    "\n",
    "        return left and right\n",
    "\n",
    "    \n",
    "if __name=='__main':\n",
    "    seq = [5,7,6,9,11,10,8]\n",
    "    s = Solution()\n",
    "    s.VerifySquenceOfBST(seq)\n",
    "    "
   ]
  },
  {
   "cell_type": "markdown",
   "metadata": {},
   "source": [
    "# 面试题34：二叉树中和为某一值的路径"
   ]
  },
  {
   "cell_type": "markdown",
   "metadata": {},
   "source": [
    "1、题目：输入一颗二叉树和一个整数，打印出二叉树中结点值的和为输入整数的所有路径。**路径定义为从树的根结点开始往下一直到叶结点所经过的结点形成一条路径.**"
   ]
  },
  {
   "cell_type": "code",
   "execution_count": 36,
   "metadata": {},
   "outputs": [],
   "source": [
    "# class TreeNode:\n",
    "#     def __init__(self, x):\n",
    "#         self.val = x\n",
    "#         self.left = None\n",
    "#         self.right = None\n",
    "class Solution:\n",
    "    # 返回二维列表，内部每个列表表示找到的路径\n",
    "    def FindPath(self, root, expectNumber):\n",
    "        # write code here\n",
    "        if not root:\n",
    "            return []\n",
    "        result = []\n",
    "\n",
    "        def FindPath2(root, path, currentNum):\n",
    "            currentNum += root.val\n",
    "            # root使用append转成了列表，因为最后要一个序列，root本身还是树结构\n",
    "            path.append(root)\n",
    "            # 判断是不是到叶子节点了，到叶子节点了就要判断值的和是不是相等\n",
    "            flag = (root.left == None and root.right == None)\n",
    "            # 返回值是一个等于整数的序列\n",
    "            if currentNum == expectNumber and flag:\n",
    "                onepath = []\n",
    "                for node in path:\n",
    "                    onepath.append(node.val)\n",
    "                result.append(onepath)\n",
    "\n",
    "            if currentNum < expectNumber:\n",
    "                if root.left:\n",
    "                    FindPath2(root.left, path, currentNum)\n",
    "                if root.right:\n",
    "                    FindPath2(root.right, path, currentNum)\n",
    "            # 拿到一个正确的路径后要弹出，回到上一次父节点继续递归\n",
    "            path.pop()\n",
    "\n",
    "        FindPath2(root, [], 0)\n",
    "        return result"
   ]
  },
  {
   "cell_type": "markdown",
   "metadata": {},
   "source": [
    "## 面试题55：二叉树的深度"
   ]
  },
  {
   "cell_type": "raw",
   "metadata": {},
   "source": [
    "题目：输入一棵二叉树，求该树的深度。从根结点到叶结点依次经过的结点（含根、叶结点）形成树的一条路径，\n",
    "最长路径的长度为树的深度。"
   ]
  },
  {
   "cell_type": "code",
   "execution_count": 44,
   "metadata": {},
   "outputs": [],
   "source": [
    "# class TreeNode:\n",
    "#     def __init__(self, x):\n",
    "#         self.val = x\n",
    "#         self.left = None\n",
    "#         self.right = None\n",
    "class Solution:\n",
    "    def TreeDepth(self, pRoot):\n",
    "        # write code here\n",
    "        if pRoot == None:\n",
    "            return 0\n",
    "        return max(self.TreeDepth(pRoot.left), self.TreeDepth(pRoot.right)) + 1\n"
   ]
  },
  {
   "cell_type": "code",
   "execution_count": 45,
   "metadata": {},
   "outputs": [],
   "source": [
    "class Solution(object):\n",
    "    def maxDepth(self, root):\n",
    "        \"\"\"\n",
    "        :type root: TreeNode\n",
    "        :rtype: int\n",
    "        \"\"\"\n",
    "        if not root: #递归边界\n",
    "            return 0\n",
    "        else:\n",
    "            l=1+self.maxDepth(root.left) #递归\n",
    "            r=1+self.maxDepth(root.right)\n",
    "            return max(l,r)\n",
    "\n",
    "        "
   ]
  },
  {
   "cell_type": "markdown",
   "metadata": {},
   "source": [
    "# 面试题32：从上到下打印二叉树"
   ]
  },
  {
   "cell_type": "code",
   "execution_count": 46,
   "metadata": {},
   "outputs": [],
   "source": [
    "# class TreeNode:\n",
    "#     def __init__(self, x):\n",
    "#         self.val = x\n",
    "#         self.left = None\n",
    "#         self.right = None\n",
    "class Solution:\n",
    "    # 返回从上到下每个节点值列表，例：[1,2,3]\n",
    "    def PrintFromTopToBottom(self, root):\n",
    "        # write code here\n",
    "        if not root:\n",
    "            return []\n",
    "        \n",
    "        queue = []\n",
    "        result = []\n",
    "        \n",
    "        queue.append(root)\n",
    "        while len(queue)>0:\n",
    "            node = queue.pop(0)\n",
    "            result.append(node.val)\n",
    "            if node.left:\n",
    "                queue.append(node.left)\n",
    "            if node.right:\n",
    "                queue.append(node.right)\n",
    "        return result"
   ]
  },
  {
   "cell_type": "code",
   "execution_count": null,
   "metadata": {},
   "outputs": [],
   "source": []
  }
 ],
 "metadata": {
  "kernelspec": {
   "display_name": "Python 3",
   "language": "python",
   "name": "python3"
  },
  "language_info": {
   "codemirror_mode": {
    "name": "ipython",
    "version": 3
   },
   "file_extension": ".py",
   "mimetype": "text/x-python",
   "name": "python",
   "nbconvert_exporter": "python",
   "pygments_lexer": "ipython3",
   "version": "3.7.3"
  }
 },
 "nbformat": 4,
 "nbformat_minor": 2
}
