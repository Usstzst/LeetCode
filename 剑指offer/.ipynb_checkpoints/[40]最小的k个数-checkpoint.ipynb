{
 "cells": [
  {
   "cell_type": "markdown",
   "metadata": {},
   "source": [
    "# 方法一"
   ]
  },
  {
   "cell_type": "code",
   "execution_count": 1,
   "metadata": {},
   "outputs": [],
   "source": [
    "#   冒泡法\n",
    "def BubbleSort(lists,k):\n",
    "    length = len(lists)\n",
    "    for i in range(k):\n",
    "        for j in range(i+1,length):\n",
    "            if lists[i] > lists[j]:\n",
    "                lists[j],lists[i] = lists[i],lists[j] # 交换，冒个泡\n",
    "    return lists[0:k]"
   ]
  },
  {
   "cell_type": "markdown",
   "metadata": {},
   "source": [
    "# 方法二"
   ]
  },
  {
   "cell_type": "markdown",
   "metadata": {},
   "source": [
    "1、随机选一数为key，在partition函数中完成一轮比较的结果是，比key大的数都在其右边，比key小的数放在其左边。返回 key的index。 \n",
    "\n",
    "2、判断index与k的大小： \n",
    "\n",
    "3、如果 index > k，说明前k小的数在key左边，故需把寻找范围缩小，在key左侧找。 \n",
    "\n",
    "4、如果 index < k，说明上轮partition之后，前index个数找的太少了，我们需要再往数组的后面找。\n",
    "\n",
    "\n",
    "时间复杂度O(n)"
   ]
  },
  {
   "cell_type": "code",
   "execution_count": 2,
   "metadata": {},
   "outputs": [],
   "source": [
    "def partition(lists,left,right):\n",
    "    #划分函数处理部分\n",
    "    key = lists[left]\n",
    "    while left < right:\n",
    "        while left < right and lists[right] >= key:\n",
    "            right -= 1\n",
    "        lists[left] = lists[right]\n",
    "        while left < right and lists[left] <= key:\n",
    "            left += 1\n",
    "        lists[right] = lists[left]\n",
    "    lists[right] = key\n",
    "    return left\n",
    "\n",
    "\n",
    "def topK(lists,k):\n",
    "    #划分法主要函数部分\n",
    "    length = len(lists)\n",
    "    left = 0\n",
    "    right = length - 1\n",
    "    index = partition(lists,left,right)\n",
    "    while k-1!=index:\n",
    "        if index > k-1:\n",
    "            right = index-1\n",
    "        else:\n",
    "            left = index+1\n",
    "        index = partition(lists,left,right) \n",
    "    return sorted(lists[0:k])\n"
   ]
  }
 ],
 "metadata": {
  "kernelspec": {
   "display_name": "Python 3",
   "language": "python",
   "name": "python3"
  },
  "language_info": {
   "codemirror_mode": {
    "name": "ipython",
    "version": 3
   },
   "file_extension": ".py",
   "mimetype": "text/x-python",
   "name": "python",
   "nbconvert_exporter": "python",
   "pygments_lexer": "ipython3",
   "version": "3.7.3"
  }
 },
 "nbformat": 4,
 "nbformat_minor": 2
}
