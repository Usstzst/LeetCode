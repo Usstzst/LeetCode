{
 "cells": [
  {
   "cell_type": "markdown",
   "metadata": {},
   "source": [
    "# 题目原意"
   ]
  },
  {
   "cell_type": "raw",
   "metadata": {},
   "source": [
    "你的初始能量为 P，初始分数为 0，只有一包令牌。\n",
    "\n",
    "令牌的值为 token[i]，每个令牌最多只能使用一次，可能的两种使用方法如下：\n",
    "\n",
    "如果你至少有 token[i] 点能量，可以将令牌置为正面朝上，失去 token[i] 点能量，并得到 1 分。\n",
    "如果我们至少有 1 分，可以将令牌置为反面朝上，获得 token[i] 点能量，并失去 1 分。\n",
    "在使用任意数量的令牌后，返回我们可以得到的最大分数。"
   ]
  },
  {
   "cell_type": "raw",
   "metadata": {},
   "source": [
    "示例 1：\n",
    "输入：tokens = [100], P = 50\n",
    "输出：0\n",
    "\n",
    "示例 2：\n",
    "输入：tokens = [100,200], P = 150\n",
    "输出：1\n",
    "\n",
    "示例 3：\n",
    "输入：tokens = [100,200,300,400], P = 200\n",
    "输出：2\n",
    " \n",
    "\n",
    "提示：\n",
    "\n",
    "tokens.length <= 1000\n",
    "0 <= tokens[i] < 10000\n",
    "0 <= P < 10000"
   ]
  },
  {
   "cell_type": "markdown",
   "metadata": {},
   "source": [
    "## 思路一"
   ]
  },
  {
   "cell_type": "raw",
   "metadata": {},
   "source": [
    "本题可以用贪心算法。即可以得分的时候优先选择当前最小的token[i]得分，不能得分的时候选择当前可选的最大的token[i]换取power。所以只需要将tokens排序，分别从两端选择当前最小/最大的元素即可。"
   ]
  },
  {
   "cell_type": "code",
   "execution_count": 1,
   "metadata": {},
   "outputs": [],
   "source": [
    "class Solution(object):\n",
    "    def bagOfTokensScore(self, tokens, P):\n",
    "        \"\"\"\n",
    "        :type tokens: List[int]\n",
    "        :type P: int\n",
    "        :rtype: int\n",
    "        \"\"\"\n",
    "        tokens.sort()\n",
    "        low = 0\n",
    "        high = len(tokens) - 1\n",
    "        res = 0\n",
    "        point = 0\n",
    "        while low <= high:\n",
    "            if P >= tokens[low]:\n",
    "                point += 1\n",
    "                P -= tokens[low]\n",
    "                low += 1\n",
    "                res = max(res,point)\n",
    "            elif point > 0:\n",
    "                point -= 1\n",
    "                P += tokens[high]\n",
    "                high -= 1\n",
    "            else:\n",
    "                low += 1\n",
    "        return res"
   ]
  }
 ],
 "metadata": {
  "kernelspec": {
   "display_name": "Python 3",
   "language": "python",
   "name": "python3"
  },
  "language_info": {
   "codemirror_mode": {
    "name": "ipython",
    "version": 3
   },
   "file_extension": ".py",
   "mimetype": "text/x-python",
   "name": "python",
   "nbconvert_exporter": "python",
   "pygments_lexer": "ipython3",
   "version": "3.6.5"
  }
 },
 "nbformat": 4,
 "nbformat_minor": 2
}


