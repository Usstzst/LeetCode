{
 "cells": [
  {
   "cell_type": "markdown",
   "metadata": {},
   "source": [
    "# 题目原意"
   ]
  },
  {
   "cell_type": "raw",
   "metadata": {},
   "source": [
    "在一个小镇里，按从 1 到 N 标记了 N 个人。传言称，这些人中有一个是小镇上的秘密法官。\n",
    "\n",
    "如果小镇的法官真的存在，那么：\n",
    "\n",
    "小镇的法官不相信任何人。\n",
    "每个人（除了小镇法官外）都信任小镇的法官。\n",
    "只有一个人同时满足属性 1 和属性 2 。\n",
    "给定数组 trust，该数组由信任对 trust[i] = [a, b] 组成，表示标记为 a 的人信任标记为 b 的人。\n",
    "\n",
    "如果小镇存在秘密法官并且可以确定他的身份，请返回该法官的标记。否则，返回 -1。"
   ]
  },
  {
   "cell_type": "raw",
   "metadata": {},
   "source": [
    "示例 1：\n",
    "输入：N = 2, trust = [[1,2]]\n",
    "输出：2\n",
    "\n",
    "示例 2：\n",
    "输入：N = 3, trust = [[1,3],[2,3]]\n",
    "输出：3\n",
    "\n",
    "示例 3：\n",
    "输入：N = 3, trust = [[1,3],[2,3],[3,1]]\n",
    "输出：-1\n",
    "\n",
    "示例 4：\n",
    "输入：N = 3, trust = [[1,2],[2,3]]\n",
    "输出：-1\n",
    "\n",
    "示例 5：\n",
    "输入：N = 4, trust = [[1,3],[1,4],[2,3],[2,4],[4,3]]\n",
    "输出：3\n",
    " \n",
    "\n",
    "提示：\n",
    "1 <= N <= 1000\n",
    "trust.length <= 10000\n",
    "trust[i] 是完全不同的\n",
    "trust[i][0] != trust[i][1]\n",
    "1 <= trust[i][0], trust[i][1] <= N"
   ]
  },
  {
   "cell_type": "markdown",
   "metadata": {},
   "source": [
    "## 思路一："
   ]
  },
  {
   "cell_type": "raw",
   "metadata": {},
   "source": [
    "创建一个长度等于N的数组stat,记stat[i]为第i+1个人被别人信任的次数与信任别人的次数的差值，如果恰好等于N-1，则表明这个人就是法官。"
   ]
  },
  {
   "cell_type": "code",
   "execution_count": 1,
   "metadata": {},
   "outputs": [],
   "source": [
    "class Solution(object):\n",
    "    def findJudge(self, N, trust):\n",
    "        \"\"\"\n",
    "        :type N: int\n",
    "        :type trust: List[List[int]]\n",
    "        :rtype: int\n",
    "        \"\"\"\n",
    "        stat = [0] * N\n",
    "        for x,y in trust:\n",
    "            stat[x-1] -= 1\n",
    "            stat[y-1] += 1\n",
    "        for i,v in enumerate(stat):\n",
    "            if v == N-1:\n",
    "                return i+1\n",
    "        return -1"
   ]
  }
 ],
 "metadata": {
  "kernelspec": {
   "display_name": "Python 3",
   "language": "python",
   "name": "python3"
  },
  "language_info": {
   "codemirror_mode": {
    "name": "ipython",
    "version": 3
   },
   "file_extension": ".py",
   "mimetype": "text/x-python",
   "name": "python",
   "nbconvert_exporter": "python",
   "pygments_lexer": "ipython3",
   "version": "3.7.0"
  }
 },
 "nbformat": 4,
 "nbformat_minor": 2
}
