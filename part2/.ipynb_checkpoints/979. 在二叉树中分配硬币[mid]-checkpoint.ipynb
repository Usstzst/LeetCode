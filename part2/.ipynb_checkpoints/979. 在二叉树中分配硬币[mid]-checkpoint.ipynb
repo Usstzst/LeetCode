{
 "cells": [
  {
   "cell_type": "markdown",
   "metadata": {},
   "source": [
    "# 题目原意"
   ]
  },
  {
   "cell_type": "markdown",
   "metadata": {},
   "source": [
    "给定一个有 N 个结点的二叉树的根结点 root，树中的每个结点上都对应有 node.val 枚硬币，并且总共有 N 枚硬币。\n",
    "\n",
    "在一次移动中，我们可以选择两个相邻的结点，然后将一枚硬币从其中一个结点移动到另一个结点。(移动可以是从父结点到子结点，或者从子结点移动到父结点。)。\n",
    "\n",
    "返回使每个结点上只有一枚硬币所需的移动次数。"
   ]
  },
  {
   "cell_type": "raw",
   "metadata": {},
   "source": [
    "示例 1：\n",
    "输入：[3,0,0]\n",
    "输出：2\n",
    "解释：从树的根结点开始，我们将一枚硬币移到它的左子结点上，一枚硬币移到它的右子结点上。\n",
    "\n",
    "示例 2：\n",
    "输入：[0,3,0]\n",
    "输出：3\n",
    "解释：从根结点的左子结点开始，我们将两枚硬币移到根结点上 [移动两次]。然后，我们把一枚硬币从根结点移到右子结点上。\n",
    "\n",
    "示例 3：\n",
    "输入：[1,0,2]\n",
    "输出：2\n",
    "\n",
    "示例 4：\n",
    "输入：[1,0,0,null,3]\n",
    "输出：4\n",
    " \n",
    "\n",
    "提示：\n",
    "1<= N <= 100\n",
    "0 <= node.val <= N"
   ]
  },
  {
   "cell_type": "markdown",
   "metadata": {},
   "source": [
    "## 思路一"
   ]
  },
  {
   "cell_type": "raw",
   "metadata": {},
   "source": [
    "题目给出了一个二叉树，每个节点都有个数字代表当前节点有多少个金币，保证所有节点的金币数量之和等于节点个数。现在要求把金币平分到每个节点，使得每个节点都只放1个金币。问需要的移动次数是多少？"
   ]
  },
  {
   "cell_type": "raw",
   "metadata": {},
   "source": [
    "DFS. 构建self.ans, 初始化为0. 定义dfs函数, 返回当前节点的流量balace. 每次递归更新self.ans. 每次递归, 累加左节点和右节点的流量的绝对值到self.ans."
   ]
  },
  {
   "cell_type": "code",
   "execution_count": 1,
   "metadata": {},
   "outputs": [],
   "source": [
    "# Definition for a binary tree node.\n",
    "# class TreeNode(object):\n",
    "#     def __init__(self, x):\n",
    "#         self.val = x\n",
    "#         self.left = None\n",
    "#         self.right = None\n",
    "\n",
    "class Solution(object):\n",
    "    def distributeCoins(self, root):\n",
    "        \"\"\"\n",
    "        :type root: TreeNode\n",
    "        :rtype: int\n",
    "        \"\"\"\n",
    "        self.ans = 0\n",
    "        \n",
    "        def dfs(root):\n",
    "            # return the balance of the node\n",
    "            if not root: return 0\n",
    "            left = dfs(root.left)\n",
    "            right = dfs(root.right)\n",
    "            self.ans += abs(left) + abs(right)\n",
    "            return root.val -1 + left + right\n",
    "        \n",
    "        dfs(root)\n",
    "        return self.ans\n",
    "\n",
    "    "
   ]
  }
 ],
 "metadata": {
  "kernelspec": {
   "display_name": "Python 3",
   "language": "python",
   "name": "python3"
  },
  "language_info": {
   "codemirror_mode": {
    "name": "ipython",
    "version": 3
   },
   "file_extension": ".py",
   "mimetype": "text/x-python",
   "name": "python",
   "nbconvert_exporter": "python",
   "pygments_lexer": "ipython3",
   "version": "3.7.0"
  }
 },
 "nbformat": 4,
 "nbformat_minor": 2
}
