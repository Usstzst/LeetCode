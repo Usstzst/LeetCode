{
 "cells": [
  {
   "cell_type": "markdown",
   "metadata": {},
   "source": [
    "# 题目原意"
   ]
  },
  {
   "cell_type": "raw",
   "metadata": {},
   "source": [
    "给定仅有小写字母组成的字符串数组 A，返回列表中的每个字符串中都显示的全部字符（包括重复字符）组成的列表。例如，如果一个字符在每个字符串中出现 3 次，但不是 4 次，则需要在最终答案中包含该字符 3 次。\n",
    "\n",
    "你可以按任意顺序返回答案。"
   ]
  },
  {
   "cell_type": "raw",
   "metadata": {},
   "source": [
    "示例 1：\n",
    "输入：[\"bella\",\"label\",\"roller\"]\n",
    "输出：[\"e\",\"l\",\"l\"]\n",
    "\n",
    "示例 2：\n",
    "输入：[\"cool\",\"lock\",\"cook\"]\n",
    "输出：[\"c\",\"o\"]\n",
    " \n",
    "\n",
    "提示：\n",
    "1 <= A.length <= 100\n",
    "1 <= A[i].length <= 100\n",
    "A[i][j] 是小写字母"
   ]
  },
  {
   "cell_type": "markdown",
   "metadata": {},
   "source": [
    "## 思路一"
   ]
  },
  {
   "cell_type": "code",
   "execution_count": 1,
   "metadata": {},
   "outputs": [],
   "source": [
    "class Solution(object):\n",
    "    def commonChars(self, A):\n",
    "        \"\"\"\n",
    "        :type A: List[str]\n",
    "        :rtype: List[str]\n",
    "        \"\"\"\n",
    "        A_count = map(lambda x : collections.Counter(x), A)\n",
    "        res = []\n",
    "        for i in range(26):\n",
    "            c = chr(ord('a') + i)\n",
    "            min_count = min([a_count[c] for a_count in A_count])\n",
    "            if min_count:\n",
    "                res.extend([c] * min_count)\n",
    "        return res\n",
    "    \n",
    "\n"
   ]
  },
  {
   "cell_type": "markdown",
   "metadata": {},
   "source": [
    "## 思路二：与运算"
   ]
  },
  {
   "cell_type": "code",
   "execution_count": 2,
   "metadata": {},
   "outputs": [],
   "source": [
    "class Solution(object):\n",
    "    def commonChars(self, A):\n",
    "        \"\"\"\n",
    "        :type A: List[str]\n",
    "        :rtype: List[str]\n",
    "        \"\"\"\n",
    "        c = collections.Counter(A[0])\n",
    "        for i in range(1, len(A)):\n",
    "            c &= collections.Counter(A[i])\n",
    "        return list(c.elements())"
   ]
  }
 ],
 "metadata": {
  "kernelspec": {
   "display_name": "Python 3",
   "language": "python",
   "name": "python3"
  },
  "language_info": {
   "codemirror_mode": {
    "name": "ipython",
    "version": 3
   },
   "file_extension": ".py",
   "mimetype": "text/x-python",
   "name": "python",
   "nbconvert_exporter": "python",
   "pygments_lexer": "ipython3",
   "version": "3.7.0"
  }
 },
 "nbformat": 4,
 "nbformat_minor": 2
}
