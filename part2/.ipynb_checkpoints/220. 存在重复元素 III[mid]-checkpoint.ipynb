{
 "cells": [
  {
   "cell_type": "markdown",
   "metadata": {},
   "source": [
    "# 题目原意"
   ]
  },
  {
   "cell_type": "raw",
   "metadata": {},
   "source": [
    "给定一个整数数组，判断数组中是否有两个不同的索引 i 和 j，使得 nums [i] 和 nums [j] 的差的绝对值最大为 t，并且 i 和 j 之间的差的绝对值最大为 ķ。"
   ]
  },
  {
   "cell_type": "raw",
   "metadata": {},
   "source": [
    "示例 1:\n",
    "输入: nums = [1,2,3,1], k = 3, t = 0\n",
    "输出: true\n",
    "\n",
    "示例 2:\n",
    "输入: nums = [1,0,1,1], k = 1, t = 2\n",
    "输出: true\n",
    "\n",
    "示例 3:\n",
    "输入: nums = [1,5,9,1,5,9], k = 2, t = 3\n",
    "输出: false"
   ]
  },
  {
   "cell_type": "markdown",
   "metadata": {},
   "source": [
    "## 思路一"
   ]
  },
  {
   "cell_type": "raw",
   "metadata": {},
   "source": [
    "题目要求：判断给定数组中是否存在两个索引下标i，j，满足|j−i|<=k|j−i|<=k(条件1)，且|nums[j]−nums[i]|<=t|nums[j]−nums[i]|<=t(条件2)。\n",
    "\n",
    "对条件2进行变形： \n",
    "⟺|nums[j]/t−nums[i]/t|<=1⟺|nums[j]/t−nums[i]/t|<=1(式2) \n",
    "⟹|⌊nums[j]/t⌋−⌊nums[i]/t⌋|<=1⟹|⌊nums[j]/t⌋−⌊nums[i]/t⌋|<=1(式3) (⌊⌋⌊⌋表示向下取整) \n",
    "⟺⌊nums[j]/t⌋∈⟺⌊nums[j]/t⌋∈{⌊nums[i]/t⌋−1,⌊nums[i]/t⌋,⌊nums[i]/t⌋+1}(式4)\n",
    "\n",
    "因此我们可以维护一个大小为k的字典，其中key为⌊num/t⌋，value为num，如果存在一个数 x 满足条件2，那么这个数的key必然是{⌊num/t⌋−1,⌊num/t⌋,⌊num/t⌋+1}三数之一；也就是说我们只需要验证key等于这三数对应的value，与num的差的绝对值是否小于t。\n"
   ]
  },
  {
   "cell_type": "code",
   "execution_count": 1,
   "metadata": {},
   "outputs": [],
   "source": [
    "class Solution(object):\n",
    "    def containsNearbyAlmostDuplicate(self, nums, k, t):\n",
    "        \"\"\"\n",
    "        :type nums: List[int]\n",
    "        :type k: int\n",
    "        :type t: int\n",
    "        :rtype: bool\n",
    "        \"\"\"\n",
    "        # 检验数据合法性\n",
    "        if k < 1 or t < 0:\n",
    "            return False\n",
    "        # 这里采用有序字典，它是dict的一个继承子类，按照元素输入顺序进行排序\n",
    "        dic = collections.OrderedDict()\n",
    "        for n in nums:\n",
    "            # 注意判断t是否为0\n",
    "            key = n if not t else n // t\n",
    "            for m in (dic.get(key - 1), dic.get(key), dic.get(key + 1)):\n",
    "                # 如果找到一个数满足条件一，返回\n",
    "                if m is not None and abs(n - m) <= t:\n",
    "                    return True\n",
    "            if len(dic) == k:\n",
    "                # 维持字典大小为k，如果超过，删除first；函数原型：dict.popitem(last=False)，不加参数表示随机从头尾删除一个\n",
    "                dic.popitem(False)\n",
    "            # 加入新数\n",
    "            dic[key] = n\n",
    "        return False\n",
    "    "
   ]
  },
  {
   "cell_type": "markdown",
   "metadata": {},
   "source": [
    "我的最初思路，but 超时"
   ]
  },
  {
   "cell_type": "code",
   "execution_count": 2,
   "metadata": {},
   "outputs": [],
   "source": [
    "class Solution(object):\n",
    "    def containsNearbyAlmostDuplicate(self, nums, k, t):\n",
    "        \"\"\"\n",
    "        :type nums: List[int]\n",
    "        :type k: int\n",
    "        :type t: int\n",
    "        :rtype: bool\n",
    "        \"\"\"\n",
    "        if k<0 or t<0:\n",
    "            return False\n",
    "        \n",
    "        for i in range(len(nums)):\n",
    "            for j in range(i+1, len(nums)):\n",
    "                if abs(i-j)<=k and abs(nums[i]-nums[j])<=t:\n",
    "                    return True\n",
    "        return False\n",
    "                    \n",
    "\n",
    "   "
   ]
  }
 ],
 "metadata": {
  "kernelspec": {
   "display_name": "Python 3",
   "language": "python",
   "name": "python3"
  },
  "language_info": {
   "codemirror_mode": {
    "name": "ipython",
    "version": 3
   },
   "file_extension": ".py",
   "mimetype": "text/x-python",
   "name": "python",
   "nbconvert_exporter": "python",
   "pygments_lexer": "ipython3",
   "version": "3.6.5"
  }
 },
 "nbformat": 4,
 "nbformat_minor": 2
}
