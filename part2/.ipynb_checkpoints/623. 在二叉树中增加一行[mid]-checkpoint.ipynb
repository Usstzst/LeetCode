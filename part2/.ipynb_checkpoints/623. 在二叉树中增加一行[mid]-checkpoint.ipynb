{
 "cells": [
  {
   "cell_type": "markdown",
   "metadata": {},
   "source": [
    "# 题目原意"
   ]
  },
  {
   "cell_type": "raw",
   "metadata": {},
   "source": [
    "给定一个二叉树，根节点为第1层，深度为 1。在其第 d 层追加一行值为 v 的节点。\n",
    "\n",
    "添加规则：给定一个深度值 d （正整数），针对深度为 d-1 层的每一非空节点 N，为 N 创建两个值为 v 的左子树和右子树。\n",
    "\n",
    "将 N 原先的左子树，连接为新节点 v 的左子树；将 N 原先的右子树，连接为新节点 v 的右子树。\n",
    "\n",
    "如果 d 的值为 1，深度 d - 1 不存在，则创建一个新的根节点 v，原先的整棵树将作为 v 的左子树。\n",
    "\n",
    "示例 1:\n",
    "\n",
    "输入: \n",
    "二叉树如下所示:\n",
    "       4\n",
    "     /   \\\n",
    "    2     6\n",
    "   / \\   / \n",
    "  3   1 5   \n",
    "\n",
    "v = 1\n",
    "\n",
    "d = 2\n",
    "\n",
    "输出: \n",
    "       4\n",
    "      / \\\n",
    "     1   1\n",
    "    /     \\\n",
    "   2       6\n",
    "  / \\     / \n",
    " 3   1   5   \n",
    "\n",
    "示例 2:\n",
    "\n",
    "输入: \n",
    "二叉树如下所示:\n",
    "      4\n",
    "     /   \n",
    "    2    \n",
    "   / \\   \n",
    "  3   1    \n",
    "\n",
    "v = 1\n",
    "\n",
    "d = 3\n",
    "\n",
    "输出: \n",
    "      4\n",
    "     /   \n",
    "    2\n",
    "   / \\    \n",
    "  1   1\n",
    " /     \\  \n",
    "3       1\n",
    "注意:\n",
    "\n",
    "输入的深度值 d 的范围是：[1，二叉树最大深度 + 1]。\n",
    "输入的二叉树至少有一个节点。"
   ]
  },
  {
   "cell_type": "markdown",
   "metadata": {},
   "source": [
    "## 思路一"
   ]
  },
  {
   "cell_type": "raw",
   "metadata": {},
   "source": [
    "采用的是递归的解法。其实仔细读题是有很大的作用的，题目中说了很清楚了，如果d是1的话，新建节点，原来的root设成该节点的左边节点。如果d是2的话，就给root节点新建出左右节点，把原来的root子节点设置成新子节点的子节点即可～～"
   ]
  },
  {
   "cell_type": "code",
   "execution_count": 1,
   "metadata": {},
   "outputs": [],
   "source": [
    "# Definition for a binary tree node.\n",
    "# class TreeNode(object):\n",
    "#     def __init__(self, x):\n",
    "#         self.val = x\n",
    "#         self.left = None\n",
    "#         self.right = None\n",
    "\n",
    "class Solution(object):\n",
    "    def addOneRow(self, root, v, d):\n",
    "        \"\"\"\n",
    "        :type root: TreeNode\n",
    "        :type v: int\n",
    "        :type d: int\n",
    "        :rtype: TreeNode\n",
    "        \"\"\"\n",
    "        if not root: return root\n",
    "        if d == 1:\n",
    "            left = TreeNode(v)\n",
    "            left.left = root\n",
    "            root = left\n",
    "        elif d == 2:\n",
    "            left = TreeNode(v)\n",
    "            right = TreeNode(v)\n",
    "            left.left = root.left\n",
    "            right.right = root.right\n",
    "            root.left = left\n",
    "            root.right = right\n",
    "        else:\n",
    "            self.addOneRow(root.left, v, d - 1)\n",
    "            self.addOneRow(root.right, v, d - 1)\n",
    "        return root\n"
   ]
  }
 ],
 "metadata": {
  "kernelspec": {
   "display_name": "Python 3",
   "language": "python",
   "name": "python3"
  },
  "language_info": {
   "codemirror_mode": {
    "name": "ipython",
    "version": 3
   },
   "file_extension": ".py",
   "mimetype": "text/x-python",
   "name": "python",
   "nbconvert_exporter": "python",
   "pygments_lexer": "ipython3",
   "version": "3.7.0"
  }
 },
 "nbformat": 4,
 "nbformat_minor": 2
}
