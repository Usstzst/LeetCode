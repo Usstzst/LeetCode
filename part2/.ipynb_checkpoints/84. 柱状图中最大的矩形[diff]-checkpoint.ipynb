{
 "cells": [
  {
   "cell_type": "markdown",
   "metadata": {},
   "source": [
    "# 题目原意"
   ]
  },
  {
   "cell_type": "raw",
   "metadata": {},
   "source": [
    "给定 n 个非负整数，用来表示柱状图中各个柱子的高度。每个柱子彼此相邻，且宽度为 1 。\n",
    "\n",
    "求在该柱状图中，能够勾勒出来的矩形的最大面积。"
   ]
  },
  {
   "cell_type": "markdown",
   "metadata": {},
   "source": [
    "## 思路一"
   ]
  },
  {
   "cell_type": "code",
   "execution_count": 2,
   "metadata": {},
   "outputs": [],
   "source": [
    "class Solution:\n",
    "    def largestRectangleArea(self, heights):\n",
    "        \n",
    "        \"\"\"\n",
    "        :type heights: List[int]\n",
    "        :rtype: int\n",
    "        \"\"\"\n",
    "        \n",
    "        i = 0\n",
    "        max_value = 0\n",
    "        stack = []\n",
    "        heights.append(0)\n",
    "       \n",
    "        while i < len(heights):\n",
    "            \n",
    "            if len(stack) == 0 or heights[stack[-1]] <= heights[i]:\n",
    "                stack.append(i)\n",
    "                i += 1\n",
    "            else:\n",
    "                now_idx = stack.pop()\n",
    "                \n",
    "                if len(stack) == 0:\n",
    "                    max_value = max(max_value,i * heights[now_idx])\n",
    "                else:                    \n",
    "                    max_value = max(max_value,(i- stack[-1] -1) * heights[now_idx])\n",
    "                    \n",
    "        return max_value"
   ]
  }
 ],
 "metadata": {
  "kernelspec": {
   "display_name": "Python 3",
   "language": "python",
   "name": "python3"
  },
  "language_info": {
   "codemirror_mode": {
    "name": "ipython",
    "version": 3
   },
   "file_extension": ".py",
   "mimetype": "text/x-python",
   "name": "python",
   "nbconvert_exporter": "python",
   "pygments_lexer": "ipython3",
   "version": "3.6.5"
  }
 },
 "nbformat": 4,
 "nbformat_minor": 2
}
