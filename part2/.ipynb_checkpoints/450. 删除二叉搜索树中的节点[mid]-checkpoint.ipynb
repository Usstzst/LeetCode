{
 "cells": [
  {
   "cell_type": "markdown",
   "metadata": {},
   "source": [
    "# 题目愿意"
   ]
  },
  {
   "cell_type": "raw",
   "metadata": {},
   "source": [
    "给定一个二叉搜索树的根节点 root 和一个值 key，删除二叉搜索树中的 key 对应的节点，并保证二叉搜索树的性质不变。返回二叉搜索树（有可能被更新）的根节点的引用。\n",
    "\n",
    "一般来说，删除节点可分为两个步骤：\n",
    "\n",
    "首先找到需要删除的节点；\n",
    "如果找到了，删除它。\n",
    "说明： 要求算法时间复杂度为 O(h)，h 为树的高度。\n",
    "\n",
    "示例:\n",
    "\n",
    "root = [5,3,6,2,4,null,7]\n",
    "key = 3\n",
    "\n",
    "    5\n",
    "   / \\\n",
    "  3   6\n",
    " / \\   \\\n",
    "2   4   7\n",
    "\n",
    "给定需要删除的节点值是 3，所以我们首先找到 3 这个节点，然后删除它。\n",
    "\n",
    "一个正确的答案是 [5,4,6,2,null,null,7], 如下图所示。\n",
    "\n",
    "    5\n",
    "   / \\\n",
    "  4   6\n",
    " /     \\\n",
    "2       7\n",
    "\n",
    "另一个正确答案是 [5,2,6,null,4,null,7]。\n",
    "\n",
    "    5\n",
    "   / \\\n",
    "  2   6\n",
    "   \\   \\\n",
    "    4   7"
   ]
  },
  {
   "cell_type": "markdown",
   "metadata": {},
   "source": [
    "## 思路一"
   ]
  },
  {
   "cell_type": "raw",
   "metadata": {},
   "source": [
    "这个题的解法并不是固定的，删除之后的二叉树也不止一种。比如可以有下面两种主要的方法：\n",
    "\n",
    "节点没有左子树：返回其右子树\n",
    "节点没有右子树：返回其左子树\n",
    "既有左子树，又有右子树： \n",
    "1）查找到其右子树的最小值的节点，替换掉被删除的节点，并删除找到的最小节点 \n",
    "2）查找到其左子树的最大值的节点，替换掉被删除的节点，并删除找到的最大节点\n"
   ]
  },
  {
   "cell_type": "code",
   "execution_count": 1,
   "metadata": {},
   "outputs": [],
   "source": [
    "# Definition for a binary tree node.\n",
    "# class TreeNode(object):\n",
    "#     def __init__(self, x):\n",
    "#         self.val = x\n",
    "#         self.left = None\n",
    "#         self.right = None\n",
    "\n",
    "class Solution(object):\n",
    "    def deleteNode(self, root, key):\n",
    "        \"\"\"\n",
    "        :type root: TreeNode\n",
    "        :type key: int\n",
    "        :rtype: TreeNode\n",
    "        \"\"\"\n",
    "        if not root: return None\n",
    "        if root.val == key:\n",
    "            if not root.right:\n",
    "                left = root.left\n",
    "                return left\n",
    "            else:\n",
    "                right = root.right\n",
    "                while right.left:\n",
    "                    right = right.left\n",
    "                root.val, right.val = right.val, root.val\n",
    "        root.left = self.deleteNode(root.left, key)\n",
    "        root.right = self.deleteNode(root.right, key)\n",
    "        return root\n"
   ]
  }
 ],
 "metadata": {
  "kernelspec": {
   "display_name": "Python 3",
   "language": "python",
   "name": "python3"
  },
  "language_info": {
   "codemirror_mode": {
    "name": "ipython",
    "version": 3
   },
   "file_extension": ".py",
   "mimetype": "text/x-python",
   "name": "python",
   "nbconvert_exporter": "python",
   "pygments_lexer": "ipython3",
   "version": "3.7.3"
  }
 },
 "nbformat": 4,
 "nbformat_minor": 2
}
