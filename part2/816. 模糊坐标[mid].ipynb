{
 "cells": [
  {
   "cell_type": "markdown",
   "metadata": {},
   "source": [
    "# 题目原意"
   ]
  },
  {
   "cell_type": "raw",
   "metadata": {},
   "source": [
    "我们有一些二维坐标，如 \"(1, 3)\" 或 \"(2, 0.5)\"，然后我们移除所有逗号，小数点和空格，得到一个字符串S。返回所有可能的原始字符串到一个列表中。\n",
    "\n",
    "原始的坐标表示法不会存在多余的零，所以不会出现类似于\"00\", \"0.0\", \"0.00\", \"1.0\", \"001\", \"00.01\"或一些其他更小的数来表示坐标。此外，一个小数点前至少存在一个数，所以也不会出现“.1”形式的数字。\n",
    "\n",
    "最后返回的列表可以是任意顺序的。而且注意返回的两个数字中间（逗号之后）都有一个空格。"
   ]
  },
  {
   "cell_type": "raw",
   "metadata": {},
   "source": [
    "示例 1:\n",
    "输入: \"(123)\"\n",
    "输出: [\"(1, 23)\", \"(12, 3)\", \"(1.2, 3)\", \"(1, 2.3)\"]\n",
    "\n",
    "示例 2:\n",
    "输入: \"(00011)\"\n",
    "输出:  [\"(0.001, 1)\", \"(0, 0.011)\"]\n",
    "解释: \n",
    "0.0, 00, 0001 或 00.01 是不被允许的。\n",
    "\n",
    "示例 3:\n",
    "输入: \"(0123)\"\n",
    "输出: [\"(0, 123)\", \"(0, 12.3)\", \"(0, 1.23)\", \"(0.1, 23)\", \"(0.1, 2.3)\", \"(0.12, 3)\"]\n",
    "\n",
    "示例 4:\n",
    "输入: \"(100)\"\n",
    "输出: [(10, 0)]\n",
    "解释: \n",
    "1.0 是不被允许的。\n",
    " \n",
    "\n",
    "提示:\n",
    "4 <= S.length <= 12.\n",
    "S[0] = \"(\", S[S.length - 1] = \")\", 且字符串 S 中的其他元素都是数字。\n",
    " "
   ]
  },
  {
   "cell_type": "markdown",
   "metadata": {},
   "source": [
    "## 思路一"
   ]
  },
  {
   "cell_type": "raw",
   "metadata": {},
   "source": [
    "首先分成两部分还好办，直接用字符串切片即可。其次，难点在于判断分成合理的整数和小数。\n",
    "\n",
    "1、看能否组成合理整数：长度为1或者没有前导0\n",
    "2、看能否组成合理小数：把数字再次分割成整数部分和小数部分\n",
    "3、整数部分可以只有1位并且为0，否则不能有前导0\n",
    "4、小数部分结尾不能为0\n",
    "5、最后的结果是分成的左右部分能够成的所有整数或者小数的组合。\n"
   ]
  },
  {
   "cell_type": "code",
   "execution_count": 1,
   "metadata": {},
   "outputs": [],
   "source": [
    "class Solution(object):\n",
    "    def ambiguousCoordinates(self, S):\n",
    "        \"\"\"\n",
    "        :type S: str\n",
    "        :rtype: List[str]\n",
    "        \"\"\"\n",
    "        ans = []\n",
    "        S = S[1:-1]\n",
    "        for i in range(1, len(S)):\n",
    "            left, right = S[:i], S[i:]\n",
    "            left_list = self.get_number(left)\n",
    "            right_list = self.get_number(right)\n",
    "            if left_list and right_list:\n",
    "                for left_number in left_list:\n",
    "                    for right_number in right_list:\n",
    "                        ans.append(\"(\" + left_number + \", \" + right_number + \")\")\n",
    "        return ans\n",
    "\n",
    "    \n",
    "    def get_number(self, num):\n",
    "        decimal_list = []\n",
    "        if len(num) == 1 or num[0] != '0':\n",
    "            decimal_list.append(num)\n",
    "        for i in range(1, len(num)):\n",
    "            integer, fractor = num[:i], num[i:]\n",
    "            print(integer, fractor)\n",
    "            if (len(integer) > 1 and integer[0] == '0') or fractor[-1] == '0':\n",
    "                continue\n",
    "            decimal_list.append(integer + '.' + fractor)\n",
    "        return decimal_list\n"
   ]
  }
 ],
 "metadata": {
  "kernelspec": {
   "display_name": "Python 3",
   "language": "python",
   "name": "python3"
  },
  "language_info": {
   "codemirror_mode": {
    "name": "ipython",
    "version": 3
   },
   "file_extension": ".py",
   "mimetype": "text/x-python",
   "name": "python",
   "nbconvert_exporter": "python",
   "pygments_lexer": "ipython3",
   "version": "3.6.5"
  }
 },
 "nbformat": 4,
 "nbformat_minor": 2
}


