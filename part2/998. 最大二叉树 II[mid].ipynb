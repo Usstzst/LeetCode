{
 "cells": [
  {
   "cell_type": "markdown",
   "metadata": {},
   "source": [
    "# 题目原意"
   ]
  },
  {
   "cell_type": "raw",
   "metadata": {},
   "source": [
    "最大树定义：一个树，其中每个节点的值都大于其子树中的任何其他值。\n",
    "\n",
    "给出最大树的根节点 root。\n",
    "\n",
    "就像之前的问题那样，给定的树是从表 A（root = Construct(A)）递归地使用下述 Construct(A) 例程构造的：\n",
    "\n",
    "如果 A 为空，返回 null\n",
    "否则，令 A[i] 作为 A 的最大元素。创建一个值为 A[i] 的根节点 root\n",
    "root 的左子树将被构建为 Construct([A[0], A[1], ..., A[i-1]])\n",
    "root 的右子树将被构建为 Construct([A[i+1], A[i+2], ..., A[A.length - 1]])\n",
    "返回 root\n",
    "请注意，我们没有直接给定 A，只有一个根节点 root = Construct(A).\n",
    "\n",
    "假设 B 是 A 的副本，并附加值 val。保证 B 中的值是不同的。\n",
    "\n",
    "返回 Construct(B)。\n",
    "\n",
    " \n",
    "\n"
   ]
  },
  {
   "cell_type": "raw",
   "metadata": {},
   "source": [
    "示例 1：\n",
    "输入：root = [4,1,3,null,null,2], val = 5\n",
    "输出：[5,4,null,1,3,null,null,2]\n",
    "解释：A = [1,4,2,3], B = [1,4,2,3,5]\n",
    "\n",
    "示例 2：\n",
    "输入：root = [5,2,4,null,1], val = 3\n",
    "输出：[5,2,4,null,1,null,3]\n",
    "解释：A = [2,1,5,4], B = [2,1,5,4,3]\n",
    "\n",
    "示例 3：\n",
    "输入：root = [5,2,3,null,1], val = 4\n",
    "输出：[5,2,4,null,1,3]\n",
    "解释：A = [2,1,5,3], B = [2,1,5,3,4]\n",
    " \n",
    "\n",
    "提示：\n",
    "1 <= B.length <= 100"
   ]
  },
  {
   "cell_type": "markdown",
   "metadata": {},
   "source": [
    "## 思路一"
   ]
  },
  {
   "cell_type": "raw",
   "metadata": {},
   "source": [
    "给出了一个最大树A，在最大树A的数组表示的末尾添加一个val构成一个新的数组表示，并生成最大树B，返回新最大树的root节点。\n",
    "\n",
    "最大树就是找出数组中最大的元素作为根节点，该最大元素左边元素当做左子树、右边元素当做右子树。"
   ]
  },
  {
   "cell_type": "raw",
   "metadata": {},
   "source": [
    "递归最重要的是明白递归函数的意义：insertIntoMaxTree(root, val)代表了向root子树的数组表示法的末尾添加一个值为val的新节点，并把结果进行返回。\n",
    "\n",
    "·如果原来的A不存在，那么很简单要返回该新节点。\n",
    "·如果A存在，在A的数组表示的最后新添加了一个val，两种情况：\n",
    "·如果val > root.val，已知root.val是数组中最大的元素了，所以，此时会形成一个新的根节点，并把原来的A当做该根节点的左子树\n",
    "·如果val < root.val，那么仍然要记住该节点是在最大元素的右边，所以根节点的右子树变成了在根节点的右子树插入val的新子树。\n"
   ]
  },
  {
   "cell_type": "code",
   "execution_count": 2,
   "metadata": {},
   "outputs": [],
   "source": [
    "# Definition for a binary tree node.\n",
    "# class TreeNode(object):\n",
    "#     def __init__(self, x):\n",
    "#         self.val = x\n",
    "#         self.left = None\n",
    "#         self.right = None\n",
    "\n",
    "class Solution(object):\n",
    "    def insertIntoMaxTree(self, root, val):\n",
    "        \"\"\"\n",
    "        :type root: TreeNode\n",
    "        :type val: int\n",
    "        :rtype: TreeNode\n",
    "        \"\"\"\n",
    "        \n",
    "        if not root:\n",
    "            return TreeNode(val)\n",
    "        if val > root.val:\n",
    "            T = TreeNode(val)\n",
    "            T.left = root\n",
    "            return T\n",
    "        else:\n",
    "            root.right = self.insertIntoMaxTree(root.right, val)\n",
    "        \n",
    "        return root\n",
    "        \n",
    "        "
   ]
  }
 ],
 "metadata": {
  "kernelspec": {
   "display_name": "Python 3",
   "language": "python",
   "name": "python3"
  },
  "language_info": {
   "codemirror_mode": {
    "name": "ipython",
    "version": 3
   },
   "file_extension": ".py",
   "mimetype": "text/x-python",
   "name": "python",
   "nbconvert_exporter": "python",
   "pygments_lexer": "ipython3",
   "version": "3.7.0"
  }
 },
 "nbformat": 4,
 "nbformat_minor": 2
}
