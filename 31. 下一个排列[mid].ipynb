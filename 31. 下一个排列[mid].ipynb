{
 "cells": [
  {
   "cell_type": "markdown",
   "metadata": {},
   "source": [
    "# 题目原意"
   ]
  },
  {
   "cell_type": "raw",
   "metadata": {},
   "source": [
    "实现获取下一个排列的函数，算法需要将给定数字序列重新排列成字典序中下一个更大的排列。\n",
    "\n",
    "如果不存在下一个更大的排列，则将数字重新排列成最小的排列（即升序排列）。\n",
    "\n",
    "必须原地修改，只允许使用额外常数空间。\n",
    "\n",
    "以下是一些例子，输入位于左侧列，其相应输出位于右侧列。\n",
    "1,2,3 → 1,3,2\n",
    "3,2,1 → 1,2,3\n",
    "1,1,5 → 1,5,1"
   ]
  },
  {
   "cell_type": "markdown",
   "metadata": {},
   "source": [
    "## 思路一："
   ]
  },
  {
   "cell_type": "raw",
   "metadata": {},
   "source": [
    "首先从右向左遍历数组，找到第一个相邻的左<右的数对，记右下标为x，则左下标为x - 1\n",
    "\n",
    "若x > 0，则再次从右向左遍历数组，直到找到第一个大于nums[x - 1]的数字为止，记其下标为y，交换nums[x - 1], nums[y]\n",
    "\n",
    "最后将nums[x]及其右边的元素就地逆置"
   ]
  },
  {
   "attachments": {},
   "cell_type": "raw",
   "metadata": {},
   "source": [
    "Example：\n",
    "\n",
    "6 5 4 8 7 5 1\n",
    "从后往前遍历，找到第一个相邻的左<右的数对（4 8），分别记录下标(x, x-1)即（2,3）。若x>0，则将x后面的数字进行升序排列"
   ]
  },
  {
   "cell_type": "code",
   "execution_count": 1,
   "metadata": {},
   "outputs": [],
   "source": [
    "class Solution(object):\n",
    "    def nextPermutation(self, nums):\n",
    "        \"\"\"\n",
    "        :type nums: List[int]\n",
    "        :rtype: void Do not return anything, modify nums in-place instead.\n",
    "        \"\"\"\n",
    "        \n",
    "        size = len(nums)\n",
    "        for x in range(size-1, -1, -1):\n",
    "            if nums[x-1] < nums[x]:\n",
    "                break\n",
    "        if x > 0:\n",
    "            for y in range(size-1, -1, -1):\n",
    "                if nums[y] > nums[x-1]:\n",
    "                    nums[x-1], nums[y] = nums[y], nums[x-1]\n",
    "                    break\n",
    "        for z in range((size-x)/2):\n",
    "            nums[x+z], nums[size-z-1] = nums[size-z-1], nums[x+z]\n",
    "\n",
    "# Note: nums是在原地修改，所以不需要return (有return反而报错)"
   ]
  }
 ],
 "metadata": {
  "kernelspec": {
   "display_name": "Python 3",
   "language": "python",
   "name": "python3"
  },
  "language_info": {
   "codemirror_mode": {
    "name": "ipython",
    "version": 3
   },
   "file_extension": ".py",
   "mimetype": "text/x-python",
   "name": "python",
   "nbconvert_exporter": "python",
   "pygments_lexer": "ipython3",
   "version": "3.6.5"
  }
 },
 "nbformat": 4,
 "nbformat_minor": 2
}
