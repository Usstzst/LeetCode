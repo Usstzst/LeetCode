{
 "cells": [
  {
   "cell_type": "markdown",
   "metadata": {},
   "source": [
    "# 题目原意"
   ]
  },
  {
   "cell_type": "raw",
   "metadata": {},
   "source": [
    "给出一个完全二叉树，求出该树的节点个数。\n",
    "\n",
    "说明：\n",
    "\n",
    "完全二叉树的定义如下：在完全二叉树中，除了最底层节点可能没填满外，其余每层节点数都达到最大值，并且最下面一层的节点都集中在该层最左边的若干位置。若最底层为第 h 层，则该层包含 1~ 2h 个节点。"
   ]
  },
  {
   "cell_type": "raw",
   "metadata": {},
   "source": [
    "示例:\n",
    "\n",
    "输入: \n",
    "    1\n",
    "   / \\\n",
    "  2   3\n",
    " / \\  /\n",
    "4  5 6\n",
    "\n",
    "输出: 6"
   ]
  },
  {
   "cell_type": "markdown",
   "metadata": {},
   "source": [
    "## 思路一"
   ]
  },
  {
   "cell_type": "raw",
   "metadata": {},
   "source": [
    "求完全二叉树的节点数目。注意完全二叉树和满二叉树Full Binary Tree的唯一区别是，完全二叉树最后一层的节点不满，而且假设最后一层有节点，都是从左边开始。 这样我们可以利用这个性质得到下面的结论：\n",
    "\n",
    "假如左子树高度等于右子树高度，则右子树为完全二叉树，左子树为满二叉树。\n",
    "假如高度不等，则左字数为完全二叉树，右子树为满二叉树。\n",
    "求高度的时候只往左子树来找。\n",
    "可以使用上面的结论得出本题的解法：\n",
    "\n",
    "先构造一个getHeight方法， 用来求出二叉树的高度。这里我们只用求从根节点到最左端节点的长度。\n",
    "\n",
    "求出根节点左子树高度leftHeight和根节点右子树高度rightHeight\n",
    "\n",
    "假如两者相等，那么说明左子树是满二叉树，而右子树可能是完全二叉树。 \n",
    "– 我们可以返回 2 ^ leftHeight - 1 + 1 + countNodes(root.right) \n",
    "– 这里+1是因为把根节点也算进去，化简一下就是 1 << leftHeight + countNodes(root.right)，返回结果\n",
    "否则两者不等，说明左子树是完全二叉树，右子树是满二叉树 \n",
    "– 我们可以返回 2^ rightHeight - 1 + 1 + countNodeS(root.left) \n",
    "– 化简以后得到 1 << rightHeight + countNodes(root.left)，返回结果\n"
   ]
  },
  {
   "cell_type": "code",
   "execution_count": 1,
   "metadata": {},
   "outputs": [],
   "source": [
    "# Definition for a binary tree node.\n",
    "# class TreeNode(object):\n",
    "#     def __init__(self, x):\n",
    "#         self.val = x\n",
    "#         self.left = None\n",
    "#         self.right = None\n",
    "\n",
    "class Solution(object):\n",
    "    def countNodes(self, root):\n",
    "        \"\"\"\n",
    "        :type root: TreeNode\n",
    "        :rtype: int\n",
    "        \"\"\"\n",
    "        if not root: return 0\n",
    "        nodes = 0\n",
    "        left_height = self.getHeight(root.left)\n",
    "        right_height = self.getHeight(root.right)\n",
    "        if left_height == right_height:\n",
    "            nodes = 2**left_height +self.countNodes(root.right)\n",
    "        else:\n",
    "            noodes = 2**right_height + self.countNodes(root.left)\n",
    "        return nodes\n",
    "        \n",
    "\n",
    "\n",
    "    \n",
    "    def geiHeight(self, root):\n",
    "        height = 0\n",
    "        while root:\n",
    "            height += 1\n",
    "            root = root.left\n",
    "        return height\n"
   ]
  }
 ],
 "metadata": {
  "kernelspec": {
   "display_name": "Python 3",
   "language": "python",
   "name": "python3"
  },
  "language_info": {
   "codemirror_mode": {
    "name": "ipython",
    "version": 3
   },
   "file_extension": ".py",
   "mimetype": "text/x-python",
   "name": "python",
   "nbconvert_exporter": "python",
   "pygments_lexer": "ipython3",
   "version": "3.6.5"
  }
 },
 "nbformat": 4,
 "nbformat_minor": 2
}
