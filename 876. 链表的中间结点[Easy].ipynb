{
 "cells": [
  {
   "cell_type": "markdown",
   "metadata": {},
   "source": [
    "# 题目原意"
   ]
  },
  {
   "cell_type": "raw",
   "metadata": {},
   "source": [
    "给定一个带有头结点 head 的非空单链表，返回链表的中间结点。\n",
    "\n",
    "如果有两个中间结点，则返回第二个中间结点。"
   ]
  },
  {
   "cell_type": "raw",
   "metadata": {},
   "source": [
    "Example 1:\n",
    "\n",
    "输入：[1,2,3,4,5]\n",
    "输出：此列表中的结点 3 (序列化形式：[3,4,5])\n",
    "返回的结点值为 3 。 (测评系统对该结点序列化表述是 [3,4,5])。\n",
    "注意，我们返回了一个 ListNode 类型的对象 ans，这样：\n",
    "ans.val = 3, ans.next.val = 4, ans.next.next.val = 5, 以及 ans.next.next.next = NULL.\n",
    "\n",
    "\n",
    "Example 2:\n",
    "输入：[1,2,3,4,5,6]\n",
    "输出：此列表中的结点 4 (序列化形式：[4,5,6])\n",
    "由于该列表有两个中间结点，值分别为 3 和 4，我们返回第二个结点。\n"
   ]
  },
  {
   "cell_type": "markdown",
   "metadata": {},
   "source": [
    "## 思路一："
   ]
  },
  {
   "cell_type": "raw",
   "metadata": {},
   "source": [
    "设置两个指针，一个快的一个慢的，慢的每次走一步，快的每次走两步。当快的指针到达尾部时，慢的指针就是要求的值了，返回即可。"
   ]
  },
  {
   "cell_type": "code",
   "execution_count": 1,
   "metadata": {},
   "outputs": [],
   "source": [
    "# Definition for singly-linked list.\n",
    "# class ListNode:\n",
    "#     def __init__(self, x):\n",
    "#         self.val = x\n",
    "#         self.next = None\n",
    "\n",
    "class Solution:\n",
    "    def middleNode(self, head):\n",
    "        slow = fast = head  # 初始化两个指针\n",
    "        while fast and fast.next:\n",
    "            slow = slow.next  # 走一步\n",
    "            fast = fast.next.next  # 走两步\n",
    "        return slow\n"
   ]
  }
 ],
 "metadata": {
  "kernelspec": {
   "display_name": "Python 3",
   "language": "python",
   "name": "python3"
  },
  "language_info": {
   "codemirror_mode": {
    "name": "ipython",
    "version": 3
   },
   "file_extension": ".py",
   "mimetype": "text/x-python",
   "name": "python",
   "nbconvert_exporter": "python",
   "pygments_lexer": "ipython3",
   "version": "3.7.0"
  }
 },
 "nbformat": 4,
 "nbformat_minor": 2
}
