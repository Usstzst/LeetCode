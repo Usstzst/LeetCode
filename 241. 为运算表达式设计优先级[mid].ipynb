{
 "cells": [
  {
   "cell_type": "markdown",
   "metadata": {},
   "source": [
    "# 题目原意"
   ]
  },
  {
   "cell_type": "raw",
   "metadata": {},
   "source": [
    "给定一个含有数字和运算符的字符串，为表达式添加括号，改变其运算优先级以求出不同的结果。你需要给出所有可能的组合的结果。有效的运算符号包含 +, - 以及 * 。\n"
   ]
  },
  {
   "cell_type": "raw",
   "metadata": {},
   "source": [
    "示例 1:\n",
    "输入: \"2-1-1\"\n",
    "输出: [0, 2]\n",
    "解释: \n",
    "((2-1)-1) = 0 \n",
    "(2-(1-1)) = 2\n",
    "\n",
    "示例 2:\n",
    "输入: \"2*3-4*5\"\n",
    "输出: [-34, -14, -10, -10, 10]\n",
    "解释: \n",
    "(2*(3-(4*5))) = -34 \n",
    "((2*3)-(4*5)) = -14 \n",
    "((2*(3-4))*5) = -10 \n",
    "(2*((3-4)*5)) = -10 \n",
    "(((2*3)-4)*5) = 10"
   ]
  },
  {
   "cell_type": "markdown",
   "metadata": {},
   "source": [
    "## 思路一：分而治之"
   ]
  },
  {
   "cell_type": "raw",
   "metadata": {},
   "source": [
    "循环遍历式子中的每个位置，如果这个位置是运算符，那么把左右的式子分别计算值，然后用运算符拼到一起。如果上面这个遍历中没有遇到运算符，那么res数组就是空的，这时input是个数字，所以结果把这个数字放进去，再返回即可。"
   ]
  },
  {
   "cell_type": "code",
   "execution_count": 1,
   "metadata": {},
   "outputs": [],
   "source": [
    "class Solution(object):\n",
    "    def diffWaysToCompute(self, input):\n",
    "        \"\"\"\n",
    "        :type input: str\n",
    "        :rtype: List[int]\n",
    "        \"\"\"\n",
    "        res = list()\n",
    "        N = len(input)\n",
    "        for i in range(N):\n",
    "            if input[i]== '+' or input[i]=='-' or input[i]=='*':\n",
    "                lefts = self.diffWaysToCompute(input[:i])\n",
    "                rights = self.diffWaysToCompute(input[i+1:])\n",
    "                for left in lefts:\n",
    "                    for right in rights:\n",
    "                        if input[i] == '+':\n",
    "                            res.append(left+right)\n",
    "                        elif input[i] == '-':\n",
    "                            res.append((left - right))\n",
    "                        elif input[i] == '*':\n",
    "                            res.append(left * right)\n",
    "        if not res:\n",
    "            res.append(int(input))\n",
    "        return res"
   ]
  }
 ],
 "metadata": {
  "kernelspec": {
   "display_name": "Python 3",
   "language": "python",
   "name": "python3"
  },
  "language_info": {
   "codemirror_mode": {
    "name": "ipython",
    "version": 3
   },
   "file_extension": ".py",
   "mimetype": "text/x-python",
   "name": "python",
   "nbconvert_exporter": "python",
   "pygments_lexer": "ipython3",
   "version": "3.6.5"
  }
 },
 "nbformat": 4,
 "nbformat_minor": 2
}
