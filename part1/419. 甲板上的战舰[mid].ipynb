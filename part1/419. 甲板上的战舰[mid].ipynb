{
 "cells": [
  {
   "cell_type": "markdown",
   "metadata": {},
   "source": [
    "# 题目原意"
   ]
  },
  {
   "cell_type": "raw",
   "metadata": {},
   "source": [
    "给定一个二维的甲板， 请计算其中有多少艘战舰。 战舰用 'X'表示，空位用 '.'表示。 你需要遵守以下规则：\n",
    "\n",
    "给你一个有效的甲板，仅由战舰或者空位组成。\n",
    "战舰只能水平或者垂直放置。换句话说,战舰只能由 1xN (1 行, N 列)组成，或者 Nx1 (N 行, 1 列)组成，其中N可以是任意大小。\n",
    "两艘战舰之间至少有一个水平或垂直的空位分隔 - 即没有相邻的战舰。\n"
   ]
  },
  {
   "cell_type": "raw",
   "metadata": {},
   "source": [
    "示例 :\n",
    "X..X\n",
    "...X\n",
    "...X\n",
    "在上面的甲板中有2艘战舰。\n",
    "\n",
    "无效样例 :\n",
    "...X\n",
    "XXXX\n",
    "...X\n",
    "你不会收到这样的无效甲板 - 因为战舰之间至少会有一个空位将它们分开。"
   ]
  },
  {
   "cell_type": "markdown",
   "metadata": {},
   "source": [
    "## 思路一"
   ]
  },
  {
   "cell_type": "raw",
   "metadata": {},
   "source": [
    "方法比较简单，直接数就行。\n",
    "\n",
    "如果一个位置有x，并且（这个位置在最左边或者不在最左边但是该位置左侧是 .），并且（这个位置在最上边或者不在最上边但是该位置上侧是 .）\n",
    "\n",
    "那么就是一个新的战列舰，计数即可。"
   ]
  },
  {
   "cell_type": "code",
   "execution_count": 1,
   "metadata": {},
   "outputs": [],
   "source": [
    "class Solution(object):\n",
    "    def countBattleships(self, board):\n",
    "        \"\"\"\n",
    "        :type board: List[List[str]]\n",
    "        :rtype: int\n",
    "        \"\"\"\n",
    "        if len(board) == 0 or len(board[0]) == 0:\n",
    "            return 0\n",
    "        row, col = len(board), len(board[0])\n",
    "        count = 0\n",
    "        for i in range(row):\n",
    "            for j in range(col):\n",
    "                if board[i][j] == 'X' and (i == 0 or board[i - 1][j] == '.') and (j == 0 or board[i][j - 1] == '.'):\n",
    "                    count += 1\n",
    "        return count\n"
   ]
  }
 ],
 "metadata": {
  "kernelspec": {
   "display_name": "Python 3",
   "language": "python",
   "name": "python3"
  },
  "language_info": {
   "codemirror_mode": {
    "name": "ipython",
    "version": 3
   },
   "file_extension": ".py",
   "mimetype": "text/x-python",
   "name": "python",
   "nbconvert_exporter": "python",
   "pygments_lexer": "ipython3",
   "version": "3.7.0"
  }
 },
 "nbformat": 4,
 "nbformat_minor": 2
}
