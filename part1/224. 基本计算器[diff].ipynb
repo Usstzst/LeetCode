{
 "cells": [
  {
   "cell_type": "markdown",
   "metadata": {},
   "source": [
    "# 题目原意"
   ]
  },
  {
   "cell_type": "raw",
   "metadata": {},
   "source": [
    "实现一个基本的计算器来计算一个简单的字符串表达式的值。\n",
    "\n",
    "字符串表达式可以包含左括号 ( ，右括号 )，加号 + ，减号 -，非负整数和空格  \n"
   ]
  },
  {
   "cell_type": "raw",
   "metadata": {},
   "source": [
    "示例 1:\n",
    "输入: \"1 + 1\"\n",
    "输出: 2\n",
    "\n",
    "示例 2:\n",
    "输入: \" 2-1 + 2 \"\n",
    "输出: 3\n",
    "\n",
    "示例 3:\n",
    "输入: \"(1+(4+5+2)-3)+(6+8)\"\n",
    "输出: 23\n",
    "\n",
    "说明：\n",
    "你可以假设所给定的表达式都是有效的。\n",
    "请不要使用内置的库函数 eval。"
   ]
  },
  {
   "cell_type": "markdown",
   "metadata": {},
   "source": [
    "## 思路一"
   ]
  },
  {
   "cell_type": "raw",
   "metadata": {},
   "source": [
    "使用了res表示不包括栈里数字在内的结果，num表示当前操作的数字，sign表示运算符的正负，用栈保存遇到括号时前面计算好了的结果和运算符。\n",
    "\n",
    "操作的步骤是：\n",
    "1. 如果当前是数字，那么更新计算当前数字；\n",
    "\n",
    "2. 如果当前是操作符+或者-，那么需要更新计算当前计算的结果res，并把当前数字num设为0，sign设为正负，重新开始；\n",
    "\n",
    "3. 如果当前是(，那么说明后面的小括号里的内容需要优先计算，所以要把res，sign进栈，更新res和sign为新的开始；\n",
    "\n",
    "4. 如果当前是)，那么说明当前括号里的内容已经计算完毕，所以要把之前的结果出栈，然后计算整个式子的结果；\n",
    "\n",
    "5. 最后，当所有数字结束的时候，需要把结果进行计算，确保结果是正确的。"
   ]
  },
  {
   "cell_type": "code",
   "execution_count": 2,
   "metadata": {},
   "outputs": [],
   "source": [
    "class Solution(object):\n",
    "    def calculate(self, s):\n",
    "        \"\"\"\n",
    "        :type s: str\n",
    "        :rtype: int\n",
    "        \"\"\"\n",
    "        res, num, sign = 0, 0, 1\n",
    "        stack = []\n",
    "        for c in s:\n",
    "            if c.isdigit():\n",
    "                num = 10*num + int(c)\n",
    "            elif c == '+' or c== '-':\n",
    "                res += sign*num\n",
    "                num = 0\n",
    "                sign = 1 if c=='+' else -1\n",
    "            elif c == '(':\n",
    "                stack.append(res)\n",
    "                stack.append(sign)\n",
    "                res = 0\n",
    "                sign = 1\n",
    "            elif c == ')':\n",
    "                res += sign * num\n",
    "                num =  0\n",
    "                res *= stack.pop()\n",
    "                res += stack.pop()\n",
    "        res += sign * num \n",
    "        return res\n",
    "        \n",
    "        \n",
    "\n",
    "       "
   ]
  }
 ],
 "metadata": {
  "kernelspec": {
   "display_name": "Python 3",
   "language": "python",
   "name": "python3"
  },
  "language_info": {
   "codemirror_mode": {
    "name": "ipython",
    "version": 3
   },
   "file_extension": ".py",
   "mimetype": "text/x-python",
   "name": "python",
   "nbconvert_exporter": "python",
   "pygments_lexer": "ipython3",
   "version": "3.6.5"
  }
 },
 "nbformat": 4,
 "nbformat_minor": 2
}
