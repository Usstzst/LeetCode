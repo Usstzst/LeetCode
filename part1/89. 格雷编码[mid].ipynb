{
 "cells": [
  {
   "cell_type": "markdown",
   "metadata": {},
   "source": [
    "# 题目原意"
   ]
  },
  {
   "cell_type": "raw",
   "metadata": {},
   "source": [
    "格雷编码是一个二进制数字系统，在该系统中，两个连续的数值仅有一个位数的差异。\n",
    "\n",
    "给定一个代表编码总位数的非负整数 n，打印其格雷编码序列。格雷编码序列必须以 0 开头。"
   ]
  },
  {
   "cell_type": "raw",
   "metadata": {},
   "source": [
    "示例 1:\n",
    "输入: 2\n",
    "输出: [0,1,3,2]\n",
    "解释:\n",
    "00 - 0\n",
    "01 - 1\n",
    "11 - 3\n",
    "10 - 2\n",
    "\n",
    "对于给定的 n，其格雷编码序列并不唯一。\n",
    "例如，[0,2,3,1] 也是一个有效的格雷编码序列。\n",
    "00 - 0\n",
    "10 - 2\n",
    "11 - 3\n",
    "01 - 1\n",
    "\n",
    "示例 2:\n",
    "输入: 0\n",
    "输出: [0]\n",
    "解释: 我们定义格雷编码序列必须以 0 开头。\n",
    "     给定编码总位数为 n 的格雷编码序列，其长度为 2n。当 n = 0 时，长度为 20 = 1。\n",
    "     因此，当 n = 0 时，其格雷编码序列为 [0]。"
   ]
  },
  {
   "cell_type": "markdown",
   "metadata": {},
   "source": [
    "## 思路一：递归生成码表"
   ]
  },
  {
   "cell_type": "raw",
   "metadata": {},
   "source": [
    "百度百科：\n",
    "这种方法基于格雷码是反射码的事实，利用递归的如下规则来构造：\n",
    "\n",
    "1位格雷码有两个码字\n",
    "(n+1)位格雷码中的前2n个码字等于n位格雷码的码字，按顺序书写，加前缀0\n",
    "(n+1)位格雷码中的后2n个码字等于n位格雷码的码字，按逆序书写，加前缀1\n",
    "n+1位格雷码的集合 = n位格雷码集合(顺序)加前缀0 + n位格雷码集合(逆序)加前缀1\n"
   ]
  },
  {
   "cell_type": "code",
   "execution_count": 2,
   "metadata": {},
   "outputs": [],
   "source": [
    "class Solution(object):\n",
    "    def grayCode(self, n):\n",
    "        \"\"\"\n",
    "        :type n: int\n",
    "        :rtype: List[int]\n",
    "        \"\"\"\n",
    "        grays = dict()\n",
    "        grays[0] = ['0']\n",
    "        grays[1] = ['0', '1']\n",
    "        for i in range(2, n+1):\n",
    "            n_gray = []\n",
    "            for pre in grays[i-1]:\n",
    "                n_gray.append('0'+pre)\n",
    "            for pre in grays[i-1][::-1]:\n",
    "                n_gray.append('1'+pre)\n",
    "            grays[i] = n_gray\n",
    "        return map(lambda x:int(x, 2), grays[n])\n",
    "       "
   ]
  },
  {
   "cell_type": "markdown",
   "metadata": {},
   "source": [
    "## 思路二"
   ]
  },
  {
   "cell_type": "code",
   "execution_count": 5,
   "metadata": {},
   "outputs": [],
   "source": [
    "class Solution:\n",
    "    def grayCode(self, n):\n",
    "        res = [0]\n",
    "        i = 0\n",
    "        while i < n:#从2的0次方开始，\n",
    "            res_inv = res[::-1]#求res的反向list\n",
    "            res_inv = [x + pow(2,i) for x in res_inv]\n",
    "            res = res + res_inv\n",
    "            i += 1\n",
    "        return res"
   ]
  }
 ],
 "metadata": {
  "kernelspec": {
   "display_name": "Python 3",
   "language": "python",
   "name": "python3"
  },
  "language_info": {
   "codemirror_mode": {
    "name": "ipython",
    "version": 3
   },
   "file_extension": ".py",
   "mimetype": "text/x-python",
   "name": "python",
   "nbconvert_exporter": "python",
   "pygments_lexer": "ipython3",
   "version": "3.7.0"
  }
 },
 "nbformat": 4,
 "nbformat_minor": 2
}
