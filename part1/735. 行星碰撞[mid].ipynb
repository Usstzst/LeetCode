{
 "cells": [
  {
   "cell_type": "markdown",
   "metadata": {},
   "source": [
    "# 题目原意"
   ]
  },
  {
   "cell_type": "raw",
   "metadata": {},
   "source": [
    "给定一个整数数组 asteroids，表示在同一行的行星。\n",
    "\n",
    "对于数组中的每一个元素，其绝对值表示行星的大小，正负表示行星的移动方向（正表示向右移动，负表示向左移动）。每一颗行星以相同的速度移动。\n",
    "\n",
    "找出碰撞后剩下的所有行星。碰撞规则：两个行星相互碰撞，较小的行星会爆炸。如果两颗行星大小相同，则两颗行星都会爆炸。两颗移动方向相同的行星，永远不会发生碰撞。\n"
   ]
  },
  {
   "cell_type": "raw",
   "metadata": {},
   "source": [
    "示例 1:\n",
    "\n",
    "输入: \n",
    "asteroids = [5, 10, -5]\n",
    "输出: [5, 10]\n",
    "解释: \n",
    "10 和 -5 碰撞后只剩下 10。 5 和 10 永远不会发生碰撞。\n",
    "示例 2:\n",
    "\n",
    "输入: \n",
    "asteroids = [8, -8]\n",
    "输出: []\n",
    "解释: \n",
    "8 和 -8 碰撞后，两者都发生爆炸。\n",
    "示例 3:\n",
    "\n",
    "输入: \n",
    "asteroids = [10, 2, -5]\n",
    "输出: [10]\n",
    "解释: \n",
    "2 和 -5 发生碰撞后剩下 -5。10 和 -5 发生碰撞后剩下 10。\n",
    "示例 4:\n",
    "\n",
    "输入: \n",
    "asteroids = [-2, -1, 1, 2]\n",
    "输出: [-2, -1, 1, 2]\n",
    "解释: \n",
    "-2 和 -1 向左移动，而 1 和 2 向右移动。\n",
    "由于移动方向相同的行星不会发生碰撞，所以最终没有行星发生碰撞。\n",
    "说明:\n",
    "\n",
    "数组 asteroids 的长度不超过 10000。\n",
    "每一颗行星的大小都是非零整数，范围是 [-1000, 1000] 。"
   ]
  },
  {
   "cell_type": "markdown",
   "metadata": {},
   "source": [
    "## 思路一"
   ]
  },
  {
   "cell_type": "raw",
   "metadata": {},
   "source": [
    "从左到右遍历每个行星，并和栈顶数字相比较，当栈顶数字为正（向右），当前数字为负（向左）的时候，会发生碰撞。这时候，判断遗留下来的数字是多少，保存到ast里，如果ast为空代表啥都没有了，如果ast质量大于栈顶元素会留下来ast，否则留下pre。判断ast是否为空，不为空就把遗留下来的数字进栈就好了。"
   ]
  },
  {
   "cell_type": "code",
   "execution_count": 1,
   "metadata": {},
   "outputs": [],
   "source": [
    "class Solution(object):\n",
    "    def asteroidCollision(self, asteroids):\n",
    "        \"\"\"\n",
    "        :type asteroids: List[int]\n",
    "        :rtype: List[int]\n",
    "        \"\"\"\n",
    "        stack = []\n",
    "        for ast in asteroids:\n",
    "            while stack and ast < 0 and stack[-1] >= 0:\n",
    "                pre = stack.pop()\n",
    "                if ast == -pre:\n",
    "                    ast = None\n",
    "                    break\n",
    "                elif -ast < pre:\n",
    "                    ast = pre\n",
    "            if ast != None:\n",
    "                stack.append(ast)\n",
    "        return stack\n"
   ]
  }
 ],
 "metadata": {
  "kernelspec": {
   "display_name": "Python 3",
   "language": "python",
   "name": "python3"
  },
  "language_info": {
   "codemirror_mode": {
    "name": "ipython",
    "version": 3
   },
   "file_extension": ".py",
   "mimetype": "text/x-python",
   "name": "python",
   "nbconvert_exporter": "python",
   "pygments_lexer": "ipython3",
   "version": "3.6.5"
  }
 },
 "nbformat": 4,
 "nbformat_minor": 2
}
