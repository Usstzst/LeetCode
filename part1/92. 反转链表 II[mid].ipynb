{
 "cells": [
  {
   "cell_type": "markdown",
   "metadata": {},
   "source": [
    "# 题目原意"
   ]
  },
  {
   "cell_type": "raw",
   "metadata": {},
   "source": [
    "反转从位置 m 到 n 的链表。请使用一趟扫描完成反转。\n",
    "\n",
    "说明:\n",
    "1 ≤ m ≤ n ≤ 链表长度。\n",
    "\n",
    "示例:\n",
    "\n",
    "输入: 1->2->3->4->5->NULL, m = 2, n = 4\n",
    "输出: 1->4->3->2->5->NULL"
   ]
  },
  {
   "cell_type": "markdown",
   "metadata": {},
   "source": [
    "## 思路一"
   ]
  },
  {
   "cell_type": "code",
   "execution_count": 1,
   "metadata": {},
   "outputs": [],
   "source": [
    "# Definition for singly-linked list.\n",
    "# class ListNode:\n",
    "#     def __init__(self, x):\n",
    "#         self.val = x\n",
    "#         self.next = None\n",
    "\n",
    "class Solution:\n",
    "    \n",
    "    def reverseBetween(self, head, m, n):\n",
    "        \n",
    "        if head == None or head.next == None:\n",
    "            return head\n",
    "        dummy = ListNode(0); dummy.next = head\n",
    "        head1 = dummy\n",
    "        for i in range(m-1):\n",
    "            head1 = head1.next\n",
    "        p = head1.next\n",
    "        for i in range(n-m):\n",
    "            tmp = head1.next\n",
    "            head1.next = p.next\n",
    "            p.next = p.next.next\n",
    "            head1.next.next = tmp\n",
    "        return dummy.next\n",
    "        \n",
    "       "
   ]
  }
 ],
 "metadata": {
  "kernelspec": {
   "display_name": "Python 3",
   "language": "python",
   "name": "python3"
  },
  "language_info": {
   "codemirror_mode": {
    "name": "ipython",
    "version": 3
   },
   "file_extension": ".py",
   "mimetype": "text/x-python",
   "name": "python",
   "nbconvert_exporter": "python",
   "pygments_lexer": "ipython3",
   "version": "3.7.0"
  }
 },
 "nbformat": 4,
 "nbformat_minor": 2
}
