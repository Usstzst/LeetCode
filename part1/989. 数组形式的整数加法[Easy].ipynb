{
 "cells": [
  {
   "cell_type": "markdown",
   "metadata": {},
   "source": [
    "# 题目原意"
   ]
  },
  {
   "cell_type": "raw",
   "metadata": {},
   "source": [
    "对于非负整数 X 而言，X 的数组形式是每位数字按从左到右的顺序形成的数组。例如，如果 X = 1231，那么其数组形式为 [1,2,3,1]。\n",
    "\n",
    "给定非负整数 X 的数组形式 A，返回整数 X+K 的数组形式。"
   ]
  },
  {
   "cell_type": "raw",
   "metadata": {},
   "source": [
    "示例 1：\n",
    "输入：A = [1,2,0,0], K = 34\n",
    "输出：[1,2,3,4]\n",
    "解释：1200 + 34 = 1234\n",
    "\n",
    "示例 2：\n",
    "输入：A = [2,7,4], K = 181\n",
    "输出：[4,5,5]\n",
    "解释：274 + 181 = 455\n",
    "\n",
    "示例 3：\n",
    "输入：A = [2,1,5], K = 806\n",
    "输出：[1,0,2,1]\n",
    "解释：215 + 806 = 1021\n",
    "\n",
    "示例 4：\n",
    "输入：A = [9,9,9,9,9,9,9,9,9,9], K = 1\n",
    "输出：[1,0,0,0,0,0,0,0,0,0,0]\n",
    "解释：9999999999 + 1 = 10000000000\n",
    " \n",
    "\n",
    "提示：\n",
    "1 <= A.length <= 10000\n",
    "0 <= A[i] <= 9\n",
    "0 <= K <= 10000\n",
    "如果 A.length > 1，那么 A[0] != 0"
   ]
  },
  {
   "cell_type": "markdown",
   "metadata": {},
   "source": [
    "## 思路一"
   ]
  },
  {
   "cell_type": "code",
   "execution_count": 8,
   "metadata": {},
   "outputs": [],
   "source": [
    "class Solution(object):\n",
    "    def addToArrayForm(self, A, K):\n",
    "        \"\"\"\n",
    "        :type A: List[int]\n",
    "        :type K: int\n",
    "        :rtype: List[int]\n",
    "        \"\"\"\n",
    "        A = int(''.join(map(str,A)))\n",
    "        S = str(A+K)\n",
    "        res = []\n",
    "        for s in S:\n",
    "            res.append(int(s))\n",
    "        return res\n"
   ]
  },
  {
   "cell_type": "code",
   "execution_count": 9,
   "metadata": {},
   "outputs": [],
   "source": [
    "class Solution(object):\n",
    "    def addToArrayForm(self, A, K):\n",
    "        \"\"\"\n",
    "        :type A: List[int]\n",
    "        :type K: int\n",
    "        :rtype: List[int]\n",
    "        \"\"\"\n",
    "        return [int(s) for s in (str(int(\"\".join([str(a) for a in A])) + K))]\n"
   ]
  }
 ],
 "metadata": {
  "kernelspec": {
   "display_name": "Python 3",
   "language": "python",
   "name": "python3"
  },
  "language_info": {
   "codemirror_mode": {
    "name": "ipython",
    "version": 3
   },
   "file_extension": ".py",
   "mimetype": "text/x-python",
   "name": "python",
   "nbconvert_exporter": "python",
   "pygments_lexer": "ipython3",
   "version": "3.7.0"
  }
 },
 "nbformat": 4,
 "nbformat_minor": 2
}
