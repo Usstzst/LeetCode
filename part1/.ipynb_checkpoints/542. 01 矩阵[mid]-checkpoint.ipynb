{
 "cells": [
  {
   "cell_type": "markdown",
   "metadata": {},
   "source": [
    "# 题目原意\n"
   ]
  },
  {
   "cell_type": "raw",
   "metadata": {},
   "source": [
    "给定一个由 0 和 1 组成的矩阵，找出每个元素到最近的 0 的距离。\n",
    "\n",
    "两个相邻元素间的距离为 1 。"
   ]
  },
  {
   "cell_type": "raw",
   "metadata": {},
   "source": [
    "示例 1: \n",
    "\n",
    "输入:\n",
    "\n",
    "0 0 0\n",
    "0 1 0\n",
    "0 0 0\n",
    "输出:\n",
    "\n",
    "0 0 0\n",
    "0 1 0\n",
    "0 0 0\n",
    "\n",
    "示例 2: \n",
    "输入:\n",
    "\n",
    "0 0 0\n",
    "0 1 0\n",
    "1 1 1\n",
    "输出:\n",
    "\n",
    "0 0 0\n",
    "0 1 0\n",
    "1 2 1\n",
    "\n",
    "注意:\n",
    "\n",
    "1.给定矩阵的元素个数不超过 10000。\n",
    "2.给定矩阵中至少有一个元素是 0。\n",
    "3.矩阵中的元素只在四个方向上相邻: 上、下、左、右。"
   ]
  },
  {
   "cell_type": "markdown",
   "metadata": {},
   "source": [
    "## 思路一"
   ]
  },
  {
   "cell_type": "code",
   "execution_count": 1,
   "metadata": {},
   "outputs": [],
   "source": [
    "class Solution(object):\n",
    "    def updateMatrix(self, matrix):\n",
    "        \"\"\"\n",
    "        :type matrix: List[List[int]]\n",
    "        :rtype: List[List[int]]\n",
    "        \"\"\"\n",
    "        \n",
    "     \n",
    "        h, w = len(matrix), len(matrix[0])\n",
    "        ans = [[0] * w for x in range(h)]\n",
    "        queue = [(x, y) for x in range(h) for y in range(w) if matrix[x][y]]\n",
    "        step = 0\n",
    "        while queue:\n",
    "            step += 1\n",
    "            nqueue, mqueue = [], []\n",
    "            for x, y in queue:\n",
    "                zero = 0\n",
    "                for dx, dy in zip((1, 0, -1, 0), (0, 1, 0, -1)):\n",
    "                    nx, ny = x + dx, y + dy\n",
    "                    if 0 <= nx < h and 0 <= ny < w and matrix[nx][ny] == 0:\n",
    "                        zero += 1\n",
    "                if zero:\n",
    "                    ans[x][y] = step\n",
    "                    mqueue.append((x, y))\n",
    "                else: \n",
    "                    nqueue.append((x, y))\n",
    "            for x, y in mqueue:\n",
    "                matrix[x][y] = 0\n",
    "            queue = nqueue\n",
    "        return ans"
   ]
  }
 ],
 "metadata": {
  "kernelspec": {
   "display_name": "Python 3",
   "language": "python",
   "name": "python3"
  },
  "language_info": {
   "codemirror_mode": {
    "name": "ipython",
    "version": 3
   },
   "file_extension": ".py",
   "mimetype": "text/x-python",
   "name": "python",
   "nbconvert_exporter": "python",
   "pygments_lexer": "ipython3",
   "version": "3.6.5"
  }
 },
 "nbformat": 4,
 "nbformat_minor": 2
}
