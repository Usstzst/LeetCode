{
 "cells": [
  {
   "cell_type": "markdown",
   "metadata": {},
   "source": [
    "# 题目原意"
   ]
  },
  {
   "cell_type": "raw",
   "metadata": {},
   "source": [
    "给定一个经过编码的字符串，返回它解码后的字符串。\n",
    "\n",
    "编码规则为: k[encoded_string]，表示其中方括号内部的 encoded_string 正好重复 k 次。注意 k 保证为正整数。\n",
    "\n",
    "你可以认为输入字符串总是有效的；输入字符串中没有额外的空格，且输入的方括号总是符合格式要求的。\n",
    "\n",
    "此外，你可以认为原始数据不包含数字，所有的数字只表示重复的次数 k ，例如不会出现像 3a 或 2[4] 的输入。\n",
    "\n",
    "示例:\n",
    "s = \"3[a]2[bc]\", 返回 \"aaabcbc\".\n",
    "s = \"3[a2[c]]\", 返回 \"accaccacc\".\n",
    "s = \"2[abc]3[cd]ef\", 返回 \"abcabccdcdcdef\"."
   ]
  },
  {
   "cell_type": "markdown",
   "metadata": {},
   "source": [
    "## 思路一"
   ]
  },
  {
   "cell_type": "raw",
   "metadata": {},
   "source": [
    "思路同 394.基本计算器"
   ]
  },
  {
   "cell_type": "code",
   "execution_count": 2,
   "metadata": {},
   "outputs": [],
   "source": [
    "class Solution(object):\n",
    "    def decodeString(self, s):\n",
    "        \"\"\"\n",
    "        :type s: str\n",
    "        :rtype: str\n",
    "        \"\"\"\n",
    "        num = 0\n",
    "        string = ''\n",
    "        stack = []\n",
    "        for char in s:\n",
    "            if char.isdigit():\n",
    "                num = num*10 + int(char)\n",
    "            elif char == '[':\n",
    "                stack.append(string)\n",
    "                stack.append(num)\n",
    "                string = ''\n",
    "                num = 0\n",
    "            elif char == ']':\n",
    "                prenum = stack.pop()\n",
    "                prestring = stack.pop()\n",
    "                string = prestring + prenum * string\n",
    "            else:\n",
    "                string += char\n",
    "      \n",
    "        return string\n"
   ]
  }
 ],
 "metadata": {
  "kernelspec": {
   "display_name": "Python 3",
   "language": "python",
   "name": "python3"
  },
  "language_info": {
   "codemirror_mode": {
    "name": "ipython",
    "version": 3
   },
   "file_extension": ".py",
   "mimetype": "text/x-python",
   "name": "python",
   "nbconvert_exporter": "python",
   "pygments_lexer": "ipython3",
   "version": "3.6.5"
  }
 },
 "nbformat": 4,
 "nbformat_minor": 2
}
