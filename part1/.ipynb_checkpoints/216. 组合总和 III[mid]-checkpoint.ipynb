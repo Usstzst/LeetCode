{
 "cells": [
  {
   "cell_type": "markdown",
   "metadata": {},
   "source": [
    "# 题目原意"
   ]
  },
  {
   "cell_type": "raw",
   "metadata": {},
   "source": [
    "找出所有相加之和为 n 的 k 个数的组合。组合中只允许含有 1 - 9 的正整数，并且每种组合中不存在重复的数字。\n",
    "\n",
    "说明：\n",
    "\n",
    "所有数字都是正整数。\n",
    "解集不能包含重复的组合。 "
   ]
  },
  {
   "cell_type": "raw",
   "metadata": {},
   "source": [
    "示例 1:\n",
    "输入: k = 3, n = 7\n",
    "输出: [[1,2,4]]\n",
    "\n",
    "示例 2:\n",
    "输入: k = 3, n = 9\n",
    "输出: [[1,2,6], [1,3,5], [2,3,4]]"
   ]
  },
  {
   "cell_type": "markdown",
   "metadata": {},
   "source": [
    "## 思路一：dfs"
   ]
  },
  {
   "cell_type": "code",
   "execution_count": 2,
   "metadata": {},
   "outputs": [],
   "source": [
    "class Solution(object):\n",
    "    def combinationSum3(self, k, n):\n",
    "        \"\"\"\n",
    "        :type k: int\n",
    "        :type n: int\n",
    "        :rtype: List[List[int]]\n",
    "        \"\"\"\n",
    "        res = []\n",
    "        self.dfs(range(1, 10), k, n, 0, res, [])\n",
    "        return res\n",
    "        \n",
    "    def dfs(self, nums, k, n, index, res, path):\n",
    "        if k < 0 or n < 0:\n",
    "            return \n",
    "        elif k == 0 and n == 0:\n",
    "            res.append(path)\n",
    "            return\n",
    "        for i in range(index, len(nums)):\n",
    "            self.dfs(nums, k - 1, n - nums[i], i + 1, res, path + [nums[i]])\n"
   ]
  }
 ],
 "metadata": {
  "kernelspec": {
   "display_name": "Python 3",
   "language": "python",
   "name": "python3"
  },
  "language_info": {
   "codemirror_mode": {
    "name": "ipython",
    "version": 3
   },
   "file_extension": ".py",
   "mimetype": "text/x-python",
   "name": "python",
   "nbconvert_exporter": "python",
   "pygments_lexer": "ipython3",
   "version": "3.7.0"
  }
 },
 "nbformat": 4,
 "nbformat_minor": 2
}
