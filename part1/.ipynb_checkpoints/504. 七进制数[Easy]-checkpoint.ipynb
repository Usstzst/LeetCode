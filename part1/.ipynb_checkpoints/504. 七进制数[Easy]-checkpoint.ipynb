{
 "cells": [
  {
   "cell_type": "markdown",
   "metadata": {},
   "source": [
    "# 题目原意"
   ]
  },
  {
   "cell_type": "raw",
   "metadata": {},
   "source": [
    "给定一个整数，将其转化为7进制，并以字符串形式输出。"
   ]
  },
  {
   "cell_type": "raw",
   "metadata": {},
   "source": [
    "示例 1:\n",
    "输入: 100\n",
    "输出: \"202\"\n",
    "\n",
    "示例 2:\n",
    "输入: -7\n",
    "输出: \"-10\"\n",
    "注意: 输入范围是 [-1e7, 1e7] 。"
   ]
  },
  {
   "cell_type": "markdown",
   "metadata": {},
   "source": [
    "## 思路一"
   ]
  },
  {
   "cell_type": "code",
   "execution_count": 6,
   "metadata": {},
   "outputs": [],
   "source": [
    "class Solution:\n",
    "    def convertToBase7(self, num):\n",
    "        \"\"\"\n",
    "        :type num: int\n",
    "        :rtype: str\n",
    "        \"\"\"\n",
    "        if num==0: return \"0\"\n",
    "        res = []\n",
    "        sign = num>=0\n",
    "        num = abs(num)\n",
    "        while num != 0:\n",
    "            res.append(num%7)\n",
    "            num //=7\n",
    "        return (\"\" if sign else \"-\") + ''.join(map(str, res[::-1]))\n",
    "        \n",
    "\n"
   ]
  }
 ],
 "metadata": {
  "kernelspec": {
   "display_name": "Python 3",
   "language": "python",
   "name": "python3"
  },
  "language_info": {
   "codemirror_mode": {
    "name": "ipython",
    "version": 3
   },
   "file_extension": ".py",
   "mimetype": "text/x-python",
   "name": "python",
   "nbconvert_exporter": "python",
   "pygments_lexer": "ipython3",
   "version": "3.7.0"
  }
 },
 "nbformat": 4,
 "nbformat_minor": 2
}
