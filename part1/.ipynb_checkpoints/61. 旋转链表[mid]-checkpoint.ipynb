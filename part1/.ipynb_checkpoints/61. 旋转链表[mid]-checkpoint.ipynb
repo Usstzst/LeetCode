{
 "cells": [
  {
   "cell_type": "markdown",
   "metadata": {},
   "source": [
    "# 题目原意"
   ]
  },
  {
   "cell_type": "raw",
   "metadata": {},
   "source": [
    "给定一个链表，旋转链表，将链表每个节点向右移动 k 个位置，其中 k 是非负数。"
   ]
  },
  {
   "cell_type": "raw",
   "metadata": {},
   "source": [
    "示例 1:\n",
    "\n",
    "输入: 1->2->3->4->5->NULL, k = 2\n",
    "输出: 4->5->1->2->3->NULL\n",
    "解释:\n",
    "向右旋转 1 步: 5->1->2->3->4->NULL\n",
    "向右旋转 2 步: 4->5->1->2->3->NULL\n",
    "示例 2:\n",
    "\n",
    "输入: 0->1->2->NULL, k = 4\n",
    "输出: 2->0->1->NULL\n",
    "解释:\n",
    "向右旋转 1 步: 2->0->1->NULL\n",
    "向右旋转 2 步: 1->2->0->NULL\n",
    "向右旋转 3 步: 0->1->2->NULL\n",
    "向右旋转 4 步: 2->0->1->NULL"
   ]
  },
  {
   "cell_type": "markdown",
   "metadata": {},
   "source": [
    "## 思路一"
   ]
  },
  {
   "cell_type": "code",
   "execution_count": 1,
   "metadata": {},
   "outputs": [],
   "source": [
    "# Definition for singly-linked list.\n",
    "class ListNode(object):\n",
    "    def __init__(self, x):\n",
    "        self.val = x\n",
    "        self.next = None\n",
    "\n",
    "class Solution(object):\n",
    "    def rotateRight(self, head, k):\n",
    "        \"\"\"\n",
    "        :type head: ListNode\n",
    "        :type k: int\n",
    "        :rtype: ListNode\n",
    "        \"\"\"\n",
    "\n",
    "        if k == 0 or head==None: return head\n",
    "\n",
    "        node = ListNode(0)\n",
    "        node.next = head\n",
    "\n",
    "        t = node\n",
    "        size = 0\n",
    "        while t.next:\n",
    "            t = t.next\n",
    "            size += 1\n",
    "        t.next = node.next\n",
    "\n",
    "        for i in range(size-(k%size)):\n",
    "            t = t.next\n",
    "        head = t.next\n",
    "        t.next = None\n",
    "        return head"
   ]
  }
 ],
 "metadata": {
  "kernelspec": {
   "display_name": "Python 3",
   "language": "python",
   "name": "python3"
  },
  "language_info": {
   "codemirror_mode": {
    "name": "ipython",
    "version": 3
   },
   "file_extension": ".py",
   "mimetype": "text/x-python",
   "name": "python",
   "nbconvert_exporter": "python",
   "pygments_lexer": "ipython3",
   "version": "3.7.0"
  }
 },
 "nbformat": 4,
 "nbformat_minor": 2
}
