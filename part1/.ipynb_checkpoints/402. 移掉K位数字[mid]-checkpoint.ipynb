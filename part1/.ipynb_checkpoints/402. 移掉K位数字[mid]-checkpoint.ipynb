{
 "cells": [
  {
   "cell_type": "markdown",
   "metadata": {},
   "source": [
    "# 题目原意"
   ]
  },
  {
   "cell_type": "raw",
   "metadata": {},
   "source": [
    "给定一个以字符串表示的非负整数 num，移除这个数中的 k 位数字，使得剩下的数字最小。\n",
    "\n",
    "注意:\n",
    "\n",
    "num 的长度小于 10002 且 ≥ k。\n",
    "num 不会包含任何前导零。\n",
    "\n",
    "示例 1 :\n",
    "输入: num = \"1432219\", k = 3\n",
    "输出: \"1219\"\n",
    "解释: 移除掉三个数字 4, 3, 和 2 形成一个新的最小的数字 1219。\n",
    "\n",
    "示例 2 :\n",
    "输入: num = \"10200\", k = 1\n",
    "输出: \"200\"\n",
    "解释: 移掉首位的 1 剩下的数字为 200. 注意输出不能有任何前导零。\n",
    "\n",
    "示例 3 :\n",
    "输入: num = \"10\", k = 2\n",
    "输出: \"0\"\n",
    "解释: 从原数字移除所有的数字，剩余为空就是0。"
   ]
  },
  {
   "cell_type": "markdown",
   "metadata": {},
   "source": [
    "## 思路一"
   ]
  },
  {
   "cell_type": "raw",
   "metadata": {},
   "source": [
    "使用一个栈作为辅助，遍历数字字符串，当当前的字符比栈最后的字符小的时候，说明要把栈的最后的这个字符删除掉。为什么呢？你想，把栈最后的字符删除掉，然后用现在的字符进行替换，是不是数字比以前的那种情况更小了？所以同样的道理，做一个while循环！这个很重要。在每一个数字处理的时候，都要做一个循环，使得栈里面最后的数字比当前数字大的都弹出去。\n"
   ]
  },
  {
   "cell_type": "code",
   "execution_count": 1,
   "metadata": {},
   "outputs": [],
   "source": [
    "class Solution(object):\n",
    "    def removeKdigits(self, num, k):\n",
    "        \"\"\"\n",
    "        :type num: str\n",
    "        :type k: int\n",
    "        :rtype: str\n",
    "        \"\"\"\n",
    "        if len(num) == k:\n",
    "            return '0'\n",
    "        stack = []\n",
    "        for n in num:\n",
    "            while stack and k and int(stack[-1]) > int(n):\n",
    "                stack.pop()\n",
    "                k -= 1\n",
    "            stack.append(n)\n",
    "        while k:\n",
    "            stack.pop()\n",
    "            k -= 1\n",
    "        if not stack:\n",
    "            return '0'\n",
    "        return str(int(''.join(stack)))\n",
    "        \n",
    "        \n",
    "       "
   ]
  }
 ],
 "metadata": {
  "kernelspec": {
   "display_name": "Python 3",
   "language": "python",
   "name": "python3"
  },
  "language_info": {
   "codemirror_mode": {
    "name": "ipython",
    "version": 3
   },
   "file_extension": ".py",
   "mimetype": "text/x-python",
   "name": "python",
   "nbconvert_exporter": "python",
   "pygments_lexer": "ipython3",
   "version": "3.6.5"
  }
 },
 "nbformat": 4,
 "nbformat_minor": 2
}
