{
 "cells": [
  {
   "cell_type": "markdown",
   "metadata": {},
   "source": [
    "# 题目原意"
   ]
  },
  {
   "cell_type": "raw",
   "metadata": {},
   "source": [
    "N  辆车沿着一条车道驶向位于 target 英里之外的共同目的地。\n",
    "\n",
    "每辆车 i 以恒定的速度 speed[i] （英里/小时），从初始位置 position[i] （英里） 沿车道驶向目的地。\n",
    "\n",
    "一辆车永远不会超过前面的另一辆车，但它可以追上去，并与前车以相同的速度紧接着行驶。\n",
    "\n",
    "此时，我们会忽略这两辆车之间的距离，也就是说，它们被假定处于相同的位置。\n",
    "\n",
    "车队 是一些由行驶在相同位置、具有相同速度的车组成的非空集合。注意，一辆车也可以是一个车队。\n",
    "\n",
    "即便一辆车在目的地才赶上了一个车队，它们仍然会被视作是同一个车队。\n",
    "\n",
    " \n",
    "\n",
    "会有多少车队到达目的地?\n"
   ]
  },
  {
   "cell_type": "raw",
   "metadata": {},
   "source": [
    "示例：\n",
    "\n",
    "输入：target = 12, position = [10,8,0,5,3], speed = [2,4,1,1,3]\n",
    "输出：3\n",
    "解释：\n",
    "从 10 和 8 开始的车会组成一个车队，它们在 12 处相遇。\n",
    "从 0 处开始的车无法追上其它车，所以它自己就是一个车队。\n",
    "从 5 和 3 开始的车会组成一个车队，它们在 6 处相遇。\n",
    "请注意，在到达目的地之前没有其它车会遇到这些车队，所以答案是 3。\n",
    "\n",
    "提示：\n",
    "0 <= N <= 10 ^ 4\n",
    "0 < target <= 10 ^ 6\n",
    "0 < speed[i] <= 10 ^ 6\n",
    "0 <= position[i] < target\n",
    "所有车的初始位置各不相同。"
   ]
  },
  {
   "cell_type": "code",
   "execution_count": 2,
   "metadata": {},
   "outputs": [],
   "source": [
    "class Solution:\n",
    "    def carFleet(self, target, position, speed):\n",
    "        \"\"\"\n",
    "        :type target: int\n",
    "        :type position: List[int]\n",
    "        :type speed: List[int]\n",
    "        :rtype: int\n",
    "        \"\"\"\n",
    "        cars = [(pos, spe) for pos, spe in zip(position, speed)]\n",
    "        sorted_cars = sorted(cars, reverse=True)\n",
    "        # 这里要特别注意int转float(不能整除的情况)\n",
    "        times = [float(target - pos) / spe for pos, spe in sorted_cars]\n",
    "        stack = []\n",
    "        for time in times:\n",
    "            if not stack:\n",
    "                stack.append(time)\n",
    "            else:\n",
    "                if time > stack[-1]:\n",
    "                    stack.append(time)\n",
    "        return len(stack)\n"
   ]
  },
  {
   "cell_type": "code",
   "execution_count": 4,
   "metadata": {},
   "outputs": [],
   "source": [
    "class Solution(object):\n",
    "    def carFleet(self, target, position, speed):\n",
    "        \"\"\"\n",
    "        :type target: int\n",
    "        :type position: List[int]\n",
    "        :type speed: List[int]\n",
    "        :rtype: int\n",
    "        \"\"\"\n",
    "        status = [(-p, float(target - p) / s) for p, s in zip(position, speed)]\n",
    "        status.sort()\n",
    "        ctime = 0\n",
    "        ans = 0\n",
    "        for p, t in status:\n",
    "            if t > ctime:\n",
    "                ans += 1\n",
    "                ctime = t\n",
    "        return ans"
   ]
  }
 ],
 "metadata": {
  "kernelspec": {
   "display_name": "Python 3",
   "language": "python",
   "name": "python3"
  },
  "language_info": {
   "codemirror_mode": {
    "name": "ipython",
    "version": 3
   },
   "file_extension": ".py",
   "mimetype": "text/x-python",
   "name": "python",
   "nbconvert_exporter": "python",
   "pygments_lexer": "ipython3",
   "version": "3.6.5"
  }
 },
 "nbformat": 4,
 "nbformat_minor": 2
}
