{
 "cells": [
  {
   "cell_type": "markdown",
   "metadata": {},
   "source": [
    "# 题目原意"
   ]
  },
  {
   "cell_type": "raw",
   "metadata": {},
   "source": [
    "在二维数组grid中，grid[i][j]代表位于某处的建筑物的高度。 我们被允许增加任何数量（不同建筑物的数量可能不同）的建筑物的高度。 高度 0 也被认为是建筑物。\n",
    "\n",
    "最后，从新数组的所有四个方向（即顶部，底部，左侧和右侧）观看的“天际线”必须与原始数组的天际线相同。 城市的天际线是从远处观看时，由所有建筑物形成的矩形的外部轮廓。 请看下面的例子。\n",
    "\n",
    "建筑物高度可以增加的最大总和是多少？"
   ]
  },
  {
   "cell_type": "raw",
   "metadata": {},
   "source": [
    "例子：\n",
    "输入： grid = [[3,0,8,4],[2,4,5,7],[9,2,6,3],[0,3,1,0]]\n",
    "输出： 35\n",
    "解释： \n",
    "The grid is:\n",
    "[ [3, 0, 8, 4], \n",
    "  [2, 4, 5, 7],\n",
    "  [9, 2, 6, 3],\n",
    "  [0, 3, 1, 0] ]\n",
    "\n",
    "从数组竖直方向（即顶部，底部）看“天际线”是：[9, 4, 8, 7]\n",
    "从水平水平方向（即左侧，右侧）看“天际线”是：[8, 7, 9, 3]\n",
    "\n",
    "在不影响天际线的情况下对建筑物进行增高后，新数组如下：\n",
    "\n",
    "gridNew = [ [8, 4, 8, 7],\n",
    "            [7, 4, 7, 7],\n",
    "            [9, 4, 8, 7],\n",
    "            [3, 3, 3, 3] ]\n",
    "            \n",
    "说明:\n",
    "\n",
    "1 < grid.length = grid[0].length <= 50。\n",
    " grid[i][j] 的高度范围是： [0, 100]。\n",
    "一座建筑物占据一个grid[i][j]：换言之，它们是 1 x 1 x grid[i][j] 的长方体。"
   ]
  },
  {
   "cell_type": "markdown",
   "metadata": {},
   "source": [
    "## 思路一"
   ]
  },
  {
   "cell_type": "raw",
   "metadata": {},
   "source": [
    "我们可以构造一个新的矩阵，代表着能增加高度之后的各个楼层的高度。下面讨论增加楼层高度的方式。既然我们要求每个楼层观察到的各个方向的天际线的高度是不变的，那么我们让其增加到其所在行的最高天际线和其所在列的最高天际线的最小值。比如，\n",
    "\n",
    "题目中我们可以得出每行的天际线的高度是[8, 7, 9, 3]，每列的天际线的高度是[9, 4, 8, 7]。那么，gridNew =\n",
    "\n",
    "__|_9__4__8__7__\n",
    "8 | 8, 4, 8, 7\n",
    "7 | 7, 4, 7, 7\n",
    "9 | 9, 4, 8, 7\n",
    "3 | 3, 3, 3, 3\n"
   ]
  },
  {
   "cell_type": "code",
   "execution_count": 1,
   "metadata": {},
   "outputs": [],
   "source": [
    "class Solution(object):\n",
    "    def maxIncreaseKeepingSkyline(self, grid):\n",
    "        \"\"\"\n",
    "        :type grid: List[List[int]]\n",
    "        :rtype: int\n",
    "        \"\"\"\n",
    "        if not grid or not grid[0]: return 0\n",
    "        M, N = len(grid), len(grid[0])\n",
    "        rows, cols = [0] * M, [0] * N\n",
    "        for i in range(M):\n",
    "            rows[i] = max(grid[i][j] for j in range(N))\n",
    "        for j in range(N):\n",
    "            cols[j] = max(grid[i][j] for i in range(M))\n",
    "        res = 0\n",
    "        for i in range(M):\n",
    "            for j in range(N):\n",
    "                res += min(rows[i], cols[j]) - grid[i][j]\n",
    "        return res\n"
   ]
  }
 ],
 "metadata": {
  "kernelspec": {
   "display_name": "Python 3",
   "language": "python",
   "name": "python3"
  },
  "language_info": {
   "codemirror_mode": {
    "name": "ipython",
    "version": 3
   },
   "file_extension": ".py",
   "mimetype": "text/x-python",
   "name": "python",
   "nbconvert_exporter": "python",
   "pygments_lexer": "ipython3",
   "version": "3.7.0"
  }
 },
 "nbformat": 4,
 "nbformat_minor": 2
}
