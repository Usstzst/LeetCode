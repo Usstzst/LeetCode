{
 "cells": [
  {
   "cell_type": "markdown",
   "metadata": {},
   "source": [
    "# 题目原意"
   ]
  },
  {
   "cell_type": "raw",
   "metadata": {},
   "source": [
    "给定两个非空链表来代表两个非负整数。数字最高位位于链表开始位置。它们的每个节点只存储单个数字。将这两数相加会返回一个新的链表。\n",
    "\n",
    "你可以假设除了数字 0 之外，这两个数字都不会以零开头。\n",
    "\n",
    "进阶:\n",
    "\n",
    "如果输入链表不能修改该如何处理？换句话说，你不能对列表中的节点进行翻转。"
   ]
  },
  {
   "cell_type": "raw",
   "metadata": {},
   "source": [
    "示例:\n",
    "输入: (7 -> 2 -> 4 -> 3) + (5 -> 6 -> 4)\n",
    "输出: 7 -> 8 -> 0 -> 7"
   ]
  },
  {
   "cell_type": "markdown",
   "metadata": {},
   "source": [
    "## 思路一"
   ]
  },
  {
   "cell_type": "raw",
   "metadata": {},
   "source": [
    "链表转str --> str转int进行计算 --> 结果转str --> str转链表"
   ]
  },
  {
   "cell_type": "code",
   "execution_count": 2,
   "metadata": {},
   "outputs": [],
   "source": [
    "# Definition for singly-linked list.\n",
    "# class ListNode(object):\n",
    "#     def __init__(self, x):\n",
    "#         self.val = x\n",
    "#         self.next = None\n",
    "\n",
    "class Solution(object):\n",
    "    def addTwoNumbers(self, l1, l2):\n",
    "        \"\"\"\n",
    "        :type l1: ListNode\n",
    "        :type l2: ListNode\n",
    "        :rtype: ListNode\n",
    "        \"\"\"\n",
    "        # version1\n",
    "        num1 = ''\n",
    "        num2 = ''\n",
    "        while l1:\n",
    "            num1 += str(l1.val)\n",
    "            l1 = l1.next\n",
    "        while l2:\n",
    "            num2 += str(l2.val)\n",
    "            l2 = l2.next\n",
    "        add = str(int(num1)+int(num2))\n",
    "        head = ListNode(add[0])\n",
    "        answer = head\n",
    "        for i in range(1, len(add)):\n",
    "            node = ListNode(add[i])\n",
    "            head.next = node\n",
    "            head = head.next\n",
    "        return answer\n",
    "        "
   ]
  }
 ],
 "metadata": {
  "kernelspec": {
   "display_name": "Python 3",
   "language": "python",
   "name": "python3"
  },
  "language_info": {
   "codemirror_mode": {
    "name": "ipython",
    "version": 3
   },
   "file_extension": ".py",
   "mimetype": "text/x-python",
   "name": "python",
   "nbconvert_exporter": "python",
   "pygments_lexer": "ipython3",
   "version": "3.7.0"
  }
 },
 "nbformat": 4,
 "nbformat_minor": 2
}
