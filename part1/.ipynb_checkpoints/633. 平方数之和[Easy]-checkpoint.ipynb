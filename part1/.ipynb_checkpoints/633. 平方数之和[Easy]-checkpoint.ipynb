{
 "cells": [
  {
   "cell_type": "markdown",
   "metadata": {},
   "source": [
    "# 题目原意"
   ]
  },
  {
   "cell_type": "raw",
   "metadata": {},
   "source": [
    "给定一个非负整数 c ，你要判断是否存在两个整数 a 和 b，使得 a2 + b2 = c。\n",
    "\n",
    "示例1:\n",
    "输入: 5\n",
    "输出: True\n",
    "解释: 1 * 1 + 2 * 2 = 5\n",
    " \n",
    "\n",
    "示例2:\n",
    "输入: 3\n",
    "输出: False"
   ]
  },
  {
   "cell_type": "markdown",
   "metadata": {},
   "source": [
    "## 思路一"
   ]
  },
  {
   "cell_type": "code",
   "execution_count": 5,
   "metadata": {},
   "outputs": [],
   "source": [
    "class Solution(object):\n",
    "    def judgeSquareSum(self, c):\n",
    "        \"\"\"\n",
    "        :type c: int\n",
    "        :rtype: bool\n",
    "        \"\"\"\n",
    "        left = 0\n",
    "        right = int(math.sqrt(c))\n",
    "        while left < right:\n",
    "            cur = left ** 2 + right ** 2\n",
    "            if cur < c :\n",
    "                left += 1\n",
    "            elif cur > c:\n",
    "                right -= 1\n",
    "            else:\n",
    "                return True\n",
    "        return False\n",
    "    \n",
    "                      \n"
   ]
  },
  {
   "cell_type": "raw",
   "metadata": {},
   "source": [
    "我的最初思路，超时"
   ]
  },
  {
   "cell_type": "code",
   "execution_count": 3,
   "metadata": {},
   "outputs": [],
   "source": [
    "class Solution(object):\n",
    "    def judgeSquareSum(self, c):\n",
    "        \"\"\"\n",
    "        :type c: int\n",
    "        :rtype: bool\n",
    "        \"\"\"\n",
    "        \n",
    "        res = []\n",
    "        for i in range(int(math.sqrt(c))+1):\n",
    "            res.append(i**2)\n",
    "        for i in res:\n",
    "            if c - i in res:\n",
    "                return True\n",
    "        return False\n",
    "            \n",
    "   "
   ]
  }
 ],
 "metadata": {
  "kernelspec": {
   "display_name": "Python 3",
   "language": "python",
   "name": "python3"
  },
  "language_info": {
   "codemirror_mode": {
    "name": "ipython",
    "version": 3
   },
   "file_extension": ".py",
   "mimetype": "text/x-python",
   "name": "python",
   "nbconvert_exporter": "python",
   "pygments_lexer": "ipython3",
   "version": "3.6.5"
  }
 },
 "nbformat": 4,
 "nbformat_minor": 2
}
