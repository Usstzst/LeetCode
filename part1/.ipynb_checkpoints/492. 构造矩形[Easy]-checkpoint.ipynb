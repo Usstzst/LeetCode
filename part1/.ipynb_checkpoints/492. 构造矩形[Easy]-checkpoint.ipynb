{
 "cells": [
  {
   "cell_type": "markdown",
   "metadata": {},
   "source": [
    "# 题目原意"
   ]
  },
  {
   "cell_type": "raw",
   "metadata": {},
   "source": [
    "作为一位web开发者， 懂得怎样去规划一个页面的尺寸是很重要的。 现给定一个具体的矩形页面面积，你的任务是设计一个长度为 L 和宽度为 W 且满足以下要求的矩形的页面。要求：\n",
    "\n",
    "1. 你设计的矩形页面必须等于给定的目标面积。\n",
    "\n",
    "2. 宽度 W 不应大于长度 L，换言之，要求 L >= W 。\n",
    "\n",
    "3. 长度 L 和宽度 W 之间的差距应当尽可能小。\n",
    "你需要按顺序输出你设计的页面的长度 L 和宽度 W。"
   ]
  },
  {
   "cell_type": "raw",
   "metadata": {},
   "source": [
    "示例：\n",
    "输入: 4\n",
    "输出: [2, 2]\n",
    "解释: 目标面积是 4， 所有可能的构造方案有 [1,4], [2,2], [4,1]。\n",
    "但是根据要求2，[1,4] 不符合要求; 根据要求3，[2,2] 比 [4,1] 更能符合要求. 所以输出长度 L 为 2， 宽度 W 为 2。\n",
    "\n",
    "说明:\n",
    "给定的面积不大于 10,000,000 且为正整数。\n",
    "你设计的页面的长度和宽度必须都是正整数。"
   ]
  },
  {
   "cell_type": "markdown",
   "metadata": {},
   "source": [
    "## 思路一：枚举法"
   ]
  },
  {
   "cell_type": "raw",
   "metadata": {},
   "source": [
    "记area的平方根为sqrt\n",
    "从int(sqrt) 向 1 递减枚举宽度W，若area % W == 0，则L = area / W"
   ]
  },
  {
   "cell_type": "code",
   "execution_count": 1,
   "metadata": {},
   "outputs": [],
   "source": [
    "class Solution(object):\n",
    "    def constructRectangle(self, area):\n",
    "        \"\"\"\n",
    "        :type area: int\n",
    "        :rtype: List[int]\n",
    "        \"\"\"\n",
    "        sqrt = int(math.sqrt(area))\n",
    "        L, W = area, 1\n",
    "        for x in range(sqrt, 0, -1):\n",
    "            if area % x == 0:\n",
    "                L, W = area / x, x\n",
    "                break\n",
    "        return [L, W]\n",
    "    "
   ]
  },
  {
   "cell_type": "code",
   "execution_count": 2,
   "metadata": {},
   "outputs": [],
   "source": [
    "class Solution(object):\n",
    "    def constructRectangle(self, area):\n",
    "        \"\"\"\n",
    "        :type area: int\n",
    "        :rtype: List[int]\n",
    "        \"\"\"\n",
    "        sqr = int(math.sqrt(area))\n",
    "        while (area % sqr != 0):\n",
    "            sqr -= 1\n",
    "        return [int(area / sqr), sqr]\n"
   ]
  }
 ],
 "metadata": {
  "kernelspec": {
   "display_name": "Python 3",
   "language": "python",
   "name": "python3"
  },
  "language_info": {
   "codemirror_mode": {
    "name": "ipython",
    "version": 3
   },
   "file_extension": ".py",
   "mimetype": "text/x-python",
   "name": "python",
   "nbconvert_exporter": "python",
   "pygments_lexer": "ipython3",
   "version": "3.7.0"
  }
 },
 "nbformat": 4,
 "nbformat_minor": 2
}
