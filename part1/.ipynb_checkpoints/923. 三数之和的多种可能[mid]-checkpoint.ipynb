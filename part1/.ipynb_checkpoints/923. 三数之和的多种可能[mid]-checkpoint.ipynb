{
 "cells": [
  {
   "cell_type": "markdown",
   "metadata": {},
   "source": [
    "# 题目原意"
   ]
  },
  {
   "cell_type": "raw",
   "metadata": {},
   "source": [
    "给定一个整数数组 A，以及一个整数 target 作为目标值，返回满足 i < j < k 且 A[i] + A[j] + A[k] == target 的元组 i, j, k 的数量。\n",
    "\n",
    "由于结果会非常大，请返回 结果除以 10^9 + 7 的余数。"
   ]
  },
  {
   "cell_type": "raw",
   "metadata": {},
   "source": [
    "示例 1：\n",
    "\n",
    "输入：A = [1,1,2,2,3,3,4,4,5,5], target = 8\n",
    "输出：20\n",
    "解释：\n",
    "按值枚举（A[i]，A[j]，A[k]）：\n",
    "(1, 2, 5) 出现 8 次；\n",
    "(1, 3, 4) 出现 8 次；\n",
    "(2, 2, 4) 出现 2 次；\n",
    "(2, 3, 3) 出现 2 次。\n",
    "\n",
    "示例 2：\n",
    "输入：A = [1,1,2,2,2,2], target = 5\n",
    "输出：12\n",
    "解释：\n",
    "A[i] = 1，A[j] = A[k] = 2 出现 12 次：\n",
    "我们从 [1,1] 中选择一个 1，有 2 种情况，\n",
    "从 [2,2,2,2] 中选出两个 2，有 6 种情况。\n",
    " \n",
    "\n",
    "\n",
    "提示：\n",
    "3 <= A.length <= 3000\n",
    "0 <= A[i] <= 100\n",
    "0 <= target <= 300"
   ]
  },
  {
   "cell_type": "markdown",
   "metadata": {},
   "source": [
    "## 思路一：三重遍历，超时"
   ]
  },
  {
   "cell_type": "code",
   "execution_count": 1,
   "metadata": {},
   "outputs": [],
   "source": [
    "class Solution(object):\n",
    "    def threeSumMulti(self, A, target):\n",
    "        \"\"\"\n",
    "        :type A: List[int]\n",
    "        :type target: int\n",
    "        :rtype: int\n",
    "        \"\"\"\n",
    "        cnt = 0\n",
    "        for i in range(len(A)-2):\n",
    "            for j in range(i+1, len(A)-1):\n",
    "                for k in range(j+1, len(A)):\n",
    "                    if A[i]+A[j]+A[k]==target:\n",
    "                        cnt += 1\n",
    "        return cnt"
   ]
  },
  {
   "cell_type": "markdown",
   "metadata": {},
   "source": [
    "## 思路二："
   ]
  },
  {
   "cell_type": "raw",
   "metadata": {},
   "source": [
    "需要我们先统计每个数字出现了多少次，过会进行一个查找和组合。使用了set和list来保存去重的数字。\n",
    "\n",
    "两重循环i, j，分别对应了第一二个数字，需要注意的是第二个数字和第一个数字相同，所以j从i开始向后遍历。第三个数字等于target减去前两个数字，比较重要的一步是需要判断第三个数字要不比第二个数字小，而且第三个数字必须在set中，因为第三个数字不能向前找，得向后找，而且可以等于第二个数字！\n",
    "\n",
    "如果把上面的a, b, c全都找到了，那么底下的方法就很简单了，求一个组合数字！从counter里面知道每个数字出现了多少次，判断一下，这三个数字是不是都不相等、有两个相等、三个全相等，这三种情况，然后就知道了总的数字组合会出现多少次。\n"
   ]
  },
  {
   "cell_type": "code",
   "execution_count": 3,
   "metadata": {},
   "outputs": [],
   "source": [
    "class Solution(object):\n",
    "    def threeSumMulti(self, A, target):\n",
    "        \"\"\"\n",
    "        :type A: List[int]\n",
    "        :type target: int\n",
    "        :rtype: int\n",
    "        \"\"\"\n",
    "        count = collections.Counter(A)\n",
    "        Aset = set(A)\n",
    "        Alist = list(Aset)\n",
    "        Alist.sort()\n",
    "        _lenA = len(Alist)\n",
    "        res = 0\n",
    "        for i in range(_lenA):\n",
    "            for j in range(i, _lenA):\n",
    "                c = target - Alist[i] - Alist[j]\n",
    "                if c >= Alist[j] and c in Aset:\n",
    "                    if Alist[i] != Alist[j] != c:\n",
    "                        res += count[Alist[i]] * count[Alist[j]] * count[c]\n",
    "                    elif Alist[i] == Alist[j] and Alist[j] != c:\n",
    "                        res += count[c] * self.caculate(count[Alist[i]], 2)\n",
    "                    elif Alist[j] == c and Alist[i] != Alist[j]:\n",
    "                        res += count[Alist[i]] * self.caculate(count[Alist[j]], 2)\n",
    "                    elif Alist[i] == c and Alist[j] != c:\n",
    "                        res += count[Alist[j]] * self.caculate(count[c], 2)\n",
    "                    else:\n",
    "                        res += self.caculate(count[Alist[i]], 3)\n",
    "        return res % (10 ** 9 + 7)\n",
    "    \n",
    "    def caculate(self, x, i):\n",
    "        if i == 2:\n",
    "            return x * (x - 1) / 2\n",
    "        elif i == 3:\n",
    "            return x * (x - 1) * (x - 2) / 6\n"
   ]
  },
  {
   "cell_type": "markdown",
   "metadata": {},
   "source": [
    "## 思路三："
   ]
  },
  {
   "cell_type": "code",
   "execution_count": 5,
   "metadata": {},
   "outputs": [],
   "source": [
    "class Solution(object):\n",
    "    def threeSumMulti(self, A, target):\n",
    "        d = [0]*300\n",
    "        res = 0\n",
    "        for i in range(len(A)):\n",
    "            res += d[target-A[i]] if target-A[i]>=0 else 0\n",
    "            res %= (10**9+7)\n",
    "            for j in range(i):\n",
    "                d[A[i]+A[j]] += 1\n",
    "        return res %(10**9+7)"
   ]
  }
 ],
 "metadata": {
  "kernelspec": {
   "display_name": "Python 3",
   "language": "python",
   "name": "python3"
  },
  "language_info": {
   "codemirror_mode": {
    "name": "ipython",
    "version": 3
   },
   "file_extension": ".py",
   "mimetype": "text/x-python",
   "name": "python",
   "nbconvert_exporter": "python",
   "pygments_lexer": "ipython3",
   "version": "3.6.5"
  }
 },
 "nbformat": 4,
 "nbformat_minor": 2
}
