{
 "cells": [
  {
   "cell_type": "markdown",
   "metadata": {},
   "source": [
    "# 题目原意"
   ]
  },
  {
   "cell_type": "raw",
   "metadata": {},
   "source": [
    "给定一个链表（链表结点包含一个整型值）的头结点 head。\n",
    "\n",
    "同时给定列表 G，该列表是上述链表中整型值的一个子集。\n",
    "\n",
    "返回列表 G 中组件的个数，这里对组件的定义为：链表中一段最长连续结点的值（该值必须在列表 G 中）构成的集合。"
   ]
  },
  {
   "cell_type": "raw",
   "metadata": {},
   "source": [
    "示例 1：\n",
    "输入: \n",
    "head: 0->1->2->3\n",
    "G = [0, 1, 3]\n",
    "输出: 2\n",
    "解释: \n",
    "链表中,0 和 1 是相连接的，且 G 中不包含 2，所以 [0, 1] 是 G 的一个组件，同理 [3] 也是一个组件，故返回 2。\n",
    "\n",
    "示例 2：\n",
    "输入: \n",
    "head: 0->1->2->3->4\n",
    "G = [0, 3, 1, 4]\n",
    "输出: 2\n",
    "解释: \n",
    "链表中，0 和 1 是相连接的，3 和 4 是相连接的，所以 [0, 1] 和 [3, 4] 是两个组件，故返回 2。\n",
    "\n",
    "\n",
    "注意:\n",
    "如果 N 是给定链表 head 的长度，1 <= N <= 10000。\n",
    "链表中每个结点的值所在范围为 [0, N - 1]。\n",
    "1 <= G.length <= 10000\n",
    "G 是链表中所有结点的值的一个子集."
   ]
  },
  {
   "cell_type": "markdown",
   "metadata": {},
   "source": [
    "## 思路一"
   ]
  },
  {
   "cell_type": "code",
   "execution_count": 1,
   "metadata": {},
   "outputs": [],
   "source": [
    "# Definition for singly-linked list.\n",
    "# class ListNode:\n",
    "#     def __init__(self, x):\n",
    "#         self.val = x\n",
    "#         self.next = None\n",
    "\n",
    "class Solution:\n",
    "    def numComponents(self, head, G):\n",
    "        \"\"\"\n",
    "        :type head: ListNode\n",
    "        :type G: List[int]\n",
    "        :rtype: int\n",
    "        \"\"\"\n",
    "        groups = 0\n",
    "        subset = set(G)\n",
    "        while head:\n",
    "            if head.val in subset and (not head.next or head.next.val not in subset):\n",
    "                groups += 1\n",
    "            head = head.next\n",
    "        return groups\n",
    "        \n",
    "       "
   ]
  }
 ],
 "metadata": {
  "kernelspec": {
   "display_name": "Python 3",
   "language": "python",
   "name": "python3"
  },
  "language_info": {
   "codemirror_mode": {
    "name": "ipython",
    "version": 3
   },
   "file_extension": ".py",
   "mimetype": "text/x-python",
   "name": "python",
   "nbconvert_exporter": "python",
   "pygments_lexer": "ipython3",
   "version": "3.7.0"
  }
 },
 "nbformat": 4,
 "nbformat_minor": 2
}
