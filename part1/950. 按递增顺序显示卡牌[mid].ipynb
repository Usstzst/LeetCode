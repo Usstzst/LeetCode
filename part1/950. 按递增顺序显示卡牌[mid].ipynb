{
 "cells": [
  {
   "cell_type": "markdown",
   "metadata": {},
   "source": [
    "# 题目原意"
   ]
  },
  {
   "cell_type": "raw",
   "metadata": {},
   "source": [
    "牌组中的每张卡牌都对应有一个唯一的整数。你可以按你想要的顺序对这套卡片进行排序。\n",
    "\n",
    "最初，这些卡牌在牌组里是正面朝下的（即，未显示状态）。\n",
    "\n",
    "现在，重复执行以下步骤，直到显示所有卡牌为止：\n",
    "\n",
    "从牌组顶部抽一张牌，显示它，然后将其从牌组中移出。\n",
    "如果牌组中仍有牌，则将下一张处于牌组顶部的牌放在牌组的底部。\n",
    "如果仍有未显示的牌，那么返回步骤 1。否则，停止行动。\n",
    "返回能以递增顺序显示卡牌的牌组顺序。\n",
    "\n",
    "答案中的第一张牌被认为处于牌堆顶部。"
   ]
  },
  {
   "cell_type": "raw",
   "metadata": {},
   "source": [
    "示例：\n",
    "\n",
    "输入：[17,13,11,2,3,5,7]\n",
    "输出：[2,13,3,11,5,17,7]\n",
    "解释：\n",
    "我们得到的牌组顺序为 [17,13,11,2,3,5,7]（这个顺序不重要），然后将其重新排序。\n",
    "重新排序后，牌组以 [2,13,3,11,5,17,7] 开始，其中 2 位于牌组的顶部。\n",
    "我们显示 2，然后将 13 移到底部。牌组现在是 [3,11,5,17,7,13]。\n",
    "我们显示 3，并将 11 移到底部。牌组现在是 [5,17,7,13,11]。\n",
    "我们显示 5，然后将 17 移到底部。牌组现在是 [7,13,11,17]。\n",
    "我们显示 7，并将 13 移到底部。牌组现在是 [11,17,13]。\n",
    "我们显示 11，然后将 17 移到底部。牌组现在是 [13,17]。\n",
    "我们展示 13，然后将 17 移到底部。牌组现在是 [17]。\n",
    "我们显示 17。\n",
    "由于所有卡片都是按递增顺序排列显示的，所以答案是正确的。\n",
    " \n",
    "\n",
    "提示：\n",
    "1 <= A.length <= 1000\n",
    "1 <= A[i] <= 10^6\n",
    "对于所有的 i != j，A[i] != A[j]"
   ]
  },
  {
   "cell_type": "markdown",
   "metadata": {},
   "source": [
    "## 思路一"
   ]
  },
  {
   "cell_type": "raw",
   "metadata": {},
   "source": [
    "使用链表的话，我们需要把整个的顺序倒着看，也就是说把题目给出的翻牌的顺序从下向上看。那么我们得出了规律：\n",
    "\n",
    "第一步，先把最大的数字放入链表里；\n",
    "\n",
    "第二步，每次把剩余的最大值放到链表的开头，同时把链表的最后一个元素放入到链表最前面。\n",
    "\n",
    "只要还有剩余数字，重复第一和第二步。"
   ]
  },
  {
   "cell_type": "code",
   "execution_count": 1,
   "metadata": {},
   "outputs": [],
   "source": [
    "class Solution(object):\n",
    "    def deckRevealedIncreasing(self, deck):\n",
    "        \"\"\"\n",
    "        :type deck: List[int]\n",
    "        :rtype: List[int]\n",
    "        \"\"\"\n",
    "        \n",
    "        deck.sort()\n",
    "        N = len(deck)\n",
    "\n",
    "        que = collections.deque()\n",
    "        for i in range(N):\n",
    "            if que:\n",
    "                que.appendleft(que.pop())\n",
    "            que.appendleft(deck.pop())\n",
    "        return list(que)\n",
    "        \n",
    "     "
   ]
  }
 ],
 "metadata": {
  "kernelspec": {
   "display_name": "Python 3",
   "language": "python",
   "name": "python3"
  },
  "language_info": {
   "codemirror_mode": {
    "name": "ipython",
    "version": 3
   },
   "file_extension": ".py",
   "mimetype": "text/x-python",
   "name": "python",
   "nbconvert_exporter": "python",
   "pygments_lexer": "ipython3",
   "version": "3.7.0"
  }
 },
 "nbformat": 4,
 "nbformat_minor": 2
}
