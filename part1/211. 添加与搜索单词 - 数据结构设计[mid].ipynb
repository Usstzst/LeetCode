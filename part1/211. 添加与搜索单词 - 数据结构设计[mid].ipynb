{
 "cells": [
  {
   "cell_type": "markdown",
   "metadata": {},
   "source": [
    "# 题目原意"
   ]
  },
  {
   "cell_type": "raw",
   "metadata": {},
   "source": [
    "设计一个支持以下两种操作的数据结构：\n",
    "\n",
    "void addWord(word)\n",
    "bool search(word)\n",
    "search(word) 可以搜索文字或正则表达式字符串，字符串只包含字母 . 或 a-z 。 . 可以表示任何一个字母。"
   ]
  },
  {
   "cell_type": "raw",
   "metadata": {},
   "source": [
    "示例:\n",
    "\n",
    "addWord(\"bad\")\n",
    "addWord(\"dad\")\n",
    "addWord(\"mad\")\n",
    "search(\"pad\") -> false\n",
    "search(\"bad\") -> true\n",
    "search(\".ad\") -> true\n",
    "search(\"b..\") -> true\n",
    "说明:\n",
    "\n",
    "你可以假设所有单词都是由小写字母 a-z 组成的。"
   ]
  },
  {
   "cell_type": "markdown",
   "metadata": {},
   "source": [
    "## 思路一"
   ]
  },
  {
   "cell_type": "code",
   "execution_count": 1,
   "metadata": {},
   "outputs": [],
   "source": [
    "class Node(object):\n",
    "    def __init__(self):\n",
    "        self.children = collections.defaultdict(Node)\n",
    "        self.isword = False\n",
    "        \n",
    "class WordDictionary(object):\n",
    "\n",
    "    def __init__(self):\n",
    "        \"\"\"\n",
    "        Initialize your data structure here.\n",
    "        \"\"\"\n",
    "        self.root = Node()\n",
    "\n",
    "    def addWord(self, word):\n",
    "        \"\"\"\n",
    "        Adds a word into the data structure.\n",
    "        :type word: str\n",
    "        :rtype: void\n",
    "        \"\"\"\n",
    "        current = self.root\n",
    "        for w in word:\n",
    "            current = current.children[w]\n",
    "        current.isword = True\n",
    "\n",
    "    def search(self, word):\n",
    "        \"\"\"\n",
    "        Returns if the word is in the data structure. A word could contain the dot character '.' to represent any one letter.\n",
    "        :type word: str\n",
    "        :rtype: bool\n",
    "        \"\"\"\n",
    "        return self.match(word, 0, self.root)\n",
    "    \n",
    "    def match(self, word, index, root):\n",
    "        if root == None:\n",
    "            return False\n",
    "        if index == len(word):\n",
    "            return root.isword\n",
    "        if word[index] != '.':\n",
    "            return root != None and self.match(word, index + 1, root.children.get(word[index]))\n",
    "        else:\n",
    "            for child in root.children.values():\n",
    "                if self.match(word, index + 1, child):\n",
    "                    return True\n",
    "        return False\n",
    "\n",
    "# Your WordDictionary object will be instantiated and called as such:\n",
    "# obj = WordDictionary()\n",
    "# obj.addWord(word)\n",
    "# param_2 = obj.search(word)\n"
   ]
  }
 ],
 "metadata": {
  "kernelspec": {
   "display_name": "Python 3",
   "language": "python",
   "name": "python3"
  },
  "language_info": {
   "codemirror_mode": {
    "name": "ipython",
    "version": 3
   },
   "file_extension": ".py",
   "mimetype": "text/x-python",
   "name": "python",
   "nbconvert_exporter": "python",
   "pygments_lexer": "ipython3",
   "version": "3.6.5"
  }
 },
 "nbformat": 4,
 "nbformat_minor": 2
}
