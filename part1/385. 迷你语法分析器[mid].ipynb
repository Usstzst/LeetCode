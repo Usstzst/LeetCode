{
 "cells": [
  {
   "cell_type": "markdown",
   "metadata": {},
   "source": [
    "# 题目原意"
   ]
  },
  {
   "cell_type": "raw",
   "metadata": {},
   "source": [
    "给定一个用字符串表示的整数的嵌套列表，实现一个解析它的语法分析器。\n",
    "\n",
    "列表中的每个元素只可能是整数或整数嵌套列表\n",
    "\n",
    "提示：你可以假定这些字符串都是格式良好的：\n",
    "\n",
    "字符串非空\n",
    "字符串不包含空格\n",
    "字符串只包含数字0-9, [, - ,, ]"
   ]
  },
  {
   "cell_type": "raw",
   "metadata": {},
   "source": [
    "示例 1：\n",
    "\n",
    "给定 s = \"324\",\n",
    "\n",
    "你应该返回一个 NestedInteger 对象，其中只包含整数值 324。\n",
    " \n",
    "\n",
    "示例 2：\n",
    "\n",
    "给定 s = \"[123,[456,[789]]]\",\n",
    "\n",
    "返回一个 NestedInteger 对象包含一个有两个元素的嵌套列表：\n",
    "\n",
    "1. 一个 integer 包含值 123\n",
    "2. 一个包含两个元素的嵌套列表：\n",
    "    i.  一个 integer 包含值 456\n",
    "    ii. 一个包含一个元素的嵌套列表\n",
    "         a. 一个 integer 包含值 789"
   ]
  },
  {
   "cell_type": "markdown",
   "metadata": {},
   "source": [
    "## 思路一"
   ]
  },
  {
   "cell_type": "raw",
   "metadata": {},
   "source": [
    "给了一个字符串表示的列表，返回一个NestedInteger形式的列表，其每个元素都是NestedInteger形式的整数对象。\n",
    "\n",
    "直接用eval()可以实现。"
   ]
  },
  {
   "cell_type": "code",
   "execution_count": 3,
   "metadata": {},
   "outputs": [],
   "source": [
    "# \"\"\"\n",
    "# This is the interface that allows for creating nested lists.\n",
    "# You should not implement it, or speculate about its implementation\n",
    "# \"\"\"\n",
    "#class NestedInteger(object):\n",
    "#    def __init__(self, value=None):\n",
    "#        \"\"\"\n",
    "#        If value is not specified, initializes an empty list.\n",
    "#        Otherwise initializes a single integer equal to value.\n",
    "#        \"\"\"\n",
    "#\n",
    "#    def isInteger(self):\n",
    "#        \"\"\"\n",
    "#        @return True if this NestedInteger holds a single integer, rather than a nested list.\n",
    "#        :rtype bool\n",
    "#        \"\"\"\n",
    "#\n",
    "#    def add(self, elem):\n",
    "#        \"\"\"\n",
    "#        Set this NestedInteger to hold a nested list and adds a nested integer elem to it.\n",
    "#        :rtype void\n",
    "#        \"\"\"\n",
    "#\n",
    "#    def setInteger(self, value):\n",
    "#        \"\"\"\n",
    "#        Set this NestedInteger to hold a single integer equal to value.\n",
    "#        :rtype void\n",
    "#        \"\"\"\n",
    "#\n",
    "#    def getInteger(self):\n",
    "#        \"\"\"\n",
    "#        @return the single integer that this NestedInteger holds, if it holds a single integer\n",
    "#        Return None if this NestedInteger holds a nested list\n",
    "#        :rtype int\n",
    "#        \"\"\"\n",
    "#\n",
    "#    def getList(self):\n",
    "#        \"\"\"\n",
    "#        @return the nested list that this NestedInteger holds, if it holds a nested list\n",
    "#        Return None if this NestedInteger holds a single integer\n",
    "#        :rtype List[NestedInteger]\n",
    "#        \"\"\"\n",
    "\n",
    "class Solution(object):\n",
    "    def deserialize(self, s):\n",
    "        \"\"\"\n",
    "        :type s: str\n",
    "        :rtype: NestedInteger\n",
    "        \"\"\"\n",
    "        \n",
    "        def getNumber(nums):\n",
    "            if isinstance(nums, int):\n",
    "                return NestedInteger(nums)\n",
    "            lst = NestedInteger()\n",
    "            for num in nums:\n",
    "                lst.add(getNumber(num))\n",
    "            return lst\n",
    "        \n",
    "        return getNumber(eval(s))\n",
    "\n",
    "        \n",
    "        "
   ]
  }
 ],
 "metadata": {
  "kernelspec": {
   "display_name": "Python 3",
   "language": "python",
   "name": "python3"
  },
  "language_info": {
   "codemirror_mode": {
    "name": "ipython",
    "version": 3
   },
   "file_extension": ".py",
   "mimetype": "text/x-python",
   "name": "python",
   "nbconvert_exporter": "python",
   "pygments_lexer": "ipython3",
   "version": "3.6.5"
  }
 },
 "nbformat": 4,
 "nbformat_minor": 2
}
