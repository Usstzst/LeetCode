{
 "cells": [
  {
   "cell_type": "markdown",
   "metadata": {},
   "source": [
    "# 题目原意"
   ]
  },
  {
   "cell_type": "raw",
   "metadata": {},
   "source": [
    "返回与给定的前序和后序遍历匹配的任何二叉树。\n",
    "\n",
    " pre 和 post 遍历中的值是不同的正整数。"
   ]
  },
  {
   "cell_type": "raw",
   "metadata": {},
   "source": [
    "示例：\n",
    "输入：pre = [1,2,4,5,3,6,7], post = [4,5,2,6,7,3,1]\n",
    "输出：[1,2,3,4,5,6,7]\n",
    " \n",
    "\n",
    "提示：\n",
    "1 <= pre.length == post.length <= 30\n",
    "pre[] 和 post[] 都是 1, 2, ..., pre.length 的排列\n",
    "每个输入保证至少有一个答案。如果有多个答案，可以返回其中一个。"
   ]
  },
  {
   "cell_type": "markdown",
   "metadata": {},
   "source": [
    "## 思路一"
   ]
  },
  {
   "cell_type": "code",
   "execution_count": 1,
   "metadata": {},
   "outputs": [],
   "source": [
    "# Definition for a binary tree node.\n",
    "# class TreeNode(object):\n",
    "#     def __init__(self, x):\n",
    "#         self.val = x\n",
    "#         self.left = None\n",
    "#         self.right = None\n",
    "\n",
    "class Solution:\n",
    "    def constructFromPrePost(self, pre, post):\n",
    "        \n",
    "        if not pre:\n",
    "            return None\n",
    "        root = TreeNode(pre[0])  # 创建当前根节点\n",
    "        if len(pre) == 1: return root  # 如果只有一个值，直接返回\n",
    "\n",
    "        i = post.index(pre[1]) + 1  # 获取当前跟节点，在 post 中的位置\n",
    "        root.left = self.constructFromPrePost(pre[1:i+1], post[:i])  # 递归左子树\n",
    "        root.right = self.constructFromPrePost(pre[i+1:], post[i:])  # 递归右子树\n",
    "        return root\n"
   ]
  }
 ],
 "metadata": {
  "kernelspec": {
   "display_name": "Python 3",
   "language": "python",
   "name": "python3"
  },
  "language_info": {
   "codemirror_mode": {
    "name": "ipython",
    "version": 3
   },
   "file_extension": ".py",
   "mimetype": "text/x-python",
   "name": "python",
   "nbconvert_exporter": "python",
   "pygments_lexer": "ipython3",
   "version": "3.6.5"
  }
 },
 "nbformat": 4,
 "nbformat_minor": 2
}
