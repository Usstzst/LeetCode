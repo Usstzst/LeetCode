{
 "cells": [
  {
   "cell_type": "markdown",
   "metadata": {},
   "source": [
    "# 题目原意"
   ]
  },
  {
   "cell_type": "raw",
   "metadata": {},
   "source": [
    "在一根无限长的数轴上，你站在0的位置。终点在target的位置。\n",
    "\n",
    "每次你可以选择向左或向右移动。第 n 次移动（从 1 开始），可以走 n 步。\n",
    "\n",
    "返回到达终点需要的最小移动次数。"
   ]
  },
  {
   "cell_type": "raw",
   "metadata": {},
   "source": [
    "示例 1:\n",
    "输入: target = 3\n",
    "输出: 2\n",
    "解释:\n",
    "第一次移动，从 0 到 1 。\n",
    "第二次移动，从 1 到 3 。\n",
    "\n",
    "示例 2:\n",
    "输入: target = 2\n",
    "输出: 3\n",
    "解释:\n",
    "第一次移动，从 0 到 1 。\n",
    "第二次移动，从 1 到 -1 。\n",
    "第三次移动，从 -1 到 2 。\n",
    "\n",
    "注意:\n",
    "target是在[-10^9, 10^9]范围中的非零整数。"
   ]
  },
  {
   "cell_type": "markdown",
   "metadata": {},
   "source": [
    "## 思路一"
   ]
  },
  {
   "cell_type": "code",
   "execution_count": 2,
   "metadata": {},
   "outputs": [],
   "source": [
    "class Solution(object):\n",
    "    def reachNumber(self, target):\n",
    "        \"\"\"\n",
    "        :type target: int\n",
    "        :rtype: int\n",
    "        \"\"\"\n",
    "        \n",
    "        target = abs(target)\n",
    "        k = 0\n",
    "        sum = 0\n",
    "        while sum < target:\n",
    "            k += 1\n",
    "            sum += k\n",
    "        d = sum - target\n",
    "        if d % 2 == 0:\n",
    "            return k\n",
    "        return k + 1 + (k % 2)\n"
   ]
  },
  {
   "cell_type": "code",
   "execution_count": 5,
   "metadata": {},
   "outputs": [
    {
     "data": {
      "text/plain": [
       "2"
      ]
     },
     "execution_count": 5,
     "metadata": {},
     "output_type": "execute_result"
    }
   ],
   "source": [
    "\n",
    "    "
   ]
  },
  {
   "cell_type": "code",
   "execution_count": null,
   "metadata": {},
   "outputs": [],
   "source": []
  }
 ],
 "metadata": {
  "kernelspec": {
   "display_name": "Python 3",
   "language": "python",
   "name": "python3"
  },
  "language_info": {
   "codemirror_mode": {
    "name": "ipython",
    "version": 3
   },
   "file_extension": ".py",
   "mimetype": "text/x-python",
   "name": "python",
   "nbconvert_exporter": "python",
   "pygments_lexer": "ipython3",
   "version": "3.6.5"
  }
 },
 "nbformat": 4,
 "nbformat_minor": 2
}
