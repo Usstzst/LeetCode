{
 "cells": [
  {
   "cell_type": "markdown",
   "metadata": {},
   "source": [
    "# 题目原意"
   ]
  },
  {
   "cell_type": "raw",
   "metadata": {},
   "source": [
    "给定一个整数数组 A，找到 min(B) 的总和，其中 B 的范围为 A 的每个（连续）子数组。\n",
    "\n",
    "由于答案可能很大，因此返回答案模 10^9 + 7。\n"
   ]
  },
  {
   "cell_type": "raw",
   "metadata": {},
   "source": [
    "示例：\n",
    "\n",
    "输入：[3,1,2,4]\n",
    "输出：17\n",
    "解释：\n",
    "子数组为 [3]，[1]，[2]，[4]，[3,1]，[1,2]，[2,4]，[3,1,2]，[1,2,4]，[3,1,2,4]。 \n",
    "最小值为 3，1，2，4，1，1，2，1，1，1，和为 17。\n",
    " \n",
    "\n",
    "提示：\n",
    "\n",
    "1 <= A <= 30000\n",
    "1 <= A[i] <= 30000"
   ]
  },
  {
   "cell_type": "markdown",
   "metadata": {},
   "source": [
    "## 思路一"
   ]
  },
  {
   "cell_type": "raw",
   "metadata": {},
   "source": [
    "花花酱的思路，没看懂！！！超出时间限制 = ="
   ]
  },
  {
   "cell_type": "code",
   "execution_count": 1,
   "metadata": {},
   "outputs": [],
   "source": [
    "# Author: Huahua, 96/100 passed\n",
    "class Solution:\n",
    "    def sumSubarrayMins(self, A):\n",
    "        \n",
    "        kMod = 10 ** 9 + 7\n",
    "        n = len(A)\n",
    "        ans = 0\n",
    "        for i in range(n):\n",
    "            left, right = 1, 1\n",
    "            while i - left >= 0 and A[i - left] > A[i]:\n",
    "                left += 1\n",
    "            while i + right < n and A[i + right] >= A[i]:\n",
    "                right += 1\n",
    "            ans += A[i] * left * right\n",
    "        return ans % kMod"
   ]
  }
 ],
 "metadata": {
  "kernelspec": {
   "display_name": "Python 3",
   "language": "python",
   "name": "python3"
  },
  "language_info": {
   "codemirror_mode": {
    "name": "ipython",
    "version": 3
   },
   "file_extension": ".py",
   "mimetype": "text/x-python",
   "name": "python",
   "nbconvert_exporter": "python",
   "pygments_lexer": "ipython3",
   "version": "3.6.5"
  }
 },
 "nbformat": 4,
 "nbformat_minor": 2
}
