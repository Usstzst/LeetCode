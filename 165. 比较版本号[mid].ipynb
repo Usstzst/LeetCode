{
 "cells": [
  {
   "cell_type": "markdown",
   "metadata": {},
   "source": [
    "# 题目原意"
   ]
   
  },
  {
   "cell_type": "raw",
   "metadata": {},
   "source": [
    "比较两个版本号 version1 和 version2。\n",
    "如果 version1 > version2 返回 1，如果 version1 < version2 返回 -1， 除此之外返回 0。\n",
    "\n",
    "你可以假设版本字符串非空，并且只包含数字和 . 字符。\n",
    "\n",
    " . 字符不代表小数点，而是用于分隔数字序列。\n",
    "\n",
    "例如，2.5 不是“两个半”，也不是“差一半到三”，而是第二版中的第五个小版本。\n",
    "\n",
    "你可以假设版本号的每一级的默认修订版号为 0。例如，版本号 3.4 的第一级（大版本）和第二级（小版本）修订号分别为 3 和 4。其第三级和第四级修订号均为 0。\n",
    " "
   ]
   
  },
  {
   "cell_type": "raw",
   "metadata": {},
   "source": [
    "示例 1:\n",
    "输入: version1 = \"0.1\", version2 = \"1.1\"\n",
    "输出: -1\n",
    "\n",
    "示例 2:\n",
    "输入: version1 = \"1.0.1\", version2 = \"1\"\n",
    "输出: 1\n",
    "\n",
    "示例 3:\n",
    "输入: version1 = \"7.5.2.4\", version2 = \"7.5.3\"\n",
    "输出: -1\n",
    "\n",
    "示例 4：\n",
    "输入：version1 = \"1.01\", version2 = \"1.001\"\n",
    "输出：0\n",
    "解释：忽略前导零，“01” 和 “001” 表示相同的数字 “1”。\n",
    "\n",
    "示例 5：\n",
    "输入：version1 = \"1.0\", version2 = \"1.0.0\"\n",
    "输出：0\n",
    "解释：version1 没有第三级修订号，这意味着它的第三级修订号默认为 “0”。\n",
    " \n",
    "\n",
    "提示：\n",
    "版本字符串由以点 （.） 分隔的数字字符串组成。这个数字字符串可能有前导零。\n",
    "版本字符串不以点开始或结束，并且其中不会有两个连续的点。"
   ]
  },
  {
   "cell_type": "markdown",
   "metadata": {},
   "source": [
    "## 思路一"
   ]
  },
  {
   "cell_type": "raw",
   "metadata": {},
   "source": [
    "版本是用 . 进行分割的，那么我们也只能通过用 . 进行分割来判定版本号的大小。把版本号进行分割，需要找出一个较长的版本号的长度，把较短的版本的后面用0进行补齐，然后进行比较。"
   ]
  },
  {
   "cell_type": "code",
   "execution_count": 3,
   "metadata": {},
   "outputs": [],
   "source": [
    "class Solution(object):\n",
    "    def compareVersion(self, version1, version2):\n",
    "        \"\"\"\n",
    "        :type version1: str\n",
    "        :type version2: str\n",
    "        :rtype: int\n",
    "        \"\"\"\n",
    "        v1 = version1.split('.')\n",
    "        v2 = version2.split('.')\n",
    "        v1_len, v2_len = len(v1), len(v2)\n",
    "        maxLen = max(v1_len, v2_len)\n",
    "        for i in range(maxLen):\n",
    "            temp1, temp2 = 0, 0 \n",
    "            if i < v1_len:\n",
    "                temp1 = int(v1[i])\n",
    "            if i < v2_len:\n",
    "                temp2 = int(v2[i])\n",
    "            if temp1<temp2:\n",
    "                return -1\n",
    "            elif temp1 > temp2:\n",
    "                return 1\n",
    "        return 0\n",
    "        "
   ]
  }
 ],
 "metadata": {
  "kernelspec": {
   "display_name": "Python 3",
   "language": "python",
   "name": "python3"
  },
  "language_info": {
   "codemirror_mode": {
    "name": "ipython",
    "version": 3
   },
   "file_extension": ".py",
   "mimetype": "text/x-python",
   "name": "python",
   "nbconvert_exporter": "python",
   "pygments_lexer": "ipython3",
   "version": "3.6.5"
  }
 },
 "nbformat": 4,
 "nbformat_minor": 2
}
