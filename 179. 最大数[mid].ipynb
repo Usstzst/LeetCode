{
 "cells": [
  {
   "cell_type": "markdown",
   "metadata": {},
   "source": [
    "# 题目原意"
   ]
  },
  {
   "cell_type": "raw",
   "metadata": {},
   "source": [
    "给定一组非负整数，重新排列它们的顺序使之组成一个最大的整数。\n",
    "\n",
    "示例 1:\n",
    "\n",
    "输入: [10,2]\n",
    "输出: 210\n",
    "示例 2:\n",
    "\n",
    "输入: [3,30,34,5,9]\n",
    "输出: 9534330\n",
    "说明: 输出结果可能非常大，所以你需要返回一个字符串而不是整数。"
   ]
  },
  {
   "cell_type": "markdown",
   "metadata": {},
   "source": [
    "## 思路一"
   ]
  },
  {
   "cell_type": "code",
   "execution_count": 1,
   "metadata": {},
   "outputs": [],
   "source": [
    "class Solution(object):\n",
    "    def largestNumber(self, nums):\n",
    "        \"\"\" :type nums: List[int] :rtype: str \"\"\"\n",
    "        \n",
    "        def compare(a, b):\n",
    "            return int(b+a)-int(a+b)\n",
    "        \n",
    "        nums = sorted([str(x) for x in nums], cmp=compare)\n",
    "        ans = ''.join(nums).lstrip('0')\n",
    "        \n",
    "        return ans or '0'\n",
    "       "
   ]
  }
 ],
 "metadata": {
  "kernelspec": {
   "display_name": "Python 3",
   "language": "python",
   "name": "python3"
  },
  "language_info": {
   "codemirror_mode": {
    "name": "ipython",
    "version": 3
   },
   "file_extension": ".py",
   "mimetype": "text/x-python",
   "name": "python",
   "nbconvert_exporter": "python",
   "pygments_lexer": "ipython3",
   "version": "3.6.5"
  }
 },
 "nbformat": 4,
 "nbformat_minor": 2
}
