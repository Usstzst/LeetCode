{
 "cells": [
  {
   "cell_type": "markdown",
   "metadata": {},
   "source": [
    "# 题目原意"
   ]
  },
  {
   "cell_type": "raw",
   "metadata": {},
   "source": [
    "已有方法 rand7 可生成 1 到 7 范围内的均匀随机整数，试写一个方法 rand10 生成 1 到 10 范围内的均匀随机整数。\n",
    "\n",
    "不要使用系统的 Math.random() 方法。"
   ]
  },
  {
   "cell_type": "raw",
   "metadata": {},
   "source": [
    "示例 1:\n",
    "输入: 1\n",
    "输出: [7]\n",
    "\n",
    "示例 2:\n",
    "输入: 2\n",
    "输出: [8,4]\n",
    "\n",
    "示例 3:\n",
    "输入: 3\n",
    "输出: [8,1,10]\n",
    " \n",
    "\n",
    "提示:\n",
    "rand7 已定义。\n",
    "传入参数: n 表示 rand10 的调用次数。"
   ]
  },
  {
   "cell_type": "markdown",
   "metadata": {},
   "source": [
    "## 思路一"
   ]
  },
  {
   "cell_type": "raw",
   "metadata": {},
   "source": [
    "范围在1～7的随机数产生器，即1~7各个数字出现的概率皆为1/7.\n",
    "范围在1～10的随机数产生器，即1~10各个数字出现的概率皆为1/10.\n",
    "\n",
    "这个题的构造思路是先构造一个randN，这个N必须是10的整数倍，然后randN % 10就可以得到了rand10.\n",
    "\n",
    "所以可以从rand7先构造出rand49，再把rand49中大于等于40的都过滤掉，这样就得到了rand40，在对10取余即可。\n",
    "\n",
    "具体一点就是：\n",
    "\n",
    "rand7()等概率地产生1,2,3,4,5,6,7.\n",
    "rand7() - 1等概率地产生[0,6].\n",
    "(rand7() - 1) *7等概率地产生0, 7, 14, 21, 28, 35, 42\n",
    "(rand7() - 1) * 7 + (rand7() - 1)等概率地产生[0, 48]这49个数字\n",
    "如果步骤4的结果大于等于40，那么就重复步骤4，直到产生的数小于40\n",
    "把步骤5的结果mod 10 再加1， 就会等概率的随机生成[1, 10]\n",
    "\n",
    "所以过程是：rand7 --> rand49 --> rand40 --> rand10.\n"
   ]
  },
  {
   "cell_type": "code",
   "execution_count": 1,
   "metadata": {},
   "outputs": [],
   "source": [
    "# The rand7() API is already defined for you.\n",
    "# def rand7():\n",
    "# @return a random integer in the range 1 to 7\n",
    "\n",
    "class Solution:\n",
    "    def rand10(self):\n",
    "        \"\"\"\n",
    "        :rtype: int\n",
    "        \"\"\"\n",
    "        return self.rand40() % 10 + 1\n",
    "        \n",
    "    def rand49(self):\n",
    "        \"\"\"\n",
    "        random integer in 0 ~ 48\n",
    "        \"\"\"\n",
    "        return 7 * (rand7() - 1) + rand7() - 1\n",
    "        \n",
    "    def rand40(self):\n",
    "        \"\"\"\n",
    "        random integer in 0 ~ 40\n",
    "        \"\"\"\n",
    "        num = self.rand49()\n",
    "        while num >= 40:\n",
    "            num = self.rand49()\n",
    "        return num\n"
   ]
  }
 ],
 "metadata": {
  "kernelspec": {
   "display_name": "Python 3",
   "language": "python",
   "name": "python3"
  },
  "language_info": {
   "codemirror_mode": {
    "name": "ipython",
    "version": 3
   },
   "file_extension": ".py",
   "mimetype": "text/x-python",
   "name": "python",
   "nbconvert_exporter": "python",
   "pygments_lexer": "ipython3",
   "version": "3.6.5"
  }
 },
 "nbformat": 4,
 "nbformat_minor": 2
}
