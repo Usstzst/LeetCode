{
 "cells": [
  {
   "cell_type": "markdown",
   "metadata": {},
   "source": [
    "# 题目原意"
   ]
  },
  {
   "cell_type": "raw",
   "metadata": {},
   "source": [
    "给定一个二叉搜索树, 找到该树中两个指定节点的最近公共祖先。\n",
    "\n",
    "百度百科中最近公共祖先的定义为：“对于有根树 T 的两个结点 p、q，最近公共祖先表示为一个结点 x，满足 x 是 p、q 的祖先且 x 的深度尽可能大（一个节点也可以是它自己的祖先）。”\n",
    "\n",
    "例如，给定如下二叉搜索树:  root = [6,2,8,0,4,7,9,null,null,3,5]\n"
   ]
  },
  {
   "cell_type": "raw",
   "metadata": {},
   "source": [
    "Example 1:\n",
    "输入: root = [6,2,8,0,4,7,9,null,null,3,5], p = 2, q = 8\n",
    "输出: 6 \n",
    "解释: 节点 2 和节点 8 的最近公共祖先是 6。\n",
    "\n",
    "\n",
    "Example 2:\n",
    "输入: root = [6,2,8,0,4,7,9,null,null,3,5], p = 2, q = 4\n",
    "输出: 2\n",
    "解释: 节点 2 和节点 4 的最近公共祖先是 2, 因为根据定义最近公共祖先节点可以为节点本身。\n"
   ]
  },
  {
   "cell_type": "markdown",
   "metadata": {},
   "source": [
    "## 思路一"
   ]
  },
  {
   "cell_type": "raw",
   "metadata": {},
   "source": [
    "注意题目中有说这是一个BST。那么满足左子树所有节点<根节点<右子树所有节点。假设p.val < q.val，那么它们的最近公共祖先节点r，一定满足：p.val <= r.val <=q.val。"
   ]
  },
  {
   "cell_type": "code",
   "execution_count": 2,
   "metadata": {},
   "outputs": [],
   "source": [
    "# Definition for a binary tree node.\n",
    "# class TreeNode:\n",
    "#     def __init__(self, x):\n",
    "#         self.val = x\n",
    "#         self.left = None\n",
    "#         self.right = None\n",
    "\n",
    "class Solution:\n",
    "    def lowestCommonAncestor(self, root, p, q):\n",
    "        \"\"\"\n",
    "        :type root: TreeNode\n",
    "        :type p: TreeNode\n",
    "        :type q: TreeNode\n",
    "        :rtype: TreeNode\n",
    "        \"\"\"\n",
    "        minn = min(p.val, q.val)\n",
    "        maxn = max(p.val, q.val)\n",
    "        if root is None:\n",
    "            return None\n",
    "        if minn <= root.val <= maxn:\n",
    "            return root\n",
    "        else:\n",
    "            l = self.lowestCommonAncestor(root.left, p, q)\n",
    "            r = self.lowestCommonAncestor(root.right, p, q)\n",
    "            if l:\n",
    "                return l\n",
    "            if r:\n",
    "                return r\n"
   ]
  }
 ],
 "metadata": {
  "kernelspec": {
   "display_name": "Python 3",
   "language": "python",
   "name": "python3"
  },
  "language_info": {
   "codemirror_mode": {
    "name": "ipython",
    "version": 3
   },
   "file_extension": ".py",
   "mimetype": "text/x-python",
   "name": "python",
   "nbconvert_exporter": "python",
   "pygments_lexer": "ipython3",
   "version": "3.6.5"
  }
 },
 "nbformat": 4,
 "nbformat_minor": 2
}
