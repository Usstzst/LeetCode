{
 "cells": [
  {
   "cell_type": "markdown",
   "metadata": {},
   "source": [
    "# 题目原意"
   ]
  },
  {
   "cell_type": "raw",
   "metadata": {},
   "source": [
    "冬季已经来临。 你的任务是设计一个有固定加热半径的供暖器向所有房屋供暖。\n",
    "\n",
    "现在，给出位于一条水平线上的房屋和供暖器的位置，找到可以覆盖所有房屋的最小加热半径。\n",
    "\n",
    "所以，你的输入将会是房屋和供暖器的位置。你将输出供暖器的最小加热半径。\n",
    "\n",
    "说明:\n",
    "\n",
    "给出的房屋和供暖器的数目是非负数且不会超过 25000。\n",
    "给出的房屋和供暖器的位置均是非负数且不会超过10^9。\n",
    "只要房屋位于供暖器的半径内(包括在边缘上)，它就可以得到供暖。\n",
    "所有供暖器都遵循你的半径标准，加热的半径也一样。"
   ]
  },
  {
   "cell_type": "raw",
   "metadata": {},
   "source": [
    "Example 1：\n",
    "输入: [1,2,3],[2]\n",
    "输出: 1\n",
    "解释: 仅在位置2上有一个供暖器。如果我们将加热半径设为1，那么所有房屋就都能得到供暖。\n",
    "\n",
    "\n",
    "Example 2:\n",
    "输入: [1,2,3,4],[1,4]\n",
    "输出: 1\n",
    "解释: 在位置1, 4上有两个供暖器。我们需要将加热半径设为1，这样所有房屋就都能得到供暖。"
   ]
  },
  {
   "cell_type": "markdown",
   "metadata": {},
   "source": [
    "## 思路一：遍历"
   ]
  },
  {
   "cell_type": "raw",
   "metadata": {},
   "source": [
    "题目给的不是有序的，一定要先排序，排序了之后，对houses进行遍历，找出大于house的最小的heater，然后求出house据左右的heater的最小距离。然后求出整个的最大距离，即为所求。"
   ]
  },
  {
   "cell_type": "code",
   "execution_count": 1,
   "metadata": {},
   "outputs": [],
   "source": [
    "class Solution(object):\n",
    "    def findRadius(self, houses, heaters):\n",
    "        \"\"\"\n",
    "        :type houses: List[int]\n",
    "        :type heaters: List[int]\n",
    "        :rtype: int\n",
    "        \"\"\"\n",
    "        houses.sort()\n",
    "        heaters.sort()\n",
    "        ans = 0\n",
    "        pos = 0\n",
    "        heaters = [float('-inf')] + heaters + [float('inf')]\n",
    "        for house in houses:\n",
    "            while house >= heaters[pos]:\n",
    "                pos += 1\n",
    "            r = min(house - heaters[pos - 1], heaters[pos] - house)\n",
    "            ans = max(ans, r)\n",
    "        return ans\n"
   ]
  }
 ],
 "metadata": {
  "kernelspec": {
   "display_name": "Python 3",
   "language": "python",
   "name": "python3"
  },
  "language_info": {
   "codemirror_mode": {
    "name": "ipython",
    "version": 3
   },
   "file_extension": ".py",
   "mimetype": "text/x-python",
   "name": "python",
   "nbconvert_exporter": "python",
   "pygments_lexer": "ipython3",
   "version": "3.6.5"
  }
 },
 "nbformat": 4,
 "nbformat_minor": 2
}
