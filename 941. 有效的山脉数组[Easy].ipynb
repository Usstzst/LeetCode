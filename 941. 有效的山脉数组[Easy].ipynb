{
 "cells": [
  {
   "cell_type": "markdown",
   "metadata": {},
   "source": [
    "# 题目原意"
   ]
  },
  {
   "cell_type": "raw",
   "metadata": {},
   "source": [
    "给定一个整数数组 A，如果它是有效的山脉数组就返回 true，否则返回 false。\n",
    "\n",
    "让我们回顾一下，如果 A 满足下述条件，那么它是一个山脉数组：\n",
    "\n",
    "A.length >= 3\n",
    "在 0 < i < A.length - 1 条件下，存在 i 使得：\n",
    "A[0] < A[1] < ... A[i-1] < A[i]\n",
    "A[i] > A[i+1] > ... > A[B.length - 1]\n",
    " "
   ]
  },
  {
   "cell_type": "raw",
   "metadata": {},
   "source": [
    "示例 1：\n",
    "输入：[2,1]\n",
    "输出：false\n",
    "\n",
    "示例 2：\n",
    "输入：[3,5,5]\n",
    "输出：false\n",
    "\n",
    "示例 3：\n",
    "输入：[0,3,2,1]\n",
    "输出：true"
   ]
  },
  {
   "cell_type": "markdown",
   "metadata": {},
   "source": [
    "## 思路一"
   ]
  },
  {
   "cell_type": "code",
   "execution_count": 2,
   "metadata": {},
   "outputs": [],
   "source": [
    "class Solution:\n",
    "    def validMountainArray(self, A):\n",
    "        \"\"\"\n",
    "        :type A: List[int]\n",
    "        :rtype: bool\n",
    "        \"\"\"\n",
    "        n=len(A)\n",
    "        if n<3:\n",
    "            return False\n",
    "        else:\n",
    "            index=A.index(max(A))\n",
    "            if 0==index or n-1==index:\n",
    "                return False\n",
    "            else:\n",
    "                for i in range(0,index):\n",
    "                    if A[i]>=A[i+1]:\n",
    "                        return False\n",
    "                for i in range(index+1,n):\n",
    "                    if A[i]>=A[i-1]:\n",
    "                        return False\n",
    "                return True"
   ]
  },
  {
   "cell_type": "markdown",
   "metadata": {},
   "source": [
    "## 思路一 代码精简"
   ]
  },
  {
   "cell_type": "code",
   "execution_count": 3,
   "metadata": {},
   "outputs": [],
   "source": [
    "class Solution(object):\n",
    "    def validMountainArray(self, A):\n",
    "        \"\"\"\n",
    "        :type A: List[int]\n",
    "        :rtype: bool\n",
    "        \"\"\"\n",
    "        if len(A)<3:\n",
    "            return False\n",
    "        else:\n",
    "            n = len(A)\n",
    "            index = A.index(max(A))\n",
    "            if index == 0 or index == len(A)-1:\n",
    "                return False\n",
    "            else:\n",
    "                return all(A[i]<A[i+1] for i in range(0,index)) and all(A[i]>A[i+1] for i in range(index, n))"
   ]
  }
 ],
 "metadata": {
  "kernelspec": {
   "display_name": "Python 3",
   "language": "python",
   "name": "python3"
  },
  "language_info": {
   "codemirror_mode": {
    "name": "ipython",
    "version": 3
   },
   "file_extension": ".py",
   "mimetype": "text/x-python",
   "name": "python",
   "nbconvert_exporter": "python",
   "pygments_lexer": "ipython3",
   "version": "3.7.0"
  }
 },
 "nbformat": 4,
 "nbformat_minor": 2
}
