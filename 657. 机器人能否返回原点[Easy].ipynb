{
 "cells": [
  {
   "cell_type": "markdown",
   "metadata": {},
   "source": [
    "# 题目原意"
   ]
  },
  {
   "cell_type": "raw",
   "metadata": {},
   "source": [
    "在二维平面上，有一个机器人从原点 (0, 0) 开始。给出它的移动顺序，判断这个机器人在完成移动后是否在 (0, 0) 处结束。\n",
    "\n",
    "移动顺序由字符串表示。字符 move[i] 表示其第 i 次移动。机器人的有效动作有 R（右），L（左），U（上）和 D（下）。如果机器人在完成所有动作后返回原点，则返回 true。否则，返回 false。\n",
    "\n",
    "注意：机器人“面朝”的方向无关紧要。 “R” 将始终使机器人向右移动一次，“L” 将始终向左移动等。此外，假设每次移动机器人的移动幅度相同。"
   ]
  },
  {
   "cell_type": "raw",
   "metadata": {},
   "source": [
    "Example 1:\n",
    "输入: \"UD\"\n",
    "输出: true\n",
    "解释：机器人向上移动一次，然后向下移动一次。所有动作都具有相同的幅度，因此它最终回到它开始的原点。因此，我们返回 true。\n",
    "\n",
    "Example 2:\n",
    "输入: \"LL\"\n",
    "输出: false\n",
    "解释：机器人向左移动两次。它最终位于原点的左侧，距原点有两次 “移动” 的距离。我们返回 false，因为它在移动结束时没有返回原点。"
   ]
  },
  {
   "cell_type": "raw",
   "metadata": {},
   "source": [
    "题目大意： 初始位于坐标(0, 0)，UDLR分别表示向上下左右移动，求移动结束后是否位于原点。"
   ]
  },
  {
   "cell_type": "markdown",
   "metadata": {},
   "source": [
    "## 思路一"
   ]
  },
  {
   "cell_type": "code",
   "execution_count": 1,
   "metadata": {},
   "outputs": [],
   "source": [
    "class Solution(object):\n",
    "    def judgeCircle(self, moves):\n",
    "        \"\"\"\n",
    "        :type moves: str\n",
    "        :rtype: bool\n",
    "        \"\"\"\n",
    "        x = y = 0\n",
    "        for m in moves:\n",
    "            if m == 'U': y += 1\n",
    "            elif m == 'D': y -= 1\n",
    "            elif m == 'R': x += 1\n",
    "            elif m == 'L': x -= 1\n",
    "        return x == y == 0"
   ]
  },
  {
   "cell_type": "markdown",
   "metadata": {},
   "source": [
    "## 思路二"
   ]
  },
  {
   "cell_type": "code",
   "execution_count": 2,
   "metadata": {},
   "outputs": [],
   "source": [
    "class Solution(object):\n",
    "    def judgeCircle(self, moves):\n",
    "        \"\"\"\n",
    "        :type moves: str\n",
    "        :rtype: bool\n",
    "        \"\"\"\n",
    "        return moves.count('L') == moves.count('R') and \\\n",
    "                moves.count('U') == moves.count('D')"
   ]
  }
 ],
 "metadata": {
  "kernelspec": {
   "display_name": "Python 3",
   "language": "python",
   "name": "python3"
  },
  "language_info": {
   "codemirror_mode": {
    "name": "ipython",
    "version": 3
   },
   "file_extension": ".py",
   "mimetype": "text/x-python",
   "name": "python",
   "nbconvert_exporter": "python",
   "pygments_lexer": "ipython3",
   "version": "3.7.0"
  }
 },
 "nbformat": 4,
 "nbformat_minor": 2
}
