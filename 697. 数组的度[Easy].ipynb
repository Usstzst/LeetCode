{
 "cells": [
  {
   "cell_type": "markdown",
   "metadata": {},
   "source": [
    "# 题目原意"
   ]
  },
  {
   "cell_type": "raw",
   "metadata": {},
   "source": [
    "给定一个非空且只包含非负数的整数数组 nums, 数组的度的定义是指数组里任一元素出现频数的最大值。\n",
    "\n",
    "你的任务是找到与 nums 拥有相同大小的度的最短连续子数组，返回其长度。"
   ]
  },
  {
   "cell_type": "raw",
   "metadata": {},
   "source": [
    "示例 1:\n",
    "输入: [1, 2, 2, 3, 1]\n",
    "输出: 2\n",
    "\n",
    "解释: \n",
    "输入数组的度是2，因为元素1和2的出现频数最大，均为2.\n",
    "连续子数组里面拥有相同度的有如下所示:\n",
    "[1, 2, 2, 3, 1], [1, 2, 2, 3], [2, 2, 3, 1], [1, 2, 2], [2, 2, 3], [2, 2]\n",
    "最短连续子数组[2, 2]的长度为2，所以返回2.\n",
    "\n",
    "示例 2:\n",
    "输入: [1,2,2,3,1,4,2]\n",
    "输出: 6\n",
    "\n",
    "注意:\n",
    "1、nums.length 在1到50,000区间范围内。\n",
    "2、nums[i] 是一个在0到49,999范围内的整数。"
   ]
  },
  {
   "cell_type": "markdown",
   "metadata": {},
   "source": [
    "## 思路一"
   ]
  },
  {
   "cell_type": "raw",
   "metadata": {},
   "source": [
    "直接求出整个数组的degree，然后找出所有的度等于该degree的数，找出最小度的数。"
   ]
  },
  {
   "cell_type": "raw",
   "metadata": {},
   "source": [
    "用collections.Counter()， most_common(1)[0] 得到数组的度，然后找到出现次数等于数组的度的元素，放入列表；\n",
    "对该列表进行遍历，将元素在数组中的索引存入列表，差值的最小值即为所求。"
   ]
  },
  {
   "cell_type": "code",
   "execution_count": 2,
   "metadata": {},
   "outputs": [],
   "source": [
    "import collections\n",
    "class Solution(object):\n",
    "    def findShortestSubArray(self, nums):\n",
    "        \"\"\"\n",
    "        :type nums: List[int]\n",
    "        :rtype: int\n",
    "        \"\"\"\n",
    "        if len(nums) == len(set(nums)):\n",
    "            return 1\n",
    "        counter = collections.Counter(nums)\n",
    "        degree_num = counter.most_common(1)[0]\n",
    "        most_numbers = [num for num in nums if counter[num] == degree_num[1]]\n",
    "        scale = 100000000\n",
    "        for most_number in most_numbers:\n",
    "            appear = [i for i, num in enumerate(nums) if num == most_number]\n",
    "            appera_scale = max(appear)-min(appear)+1\n",
    "            if appear_scale < scale:\n",
    "                scale = appear_scale\n",
    "        return scale\n",
    "      \n",
    " "
   ]
  },
  {
   "cell_type": "markdown",
   "metadata": {},
   "source": [
    "## 思路二：保存最左边和最右边元素出现的位置"
   ]
  },
  {
   "cell_type": "raw",
   "metadata": {},
   "source": [
    "left, right 分别为两个字典，分别存放元素出现的最左边和最右边的索引，count = collections.defaultdict(int) 用来记录元素出现的次数，可以得到数组的度degree, 后遍历求解。"
   ]
  },
  {
   "cell_type": "code",
   "execution_count": 1,
   "metadata": {},
   "outputs": [],
   "source": [
    "class Solution:\n",
    "    def findShortestSubArray(self, nums):\n",
    "        \"\"\"\n",
    "        :type nums: List[int]\n",
    "        :rtype: int\n",
    "        \"\"\"\n",
    "        left, right = dict(), dict()\n",
    "        count = collections.defaultdict(int)\n",
    "        for i, num in enumerate(nums):\n",
    "            if num not in left:\n",
    "                left[num] = i\n",
    "            right[num] = i\n",
    "            count[num] += 1\n",
    "        degree = max(count.values())\n",
    "        res = float(\"inf\")\n",
    "        for num, c in count.items():\n",
    "            if c == degree:\n",
    "                res = min(res, right[num] - left[num] + 1)\n",
    "        return res\n"
   ]
  }
 ],
 "metadata": {
  "kernelspec": {
   "display_name": "Python 3",
   "language": "python",
   "name": "python3"
  },
  "language_info": {
   "codemirror_mode": {
    "name": "ipython",
    "version": 3
   },
   "file_extension": ".py",
   "mimetype": "text/x-python",
   "name": "python",
   "nbconvert_exporter": "python",
   "pygments_lexer": "ipython3",
   "version": "3.6.5"
  }
 },
 "nbformat": 4,
 "nbformat_minor": 2
}
