{
 "cells": [
  {
   "cell_type": "markdown",
   "metadata": {},
   "source": [
    "# 题目原意"
   ]
  },
  {
   "cell_type": "raw",
   "metadata": {},
   "source": [
    "给定字符串 s 和 t ，判断 s 是否为 t 的子序列。\n",
    "\n",
    "你可以认为 s 和 t 中仅包含英文小写字母。字符串 t 可能会很长（长度 ~= 500,000），而 s 是个短字符串（长度 <=100）。\n",
    "\n",
    "字符串的一个子序列是原始字符串删除一些（也可以不删除）字符而不改变剩余字符相对位置形成的新字符串。（例如，\"ace\"是\"abcde\"的一个子序列，而\"aec\"不是）。"
   ]
  },
  {
   "cell_type": "raw",
   "metadata": {},
   "source": [
    "注意，这里应该是保留相对顺序的子字符串，也就是在s中出现的两个字符a,b应该在s中t中的相对次序相同。"
   ]
  },
  {
   "cell_type": "raw",
   "metadata": {},
   "source": [
    "示例 1:\n",
    "s = \"abc\", t = \"ahbgdc\"\n",
    "\n",
    "返回 true.\n",
    "\n",
    "示例 2:\n",
    "s = \"axc\", t = \"ahbgdc\"\n",
    "\n",
    "返回 false."
   ]
  },
  {
   "cell_type": "markdown",
   "metadata": {},
   "source": [
    "## 思路一"
   ]
  },
  {
   "cell_type": "raw",
   "metadata": {},
   "source": [
    "其实这个题就考了一个相对顺序。s比较短，而t很长，那么尽量就对t进行一次遍历最好。可以使用一个队列保留s的每个元素，这样对t进行遍历，如果遍历到的元素和队列的头元素相等，那么队列出头元素。这样最后返回队列是否为空即可。"
   ]
  },
  {
   "cell_type": "code",
   "execution_count": 4,
   "metadata": {},
   "outputs": [],
   "source": [
    "class Solution(object):\n",
    "    def isSubsequence(self, s, t):\n",
    "        \"\"\"\n",
    "        :type s: str\n",
    "        :type t: str\n",
    "        :rtype: bool\n",
    "        \"\"\"\n",
    "        queue = collections.deque(s)\n",
    "        for c in t:\n",
    "            if not queue: return True\n",
    "            if c == queue[0]:\n",
    "                queue.popleft()\n",
    "        return not queue\n"
   ]
  },
  {
   "cell_type": "markdown",
   "metadata": {},
   "source": [
    "## 思路二：双指针法"
   ]
  },
  {
   "cell_type": "raw",
   "metadata": {},
   "source": [
    "如果不使用队列的话，可以使用两个指针，一个作为s的索引，一个作为t的索引。如果在t中找到了s的元素，把s的指针右移，否则把t的指针右移。"
   ]
  },
  {
   "cell_type": "code",
   "execution_count": null,
   "metadata": {},
   "outputs": [],
   "source": [
    "class Solution(object):\n",
    "    def isSubsequence(self, s, t):\n",
    "        \"\"\"\n",
    "        :type s: str\n",
    "        :type t: str\n",
    "        :rtype: bool\n",
    "        \"\"\"\n",
    "        si, ti =0, 0\n",
    "        while si < len(s) and ti < len(t):\n",
    "            if t[ti] == s[si]:\n",
    "                si += 1\n",
    "            ti += 1\n",
    "        return si == len(s)\n",
    "\n",
    "        "
   ]
  }
 ],
 "metadata": {
  "kernelspec": {
   "display_name": "Python 3",
   "language": "python",
   "name": "python3"
  },
  "language_info": {
   "codemirror_mode": {
    "name": "ipython",
    "version": 3
   },
   "file_extension": ".py",
   "mimetype": "text/x-python",
   "name": "python",
   "nbconvert_exporter": "python",
   "pygments_lexer": "ipython3",
   "version": "3.6.5"
  }
 },
 "nbformat": 4,
 "nbformat_minor": 2
}
