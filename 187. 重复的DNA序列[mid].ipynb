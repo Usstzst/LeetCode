{
 "cells": [
  {
   "cell_type": "markdown",
   "metadata": {},
   "source": [
    "# 题目原意"
   ]
  },
  {
   "cell_type": "raw",
   "metadata": {},
   "source": [
    "所有 DNA 由一系列缩写为 A，C，G 和 T 的核苷酸组成，例如：“ACGAATTCCG”。在研究 DNA 时，识别 DNA 中的重复序列有时会对研究非常有帮助。\n",
    "\n",
    "编写一个函数来查找 DNA 分子中所有出现超过一次的10个字母长的序列（子串）。\n",
    "\n",
    "示例\n",
    "输入: s = \"AAAAACCCCCAAAAACCCCCCAAAAAGGGTTT\"\n",
    "输出: [\"AAAAACCCCC\", \"CCCCCAAAAA\"]"
   ]
  },
  {
   "cell_type": "markdown",
   "metadata": {},
   "source": [
    "## 思路一： set+遍历"
   ]
  },
  {
   "cell_type": "raw",
   "metadata": {},
   "source": [
    "需要一个长度是10的字符串切片，从头到尾把字符遍历一遍，然后不停的判断以这个位置开头的10个字符构成的字符串是否看到过，如果看到过就放到另外一个set里。为什么不直接放入list返回呢？因为一个字符串可能会重复多次，为了防止重复添加到结果里，必须set一下。\n",
    "\n",
    "时间复杂度是O(N)，空间复杂度是O(N)。\n"
   ]
  },
  {
   "cell_type": "code",
   "execution_count": 1,
   "metadata": {},
   "outputs": [],
   "source": [
    "class Solution(object):\n",
    "    def findRepeatedDnaSequences(self, s):\n",
    "        \"\"\"\n",
    "        :type s: str\n",
    "        :rtype: List[str]\n",
    "        \"\"\"\n",
    "        seen = set()\n",
    "        repeated = set()\n",
    "        N = len(s)\n",
    "        for i in range(N):\n",
    "            cur = s[i:i+10]\n",
    "            if cur in seen:\n",
    "                repeated.add(cur)\n",
    "            else:\n",
    "                seen.add(cur)\n",
    "        return list(repeated)\n",
    "        \n"
   ]
  }
 ],
 "metadata": {
  "kernelspec": {
   "display_name": "Python 3",
   "language": "python",
   "name": "python3"
  },
  "language_info": {
   "codemirror_mode": {
    "name": "ipython",
    "version": 3
   },
   "file_extension": ".py",
   "mimetype": "text/x-python",
   "name": "python",
   "nbconvert_exporter": "python",
   "pygments_lexer": "ipython3",
   "version": "3.6.5"
  }
 },
 "nbformat": 4,
 "nbformat_minor": 2
}
