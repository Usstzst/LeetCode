{
 "cells": [
  {
   "cell_type": "markdown",
   "metadata": {},
   "source": [
    "# 题目原意"
   ]
  },
  {
   "cell_type": "raw",
   "metadata": {},
   "source": [
    "给定一个字符串S，通过将字符串S中的每个字母转变大小写，我们可以获得一个新的字符串。返回所有可能得到的字符串集合。\n"
   ]
  },
  {
   "cell_type": "raw",
   "metadata": {},
   "source": [
    "示例:\n",
    "输入: S = \"a1b2\"\n",
    "输出: [\"a1b2\", \"a1B2\", \"A1b2\", \"A1B2\"]\n",
    "\n",
    "输入: S = \"3z4\"\n",
    "输出: [\"3z4\", \"3Z4\"]\n",
    "\n",
    "输入: S = \"12345\"\n",
    "输出: [\"12345\"]\n",
    "注意：\n",
    "\n",
    "S 的长度不超过12。\n",
    "S 仅由数字和字母组成。"
   ]
  },
  {
   "cell_type": "markdown",
   "metadata": {},
   "source": [
    "## 思路一：循环"
   ]
  },
  {
   "cell_type": "raw",
   "metadata": {},
   "source": [
    "用一个res数组，然后遍历S，每次判断这个字符是不是字母，如果是把这个字母分为大小写，然后再次放入到结果中，更新res就好。"
   ]
  },
  {
   "cell_type": "code",
   "execution_count": 4,
   "metadata": {},
   "outputs": [],
   "source": [
    "class Solution(object):\n",
    "    def letterCasePermutation(self, S):\n",
    "        \"\"\"\n",
    "        :type S: str\n",
    "        :rtype: List[str]\n",
    "        \"\"\"\n",
    "        res = [\"\"]\n",
    "        for s in S:\n",
    "            if s.isalpha():\n",
    "                res = [word + j for word in res for j in [s.lower(), s.upper()]]\n",
    "            else:\n",
    "                res = [word + s for word in res]\n",
    "        return res\n",
    "    \n"
   ]
  },
  {
   "cell_type": "markdown",
   "metadata": {},
   "source": [
    "## 思路二： 递归"
   ]
  },
  {
   "cell_type": "raw",
   "metadata": {},
   "source": [
    "太复杂，不想写"
   ]
  }
 ],
 "metadata": {
  "kernelspec": {
   "display_name": "Python 3",
   "language": "python",
   "name": "python3"
  },
  "language_info": {
   "codemirror_mode": {
    "name": "ipython",
    "version": 3
   },
   "file_extension": ".py",
   "mimetype": "text/x-python",
   "name": "python",
   "nbconvert_exporter": "python",
   "pygments_lexer": "ipython3",
   "version": "3.7.0"
  }
 },
 "nbformat": 4,
 "nbformat_minor": 2
}
