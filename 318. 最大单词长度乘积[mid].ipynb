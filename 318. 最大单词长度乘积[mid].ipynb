{
 "cells": [
  {
   "cell_type": "markdown",
   "metadata": {},
   "source": [
    "# 题目原意"
   ]
  },
  {
   "cell_type": "raw",
   "metadata": {},
   "source": [
    "给定一个字符串数组 words，找到 length(word[i]) * length(word[j]) 的最大值，并且这两个单词不含有公共字母。你可以认为每个单词只包含小写字母。如果不存在这样的两个单词，返回 0。\n",
    "\n"
   ]
  },
  {
   "cell_type": "raw",
   "metadata": {},
   "source": [
    "示例 1:\n",
    "输入: [\"abcw\",\"baz\",\"foo\",\"bar\",\"xtfn\",\"abcdef\"]\n",
    "输出: 16 \n",
    "解释: 这两个单词为 \"abcw\", \"xtfn\"。\n",
    "\n",
    "示例 2:\n",
    "输入: [\"a\",\"ab\",\"abc\",\"d\",\"cd\",\"bcd\",\"abcd\"]\n",
    "输出: 4 \n",
    "解释: 这两个单词为 \"ab\", \"cd\"。\n",
    "\n",
    "示例 3:\n",
    "输入: [\"a\",\"aa\",\"aaa\",\"aaaa\"]\n",
    "输出: 0 \n",
    "解释: 不存在这样的两个单词。"
   ]
  },
  {
   "cell_type": "markdown",
   "metadata": {},
   "source": [
    "## 思路一"
   ]
  },
  {
   "cell_type": "raw",
   "metadata": {},
   "source": [
    "用set统计每个字符串中出现的字符， "
   ]
  },
  {
   "cell_type": "code",
   "execution_count": 1,
   "metadata": {},
   "outputs": [],
   "source": [
    "class Solution:\n",
    "    def maxProduct(self, words):\n",
    "        \"\"\"\n",
    "        :type words: List[str]\n",
    "        :rtype: int\n",
    "        \"\"\"\n",
    "        word_dict = dict()\n",
    "        for word in words:\n",
    "            word_dict[word] = set(word)\n",
    "        max_len = 0\n",
    "        for i1, w1 in enumerate(words):\n",
    "            for i2 in range(i1+1, len(words)):\n",
    "                w2 = words[i2]\n",
    "                if not (word_dict[w1] & word_dict[w2]):\n",
    "                    max_len = max(max_len, len(w1)*len(w2))\n",
    "        return max_len\n",
    "        \n",
    "\n"
   ]
  }
 ],
 "metadata": {
  "kernelspec": {
   "display_name": "Python 3",
   "language": "python",
   "name": "python3"
  },
  "language_info": {
   "codemirror_mode": {
    "name": "ipython",
    "version": 3
   },
   "file_extension": ".py",
   "mimetype": "text/x-python",
   "name": "python",
   "nbconvert_exporter": "python",
   "pygments_lexer": "ipython3",
   "version": "3.7.0"
  }
 },
 "nbformat": 4,
 "nbformat_minor": 2
}
