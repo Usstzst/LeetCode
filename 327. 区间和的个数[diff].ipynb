{
 "cells": [
  {
   "cell_type": "markdown",
   "metadata": {},
   "source": [
    "# 题目原意"
   ]
  },
  {
   "cell_type": "raw",
   "metadata": {},
   "source": [
    "给定一个整数数组 nums，返回区间和在 [lower, upper] 之间的个数，包含 lower 和 upper。\n",
    "区间和 S(i, j) 表示在 nums 中，位置从 i 到 j 的元素之和，包含 i 和 j (i ≤ j)。\n",
    "\n",
    "说明:\n",
    "最直观的算法复杂度是 O(n2) ，请在此基础上优化你的算法。\n"
   ]
  },
  {
   "cell_type": "raw",
   "metadata": {},
   "source": [
    "示例:\n",
    "输入: nums = [-2,5,-1], lower = -2, upper = 2,\n",
    "输出: 3 \n",
    "解释: 3个区间分别是: [0,0], [2,2], [0,2]，它们表示的和分别为: -2, -1, 2。"
   ]
  },
  {
   "cell_type": "markdown",
   "metadata": {},
   "source": [
    "## 思路一：归并排序"
   ]
  },
  {
   "cell_type": "raw",
   "metadata": {},
   "source": [
    "别人的思路，并没有看懂，太难了！！！"
   ]
  },
  {
   "cell_type": "code",
   "execution_count": 1,
   "metadata": {},
   "outputs": [],
   "source": [
    "class Solution(object):\n",
    "    def countRangeSum(self, nums, lower, upper):\n",
    "        \"\"\"\n",
    "        :type nums: List[int]\n",
    "        :type lower: int\n",
    "        :type upper: int\n",
    "        :rtype: int\n",
    "        \"\"\"\n",
    "        size = len(nums)\n",
    "        sums = [0] * (size + 1)\n",
    "        for x in range(1, size + 1):\n",
    "            sums[x] += nums[x - 1] + sums[x - 1]\n",
    "        INF = max(sums)\n",
    "\n",
    "        def mergeSort(lo, hi):\n",
    "            if lo == hi: return 0\n",
    "            mi = (lo + hi) / 2\n",
    "            cnt = mergeSort(lo, mi) + mergeSort(mi + 1, hi)\n",
    "            x = y = lo\n",
    "            for i in range(mi + 1, hi + 1): \n",
    "                while x <= mi and sums[i] - sums[x] >= lower:\n",
    "                    x += 1\n",
    "                while y <= mi and sums[i] - sums[y] > upper:\n",
    "                    y += 1\n",
    "                cnt += x - y\n",
    "            part = sums[lo : hi + 1]\n",
    "\n",
    "            l, h = lo, mi + 1\n",
    "            for i in range(lo, hi + 1):\n",
    "                x = part[l - lo] if l <= mi else INF\n",
    "                y = part[h - lo] if h <= hi else INF\n",
    "                if x < y: l += 1\n",
    "                else: h += 1\n",
    "                sums[i] = min(x, y)\n",
    "            return cnt\n",
    "\n",
    "        return mergeSort(0, size)"
   ]
  },
  {
   "cell_type": "markdown",
   "metadata": {},
   "source": [
    "## 思路二"
   ]
  },
  {
   "cell_type": "code",
   "execution_count": 2,
   "metadata": {},
   "outputs": [],
   "source": [
    "class Solution(object):\n",
    "    def countRangeSum(self, nums, lower, upper):\n",
    "        \"\"\"\n",
    "        :type nums: List[int]\n",
    "        :type lower: int\n",
    "        :type upper: int\n",
    "        :rtype: int\n",
    "        \"\"\"\n",
    "        sums = nums[:]\n",
    "        for x in range(1, len(sums)):\n",
    "            sums[x] += sums[x - 1]\n",
    "        osums = sorted(set(sums))\n",
    "        ft = FenwickTree(len(osums))\n",
    "        ans = 0\n",
    "        for sumi in sums:\n",
    "            left = bisect.bisect_left(osums, sumi - upper)\n",
    "            right = bisect.bisect_right(osums, sumi - lower)\n",
    "            ans += ft.sum(right) - ft.sum(left) + (lower <= sumi <= upper)\n",
    "            ft.add(bisect.bisect_right(osums, sumi), 1)\n",
    "        return ans\n",
    "\n",
    "class FenwickTree(object):\n",
    "    def __init__(self, n):\n",
    "        self.n = n\n",
    "        self.sums = [0] * (n + 1)\n",
    "    def add(self, x, val):\n",
    "        while x <= self.n:\n",
    "            self.sums[x] += val\n",
    "            x += self.lowbit(x)\n",
    "    def lowbit(self, x):\n",
    "        return x & -x\n",
    "    def sum(self, x):\n",
    "        res = 0\n",
    "        while x > 0:\n",
    "            res += self.sums[x]\n",
    "            x -= self.lowbit(x)\n",
    "        return res\n"
   ]
  }
 ],
 "metadata": {
  "kernelspec": {
   "display_name": "Python 3",
   "language": "python",
   "name": "python3"
  },
  "language_info": {
   "codemirror_mode": {
    "name": "ipython",
    "version": 3
   },
   "file_extension": ".py",
   "mimetype": "text/x-python",
   "name": "python",
   "nbconvert_exporter": "python",
   "pygments_lexer": "ipython3",
   "version": "3.6.5"
  }
 },
 "nbformat": 4,
 "nbformat_minor": 2
}
