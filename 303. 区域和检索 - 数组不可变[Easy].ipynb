{
 "cells": [
  {
   "cell_type": "markdown",
   "metadata": {},
   "source": [
    "# 题目原意"
   ]
  },
  {
   "cell_type": "raw",
   "metadata": {},
   "source": [
    "给定一个整数数组  nums，求出数组从索引 i 到 j  (i ≤ j) 范围内元素的总和，包含 i,  j 两点。"
   ]
  },
  {
   "cell_type": "raw",
   "metadata": {},
   "source": [
    "给定 nums = [-2, 0, 3, -5, 2, -1]，求和函数为 sumRange()\n",
    "\n",
    "sumRange(0, 2) -> 1\n",
    "sumRange(2, 5) -> -1\n",
    "sumRange(0, 5) -> -3"
   ]
  },
  {
   "cell_type": "markdown",
   "metadata": {},
   "source": [
    "## 思路一"
   ]
  },
  {
   "cell_type": "raw",
   "metadata": {},
   "source": [
    "在初始化的时候，将从第一个元素开始到当前位置的所有元素的和求出来，存放到数组sums中。那么每次求一个范围的和时，只要计算两个下标处和的差即可。"
   ]
  },
  {
   "cell_type": "code",
   "execution_count": 2,
   "metadata": {},
   "outputs": [],
   "source": [
    "class NumArray(object):\n",
    "    def __init__(self, nums):\n",
    "        \"\"\"\n",
    "        initialize your data structure here.\n",
    "        :type nums: List[int]\n",
    "        \"\"\"\n",
    "        self.sums = [0] * (len(nums)+1)\n",
    "        for i in range(len(nums)):\n",
    "            self.sums[i+1] = self.sums[i] + nums[i]\n",
    "\n",
    "    def sumRange(self, i, j):\n",
    "        \"\"\"\n",
    "        sum of elements nums[i..j], inclusive.\n",
    "        :type i: int\n",
    "        :type j: int\n",
    "        :rtype: int\n",
    "        \"\"\"\n",
    "        return self.sums[j+1] - self.sums[i]\n"
   ]
  },
  {
   "cell_type": "code",
   "execution_count": null,
   "metadata": {},
   "outputs": [],
   "source": [
    "class NumArray(object):\n",
    "\n",
    "    def __init__(self, nums):\n",
    "        \"\"\"\n",
    "        :type nums: List[int]\n",
    "        \"\"\"\n",
    "        self.add = [0]\n",
    "        for i in nums:\n",
    "            self.add.append(self.add[-1] + i)\n",
    "\n",
    "\n",
    "    def sumRange(self, i, j):\n",
    "        \"\"\"\n",
    "        :type i: int\n",
    "        :type j: int\n",
    "        :rtype: int\n",
    "        \"\"\"\n",
    "        return self.add[j+1] - self.add[i]\n"
   ]
  }
 ],
 "metadata": {
  "kernelspec": {
   "display_name": "Python 3",
   "language": "python",
   "name": "python3"
  },
  "language_info": {
   "codemirror_mode": {
    "name": "ipython",
    "version": 3
   },
   "file_extension": ".py",
   "mimetype": "text/x-python",
   "name": "python",
   "nbconvert_exporter": "python",
   "pygments_lexer": "ipython3",
   "version": "3.6.5"
  }
 },
 "nbformat": 4,
 "nbformat_minor": 2
}
