{
 "cells": [
  {
   "cell_type": "markdown",
   "metadata": {},
   "source": [
    "# 题目原意"
   ]
  },
  {
   "cell_type": "raw",
   "metadata": {},
   "source": [
    "给定由一些正数（代表长度）组成的数组 A，返回由其中三个长度组成的、面积不为零的三角形的最大周长。\n",
    "\n",
    "如果不能形成任何面积不为零的三角形，返回 0。\n",
    "\n"
   ]
  },
  {
   "cell_type": "raw",
   "metadata": {},
   "source": [
    "示例 1：\n",
    "输入：[2,1,2]\n",
    "输出：5\n",
    "\n",
    "示例 2：\n",
    "输入：[1,2,1]\n",
    "输出：0\n",
    "\n",
    "示例 3：\n",
    "输入：[3,2,3,4]\n",
    "输出：10\n",
    "\n",
    "示例 4：\n",
    "输入：[3,6,2,3]\n",
    "输出：8\n",
    " \n",
    "\n",
    "提示：\n",
    "3 <= A.length <= 10000\n",
    "1 <= A[i] <= 10^6"
   ]
  },
  {
   "cell_type": "markdown",
   "metadata": {},
   "source": [
    "## 思路一"
   ]
  },
  {
   "cell_type": "raw",
   "metadata": {},
   "source": [
    "找到三角形的最大周长，首先要满足选择的三条边能够构成三角形即：两小边之和大于第三边，在这些三角形中找到最大周长\n",
    "想到了排序，然后从后往前遍历。\n",
    "注意：边界取值（for i in range(len(A), 1, -1） 最小值到2)"
   ]
  },
  {
   "cell_type": "code",
   "execution_count": 2,
   "metadata": {},
   "outputs": [],
   "source": [
    "class Solution(object):\n",
    "    def largestPerimeter(self, A):\n",
    "        \"\"\"\n",
    "        :type A: List[int]\n",
    "        :rtype: int\n",
    "        \"\"\"\n",
    "        if len(A)<3:\n",
    "            return 0\n",
    "        else:\n",
    "            A.sort()\n",
    "            for i in range(len(A)-1, 1, -1):\n",
    "                if A[i-1]+A[i-2] > A[i]:\n",
    "                    return A[i]+A[i-1]+A[i-2]\n",
    "            else:\n",
    "                return 0\n",
    "\n",
    "            \n",
    "        "
   ]
  }
 ],
 "metadata": {
  "kernelspec": {
   "display_name": "Python 3",
   "language": "python",
   "name": "python3"
  },
  "language_info": {
   "codemirror_mode": {
    "name": "ipython",
    "version": 3
   },
   "file_extension": ".py",
   "mimetype": "text/x-python",
   "name": "python",
   "nbconvert_exporter": "python",
   "pygments_lexer": "ipython3",
   "version": "3.7.0"
  }
 },
 "nbformat": 4,
 "nbformat_minor": 2
}
