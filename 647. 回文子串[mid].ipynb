{
 "cells": [
  {
   "cell_type": "markdown",
   "metadata": {},
   "source": [
    "# 题目原意"
   ]
  },
  {
   "cell_type": "raw",
   "metadata": {},
   "source": [
    "给定一个字符串，你的任务是计算这个字符串中有多少个回文子串。\n",
    "\n",
    "具有不同开始位置或结束位置的子串，即使是由相同的字符组成，也会被计为是不同的子串。\n"
   ]
  },
  {
   "cell_type": "raw",
   "metadata": {},
   "source": [
    "示例 1:\n",
    "输入: \"abc\"\n",
    "输出: 3\n",
    "解释: 三个回文子串: \"a\", \"b\", \"c\".\n",
    "\n",
    "示例 2:\n",
    "输入: \"aaa\"\n",
    "输出: 6\n",
    "说明: 6个回文子串: \"a\", \"a\", \"a\", \"aa\", \"aa\", \"aaa\"."
   ]
  },
  {
   "cell_type": "markdown",
   "metadata": {},
   "source": [
    "## 思路一： 暴力循环"
   ]
  },
  {
   "cell_type": "code",
   "execution_count": 3,
   "metadata": {},
   "outputs": [],
   "source": [
    "class Solution(object):\n",
    "    def countSubstrings(self, s):\n",
    "        \"\"\"\n",
    "        :type s: str\n",
    "        :rtype: int\n",
    "        \"\"\"\n",
    "        count = 0\n",
    "        for i in range(len(s)):\n",
    "            for j in range(i, len(s)):\n",
    "                if s[i:j + 1] == s[i:j + 1][::-1]:\n",
    "                    count += 1\n",
    "        return count\n"
   ]
  },
  {
   "cell_type": "markdown",
   "metadata": {},
   "source": [
    "## 思路二：动态规划"
   ]
  },
  {
   "cell_type": "code",
   "execution_count": 4,
   "metadata": {},
   "outputs": [],
   "source": [
    "class Solution(object):\n",
    "    def countSubstrings(self, s):\n",
    "        \"\"\"\n",
    "        :type s: str\n",
    "        :rtype: int\n",
    "        \"\"\"\n",
    "        n = len(s)\n",
    "        count = 0\n",
    "        start, end, maxL = 0, 0, 0\n",
    "        dp = [[0] * n for _ in range(n)]\n",
    "        for i in range(n):\n",
    "            for j in range(i):\n",
    "                dp[j][i] = (s[j] == s[i]) & ((i - j < 2) | dp[j + 1][i - 1])\n",
    "                if dp[j][i]:\n",
    "                    count += 1\n",
    "            dp[i][i] = 1\n",
    "            count += 1\n",
    "        return count\n"
   ]
  }
 ],
 "metadata": {
  "kernelspec": {
   "display_name": "Python 3",
   "language": "python",
   "name": "python3"
  },
  "language_info": {
   "codemirror_mode": {
    "name": "ipython",
    "version": 3
   },
   "file_extension": ".py",
   "mimetype": "text/x-python",
   "name": "python",
   "nbconvert_exporter": "python",
   "pygments_lexer": "ipython3",
   "version": "3.7.0"
  }
 },
 "nbformat": 4,
 "nbformat_minor": 2
}
