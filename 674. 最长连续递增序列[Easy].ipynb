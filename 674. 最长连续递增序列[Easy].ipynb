{
 "cells": [
  {
   "cell_type": "markdown",
   "metadata": {},
   "source": [
    "# 题目原意"
   ]
  },
  {
   "cell_type": "raw",
   "metadata": {},
   "source": [
    "给定一个未经排序的整数数组，找到最长且连续的的递增序列。"
   ]
  },
  {
   "cell_type": "raw",
   "metadata": {},
   "source": [
    "示例 1:\n",
    "输入: [1,3,5,4,7]\n",
    "输出: 3\n",
    "解释: 最长连续递增序列是 [1,3,5], 长度为3。\n",
    "尽管 [1,3,5,7] 也是升序的子序列, 但它不是连续的，因为5和7在原数组里被4隔开。 \n",
    "\n",
    "示例 2:\n",
    "输入: [2,2,2,2,2]\n",
    "输出: 1\n",
    "解释: 最长连续递增序列是 [2], 长度为1。\n",
    "\n",
    "注意：数组长度不会超过10000。"
   ]
  },
  {
   "cell_type": "markdown",
   "metadata": {},
   "source": [
    "## 思路一"
   ]
  },
  {
   "cell_type": "code",
   "execution_count": 2,
   "metadata": {},
   "outputs": [],
   "source": [
    "class Solution(object):\n",
    "    def findLengthOfLCIS(self, nums):\n",
    "        \"\"\"\n",
    "        :type nums: List[int]\n",
    "        :rtype: int\n",
    "        \"\"\"\n",
    "        if not nums:\n",
    "            return 0\n",
    "        N = len(nums)\n",
    "        dp = 1\n",
    "        res = 1\n",
    "        for i in range(1,N):\n",
    "            if nums[i] > nums[i-1]:\n",
    "                dp += 1\n",
    "                res = max(res, dp)\n",
    "            else:\n",
    "                dp = 1\n",
    "        return res\n",
    "     "
   ]
  },
  {
   "cell_type": "markdown",
   "metadata": {},
   "source": [
    "## 思路二：动态规划"
   ]
  },
  {
   "cell_type": "raw",
   "metadata": {},
   "source": [
    "直接使用dp作为到某个位置的最长连续子序列。所以，如果当前的值比前一个值大，那么dp应该是前面的一个位置的数值+1，否则当前的值应该是1。另外需要注意的是当输入是空的时候，应该返回0."
   ]
  },
  {
   "cell_type": "code",
   "execution_count": 3,
   "metadata": {},
   "outputs": [],
   "source": [
    "class Solution(object):\n",
    "    def findLengthOfLCIS(self, nums):\n",
    "        \"\"\"\n",
    "        :type nums: List[int]\n",
    "        :rtype: int\n",
    "        \"\"\"\n",
    "        if not nums: return 0\n",
    "        N = len(nums)\n",
    "        dp = [1]*N\n",
    "        for i in range(1, N):\n",
    "            if nums[i] > nums[i-1]:\n",
    "                dp[i] = dp[i-1]+1\n",
    "        return max(dp)\n",
    "\n"
   ]
  }
 ],
 "metadata": {
  "kernelspec": {
   "display_name": "Python 3",
   "language": "python",
   "name": "python3"
  },
  "language_info": {
   "codemirror_mode": {
    "name": "ipython",
    "version": 3
   },
   "file_extension": ".py",
   "mimetype": "text/x-python",
   "name": "python",
   "nbconvert_exporter": "python",
   "pygments_lexer": "ipython3",
   "version": "3.6.5"
  }
 },
 "nbformat": 4,
 "nbformat_minor": 2
}
