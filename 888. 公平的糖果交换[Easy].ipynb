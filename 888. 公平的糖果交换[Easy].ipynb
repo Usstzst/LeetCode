{
 "cells": [
  {
   "cell_type": "markdown",
   "metadata": {},
   "source": [
    "# 题目原意"
   ]
  },
  {
   "cell_type": "raw",
   "metadata": {},
   "source": [
    "爱丽丝和鲍勃有不同大小的糖果棒：A[i] 是爱丽丝拥有的第 i 块糖的大小，B[j] 是鲍勃拥有的第 j 块糖的大小。\n",
    "\n",
    "因为他们是朋友，所以他们想交换一个糖果棒，这样交换后，他们都有相同的糖果总量。（一个人拥有的糖果总量是他们拥有的糖果棒大小的总和。）\n",
    "\n",
    "返回一个整数数组 ans，其中 ans[0] 是爱丽丝必须交换的糖果棒的大小，ans[1] 是 Bob 必须交换的糖果棒的大小。\n",
    "\n",
    "如果有多个答案，你可以返回其中任何一个。保证答案存在"
   ]
  },
  {
   "cell_type": "raw",
   "metadata": {},
   "source": [
    "示例 1：\n",
    "输入：A = [1,1], B = [2,2]\n",
    "输出：[1,2]\n",
    "\n",
    "示例 2：\n",
    "输入：A = [1,2], B = [2,3]\n",
    "输出：[1,2]\n",
    "\n",
    "示例 3：\n",
    "输入：A = [2], B = [1,3]\n",
    "输出：[2,3]\n",
    "\n",
    "示例 4：\n",
    "输入：A = [1,2,5], B = [2,4]\n",
    "输出：[5,4]"
   ]
  },
  {
   "cell_type": "markdown",
   "metadata": {},
   "source": [
    "## 思路一"
   ]
  },
  {
   "cell_type": "raw",
   "metadata": {},
   "source": [
    "分析一下可以看出，交换之后A,B数组的和都应该是相同的，也就是两个数组和的平均数。\n",
    "\n",
    "所以对数组A进行遍历，那么对于每个数字，得到除去该数值以外其他数字的和；使用平均数减去这个和，看这个结果是否在数组B中，如果在返回即可。\n",
    "\n",
    "也就是说，通过上面的方法，我们使得数组A的和等于平均数，这种情况下，数组B的和也为平均数。\n"
   ]
  },
  {
   "cell_type": "code",
   "execution_count": 1,
   "metadata": {},
   "outputs": [],
   "source": [
    "class Solution(object):\n",
    "    def fairCandySwap(self, A, B):\n",
    "        \"\"\"\n",
    "        :type A: List[int]\n",
    "        :type B: List[int]\n",
    "        :rtype: List[int]\n",
    "        \"\"\"\n",
    "        sum_A, sum_B, set_B = sum(A), sum(B), set(B)\n",
    "        target = (sum_A + sum_B) / 2\n",
    "        for a in A:\n",
    "            b = target - (sum_A - a)\n",
    "            if b >= 1 and b <= 100000 and b in set_B:\n",
    "                return [a,b]\n",
    "        \n",
    "       "
   ]
  }
 ],
 "metadata": {
  "kernelspec": {
   "display_name": "Python 3",
   "language": "python",
   "name": "python3"
  },
  "language_info": {
   "codemirror_mode": {
    "name": "ipython",
    "version": 3
   },
   "file_extension": ".py",
   "mimetype": "text/x-python",
   "name": "python",
   "nbconvert_exporter": "python",
   "pygments_lexer": "ipython3",
   "version": "3.6.5"
  }
 },
 "nbformat": 4,
 "nbformat_minor": 2
}
